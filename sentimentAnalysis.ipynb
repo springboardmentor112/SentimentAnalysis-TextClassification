{
 "cells": [
  {
   "cell_type": "markdown",
   "id": "51b822a5",
   "metadata": {},
   "source": [
    "# Introduction\n",
    "\n",
    "We have a dataset for reviews on an applications used for schedule planning and to-dos. As a Data Science Intern, we will perform necessary data pre-processing and analysis to get insisghts on the data. Final goal is to derive certain results on sentiment analysis for the reviews on the applications.\n",
    "\n",
    "We will start with performing EDA on the data. For that, let's load the data and create our dataframe :"
   ]
  },
  {
   "cell_type": "code",
   "execution_count": 1,
   "id": "29a2aab2",
   "metadata": {},
   "outputs": [
    {
     "name": "stderr",
     "output_type": "stream",
     "text": [
      "[nltk_data] Downloading package stopwords to\n",
      "[nltk_data]     C:\\Users\\Ankur\\AppData\\Roaming\\nltk_data...\n",
      "[nltk_data]   Package stopwords is already up-to-date!\n",
      "[nltk_data] Downloading package wordnet to\n",
      "[nltk_data]     C:\\Users\\Ankur\\AppData\\Roaming\\nltk_data...\n",
      "[nltk_data]   Package wordnet is already up-to-date!\n"
     ]
    },
    {
     "data": {
      "text/plain": [
       "True"
      ]
     },
     "execution_count": 1,
     "metadata": {},
     "output_type": "execute_result"
    }
   ],
   "source": [
    "#libraries & packages\n",
    "import  pandas as pd\n",
    "import re\n",
    "import nltk\n",
    "nltk.download('stopwords')\n",
    "from nltk.corpus import stopwords\n",
    "from nltk.stem import PorterStemmer\n",
    "from nltk.stem import WordNetLemmatizer\n",
    "nltk.download('wordnet')"
   ]
  },
  {
   "cell_type": "code",
   "execution_count": 2,
   "id": "b1ca86e4",
   "metadata": {},
   "outputs": [
    {
     "data": {
      "text/html": [
       "<div>\n",
       "<style scoped>\n",
       "    .dataframe tbody tr th:only-of-type {\n",
       "        vertical-align: middle;\n",
       "    }\n",
       "\n",
       "    .dataframe tbody tr th {\n",
       "        vertical-align: top;\n",
       "    }\n",
       "\n",
       "    .dataframe thead th {\n",
       "        text-align: right;\n",
       "    }\n",
       "</style>\n",
       "<table border=\"1\" class=\"dataframe\">\n",
       "  <thead>\n",
       "    <tr style=\"text-align: right;\">\n",
       "      <th></th>\n",
       "      <th>reviewId</th>\n",
       "      <th>userName</th>\n",
       "      <th>userImage</th>\n",
       "      <th>content</th>\n",
       "      <th>thumbsUpCount</th>\n",
       "      <th>reviewCreatedVersion</th>\n",
       "      <th>at</th>\n",
       "      <th>replyContent</th>\n",
       "      <th>repliedAt</th>\n",
       "      <th>appVersion</th>\n",
       "      <th>sortOrder</th>\n",
       "      <th>appId</th>\n",
       "    </tr>\n",
       "  </thead>\n",
       "  <tbody>\n",
       "    <tr>\n",
       "      <th>9135</th>\n",
       "      <td>fb2901aa-57fe-4b3f-8c30-a199732fc615</td>\n",
       "      <td>Kay-Uwe Wagner</td>\n",
       "      <td>https://play-lh.googleusercontent.com/a-/ALV-U...</td>\n",
       "      <td>This app should get a \"-1\". Almost all task li...</td>\n",
       "      <td>13</td>\n",
       "      <td>2.114.690.02</td>\n",
       "      <td>25-02-2024 16:01</td>\n",
       "      <td>NaN</td>\n",
       "      <td>NaN</td>\n",
       "      <td>2.114.690.02</td>\n",
       "      <td>newest</td>\n",
       "      <td>com.microsoft.todos</td>\n",
       "    </tr>\n",
       "    <tr>\n",
       "      <th>15263</th>\n",
       "      <td>4799ec89-bdfc-4faf-a6a2-b6009591f03c</td>\n",
       "      <td>A Google user</td>\n",
       "      <td>https://play-lh.googleusercontent.com/EGemoI2N...</td>\n",
       "      <td>this app had been good to me for years, but th...</td>\n",
       "      <td>0</td>\n",
       "      <td>2.49.0</td>\n",
       "      <td>21-01-2024 20:06</td>\n",
       "      <td>Hi, which view do you refer to? Can you maybe ...</td>\n",
       "      <td>23-01-2024 09:11</td>\n",
       "      <td>2.49.0</td>\n",
       "      <td>most_relevant</td>\n",
       "      <td>com.appgenix.bizcal</td>\n",
       "    </tr>\n",
       "    <tr>\n",
       "      <th>8385</th>\n",
       "      <td>99d2117a-01bc-41d6-911f-13627d59d609</td>\n",
       "      <td>josiah wako</td>\n",
       "      <td>https://play-lh.googleusercontent.com/a/ACg8oc...</td>\n",
       "      <td>I like it because it is simple to and unlike s...</td>\n",
       "      <td>0</td>\n",
       "      <td>1.8.0</td>\n",
       "      <td>10-11-2021 20:05</td>\n",
       "      <td>NaN</td>\n",
       "      <td>NaN</td>\n",
       "      <td>1.8.0</td>\n",
       "      <td>most_relevant</td>\n",
       "      <td>com.habitnow</td>\n",
       "    </tr>\n",
       "    <tr>\n",
       "      <th>13463</th>\n",
       "      <td>40bf7135-3c38-49c1-84f7-a09a6ac3d747</td>\n",
       "      <td>A Google user</td>\n",
       "      <td>https://play-lh.googleusercontent.com/EGemoI2N...</td>\n",
       "      <td>Tasks that repeat more than once daily dont wo...</td>\n",
       "      <td>19</td>\n",
       "      <td>1.31</td>\n",
       "      <td>20-08-2019 03:10</td>\n",
       "      <td>Hi Carlton, Tasks will always honour the sched...</td>\n",
       "      <td>20-08-2019 07:33</td>\n",
       "      <td>1.31</td>\n",
       "      <td>most_relevant</td>\n",
       "      <td>com.tasks.android</td>\n",
       "    </tr>\n",
       "    <tr>\n",
       "      <th>6379</th>\n",
       "      <td>a5e915fd-ce9d-4fdb-8a77-931e3b4aa92e</td>\n",
       "      <td>Glenn Weaver</td>\n",
       "      <td>https://play-lh.googleusercontent.com/a-/ALV-U...</td>\n",
       "      <td>Like others have said in here, the widget free...</td>\n",
       "      <td>2</td>\n",
       "      <td>1.5.15</td>\n",
       "      <td>19-08-2020 17:11</td>\n",
       "      <td>NaN</td>\n",
       "      <td>NaN</td>\n",
       "      <td>1.5.15</td>\n",
       "      <td>newest</td>\n",
       "      <td>com.oristats.habitbull</td>\n",
       "    </tr>\n",
       "  </tbody>\n",
       "</table>\n",
       "</div>"
      ],
      "text/plain": [
       "                                   reviewId        userName  \\\n",
       "9135   fb2901aa-57fe-4b3f-8c30-a199732fc615  Kay-Uwe Wagner   \n",
       "15263  4799ec89-bdfc-4faf-a6a2-b6009591f03c   A Google user   \n",
       "8385   99d2117a-01bc-41d6-911f-13627d59d609     josiah wako   \n",
       "13463  40bf7135-3c38-49c1-84f7-a09a6ac3d747   A Google user   \n",
       "6379   a5e915fd-ce9d-4fdb-8a77-931e3b4aa92e    Glenn Weaver   \n",
       "\n",
       "                                               userImage  \\\n",
       "9135   https://play-lh.googleusercontent.com/a-/ALV-U...   \n",
       "15263  https://play-lh.googleusercontent.com/EGemoI2N...   \n",
       "8385   https://play-lh.googleusercontent.com/a/ACg8oc...   \n",
       "13463  https://play-lh.googleusercontent.com/EGemoI2N...   \n",
       "6379   https://play-lh.googleusercontent.com/a-/ALV-U...   \n",
       "\n",
       "                                                 content  thumbsUpCount  \\\n",
       "9135   This app should get a \"-1\". Almost all task li...             13   \n",
       "15263  this app had been good to me for years, but th...              0   \n",
       "8385   I like it because it is simple to and unlike s...              0   \n",
       "13463  Tasks that repeat more than once daily dont wo...             19   \n",
       "6379   Like others have said in here, the widget free...              2   \n",
       "\n",
       "      reviewCreatedVersion                at  \\\n",
       "9135          2.114.690.02  25-02-2024 16:01   \n",
       "15263               2.49.0  21-01-2024 20:06   \n",
       "8385                 1.8.0  10-11-2021 20:05   \n",
       "13463                 1.31  20-08-2019 03:10   \n",
       "6379                1.5.15  19-08-2020 17:11   \n",
       "\n",
       "                                            replyContent         repliedAt  \\\n",
       "9135                                                 NaN               NaN   \n",
       "15263  Hi, which view do you refer to? Can you maybe ...  23-01-2024 09:11   \n",
       "8385                                                 NaN               NaN   \n",
       "13463  Hi Carlton, Tasks will always honour the sched...  20-08-2019 07:33   \n",
       "6379                                                 NaN               NaN   \n",
       "\n",
       "         appVersion      sortOrder                   appId  \n",
       "9135   2.114.690.02         newest     com.microsoft.todos  \n",
       "15263        2.49.0  most_relevant     com.appgenix.bizcal  \n",
       "8385          1.8.0  most_relevant            com.habitnow  \n",
       "13463          1.31  most_relevant       com.tasks.android  \n",
       "6379         1.5.15         newest  com.oristats.habitbull  "
      ]
     },
     "execution_count": 2,
     "metadata": {},
     "output_type": "execute_result"
    }
   ],
   "source": [
    "# read csv file\n",
    "reviewData = pd.read_csv(\"US_project.csv\")\n",
    "\n",
    "# showing data \n",
    "reviewData.sample(5)"
   ]
  },
  {
   "cell_type": "code",
   "execution_count": 3,
   "id": "92c4b001",
   "metadata": {},
   "outputs": [
    {
     "data": {
      "text/plain": [
       "(16787, 12)"
      ]
     },
     "execution_count": 3,
     "metadata": {},
     "output_type": "execute_result"
    }
   ],
   "source": [
    " # Also, let's check rows & columns of the dataframe \n",
    "reviewData.shape"
   ]
  },
  {
   "cell_type": "code",
   "execution_count": 4,
   "id": "f2c9d12e",
   "metadata": {},
   "outputs": [
    {
     "name": "stdout",
     "output_type": "stream",
     "text": [
      "<class 'pandas.core.frame.DataFrame'>\n",
      "RangeIndex: 16787 entries, 0 to 16786\n",
      "Data columns (total 12 columns):\n",
      " #   Column                Non-Null Count  Dtype \n",
      "---  ------                --------------  ----- \n",
      " 0   reviewId              16787 non-null  object\n",
      " 1   userName              16787 non-null  object\n",
      " 2   userImage             16787 non-null  object\n",
      " 3   content               16786 non-null  object\n",
      " 4   thumbsUpCount         16787 non-null  int64 \n",
      " 5   reviewCreatedVersion  14430 non-null  object\n",
      " 6   at                    16787 non-null  object\n",
      " 7   replyContent          9168 non-null   object\n",
      " 8   repliedAt             9168 non-null   object\n",
      " 9   appVersion            14430 non-null  object\n",
      " 10  sortOrder             16787 non-null  object\n",
      " 11  appId                 16787 non-null  object\n",
      "dtypes: int64(1), object(11)\n",
      "memory usage: 1.5+ MB\n"
     ]
    }
   ],
   "source": [
    "# Also some basic information of dataset like memory uage and data types of columns \n",
    "reviewData.info()"
   ]
  },
  {
   "cell_type": "markdown",
   "id": "a1bf62f1",
   "metadata": {},
   "source": [
    "# Data Pre-processing"
   ]
  },
  {
   "cell_type": "markdown",
   "id": "8f15b0a8",
   "metadata": {},
   "source": [
    "## Removing Irrelevant Data"
   ]
  },
  {
   "cell_type": "markdown",
   "id": "91d5937f",
   "metadata": {},
   "source": [
    "As we can see from the sample data of the dataframe, the **userImage** column consisting of URLs has no relevancy to our analysis so it is better to get rid of it and reduce the size of our dataframe to help aid faster processing. Further the columns **reviewCreatedVersion** & **appVersion** have the same values creating redundancy so one of it will be removed as well.\n",
    "\n",
    "**_Note_**: Keep an eye on the memory usage of data frame. It will be reducing as we clean our data further."
   ]
  },
  {
   "cell_type": "code",
   "execution_count": 5,
   "id": "a87a2251",
   "metadata": {
    "scrolled": false
   },
   "outputs": [
    {
     "name": "stdout",
     "output_type": "stream",
     "text": [
      "<class 'pandas.core.frame.DataFrame'>\n",
      "RangeIndex: 16787 entries, 0 to 16786\n",
      "Data columns (total 10 columns):\n",
      " #   Column         Non-Null Count  Dtype \n",
      "---  ------         --------------  ----- \n",
      " 0   reviewId       16787 non-null  object\n",
      " 1   userName       16787 non-null  object\n",
      " 2   content        16786 non-null  object\n",
      " 3   thumbsUpCount  16787 non-null  int64 \n",
      " 4   at             16787 non-null  object\n",
      " 5   replyContent   9168 non-null   object\n",
      " 6   repliedAt      9168 non-null   object\n",
      " 7   appVersion     14430 non-null  object\n",
      " 8   sortOrder      16787 non-null  object\n",
      " 9   appId          16787 non-null  object\n",
      "dtypes: int64(1), object(9)\n",
      "memory usage: 1.3+ MB\n"
     ]
    }
   ],
   "source": [
    "# removing irrevalent data\n",
    "reviewData.drop(columns=['userImage','reviewCreatedVersion'],axis=1,inplace=True)\n",
    "\n",
    "reviewData.info()"
   ]
  },
  {
   "cell_type": "markdown",
   "id": "ce450c43",
   "metadata": {},
   "source": [
    "## Fixing Datatypes"
   ]
  },
  {
   "cell_type": "code",
   "execution_count": 6,
   "id": "bb10c7a8",
   "metadata": {},
   "outputs": [
    {
     "data": {
      "text/html": [
       "<div>\n",
       "<style scoped>\n",
       "    .dataframe tbody tr th:only-of-type {\n",
       "        vertical-align: middle;\n",
       "    }\n",
       "\n",
       "    .dataframe tbody tr th {\n",
       "        vertical-align: top;\n",
       "    }\n",
       "\n",
       "    .dataframe thead th {\n",
       "        text-align: right;\n",
       "    }\n",
       "</style>\n",
       "<table border=\"1\" class=\"dataframe\">\n",
       "  <thead>\n",
       "    <tr style=\"text-align: right;\">\n",
       "      <th></th>\n",
       "      <th>thumbsUpCount</th>\n",
       "    </tr>\n",
       "  </thead>\n",
       "  <tbody>\n",
       "    <tr>\n",
       "      <th>count</th>\n",
       "      <td>16787.000000</td>\n",
       "    </tr>\n",
       "    <tr>\n",
       "      <th>mean</th>\n",
       "      <td>9.658962</td>\n",
       "    </tr>\n",
       "    <tr>\n",
       "      <th>std</th>\n",
       "      <td>32.028656</td>\n",
       "    </tr>\n",
       "    <tr>\n",
       "      <th>min</th>\n",
       "      <td>0.000000</td>\n",
       "    </tr>\n",
       "    <tr>\n",
       "      <th>25%</th>\n",
       "      <td>0.000000</td>\n",
       "    </tr>\n",
       "    <tr>\n",
       "      <th>50%</th>\n",
       "      <td>1.000000</td>\n",
       "    </tr>\n",
       "    <tr>\n",
       "      <th>75%</th>\n",
       "      <td>6.000000</td>\n",
       "    </tr>\n",
       "    <tr>\n",
       "      <th>max</th>\n",
       "      <td>1951.000000</td>\n",
       "    </tr>\n",
       "  </tbody>\n",
       "</table>\n",
       "</div>"
      ],
      "text/plain": [
       "       thumbsUpCount\n",
       "count   16787.000000\n",
       "mean        9.658962\n",
       "std        32.028656\n",
       "min         0.000000\n",
       "25%         0.000000\n",
       "50%         1.000000\n",
       "75%         6.000000\n",
       "max      1951.000000"
      ]
     },
     "execution_count": 6,
     "metadata": {},
     "output_type": "execute_result"
    }
   ],
   "source": [
    "reviewData.describe()"
   ]
  },
  {
   "cell_type": "markdown",
   "id": "6af23d5d",
   "metadata": {},
   "source": [
    "**_info()_** shows most of the colume have a **object** datatype which is default datatype for non numeric values and one of it is **int64** datatype but using **_describe()_** we see that the maximum value for the integer datatype is _1951_ so **int16** should be enough."
   ]
  },
  {
   "cell_type": "code",
   "execution_count": 7,
   "id": "d4f21afe",
   "metadata": {},
   "outputs": [
    {
     "name": "stdout",
     "output_type": "stream",
     "text": [
      "<class 'pandas.core.frame.DataFrame'>\n",
      "RangeIndex: 16787 entries, 0 to 16786\n",
      "Data columns (total 10 columns):\n",
      " #   Column         Non-Null Count  Dtype \n",
      "---  ------         --------------  ----- \n",
      " 0   reviewId       16787 non-null  object\n",
      " 1   userName       16787 non-null  object\n",
      " 2   content        16786 non-null  object\n",
      " 3   thumbsUpCount  16787 non-null  int16 \n",
      " 4   at             16787 non-null  object\n",
      " 5   replyContent   9168 non-null   object\n",
      " 6   repliedAt      9168 non-null   object\n",
      " 7   appVersion     14430 non-null  object\n",
      " 8   sortOrder      16787 non-null  object\n",
      " 9   appId          16787 non-null  object\n",
      "dtypes: int16(1), object(9)\n",
      "memory usage: 1.2+ MB\n"
     ]
    }
   ],
   "source": [
    "#converting datatype for the int column\n",
    "reviewData['thumbsUpCount'] = reviewData['thumbsUpCount'].astype('int16')\n",
    "reviewData.info()"
   ]
  },
  {
   "cell_type": "markdown",
   "id": "9e62d799",
   "metadata": {},
   "source": [
    "Further, from all of the other columns, column **_at_** & **_repliedAt_** can be better represented as **datetime** datatype"
   ]
  },
  {
   "cell_type": "code",
   "execution_count": 8,
   "id": "d0d3fa3a",
   "metadata": {},
   "outputs": [
    {
     "name": "stdout",
     "output_type": "stream",
     "text": [
      "<class 'pandas.core.frame.DataFrame'>\n",
      "RangeIndex: 16787 entries, 0 to 16786\n",
      "Data columns (total 10 columns):\n",
      " #   Column         Non-Null Count  Dtype         \n",
      "---  ------         --------------  -----         \n",
      " 0   reviewId       16787 non-null  object        \n",
      " 1   userName       16787 non-null  object        \n",
      " 2   content        16786 non-null  object        \n",
      " 3   thumbsUpCount  16787 non-null  int16         \n",
      " 4   at             16787 non-null  datetime64[ns]\n",
      " 5   replyContent   9168 non-null   object        \n",
      " 6   repliedAt      9168 non-null   datetime64[ns]\n",
      " 7   appVersion     14430 non-null  object        \n",
      " 8   sortOrder      16787 non-null  object        \n",
      " 9   appId          16787 non-null  object        \n",
      "dtypes: datetime64[ns](2), int16(1), object(7)\n",
      "memory usage: 1.2+ MB\n"
     ]
    }
   ],
   "source": [
    "datetime_colms = ['at','repliedAt']\n",
    "for c in datetime_colms:\n",
    "    reviewData[c] = pd.to_datetime(reviewData[c], dayfirst=True)\n",
    "reviewData.info()"
   ]
  },
  {
   "cell_type": "markdown",
   "id": "8907a193",
   "metadata": {},
   "source": [
    "Moreover, on checking for possible values of **_sortOrder_** & **_appId_** columns, it appears that they have limited set of values available as shown below. So these are perfect examples of **category** datatype."
   ]
  },
  {
   "cell_type": "code",
   "execution_count": 9,
   "id": "62b68f56",
   "metadata": {},
   "outputs": [
    {
     "data": {
      "text/plain": [
       "array(['most_relevant', 'newest'], dtype=object)"
      ]
     },
     "execution_count": 9,
     "metadata": {},
     "output_type": "execute_result"
    }
   ],
   "source": [
    "reviewData['sortOrder'].unique()"
   ]
  },
  {
   "cell_type": "code",
   "execution_count": 10,
   "id": "5029d05f",
   "metadata": {},
   "outputs": [
    {
     "data": {
      "text/plain": [
       "array(['com.anydo', 'com.todoist', 'com.ticktick.task',\n",
       "       'com.habitrpg.android.habitica', 'cc.forestapp',\n",
       "       'com.oristats.habitbull', 'com.levor.liferpgtasks', 'com.habitnow',\n",
       "       'com.microsoft.todos', 'prox.lab.calclock',\n",
       "       'com.gmail.jmartindev.timetune', 'com.artfulagenda.app',\n",
       "       'com.tasks.android', 'com.appgenix.bizcal', 'com.appxy.planner'],\n",
       "      dtype=object)"
      ]
     },
     "execution_count": 10,
     "metadata": {},
     "output_type": "execute_result"
    }
   ],
   "source": [
    "reviewData['appId'].unique()"
   ]
  },
  {
   "cell_type": "code",
   "execution_count": 11,
   "id": "6052f4ea",
   "metadata": {},
   "outputs": [
    {
     "name": "stdout",
     "output_type": "stream",
     "text": [
      "<class 'pandas.core.frame.DataFrame'>\n",
      "RangeIndex: 16787 entries, 0 to 16786\n",
      "Data columns (total 10 columns):\n",
      " #   Column         Non-Null Count  Dtype         \n",
      "---  ------         --------------  -----         \n",
      " 0   reviewId       16787 non-null  object        \n",
      " 1   userName       16787 non-null  object        \n",
      " 2   content        16786 non-null  object        \n",
      " 3   thumbsUpCount  16787 non-null  int16         \n",
      " 4   at             16787 non-null  datetime64[ns]\n",
      " 5   replyContent   9168 non-null   object        \n",
      " 6   repliedAt      9168 non-null   datetime64[ns]\n",
      " 7   appVersion     14430 non-null  object        \n",
      " 8   sortOrder      16787 non-null  category      \n",
      " 9   appId          16787 non-null  category      \n",
      "dtypes: category(2), datetime64[ns](2), int16(1), object(5)\n",
      "memory usage: 984.5+ KB\n"
     ]
    }
   ],
   "source": [
    "# Coverting their datatypes\n",
    "categorical_colms = {'sortOrder':'category', 'appId':'category'}\n",
    "reviewData = reviewData.astype(categorical_colms)\n",
    "reviewData.info()"
   ]
  },
  {
   "cell_type": "markdown",
   "id": "df3febe4",
   "metadata": {},
   "source": [
    "Finally, all other columns fit to be a **string** datatype which will enable us to perform string operations if needed in future for any analysis."
   ]
  },
  {
   "cell_type": "code",
   "execution_count": 12,
   "id": "2e1c6f2f",
   "metadata": {},
   "outputs": [
    {
     "name": "stdout",
     "output_type": "stream",
     "text": [
      "<class 'pandas.core.frame.DataFrame'>\n",
      "RangeIndex: 16787 entries, 0 to 16786\n",
      "Data columns (total 10 columns):\n",
      " #   Column         Non-Null Count  Dtype         \n",
      "---  ------         --------------  -----         \n",
      " 0   reviewId       16787 non-null  string        \n",
      " 1   userName       16787 non-null  string        \n",
      " 2   content        16786 non-null  string        \n",
      " 3   thumbsUpCount  16787 non-null  int16         \n",
      " 4   at             16787 non-null  datetime64[ns]\n",
      " 5   replyContent   9168 non-null   string        \n",
      " 6   repliedAt      9168 non-null   datetime64[ns]\n",
      " 7   appVersion     14430 non-null  string        \n",
      " 8   sortOrder      16787 non-null  category      \n",
      " 9   appId          16787 non-null  category      \n",
      "dtypes: category(2), datetime64[ns](2), int16(1), string(5)\n",
      "memory usage: 984.5 KB\n"
     ]
    }
   ],
   "source": [
    "string_colms = {'reviewId': 'string',\n",
    "                'userName': 'string',\n",
    "               'content' : 'string',\n",
    "               'replyContent': 'string',\n",
    "               'appVersion': 'string'}\n",
    "reviewData = reviewData.astype(string_colms)\n",
    "reviewData.info()"
   ]
  },
  {
   "cell_type": "markdown",
   "id": "367e348f",
   "metadata": {},
   "source": [
    "### Question  :\n",
    "As we see there are many null values, what will be the best way to handle them ?"
   ]
  },
  {
   "cell_type": "markdown",
   "id": "fcd59cb7",
   "metadata": {},
   "source": [
    "Let's begin with other pre-processing assigned for the project. "
   ]
  },
  {
   "cell_type": "code",
   "execution_count": 13,
   "id": "c3c96b7c",
   "metadata": {},
   "outputs": [
    {
     "data": {
      "text/html": [
       "<div>\n",
       "<style scoped>\n",
       "    .dataframe tbody tr th:only-of-type {\n",
       "        vertical-align: middle;\n",
       "    }\n",
       "\n",
       "    .dataframe tbody tr th {\n",
       "        vertical-align: top;\n",
       "    }\n",
       "\n",
       "    .dataframe thead th {\n",
       "        text-align: right;\n",
       "    }\n",
       "</style>\n",
       "<table border=\"1\" class=\"dataframe\">\n",
       "  <thead>\n",
       "    <tr style=\"text-align: right;\">\n",
       "      <th></th>\n",
       "      <th>reviewId</th>\n",
       "      <th>userName</th>\n",
       "      <th>content</th>\n",
       "      <th>thumbsUpCount</th>\n",
       "      <th>at</th>\n",
       "      <th>replyContent</th>\n",
       "      <th>repliedAt</th>\n",
       "      <th>appVersion</th>\n",
       "      <th>sortOrder</th>\n",
       "      <th>appId</th>\n",
       "    </tr>\n",
       "  </thead>\n",
       "  <tbody>\n",
       "    <tr>\n",
       "      <th>1223</th>\n",
       "      <td>680517f1-0117-4b44-b025-b25f6af76077</td>\n",
       "      <td>Mr. Yusuf</td>\n",
       "      <td>The app is too complicated and has too many fe...</td>\n",
       "      <td>5</td>\n",
       "      <td>2023-03-18 07:17:00</td>\n",
       "      <td>Hi Yusuf! We are sorry to hear this 😞 We would...</td>\n",
       "      <td>2023-03-21 04:05:00</td>\n",
       "      <td>v10770</td>\n",
       "      <td>most_relevant</td>\n",
       "      <td>com.todoist</td>\n",
       "    </tr>\n",
       "    <tr>\n",
       "      <th>13096</th>\n",
       "      <td>f192634e-ce18-4101-8512-b96c95fa6d5c</td>\n",
       "      <td>Carl and Elly</td>\n",
       "      <td>I have been using Artful for a little over 2 y...</td>\n",
       "      <td>0</td>\n",
       "      <td>2024-03-14 18:30:00</td>\n",
       "      <td>Thank you so much Carl and Elly for your revie...</td>\n",
       "      <td>2024-03-16 21:31:00</td>\n",
       "      <td>&lt;NA&gt;</td>\n",
       "      <td>newest</td>\n",
       "      <td>com.artfulagenda.app</td>\n",
       "    </tr>\n",
       "    <tr>\n",
       "      <th>10277</th>\n",
       "      <td>078ab3a7-0028-4911-a25b-6afd0f080957</td>\n",
       "      <td>Brettany Daniels</td>\n",
       "      <td>Sounds like a wonderful idea for time manageme...</td>\n",
       "      <td>0</td>\n",
       "      <td>2020-07-13 19:40:00</td>\n",
       "      <td>Hi,\n",
       "Make sure that all the calendars you need ...</td>\n",
       "      <td>2020-07-13 22:24:00</td>\n",
       "      <td>&lt;NA&gt;</td>\n",
       "      <td>most_relevant</td>\n",
       "      <td>prox.lab.calclock</td>\n",
       "    </tr>\n",
       "    <tr>\n",
       "      <th>16739</th>\n",
       "      <td>b22618f6-cbeb-4490-8a52-3b21395ccc51</td>\n",
       "      <td>Vanessa Castro</td>\n",
       "      <td>Planner Pro is simple and efficient.</td>\n",
       "      <td>1</td>\n",
       "      <td>2023-11-05 14:54:00</td>\n",
       "      <td>&lt;NA&gt;</td>\n",
       "      <td>NaT</td>\n",
       "      <td>6.2</td>\n",
       "      <td>newest</td>\n",
       "      <td>com.appxy.planner</td>\n",
       "    </tr>\n",
       "    <tr>\n",
       "      <th>11359</th>\n",
       "      <td>d5b36622-0757-4f7a-810d-92582509e07c</td>\n",
       "      <td>Carin Basson</td>\n",
       "      <td>Wow. That was a quick fix! The button toggle d...</td>\n",
       "      <td>0</td>\n",
       "      <td>2024-02-18 13:45:00</td>\n",
       "      <td>Hello. We'll fix it. Alternatively: Go to the ...</td>\n",
       "      <td>2024-02-18 13:42:00</td>\n",
       "      <td>5.27.2</td>\n",
       "      <td>newest</td>\n",
       "      <td>prox.lab.calclock</td>\n",
       "    </tr>\n",
       "  </tbody>\n",
       "</table>\n",
       "</div>"
      ],
      "text/plain": [
       "                                   reviewId          userName  \\\n",
       "1223   680517f1-0117-4b44-b025-b25f6af76077         Mr. Yusuf   \n",
       "13096  f192634e-ce18-4101-8512-b96c95fa6d5c     Carl and Elly   \n",
       "10277  078ab3a7-0028-4911-a25b-6afd0f080957  Brettany Daniels   \n",
       "16739  b22618f6-cbeb-4490-8a52-3b21395ccc51    Vanessa Castro   \n",
       "11359  d5b36622-0757-4f7a-810d-92582509e07c      Carin Basson   \n",
       "\n",
       "                                                 content  thumbsUpCount  \\\n",
       "1223   The app is too complicated and has too many fe...              5   \n",
       "13096  I have been using Artful for a little over 2 y...              0   \n",
       "10277  Sounds like a wonderful idea for time manageme...              0   \n",
       "16739               Planner Pro is simple and efficient.              1   \n",
       "11359  Wow. That was a quick fix! The button toggle d...              0   \n",
       "\n",
       "                       at                                       replyContent  \\\n",
       "1223  2023-03-18 07:17:00  Hi Yusuf! We are sorry to hear this 😞 We would...   \n",
       "13096 2024-03-14 18:30:00  Thank you so much Carl and Elly for your revie...   \n",
       "10277 2020-07-13 19:40:00  Hi,\n",
       "Make sure that all the calendars you need ...   \n",
       "16739 2023-11-05 14:54:00                                               <NA>   \n",
       "11359 2024-02-18 13:45:00  Hello. We'll fix it. Alternatively: Go to the ...   \n",
       "\n",
       "                repliedAt appVersion      sortOrder                 appId  \n",
       "1223  2023-03-21 04:05:00     v10770  most_relevant           com.todoist  \n",
       "13096 2024-03-16 21:31:00       <NA>         newest  com.artfulagenda.app  \n",
       "10277 2020-07-13 22:24:00       <NA>  most_relevant     prox.lab.calclock  \n",
       "16739                 NaT        6.2         newest     com.appxy.planner  \n",
       "11359 2024-02-18 13:42:00     5.27.2         newest     prox.lab.calclock  "
      ]
     },
     "execution_count": 13,
     "metadata": {},
     "output_type": "execute_result"
    }
   ],
   "source": [
    "reviewData.sample(5)"
   ]
  },
  {
   "cell_type": "code",
   "execution_count": 14,
   "id": "2af84a81",
   "metadata": {},
   "outputs": [
    {
     "name": "stdout",
     "output_type": "stream",
     "text": [
      "<class 'pandas.core.frame.DataFrame'>\n",
      "RangeIndex: 16787 entries, 0 to 16786\n",
      "Data columns (total 10 columns):\n",
      " #   Column         Non-Null Count  Dtype         \n",
      "---  ------         --------------  -----         \n",
      " 0   reviewId       16787 non-null  string        \n",
      " 1   userName       16787 non-null  string        \n",
      " 2   content        16786 non-null  string        \n",
      " 3   thumbsUpCount  16787 non-null  int16         \n",
      " 4   at             16787 non-null  datetime64[ns]\n",
      " 5   replyContent   9168 non-null   string        \n",
      " 6   repliedAt      9168 non-null   datetime64[ns]\n",
      " 7   appVersion     14430 non-null  string        \n",
      " 8   sortOrder      16787 non-null  category      \n",
      " 9   appId          16787 non-null  category      \n",
      "dtypes: category(2), datetime64[ns](2), int16(1), string(5)\n",
      "memory usage: 984.5 KB\n"
     ]
    }
   ],
   "source": [
    "reviewData.info()"
   ]
  },
  {
   "cell_type": "code",
   "execution_count": 15,
   "id": "98b7db37",
   "metadata": {},
   "outputs": [
    {
     "data": {
      "text/plain": [
       "(16786, 10)"
      ]
     },
     "execution_count": 15,
     "metadata": {},
     "output_type": "execute_result"
    }
   ],
   "source": [
    "# So there is one row where content is null, let's remove that row entirely\n",
    "\n",
    "reviewData = reviewData.dropna(subset=['content'])\n",
    "reviewData.shape"
   ]
  },
  {
   "cell_type": "code",
   "execution_count": 16,
   "id": "4e0a2e5e",
   "metadata": {},
   "outputs": [
    {
     "data": {
      "text/html": [
       "<div>\n",
       "<style scoped>\n",
       "    .dataframe tbody tr th:only-of-type {\n",
       "        vertical-align: middle;\n",
       "    }\n",
       "\n",
       "    .dataframe tbody tr th {\n",
       "        vertical-align: top;\n",
       "    }\n",
       "\n",
       "    .dataframe thead th {\n",
       "        text-align: right;\n",
       "    }\n",
       "</style>\n",
       "<table border=\"1\" class=\"dataframe\">\n",
       "  <thead>\n",
       "    <tr style=\"text-align: right;\">\n",
       "      <th></th>\n",
       "      <th>reviewId</th>\n",
       "      <th>userName</th>\n",
       "      <th>content</th>\n",
       "      <th>thumbsUpCount</th>\n",
       "      <th>at</th>\n",
       "      <th>replyContent</th>\n",
       "      <th>repliedAt</th>\n",
       "      <th>appVersion</th>\n",
       "      <th>sortOrder</th>\n",
       "      <th>appId</th>\n",
       "    </tr>\n",
       "  </thead>\n",
       "  <tbody>\n",
       "    <tr>\n",
       "      <th>299</th>\n",
       "      <td>1a1e2773-e082-4df8-8c45-06074788f6ff</td>\n",
       "      <td>Fernando Hidalgo</td>\n",
       "      <td>ux is poor like most of these app. the growing...</td>\n",
       "      <td>32</td>\n",
       "      <td>2020-11-10 17:22:00</td>\n",
       "      <td>We work hard to make sure that Any.do's UX is ...</td>\n",
       "      <td>2020-11-11 10:09:00</td>\n",
       "      <td>5.6.0.8</td>\n",
       "      <td>most_relevant</td>\n",
       "      <td>com.anydo</td>\n",
       "    </tr>\n",
       "    <tr>\n",
       "      <th>7878</th>\n",
       "      <td>a6e1f447-458a-4b8a-854d-8d946289292b</td>\n",
       "      <td>Ashutosh Vajpayee</td>\n",
       "      <td>i wish i could give zero stars..what nonsense ...</td>\n",
       "      <td>6</td>\n",
       "      <td>2022-01-17 03:12:00</td>\n",
       "      <td>&lt;NA&gt;</td>\n",
       "      <td>NaT</td>\n",
       "      <td>1.9.1</td>\n",
       "      <td>most_relevant</td>\n",
       "      <td>com.habitnow</td>\n",
       "    </tr>\n",
       "    <tr>\n",
       "      <th>6751</th>\n",
       "      <td>a8d2e75a-252f-4e6c-b1e8-ccf1a5835fe9</td>\n",
       "      <td>Diego Gonzalo Jara Llanos</td>\n",
       "      <td>not totally friendly environment</td>\n",
       "      <td>0</td>\n",
       "      <td>2020-05-31 13:11:00</td>\n",
       "      <td>&lt;NA&gt;</td>\n",
       "      <td>NaT</td>\n",
       "      <td>1.5.11</td>\n",
       "      <td>newest</td>\n",
       "      <td>com.oristats.habitbull</td>\n",
       "    </tr>\n",
       "    <tr>\n",
       "      <th>11608</th>\n",
       "      <td>adae6613-3feb-4eb9-a61b-84012e527c02</td>\n",
       "      <td>A Google user</td>\n",
       "      <td>i was recommended this app by a friend who lov...</td>\n",
       "      <td>2</td>\n",
       "      <td>2018-10-02 01:44:00</td>\n",
       "      <td>Hi Makiya. We're sorry you feel that way. The ...</td>\n",
       "      <td>2018-10-02 08:56:00</td>\n",
       "      <td>2.5</td>\n",
       "      <td>most_relevant</td>\n",
       "      <td>com.gmail.jmartindev.timetune</td>\n",
       "    </tr>\n",
       "    <tr>\n",
       "      <th>13720</th>\n",
       "      <td>aec04525-4d11-493d-94bb-1b0f92372d09</td>\n",
       "      <td>A Google user</td>\n",
       "      <td>i couldn't find a way to link to google tasks....</td>\n",
       "      <td>1</td>\n",
       "      <td>2019-08-08 00:39:00</td>\n",
       "      <td>Hi Stan, I do not claim this feature on the Pl...</td>\n",
       "      <td>2019-08-08 07:43:00</td>\n",
       "      <td>1.3</td>\n",
       "      <td>most_relevant</td>\n",
       "      <td>com.tasks.android</td>\n",
       "    </tr>\n",
       "  </tbody>\n",
       "</table>\n",
       "</div>"
      ],
      "text/plain": [
       "                                   reviewId                   userName  \\\n",
       "299    1a1e2773-e082-4df8-8c45-06074788f6ff           Fernando Hidalgo   \n",
       "7878   a6e1f447-458a-4b8a-854d-8d946289292b          Ashutosh Vajpayee   \n",
       "6751   a8d2e75a-252f-4e6c-b1e8-ccf1a5835fe9  Diego Gonzalo Jara Llanos   \n",
       "11608  adae6613-3feb-4eb9-a61b-84012e527c02              A Google user   \n",
       "13720  aec04525-4d11-493d-94bb-1b0f92372d09              A Google user   \n",
       "\n",
       "                                                 content  thumbsUpCount  \\\n",
       "299    ux is poor like most of these app. the growing...             32   \n",
       "7878   i wish i could give zero stars..what nonsense ...              6   \n",
       "6751                    not totally friendly environment              0   \n",
       "11608  i was recommended this app by a friend who lov...              2   \n",
       "13720  i couldn't find a way to link to google tasks....              1   \n",
       "\n",
       "                       at                                       replyContent  \\\n",
       "299   2020-11-10 17:22:00  We work hard to make sure that Any.do's UX is ...   \n",
       "7878  2022-01-17 03:12:00                                               <NA>   \n",
       "6751  2020-05-31 13:11:00                                               <NA>   \n",
       "11608 2018-10-02 01:44:00  Hi Makiya. We're sorry you feel that way. The ...   \n",
       "13720 2019-08-08 00:39:00  Hi Stan, I do not claim this feature on the Pl...   \n",
       "\n",
       "                repliedAt appVersion      sortOrder  \\\n",
       "299   2020-11-11 10:09:00    5.6.0.8  most_relevant   \n",
       "7878                  NaT      1.9.1  most_relevant   \n",
       "6751                  NaT     1.5.11         newest   \n",
       "11608 2018-10-02 08:56:00        2.5  most_relevant   \n",
       "13720 2019-08-08 07:43:00        1.3  most_relevant   \n",
       "\n",
       "                               appId  \n",
       "299                        com.anydo  \n",
       "7878                    com.habitnow  \n",
       "6751          com.oristats.habitbull  \n",
       "11608  com.gmail.jmartindev.timetune  \n",
       "13720              com.tasks.android  "
      ]
     },
     "execution_count": 16,
     "metadata": {},
     "output_type": "execute_result"
    }
   ],
   "source": [
    "# Convert to lower case\n",
    "reviewData['content'] = reviewData['content'].str.lower()\n",
    "\n",
    "reviewData.sample(5)"
   ]
  },
  {
   "cell_type": "code",
   "execution_count": 17,
   "id": "315cc504",
   "metadata": {},
   "outputs": [],
   "source": [
    "# Removing links using regex match\n",
    "reviewData['content'] = reviewData['content'].apply(lambda x: re.sub(r'http\\S+', '', x))"
   ]
  },
  {
   "cell_type": "code",
   "execution_count": 18,
   "id": "1d4daa10",
   "metadata": {},
   "outputs": [],
   "source": [
    "# Removing new lines using regex\n",
    "reviewData['content'] = reviewData['content'].replace('\\n', '', regex=True)"
   ]
  },
  {
   "cell_type": "code",
   "execution_count": 19,
   "id": "3d7fe7e7",
   "metadata": {},
   "outputs": [],
   "source": [
    "# removing alpha-numeric words\n",
    "reviewData['content'] = reviewData['content'].apply(lambda x: ' '.join([word for word in x.split() if not any(char.isdigit() for char in word)]))"
   ]
  },
  {
   "cell_type": "code",
   "execution_count": 20,
   "id": "9dd18036",
   "metadata": {},
   "outputs": [],
   "source": [
    "# removing extra spaces from end as well as from in between\n",
    "reviewData['content'] = reviewData['content'].apply(lambda x: ' '.join(x.strip().split()))"
   ]
  },
  {
   "cell_type": "code",
   "execution_count": 21,
   "id": "e2049a92",
   "metadata": {},
   "outputs": [],
   "source": [
    "# removing any special characters using regex\n",
    "reviewData['content'] = reviewData['content'].replace('[^a-zA-Z0-9\\s]', '', regex=True)"
   ]
  },
  {
   "cell_type": "code",
   "execution_count": 22,
   "id": "09fa1925",
   "metadata": {},
   "outputs": [],
   "source": [
    "#removing stop words\n",
    "stop_words = set(stopwords.words('english'))\n",
    "reviewData['content'] = reviewData['content'].apply(lambda x: ' '.join([word for word in x.split() if word not in stop_words]))\n"
   ]
  },
  {
   "cell_type": "code",
   "execution_count": 23,
   "id": "c5796584",
   "metadata": {},
   "outputs": [],
   "source": [
    "# stemming\n",
    "stemmer = PorterStemmer()\n",
    "reviewData['content'] = reviewData['content'].apply(lambda x: ' '.join([stemmer.stem(word) for word in x.split()]))"
   ]
  },
  {
   "cell_type": "code",
   "execution_count": 24,
   "id": "738e7899",
   "metadata": {},
   "outputs": [],
   "source": [
    "#lemmatization\n",
    "lemmatizer = WordNetLemmatizer()\n",
    "reviewData['content'] = reviewData['content'].apply(lambda x: ' '.join([lemmatizer.lemmatize(word) for word in x.split()]))"
   ]
  },
  {
   "cell_type": "code",
   "execution_count": 25,
   "id": "a7510474",
   "metadata": {},
   "outputs": [
    {
     "name": "stdout",
     "output_type": "stream",
     "text": [
      "<class 'pandas.core.frame.DataFrame'>\n",
      "Index: 16786 entries, 0 to 16786\n",
      "Data columns (total 10 columns):\n",
      " #   Column         Non-Null Count  Dtype         \n",
      "---  ------         --------------  -----         \n",
      " 0   reviewId       16786 non-null  string        \n",
      " 1   userName       16786 non-null  string        \n",
      " 2   content        16786 non-null  object        \n",
      " 3   thumbsUpCount  16786 non-null  int16         \n",
      " 4   at             16786 non-null  datetime64[ns]\n",
      " 5   replyContent   9167 non-null   string        \n",
      " 6   repliedAt      9167 non-null   datetime64[ns]\n",
      " 7   appVersion     14429 non-null  string        \n",
      " 8   sortOrder      16786 non-null  category      \n",
      " 9   appId          16786 non-null  category      \n",
      "dtypes: category(2), datetime64[ns](2), int16(1), object(1), string(4)\n",
      "memory usage: 1.1+ MB\n"
     ]
    }
   ],
   "source": [
    "reviewData.info()"
   ]
  },
  {
   "cell_type": "code",
   "execution_count": 26,
   "id": "4ff5b6cf",
   "metadata": {},
   "outputs": [
    {
     "data": {
      "text/html": [
       "<div>\n",
       "<style scoped>\n",
       "    .dataframe tbody tr th:only-of-type {\n",
       "        vertical-align: middle;\n",
       "    }\n",
       "\n",
       "    .dataframe tbody tr th {\n",
       "        vertical-align: top;\n",
       "    }\n",
       "\n",
       "    .dataframe thead th {\n",
       "        text-align: right;\n",
       "    }\n",
       "</style>\n",
       "<table border=\"1\" class=\"dataframe\">\n",
       "  <thead>\n",
       "    <tr style=\"text-align: right;\">\n",
       "      <th></th>\n",
       "      <th>reviewId</th>\n",
       "      <th>userName</th>\n",
       "      <th>content</th>\n",
       "      <th>thumbsUpCount</th>\n",
       "      <th>at</th>\n",
       "      <th>replyContent</th>\n",
       "      <th>repliedAt</th>\n",
       "      <th>appVersion</th>\n",
       "      <th>sortOrder</th>\n",
       "      <th>appId</th>\n",
       "    </tr>\n",
       "  </thead>\n",
       "  <tbody>\n",
       "    <tr>\n",
       "      <th>10143</th>\n",
       "      <td>730c34f6-13be-4388-a321-09dbc68aaf6f</td>\n",
       "      <td>Zaid</td>\n",
       "      <td>simpl quick interfac aint smth youd expect mic...</td>\n",
       "      <td>0</td>\n",
       "      <td>2024-03-31 16:45:00</td>\n",
       "      <td>&lt;NA&gt;</td>\n",
       "      <td>NaT</td>\n",
       "      <td>2.114.690.01</td>\n",
       "      <td>newest</td>\n",
       "      <td>com.microsoft.todos</td>\n",
       "    </tr>\n",
       "    <tr>\n",
       "      <th>5353</th>\n",
       "      <td>8655713a-b37f-4677-8e15-ab692fad0368</td>\n",
       "      <td>Annu Suresh</td>\n",
       "      <td>look app like forest improv focu avoid distrac...</td>\n",
       "      <td>0</td>\n",
       "      <td>2020-05-07 10:13:00</td>\n",
       "      <td>Hello,\n",
       "We require certain permission just to e...</td>\n",
       "      <td>2020-05-08 04:59:00</td>\n",
       "      <td>4.16.3</td>\n",
       "      <td>most_relevant</td>\n",
       "      <td>cc.forestapp</td>\n",
       "    </tr>\n",
       "    <tr>\n",
       "      <th>7310</th>\n",
       "      <td>ef43c63d-25ec-4756-abd0-45e2ffb17610</td>\n",
       "      <td>RemixV4</td>\n",
       "      <td>frustrat limit</td>\n",
       "      <td>1</td>\n",
       "      <td>2023-07-27 02:01:00</td>\n",
       "      <td>&lt;NA&gt;</td>\n",
       "      <td>NaT</td>\n",
       "      <td>22.6.0</td>\n",
       "      <td>newest</td>\n",
       "      <td>com.levor.liferpgtasks</td>\n",
       "    </tr>\n",
       "    <tr>\n",
       "      <th>11840</th>\n",
       "      <td>d0d5623e-129d-43d5-86c6-c5ecd13d880b</td>\n",
       "      <td>Uzoamaka Nnabude</td>\n",
       "      <td>download app need time tabl schedul notifi tim...</td>\n",
       "      <td>0</td>\n",
       "      <td>2022-10-18 15:16:00</td>\n",
       "      <td>Hi. The problem happens because Tecno devices ...</td>\n",
       "      <td>2022-10-18 14:20:00</td>\n",
       "      <td>4.5</td>\n",
       "      <td>most_relevant</td>\n",
       "      <td>com.gmail.jmartindev.timetune</td>\n",
       "    </tr>\n",
       "    <tr>\n",
       "      <th>188</th>\n",
       "      <td>7234afd1-0a66-4326-b841-446fd44839e4</td>\n",
       "      <td>Abhijeet Jayaswal</td>\n",
       "      <td>unabl assign task anyon whatsapp</td>\n",
       "      <td>0</td>\n",
       "      <td>2023-12-19 17:34:00</td>\n",
       "      <td>If you are a workspace member you should be ab...</td>\n",
       "      <td>2023-12-20 10:09:00</td>\n",
       "      <td>&lt;NA&gt;</td>\n",
       "      <td>newest</td>\n",
       "      <td>com.anydo</td>\n",
       "    </tr>\n",
       "  </tbody>\n",
       "</table>\n",
       "</div>"
      ],
      "text/plain": [
       "                                   reviewId           userName  \\\n",
       "10143  730c34f6-13be-4388-a321-09dbc68aaf6f               Zaid   \n",
       "5353   8655713a-b37f-4677-8e15-ab692fad0368        Annu Suresh   \n",
       "7310   ef43c63d-25ec-4756-abd0-45e2ffb17610            RemixV4   \n",
       "11840  d0d5623e-129d-43d5-86c6-c5ecd13d880b   Uzoamaka Nnabude   \n",
       "188    7234afd1-0a66-4326-b841-446fd44839e4  Abhijeet Jayaswal   \n",
       "\n",
       "                                                 content  thumbsUpCount  \\\n",
       "10143  simpl quick interfac aint smth youd expect mic...              0   \n",
       "5353   look app like forest improv focu avoid distrac...              0   \n",
       "7310                                      frustrat limit              1   \n",
       "11840  download app need time tabl schedul notifi tim...              0   \n",
       "188                     unabl assign task anyon whatsapp              0   \n",
       "\n",
       "                       at                                       replyContent  \\\n",
       "10143 2024-03-31 16:45:00                                               <NA>   \n",
       "5353  2020-05-07 10:13:00  Hello,\n",
       "We require certain permission just to e...   \n",
       "7310  2023-07-27 02:01:00                                               <NA>   \n",
       "11840 2022-10-18 15:16:00  Hi. The problem happens because Tecno devices ...   \n",
       "188   2023-12-19 17:34:00  If you are a workspace member you should be ab...   \n",
       "\n",
       "                repliedAt    appVersion      sortOrder  \\\n",
       "10143                 NaT  2.114.690.01         newest   \n",
       "5353  2020-05-08 04:59:00        4.16.3  most_relevant   \n",
       "7310                  NaT        22.6.0         newest   \n",
       "11840 2022-10-18 14:20:00           4.5  most_relevant   \n",
       "188   2023-12-20 10:09:00          <NA>         newest   \n",
       "\n",
       "                               appId  \n",
       "10143            com.microsoft.todos  \n",
       "5353                    cc.forestapp  \n",
       "7310          com.levor.liferpgtasks  \n",
       "11840  com.gmail.jmartindev.timetune  \n",
       "188                        com.anydo  "
      ]
     },
     "execution_count": 26,
     "metadata": {},
     "output_type": "execute_result"
    }
   ],
   "source": [
    "reviewData.sample(5)"
   ]
  },
  {
   "cell_type": "markdown",
   "id": "cc802118",
   "metadata": {},
   "source": [
    "### Question : \n",
    "It is seen that the size of dataframe is increased from 984kB to 1.1+MB after performingabove techniques. Logically, we have removed a lot of stuffs from content, if any, or even if it is not, the size should have been either the same or reduced. What is the reason for the increment ?"
   ]
  },
  {
   "cell_type": "code",
   "execution_count": null,
   "id": "97013b32",
   "metadata": {},
   "outputs": [],
   "source": []
  }
 ],
 "metadata": {
  "kernelspec": {
   "display_name": "Python 3 (ipykernel)",
   "language": "python",
   "name": "python3"
  },
  "language_info": {
   "codemirror_mode": {
    "name": "ipython",
    "version": 3
   },
   "file_extension": ".py",
   "mimetype": "text/x-python",
   "name": "python",
   "nbconvert_exporter": "python",
   "pygments_lexer": "ipython3",
   "version": "3.11.5"
  }
 },
 "nbformat": 4,
 "nbformat_minor": 5
}
