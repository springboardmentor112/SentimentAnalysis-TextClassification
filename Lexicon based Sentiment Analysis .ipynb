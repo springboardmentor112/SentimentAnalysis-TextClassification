{
 "cells": [
  {
   "cell_type": "markdown",
   "id": "7a671520",
   "metadata": {},
   "source": [
    "### Lexicon-based sentiment analysis with VADER is a quick way to gauge the sentiment in text. VADER assigns each word a score (-1 to 1), indicating positivity or negativity. It's useful for social media, reviews, and feedback analysis, offering a straightforward approach without complex models."
   ]
  },
  {
   "cell_type": "markdown",
   "id": "2adc7ef4",
   "metadata": {},
   "source": [
    "# Performing lexicon-based sentiment analysis using the VADER lexicon:"
   ]
  },
  {
   "cell_type": "markdown",
   "id": "0944af65",
   "metadata": {},
   "source": [
    "## Step 1: Importing Necessary Libraries"
   ]
  },
  {
   "cell_type": "code",
   "execution_count": 48,
   "id": "6e2e42e7",
   "metadata": {},
   "outputs": [],
   "source": [
    "import pandas as pd\n",
    "import nltk\n",
    "from nltk.sentiment.vader import SentimentIntensityAnalyzer\n",
    "import matplotlib.pyplot as plt\n",
    "import seaborn as sns"
   ]
  },
  {
   "cell_type": "markdown",
   "id": "c5f47582",
   "metadata": {},
   "source": [
    "## Step 2: Initialize VADER Sentiment Analyzer"
   ]
  },
  {
   "cell_type": "code",
   "execution_count": 49,
   "id": "71b5fadc",
   "metadata": {},
   "outputs": [],
   "source": [
    "sid = SentimentIntensityAnalyzer()"
   ]
  },
  {
   "cell_type": "markdown",
   "id": "c68b0f92",
   "metadata": {},
   "source": [
    "## Step 3: Defined a function to get the sentiment score using VADER"
   ]
  },
  {
   "cell_type": "code",
   "execution_count": 56,
   "id": "ac7028e8",
   "metadata": {},
   "outputs": [],
   "source": [
    "# Function to get sentiment score\n",
    "def get_sentiment_score(text):\n",
    "    return sid.polarity_scores(text)['compound']"
   ]
  },
  {
   "cell_type": "markdown",
   "id": "18ae81cc",
   "metadata": {},
   "source": [
    "## Step 4: Apply sentiment analysis to your 'content' column and create a new column for sentiment score:"
   ]
  },
  {
   "cell_type": "code",
   "execution_count": 57,
   "id": "f3c0c841",
   "metadata": {},
   "outputs": [],
   "source": [
    "# Applyed sentiment analysis to your 'content' column\n",
    "data['sentiment_score'] = data['content'].apply(get_sentiment_score)"
   ]
  },
  {
   "cell_type": "markdown",
   "id": "f4200bea",
   "metadata": {},
   "source": [
    "## Step 4: Defined a function to classify sentiments based on the score:"
   ]
  },
  {
   "cell_type": "code",
   "execution_count": 58,
   "id": "4759007e",
   "metadata": {},
   "outputs": [],
   "source": [
    "# Classifyed sentiments based on the score\n",
    "def classify_sentiment(score):\n",
    "    if score >= 0.05:\n",
    "        return 'Positive'\n",
    "    elif score <= -0.05:\n",
    "        return 'Negative'\n",
    "    else:\n",
    "        return 'Neutral'"
   ]
  },
  {
   "cell_type": "markdown",
   "id": "6243e280",
   "metadata": {},
   "source": [
    "## Step 5: Apply sentiment classification and create a new column for sentiment"
   ]
  },
  {
   "cell_type": "code",
   "execution_count": 59,
   "id": "b969cbee",
   "metadata": {},
   "outputs": [],
   "source": [
    "data['sentiment'] = data['sentiment_score'].apply(classify_sentiment)"
   ]
  },
  {
   "cell_type": "markdown",
   "id": "68f568e3",
   "metadata": {},
   "source": [
    "## Step 6: Printed The Results"
   ]
  },
  {
   "cell_type": "code",
   "execution_count": 60,
   "id": "83841232",
   "metadata": {},
   "outputs": [
    {
     "name": "stdout",
     "output_type": "stream",
     "text": [
      "                                                 content  sentiment_score  \\\n",
      "0      recur task day need todolist remind buzz time ...          -0.8555   \n",
      "1      instead shop download anydo wide set day sched...           0.1027   \n",
      "2      blue app ask updat acct email task list lost t...          -0.7430   \n",
      "3      terribl updat app perfect plan certain task co...           0.4588   \n",
      "4      app deceivingli terribl nice design featur lik...           0.0346   \n",
      "...                                                  ...              ...   \n",
      "16782                                          excel app           0.4588   \n",
      "16783  love easi use life organ love way photo locat ...           0.9477   \n",
      "16784                  love plan check app everyday love           0.8555   \n",
      "16785                                       exactli need           0.0000   \n",
      "16786                                               good           0.4404   \n",
      "\n",
      "      sentiment  \n",
      "0      Negative  \n",
      "1      Positive  \n",
      "2      Negative  \n",
      "3      Positive  \n",
      "4       Neutral  \n",
      "...         ...  \n",
      "16782  Positive  \n",
      "16783  Positive  \n",
      "16784  Positive  \n",
      "16785   Neutral  \n",
      "16786  Positive  \n",
      "\n",
      "[16787 rows x 3 columns]\n"
     ]
    }
   ],
   "source": [
    "print(data[['content', 'sentiment_score', 'sentiment']])"
   ]
  },
  {
   "cell_type": "markdown",
   "id": "184ced83",
   "metadata": {},
   "source": [
    "## ◙ After performing lexicon-based sentiment analysis using the VADER lexicon, here's a summary of the process and the results:\n",
    " \n",
    "  ### •Importing Necessary Libraries: We imported the required libraries, including pandas for data manipulation, nltk for natural language processing, and the VADER sentiment analyzer.\n",
    "  ### •Initializing VADER Sentiment Analyzer: We initialized the SentimentIntensityAnalyzer from the nltk.sentiment.vader module.\n",
    "  ### •Function to Get Sentiment Score: We defined a function get_sentiment_score() to calculate the sentiment score for each review using VADER's polarity_scores() method.\n",
    "  ### •Applying Sentiment Analysis: We applied sentiment analysis to the 'content' column of our dataset and   created a new column 'sentiment_score' to store the calculated sentiment scores.\n",
    "  ### •Function to Classify Sentiments: We defined a function classify_sentiment() to classify sentiments based on the sentiment score into 'Positive', 'Negative', or 'Neutral'.\n",
    "  ### •Applying Sentiment Classification: We applied sentiment classification to the sentiment scores and created a new column 'sentiment' to store the sentiment labels.\n",
    "  ### •Printing the Results: We printed the content, sentiment score, and sentiment label for each review in the dataset.\n",
    "\n",
    "## ◙ Summary:\n",
    "\n",
    "  ### •The sentiment analysis was conducted using the VADER lexicon, which is specifically designed for sentiment analysis of social media text.\n",
    "  ###  •Each review was assigned a sentiment score ranging from -1 (extremely negative) to 1 (extremely positive).\n",
    "  ###  •Based on the sentiment scores, the reviews were classified into three categories: Positive, Negative, or Neutral.\n",
    "  ### •The majority of reviews were classified as Positive, indicating overall satisfaction with the app.\n",
    "  ###  •Some reviews were classified as Negative, indicating dissatisfaction or negative experiences with the app.\n",
    "  ###  •Neutral reviews were those with sentiment scores close to zero, suggesting a lack of strong positive or negative sentiment.\n",
    "  ### •Overall, this lexicon-based sentiment analysis with VADER provided valuable insights into the sentiment distribution of the reviews, helping to understand user opinions and experiences with the app."
   ]
  }
 ],
 "metadata": {
  "kernelspec": {
   "display_name": "Python 3 (ipykernel)",
   "language": "python",
   "name": "python3"
  },
  "language_info": {
   "codemirror_mode": {
    "name": "ipython",
    "version": 3
   },
   "file_extension": ".py",
   "mimetype": "text/x-python",
   "name": "python",
   "nbconvert_exporter": "python",
   "pygments_lexer": "ipython3",
   "version": "3.11.5"
  }
 },
 "nbformat": 4,
 "nbformat_minor": 5
}
