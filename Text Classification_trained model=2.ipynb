{
 "cells": [
  {
   "cell_type": "markdown",
   "id": "202f1f15",
   "metadata": {},
   "source": [
    "# Import Libraries,models,pipeline,Nerual network"
   ]
  },
  {
   "cell_type": "code",
   "execution_count": 1,
   "id": "e4cfd9e8",
   "metadata": {},
   "outputs": [
    {
     "name": "stdout",
     "output_type": "stream",
     "text": [
      "Collecting stop_words\n",
      "  Downloading stop-words-2018.7.23.tar.gz (31 kB)\n",
      "  Preparing metadata (setup.py): started\n",
      "  Preparing metadata (setup.py): finished with status 'done'\n",
      "Building wheels for collected packages: stop_words\n",
      "  Building wheel for stop_words (setup.py): started\n",
      "  Building wheel for stop_words (setup.py): finished with status 'done'\n",
      "  Created wheel for stop_words: filename=stop_words-2018.7.23-py3-none-any.whl size=32893 sha256=8013fadc6f18bbd017d646a75c230d947036407680d78adb652ad69e370dc559\n",
      "  Stored in directory: c:\\users\\ajayc\\appdata\\local\\pip\\cache\\wheels\\da\\d8\\66\\395317506a23a9d1d7de433ad6a7d9e6e16aab48cf028a0f60\n",
      "Successfully built stop_words\n",
      "Installing collected packages: stop_words\n",
      "Successfully installed stop_words-2018.7.23\n"
     ]
    },
    {
     "name": "stderr",
     "output_type": "stream",
     "text": [
      "[nltk_data] Downloading package stopwords to\n",
      "[nltk_data]     C:\\Users\\Ajayc\\AppData\\Roaming\\nltk_data...\n",
      "[nltk_data]   Package stopwords is already up-to-date!\n",
      "[nltk_data] Downloading package wordnet to\n",
      "[nltk_data]     C:\\Users\\Ajayc\\AppData\\Roaming\\nltk_data...\n",
      "[nltk_data]   Package wordnet is already up-to-date!\n",
      "[nltk_data] Downloading package omw-1.4 to\n",
      "[nltk_data]     C:\\Users\\Ajayc\\AppData\\Roaming\\nltk_data...\n",
      "[nltk_data]   Package omw-1.4 is already up-to-date!\n",
      "[nltk_data] Downloading package punkt to\n",
      "[nltk_data]     C:\\Users\\Ajayc\\AppData\\Roaming\\nltk_data...\n",
      "[nltk_data]   Package punkt is already up-to-date!\n"
     ]
    }
   ],
   "source": [
    "import pandas as pd\n",
    "import numpy as np\n",
    "\n",
    "import re\n",
    "import nltk\n",
    "from nltk.stem import PorterStemmer\n",
    "from nltk.stem import WordNetLemmatizer\n",
    "from sklearn.datasets import load_files\n",
    "#commmand line\n",
    "!pip install stop_words\n",
    "nltk.download('stopwords')\n",
    "import pickle\n",
    "\n",
    "from nltk.corpus import stopwords\n",
    "nltk.download('wordnet')\n",
    "nltk.download('omw-1.4')\n",
    "nltk.download('punkt')\n",
    "from nltk.tokenize import sent_tokenize\n",
    "\n",
    "from sklearn.model_selection import train_test_split\n",
    "from sklearn.feature_extraction.text import TfidfTransformer\n",
    "from sklearn.feature_extraction.text import CountVectorizer, TfidfVectorizer\n",
    "\n",
    "from sklearn.naive_bayes import MultinomialNB\n",
    "from sklearn.metrics import classification_report, accuracy_score, confusion_matrix\n",
    "from sklearn.model_selection import cross_val_predict, StratifiedKFold\n",
    "from sklearn.neural_network import MLPClassifier\n",
    "import matplotlib.pyplot as plt\n",
    "from sklearn.metrics import accuracy_score, precision_score, recall_score, f1_score, confusion_matrix, classification_report\n",
    "\n",
    "from sklearn.pipeline import Pipeline\n",
    "from sklearn.svm import SVC\n",
    "import matplotlib.pyplot as plt"
   ]
  },
  {
   "cell_type": "code",
   "execution_count": 2,
   "id": "d5100bba",
   "metadata": {},
   "outputs": [
    {
     "data": {
      "text/html": [
       "<div>\n",
       "<style scoped>\n",
       "    .dataframe tbody tr th:only-of-type {\n",
       "        vertical-align: middle;\n",
       "    }\n",
       "\n",
       "    .dataframe tbody tr th {\n",
       "        vertical-align: top;\n",
       "    }\n",
       "\n",
       "    .dataframe thead th {\n",
       "        text-align: right;\n",
       "    }\n",
       "</style>\n",
       "<table border=\"1\" class=\"dataframe\">\n",
       "  <thead>\n",
       "    <tr style=\"text-align: right;\">\n",
       "      <th></th>\n",
       "      <th>text</th>\n",
       "      <th>label</th>\n",
       "    </tr>\n",
       "  </thead>\n",
       "  <tbody>\n",
       "    <tr>\n",
       "      <th>0</th>\n",
       "      <td>i didnt feel humiliated</td>\n",
       "      <td>0</td>\n",
       "    </tr>\n",
       "    <tr>\n",
       "      <th>1</th>\n",
       "      <td>i can go from feeling so hopeless to so damned...</td>\n",
       "      <td>0</td>\n",
       "    </tr>\n",
       "    <tr>\n",
       "      <th>2</th>\n",
       "      <td>im grabbing a minute to post i feel greedy wrong</td>\n",
       "      <td>3</td>\n",
       "    </tr>\n",
       "    <tr>\n",
       "      <th>3</th>\n",
       "      <td>i am ever feeling nostalgic about the fireplac...</td>\n",
       "      <td>2</td>\n",
       "    </tr>\n",
       "    <tr>\n",
       "      <th>4</th>\n",
       "      <td>i am feeling grouchy</td>\n",
       "      <td>3</td>\n",
       "    </tr>\n",
       "    <tr>\n",
       "      <th>5</th>\n",
       "      <td>ive been feeling a little burdened lately wasn...</td>\n",
       "      <td>0</td>\n",
       "    </tr>\n",
       "    <tr>\n",
       "      <th>6</th>\n",
       "      <td>ive been taking or milligrams or times recomme...</td>\n",
       "      <td>5</td>\n",
       "    </tr>\n",
       "    <tr>\n",
       "      <th>7</th>\n",
       "      <td>i feel as confused about life as a teenager or...</td>\n",
       "      <td>4</td>\n",
       "    </tr>\n",
       "    <tr>\n",
       "      <th>8</th>\n",
       "      <td>i have been with petronas for years i feel tha...</td>\n",
       "      <td>1</td>\n",
       "    </tr>\n",
       "    <tr>\n",
       "      <th>9</th>\n",
       "      <td>i feel romantic too</td>\n",
       "      <td>2</td>\n",
       "    </tr>\n",
       "  </tbody>\n",
       "</table>\n",
       "</div>"
      ],
      "text/plain": [
       "                                                text  label\n",
       "0                            i didnt feel humiliated      0\n",
       "1  i can go from feeling so hopeless to so damned...      0\n",
       "2   im grabbing a minute to post i feel greedy wrong      3\n",
       "3  i am ever feeling nostalgic about the fireplac...      2\n",
       "4                               i am feeling grouchy      3\n",
       "5  ive been feeling a little burdened lately wasn...      0\n",
       "6  ive been taking or milligrams or times recomme...      5\n",
       "7  i feel as confused about life as a teenager or...      4\n",
       "8  i have been with petronas for years i feel tha...      1\n",
       "9                                i feel romantic too      2"
      ]
     },
     "execution_count": 2,
     "metadata": {},
     "output_type": "execute_result"
    }
   ],
   "source": [
    "df = pd.read_csv('Emotions_training.csv')\n",
    "df.head(10)"
   ]
  },
  {
   "cell_type": "code",
   "execution_count": 4,
   "id": "fdd4aa61",
   "metadata": {},
   "outputs": [
    {
     "name": "stdout",
     "output_type": "stream",
     "text": [
      "<class 'pandas.core.frame.DataFrame'>\n",
      "RangeIndex: 16000 entries, 0 to 15999\n",
      "Data columns (total 2 columns):\n",
      " #   Column  Non-Null Count  Dtype \n",
      "---  ------  --------------  ----- \n",
      " 0   text    16000 non-null  object\n",
      " 1   label   16000 non-null  int64 \n",
      "dtypes: int64(1), object(1)\n",
      "memory usage: 250.1+ KB\n"
     ]
    }
   ],
   "source": [
    "df.info()"
   ]
  },
  {
   "cell_type": "code",
   "execution_count": 6,
   "id": "9c6d448f",
   "metadata": {},
   "outputs": [
    {
     "data": {
      "text/html": [
       "<div>\n",
       "<style scoped>\n",
       "    .dataframe tbody tr th:only-of-type {\n",
       "        vertical-align: middle;\n",
       "    }\n",
       "\n",
       "    .dataframe tbody tr th {\n",
       "        vertical-align: top;\n",
       "    }\n",
       "\n",
       "    .dataframe thead th {\n",
       "        text-align: right;\n",
       "    }\n",
       "</style>\n",
       "<table border=\"1\" class=\"dataframe\">\n",
       "  <thead>\n",
       "    <tr style=\"text-align: right;\">\n",
       "      <th></th>\n",
       "      <th>text</th>\n",
       "      <th>label</th>\n",
       "    </tr>\n",
       "  </thead>\n",
       "  <tbody>\n",
       "    <tr>\n",
       "      <th>5067</th>\n",
       "      <td>i feel on the verge of tears from weariness i ...</td>\n",
       "      <td>1</td>\n",
       "    </tr>\n",
       "    <tr>\n",
       "      <th>6133</th>\n",
       "      <td>i still feel a craving for sweet food</td>\n",
       "      <td>2</td>\n",
       "    </tr>\n",
       "    <tr>\n",
       "      <th>6563</th>\n",
       "      <td>i tend to stop breathing when i m feeling stre...</td>\n",
       "      <td>3</td>\n",
       "    </tr>\n",
       "    <tr>\n",
       "      <th>7623</th>\n",
       "      <td>i was intensely conscious of how much cash i h...</td>\n",
       "      <td>0</td>\n",
       "    </tr>\n",
       "    <tr>\n",
       "      <th>7685</th>\n",
       "      <td>im still not sure why reilly feels the need to...</td>\n",
       "      <td>5</td>\n",
       "    </tr>\n",
       "    <tr>\n",
       "      <th>8246</th>\n",
       "      <td>i am not amazing or great at photography but i...</td>\n",
       "      <td>2</td>\n",
       "    </tr>\n",
       "    <tr>\n",
       "      <th>9596</th>\n",
       "      <td>ive also made it with both sugar measurements ...</td>\n",
       "      <td>1</td>\n",
       "    </tr>\n",
       "    <tr>\n",
       "      <th>9687</th>\n",
       "      <td>i had to choose the sleek and smoother feel of...</td>\n",
       "      <td>1</td>\n",
       "    </tr>\n",
       "    <tr>\n",
       "      <th>9769</th>\n",
       "      <td>i often find myself feeling assaulted by a mul...</td>\n",
       "      <td>0</td>\n",
       "    </tr>\n",
       "    <tr>\n",
       "      <th>9786</th>\n",
       "      <td>i feel im being generous with that statement</td>\n",
       "      <td>1</td>\n",
       "    </tr>\n",
       "    <tr>\n",
       "      <th>10117</th>\n",
       "      <td>i feel pretty tortured because i work a job an...</td>\n",
       "      <td>4</td>\n",
       "    </tr>\n",
       "    <tr>\n",
       "      <th>10581</th>\n",
       "      <td>i feel most passionate about</td>\n",
       "      <td>1</td>\n",
       "    </tr>\n",
       "    <tr>\n",
       "      <th>11273</th>\n",
       "      <td>i was so stubborn and that it took you getting...</td>\n",
       "      <td>1</td>\n",
       "    </tr>\n",
       "    <tr>\n",
       "      <th>11354</th>\n",
       "      <td>i write these words i feel sweet baby kicks fr...</td>\n",
       "      <td>2</td>\n",
       "    </tr>\n",
       "    <tr>\n",
       "      <th>11525</th>\n",
       "      <td>i feel a remembrance of the strange by justin ...</td>\n",
       "      <td>4</td>\n",
       "    </tr>\n",
       "    <tr>\n",
       "      <th>11823</th>\n",
       "      <td>i have chose for myself that makes me feel ama...</td>\n",
       "      <td>1</td>\n",
       "    </tr>\n",
       "    <tr>\n",
       "      <th>12441</th>\n",
       "      <td>i still feel completely accepted</td>\n",
       "      <td>2</td>\n",
       "    </tr>\n",
       "    <tr>\n",
       "      <th>12562</th>\n",
       "      <td>i feel so weird about it</td>\n",
       "      <td>5</td>\n",
       "    </tr>\n",
       "    <tr>\n",
       "      <th>12892</th>\n",
       "      <td>i cant escape the tears of sadness and just tr...</td>\n",
       "      <td>1</td>\n",
       "    </tr>\n",
       "    <tr>\n",
       "      <th>13236</th>\n",
       "      <td>i feel like a tortured artist when i talk to her</td>\n",
       "      <td>3</td>\n",
       "    </tr>\n",
       "    <tr>\n",
       "      <th>13846</th>\n",
       "      <td>i feel more adventurous willing to take risks ...</td>\n",
       "      <td>1</td>\n",
       "    </tr>\n",
       "    <tr>\n",
       "      <th>13880</th>\n",
       "      <td>i feel like i am very passionate about youtube...</td>\n",
       "      <td>2</td>\n",
       "    </tr>\n",
       "    <tr>\n",
       "      <th>14107</th>\n",
       "      <td>i feel kind of strange</td>\n",
       "      <td>5</td>\n",
       "    </tr>\n",
       "    <tr>\n",
       "      <th>14314</th>\n",
       "      <td>i could feel myself hit this strange foggy wall</td>\n",
       "      <td>5</td>\n",
       "    </tr>\n",
       "    <tr>\n",
       "      <th>14634</th>\n",
       "      <td>i feel pretty weird blogging about deodorant b...</td>\n",
       "      <td>4</td>\n",
       "    </tr>\n",
       "    <tr>\n",
       "      <th>14926</th>\n",
       "      <td>i resorted to yesterday the post peak day of i...</td>\n",
       "      <td>4</td>\n",
       "    </tr>\n",
       "    <tr>\n",
       "      <th>15315</th>\n",
       "      <td>i will feel as though i am accepted by as well...</td>\n",
       "      <td>1</td>\n",
       "    </tr>\n",
       "    <tr>\n",
       "      <th>15329</th>\n",
       "      <td>i shy away from songs that talk about how i fe...</td>\n",
       "      <td>1</td>\n",
       "    </tr>\n",
       "    <tr>\n",
       "      <th>15572</th>\n",
       "      <td>i bet taylor swift basks in the knowledge that...</td>\n",
       "      <td>3</td>\n",
       "    </tr>\n",
       "    <tr>\n",
       "      <th>15705</th>\n",
       "      <td>i began to feel accepted by gaia on her own terms</td>\n",
       "      <td>1</td>\n",
       "    </tr>\n",
       "    <tr>\n",
       "      <th>15876</th>\n",
       "      <td>i was sitting in the corner stewing in my own ...</td>\n",
       "      <td>3</td>\n",
       "    </tr>\n",
       "  </tbody>\n",
       "</table>\n",
       "</div>"
      ],
      "text/plain": [
       "                                                    text  label\n",
       "5067   i feel on the verge of tears from weariness i ...      1\n",
       "6133               i still feel a craving for sweet food      2\n",
       "6563   i tend to stop breathing when i m feeling stre...      3\n",
       "7623   i was intensely conscious of how much cash i h...      0\n",
       "7685   im still not sure why reilly feels the need to...      5\n",
       "8246   i am not amazing or great at photography but i...      2\n",
       "9596   ive also made it with both sugar measurements ...      1\n",
       "9687   i had to choose the sleek and smoother feel of...      1\n",
       "9769   i often find myself feeling assaulted by a mul...      0\n",
       "9786        i feel im being generous with that statement      1\n",
       "10117  i feel pretty tortured because i work a job an...      4\n",
       "10581                       i feel most passionate about      1\n",
       "11273  i was so stubborn and that it took you getting...      1\n",
       "11354  i write these words i feel sweet baby kicks fr...      2\n",
       "11525  i feel a remembrance of the strange by justin ...      4\n",
       "11823  i have chose for myself that makes me feel ama...      1\n",
       "12441                   i still feel completely accepted      2\n",
       "12562                           i feel so weird about it      5\n",
       "12892  i cant escape the tears of sadness and just tr...      1\n",
       "13236   i feel like a tortured artist when i talk to her      3\n",
       "13846  i feel more adventurous willing to take risks ...      1\n",
       "13880  i feel like i am very passionate about youtube...      2\n",
       "14107                             i feel kind of strange      5\n",
       "14314    i could feel myself hit this strange foggy wall      5\n",
       "14634  i feel pretty weird blogging about deodorant b...      4\n",
       "14926  i resorted to yesterday the post peak day of i...      4\n",
       "15315  i will feel as though i am accepted by as well...      1\n",
       "15329  i shy away from songs that talk about how i fe...      1\n",
       "15572  i bet taylor swift basks in the knowledge that...      3\n",
       "15705  i began to feel accepted by gaia on her own terms      1\n",
       "15876  i was sitting in the corner stewing in my own ...      3"
      ]
     },
     "execution_count": 6,
     "metadata": {},
     "output_type": "execute_result"
    }
   ],
   "source": [
    "df[df['text'].duplicated() == True]"
   ]
  },
  {
   "cell_type": "code",
   "execution_count": 7,
   "id": "c6040f66",
   "metadata": {},
   "outputs": [],
   "source": [
    "index = df[df['text'].duplicated() == True].index\n",
    "df.drop(index, axis = 0, inplace = True)\n",
    "df.reset_index(inplace=True, drop = True)"
   ]
  },
  {
   "cell_type": "code",
   "execution_count": 8,
   "id": "ae5697c9",
   "metadata": {},
   "outputs": [
    {
     "data": {
      "text/plain": [
       "(15969, 2)"
      ]
     },
     "execution_count": 8,
     "metadata": {},
     "output_type": "execute_result"
    }
   ],
   "source": [
    "df.shape"
   ]
  },
  {
   "cell_type": "code",
   "execution_count": 10,
   "id": "591b7c7d",
   "metadata": {},
   "outputs": [
    {
     "name": "stdout",
     "output_type": "stream",
     "text": [
      "[0 3 2 5 4 1]\n"
     ]
    }
   ],
   "source": [
    "unique_sentiments = df['label'].unique()\n",
    "print(unique_sentiments)"
   ]
  },
  {
   "cell_type": "code",
   "execution_count": 13,
   "id": "b814873d",
   "metadata": {},
   "outputs": [
    {
     "name": "stdout",
     "output_type": "stream",
     "text": [
      "   Counts  Percentage\n",
      "1    5350   33.502411\n",
      "0    4664   29.206588\n",
      "3    2155   13.494896\n",
      "4    1933   12.104703\n",
      "2    1299    8.134511\n",
      "5     568    3.556891\n",
      "\n",
      "total values: 6\n"
     ]
    }
   ],
   "source": [
    "frequency_counts = df['label'].value_counts()\n",
    "\n",
    "frequency_percentage = (frequency_counts / len(df['label'])) * 100\n",
    "frequency_df = pd.DataFrame({'Counts': frequency_counts, 'Percentage': frequency_percentage})\n",
    "\n",
    "print(frequency_df)\n",
    "\n",
    "# Print total value\n",
    "cardinality = df['label'].nunique()\n",
    "print(f\"\\ntotal values: {cardinality}\")"
   ]
  },
  {
   "cell_type": "code",
   "execution_count": 15,
   "id": "bd754bc0",
   "metadata": {},
   "outputs": [
    {
     "data": {
      "image/png": "[encoded data removed]",
      "text/plain": [
       "<Figure size 640x480 with 1 Axes>"
      ]
     },
     "metadata": {},
     "output_type": "display_data"
    }
   ],
   "source": [
    "# Extract sentiment values & frequencies  here i have taken senti(like for very happy=1, for sad=3,for very bad=5)\n",
    "sentiment_counts = df['label'].value_counts().sort_index()\n",
    "\n",
    "sentiments = sentiment_counts.index\n",
    "frequencies = sentiment_counts.values\n",
    "\n",
    "# Plot\n",
    "plt.barh(sentiments, frequencies, color='orange')\n",
    "plt.xlabel('Frequency')\n",
    "plt.ylabel('label')\n",
    "plt.title('Distribution of class \"label\"')\n",
    "plt.gca().invert_yaxis()  # Invert the y-axis to have the highest sentiment at the top\n",
    "plt.show()"
   ]
  },
  {
   "cell_type": "code",
   "execution_count": 16,
   "id": "695364e0",
   "metadata": {},
   "outputs": [
    {
     "name": "stdout",
     "output_type": "stream",
     "text": [
      "15969\n",
      "15969\n"
     ]
    }
   ],
   "source": [
    "X = df['text']\n",
    "y = df['label']\n",
    "\n",
    "print(len(X))\n",
    "print(len(y))"
   ]
  },
  {
   "cell_type": "code",
   "execution_count": 17,
   "id": "d4631b64",
   "metadata": {},
   "outputs": [],
   "source": [
    "cleaned = []\n",
    "\n",
    "for sen in range(0, len(X)):\n",
    "    # Remove all the special characters (any letter or a digit)\n",
    "    document = re.sub(r'\\W', ' ', str(X[sen]))\n",
    "\n",
    "    # remove all single characters (surrounded by whitespace)\n",
    "    document = re.sub(r'\\s+[a-zA-Z]\\s+', ' ', document)\n",
    "\n",
    "    # Remove single characters from the start\n",
    "    document = re.sub(r'\\^[a-zA-Z]\\s+', ' ', document)\n",
    "\n",
    "    # Substituting multiple spaces with single space\n",
    "    document = re.sub(r'\\s+', ' ', document, flags=re.I)\n",
    "\n",
    "    # Removing prefixed 'b'\n",
    "    document = re.sub(r'^b\\s+', '', document)\n",
    "\n",
    "    # Converting to Lowercase\n",
    "    document = document.lower()\n",
    "\n",
    "    # Lemmatization- splits into list of words ['The', 'quick', ....]\n",
    "    document = document.split()\n",
    "\n",
    "    lemma = WordNetLemmatizer()\n",
    "    document = [lemma.lemmatize(word) for word in document]\n",
    "    document = ' '.join(document)\n",
    "    cleaned.append(document)"
   ]
  },
  {
   "cell_type": "code",
   "execution_count": 18,
   "id": "d0c81ceb",
   "metadata": {},
   "outputs": [
    {
     "data": {
      "text/plain": [
       "15969"
      ]
     },
     "execution_count": 18,
     "metadata": {},
     "output_type": "execute_result"
    }
   ],
   "source": [
    "len(cleaned)"
   ]
  },
  {
   "cell_type": "code",
   "execution_count": 21,
   "id": "439df640",
   "metadata": {},
   "outputs": [
    {
     "name": "stdout",
     "output_type": "stream",
     "text": [
      "                                                    text  label  stop_words\n",
      "0                                i didnt feel humiliated      0           1\n",
      "1      i can go from feeling so hopeless to so damned...      0          10\n",
      "2       im grabbing a minute to post i feel greedy wrong      3           3\n",
      "3      i am ever feeling nostalgic about the fireplac...      2           9\n",
      "4                                   i am feeling grouchy      3           2\n",
      "...                                                  ...    ...         ...\n",
      "15964  i just had a very brief time in the beanbag an...      0          13\n",
      "15965  i am now turning and i feel pathetic that i am...      0           7\n",
      "15966                     i feel strong and good overall      1           2\n",
      "15967  i feel like this was such a rude comment and i...      3           8\n",
      "15968  i know a lot but i feel so stupid because i ca...      0           8\n",
      "\n",
      "[15890 rows x 3 columns]\n"
     ]
    }
   ],
   "source": [
    "temp = df.copy()\n",
    "stop_words = set(stopwords.words(\"english\"))\n",
    "temp['stop_words'] = temp['text'].apply(lambda x: len(set(x.split()) & stop_words))\n",
    "\n",
    "# Print rows that contain stopwords\n",
    "rows_with_stopwords = temp[temp['stop_words'] > 0]\n",
    "print(rows_with_stopwords)"
   ]
  },
  {
   "cell_type": "code",
   "execution_count": 22,
   "id": "70b394b6",
   "metadata": {},
   "outputs": [
    {
     "name": "stdout",
     "output_type": "stream",
     "text": [
      "<class 'list'>\n",
      "15969\n",
      "i didnt feel humiliated\n",
      "i can go from feeling so hopeless to so damned hopeful just from being around someone who care and is awake\n",
      "im grabbing minute to post feel greedy wrong\n",
      "i am ever feeling nostalgic about the fireplace will know that it is still on the property\n",
      "i am feeling grouchy\n",
      "ive been feeling little burdened lately wasnt sure why that wa\n",
      "ive been taking or milligram or time recommended amount and ive fallen asleep lot faster but also feel like so funny\n",
      "i feel a confused about life a teenager or a jaded a year old man\n",
      "i have been with petronas for year feel that petronas ha performed well and made huge profit\n",
      "i feel romantic too\n",
      "i feel like have to make the suffering m seeing mean something\n",
      "i do feel that running is divine experience and that can expect to have some type of spiritual encounter\n",
      "i think it the easiest time of year to feel dissatisfied\n",
      "i feel low energy m just thirsty\n",
      "i have immense sympathy with the general point but a possible proto writer trying to find time to write in the corner of life and with no sign of an agent let alone publishing contract this feel little precious\n"
     ]
    }
   ],
   "source": [
    "cleaned_tokenized = []\n",
    "for each in cleaned:\n",
    "    doc = sent_tokenize(each)\n",
    "    for sentence in doc:\n",
    "        cleaned_tokenized.append(sentence)\n",
    "\n",
    "# Type and length of the cleaned & tokenised sentence\n",
    "print(type(cleaned_tokenized))\n",
    "print(len(cleaned_tokenized))\n",
    "\n",
    "# Print the fist 15 lines of the cleaned & tokenised sentence\n",
    "for i in range(15):\n",
    "  print(cleaned_tokenized[i])"
   ]
  },
  {
   "cell_type": "code",
   "execution_count": 23,
   "id": "7fc020e8",
   "metadata": {},
   "outputs": [],
   "source": [
    "count_vectorizer = CountVectorizer()\n",
    "count_vectorizer.fit_transform(X)\n",
    "# CV sparse matrix\n",
    "freq_term_matrix = count_vectorizer.transform(X)      \n",
    "\n",
    "tfidf = TfidfTransformer(norm = \"l2\")\n",
    "tfidf.fit(freq_term_matrix)\n",
    "tf_idf_matrix = tfidf.fit_transform(freq_term_matrix) # tf-idf sparse matrix\n",
    "# print(tf_idf_matrix)\n",
    "dense_tf_idf_matrix = tf_idf_matrix.toarray()         # tf-idf dense matrix\n",
    "# print(dense_tf_idf_matrix)\n",
    "\n",
    "X_train, X_test, y_train, y_test = train_test_split(tf_idf_matrix, y, test_size=0.2, random_state=42)"
   ]
  },
  {
   "cell_type": "code",
   "execution_count": 24,
   "id": "d6d27beb",
   "metadata": {},
   "outputs": [
    {
     "name": "stderr",
     "output_type": "stream",
     "text": [
      "C:\\Users\\Ajayc\\anaconda3\\lib\\site-packages\\sklearn\\metrics\\_classification.py:1318: UndefinedMetricWarning: Precision and F-score are ill-defined and being set to 0.0 in labels with no predicted samples. Use `zero_division` parameter to control this behavior.\n",
      "  _warn_prf(average, modifier, msg_start, len(result))\n",
      "C:\\Users\\Ajayc\\anaconda3\\lib\\site-packages\\sklearn\\metrics\\_classification.py:1318: UndefinedMetricWarning: Precision and F-score are ill-defined and being set to 0.0 in labels with no predicted samples. Use `zero_division` parameter to control this behavior.\n",
      "  _warn_prf(average, modifier, msg_start, len(result))\n",
      "C:\\Users\\Ajayc\\anaconda3\\lib\\site-packages\\sklearn\\metrics\\_classification.py:1318: UndefinedMetricWarning: Precision and F-score are ill-defined and being set to 0.0 in labels with no predicted samples. Use `zero_division` parameter to control this behavior.\n",
      "  _warn_prf(average, modifier, msg_start, len(result))\n",
      "C:\\Users\\Ajayc\\anaconda3\\lib\\site-packages\\sklearn\\metrics\\_classification.py:1318: UndefinedMetricWarning: Precision and F-score are ill-defined and being set to 0.0 in labels with no predicted samples. Use `zero_division` parameter to control this behavior.\n",
      "  _warn_prf(average, modifier, msg_start, len(result))\n",
      "C:\\Users\\Ajayc\\anaconda3\\lib\\site-packages\\sklearn\\metrics\\_classification.py:1318: UndefinedMetricWarning: Precision and F-score are ill-defined and being set to 0.0 in labels with no predicted samples. Use `zero_division` parameter to control this behavior.\n",
      "  _warn_prf(average, modifier, msg_start, len(result))\n",
      "C:\\Users\\Ajayc\\anaconda3\\lib\\site-packages\\sklearn\\metrics\\_classification.py:1318: UndefinedMetricWarning: Precision and F-score are ill-defined and being set to 0.0 in labels with no predicted samples. Use `zero_division` parameter to control this behavior.\n",
      "  _warn_prf(average, modifier, msg_start, len(result))\n"
     ]
    },
    {
     "name": "stdout",
     "output_type": "stream",
     "text": [
      "Classification Report (Cross-Validation):\n",
      "               precision    recall  f1-score   support\n",
      "\n",
      "           0       0.69      0.86      0.77      3694\n",
      "           1       0.54      0.98      0.70      4321\n",
      "           2       1.00      0.01      0.01      1007\n",
      "           3       0.96      0.12      0.22      1756\n",
      "           4       0.91      0.08      0.15      1548\n",
      "           5       0.00      0.00      0.00       449\n",
      "\n",
      "    accuracy                           0.61     12775\n",
      "   macro avg       0.68      0.34      0.31     12775\n",
      "weighted avg       0.71      0.61      0.51     12775\n",
      "\n",
      "Accuracy (Cross-Validation): 0.6100978473581213\n",
      "Classification Report (Test Data):\n",
      "               precision    recall  f1-score   support\n",
      "\n",
      "           0       0.71      0.88      0.78       970\n",
      "           1       0.54      0.98      0.70      1029\n",
      "           2       1.00      0.01      0.01       292\n",
      "           3       0.92      0.14      0.24       399\n",
      "           4       0.87      0.10      0.18       385\n",
      "           5       0.00      0.00      0.00       119\n",
      "\n",
      "    accuracy                           0.62      3194\n",
      "   macro avg       0.67      0.35      0.32      3194\n",
      "weighted avg       0.70      0.62      0.52      3194\n",
      "\n",
      "Accuracy (Test Data): 0.6155291170945523\n"
     ]
    },
    {
     "data": {
      "image/png": "[encoded data removed]",
      "text/plain": [
       "<Figure size 800x600 with 1 Axes>"
      ]
     },
     "metadata": {},
     "output_type": "display_data"
    }
   ],
   "source": [
    "model = MultinomialNB()\n",
    "\n",
    "# Train\n",
    "model.fit(X_train, y_train)\n",
    "\n",
    "# Test\n",
    "y_pred = model.predict(X_test)\n",
    "\n",
    "# Evaluate\n",
    "cv = StratifiedKFold(n_splits=5, shuffle=True, random_state=42)\n",
    "\n",
    "y_pred_cv = cross_val_predict(model, X_train, y_train, cv=cv)\n",
    "\n",
    "classification_rep = classification_report(y_train, y_pred_cv)\n",
    "print(\"Classification Report (Cross-Validation):\\n\", classification_rep)\n",
    "\n",
    "accuracy = accuracy_score(y_train, y_pred_cv)\n",
    "print(\"Accuracy (Cross-Validation):\", accuracy)\n",
    "\n",
    "model.fit(X_train, y_train)\n",
    "y_pred_test = model.predict(X_test)\n",
    "\n",
    "classification_rep_test = classification_report(y_test, y_pred_test)\n",
    "print(\"Classification Report (Test Data):\\n\", classification_rep_test)\n",
    "\n",
    "accuracy_test = accuracy_score(y_test, y_pred_test)\n",
    "print(\"Accuracy (Test Data):\", accuracy_test)\n",
    "\n",
    "import seaborn as sns\n",
    "import matplotlib.pyplot as plt\n",
    "from sklearn.metrics import confusion_matrix\n",
    "\n",
    "# Calculating the confusion matrix\n",
    "confusion_mat = confusion_matrix(y_test, y_pred)\n",
    "\n",
    "# Heatmap of the confusion matrix\n",
    "plt.figure(figsize=(8, 6))\n",
    "sns.heatmap(confusion_mat, annot=True, fmt='d', cmap='Blues', cbar=False)\n",
    "plt.xlabel('Predicted Labels')\n",
    "plt.ylabel('True Labels')\n",
    "plt.title('Confusion Matrix NB')\n",
    "plt.show()"
   ]
  },
  {
   "cell_type": "code",
   "execution_count": 25,
   "id": "641f303b",
   "metadata": {},
   "outputs": [
    {
     "name": "stdout",
     "output_type": "stream",
     "text": [
      "Accuracy: 0.8516\n",
      "Precision: 0.8508\n",
      "Recall: 0.8516\n",
      "F1-score: 0.8502\n"
     ]
    },
    {
     "data": {
      "image/png": "[encoded data removed]",
      "text/plain": [
       "<Figure size 1000x600 with 1 Axes>"
      ]
     },
     "metadata": {},
     "output_type": "display_data"
    }
   ],
   "source": [
    "mlp_model = MLPClassifier(hidden_layer_sizes=(100, 100), alpha = 0.01, max_iter=100)\n",
    "\n",
    "# Train\n",
    "history = mlp_model.fit(X_train, y_train)\n",
    "\n",
    "# Test\n",
    "y_pred = mlp_model.predict(X_test)\n",
    "\n",
    "# Evaluate\n",
    "accuracy = accuracy_score(y_test, y_pred)\n",
    "precision = precision_score(y_test, y_pred, average='weighted')\n",
    "recall = recall_score(y_test, y_pred, average='weighted')\n",
    "f1 = f1_score(y_test, y_pred, average='weighted')\n",
    "\n",
    "print(f\"Accuracy: {accuracy:.4f}\")\n",
    "print(f\"Precision: {precision:.4f}\")\n",
    "print(f\"Recall: {recall:.4f}\")\n",
    "print(f\"F1-score: {f1:.4f}\")\n",
    "\n",
    "train_loss = history.loss_curve_\n",
    "num_epochs = len(train_loss)\n",
    "\n",
    "epochs = range(1, num_epochs + 1)\n",
    "\n",
    "plt.figure(figsize=(10, 6))\n",
    "plt.plot(epochs, train_loss, 'b', label='Training loss')\n",
    "plt.title('Training Loss Curve')\n",
    "plt.xlabel('Epochs')\n",
    "plt.ylabel('Loss')\n",
    "plt.legend()\n",
    "plt.grid(True)\n",
    "plt.show()"
   ]
  },
  {
   "cell_type": "code",
   "execution_count": 26,
   "id": "ecf3929b",
   "metadata": {},
   "outputs": [
    {
     "name": "stdout",
     "output_type": "stream",
     "text": [
      "Classification Report:\n",
      "               precision    recall  f1-score   support\n",
      "\n",
      "           0       0.86      0.92      0.89       970\n",
      "           1       0.74      0.97      0.84      1029\n",
      "           2       0.93      0.43      0.59       292\n",
      "           3       0.93      0.71      0.80       399\n",
      "           4       0.81      0.69      0.75       385\n",
      "           5       0.94      0.39      0.55       119\n",
      "\n",
      "    accuracy                           0.82      3194\n",
      "   macro avg       0.87      0.68      0.74      3194\n",
      "weighted avg       0.83      0.82      0.80      3194\n",
      "\n",
      "Accuracy: 0.8155917345021916\n"
     ]
    }
   ],
   "source": [
    "model = SVC()\n",
    "model.fit(X_train, y_train)\n",
    "\n",
    "# Test\n",
    "y_pred = model.predict(X_test)\n",
    "\n",
    "# Evaluate\n",
    "classification_rep = classification_report(y_test, y_pred)\n",
    "print(\"Classification Report:\\n\", classification_rep)\n",
    "\n",
    "accuracy = accuracy_score(y_test, y_pred)\n",
    "print(\"Accuracy:\", accuracy)"
   ]
  },
  {
   "cell_type": "code",
   "execution_count": null,
   "id": "c8fb5e54",
   "metadata": {},
   "outputs": [],
   "source": []
  }
 ],
 "metadata": {
  "kernelspec": {
   "display_name": "Python 3 (ipykernel)",
   "language": "python",
   "name": "python3"
  },
  "language_info": {
   "codemirror_mode": {
    "name": "ipython",
    "version": 3
   },
   "file_extension": ".py",
   "mimetype": "text/x-python",
   "name": "python",
   "nbconvert_exporter": "python",
   "pygments_lexer": "ipython3",
   "version": "3.9.13"
  }
 },
 "nbformat": 4,
 "nbformat_minor": 5
}
