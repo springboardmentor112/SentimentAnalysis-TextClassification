{
 "cells": [
  {
   "cell_type": "markdown",
   "id": "4cc132b8",
   "metadata": {},
   "source": [
    "#  Introduction To Text Classification\n"
   ]
  },
  {
   "cell_type": "markdown",
   "id": "a207b7e5",
   "metadata": {},
   "source": [
    "Text classification is a fundamental task in data analysis and natural language processing (NLP) that involves categorizing text documents into predefined classes or categories.\n",
    "\n",
    "It's used in a wide range of applications such as spam detection, sentiment analysis, topic classification, and language identification."
   ]
  },
  {
   "cell_type": "markdown",
   "id": "d9244dd8",
   "metadata": {},
   "source": [
    "The process of text classification typically involves the following steps:\n",
    "\n",
    "1.Data Preprocessing: This step involves cleaning and preparing the text data for analysis. It may include removing punctuation, converting text to lowercase, and removing stopwords (commonly used words that do not carry much meaning).\n",
    "\n",
    "2.Feature Extraction: In this step, the text data is converted into numerical feature vectors that can be used as input to machine learning algorithms. Common techniques for feature extraction in text classification include bag-of-words, TF-IDF (Term Frequency-Inverse Document Frequency), and word embeddings like Word2Vec or GloVe.\n",
    "\n",
    "3.Model Selection: Once the features are extracted, a machine learning model is selected and trained on the labeled data. Popular models for text classification include Naive Bayes, Logistic Regression, Support Vector Machines (SVM), and more recently, deep learning models like Convolutional Neural Networks (CNNs) and Recurrent Neural Networks (RNNs).\n",
    "\n",
    "4.Model Evaluation: After training the model, it is evaluated on a separate test dataset to assess its performance. Common evaluation metrics for text classification include accuracy, precision, recall, and F1-score.\n",
    "\n",
    "5.Deployment and Monitoring: Once the model is trained and evaluated, it can be deployed to classify new unseen text data. It's important to monitor the model's performance over time and retrain it if necessary to maintain its accuracy."
   ]
  },
  {
   "cell_type": "markdown",
   "id": "ea93a2fd",
   "metadata": {},
   "source": [
    "# Importing Libraries"
   ]
  },
  {
   "cell_type": "code",
   "execution_count": 1,
   "id": "8d25ddba",
   "metadata": {},
   "outputs": [
    {
     "name": "stdout",
     "output_type": "stream",
     "text": [
      "Requirement already satisfied: xgboost in c:\\users\\prashant\\anaconda3\\lib\\site-packages (2.0.3)\n",
      "Requirement already satisfied: numpy in c:\\users\\prashant\\anaconda3\\lib\\site-packages (from xgboost) (1.21.5)\n",
      "Requirement already satisfied: scipy in c:\\users\\prashant\\anaconda3\\lib\\site-packages (from xgboost) (1.7.3)\n"
     ]
    }
   ],
   "source": [
    "import pandas as pd\n",
    "import numpy as np\n",
    "import re\n",
    "import nltk\n",
    "import string\n",
    "import sklearn\n",
    "import matplotlib.pyplot as plt\n",
    "import seaborn as sns\n",
    "from nltk.corpus import stopwords\n",
    "from nltk.stem import PorterStemmer\n",
    "from nltk.tokenize import word_tokenize\n",
    "from sklearn.feature_extraction.text import TfidfVectorizer\n",
    "from sklearn.feature_extraction.text import CountVectorizer\n",
    "from sklearn.preprocessing import StandardScaler\n",
    "from sklearn.feature_selection import SelectKBest, f_classif\n",
    "from sklearn.decomposition import PCA\n",
    "from sklearn.model_selection import train_test_split\n",
    "#1\n",
    "from sklearn.linear_model import LogisticRegression\n",
    "from sklearn.pipeline import make_pipeline\n",
    "from sklearn.metrics import accuracy_score\n",
    "from sklearn.metrics import classification_report, confusion_matrix\n",
    "from sklearn.model_selection import train_test_split, GridSearchCV\n",
    "from sklearn.model_selection import cross_val_score, train_test_split\n",
    "\n",
    "#2 Support Vestor Machine Model\n",
    "from sklearn.svm import SVC\n",
    "from sklearn.metrics import accuracy_score\n",
    "from sklearn.model_selection import train_test_split\n",
    "from sklearn.metrics import classification_report, confusion_matrix\n",
    "from sklearn.model_selection import GridSearchCV\n",
    "from sklearn.metrics import classification_report, confusion_matrix\n",
    "\n",
    "#3 Random Forest Model\n",
    "from sklearn.ensemble import RandomForestClassifier\n",
    "from sklearn.metrics import accuracy_score, classification_report, confusion_matrix\n",
    "import matplotlib.pyplot as plt\n",
    "import seaborn as sns\n",
    "\n",
    "#4 Navive Bayes Model\n",
    "from sklearn.naive_bayes import MultinomialNB\n",
    "from sklearn.metrics import accuracy_score, classification_report, confusion_matrix\n",
    "import matplotlib.pyplot as plt\n",
    "import seaborn as sns\n",
    "\n",
    "#5 XGBoost Model\n",
    "!pip install xgboost\n",
    "from xgboost import XGBClassifier\n",
    "from sklearn.metrics import accuracy_score, classification_report, confusion_matrix\n",
    "import matplotlib.pyplot as plt\n",
    "import seaborn as sns\n",
    "\n",
    "\n",
    "\n",
    "\n",
    "\n",
    "\n",
    "\n",
    "\n"
   ]
  },
  {
   "cell_type": "markdown",
   "id": "87255882",
   "metadata": {},
   "source": [
    "# Importing csv file\n"
   ]
  },
  {
   "cell_type": "code",
   "execution_count": 2,
   "id": "807ddc14",
   "metadata": {
    "collapsed": true
   },
   "outputs": [
    {
     "data": {
      "text/html": [
       "<div>\n",
       "<style scoped>\n",
       "    .dataframe tbody tr th:only-of-type {\n",
       "        vertical-align: middle;\n",
       "    }\n",
       "\n",
       "    .dataframe tbody tr th {\n",
       "        vertical-align: top;\n",
       "    }\n",
       "\n",
       "    .dataframe thead th {\n",
       "        text-align: right;\n",
       "    }\n",
       "</style>\n",
       "<table border=\"1\" class=\"dataframe\">\n",
       "  <thead>\n",
       "    <tr style=\"text-align: right;\">\n",
       "      <th></th>\n",
       "      <th>text</th>\n",
       "      <th>label</th>\n",
       "    </tr>\n",
       "  </thead>\n",
       "  <tbody>\n",
       "    <tr>\n",
       "      <th>0</th>\n",
       "      <td>i didnt feel humiliated</td>\n",
       "      <td>0</td>\n",
       "    </tr>\n",
       "    <tr>\n",
       "      <th>1</th>\n",
       "      <td>i can go from feeling so hopeless to so damned...</td>\n",
       "      <td>0</td>\n",
       "    </tr>\n",
       "    <tr>\n",
       "      <th>2</th>\n",
       "      <td>im grabbing a minute to post i feel greedy wrong</td>\n",
       "      <td>3</td>\n",
       "    </tr>\n",
       "    <tr>\n",
       "      <th>3</th>\n",
       "      <td>i am ever feeling nostalgic about the fireplac...</td>\n",
       "      <td>2</td>\n",
       "    </tr>\n",
       "    <tr>\n",
       "      <th>4</th>\n",
       "      <td>i am feeling grouchy</td>\n",
       "      <td>3</td>\n",
       "    </tr>\n",
       "  </tbody>\n",
       "</table>\n",
       "</div>"
      ],
      "text/plain": [
       "                                                text  label\n",
       "0                            i didnt feel humiliated      0\n",
       "1  i can go from feeling so hopeless to so damned...      0\n",
       "2   im grabbing a minute to post i feel greedy wrong      3\n",
       "3  i am ever feeling nostalgic about the fireplac...      2\n",
       "4                               i am feeling grouchy      3"
      ]
     },
     "execution_count": 2,
     "metadata": {},
     "output_type": "execute_result"
    }
   ],
   "source": [
    "df = pd.read_csv('Emotions_training.csv', encoding= 'unicode_escape')\n",
    "df.head()"
   ]
  },
  {
   "cell_type": "markdown",
   "id": "7addf2e3",
   "metadata": {},
   "source": [
    "# Getting the info of the dataset"
   ]
  },
  {
   "cell_type": "code",
   "execution_count": 5,
   "id": "daccd47c",
   "metadata": {
    "collapsed": true
   },
   "outputs": [
    {
     "name": "stdout",
     "output_type": "stream",
     "text": [
      "<class 'pandas.core.frame.DataFrame'>\n",
      "RangeIndex: 16000 entries, 0 to 15999\n",
      "Data columns (total 2 columns):\n",
      " #   Column  Non-Null Count  Dtype \n",
      "---  ------  --------------  ----- \n",
      " 0   text    16000 non-null  object\n",
      " 1   label   16000 non-null  int64 \n",
      "dtypes: int64(1), object(1)\n",
      "memory usage: 250.1+ KB\n"
     ]
    }
   ],
   "source": [
    "df.info()"
   ]
  },
  {
   "cell_type": "markdown",
   "id": "26d99a77",
   "metadata": {},
   "source": [
    "# Viewing the coloums present in dataset"
   ]
  },
  {
   "cell_type": "code",
   "execution_count": 17,
   "id": "2dbe026a",
   "metadata": {
    "collapsed": true
   },
   "outputs": [
    {
     "data": {
      "text/plain": [
       "Index(['text', 'label'], dtype='object')"
      ]
     },
     "execution_count": 17,
     "metadata": {},
     "output_type": "execute_result"
    }
   ],
   "source": [
    "df.columns"
   ]
  },
  {
   "cell_type": "markdown",
   "id": "5e484115",
   "metadata": {},
   "source": [
    "# Displaying the present rows and coloums in dataset"
   ]
  },
  {
   "cell_type": "code",
   "execution_count": 6,
   "id": "45aaf767",
   "metadata": {
    "collapsed": true
   },
   "outputs": [
    {
     "data": {
      "text/plain": [
       "(16000, 2)"
      ]
     },
     "execution_count": 6,
     "metadata": {},
     "output_type": "execute_result"
    }
   ],
   "source": [
    "df.shape\n"
   ]
  },
  {
   "cell_type": "markdown",
   "id": "922a6ceb",
   "metadata": {},
   "source": [
    "# Describing() method returns description of the data in the DataFrame (i.e. count, mean, std, etc)\n"
   ]
  },
  {
   "cell_type": "code",
   "execution_count": 19,
   "id": "aa6315c9",
   "metadata": {
    "collapsed": true
   },
   "outputs": [
    {
     "data": {
      "text/html": [
       "<div>\n",
       "<style scoped>\n",
       "    .dataframe tbody tr th:only-of-type {\n",
       "        vertical-align: middle;\n",
       "    }\n",
       "\n",
       "    .dataframe tbody tr th {\n",
       "        vertical-align: top;\n",
       "    }\n",
       "\n",
       "    .dataframe thead th {\n",
       "        text-align: right;\n",
       "    }\n",
       "</style>\n",
       "<table border=\"1\" class=\"dataframe\">\n",
       "  <thead>\n",
       "    <tr style=\"text-align: right;\">\n",
       "      <th></th>\n",
       "      <th>label</th>\n",
       "    </tr>\n",
       "  </thead>\n",
       "  <tbody>\n",
       "    <tr>\n",
       "      <th>count</th>\n",
       "      <td>16000.000000</td>\n",
       "    </tr>\n",
       "    <tr>\n",
       "      <th>mean</th>\n",
       "      <td>1.565937</td>\n",
       "    </tr>\n",
       "    <tr>\n",
       "      <th>std</th>\n",
       "      <td>1.501430</td>\n",
       "    </tr>\n",
       "    <tr>\n",
       "      <th>min</th>\n",
       "      <td>0.000000</td>\n",
       "    </tr>\n",
       "    <tr>\n",
       "      <th>25%</th>\n",
       "      <td>0.000000</td>\n",
       "    </tr>\n",
       "    <tr>\n",
       "      <th>50%</th>\n",
       "      <td>1.000000</td>\n",
       "    </tr>\n",
       "    <tr>\n",
       "      <th>75%</th>\n",
       "      <td>3.000000</td>\n",
       "    </tr>\n",
       "    <tr>\n",
       "      <th>max</th>\n",
       "      <td>5.000000</td>\n",
       "    </tr>\n",
       "  </tbody>\n",
       "</table>\n",
       "</div>"
      ],
      "text/plain": [
       "              label\n",
       "count  16000.000000\n",
       "mean       1.565937\n",
       "std        1.501430\n",
       "min        0.000000\n",
       "25%        0.000000\n",
       "50%        1.000000\n",
       "75%        3.000000\n",
       "max        5.000000"
      ]
     },
     "execution_count": 19,
     "metadata": {},
     "output_type": "execute_result"
    }
   ],
   "source": [
    "df.describe()"
   ]
  },
  {
   "cell_type": "markdown",
   "id": "7c5237a7",
   "metadata": {},
   "source": [
    "# Data Preprocessing"
   ]
  },
  {
   "cell_type": "markdown",
   "id": "15e465a6",
   "metadata": {},
   "source": [
    "# 1.Fixing Datatype(text column)\n"
   ]
  },
  {
   "cell_type": "code",
   "execution_count": 14,
   "id": "323ac838",
   "metadata": {
    "collapsed": true
   },
   "outputs": [
    {
     "name": "stdout",
     "output_type": "stream",
     "text": [
      "<class 'pandas.core.frame.DataFrame'>\n",
      "RangeIndex: 16000 entries, 0 to 15999\n",
      "Data columns (total 2 columns):\n",
      " #   Column  Non-Null Count  Dtype \n",
      "---  ------  --------------  ----- \n",
      " 0   text    16000 non-null  string\n",
      " 1   label   16000 non-null  int64 \n",
      "dtypes: int64(1), string(1)\n",
      "memory usage: 250.1 KB\n"
     ]
    }
   ],
   "source": [
    "string_colms = {'text': 'string',}\n",
    "df = df.astype(string_colms)\n",
    "df.info()"
   ]
  },
  {
   "cell_type": "markdown",
   "id": "d1db4837",
   "metadata": {},
   "source": [
    "# Checking for null values if any present\n"
   ]
  },
  {
   "cell_type": "code",
   "execution_count": 15,
   "id": "1d3fd7b9",
   "metadata": {
    "collapsed": true
   },
   "outputs": [
    {
     "data": {
      "text/plain": [
       "text     0\n",
       "label    0\n",
       "dtype: int64"
      ]
     },
     "execution_count": 15,
     "metadata": {},
     "output_type": "execute_result"
    }
   ],
   "source": [
    "pd.isnull(df).sum()\n"
   ]
  },
  {
   "cell_type": "markdown",
   "id": "0a64915a",
   "metadata": {},
   "source": [
    "# Droping the null values\n"
   ]
  },
  {
   "cell_type": "code",
   "execution_count": 16,
   "id": "9340fe10",
   "metadata": {
    "collapsed": true
   },
   "outputs": [
    {
     "data": {
      "text/html": [
       "<div>\n",
       "<style scoped>\n",
       "    .dataframe tbody tr th:only-of-type {\n",
       "        vertical-align: middle;\n",
       "    }\n",
       "\n",
       "    .dataframe tbody tr th {\n",
       "        vertical-align: top;\n",
       "    }\n",
       "\n",
       "    .dataframe thead th {\n",
       "        text-align: right;\n",
       "    }\n",
       "</style>\n",
       "<table border=\"1\" class=\"dataframe\">\n",
       "  <thead>\n",
       "    <tr style=\"text-align: right;\">\n",
       "      <th></th>\n",
       "      <th>text</th>\n",
       "      <th>label</th>\n",
       "    </tr>\n",
       "  </thead>\n",
       "  <tbody>\n",
       "    <tr>\n",
       "      <th>0</th>\n",
       "      <td>i didnt feel humiliated</td>\n",
       "      <td>0</td>\n",
       "    </tr>\n",
       "    <tr>\n",
       "      <th>1</th>\n",
       "      <td>i can go from feeling so hopeless to so damned...</td>\n",
       "      <td>0</td>\n",
       "    </tr>\n",
       "    <tr>\n",
       "      <th>2</th>\n",
       "      <td>im grabbing a minute to post i feel greedy wrong</td>\n",
       "      <td>3</td>\n",
       "    </tr>\n",
       "    <tr>\n",
       "      <th>3</th>\n",
       "      <td>i am ever feeling nostalgic about the fireplac...</td>\n",
       "      <td>2</td>\n",
       "    </tr>\n",
       "    <tr>\n",
       "      <th>4</th>\n",
       "      <td>i am feeling grouchy</td>\n",
       "      <td>3</td>\n",
       "    </tr>\n",
       "  </tbody>\n",
       "</table>\n",
       "</div>"
      ],
      "text/plain": [
       "                                                text  label\n",
       "0                            i didnt feel humiliated      0\n",
       "1  i can go from feeling so hopeless to so damned...      0\n",
       "2   im grabbing a minute to post i feel greedy wrong      3\n",
       "3  i am ever feeling nostalgic about the fireplac...      2\n",
       "4                               i am feeling grouchy      3"
      ]
     },
     "execution_count": 16,
     "metadata": {},
     "output_type": "execute_result"
    }
   ],
   "source": [
    "df.dropna(inplace=True)\n",
    "df.head()"
   ]
  },
  {
   "cell_type": "markdown",
   "id": "9f640b91",
   "metadata": {},
   "source": [
    "# Reviewing the content's present in \"text\" column\n"
   ]
  },
  {
   "cell_type": "code",
   "execution_count": 20,
   "id": "2a9dc19f",
   "metadata": {
    "collapsed": true
   },
   "outputs": [
    {
     "data": {
      "text/plain": [
       "<StringArray>\n",
       "[                                                                                                                                     'i didnt feel humiliated',\n",
       "                                                 'i can go from feeling so hopeless to so damned hopeful just from being around someone who cares and is awake',\n",
       "                                                                                                             'im grabbing a minute to post i feel greedy wrong',\n",
       "                                                                 'i am ever feeling nostalgic about the fireplace i will know that it is still on the property',\n",
       "                                                                                                                                         'i am feeling grouchy',\n",
       "                                                                                            'ive been feeling a little burdened lately wasnt sure why that was',\n",
       "                                   'ive been taking or milligrams or times recommended amount and ive fallen asleep a lot faster but i also feel like so funny',\n",
       "                                                                                    'i feel as confused about life as a teenager or as jaded as a year old man',\n",
       "                                                           'i have been with petronas for years i feel that petronas has performed well and made a huge profit',\n",
       "                                                                                                                                          'i feel romantic too',\n",
       " ...\n",
       "                                                         'i feel really glad that i dont look like the celebrities out there that are so beautiful she told dr',\n",
       " 'i have wanted to perhaps convey my feelings of a matter instead of my thoughts and have rejected it because i have thought feelings in the matter irrelevant',\n",
       "                                                             'i moved away he said something that made me feel violent but its something i still cant make out',\n",
       "                                                                      'i most days feel like if braeden and calvin are happy then it has been a successful day',\n",
       "                                                                                                                'i feel so sympathetic empathetic towards them',\n",
       "                                                        'i just had a very brief time in the beanbag and i said to anna that i feel like i have been beaten up',\n",
       "                                                       'i am now turning and i feel pathetic that i am still waiting tables and subbing with a teaching degree',\n",
       "                                                                                                                               'i feel strong and good overall',\n",
       "                                                                                                  'i feel like this was such a rude comment and im glad that t',\n",
       "                                                                                               'i know a lot but i feel so stupid because i can not portray it']\n",
       "Length: 15969, dtype: string"
      ]
     },
     "execution_count": 20,
     "metadata": {},
     "output_type": "execute_result"
    }
   ],
   "source": [
    "df['text'].unique()\n"
   ]
  },
  {
   "cell_type": "markdown",
   "id": "16d3698d",
   "metadata": {},
   "source": [
    "# Converting the  content of \"text \" column into lower case format"
   ]
  },
  {
   "cell_type": "code",
   "execution_count": 3,
   "id": "dd415226",
   "metadata": {
    "collapsed": true
   },
   "outputs": [
    {
     "data": {
      "text/html": [
       "<div>\n",
       "<style scoped>\n",
       "    .dataframe tbody tr th:only-of-type {\n",
       "        vertical-align: middle;\n",
       "    }\n",
       "\n",
       "    .dataframe tbody tr th {\n",
       "        vertical-align: top;\n",
       "    }\n",
       "\n",
       "    .dataframe thead th {\n",
       "        text-align: right;\n",
       "    }\n",
       "</style>\n",
       "<table border=\"1\" class=\"dataframe\">\n",
       "  <thead>\n",
       "    <tr style=\"text-align: right;\">\n",
       "      <th></th>\n",
       "      <th>text</th>\n",
       "      <th>label</th>\n",
       "    </tr>\n",
       "  </thead>\n",
       "  <tbody>\n",
       "    <tr>\n",
       "      <th>0</th>\n",
       "      <td>i didnt feel humiliated</td>\n",
       "      <td>0</td>\n",
       "    </tr>\n",
       "    <tr>\n",
       "      <th>1</th>\n",
       "      <td>i can go from feeling so hopeless to so damned...</td>\n",
       "      <td>0</td>\n",
       "    </tr>\n",
       "    <tr>\n",
       "      <th>2</th>\n",
       "      <td>im grabbing a minute to post i feel greedy wrong</td>\n",
       "      <td>3</td>\n",
       "    </tr>\n",
       "    <tr>\n",
       "      <th>3</th>\n",
       "      <td>i am ever feeling nostalgic about the fireplac...</td>\n",
       "      <td>2</td>\n",
       "    </tr>\n",
       "    <tr>\n",
       "      <th>4</th>\n",
       "      <td>i am feeling grouchy</td>\n",
       "      <td>3</td>\n",
       "    </tr>\n",
       "  </tbody>\n",
       "</table>\n",
       "</div>"
      ],
      "text/plain": [
       "                                                text  label\n",
       "0                            i didnt feel humiliated      0\n",
       "1  i can go from feeling so hopeless to so damned...      0\n",
       "2   im grabbing a minute to post i feel greedy wrong      3\n",
       "3  i am ever feeling nostalgic about the fireplac...      2\n",
       "4                               i am feeling grouchy      3"
      ]
     },
     "execution_count": 3,
     "metadata": {},
     "output_type": "execute_result"
    }
   ],
   "source": [
    "df['text'] = df['text'].str.lower()\n",
    "df.head()\n"
   ]
  },
  {
   "cell_type": "markdown",
   "id": "c282001b",
   "metadata": {},
   "source": [
    "# Removing the commas(,) from the \"text\"column \n",
    " "
   ]
  },
  {
   "cell_type": "code",
   "execution_count": 22,
   "id": "e5b1cd8c",
   "metadata": {
    "collapsed": true
   },
   "outputs": [
    {
     "data": {
      "text/html": [
       "<div>\n",
       "<style scoped>\n",
       "    .dataframe tbody tr th:only-of-type {\n",
       "        vertical-align: middle;\n",
       "    }\n",
       "\n",
       "    .dataframe tbody tr th {\n",
       "        vertical-align: top;\n",
       "    }\n",
       "\n",
       "    .dataframe thead th {\n",
       "        text-align: right;\n",
       "    }\n",
       "</style>\n",
       "<table border=\"1\" class=\"dataframe\">\n",
       "  <thead>\n",
       "    <tr style=\"text-align: right;\">\n",
       "      <th></th>\n",
       "      <th>text</th>\n",
       "      <th>label</th>\n",
       "    </tr>\n",
       "  </thead>\n",
       "  <tbody>\n",
       "    <tr>\n",
       "      <th>0</th>\n",
       "      <td>i didnt feel humiliated</td>\n",
       "      <td>0</td>\n",
       "    </tr>\n",
       "    <tr>\n",
       "      <th>1</th>\n",
       "      <td>i can go from feeling so hopeless to so damned...</td>\n",
       "      <td>0</td>\n",
       "    </tr>\n",
       "    <tr>\n",
       "      <th>2</th>\n",
       "      <td>im grabbing a minute to post i feel greedy wrong</td>\n",
       "      <td>3</td>\n",
       "    </tr>\n",
       "    <tr>\n",
       "      <th>3</th>\n",
       "      <td>i am ever feeling nostalgic about the fireplac...</td>\n",
       "      <td>2</td>\n",
       "    </tr>\n",
       "    <tr>\n",
       "      <th>4</th>\n",
       "      <td>i am feeling grouchy</td>\n",
       "      <td>3</td>\n",
       "    </tr>\n",
       "  </tbody>\n",
       "</table>\n",
       "</div>"
      ],
      "text/plain": [
       "                                                text  label\n",
       "0                            i didnt feel humiliated      0\n",
       "1  i can go from feeling so hopeless to so damned...      0\n",
       "2   im grabbing a minute to post i feel greedy wrong      3\n",
       "3  i am ever feeling nostalgic about the fireplac...      2\n",
       "4                               i am feeling grouchy      3"
      ]
     },
     "execution_count": 22,
     "metadata": {},
     "output_type": "execute_result"
    }
   ],
   "source": [
    "df['text'] = df['text'].str.replace(',', '')\n",
    "df.head()"
   ]
  },
  {
   "cell_type": "markdown",
   "id": "fcf7d6a4",
   "metadata": {},
   "source": [
    "# Removing the new lines using regex from the \"text\"coloum \n"
   ]
  },
  {
   "cell_type": "code",
   "execution_count": 23,
   "id": "76217b44",
   "metadata": {
    "collapsed": true
   },
   "outputs": [
    {
     "data": {
      "text/html": [
       "<div>\n",
       "<style scoped>\n",
       "    .dataframe tbody tr th:only-of-type {\n",
       "        vertical-align: middle;\n",
       "    }\n",
       "\n",
       "    .dataframe tbody tr th {\n",
       "        vertical-align: top;\n",
       "    }\n",
       "\n",
       "    .dataframe thead th {\n",
       "        text-align: right;\n",
       "    }\n",
       "</style>\n",
       "<table border=\"1\" class=\"dataframe\">\n",
       "  <thead>\n",
       "    <tr style=\"text-align: right;\">\n",
       "      <th></th>\n",
       "      <th>text</th>\n",
       "      <th>label</th>\n",
       "    </tr>\n",
       "  </thead>\n",
       "  <tbody>\n",
       "    <tr>\n",
       "      <th>0</th>\n",
       "      <td>i didnt feel humiliated</td>\n",
       "      <td>0</td>\n",
       "    </tr>\n",
       "    <tr>\n",
       "      <th>1</th>\n",
       "      <td>i can go from feeling so hopeless to so damned...</td>\n",
       "      <td>0</td>\n",
       "    </tr>\n",
       "    <tr>\n",
       "      <th>2</th>\n",
       "      <td>im grabbing a minute to post i feel greedy wrong</td>\n",
       "      <td>3</td>\n",
       "    </tr>\n",
       "    <tr>\n",
       "      <th>3</th>\n",
       "      <td>i am ever feeling nostalgic about the fireplac...</td>\n",
       "      <td>2</td>\n",
       "    </tr>\n",
       "    <tr>\n",
       "      <th>4</th>\n",
       "      <td>i am feeling grouchy</td>\n",
       "      <td>3</td>\n",
       "    </tr>\n",
       "  </tbody>\n",
       "</table>\n",
       "</div>"
      ],
      "text/plain": [
       "                                                text  label\n",
       "0                            i didnt feel humiliated      0\n",
       "1  i can go from feeling so hopeless to so damned...      0\n",
       "2   im grabbing a minute to post i feel greedy wrong      3\n",
       "3  i am ever feeling nostalgic about the fireplac...      2\n",
       "4                               i am feeling grouchy      3"
      ]
     },
     "execution_count": 23,
     "metadata": {},
     "output_type": "execute_result"
    }
   ],
   "source": [
    "df['text'] = df['text'].replace('\\n', '', regex=True)\n",
    "df.head()"
   ]
  },
  {
   "cell_type": "markdown",
   "id": "a3ec3a19",
   "metadata": {},
   "source": [
    "# Removing the links from the \"text\"coloum \n"
   ]
  },
  {
   "cell_type": "code",
   "execution_count": 24,
   "id": "512726eb",
   "metadata": {
    "collapsed": true
   },
   "outputs": [
    {
     "data": {
      "text/html": [
       "<div>\n",
       "<style scoped>\n",
       "    .dataframe tbody tr th:only-of-type {\n",
       "        vertical-align: middle;\n",
       "    }\n",
       "\n",
       "    .dataframe tbody tr th {\n",
       "        vertical-align: top;\n",
       "    }\n",
       "\n",
       "    .dataframe thead th {\n",
       "        text-align: right;\n",
       "    }\n",
       "</style>\n",
       "<table border=\"1\" class=\"dataframe\">\n",
       "  <thead>\n",
       "    <tr style=\"text-align: right;\">\n",
       "      <th></th>\n",
       "      <th>text</th>\n",
       "      <th>label</th>\n",
       "    </tr>\n",
       "  </thead>\n",
       "  <tbody>\n",
       "    <tr>\n",
       "      <th>0</th>\n",
       "      <td>i didnt feel humiliated</td>\n",
       "      <td>0</td>\n",
       "    </tr>\n",
       "    <tr>\n",
       "      <th>1</th>\n",
       "      <td>i can go from feeling so hopeless to so damned...</td>\n",
       "      <td>0</td>\n",
       "    </tr>\n",
       "    <tr>\n",
       "      <th>2</th>\n",
       "      <td>im grabbing a minute to post i feel greedy wrong</td>\n",
       "      <td>3</td>\n",
       "    </tr>\n",
       "    <tr>\n",
       "      <th>3</th>\n",
       "      <td>i am ever feeling nostalgic about the fireplac...</td>\n",
       "      <td>2</td>\n",
       "    </tr>\n",
       "    <tr>\n",
       "      <th>4</th>\n",
       "      <td>i am feeling grouchy</td>\n",
       "      <td>3</td>\n",
       "    </tr>\n",
       "  </tbody>\n",
       "</table>\n",
       "</div>"
      ],
      "text/plain": [
       "                                                text  label\n",
       "0                            i didnt feel humiliated      0\n",
       "1  i can go from feeling so hopeless to so damned...      0\n",
       "2   im grabbing a minute to post i feel greedy wrong      3\n",
       "3  i am ever feeling nostalgic about the fireplac...      2\n",
       "4                               i am feeling grouchy      3"
      ]
     },
     "execution_count": 24,
     "metadata": {},
     "output_type": "execute_result"
    }
   ],
   "source": [
    "df['text'] = df['text'].apply(lambda x: re.sub(r'http\\S+', '', x))\n",
    "df['text'] = df['text'].astype('string')\n",
    "df.head()"
   ]
  },
  {
   "cell_type": "markdown",
   "id": "d54c884d",
   "metadata": {},
   "source": [
    "# Removing the alpha numeric words from the \"text\"coloum \n"
   ]
  },
  {
   "cell_type": "code",
   "execution_count": 26,
   "id": "6e0ba3ff",
   "metadata": {
    "collapsed": true
   },
   "outputs": [
    {
     "data": {
      "text/html": [
       "<div>\n",
       "<style scoped>\n",
       "    .dataframe tbody tr th:only-of-type {\n",
       "        vertical-align: middle;\n",
       "    }\n",
       "\n",
       "    .dataframe tbody tr th {\n",
       "        vertical-align: top;\n",
       "    }\n",
       "\n",
       "    .dataframe thead th {\n",
       "        text-align: right;\n",
       "    }\n",
       "</style>\n",
       "<table border=\"1\" class=\"dataframe\">\n",
       "  <thead>\n",
       "    <tr style=\"text-align: right;\">\n",
       "      <th></th>\n",
       "      <th>text</th>\n",
       "      <th>label</th>\n",
       "    </tr>\n",
       "  </thead>\n",
       "  <tbody>\n",
       "    <tr>\n",
       "      <th>0</th>\n",
       "      <td>i didnt feel humiliated</td>\n",
       "      <td>0</td>\n",
       "    </tr>\n",
       "    <tr>\n",
       "      <th>1</th>\n",
       "      <td>i can go from feeling so hopeless to so damned...</td>\n",
       "      <td>0</td>\n",
       "    </tr>\n",
       "    <tr>\n",
       "      <th>2</th>\n",
       "      <td>im grabbing a minute to post i feel greedy wrong</td>\n",
       "      <td>3</td>\n",
       "    </tr>\n",
       "    <tr>\n",
       "      <th>3</th>\n",
       "      <td>i am ever feeling nostalgic about the fireplac...</td>\n",
       "      <td>2</td>\n",
       "    </tr>\n",
       "    <tr>\n",
       "      <th>4</th>\n",
       "      <td>i am feeling grouchy</td>\n",
       "      <td>3</td>\n",
       "    </tr>\n",
       "  </tbody>\n",
       "</table>\n",
       "</div>"
      ],
      "text/plain": [
       "                                                text  label\n",
       "0                            i didnt feel humiliated      0\n",
       "1  i can go from feeling so hopeless to so damned...      0\n",
       "2   im grabbing a minute to post i feel greedy wrong      3\n",
       "3  i am ever feeling nostalgic about the fireplac...      2\n",
       "4                               i am feeling grouchy      3"
      ]
     },
     "execution_count": 26,
     "metadata": {},
     "output_type": "execute_result"
    }
   ],
   "source": [
    "df['text'] = df['text'].apply(lambda x: ' '.join([word for word in x.split() if not any(char.isdigit() for char in word)]))\n",
    "df['text'] = df['text'].astype('string')\n",
    "df.head()"
   ]
  },
  {
   "cell_type": "markdown",
   "id": "13478c26",
   "metadata": {},
   "source": [
    "# Removing words containing number \n"
   ]
  },
  {
   "cell_type": "code",
   "execution_count": 11,
   "id": "23cc3449",
   "metadata": {
    "collapsed": true
   },
   "outputs": [
    {
     "data": {
      "text/html": [
       "<div>\n",
       "<style scoped>\n",
       "    .dataframe tbody tr th:only-of-type {\n",
       "        vertical-align: middle;\n",
       "    }\n",
       "\n",
       "    .dataframe tbody tr th {\n",
       "        vertical-align: top;\n",
       "    }\n",
       "\n",
       "    .dataframe thead th {\n",
       "        text-align: right;\n",
       "    }\n",
       "</style>\n",
       "<table border=\"1\" class=\"dataframe\">\n",
       "  <thead>\n",
       "    <tr style=\"text-align: right;\">\n",
       "      <th></th>\n",
       "      <th>text</th>\n",
       "      <th>label</th>\n",
       "    </tr>\n",
       "  </thead>\n",
       "  <tbody>\n",
       "    <tr>\n",
       "      <th>0</th>\n",
       "      <td>i didnt feel humili</td>\n",
       "      <td>0</td>\n",
       "    </tr>\n",
       "    <tr>\n",
       "      <th>1</th>\n",
       "      <td>i can go from feel so hopeless to so damn hope...</td>\n",
       "      <td>0</td>\n",
       "    </tr>\n",
       "    <tr>\n",
       "      <th>2</th>\n",
       "      <td>im grab a minut to post i feel greedi wrong</td>\n",
       "      <td>3</td>\n",
       "    </tr>\n",
       "    <tr>\n",
       "      <th>3</th>\n",
       "      <td>i am ever feel nostalg about the fireplac i wi...</td>\n",
       "      <td>2</td>\n",
       "    </tr>\n",
       "    <tr>\n",
       "      <th>4</th>\n",
       "      <td>i am feel grouchi</td>\n",
       "      <td>3</td>\n",
       "    </tr>\n",
       "    <tr>\n",
       "      <th>5</th>\n",
       "      <td>ive been feel a littl burden late wasnt sure w...</td>\n",
       "      <td>0</td>\n",
       "    </tr>\n",
       "    <tr>\n",
       "      <th>6</th>\n",
       "      <td>ive been take or milligram or time recommend a...</td>\n",
       "      <td>5</td>\n",
       "    </tr>\n",
       "    <tr>\n",
       "      <th>7</th>\n",
       "      <td>i feel as confu about life as a teenag or as j...</td>\n",
       "      <td>4</td>\n",
       "    </tr>\n",
       "    <tr>\n",
       "      <th>8</th>\n",
       "      <td>i have been with petrona for year i feel that ...</td>\n",
       "      <td>1</td>\n",
       "    </tr>\n",
       "    <tr>\n",
       "      <th>9</th>\n",
       "      <td>i feel romant too</td>\n",
       "      <td>2</td>\n",
       "    </tr>\n",
       "  </tbody>\n",
       "</table>\n",
       "</div>"
      ],
      "text/plain": [
       "                                                text  label\n",
       "0                                i didnt feel humili      0\n",
       "1  i can go from feel so hopeless to so damn hope...      0\n",
       "2        im grab a minut to post i feel greedi wrong      3\n",
       "3  i am ever feel nostalg about the fireplac i wi...      2\n",
       "4                                  i am feel grouchi      3\n",
       "5  ive been feel a littl burden late wasnt sure w...      0\n",
       "6  ive been take or milligram or time recommend a...      5\n",
       "7  i feel as confu about life as a teenag or as j...      4\n",
       "8  i have been with petrona for year i feel that ...      1\n",
       "9                                  i feel romant too      2"
      ]
     },
     "execution_count": 11,
     "metadata": {},
     "output_type": "execute_result"
    }
   ],
   "source": [
    "def remove_words_with_numbers(text):\n",
    "    return re.sub(r'\\b\\w*\\d\\w*\\b', '', text)\n",
    "\n",
    "# Applying the remove_words_with_numbers function to the content column\n",
    "df['text'] = df['text'].apply(remove_words_with_numbers)\n",
    "\n",
    "df.head(10)"
   ]
  },
  {
   "cell_type": "markdown",
   "id": "6cefe629",
   "metadata": {},
   "source": [
    "# Removing extra spaces from the \"text\"coloum \n"
   ]
  },
  {
   "cell_type": "code",
   "execution_count": 27,
   "id": "93cdda8b",
   "metadata": {
    "collapsed": true
   },
   "outputs": [
    {
     "data": {
      "text/html": [
       "<div>\n",
       "<style scoped>\n",
       "    .dataframe tbody tr th:only-of-type {\n",
       "        vertical-align: middle;\n",
       "    }\n",
       "\n",
       "    .dataframe tbody tr th {\n",
       "        vertical-align: top;\n",
       "    }\n",
       "\n",
       "    .dataframe thead th {\n",
       "        text-align: right;\n",
       "    }\n",
       "</style>\n",
       "<table border=\"1\" class=\"dataframe\">\n",
       "  <thead>\n",
       "    <tr style=\"text-align: right;\">\n",
       "      <th></th>\n",
       "      <th>text</th>\n",
       "      <th>label</th>\n",
       "    </tr>\n",
       "  </thead>\n",
       "  <tbody>\n",
       "    <tr>\n",
       "      <th>0</th>\n",
       "      <td>i didnt feel humiliated</td>\n",
       "      <td>0</td>\n",
       "    </tr>\n",
       "    <tr>\n",
       "      <th>1</th>\n",
       "      <td>i can go from feeling so hopeless to so damned...</td>\n",
       "      <td>0</td>\n",
       "    </tr>\n",
       "    <tr>\n",
       "      <th>2</th>\n",
       "      <td>im grabbing a minute to post i feel greedy wrong</td>\n",
       "      <td>3</td>\n",
       "    </tr>\n",
       "    <tr>\n",
       "      <th>3</th>\n",
       "      <td>i am ever feeling nostalgic about the fireplac...</td>\n",
       "      <td>2</td>\n",
       "    </tr>\n",
       "    <tr>\n",
       "      <th>4</th>\n",
       "      <td>i am feeling grouchy</td>\n",
       "      <td>3</td>\n",
       "    </tr>\n",
       "  </tbody>\n",
       "</table>\n",
       "</div>"
      ],
      "text/plain": [
       "                                                text  label\n",
       "0                            i didnt feel humiliated      0\n",
       "1  i can go from feeling so hopeless to so damned...      0\n",
       "2   im grabbing a minute to post i feel greedy wrong      3\n",
       "3  i am ever feeling nostalgic about the fireplac...      2\n",
       "4                               i am feeling grouchy      3"
      ]
     },
     "execution_count": 27,
     "metadata": {},
     "output_type": "execute_result"
    }
   ],
   "source": [
    "df['text'] = df['text'].apply(lambda x: ' '.join(x.strip().split()))\n",
    "df['text'] = df['text'].astype('string')\n",
    "df.head()"
   ]
  },
  {
   "cell_type": "markdown",
   "id": "7d5e720d",
   "metadata": {},
   "source": [
    "# Removing special charecters from the \"text\"coloum \n"
   ]
  },
  {
   "cell_type": "code",
   "execution_count": 28,
   "id": "ffecdaf0",
   "metadata": {
    "collapsed": true
   },
   "outputs": [
    {
     "data": {
      "text/html": [
       "<div>\n",
       "<style scoped>\n",
       "    .dataframe tbody tr th:only-of-type {\n",
       "        vertical-align: middle;\n",
       "    }\n",
       "\n",
       "    .dataframe tbody tr th {\n",
       "        vertical-align: top;\n",
       "    }\n",
       "\n",
       "    .dataframe thead th {\n",
       "        text-align: right;\n",
       "    }\n",
       "</style>\n",
       "<table border=\"1\" class=\"dataframe\">\n",
       "  <thead>\n",
       "    <tr style=\"text-align: right;\">\n",
       "      <th></th>\n",
       "      <th>text</th>\n",
       "      <th>label</th>\n",
       "    </tr>\n",
       "  </thead>\n",
       "  <tbody>\n",
       "    <tr>\n",
       "      <th>0</th>\n",
       "      <td>i didnt feel humiliated</td>\n",
       "      <td>0</td>\n",
       "    </tr>\n",
       "    <tr>\n",
       "      <th>1</th>\n",
       "      <td>i can go from feeling so hopeless to so damned...</td>\n",
       "      <td>0</td>\n",
       "    </tr>\n",
       "    <tr>\n",
       "      <th>2</th>\n",
       "      <td>im grabbing a minute to post i feel greedy wrong</td>\n",
       "      <td>3</td>\n",
       "    </tr>\n",
       "    <tr>\n",
       "      <th>3</th>\n",
       "      <td>i am ever feeling nostalgic about the fireplac...</td>\n",
       "      <td>2</td>\n",
       "    </tr>\n",
       "    <tr>\n",
       "      <th>4</th>\n",
       "      <td>i am feeling grouchy</td>\n",
       "      <td>3</td>\n",
       "    </tr>\n",
       "  </tbody>\n",
       "</table>\n",
       "</div>"
      ],
      "text/plain": [
       "                                                text  label\n",
       "0                            i didnt feel humiliated      0\n",
       "1  i can go from feeling so hopeless to so damned...      0\n",
       "2   im grabbing a minute to post i feel greedy wrong      3\n",
       "3  i am ever feeling nostalgic about the fireplac...      2\n",
       "4                               i am feeling grouchy      3"
      ]
     },
     "execution_count": 28,
     "metadata": {},
     "output_type": "execute_result"
    }
   ],
   "source": [
    "df['text'] = df['text'].str.replace('[^a-zA-Z0-9\\s]', '', regex=True)\n",
    "df.head()"
   ]
  },
  {
   "cell_type": "markdown",
   "id": "f8b16ab7",
   "metadata": {},
   "source": [
    "# Removing Stopwords from the \"text\"coloum \n"
   ]
  },
  {
   "cell_type": "code",
   "execution_count": 29,
   "id": "92011cea",
   "metadata": {
    "collapsed": true
   },
   "outputs": [
    {
     "data": {
      "text/plain": [
       "\"i, me, my, myself, we, our, ours, ourselves, you, you're, you've, you'll, you'd, your, yours, yourself, yourselves, he, him, his, himself, she, she's, her, hers, herself, it, it's, its, itself, they, them, their, theirs, themselves, what, which, who, whom, this, that, that'll, these, those, am, is, are, was, were, be, been, being, have, has, had, having, do, does, did, doing, a, an, the, and, but, if, or, because, as, until, while, of, at, by, for, with, about, against, between, into, through, during, before, after, above, below, to, from, up, down, in, out, on, off, over, under, again, further, then, once, here, there, when, where, why, how, all, any, both, each, few, more, most, other, some, such, no, nor, not, only, own, same, so, than, too, very, s, t, can, will, just, don, don't, should, should've, now, d, ll, m, o, re, ve, y, ain, aren, aren't, couldn, couldn't, didn, didn't, doesn, doesn't, hadn, hadn't, hasn, hasn't, haven, haven't, isn, isn't, ma, mightn, mightn't, mustn, mustn't, needn, needn't, shan, shan't, shouldn, shouldn't, wasn, wasn't, weren, weren't, won, won't, wouldn, wouldn't\""
      ]
     },
     "execution_count": 29,
     "metadata": {},
     "output_type": "execute_result"
    }
   ],
   "source": [
    "from nltk.corpus import stopwords\n",
    "\", \".join (stopwords.words('english'))"
   ]
  },
  {
   "cell_type": "code",
   "execution_count": 30,
   "id": "0f3c75a9",
   "metadata": {
    "collapsed": true
   },
   "outputs": [
    {
     "name": "stdout",
     "output_type": "stream",
     "text": [
      "0                                    didnt feel humiliated\n",
      "1        go feeling hopeless damned hopeful around some...\n",
      "2                im grabbing minute post feel greedy wrong\n",
      "3        ever feeling nostalgic fireplace know still pr...\n",
      "4                                          feeling grouchy\n",
      "                               ...                        \n",
      "15995        brief time beanbag said anna feel like beaten\n",
      "15996    turning feel pathetic still waiting tables sub...\n",
      "15997                             feel strong good overall\n",
      "15998                       feel like rude comment im glad\n",
      "15999                         know lot feel stupid portray\n",
      "Name: text, Length: 16000, dtype: object\n"
     ]
    }
   ],
   "source": [
    "def remove_stopwords(text):\n",
    "    stop_words = set(stopwords.words('english'))\n",
    "    words = text.split()\n",
    "    filtered_words = [word for word in words if word.lower() not in stop_words]\n",
    "    return ' '.join(filtered_words)\n",
    "\n",
    "# Applying the function to the content column\n",
    "df['text'] = df['text'].apply(remove_stopwords)\n",
    "print(df['text'])"
   ]
  },
  {
   "cell_type": "markdown",
   "id": "e851309b",
   "metadata": {},
   "source": [
    "# Stemming"
   ]
  },
  {
   "cell_type": "code",
   "execution_count": 10,
   "id": "9a083ed3",
   "metadata": {
    "collapsed": true
   },
   "outputs": [
    {
     "data": {
      "text/html": [
       "<div>\n",
       "<style scoped>\n",
       "    .dataframe tbody tr th:only-of-type {\n",
       "        vertical-align: middle;\n",
       "    }\n",
       "\n",
       "    .dataframe tbody tr th {\n",
       "        vertical-align: top;\n",
       "    }\n",
       "\n",
       "    .dataframe thead th {\n",
       "        text-align: right;\n",
       "    }\n",
       "</style>\n",
       "<table border=\"1\" class=\"dataframe\">\n",
       "  <thead>\n",
       "    <tr style=\"text-align: right;\">\n",
       "      <th></th>\n",
       "      <th>text</th>\n",
       "      <th>label</th>\n",
       "    </tr>\n",
       "  </thead>\n",
       "  <tbody>\n",
       "    <tr>\n",
       "      <th>0</th>\n",
       "      <td>i didnt feel humili</td>\n",
       "      <td>0</td>\n",
       "    </tr>\n",
       "    <tr>\n",
       "      <th>1</th>\n",
       "      <td>i can go from feel so hopeless to so damn hope...</td>\n",
       "      <td>0</td>\n",
       "    </tr>\n",
       "    <tr>\n",
       "      <th>2</th>\n",
       "      <td>im grab a minut to post i feel greedi wrong</td>\n",
       "      <td>3</td>\n",
       "    </tr>\n",
       "    <tr>\n",
       "      <th>3</th>\n",
       "      <td>i am ever feel nostalg about the fireplac i wi...</td>\n",
       "      <td>2</td>\n",
       "    </tr>\n",
       "    <tr>\n",
       "      <th>4</th>\n",
       "      <td>i am feel grouchi</td>\n",
       "      <td>3</td>\n",
       "    </tr>\n",
       "    <tr>\n",
       "      <th>5</th>\n",
       "      <td>ive been feel a littl burden late wasnt sure w...</td>\n",
       "      <td>0</td>\n",
       "    </tr>\n",
       "    <tr>\n",
       "      <th>6</th>\n",
       "      <td>ive been take or milligram or time recommend a...</td>\n",
       "      <td>5</td>\n",
       "    </tr>\n",
       "    <tr>\n",
       "      <th>7</th>\n",
       "      <td>i feel as confu about life as a teenag or as j...</td>\n",
       "      <td>4</td>\n",
       "    </tr>\n",
       "    <tr>\n",
       "      <th>8</th>\n",
       "      <td>i have been with petrona for year i feel that ...</td>\n",
       "      <td>1</td>\n",
       "    </tr>\n",
       "    <tr>\n",
       "      <th>9</th>\n",
       "      <td>i feel romant too</td>\n",
       "      <td>2</td>\n",
       "    </tr>\n",
       "  </tbody>\n",
       "</table>\n",
       "</div>"
      ],
      "text/plain": [
       "                                                text  label\n",
       "0                                i didnt feel humili      0\n",
       "1  i can go from feel so hopeless to so damn hope...      0\n",
       "2        im grab a minut to post i feel greedi wrong      3\n",
       "3  i am ever feel nostalg about the fireplac i wi...      2\n",
       "4                                  i am feel grouchi      3\n",
       "5  ive been feel a littl burden late wasnt sure w...      0\n",
       "6  ive been take or milligram or time recommend a...      5\n",
       "7  i feel as confu about life as a teenag or as j...      4\n",
       "8  i have been with petrona for year i feel that ...      1\n",
       "9                                  i feel romant too      2"
      ]
     },
     "execution_count": 10,
     "metadata": {},
     "output_type": "execute_result"
    }
   ],
   "source": [
    "porter = PorterStemmer()\n",
    "def stem_text(text):\n",
    "    words = word_tokenize(text)\n",
    "    stemmed_words = [porter.stem(word) for word in words]\n",
    "    return ' '.join(stemmed_words)\n",
    "\n",
    "# Applying the function to the text column\n",
    "df['text'] = df['text'].apply(stem_text)\n",
    "df.head(10)"
   ]
  },
  {
   "cell_type": "markdown",
   "id": "b1c06037",
   "metadata": {},
   "source": [
    "# Lemmatization\n",
    " "
   ]
  },
  {
   "cell_type": "code",
   "execution_count": 8,
   "id": "34d43905",
   "metadata": {
    "collapsed": true
   },
   "outputs": [
    {
     "data": {
      "text/html": [
       "<div>\n",
       "<style scoped>\n",
       "    .dataframe tbody tr th:only-of-type {\n",
       "        vertical-align: middle;\n",
       "    }\n",
       "\n",
       "    .dataframe tbody tr th {\n",
       "        vertical-align: top;\n",
       "    }\n",
       "\n",
       "    .dataframe thead th {\n",
       "        text-align: right;\n",
       "    }\n",
       "</style>\n",
       "<table border=\"1\" class=\"dataframe\">\n",
       "  <thead>\n",
       "    <tr style=\"text-align: right;\">\n",
       "      <th></th>\n",
       "      <th>text</th>\n",
       "      <th>label</th>\n",
       "    </tr>\n",
       "  </thead>\n",
       "  <tbody>\n",
       "    <tr>\n",
       "      <th>0</th>\n",
       "      <td>i didnt feel humili</td>\n",
       "      <td>0</td>\n",
       "    </tr>\n",
       "    <tr>\n",
       "      <th>1</th>\n",
       "      <td>i can go from feel so hopeless to so damn hope...</td>\n",
       "      <td>0</td>\n",
       "    </tr>\n",
       "    <tr>\n",
       "      <th>2</th>\n",
       "      <td>im grab a minut to post i feel greedi wrong</td>\n",
       "      <td>3</td>\n",
       "    </tr>\n",
       "    <tr>\n",
       "      <th>3</th>\n",
       "      <td>i am ever feel nostalg about the fireplac i wi...</td>\n",
       "      <td>2</td>\n",
       "    </tr>\n",
       "    <tr>\n",
       "      <th>4</th>\n",
       "      <td>i am feel grouchi</td>\n",
       "      <td>3</td>\n",
       "    </tr>\n",
       "    <tr>\n",
       "      <th>5</th>\n",
       "      <td>ive been feel a littl burden late wasnt sure w...</td>\n",
       "      <td>0</td>\n",
       "    </tr>\n",
       "    <tr>\n",
       "      <th>6</th>\n",
       "      <td>ive been take or milligram or time recommend a...</td>\n",
       "      <td>5</td>\n",
       "    </tr>\n",
       "    <tr>\n",
       "      <th>7</th>\n",
       "      <td>i feel as confu about life as a teenag or as j...</td>\n",
       "      <td>4</td>\n",
       "    </tr>\n",
       "    <tr>\n",
       "      <th>8</th>\n",
       "      <td>i have been with petrona for year i feel that ...</td>\n",
       "      <td>1</td>\n",
       "    </tr>\n",
       "    <tr>\n",
       "      <th>9</th>\n",
       "      <td>i feel romant too</td>\n",
       "      <td>2</td>\n",
       "    </tr>\n",
       "  </tbody>\n",
       "</table>\n",
       "</div>"
      ],
      "text/plain": [
       "                                                text  label\n",
       "0                                i didnt feel humili      0\n",
       "1  i can go from feel so hopeless to so damn hope...      0\n",
       "2        im grab a minut to post i feel greedi wrong      3\n",
       "3  i am ever feel nostalg about the fireplac i wi...      2\n",
       "4                                  i am feel grouchi      3\n",
       "5  ive been feel a littl burden late wasnt sure w...      0\n",
       "6  ive been take or milligram or time recommend a...      5\n",
       "7  i feel as confu about life as a teenag or as j...      4\n",
       "8  i have been with petrona for year i feel that ...      1\n",
       "9                                  i feel romant too      2"
      ]
     },
     "execution_count": 8,
     "metadata": {},
     "output_type": "execute_result"
    }
   ],
   "source": [
    "def lemmatize_text(text):\n",
    "    # Process the text with spaCy\n",
    "    doc = nlp(text)\n",
    "    # Extract lemmatized tokens\n",
    "    lemmatized_tokens = [token.lemma_ for token in doc]\n",
    "    # Join the lemmatized tokens into a sentence\n",
    "    lemmatized_text = ' '.join(lemmatized_tokens)\n",
    "    return lemmatized_text\n",
    "df.head(10)"
   ]
  },
  {
   "cell_type": "code",
   "execution_count": 35,
   "id": "16caf8fe",
   "metadata": {
    "collapsed": true
   },
   "outputs": [
    {
     "data": {
      "text/html": [
       "<div>\n",
       "<style scoped>\n",
       "    .dataframe tbody tr th:only-of-type {\n",
       "        vertical-align: middle;\n",
       "    }\n",
       "\n",
       "    .dataframe tbody tr th {\n",
       "        vertical-align: top;\n",
       "    }\n",
       "\n",
       "    .dataframe thead th {\n",
       "        text-align: right;\n",
       "    }\n",
       "</style>\n",
       "<table border=\"1\" class=\"dataframe\">\n",
       "  <thead>\n",
       "    <tr style=\"text-align: right;\">\n",
       "      <th></th>\n",
       "      <th>text</th>\n",
       "      <th>label</th>\n",
       "    </tr>\n",
       "  </thead>\n",
       "  <tbody>\n",
       "    <tr>\n",
       "      <th>9672</th>\n",
       "      <td>feeling devastated inner voice within thats na...</td>\n",
       "      <td>0</td>\n",
       "    </tr>\n",
       "    <tr>\n",
       "      <th>7034</th>\n",
       "      <td>attended free individual academic consultation...</td>\n",
       "      <td>0</td>\n",
       "    </tr>\n",
       "    <tr>\n",
       "      <th>10821</th>\n",
       "      <td>get feeling facebook looking ways get popular</td>\n",
       "      <td>1</td>\n",
       "    </tr>\n",
       "    <tr>\n",
       "      <th>12699</th>\n",
       "      <td>could feel stress leaving veins getting wonderful</td>\n",
       "      <td>1</td>\n",
       "    </tr>\n",
       "    <tr>\n",
       "      <th>9899</th>\n",
       "      <td>feel world tragic woeful place live</td>\n",
       "      <td>0</td>\n",
       "    </tr>\n",
       "  </tbody>\n",
       "</table>\n",
       "</div>"
      ],
      "text/plain": [
       "                                                    text  label\n",
       "9672   feeling devastated inner voice within thats na...      0\n",
       "7034   attended free individual academic consultation...      0\n",
       "10821      get feeling facebook looking ways get popular      1\n",
       "12699  could feel stress leaving veins getting wonderful      1\n",
       "9899                 feel world tragic woeful place live      0"
      ]
     },
     "execution_count": 35,
     "metadata": {},
     "output_type": "execute_result"
    }
   ],
   "source": [
    "df.sample(5)"
   ]
  },
  {
   "cell_type": "markdown",
   "id": "1c562726",
   "metadata": {},
   "source": [
    "# Feature Extraction/Engineering"
   ]
  },
  {
   "cell_type": "markdown",
   "id": "0d0bbeae",
   "metadata": {},
   "source": [
    "Feature extraction in data analysis is the process of transforming raw data into a format that is suitable for machine learning algorithms. \n",
    "\n",
    "It involves selecting, combining, and transforming the original features (variables) of a dataset to create new, more informative features that can improve the performance of a machine learning model.\n",
    "\n",
    "Feature extraction is important because it helps to:\n",
    "\n",
    "1.Reduce dimensionality\n",
    "2.Improve model performance\n",
    "3.Deal with sparse or noisy data\n",
    "4.Enable transfer learning\n",
    "5.Interpretability\n",
    "\n",
    "Common techniques for feature extraction include:\n",
    "\n",
    "1.Principal Component Analysis (PCA): A dimensionality reduction technique that identifies the most important features in the data.\n",
    "\n",
    "2.Feature scaling: Scaling features to a similar range can improve the performance of some machine learning algorithms.\n",
    "\n",
    "3.Feature selection: Selecting a subset of the most important features based on statistical tests or machine learning models.\n",
    "\n",
    "4.Text feature extraction: Techniques like TF-IDF, word embeddings, and topic modeling can be used to extract features from text data.\n",
    "\n",
    "5.Image feature extraction: Techniques like edge detection, corner detection, and texture analysis can be used to extract features from images.\n",
    "\n"
   ]
  },
  {
   "cell_type": "markdown",
   "id": "a26f8c96",
   "metadata": {},
   "source": [
    "# Converting the text  data into TF-IDF matrix."
   ]
  },
  {
   "cell_type": "code",
   "execution_count": 40,
   "id": "6e75bea1",
   "metadata": {
    "collapsed": true
   },
   "outputs": [
    {
     "name": "stdout",
     "output_type": "stream",
     "text": [
      "[[0. 0. 0. 0. 1. 0.]\n",
      " [0. 0. 1. 0. 0. 0.]\n",
      " [0. 0. 0. 1. 0. 0.]\n",
      " [1. 0. 0. 0. 0. 0.]\n",
      " [0. 1. 0. 0. 0. 0.]\n",
      " [0. 0. 0. 0. 0. 1.]]\n"
     ]
    }
   ],
   "source": [
    "data = {\n",
    "    'text': ['sadness', 'joy', 'love', 'anger' , 'fear' , 'surprise'],\n",
    "    'label': [0, 1, 2, 3, 4, 5]\n",
    "}\n",
    "df = pd.DataFrame(data)\n",
    "\n",
    "\n",
    "# Creating TF-IDF vectorizer\n",
    "tfidf_vectorizer = TfidfVectorizer()\n",
    "\n",
    "# Fit-transform the text data\n",
    "tfidf_matrix = tfidf_vectorizer.fit_transform(df['text'])\n",
    "\n",
    "# Displaying the TF-IDF matrix\n",
    "print(tfidf_matrix.toarray())"
   ]
  },
  {
   "cell_type": "markdown",
   "id": "1631c398",
   "metadata": {},
   "source": [
    "# Performing feature scaling on\"label\" column of the dataset using StandardScaler\n",
    "\n"
   ]
  },
  {
   "cell_type": "code",
   "execution_count": 44,
   "id": "fd4ec44e",
   "metadata": {
    "collapsed": true
   },
   "outputs": [
    {
     "data": {
      "text/html": [
       "<div>\n",
       "<style scoped>\n",
       "    .dataframe tbody tr th:only-of-type {\n",
       "        vertical-align: middle;\n",
       "    }\n",
       "\n",
       "    .dataframe tbody tr th {\n",
       "        vertical-align: top;\n",
       "    }\n",
       "\n",
       "    .dataframe thead th {\n",
       "        text-align: right;\n",
       "    }\n",
       "</style>\n",
       "<table border=\"1\" class=\"dataframe\">\n",
       "  <thead>\n",
       "    <tr style=\"text-align: right;\">\n",
       "      <th></th>\n",
       "      <th>text</th>\n",
       "      <th>numerical_feature</th>\n",
       "      <th>label</th>\n",
       "    </tr>\n",
       "  </thead>\n",
       "  <tbody>\n",
       "    <tr>\n",
       "      <th>0</th>\n",
       "      <td>sadness</td>\n",
       "      <td>-1.46385</td>\n",
       "      <td>0</td>\n",
       "    </tr>\n",
       "    <tr>\n",
       "      <th>1</th>\n",
       "      <td>joy</td>\n",
       "      <td>-0.87831</td>\n",
       "      <td>1</td>\n",
       "    </tr>\n",
       "    <tr>\n",
       "      <th>2</th>\n",
       "      <td>love</td>\n",
       "      <td>-0.29277</td>\n",
       "      <td>2</td>\n",
       "    </tr>\n",
       "    <tr>\n",
       "      <th>3</th>\n",
       "      <td>anger</td>\n",
       "      <td>0.29277</td>\n",
       "      <td>3</td>\n",
       "    </tr>\n",
       "    <tr>\n",
       "      <th>4</th>\n",
       "      <td>fear</td>\n",
       "      <td>0.87831</td>\n",
       "      <td>4</td>\n",
       "    </tr>\n",
       "  </tbody>\n",
       "</table>\n",
       "</div>"
      ],
      "text/plain": [
       "      text  numerical_feature  label\n",
       "0  sadness           -1.46385      0\n",
       "1      joy           -0.87831      1\n",
       "2     love           -0.29277      2\n",
       "3    anger            0.29277      3\n",
       "4     fear            0.87831      4"
      ]
     },
     "execution_count": 44,
     "metadata": {},
     "output_type": "execute_result"
    }
   ],
   "source": [
    "data = {\n",
    "    'text': ['sadness', 'joy', 'love', 'anger', 'fear', 'surprise'],\n",
    "    'numerical_feature': [10, 20, 30, 40, 50, 60],  # Example numerical feature\n",
    "    'label': [0, 1, 2, 3, 4, 5]\n",
    "}\n",
    "df = pd.DataFrame(data)\n",
    "\n",
    "# Selecting numerical columns for feature scaling\n",
    "numerical_cols = ['numerical_feature']\n",
    "\n",
    "# Creating StandardScaler object\n",
    "scaler = StandardScaler()\n",
    "\n",
    "# Fit-transform the numerical data\n",
    "scaled_numerical_data = scaler.fit_transform(df[numerical_cols])\n",
    "\n",
    "# Replacing original numerical columns with scaled data\n",
    "df[numerical_cols] = scaled_numerical_data\n",
    "\n",
    "# Displaying the DataFrame with scaled numerical data\n",
    "df.head()\n"
   ]
  },
  {
   "cell_type": "markdown",
   "id": "148f963b",
   "metadata": {},
   "source": [
    "# Selecting the top k features based on ANOVA F-values using feature selection\n",
    "\n"
   ]
  },
  {
   "cell_type": "code",
   "execution_count": 46,
   "id": "aa6636e0",
   "metadata": {
    "collapsed": true
   },
   "outputs": [
    {
     "name": "stdout",
     "output_type": "stream",
     "text": [
      "Index(['numerical_feature1', 'numerical_feature2'], dtype='object')\n"
     ]
    },
    {
     "name": "stderr",
     "output_type": "stream",
     "text": [
      "C:\\Users\\Prashant\\anaconda3\\lib\\site-packages\\sklearn\\utils\\validation.py:1688: FutureWarning: Feature names only support names that are all strings. Got feature names with dtypes: ['int', 'str']. An error will be raised in 1.2.\n",
      "  warnings.warn(\n",
      "C:\\Users\\Prashant\\anaconda3\\lib\\site-packages\\sklearn\\feature_selection\\_univariate_selection.py:109: RuntimeWarning: invalid value encountered in true_divide\n",
      "  msw = sswn / float(dfwn)\n",
      "C:\\Users\\Prashant\\anaconda3\\lib\\site-packages\\sklearn\\utils\\validation.py:1688: FutureWarning: Feature names only support names that are all strings. Got feature names with dtypes: ['int', 'str']. An error will be raised in 1.2.\n",
      "  warnings.warn(\n"
     ]
    }
   ],
   "source": [
    "data = {\n",
    "    'text': ['sadness', 'joy', 'love', 'anger', 'fear', 'surprise'],\n",
    "    'numerical_feature1': [10, 20, 30, 40, 50, 60],  # Example numerical feature 1\n",
    "    'numerical_feature2': [4, 5, 6, 7, 8, 9],      # Example numerical feature 2\n",
    "    'label': [0, 1, 2, 3, 4, 5]\n",
    "}\n",
    "df = pd.DataFrame(data)\n",
    "\n",
    "# Converting text column into TF-IDF vectors\n",
    "tfidf_vectorizer = TfidfVectorizer()\n",
    "tfidf_matrix = tfidf_vectorizer.fit_transform(df['text'])\n",
    "\n",
    "# Combineing TF-IDF matrix with numerical features\n",
    "X = pd.concat([pd.DataFrame(tfidf_matrix.toarray()), df[['numerical_feature1', 'numerical_feature2']]], axis=1)\n",
    "y = df['label']\n",
    "\n",
    "# Perform feature selection\n",
    "selector = SelectKBest(score_func=f_classif, k=2)  # Select top 2 features\n",
    "X_selected = selector.fit_transform(X, y)\n",
    "\n",
    "# Get the selected feature indices\n",
    "selected_indices = selector.get_support(indices=True)\n",
    "\n",
    "# Get the names of the selected features\n",
    "selected_features = X.columns[selected_indices]\n",
    "\n",
    "# Display the selected features\n",
    "print(selected_features)"
   ]
  },
  {
   "cell_type": "markdown",
   "id": "c44c6cef",
   "metadata": {},
   "source": [
    "# Performing Principal Component Analysis (PCA) on text data "
   ]
  },
  {
   "cell_type": "code",
   "execution_count": 45,
   "id": "a3016fbc",
   "metadata": {
    "collapsed": true
   },
   "outputs": [
    {
     "name": "stderr",
     "output_type": "stream",
     "text": [
      "C:\\Users\\Prashant\\anaconda3\\lib\\site-packages\\sklearn\\utils\\validation.py:1688: FutureWarning: Feature names only support names that are all strings. Got feature names with dtypes: ['int', 'str']. An error will be raised in 1.2.\n",
      "  warnings.warn(\n"
     ]
    },
    {
     "data": {
      "text/html": [
       "<div>\n",
       "<style scoped>\n",
       "    .dataframe tbody tr th:only-of-type {\n",
       "        vertical-align: middle;\n",
       "    }\n",
       "\n",
       "    .dataframe tbody tr th {\n",
       "        vertical-align: top;\n",
       "    }\n",
       "\n",
       "    .dataframe thead th {\n",
       "        text-align: right;\n",
       "    }\n",
       "</style>\n",
       "<table border=\"1\" class=\"dataframe\">\n",
       "  <thead>\n",
       "    <tr style=\"text-align: right;\">\n",
       "      <th></th>\n",
       "      <th>text</th>\n",
       "      <th>numerical_feature1</th>\n",
       "      <th>numerical_feature2</th>\n",
       "      <th>label</th>\n",
       "    </tr>\n",
       "  </thead>\n",
       "  <tbody>\n",
       "    <tr>\n",
       "      <th>0</th>\n",
       "      <td>sadness</td>\n",
       "      <td>10</td>\n",
       "      <td>4</td>\n",
       "      <td>0</td>\n",
       "    </tr>\n",
       "    <tr>\n",
       "      <th>1</th>\n",
       "      <td>joy</td>\n",
       "      <td>20</td>\n",
       "      <td>5</td>\n",
       "      <td>1</td>\n",
       "    </tr>\n",
       "    <tr>\n",
       "      <th>2</th>\n",
       "      <td>love</td>\n",
       "      <td>30</td>\n",
       "      <td>6</td>\n",
       "      <td>2</td>\n",
       "    </tr>\n",
       "    <tr>\n",
       "      <th>3</th>\n",
       "      <td>anger</td>\n",
       "      <td>40</td>\n",
       "      <td>7</td>\n",
       "      <td>3</td>\n",
       "    </tr>\n",
       "    <tr>\n",
       "      <th>4</th>\n",
       "      <td>fear</td>\n",
       "      <td>50</td>\n",
       "      <td>8</td>\n",
       "      <td>4</td>\n",
       "    </tr>\n",
       "  </tbody>\n",
       "</table>\n",
       "</div>"
      ],
      "text/plain": [
       "      text  numerical_feature1  numerical_feature2  label\n",
       "0  sadness                  10                   4      0\n",
       "1      joy                  20                   5      1\n",
       "2     love                  30                   6      2\n",
       "3    anger                  40                   7      3\n",
       "4     fear                  50                   8      4"
      ]
     },
     "execution_count": 45,
     "metadata": {},
     "output_type": "execute_result"
    }
   ],
   "source": [
    "data = {\n",
    "    'text': ['sadness', 'joy', 'love', 'anger', 'fear', 'surprise'],\n",
    "    'numerical_feature1': [10, 20, 30, 40, 50, 60],  # Example numerical feature 1\n",
    "    'numerical_feature2': [4, 5, 6, 7, 8, 9],      # Example numerical feature 2\n",
    "    'label': [0, 1, 2, 3, 4, 5]\n",
    "}\n",
    "df = pd.DataFrame(data)\n",
    "\n",
    "# Convert text column into TF-IDF vectors\n",
    "tfidf_vectorizer = TfidfVectorizer()\n",
    "tfidf_matrix = tfidf_vectorizer.fit_transform(df['text'])\n",
    "\n",
    "# Combine TF-IDF matrix with numerical features\n",
    "X = pd.concat([pd.DataFrame(tfidf_matrix.toarray()), df[['numerical_feature1', 'numerical_feature2']]], axis=1)\n",
    "y = df['label']\n",
    "\n",
    "# Performing  PCA\n",
    "pca = PCA(n_components=2)  # Reduce to 2 components for visualization\n",
    "X_pca = pca.fit_transform(X)\n",
    "\n",
    "# Creating a new DataFrame with the PCA results\n",
    "df_pca = pd.DataFrame(data=X_pca, columns=['PCA1', 'PCA2'])\n",
    "\n",
    "# Concatenate the label column\n",
    "df_pca['label'] = y\n",
    "\n",
    "# Displaying the DataFrame with PCA results\n",
    "df.head()\n"
   ]
  },
  {
   "cell_type": "markdown",
   "id": "804984ef",
   "metadata": {},
   "source": [
    "# Converting the \"text\" column of dataset into a matrix of word counts. "
   ]
  },
  {
   "cell_type": "code",
   "execution_count": 5,
   "id": "227e49c5",
   "metadata": {
    "collapsed": true
   },
   "outputs": [
    {
     "name": "stdout",
     "output_type": "stream",
     "text": [
      "   anger  fear  joy  love  sadness  surprise\n",
      "0    0.0   0.0  0.0   0.0      1.0       0.0\n",
      "1    0.0   0.0  1.0   0.0      0.0       0.0\n",
      "2    0.0   0.0  0.0   1.0      0.0       0.0\n",
      "3    1.0   0.0  0.0   0.0      0.0       0.0\n",
      "4    0.0   1.0  0.0   0.0      0.0       0.0\n"
     ]
    }
   ],
   "source": [
    "data = {\n",
    "    'text': ['sadness', 'joy', 'love', 'anger' , 'fear' , 'surprise'],\n",
    "    'label': [0, 1, 2, 3, 4, 5]\n",
    "}\n",
    "df = pd.DataFrame(data)\n",
    "\n",
    "# Creating an instance of TfidfVectorizer\n",
    "vectorizer = TfidfVectorizer()\n",
    "\n",
    "# Fit and transform the text data\n",
    "X = vectorizer.fit_transform(df['text'])\n",
    "\n",
    "# Geting the feature names (words)\n",
    "feature_names = vectorizer.get_feature_names_out()\n",
    "\n",
    "# Converting the sparse matrix to a dense matrix\n",
    "X_dense = X.todense()\n",
    "\n",
    "# Converting the dense matrix to a DataFrame\n",
    "df_tfidf = pd.DataFrame(X_dense, columns=feature_names)\n",
    "\n",
    "# Print the TF-IDF matrix\n",
    "print(df_tfidf.head())\n"
   ]
  },
  {
   "cell_type": "markdown",
   "id": "9c142dab",
   "metadata": {},
   "source": [
    "# Model Building / Selection\n",
    "\n",
    "Model selection or building in data analysis refers to the process of selecting the best model or algorithm to use for a given dataset and problem. \n",
    "\n",
    "It involves evaluating different models, tuning their hyperparameters, and selecting the one that performs best according to predefined criteria (e.g, accuracy, precision, recall, etc.)\n",
    "\n",
    "The process typically includes the following steps:\n",
    "\n",
    "1.Define the Problem\n",
    ", 2.Data Preparation\n",
    ", 3.Model Selection\n",
    ", 4.Hyperparameter Tuning\n",
    ", 5.Model Evaluation\n",
    ", 6.Final Model Training\n",
    ", 7.Model Testing\n",
    ", 8.Model Deployment\n",
    "\n",
    "Model selection is crucial in data analysis as it directly impacts the performance and effectiveness of your analysis. \n",
    "A well-selected model can provide more accurate predictions and insights, leading to better decision-making.\n"
   ]
  },
  {
   "cell_type": "markdown",
   "id": "c1652794",
   "metadata": {},
   "source": [
    "# 1.Dividing the dataset in to Train (70%), Test (20%) and Validation (10%) datasets.\n"
   ]
  },
  {
   "cell_type": "code",
   "execution_count": 33,
   "id": "9e40a4ba",
   "metadata": {
    "collapsed": true
   },
   "outputs": [
    {
     "name": "stdout",
     "output_type": "stream",
     "text": [
      "Train data shape: (11200, 2)\n",
      "Test data shape: (1920, 2)\n",
      "Validation data shape: (2880, 2)\n"
     ]
    }
   ],
   "source": [
    "\n",
    "# Spliting the data into features (X) and labels (y)\n",
    "X = data['text']\n",
    "y = data['label']\n",
    "\n",
    "# Spliting the data into train, test, and validation sets\n",
    "X_train, X_temp, y_train, y_temp = train_test_split(X, y, test_size=0.3, random_state=42)\n",
    "X_val, X_test, y_val, y_test = train_test_split(X_temp, y_temp, test_size=0.4, random_state=42)\n",
    "\n",
    "# Creating train, test, and validation datasets\n",
    "train_data = pd.DataFrame({'text': X_train, 'label': y_train})\n",
    "test_data = pd.DataFrame({'text': X_test, 'label': y_test})\n",
    "val_data = pd.DataFrame({'text': X_val, 'label': y_val})\n",
    "\n",
    "# Print the shapes of the datasets\n",
    "print(\"Train data shape:\", train_data.shape)\n",
    "print(\"Test data shape:\", test_data.shape)\n",
    "print(\"Validation data shape:\", val_data.shape)\n",
    "\n",
    "#(We split the data into features (X) and labels (y) using X = data['text'] and y = data['label'].)\n",
    "#(We use the train_test_split function to split the data into train and temporary sets (70% train, 30% temp) using X_train, X_temp, y_train, y_temp = train_test_split(X, y, test_size=0.3, random_state=42).\n",
    "#(We further split the temporary set into validation and test sets (40% validation, 60% test) using X_val, X_test, y_val, y_test = train_test_split(X_temp, y_temp, test_size=0.4, random_state=42).\n",
    "#(We create separate DataFrames for train, test, and validation datasets using train_data = pd.DataFrame({'text': X_train, 'label': y_train}), test_data = pd.DataFrame({'text': X_test, 'label': y_test}), and val_data = pd.DataFrame({'text': X_val, 'label': y_val}).\n",
    "#(Finally, we print the shapes of the train, test, and validation datasets using)"
   ]
  },
  {
   "cell_type": "markdown",
   "id": "d3e6d33c",
   "metadata": {},
   "source": [
    "# 2.Building Classification Models\n",
    "\n",
    "Classification models are a type of machine learning model used to predict categorical labels or classes based on input features.These models are used in data analysis to classify data points into different categories or classes.\n",
    "\n",
    "Some common classification models include:\n",
    "1.Logistic Regression, 2.Decision Trees, 3.Random Forest, 4.Support Vector Machines (SVM), 5.Gradient Boosting Machines (e.g., XGBoost, LightGBM), 6.Naive Bayes, 7.K-Nearest Neighbors (KNN), 8.Decision Tree"
   ]
  },
  {
   "cell_type": "markdown",
   "id": "a05e1289",
   "metadata": {},
   "source": [
    "# 1.Logistic Regression Model\n",
    "\n",
    "Logistic regression is used for binary classification where we use sigmoid function, that takes input as independent variables and produces a probability value between 0 and 1 .\n",
    "\n",
    "Logistic Function / Sigmoid Function\n",
    "\n",
    "1.The sigmoid function is a mathematical function used to map the predicted values to probabilities.\n",
    "2.It maps any real value into another value within a range of 0 and 1. The value of the logistic regression must be between 0 and 1, which cannot go beyond this limit, so it forms a curve like the “S” form.\n",
    "3.The S-form curve is called the Sigmoid function or the logistic function.\n",
    "4.In logistic regression, we use the concept of the threshold value, which defines the probability of either 0 or 1. Such as values above the threshold value tends to 1, and a value below the threshold values tends to 0.\n",
    "\n",
    "Basically their are three types of Logistic Regression:-\n",
    "1.Binomial\n",
    "2.Multinomial\n",
    "3.Ordinal\n",
    "\n",
    "*Logistic regression is a widely used supervised machine learning algorithm for classification problems. It is a statistical model that aims to predict the probability of a binary or categorical outcome based on one or more independent variables.\n",
    "\n",
    "In machine learning, logistic regression is used to model the relationship between the input features and the target variable, which can take one of two values (in the case of binary classification) or multiple values (in the case of multinomial classification).\n"
   ]
  },
  {
   "cell_type": "code",
   "execution_count": 4,
   "id": "9946747a",
   "metadata": {
    "collapsed": true
   },
   "outputs": [
    {
     "name": "stderr",
     "output_type": "stream",
     "text": [
      "C:\\Users\\Prashant\\anaconda3\\lib\\site-packages\\sklearn\\linear_model\\_logistic.py:814: ConvergenceWarning: lbfgs failed to converge (status=1):\n",
      "STOP: TOTAL NO. of ITERATIONS REACHED LIMIT.\n",
      "\n",
      "Increase the number of iterations (max_iter) or scale the data as shown in:\n",
      "    https://scikit-learn.org/stable/modules/preprocessing.html\n",
      "Please also refer to the documentation for alternative solver options:\n",
      "    https://scikit-learn.org/stable/modules/linear_model.html#logistic-regression\n",
      "  n_iter_i = _check_optimize_result(\n"
     ]
    },
    {
     "name": "stdout",
     "output_type": "stream",
     "text": [
      "Training Accuracy: 0.93\n",
      "Testing Accuracy: 0.83\n",
      "Classification Report (Training Data):\n",
      "              precision    recall  f1-score   support\n",
      "\n",
      "     sadness       0.94      0.98      0.96      3232\n",
      "         joy       0.89      0.98      0.94      3781\n",
      "        love       0.97      0.74      0.84       870\n",
      "       anger       0.96      0.90      0.93      1552\n",
      "        fear       0.95      0.89      0.92      1371\n",
      "    surprise       0.96      0.62      0.75       394\n",
      "\n",
      "    accuracy                           0.93     11200\n",
      "   macro avg       0.95      0.85      0.89     11200\n",
      "weighted avg       0.93      0.93      0.93     11200\n",
      "\n",
      "\n",
      "Confusion Matrix (Training Data):\n",
      "[[3169   42    0   15    5    1]\n",
      " [  30 3720   16    5    6    4]\n",
      " [  17  203  645    4    1    0]\n",
      " [  74   71    1 1397    9    0]\n",
      " [  61   60    0   23 1222    5]\n",
      " [  29   73    1    4   43  244]]\n",
      "\n",
      "Classification Report (Testing Data):\n",
      "              precision    recall  f1-score   support\n",
      "\n",
      "     sadness       0.87      0.93      0.90      1434\n",
      "         joy       0.77      0.97      0.86      1581\n",
      "        love       0.90      0.52      0.66       434\n",
      "       anger       0.88      0.74      0.81       607\n",
      "        fear       0.87      0.68      0.76       566\n",
      "    surprise       0.91      0.38      0.53       178\n",
      "\n",
      "    accuracy                           0.83      4800\n",
      "   macro avg       0.87      0.70      0.75      4800\n",
      "weighted avg       0.84      0.83      0.82      4800\n",
      "\n",
      "\n",
      "Confusion Matrix (Testing Data):\n",
      "[[1331   66    2   23   12    0]\n",
      " [  22 1534   17    5    3    0]\n",
      " [  25  172  226    8    3    0]\n",
      " [  68   75    1  452   11    0]\n",
      " [  57   90    3   24  385    7]\n",
      " [  27   53    1    1   29   67]]\n"
     ]
    },
    {
     "data": {
      "image/png": "[encoded data removed]",
      "text/plain": [
       "<Figure size 720x504 with 2 Axes>"
      ]
     },
     "metadata": {
      "needs_background": "light"
     },
     "output_type": "display_data"
    },
    {
     "data": {
      "image/png": "[encoded data removed]",
      "text/plain": [
       "<Figure size 720x504 with 2 Axes>"
      ]
     },
     "metadata": {
      "needs_background": "light"
     },
     "output_type": "display_data"
    }
   ],
   "source": [
    "# Loading the dataset\n",
    "data = pd.read_csv('Emotions_training.csv')\n",
    "\n",
    "# Spliting the data into features (X) and labels (y)\n",
    "X = data['text']\n",
    "y = data['label']\n",
    "\n",
    "# Spliting the data into train, test, and validation sets\n",
    "X_train, X_test, y_train, y_test = train_test_split(X, y, test_size=0.3, random_state=42)\n",
    "\n",
    "# Creating a TfidfVectorizer instance\n",
    "vectorizer = TfidfVectorizer()\n",
    "\n",
    "# Fit and transform the training data\n",
    "X_train_vectorized = vectorizer.fit_transform(X_train)\n",
    "\n",
    "# Transforming the testing data\n",
    "X_test_vectorized = vectorizer.transform(X_test)\n",
    "\n",
    "# Defining emotion mapping\n",
    "emotion_mapping = {0: 'sadness', 1: 'joy', 2: 'love', 3: 'anger', 4: 'fear', 5: 'surprise'}\n",
    "        \n",
    "# Creating a LogisticRegression instance\n",
    "lr_model = LogisticRegression()\n",
    "\n",
    "# Training the model\n",
    "lr_model.fit(X_train_vectorized, y_train)\n",
    "\n",
    "# Making predictions on the training data\n",
    "y_train_pred = lr_model.predict(X_train_vectorized)\n",
    "\n",
    "# Making predictions on the testing data\n",
    "y_test_pred = lr_model.predict(X_test_vectorized)\n",
    "\n",
    "\n",
    "\n",
    "\n",
    "\n",
    "# Calculating training accuracy\n",
    "train_accuracy = accuracy_score(y_train, y_train_pred)\n",
    "print(f\"Training Accuracy: {train_accuracy:.2f}\")\n",
    "\n",
    "# Calculating testing accuracy\n",
    "test_accuracy = accuracy_score(y_test, y_test_pred)\n",
    "print(f\"Testing Accuracy: {test_accuracy:.2f}\")\n",
    "\n",
    "\n",
    "\n",
    "\n",
    "# Generating classification report for training data\n",
    "print(\"Classification Report (Training Data):\")\n",
    "print(classification_report(y_train, y_train_pred, target_names=list(emotion_mapping.values())))\n",
    "\n",
    "# Generating confusion matrix for training data\n",
    "print(\"\\nConfusion Matrix (Training Data):\")\n",
    "print(confusion_matrix(y_train, y_train_pred))\n",
    "\n",
    "# Generating classification report for testing data\n",
    "print(\"\\nClassification Report (Testing Data):\")\n",
    "print(classification_report(y_test, y_test_pred, target_names=list(emotion_mapping.values())))\n",
    "\n",
    "# Generating confusion matrix for testing data\n",
    "print(\"\\nConfusion Matrix (Testing Data):\")\n",
    "print(confusion_matrix(y_test, y_test_pred))\n",
    "\n",
    "\n",
    "\n",
    "\n",
    "\n",
    "\n",
    "#Generating Confusion Matrix for both traning and testing dataset using \"HeatMap\" function.\n",
    "\n",
    "# Function to plot confusion matrix as a heatmap\n",
    "def plot_confusion_matrix(y_true, y_pred, class_names, title):\n",
    "    cm = confusion_matrix(y_true, y_pred)\n",
    "    df_cm = pd.DataFrame(cm, index=class_names, columns=class_names)\n",
    "    plt.figure(figsize=(10, 7))\n",
    "    sns.heatmap(df_cm, annot=True, fmt='d', cmap='Blues')\n",
    "    plt.title(title)\n",
    "    plt.xlabel(\"Predicted Label\")\n",
    "    plt.ylabel(\"True Label\")\n",
    "    plt.show()\n",
    "\n",
    "# Plot confusion matrix for training data as a heatmap\n",
    "plot_confusion_matrix(y_train, y_train_pred, list(emotion_mapping.values()), \"Confusion Matrix (Training Data)\")\n",
    "\n",
    "# Plot confusion matrix for testing data as a heatmap\n",
    "plot_confusion_matrix(y_test, y_test_pred, list(emotion_mapping.values()), \"Confusion Matrix (Testing Data)\")\n",
    "\n",
    "\n",
    "#Explantion\n",
    "\n",
    "#1.Firstly the CSV file Emotions_training.csv is loaded into a pandas DataFrame named data.\n",
    "\n",
    "#2.Then the DataFrame data is splited into features X (the 'text' column) and labels y (the 'label' column).\n",
    "\n",
    "#3.After which The data is further split into training and testing sets using train_test_split. 70% of the data is used for training and 30% for testing, with a fixed random state for reproducibility.\n",
    "\n",
    "#4.Then we initialized a TfidfVectorizer instance named vectorizer, which will be used to convert text data into TF-IDF feature vectors.\n",
    "\n",
    "#5.In next step the fit_transform method is applied to the training data X_train, fitting the vectorizer to the data and transforming it into TF-IDF vectors.\n",
    "\n",
    "#6.Then the transform method is used on the testing data X_test to convert it into TF-IDF vectors based on the vocabulary learned from the training data.\n",
    "\n",
    "#7.Then we map numerical labels to their corresponding emotion names for easier interpretation of results.\n",
    "\n",
    "#8.A LogisticRegression model instance named lr_model is created.\n",
    "\n",
    "#9.The logistic regression model is trained using the training data (X_train_vectorized and y_train).\n",
    "\n",
    "#10.Then the trained model is used to predict labels for the training and Testing data.\n",
    "\n",
    "#11.After which we caluculated the training and testing accuracy  using accuracy_score and printed.\n",
    "\n",
    "#12.Then we generated classification report for the training and testing  data is generated using classification_report and printed. It includes metrics such as precision, recall, and F1-score for each emotion.\n",
    "\n",
    "#13.A confusion matrix for the training  and Tesyting data is generated using confusion_matrix and printed. It shows the counts of true vs. predicted labels.\n",
    "\n",
    "#14.Then we plot a confusion matrix as a heatmap using seaborn. It takes true labels, predicted labels, class names, and a title as inputs.\n",
    "\n",
    "#15.Lastly the confusion matrix for the training  and testing data is plotted as a heatmap.\n",
    "\n",
    "\n",
    "\n",
    "\n"
   ]
  },
  {
   "cell_type": "markdown",
   "id": "bc30696e",
   "metadata": {},
   "source": [
    "# Performing HyperParameter Tuning on Logistic Regression Model Using GridSearchCV"
   ]
  },
  {
   "cell_type": "code",
   "execution_count": 4,
   "id": "1613dda6",
   "metadata": {
    "collapsed": true
   },
   "outputs": [
    {
     "name": "stderr",
     "output_type": "stream",
     "text": [
      "C:\\Users\\Prashant\\anaconda3\\lib\\site-packages\\sklearn\\linear_model\\_sag.py:352: ConvergenceWarning: The max_iter was reached which means the coef_ did not converge\n",
      "  warnings.warn(\n",
      "C:\\Users\\Prashant\\anaconda3\\lib\\site-packages\\sklearn\\linear_model\\_sag.py:352: ConvergenceWarning: The max_iter was reached which means the coef_ did not converge\n",
      "  warnings.warn(\n",
      "C:\\Users\\Prashant\\anaconda3\\lib\\site-packages\\sklearn\\linear_model\\_sag.py:352: ConvergenceWarning: The max_iter was reached which means the coef_ did not converge\n",
      "  warnings.warn(\n",
      "C:\\Users\\Prashant\\anaconda3\\lib\\site-packages\\sklearn\\linear_model\\_sag.py:352: ConvergenceWarning: The max_iter was reached which means the coef_ did not converge\n",
      "  warnings.warn(\n",
      "C:\\Users\\Prashant\\anaconda3\\lib\\site-packages\\sklearn\\linear_model\\_sag.py:352: ConvergenceWarning: The max_iter was reached which means the coef_ did not converge\n",
      "  warnings.warn(\n",
      "C:\\Users\\Prashant\\anaconda3\\lib\\site-packages\\sklearn\\linear_model\\_sag.py:352: ConvergenceWarning: The max_iter was reached which means the coef_ did not converge\n",
      "  warnings.warn(\n",
      "C:\\Users\\Prashant\\anaconda3\\lib\\site-packages\\sklearn\\linear_model\\_sag.py:352: ConvergenceWarning: The max_iter was reached which means the coef_ did not converge\n",
      "  warnings.warn(\n",
      "C:\\Users\\Prashant\\anaconda3\\lib\\site-packages\\sklearn\\linear_model\\_sag.py:352: ConvergenceWarning: The max_iter was reached which means the coef_ did not converge\n",
      "  warnings.warn(\n",
      "C:\\Users\\Prashant\\anaconda3\\lib\\site-packages\\sklearn\\linear_model\\_sag.py:352: ConvergenceWarning: The max_iter was reached which means the coef_ did not converge\n",
      "  warnings.warn(\n",
      "C:\\Users\\Prashant\\anaconda3\\lib\\site-packages\\sklearn\\linear_model\\_sag.py:352: ConvergenceWarning: The max_iter was reached which means the coef_ did not converge\n",
      "  warnings.warn(\n",
      "C:\\Users\\Prashant\\anaconda3\\lib\\site-packages\\sklearn\\linear_model\\_sag.py:352: ConvergenceWarning: The max_iter was reached which means the coef_ did not converge\n",
      "  warnings.warn(\n"
     ]
    },
    {
     "name": "stdout",
     "output_type": "stream",
     "text": [
      "Best Hyperparameters: {'C': 10.0, 'penalty': 'l1', 'solver': 'saga'}\n"
     ]
    },
    {
     "name": "stderr",
     "output_type": "stream",
     "text": [
      "C:\\Users\\Prashant\\anaconda3\\lib\\site-packages\\sklearn\\linear_model\\_sag.py:352: ConvergenceWarning: The max_iter was reached which means the coef_ did not converge\n",
      "  warnings.warn(\n"
     ]
    },
    {
     "name": "stdout",
     "output_type": "stream",
     "text": [
      "\n",
      "Classification Report (Training Data):\n",
      "              precision    recall  f1-score   support\n",
      "\n",
      "     sadness       1.00      1.00      1.00      3232\n",
      "         joy       1.00      1.00      1.00      3781\n",
      "        love       0.99      0.99      0.99       870\n",
      "       anger       1.00      1.00      1.00      1552\n",
      "        fear       0.99      1.00      0.99      1371\n",
      "    surprise       0.99      0.98      0.99       394\n",
      "\n",
      "    accuracy                           1.00     11200\n",
      "   macro avg       0.99      0.99      0.99     11200\n",
      "weighted avg       1.00      1.00      1.00     11200\n",
      "\n",
      "\n",
      "Confusion Matrix (Training Data):\n",
      "[[3226    1    0    4    1    0]\n",
      " [   1 3769    8    0    2    1]\n",
      " [   0    7  863    0    0    0]\n",
      " [   3    0    0 1548    1    0]\n",
      " [   2    0    0    1 1365    3]\n",
      " [   0    1    0    0    5  388]]\n",
      "\n",
      "Classification Report (Testing Data):\n",
      "              precision    recall  f1-score   support\n",
      "\n",
      "     sadness       0.94      0.93      0.94      1434\n",
      "         joy       0.89      0.94      0.91      1581\n",
      "        love       0.82      0.76      0.79       434\n",
      "       anger       0.88      0.89      0.88       607\n",
      "        fear       0.86      0.83      0.85       566\n",
      "    surprise       0.84      0.73      0.78       178\n",
      "\n",
      "    accuracy                           0.89      4800\n",
      "   macro avg       0.87      0.85      0.86      4800\n",
      "weighted avg       0.89      0.89      0.89      4800\n",
      "\n",
      "\n",
      "Confusion Matrix (Testing Data):\n",
      "[[1338   29    8   37   18    4]\n",
      " [  25 1480   58    7    5    6]\n",
      " [   2   92  332    5    3    0]\n",
      " [  30   17    4  541   15    0]\n",
      " [  24   30    3   26  469   14]\n",
      " [   5    8    1    1   33  130]]\n"
     ]
    },
    {
     "data": {
      "image/png": "[encoded data removed]",
      "text/plain": [
       "<Figure size 720x504 with 2 Axes>"
      ]
     },
     "metadata": {
      "needs_background": "light"
     },
     "output_type": "display_data"
    },
    {
     "data": {
      "image/png": "[encoded data removed]",
      "text/plain": [
       "<Figure size 720x504 with 2 Axes>"
      ]
     },
     "metadata": {
      "needs_background": "light"
     },
     "output_type": "display_data"
    }
   ],
   "source": [
    "# Loading the dataset\n",
    "data = pd.read_csv('Emotions_training.csv')\n",
    "\n",
    "# Splitting the data into features (X) and labels (y)\n",
    "X = data['text']\n",
    "y = data['label']\n",
    "\n",
    "# Splitting the data into train, test, and validation sets\n",
    "X_train, X_test, y_train, y_test = train_test_split(X, y, test_size=0.3, random_state=42)\n",
    "\n",
    "# Creating a TfidfVectorizer instance\n",
    "vectorizer = TfidfVectorizer()\n",
    "\n",
    "# Fit and transform the training data\n",
    "X_train_vectorized = vectorizer.fit_transform(X_train)\n",
    "\n",
    "# Transforming the testing data\n",
    "X_test_vectorized = vectorizer.transform(X_test)\n",
    "\n",
    "# Defining emotion mapping\n",
    "emotion_mapping = {0: 'sadness', 1: 'joy', 2: 'love', 3: 'anger', 4: 'fear', 5: 'surprise'}\n",
    "\n",
    "# Creating a LogisticRegression instance\n",
    "lr_model = LogisticRegression()\n",
    "\n",
    "# Hyperparameter tuning using GridSearchCV\n",
    "param_grid = {\n",
    "    'penalty': ['l1', 'l2'],  # Penalty type (L1 or L2 regularization)\n",
    "    'C': [0.1, 1.0, 10.0],  # Inverse of regularization strength\n",
    "    'solver': ['liblinear', 'saga']  # Algorithm to use in the optimization problem\n",
    "}\n",
    "\n",
    "grid_search = GridSearchCV(lr_model, param_grid, cv=5, scoring='accuracy')\n",
    "grid_search.fit(X_train_vectorized, y_train)\n",
    "\n",
    "# Print the best hyperparameters\n",
    "print(\"Best Hyperparameters:\", grid_search.best_params_)\n",
    "\n",
    "# Getting  the best model(The best_model is an instance of the LogisticRegression model with the optimal hyperparameters found by the grid search.)\n",
    "best_model = grid_search.best_estimator_\n",
    "\n",
    "# Training the best model\n",
    "best_model.fit(X_train_vectorized, y_train)\n",
    "\n",
    "# Making predictions on the training data\n",
    "y_train_pred = best_model.predict(X_train_vectorized)\n",
    "\n",
    "# Making predictions on the testing data\n",
    "y_test_pred = best_model.predict(X_test_vectorized)\n",
    "\n",
    "# Generating classification report for training data\n",
    "print(\"\\nClassification Report (Training Data):\")\n",
    "print(classification_report(y_train, y_train_pred, target_names=list(emotion_mapping.values())))\n",
    "\n",
    "# Generating confusion matrix for training data\n",
    "print(\"\\nConfusion Matrix (Training Data):\")\n",
    "print(confusion_matrix(y_train, y_train_pred))\n",
    "\n",
    "# Generating classification report for testing data\n",
    "print(\"\\nClassification Report (Testing Data):\")\n",
    "print(classification_report(y_test, y_test_pred, target_names=list(emotion_mapping.values())))\n",
    "\n",
    "# Generating confusion matrix for testing data\n",
    "print(\"\\nConfusion Matrix (Testing Data):\")\n",
    "print(confusion_matrix(y_test, y_test_pred))\n",
    "\n",
    "\n",
    "#Generating Confusion Matrix for both traning and testing dataset using \"HeatMap\" function.\n",
    "\n",
    "# Function to plot confusion matrix as a heatmap\n",
    "def plot_confusion_matrix(y_true, y_pred, class_names, title):\n",
    "    cm = confusion_matrix(y_true, y_pred)\n",
    "    df_cm = pd.DataFrame(cm, index=class_names, columns=class_names)\n",
    "    plt.figure(figsize=(10, 7))\n",
    "    sns.heatmap(df_cm, annot=True, fmt='d', cmap='Blues')\n",
    "    plt.title(title)\n",
    "    plt.xlabel(\"Predicted Label\")\n",
    "    plt.ylabel(\"True Label\")\n",
    "    plt.show()\n",
    "\n",
    "# Plot confusion matrix for training data as a heatmap\n",
    "plot_confusion_matrix(y_train, y_train_pred, list(emotion_mapping.values()), \"Confusion Matrix (Training Data)\")\n",
    "\n",
    "# Plot confusion matrix for testing data as a heatmap\n",
    "plot_confusion_matrix(y_test, y_test_pred, list(emotion_mapping.values()), \"Confusion Matrix (Testing Data)\")\n",
    "\n",
    "\n",
    "# 1.Here we use GridSearchCV to perform a grid search over the specified hyperparameters: 'penalty', 'C', and 'solver'. \n",
    "# 2.The GridSearchCV object is created with the LogisticRegression model and the parameter grid param_grid. \n",
    "# 3.We use 5-fold cross-validation (cv=5) and set the scoring metric to 'accuracy'.\n",
    "# 4.After fitting the GridSearchCV object to the training data, we print the best hyperparameters found by the grid search (grid_search.best_params_). \n",
    "# 5.We then get the best model instance (best_model = grid_search.best_estimator_) and fit it to the training data.\n",
    "# 6.Next, we make predictions on both the training and test data using the best model. \n",
    "# 7.Finally, we generate the classification report and confusion matrix for both the training and test datasets using the classification_report and confusion_matrix functions from sklearn.metrics.\n",
    "# 8.The output include's the best hyperparameters found by the grid search, followed by the classification report and confusion matrix for both the training and test datasets.\n",
    "\n",
    "\n",
    "# Resuts:-\n",
    "# The best hyperparameters found by the grid search are:\n",
    "\n",
    "#  'penalty': 'l1' (L1 regularization)\n",
    "#  'C': 10.0 (Inverse of regularization strength)\n",
    "#  'solver':'saga' (Algorithm to use for optimization)\n",
    "\n"
   ]
  },
  {
   "cell_type": "markdown",
   "id": "ad7cb842",
   "metadata": {},
   "source": [
    "# 2. Support Vector Machine (SVM) Model"
   ]
  },
  {
   "cell_type": "code",
   "execution_count": 7,
   "id": "211007dc",
   "metadata": {
    "collapsed": true
   },
   "outputs": [
    {
     "name": "stdout",
     "output_type": "stream",
     "text": [
      "Training Accuracy: 0.9916071428571429\n",
      "Testing Accuracy: 0.8160416666666667\n",
      "Predicted Emotions: ['sadness', 'joy', 'sadness', 'joy', 'sadness', 'sadness', 'fear', 'sadness', 'joy', 'joy', 'sadness', 'anger', 'joy', 'sadness', 'sadness', 'fear', 'anger', 'joy', 'love', 'sadness', 'anger', 'joy', 'sadness', 'sadness', 'sadness', 'love', 'joy', 'sadness', 'sadness', 'joy', 'joy', 'joy', 'love', 'joy', 'love', 'sadness', 'sadness', 'fear', 'joy', 'joy', 'joy', 'sadness', 'joy', 'sadness', 'anger', 'sadness', 'anger', 'joy', 'sadness', 'sadness', 'anger', 'fear', 'joy', 'joy', 'sadness', 'anger', 'sadness', 'joy', 'love', 'joy', 'fear', 'joy', 'joy', 'joy', 'anger', 'joy', 'sadness', 'anger', 'sadness', 'anger', 'sadness', 'sadness', 'anger', 'fear', 'sadness', 'sadness', 'joy', 'joy', 'anger', 'sadness', 'fear', 'joy', 'sadness', 'sadness', 'surprise', 'joy', 'fear', 'sadness', 'sadness', 'love', 'love', 'fear', 'sadness', 'joy', 'sadness', 'sadness', 'fear', 'joy', 'love', 'joy', 'joy', 'love', 'sadness', 'joy', 'surprise', 'joy', 'joy', 'sadness', 'joy', 'sadness', 'sadness', 'sadness', 'fear', 'sadness', 'joy', 'love', 'fear', 'joy', 'sadness', 'joy', 'joy', 'joy', 'joy', 'sadness', 'joy', 'sadness', 'sadness', 'joy', 'joy', 'joy', 'fear', 'anger', 'fear', 'sadness', 'joy', 'anger', 'fear', 'sadness', 'sadness', 'sadness', 'fear', 'anger', 'joy', 'joy', 'joy', 'sadness', 'joy', 'joy', 'joy', 'anger', 'joy', 'joy', 'fear', 'sadness', 'sadness', 'anger', 'fear', 'joy', 'joy', 'sadness', 'fear', 'anger', 'joy', 'sadness', 'joy', 'sadness', 'anger', 'anger', 'joy', 'sadness', 'fear', 'sadness', 'joy', 'sadness', 'fear', 'fear', 'joy', 'joy', 'sadness', 'joy', 'sadness', 'joy', 'sadness', 'joy', 'fear', 'joy', 'joy', 'joy', 'sadness', 'joy', 'fear', 'fear', 'joy', 'joy', 'sadness', 'fear', 'joy', 'sadness', 'sadness', 'sadness', 'sadness', 'sadness', 'joy', 'sadness', 'anger', 'joy', 'joy', 'sadness', 'love', 'joy', 'sadness', 'sadness', 'joy', 'fear', 'joy', 'sadness', 'anger', 'sadness', 'sadness', 'joy', 'anger', 'sadness', 'joy', 'sadness', 'joy', 'sadness', 'anger', 'joy', 'joy', 'sadness', 'joy', 'joy', 'fear', 'sadness', 'anger', 'fear', 'sadness', 'sadness', 'sadness', 'sadness', 'joy', 'joy', 'joy', 'sadness', 'fear', 'fear', 'joy', 'anger', 'joy', 'joy', 'sadness', 'love', 'joy', 'anger', 'sadness', 'sadness', 'joy', 'joy', 'joy', 'joy', 'sadness', 'fear', 'sadness', 'sadness', 'sadness', 'joy', 'surprise', 'joy', 'joy', 'sadness', 'fear', 'fear', 'sadness', 'joy', 'joy', 'joy', 'joy', 'anger', 'sadness', 'joy', 'sadness', 'joy', 'joy', 'anger', 'joy', 'joy', 'anger', 'joy', 'joy', 'sadness', 'joy', 'sadness', 'joy', 'sadness', 'fear', 'sadness', 'joy', 'joy', 'anger', 'joy', 'sadness', 'sadness', 'sadness', 'joy', 'sadness', 'sadness', 'sadness', 'joy', 'sadness', 'fear', 'joy', 'sadness', 'joy', 'anger', 'joy', 'sadness', 'sadness', 'fear', 'joy', 'sadness', 'sadness', 'joy', 'joy', 'sadness', 'joy', 'joy', 'joy', 'joy', 'joy', 'love', 'sadness', 'fear', 'anger', 'love', 'joy', 'joy', 'joy', 'sadness', 'sadness', 'sadness', 'joy', 'anger', 'joy', 'sadness', 'sadness', 'fear', 'joy', 'sadness', 'sadness', 'joy', 'sadness', 'sadness', 'joy', 'fear', 'sadness', 'sadness', 'anger', 'love', 'sadness', 'joy', 'sadness', 'joy', 'sadness', 'joy', 'love', 'sadness', 'joy', 'love', 'anger', 'joy', 'sadness', 'sadness', 'joy', 'fear', 'joy', 'sadness', 'joy', 'joy', 'joy', 'joy', 'joy', 'sadness', 'joy', 'joy', 'sadness', 'sadness', 'joy', 'sadness', 'fear', 'anger', 'sadness', 'anger', 'anger', 'joy', 'sadness', 'fear', 'sadness', 'love', 'sadness', 'joy', 'joy', 'joy', 'joy', 'joy', 'sadness', 'sadness', 'joy', 'love', 'sadness', 'joy', 'joy', 'anger', 'sadness', 'joy', 'sadness', 'sadness', 'surprise', 'joy', 'love', 'joy', 'joy', 'sadness', 'fear', 'sadness', 'joy', 'anger', 'joy', 'sadness', 'love', 'sadness', 'joy', 'sadness', 'sadness', 'joy', 'sadness', 'joy', 'joy', 'anger', 'sadness', 'sadness', 'joy', 'sadness', 'joy', 'sadness', 'fear', 'sadness', 'joy', 'anger', 'joy', 'sadness', 'sadness', 'surprise', 'joy', 'sadness', 'fear', 'sadness', 'joy', 'anger', 'joy', 'joy', 'joy', 'sadness', 'anger', 'joy', 'joy', 'love', 'surprise', 'sadness', 'joy', 'joy', 'joy', 'joy', 'joy', 'joy', 'anger', 'joy', 'anger', 'sadness', 'joy', 'joy', 'sadness', 'sadness', 'sadness', 'joy', 'sadness', 'joy', 'sadness', 'sadness', 'joy', 'sadness', 'anger', 'joy', 'joy', 'sadness', 'joy', 'joy', 'joy', 'anger', 'joy', 'joy', 'joy', 'sadness', 'sadness', 'sadness', 'sadness', 'sadness', 'love', 'sadness', 'joy', 'sadness', 'joy', 'joy', 'anger', 'sadness', 'joy', 'fear', 'joy', 'sadness', 'sadness', 'sadness', 'sadness', 'fear', 'sadness', 'sadness', 'sadness', 'surprise', 'anger', 'joy', 'fear', 'fear', 'joy', 'joy', 'fear', 'love', 'fear', 'sadness', 'anger', 'sadness', 'sadness', 'joy', 'sadness', 'anger', 'joy', 'sadness', 'surprise', 'joy', 'joy', 'anger', 'sadness', 'love', 'sadness', 'fear', 'joy', 'joy', 'joy', 'fear', 'sadness', 'joy', 'love', 'sadness', 'sadness', 'sadness', 'joy', 'sadness', 'sadness', 'anger', 'sadness', 'joy', 'fear', 'fear', 'joy', 'joy', 'sadness', 'joy', 'joy', 'love', 'anger', 'sadness', 'joy', 'love', 'joy', 'joy', 'joy', 'joy', 'anger', 'fear', 'joy', 'joy', 'joy', 'joy', 'sadness', 'anger', 'sadness', 'joy', 'love', 'anger', 'joy', 'sadness', 'sadness', 'joy', 'joy', 'fear', 'sadness', 'anger', 'sadness', 'sadness', 'surprise', 'love', 'anger', 'joy', 'joy', 'sadness', 'joy', 'joy', 'sadness', 'love', 'joy', 'anger', 'sadness', 'love', 'sadness', 'sadness', 'sadness', 'sadness', 'joy', 'fear', 'fear', 'sadness', 'joy', 'joy', 'joy', 'joy', 'joy', 'fear', 'sadness', 'sadness', 'joy', 'sadness', 'joy', 'sadness', 'sadness', 'joy', 'joy', 'joy', 'joy', 'fear', 'anger', 'love', 'joy', 'joy', 'joy', 'sadness', 'joy', 'joy', 'joy', 'fear', 'love', 'love', 'love', 'sadness', 'joy', 'anger', 'joy', 'love', 'fear', 'joy', 'love', 'joy', 'sadness', 'joy', 'love', 'sadness', 'joy', 'fear', 'joy', 'joy', 'sadness', 'anger', 'sadness', 'sadness', 'anger', 'sadness', 'love', 'sadness', 'fear', 'sadness', 'sadness', 'joy', 'joy', 'sadness', 'love', 'sadness', 'sadness', 'joy', 'sadness', 'joy', 'sadness', 'anger', 'joy', 'joy', 'joy', 'joy', 'joy', 'sadness', 'fear', 'joy', 'joy', 'love', 'sadness', 'joy', 'surprise', 'anger', 'sadness', 'joy', 'sadness', 'sadness', 'joy', 'love', 'sadness', 'joy', 'sadness', 'anger', 'sadness', 'joy', 'sadness', 'joy', 'joy', 'joy', 'sadness', 'joy', 'anger', 'fear', 'sadness', 'fear', 'sadness', 'fear', 'sadness', 'anger', 'sadness', 'sadness', 'joy', 'anger', 'joy', 'fear', 'joy', 'joy', 'joy', 'joy', 'joy', 'joy', 'sadness', 'joy', 'joy', 'sadness', 'joy', 'joy', 'fear', 'anger', 'joy', 'anger', 'sadness', 'joy', 'love', 'joy', 'sadness', 'joy', 'joy', 'joy', 'fear', 'sadness', 'sadness', 'joy', 'anger', 'joy', 'fear', 'fear', 'sadness', 'joy', 'joy', 'sadness', 'anger', 'joy', 'love', 'joy', 'sadness', 'sadness', 'anger', 'love', 'sadness', 'love', 'sadness', 'joy', 'joy', 'joy', 'joy', 'fear', 'joy', 'sadness', 'anger', 'sadness', 'joy', 'sadness', 'anger', 'joy', 'joy', 'anger', 'joy', 'joy', 'joy', 'sadness', 'sadness', 'sadness', 'surprise', 'fear', 'sadness', 'joy', 'joy', 'sadness', 'sadness', 'joy', 'sadness', 'anger', 'sadness', 'sadness', 'joy', 'joy', 'joy', 'joy', 'fear', 'sadness', 'fear', 'joy', 'joy', 'sadness', 'sadness', 'sadness', 'joy', 'sadness', 'sadness', 'sadness', 'love', 'fear', 'anger', 'joy', 'sadness', 'joy', 'sadness', 'sadness', 'joy', 'fear', 'love', 'anger', 'joy', 'sadness', 'sadness', 'joy', 'joy', 'joy', 'sadness', 'joy', 'joy', 'sadness', 'joy', 'joy', 'joy', 'sadness', 'sadness', 'sadness', 'joy', 'anger', 'joy', 'love', 'joy', 'joy', 'joy', 'joy', 'joy', 'love', 'sadness', 'sadness', 'fear', 'joy', 'anger', 'joy', 'joy', 'joy', 'sadness', 'sadness', 'joy', 'anger', 'joy', 'anger', 'joy', 'joy', 'joy', 'anger', 'sadness', 'anger', 'joy', 'joy', 'love', 'joy', 'anger', 'joy', 'sadness', 'joy', 'fear', 'joy', 'joy', 'surprise', 'joy', 'sadness', 'sadness', 'sadness', 'joy', 'sadness', 'love', 'sadness', 'anger', 'sadness', 'sadness', 'joy', 'sadness', 'fear', 'fear', 'sadness', 'sadness', 'sadness', 'joy', 'love', 'anger', 'sadness', 'sadness', 'anger', 'surprise', 'joy', 'joy', 'fear', 'sadness', 'sadness', 'love', 'anger', 'anger', 'joy', 'joy', 'joy', 'sadness', 'joy', 'anger', 'surprise', 'joy', 'joy', 'joy', 'joy', 'fear', 'joy', 'anger', 'fear', 'love', 'joy', 'anger', 'joy', 'sadness', 'fear', 'anger', 'sadness', 'joy', 'joy', 'sadness', 'joy', 'sadness', 'joy', 'anger', 'fear', 'joy', 'sadness', 'joy', 'joy', 'sadness', 'joy', 'anger', 'anger', 'fear', 'sadness', 'joy', 'joy', 'sadness', 'joy', 'joy', 'joy', 'anger', 'joy', 'fear', 'joy', 'anger', 'surprise', 'sadness', 'sadness', 'surprise', 'fear', 'sadness', 'joy', 'joy', 'anger', 'joy', 'sadness', 'joy', 'sadness', 'joy', 'joy', 'sadness', 'joy', 'joy', 'joy', 'anger', 'sadness', 'sadness', 'joy', 'sadness', 'joy', 'anger', 'joy', 'joy', 'sadness', 'joy', 'joy', 'sadness', 'love', 'sadness', 'sadness', 'sadness', 'anger', 'joy', 'love', 'joy', 'joy', 'joy', 'joy', 'sadness', 'anger', 'joy', 'joy', 'joy', 'joy', 'joy', 'joy', 'sadness', 'sadness', 'fear', 'fear', 'joy', 'joy', 'joy', 'anger', 'sadness', 'joy', 'joy', 'joy', 'fear', 'joy', 'sadness', 'love', 'sadness', 'joy', 'sadness', 'fear', 'surprise', 'joy', 'love', 'fear', 'sadness', 'sadness', 'anger', 'anger', 'joy', 'joy', 'joy', 'sadness', 'joy', 'sadness', 'sadness', 'joy', 'sadness', 'joy', 'sadness', 'sadness', 'joy', 'joy', 'sadness', 'sadness', 'joy', 'sadness', 'sadness', 'anger', 'sadness', 'sadness', 'love', 'love', 'sadness', 'anger', 'joy', 'joy', 'anger', 'love', 'fear', 'anger', 'sadness', 'joy', 'anger', 'joy', 'fear', 'joy', 'sadness', 'joy', 'anger', 'anger', 'joy', 'sadness', 'anger', 'love', 'joy', 'joy', 'anger', 'joy', 'sadness', 'joy', 'sadness', 'love', 'sadness', 'fear', 'joy', 'joy', 'fear', 'sadness', 'sadness', 'surprise', 'fear', 'anger', 'surprise', 'joy', 'joy', 'fear', 'sadness', 'joy', 'joy', 'joy', 'sadness', 'anger', 'joy', 'joy', 'joy', 'fear', 'sadness', 'sadness', 'sadness', 'joy', 'joy', 'joy', 'fear', 'sadness', 'love', 'joy', 'sadness', 'anger', 'sadness', 'joy', 'joy', 'sadness', 'sadness', 'sadness', 'sadness', 'joy', 'joy', 'joy', 'joy', 'joy', 'fear', 'fear', 'joy', 'love', 'sadness', 'surprise', 'joy', 'fear', 'joy', 'joy', 'sadness', 'fear', 'sadness', 'sadness', 'joy', 'anger', 'sadness', 'surprise', 'joy', 'joy', 'love', 'fear', 'fear', 'sadness', 'anger', 'fear', 'sadness', 'sadness', 'joy', 'joy', 'joy', 'joy', 'sadness', 'sadness', 'sadness', 'joy', 'sadness', 'joy', 'sadness', 'love', 'anger', 'joy', 'joy', 'sadness', 'joy', 'fear', 'joy', 'sadness', 'joy', 'joy', 'joy', 'sadness', 'sadness', 'joy', 'sadness', 'joy', 'sadness', 'joy', 'anger', 'surprise', 'anger', 'sadness', 'sadness', 'fear', 'anger', 'sadness', 'sadness', 'love', 'joy', 'joy', 'joy', 'joy', 'anger', 'sadness', 'sadness', 'joy', 'sadness', 'sadness', 'sadness', 'love', 'sadness', 'joy', 'joy', 'joy', 'joy', 'sadness', 'sadness', 'fear', 'joy', 'joy', 'sadness', 'sadness', 'sadness', 'anger', 'sadness', 'joy', 'sadness', 'joy', 'joy', 'joy', 'anger', 'joy', 'sadness', 'joy', 'joy', 'love', 'anger', 'sadness', 'sadness', 'anger', 'joy', 'joy', 'joy', 'joy', 'sadness', 'joy', 'sadness', 'sadness', 'anger', 'sadness', 'fear', 'sadness', 'joy', 'joy', 'joy', 'joy', 'joy', 'joy', 'joy', 'joy', 'joy', 'love', 'sadness', 'anger', 'joy', 'joy', 'anger', 'joy', 'sadness', 'fear', 'anger', 'joy', 'joy', 'joy', 'sadness', 'joy', 'joy', 'anger', 'sadness', 'fear', 'fear', 'joy', 'joy', 'joy', 'sadness', 'sadness', 'joy', 'joy', 'sadness', 'joy', 'sadness', 'anger', 'sadness', 'joy', 'anger', 'joy', 'anger', 'sadness', 'sadness', 'joy', 'sadness', 'joy', 'sadness', 'joy', 'joy', 'sadness', 'sadness', 'anger', 'sadness', 'fear', 'joy', 'sadness', 'love', 'anger', 'fear', 'joy', 'sadness', 'fear', 'love', 'joy', 'joy', 'fear', 'fear', 'joy', 'sadness', 'love', 'sadness', 'joy', 'sadness', 'fear', 'fear', 'sadness', 'joy', 'anger', 'joy', 'joy', 'sadness', 'sadness', 'sadness', 'joy', 'sadness', 'anger', 'joy', 'joy', 'anger', 'sadness', 'fear', 'joy', 'joy', 'joy', 'joy', 'joy', 'sadness', 'sadness', 'joy', 'sadness', 'anger', 'sadness', 'anger', 'sadness', 'anger', 'love', 'joy', 'joy', 'fear', 'sadness', 'joy', 'sadness', 'love', 'joy', 'joy', 'joy', 'joy', 'love', 'joy', 'sadness', 'sadness', 'joy', 'joy', 'sadness', 'fear', 'joy', 'fear', 'joy', 'joy', 'joy', 'sadness', 'anger', 'joy', 'fear', 'sadness', 'joy', 'sadness', 'joy', 'sadness', 'fear', 'anger', 'anger', 'anger', 'fear', 'surprise', 'joy', 'sadness', 'sadness', 'joy', 'joy', 'joy', 'sadness', 'joy', 'joy', 'joy', 'joy', 'joy', 'sadness', 'joy', 'sadness', 'anger', 'joy', 'joy', 'sadness', 'sadness', 'joy', 'anger', 'joy', 'sadness', 'fear', 'joy', 'anger', 'anger', 'anger', 'joy', 'joy', 'joy', 'sadness', 'joy', 'sadness', 'joy', 'sadness', 'fear', 'fear', 'love', 'joy', 'joy', 'fear', 'sadness', 'sadness', 'fear', 'joy', 'joy', 'anger', 'love', 'sadness', 'sadness', 'anger', 'anger', 'love', 'joy', 'anger', 'sadness', 'sadness', 'anger', 'joy', 'joy', 'joy', 'sadness', 'fear', 'joy', 'sadness', 'joy', 'sadness', 'anger', 'joy', 'anger', 'joy', 'joy', 'joy', 'love', 'sadness', 'sadness', 'joy', 'sadness', 'love', 'joy', 'sadness', 'love', 'sadness', 'joy', 'sadness', 'joy', 'sadness', 'joy', 'joy', 'love', 'sadness', 'sadness', 'fear', 'joy', 'sadness', 'anger', 'joy', 'sadness', 'sadness', 'anger', 'love', 'sadness', 'sadness', 'anger', 'sadness', 'joy', 'anger', 'sadness', 'love', 'surprise', 'joy', 'sadness', 'fear', 'joy', 'joy', 'sadness', 'sadness', 'anger', 'joy', 'fear', 'joy', 'love', 'joy', 'joy', 'joy', 'fear', 'joy', 'joy', 'joy', 'joy', 'joy', 'joy', 'joy', 'joy', 'joy', 'joy', 'joy', 'joy', 'love', 'sadness', 'fear', 'sadness', 'joy', 'joy', 'joy', 'sadness', 'joy', 'joy', 'sadness', 'joy', 'sadness', 'anger', 'sadness', 'joy', 'sadness', 'joy', 'anger', 'anger', 'joy', 'sadness', 'anger', 'fear', 'joy', 'fear', 'joy', 'joy', 'sadness', 'sadness', 'joy', 'joy', 'sadness', 'love', 'fear', 'sadness', 'joy', 'sadness', 'love', 'sadness', 'anger', 'anger', 'sadness', 'sadness', 'joy', 'joy', 'fear', 'anger', 'joy', 'anger', 'sadness', 'fear', 'anger', 'fear', 'surprise', 'joy', 'joy', 'joy', 'fear', 'joy', 'love', 'anger', 'sadness', 'joy', 'sadness', 'joy', 'sadness', 'fear', 'joy', 'joy', 'anger', 'joy', 'sadness', 'joy', 'joy', 'fear', 'joy', 'joy', 'joy', 'joy', 'joy', 'joy', 'joy', 'fear', 'sadness', 'joy', 'joy', 'joy', 'sadness', 'joy', 'sadness', 'joy', 'fear', 'joy', 'joy', 'joy', 'joy', 'joy', 'joy', 'joy', 'joy', 'sadness', 'joy', 'fear', 'joy', 'joy', 'joy', 'joy', 'sadness', 'sadness', 'fear', 'joy', 'joy', 'surprise', 'anger', 'joy', 'sadness', 'joy', 'joy', 'joy', 'sadness', 'joy', 'fear', 'joy', 'joy', 'joy', 'anger', 'sadness', 'joy', 'joy', 'sadness', 'sadness', 'joy', 'anger', 'sadness', 'fear', 'joy', 'joy', 'sadness', 'joy', 'sadness', 'fear', 'joy', 'sadness', 'joy', 'anger', 'joy', 'sadness', 'joy', 'sadness', 'fear', 'fear', 'joy', 'anger', 'anger', 'joy', 'sadness', 'joy', 'sadness', 'joy', 'joy', 'love', 'joy', 'joy', 'sadness', 'joy', 'fear', 'joy', 'joy', 'joy', 'love', 'joy', 'joy', 'sadness', 'joy', 'surprise', 'fear', 'joy', 'joy', 'surprise', 'sadness', 'anger', 'joy', 'sadness', 'sadness', 'joy', 'sadness', 'joy', 'sadness', 'joy', 'joy', 'sadness', 'joy', 'sadness', 'anger', 'sadness', 'joy', 'fear', 'joy', 'sadness', 'joy', 'joy', 'joy', 'sadness', 'love', 'sadness', 'sadness', 'joy', 'joy', 'anger', 'sadness', 'sadness', 'sadness', 'joy', 'sadness', 'joy', 'fear', 'sadness', 'anger', 'joy', 'sadness', 'sadness', 'joy', 'anger', 'joy', 'joy', 'sadness', 'surprise', 'joy', 'fear', 'sadness', 'sadness', 'sadness', 'joy', 'joy', 'love', 'joy', 'joy', 'sadness', 'joy', 'love', 'joy', 'joy', 'joy', 'joy', 'sadness', 'fear', 'joy', 'sadness', 'joy', 'love', 'joy', 'sadness', 'joy', 'joy', 'anger', 'joy', 'fear', 'sadness', 'joy', 'sadness', 'joy', 'anger', 'joy', 'sadness', 'sadness', 'fear', 'anger', 'joy', 'fear', 'love', 'love', 'fear', 'joy', 'joy', 'sadness', 'joy', 'anger', 'anger', 'sadness', 'sadness', 'joy', 'joy', 'sadness', 'joy', 'sadness', 'sadness', 'anger', 'joy', 'joy', 'joy', 'fear', 'joy', 'joy', 'joy', 'joy', 'joy', 'anger', 'joy', 'sadness', 'sadness', 'joy', 'sadness', 'joy', 'joy', 'fear', 'anger', 'sadness', 'sadness', 'joy', 'joy', 'anger', 'sadness', 'joy', 'joy', 'joy', 'sadness', 'joy', 'fear', 'joy', 'joy', 'sadness', 'anger', 'joy', 'joy', 'sadness', 'joy', 'sadness', 'anger', 'anger', 'fear', 'sadness', 'sadness', 'joy', 'joy', 'sadness', 'joy', 'fear', 'joy', 'sadness', 'joy', 'love', 'joy', 'sadness', 'fear', 'joy', 'joy', 'sadness', 'fear', 'surprise', 'anger', 'sadness', 'anger', 'fear', 'sadness', 'fear', 'anger', 'anger', 'sadness', 'sadness', 'joy', 'sadness', 'sadness', 'joy', 'sadness', 'joy', 'anger', 'joy', 'fear', 'joy', 'sadness', 'joy', 'anger', 'anger', 'joy', 'sadness', 'sadness', 'sadness', 'sadness', 'anger', 'joy', 'anger', 'sadness', 'joy', 'fear', 'sadness', 'sadness', 'joy', 'joy', 'joy', 'sadness', 'anger', 'sadness', 'joy', 'sadness', 'anger', 'love', 'sadness', 'sadness', 'sadness', 'love', 'sadness', 'joy', 'joy', 'joy', 'joy', 'joy', 'anger', 'joy', 'sadness', 'sadness', 'joy', 'love', 'sadness', 'joy', 'joy', 'anger', 'sadness', 'sadness', 'joy', 'joy', 'sadness', 'fear', 'joy', 'joy', 'joy', 'sadness', 'sadness', 'joy', 'sadness', 'sadness', 'joy', 'sadness', 'joy', 'anger', 'sadness', 'sadness', 'anger', 'joy', 'joy', 'joy', 'anger', 'surprise', 'sadness', 'love', 'joy', 'joy', 'joy', 'sadness', 'sadness', 'joy', 'joy', 'fear', 'joy', 'sadness', 'sadness', 'sadness', 'joy', 'anger', 'joy', 'joy', 'joy', 'joy', 'joy', 'joy', 'sadness', 'sadness', 'sadness', 'sadness', 'sadness', 'joy', 'love', 'fear', 'fear', 'love', 'sadness', 'joy', 'joy', 'joy', 'sadness', 'surprise', 'joy', 'sadness', 'sadness', 'fear', 'joy', 'fear', 'joy', 'joy', 'anger', 'fear', 'fear', 'anger', 'sadness', 'sadness', 'anger', 'fear', 'sadness', 'love', 'joy', 'sadness', 'joy', 'sadness', 'sadness', 'anger', 'sadness', 'sadness', 'joy', 'joy', 'joy', 'sadness', 'joy', 'anger', 'anger', 'sadness', 'joy', 'sadness', 'fear', 'fear', 'joy', 'sadness', 'joy', 'anger', 'sadness', 'anger', 'joy', 'joy', 'joy', 'joy', 'joy', 'sadness', 'fear', 'joy', 'joy', 'joy', 'fear', 'anger', 'sadness', 'joy', 'sadness', 'joy', 'joy', 'joy', 'joy', 'anger', 'joy', 'fear', 'sadness', 'joy', 'joy', 'sadness', 'sadness', 'joy', 'sadness', 'anger', 'anger', 'joy', 'sadness', 'sadness', 'sadness', 'sadness', 'fear', 'joy', 'sadness', 'fear', 'joy', 'anger', 'love', 'joy', 'anger', 'joy', 'sadness', 'sadness', 'fear', 'joy', 'sadness', 'sadness', 'sadness', 'sadness', 'love', 'sadness', 'love', 'anger', 'joy', 'joy', 'sadness', 'joy', 'love', 'anger', 'joy', 'sadness', 'joy', 'joy', 'joy', 'joy', 'joy', 'love', 'sadness', 'fear', 'fear', 'anger', 'sadness', 'sadness', 'sadness', 'sadness', 'fear', 'joy', 'joy', 'fear', 'fear', 'joy', 'fear', 'fear', 'anger', 'joy', 'joy', 'joy', 'joy', 'love', 'joy', 'sadness', 'fear', 'joy', 'fear', 'joy', 'joy', 'joy', 'sadness', 'joy', 'joy', 'joy', 'joy', 'joy', 'joy', 'sadness', 'sadness', 'sadness', 'joy', 'joy', 'joy', 'joy', 'surprise', 'joy', 'anger', 'sadness', 'sadness', 'joy', 'joy', 'sadness', 'sadness', 'joy', 'joy', 'joy', 'sadness', 'sadness', 'anger', 'joy', 'joy', 'sadness', 'joy', 'joy', 'joy', 'sadness', 'sadness', 'joy', 'sadness', 'joy', 'joy', 'joy', 'sadness', 'fear', 'joy', 'joy', 'sadness', 'joy', 'joy', 'sadness', 'joy', 'joy', 'joy', 'sadness', 'joy', 'sadness', 'joy', 'joy', 'sadness', 'joy', 'joy', 'fear', 'sadness', 'joy', 'joy', 'sadness', 'anger', 'surprise', 'anger', 'sadness', 'joy', 'anger', 'joy', 'sadness', 'sadness', 'joy', 'joy', 'sadness', 'joy', 'joy', 'love', 'joy', 'joy', 'sadness', 'sadness', 'joy', 'sadness', 'joy', 'love', 'joy', 'anger', 'joy', 'anger', 'joy', 'joy', 'sadness', 'sadness', 'joy', 'joy', 'love', 'sadness', 'anger', 'fear', 'sadness', 'sadness', 'fear', 'joy', 'anger', 'sadness', 'joy', 'joy', 'joy', 'anger', 'fear', 'joy', 'joy', 'sadness', 'sadness', 'sadness', 'sadness', 'joy', 'joy', 'sadness', 'sadness', 'anger', 'joy', 'fear', 'sadness', 'sadness', 'joy', 'sadness', 'sadness', 'fear', 'sadness', 'anger', 'joy', 'sadness', 'sadness', 'sadness', 'sadness', 'fear', 'joy', 'sadness', 'surprise', 'sadness', 'joy', 'joy', 'sadness', 'sadness', 'joy', 'fear', 'fear', 'sadness', 'joy', 'joy', 'anger', 'sadness', 'joy', 'joy', 'anger', 'joy', 'sadness', 'fear', 'joy', 'joy', 'fear', 'joy', 'sadness', 'sadness', 'fear', 'sadness', 'joy', 'sadness', 'joy', 'sadness', 'sadness', 'anger', 'joy', 'sadness', 'anger', 'joy', 'joy', 'sadness', 'joy', 'joy', 'joy', 'sadness', 'joy', 'joy', 'fear', 'anger', 'anger', 'anger', 'sadness', 'sadness', 'joy', 'joy', 'joy', 'sadness', 'sadness', 'sadness', 'joy', 'sadness', 'sadness', 'anger', 'joy', 'sadness', 'sadness', 'joy', 'joy', 'surprise', 'surprise', 'anger', 'joy', 'sadness', 'joy', 'joy', 'sadness', 'sadness', 'fear', 'sadness', 'joy', 'sadness', 'sadness', 'fear', 'joy', 'joy', 'joy', 'joy', 'sadness', 'sadness', 'fear', 'joy', 'joy', 'anger', 'sadness', 'joy', 'joy', 'anger', 'sadness', 'sadness', 'anger', 'joy', 'love', 'sadness', 'joy', 'sadness', 'surprise', 'sadness', 'joy', 'sadness', 'joy', 'sadness', 'joy', 'sadness', 'anger', 'joy', 'joy', 'fear', 'joy', 'anger', 'fear', 'joy', 'fear', 'joy', 'joy', 'joy', 'fear', 'joy', 'sadness', 'joy', 'fear', 'fear', 'sadness', 'sadness', 'fear', 'sadness', 'joy', 'sadness', 'joy', 'sadness', 'joy', 'anger', 'sadness', 'joy', 'sadness', 'joy', 'sadness', 'sadness', 'sadness', 'joy', 'joy', 'joy', 'sadness', 'anger', 'joy', 'joy', 'sadness', 'sadness', 'joy', 'joy', 'anger', 'anger', 'fear', 'sadness', 'sadness', 'fear', 'joy', 'sadness', 'joy', 'joy', 'joy', 'joy', 'anger', 'anger', 'joy', 'joy', 'love', 'fear', 'joy', 'joy', 'sadness', 'sadness', 'fear', 'anger', 'anger', 'joy', 'joy', 'surprise', 'fear', 'fear', 'joy', 'joy', 'sadness', 'joy', 'joy', 'sadness', 'fear', 'fear', 'sadness', 'anger', 'sadness', 'joy', 'joy', 'fear', 'sadness', 'joy', 'sadness', 'joy', 'sadness', 'fear', 'sadness', 'fear', 'sadness', 'sadness', 'joy', 'joy', 'joy', 'joy', 'joy', 'fear', 'joy', 'sadness', 'joy', 'surprise', 'fear', 'love', 'joy', 'joy', 'joy', 'sadness', 'joy', 'joy', 'joy', 'anger', 'anger', 'joy', 'sadness', 'sadness', 'fear', 'joy', 'anger', 'fear', 'sadness', 'joy', 'fear', 'sadness', 'joy', 'joy', 'joy', 'joy', 'anger', 'joy', 'anger', 'sadness', 'surprise', 'joy', 'joy', 'joy', 'joy', 'joy', 'sadness', 'anger', 'joy', 'love', 'joy', 'sadness', 'anger', 'anger', 'joy', 'fear', 'anger', 'sadness', 'joy', 'joy', 'joy', 'sadness', 'fear', 'anger', 'sadness', 'sadness', 'joy', 'sadness', 'joy', 'sadness', 'joy', 'joy', 'fear', 'joy', 'joy', 'sadness', 'sadness', 'joy', 'fear', 'sadness', 'surprise', 'sadness', 'sadness', 'sadness', 'sadness', 'joy', 'surprise', 'fear', 'sadness', 'joy', 'joy', 'joy', 'anger', 'joy', 'anger', 'joy', 'sadness', 'joy', 'sadness', 'sadness', 'anger', 'joy', 'joy', 'joy', 'anger', 'fear', 'surprise', 'joy', 'joy', 'sadness', 'fear', 'fear', 'joy', 'sadness', 'anger', 'joy', 'joy', 'joy', 'joy', 'joy', 'sadness', 'joy', 'sadness', 'joy', 'sadness', 'love', 'joy', 'sadness', 'joy', 'anger', 'joy', 'sadness', 'sadness', 'joy', 'sadness', 'joy', 'sadness', 'joy', 'joy', 'sadness', 'sadness', 'joy', 'joy', 'joy', 'sadness', 'fear', 'sadness', 'love', 'sadness', 'joy', 'joy', 'joy', 'joy', 'anger', 'fear', 'sadness', 'anger', 'joy', 'anger', 'sadness', 'fear', 'sadness', 'joy', 'joy', 'joy', 'anger', 'joy', 'sadness', 'sadness', 'sadness', 'joy', 'joy', 'anger', 'anger', 'sadness', 'fear', 'joy', 'joy', 'sadness', 'fear', 'joy', 'joy', 'fear', 'sadness', 'joy', 'sadness', 'fear', 'joy', 'fear', 'sadness', 'joy', 'joy', 'joy', 'joy', 'fear', 'joy', 'joy', 'sadness', 'fear', 'sadness', 'joy', 'sadness', 'fear', 'anger', 'sadness', 'joy', 'anger', 'sadness', 'sadness', 'joy', 'joy', 'sadness', 'love', 'joy', 'fear', 'sadness', 'fear', 'sadness', 'fear', 'sadness', 'anger', 'sadness', 'joy', 'joy', 'joy', 'anger', 'fear', 'sadness', 'sadness', 'joy', 'sadness', 'sadness', 'fear', 'joy', 'fear', 'fear', 'joy', 'anger', 'sadness', 'anger', 'love', 'joy', 'fear', 'sadness', 'joy', 'anger', 'joy', 'anger', 'sadness', 'sadness', 'joy', 'sadness', 'joy', 'joy', 'love', 'joy', 'joy', 'sadness', 'fear', 'anger', 'joy', 'sadness', 'love', 'surprise', 'anger', 'sadness', 'sadness', 'fear', 'sadness', 'sadness', 'sadness', 'sadness', 'joy', 'fear', 'sadness', 'sadness', 'sadness', 'joy', 'sadness', 'love', 'anger', 'love', 'joy', 'sadness', 'joy', 'sadness', 'anger', 'joy', 'sadness', 'sadness', 'joy', 'sadness', 'joy', 'fear', 'joy', 'joy', 'sadness', 'love', 'sadness', 'joy', 'joy', 'fear', 'joy', 'love', 'love', 'joy', 'joy', 'anger', 'joy', 'love', 'joy', 'anger', 'sadness', 'joy', 'sadness', 'sadness', 'joy', 'sadness', 'anger', 'joy', 'joy', 'joy', 'anger', 'sadness', 'sadness', 'joy', 'love', 'joy', 'joy', 'joy', 'joy', 'sadness', 'fear', 'anger', 'sadness', 'joy', 'sadness', 'joy', 'fear', 'joy', 'joy', 'sadness', 'sadness', 'fear', 'joy', 'sadness', 'sadness', 'sadness', 'joy', 'joy', 'anger', 'sadness', 'joy', 'joy', 'joy', 'joy', 'sadness', 'sadness', 'anger', 'sadness', 'joy', 'joy', 'joy', 'fear', 'joy', 'sadness', 'surprise', 'fear', 'sadness', 'anger', 'anger', 'joy', 'joy', 'sadness', 'joy', 'joy', 'anger', 'sadness', 'sadness', 'joy', 'fear', 'sadness', 'love', 'sadness', 'sadness', 'joy', 'sadness', 'joy', 'joy', 'joy', 'sadness', 'sadness', 'joy', 'sadness', 'joy', 'joy', 'surprise', 'joy', 'joy', 'sadness', 'fear', 'joy', 'fear', 'anger', 'joy', 'joy', 'joy', 'sadness', 'joy', 'sadness', 'joy', 'joy', 'joy', 'fear', 'sadness', 'love', 'joy', 'joy', 'sadness', 'fear', 'sadness', 'sadness', 'fear', 'joy', 'sadness', 'joy', 'anger', 'joy', 'sadness', 'joy', 'anger', 'sadness', 'surprise', 'joy', 'fear', 'joy', 'sadness', 'joy', 'joy', 'fear', 'joy', 'joy', 'sadness', 'joy', 'anger', 'anger', 'sadness', 'sadness', 'joy', 'anger', 'sadness', 'sadness', 'joy', 'joy', 'joy', 'anger', 'fear', 'sadness', 'sadness', 'joy', 'joy', 'joy', 'fear', 'sadness', 'joy', 'sadness', 'sadness', 'anger', 'joy', 'sadness', 'joy', 'fear', 'sadness', 'anger', 'joy', 'sadness', 'sadness', 'joy', 'anger', 'joy', 'love', 'sadness', 'joy', 'joy', 'joy', 'sadness', 'joy', 'sadness', 'joy', 'fear', 'joy', 'sadness', 'joy', 'joy', 'anger', 'sadness', 'sadness', 'fear', 'sadness', 'joy', 'sadness', 'sadness', 'joy', 'fear', 'joy', 'sadness', 'sadness', 'sadness', 'fear', 'joy', 'anger', 'anger', 'sadness', 'fear', 'sadness', 'fear', 'joy', 'joy', 'sadness', 'joy', 'joy', 'joy', 'joy', 'sadness', 'joy', 'joy', 'sadness', 'joy', 'joy', 'sadness', 'joy', 'joy', 'sadness', 'joy', 'surprise', 'joy', 'sadness', 'sadness', 'love', 'sadness', 'fear', 'joy', 'sadness', 'joy', 'sadness', 'joy', 'fear', 'joy', 'sadness', 'fear', 'joy', 'joy', 'joy', 'love', 'surprise', 'sadness', 'joy', 'joy', 'joy', 'joy', 'joy', 'sadness', 'joy', 'sadness', 'joy', 'fear', 'joy', 'anger', 'sadness', 'sadness', 'sadness', 'sadness', 'fear', 'joy', 'joy', 'fear', 'sadness', 'joy', 'anger', 'joy', 'joy', 'sadness', 'sadness', 'anger', 'fear', 'anger', 'sadness', 'fear', 'sadness', 'sadness', 'sadness', 'joy', 'joy', 'joy', 'joy', 'sadness', 'sadness', 'joy', 'joy', 'anger', 'joy', 'sadness', 'joy', 'sadness', 'sadness', 'joy', 'fear', 'sadness', 'surprise', 'love', 'fear', 'joy', 'sadness', 'sadness', 'fear', 'love', 'joy', 'joy', 'joy', 'anger', 'surprise', 'fear', 'joy', 'sadness', 'joy', 'sadness', 'joy', 'joy', 'joy', 'joy', 'sadness', 'joy', 'sadness', 'love', 'sadness', 'anger', 'sadness', 'joy', 'sadness', 'joy', 'joy', 'joy', 'joy', 'joy', 'sadness', 'sadness', 'sadness', 'sadness', 'joy', 'sadness', 'sadness', 'joy', 'joy', 'sadness', 'sadness', 'joy', 'joy', 'sadness', 'joy', 'joy', 'joy', 'sadness', 'joy', 'joy', 'joy', 'joy', 'joy', 'fear', 'joy', 'sadness', 'sadness', 'anger', 'anger', 'love', 'sadness', 'sadness', 'joy', 'sadness', 'anger', 'joy', 'sadness', 'joy', 'joy', 'joy', 'anger', 'joy', 'sadness', 'joy', 'joy', 'joy', 'fear', 'sadness', 'anger', 'joy', 'joy', 'joy', 'joy', 'sadness', 'sadness', 'love', 'joy', 'joy', 'fear', 'joy', 'anger', 'joy', 'surprise', 'sadness', 'sadness', 'sadness', 'sadness', 'joy', 'sadness', 'sadness', 'joy', 'sadness', 'sadness', 'joy', 'fear', 'sadness', 'sadness', 'sadness', 'joy', 'fear', 'anger', 'sadness', 'joy', 'sadness', 'joy', 'joy', 'joy', 'fear', 'love', 'joy', 'anger', 'sadness', 'love', 'sadness', 'joy', 'joy', 'joy', 'sadness', 'joy', 'fear', 'surprise', 'sadness', 'joy', 'joy', 'joy', 'fear', 'joy', 'fear', 'sadness', 'fear', 'joy', 'anger', 'sadness', 'fear', 'joy', 'sadness', 'joy', 'joy', 'fear', 'joy', 'joy', 'fear', 'joy', 'joy', 'sadness', 'joy', 'surprise', 'joy', 'sadness', 'joy', 'joy', 'sadness', 'joy', 'joy', 'joy', 'joy', 'joy', 'sadness', 'sadness', 'sadness', 'joy', 'sadness', 'sadness', 'joy', 'fear', 'sadness', 'sadness', 'sadness', 'joy', 'joy', 'anger', 'joy', 'anger', 'love', 'joy', 'joy', 'joy', 'joy', 'love', 'joy', 'joy', 'joy', 'joy', 'sadness', 'joy', 'sadness', 'joy', 'joy', 'joy', 'sadness', 'joy', 'joy', 'joy', 'sadness', 'sadness', 'sadness', 'sadness', 'joy', 'sadness', 'anger', 'joy', 'anger', 'anger', 'joy', 'fear', 'joy', 'joy', 'anger', 'sadness', 'joy', 'fear', 'sadness', 'joy', 'sadness', 'love', 'sadness', 'sadness', 'joy', 'joy', 'sadness', 'sadness', 'sadness', 'joy', 'sadness', 'joy', 'sadness', 'sadness', 'anger', 'joy', 'sadness', 'surprise', 'sadness', 'joy', 'joy', 'anger', 'anger', 'joy', 'joy', 'anger', 'joy', 'surprise', 'sadness', 'joy', 'sadness', 'sadness', 'anger', 'sadness', 'sadness', 'joy', 'joy', 'surprise', 'joy', 'fear', 'joy', 'surprise', 'joy', 'love', 'joy', 'joy', 'joy', 'joy', 'joy', 'joy', 'sadness', 'joy', 'joy', 'fear', 'joy', 'sadness', 'joy', 'joy', 'anger', 'joy', 'surprise', 'joy', 'joy', 'sadness', 'joy', 'joy', 'joy', 'joy', 'joy', 'sadness', 'joy', 'sadness', 'love', 'joy', 'joy', 'sadness', 'joy', 'love', 'fear', 'joy', 'joy', 'sadness', 'fear', 'sadness', 'sadness', 'sadness', 'sadness', 'anger', 'sadness', 'joy', 'joy', 'love', 'joy', 'sadness', 'joy', 'joy', 'surprise', 'joy', 'sadness', 'sadness', 'sadness', 'joy', 'surprise', 'joy', 'love', 'joy', 'joy', 'love', 'joy', 'anger', 'sadness', 'sadness', 'joy', 'sadness', 'joy', 'sadness', 'joy', 'fear', 'joy', 'sadness', 'joy', 'joy', 'sadness', 'anger', 'anger', 'joy', 'fear', 'sadness', 'sadness', 'sadness', 'sadness', 'anger', 'joy', 'joy', 'fear', 'joy', 'joy', 'joy', 'sadness', 'joy', 'joy', 'joy', 'anger', 'joy', 'anger', 'sadness', 'fear', 'joy', 'joy', 'surprise', 'sadness', 'joy', 'sadness', 'sadness', 'sadness', 'anger', 'sadness', 'sadness', 'joy', 'fear', 'fear', 'joy', 'anger', 'joy', 'joy', 'sadness', 'sadness', 'love', 'fear', 'sadness', 'love', 'joy', 'joy', 'sadness', 'sadness', 'joy', 'joy', 'joy', 'anger', 'joy', 'sadness', 'sadness', 'sadness', 'fear', 'fear', 'joy', 'sadness', 'fear', 'fear', 'anger', 'sadness', 'surprise', 'joy', 'sadness', 'sadness', 'joy', 'joy', 'sadness', 'joy', 'fear', 'anger', 'joy', 'fear', 'fear', 'fear', 'joy', 'joy', 'sadness', 'joy', 'sadness', 'anger', 'joy', 'love', 'joy', 'anger', 'joy', 'anger', 'joy', 'anger', 'joy', 'joy', 'sadness', 'anger', 'joy', 'sadness', 'love', 'joy', 'love', 'sadness', 'anger', 'sadness', 'anger', 'joy', 'sadness', 'joy', 'joy', 'sadness', 'joy', 'sadness', 'sadness', 'joy', 'joy', 'fear', 'joy', 'fear', 'sadness', 'sadness', 'joy', 'sadness', 'joy', 'sadness', 'sadness', 'joy', 'sadness', 'fear', 'joy', 'joy', 'sadness', 'joy', 'joy', 'love', 'joy', 'joy', 'joy', 'fear', 'anger', 'sadness', 'joy', 'joy', 'joy', 'joy', 'joy', 'sadness', 'joy', 'anger', 'joy', 'joy', 'joy', 'sadness', 'sadness', 'fear', 'joy', 'sadness', 'fear', 'joy', 'sadness', 'joy', 'joy', 'anger', 'anger', 'joy', 'fear', 'sadness', 'surprise', 'anger', 'fear', 'joy', 'joy', 'joy', 'joy', 'joy', 'sadness', 'sadness', 'sadness', 'anger', 'sadness', 'sadness', 'anger', 'sadness', 'sadness', 'fear', 'joy', 'sadness', 'fear', 'fear', 'joy', 'sadness', 'sadness', 'joy', 'love', 'anger', 'joy', 'joy', 'sadness', 'joy', 'joy', 'joy', 'sadness', 'joy', 'joy', 'joy', 'sadness', 'anger', 'sadness', 'joy', 'love', 'joy', 'sadness', 'joy', 'joy', 'joy', 'sadness', 'sadness', 'joy', 'joy', 'sadness', 'joy', 'fear', 'surprise', 'sadness', 'joy', 'joy', 'fear', 'joy', 'joy', 'joy', 'joy', 'love', 'joy', 'joy', 'fear', 'joy', 'love', 'joy', 'joy', 'fear', 'sadness', 'joy', 'sadness', 'joy', 'anger', 'joy', 'joy', 'love', 'joy', 'joy', 'joy', 'joy', 'sadness', 'anger', 'joy', 'fear', 'joy', 'joy', 'joy', 'sadness', 'love', 'joy', 'joy', 'sadness', 'joy', 'joy', 'fear', 'anger', 'sadness', 'sadness', 'sadness', 'sadness', 'sadness', 'sadness', 'anger', 'fear', 'sadness', 'joy', 'sadness', 'love', 'joy', 'sadness', 'sadness', 'joy', 'sadness', 'sadness', 'sadness', 'joy', 'joy', 'joy', 'joy', 'joy', 'sadness', 'joy', 'sadness', 'fear', 'sadness', 'joy', 'sadness', 'joy', 'joy', 'fear', 'fear', 'sadness', 'joy', 'sadness', 'joy', 'fear', 'sadness', 'joy', 'joy', 'joy', 'sadness', 'sadness', 'sadness', 'sadness', 'love', 'fear', 'sadness', 'anger', 'sadness', 'joy', 'joy', 'sadness', 'sadness', 'anger', 'anger', 'sadness', 'joy', 'joy', 'joy', 'joy', 'sadness', 'joy', 'joy', 'fear', 'joy', 'joy', 'sadness', 'joy', 'sadness', 'love', 'joy', 'sadness', 'joy', 'joy', 'sadness', 'joy', 'sadness', 'joy', 'joy', 'anger', 'joy', 'joy', 'sadness', 'sadness', 'joy', 'joy', 'joy', 'joy', 'joy', 'joy', 'joy', 'joy', 'sadness', 'sadness', 'joy', 'joy', 'joy', 'joy', 'sadness', 'joy', 'fear', 'joy', 'joy', 'anger', 'joy', 'love', 'anger', 'love', 'sadness', 'joy', 'joy', 'sadness', 'sadness', 'joy', 'joy', 'joy', 'anger', 'joy', 'joy', 'sadness', 'joy', 'joy', 'joy', 'sadness', 'joy', 'joy', 'sadness', 'sadness', 'sadness', 'sadness', 'anger', 'sadness', 'joy', 'love', 'sadness', 'sadness', 'sadness', 'sadness', 'joy', 'sadness', 'fear', 'joy', 'joy', 'sadness', 'joy', 'sadness', 'sadness', 'sadness', 'sadness', 'joy', 'sadness', 'fear', 'anger', 'sadness', 'joy', 'sadness', 'anger', 'fear', 'surprise', 'sadness', 'fear', 'joy', 'joy', 'sadness', 'joy', 'sadness', 'fear', 'fear', 'sadness', 'fear', 'sadness', 'sadness', 'sadness', 'joy', 'joy', 'joy', 'sadness', 'anger', 'joy', 'sadness', 'joy', 'sadness', 'fear', 'joy', 'joy', 'joy', 'joy', 'sadness', 'anger', 'fear', 'joy', 'joy', 'joy', 'joy', 'sadness', 'joy', 'joy', 'sadness', 'sadness', 'joy', 'joy', 'joy', 'sadness', 'anger', 'love', 'joy', 'joy', 'sadness', 'anger', 'sadness', 'sadness', 'joy', 'joy', 'joy', 'joy', 'sadness', 'joy', 'sadness', 'sadness', 'sadness', 'sadness', 'joy', 'sadness', 'fear', 'joy', 'sadness', 'anger', 'sadness', 'sadness', 'joy', 'sadness', 'sadness', 'sadness', 'sadness', 'joy', 'joy', 'sadness', 'sadness', 'joy', 'sadness', 'joy', 'joy', 'sadness', 'joy', 'joy', 'sadness', 'sadness', 'sadness', 'fear', 'joy', 'fear', 'joy', 'joy', 'sadness', 'love', 'sadness', 'joy', 'joy', 'sadness', 'joy', 'joy', 'joy', 'joy', 'sadness', 'joy', 'sadness', 'joy', 'anger', 'joy', 'anger', 'anger', 'joy', 'fear', 'sadness', 'anger', 'surprise', 'joy', 'joy', 'joy', 'joy', 'sadness', 'sadness', 'joy', 'sadness', 'joy', 'fear', 'sadness', 'joy', 'sadness', 'joy', 'joy', 'sadness', 'joy', 'joy', 'anger', 'sadness', 'sadness', 'joy', 'love', 'joy', 'joy', 'sadness', 'joy', 'sadness', 'joy', 'joy', 'anger', 'joy', 'sadness', 'fear', 'sadness', 'sadness', 'joy', 'joy', 'sadness', 'sadness', 'sadness', 'joy', 'sadness', 'surprise', 'sadness', 'love', 'sadness', 'joy', 'joy', 'sadness', 'joy', 'joy', 'joy', 'anger', 'joy', 'joy', 'joy', 'sadness', 'joy', 'sadness', 'joy', 'sadness', 'sadness', 'joy', 'fear', 'anger', 'anger', 'surprise', 'joy', 'fear', 'sadness', 'anger', 'sadness', 'joy', 'joy', 'joy', 'anger', 'joy', 'surprise', 'joy', 'joy', 'joy', 'sadness', 'sadness', 'joy', 'sadness', 'love', 'love', 'joy', 'joy', 'joy', 'joy', 'joy', 'fear', 'sadness', 'sadness', 'joy', 'love', 'joy', 'fear', 'sadness', 'sadness', 'sadness', 'sadness', 'joy', 'anger', 'joy', 'love', 'joy', 'sadness', 'joy', 'joy', 'joy', 'anger', 'sadness', 'joy', 'joy', 'joy', 'joy', 'joy', 'sadness', 'anger', 'sadness', 'fear', 'sadness', 'sadness', 'surprise', 'joy', 'joy', 'joy', 'joy', 'joy', 'sadness', 'anger', 'fear', 'joy', 'joy', 'sadness', 'joy', 'sadness', 'fear', 'joy', 'joy', 'sadness', 'fear', 'joy', 'joy', 'fear', 'anger', 'joy', 'joy', 'surprise', 'joy', 'joy', 'sadness', 'joy', 'sadness', 'anger', 'joy', 'sadness', 'joy', 'sadness', 'sadness', 'sadness', 'anger', 'sadness', 'joy', 'joy', 'sadness', 'joy', 'sadness', 'sadness', 'sadness', 'joy', 'joy', 'fear', 'sadness', 'sadness', 'joy', 'sadness', 'sadness', 'sadness', 'sadness', 'joy', 'love', 'joy', 'sadness', 'sadness', 'sadness', 'anger', 'joy', 'sadness', 'sadness', 'sadness', 'sadness', 'joy', 'joy', 'joy', 'joy', 'joy', 'sadness', 'sadness', 'sadness', 'joy', 'anger', 'joy', 'joy', 'joy', 'joy', 'sadness', 'sadness', 'joy', 'joy', 'love', 'sadness', 'fear', 'joy', 'joy', 'joy', 'anger', 'sadness', 'fear', 'anger', 'joy', 'joy', 'joy', 'joy', 'joy', 'joy', 'joy', 'joy', 'sadness', 'joy', 'sadness', 'sadness', 'anger', 'joy', 'sadness', 'sadness', 'love', 'sadness', 'sadness', 'anger', 'joy', 'anger', 'sadness', 'sadness', 'sadness', 'joy', 'sadness', 'sadness', 'sadness', 'joy', 'joy', 'anger', 'joy', 'sadness', 'anger', 'joy', 'joy', 'sadness', 'anger', 'joy', 'love', 'joy', 'joy', 'sadness', 'joy', 'sadness', 'sadness', 'fear', 'joy', 'sadness', 'sadness', 'sadness', 'sadness', 'anger', 'love', 'love', 'anger', 'sadness', 'joy', 'sadness', 'sadness', 'sadness', 'joy', 'sadness', 'sadness', 'joy', 'sadness', 'anger', 'sadness', 'love', 'sadness', 'joy', 'love', 'joy', 'joy', 'joy', 'love', 'joy', 'joy', 'sadness', 'joy', 'joy', 'joy', 'sadness', 'joy', 'joy', 'joy', 'sadness', 'sadness', 'joy', 'joy', 'fear', 'anger', 'joy', 'anger', 'joy', 'sadness', 'sadness', 'joy', 'sadness', 'joy', 'joy', 'love', 'sadness', 'joy', 'sadness', 'joy', 'anger', 'sadness', 'joy', 'sadness', 'anger', 'joy', 'joy', 'sadness', 'joy', 'joy', 'joy', 'joy', 'anger', 'sadness', 'joy', 'sadness', 'joy', 'joy', 'fear', 'fear', 'joy', 'sadness', 'joy', 'joy', 'joy', 'joy', 'joy', 'anger', 'joy', 'sadness', 'joy', 'sadness', 'joy', 'love', 'joy', 'joy', 'sadness', 'joy', 'anger', 'anger', 'fear', 'sadness', 'surprise', 'sadness', 'sadness', 'joy', 'joy', 'joy', 'sadness', 'joy', 'joy', 'joy', 'sadness', 'joy', 'joy', 'joy', 'sadness', 'sadness', 'sadness', 'anger', 'sadness', 'sadness', 'joy', 'anger', 'joy', 'sadness', 'love', 'sadness', 'joy', 'joy', 'sadness', 'sadness', 'joy', 'joy', 'sadness', 'joy', 'joy', 'anger', 'joy', 'sadness', 'sadness', 'love', 'sadness', 'sadness', 'sadness', 'joy', 'sadness', 'sadness', 'joy', 'joy', 'anger', 'joy', 'joy', 'joy', 'sadness', 'sadness', 'joy', 'sadness', 'fear', 'joy', 'joy', 'love', 'sadness', 'anger', 'love', 'joy', 'sadness', 'joy', 'joy', 'joy', 'sadness', 'sadness', 'sadness', 'sadness', 'love', 'love', 'sadness', 'fear', 'fear', 'fear', 'joy', 'anger', 'joy', 'joy', 'sadness', 'joy', 'sadness', 'sadness', 'sadness', 'surprise', 'joy', 'joy', 'anger', 'joy', 'joy', 'sadness', 'joy', 'joy', 'fear', 'fear', 'joy', 'joy', 'sadness', 'joy', 'sadness', 'joy', 'joy', 'sadness', 'sadness', 'anger', 'anger', 'joy', 'joy', 'anger', 'joy', 'sadness', 'joy', 'sadness', 'sadness', 'sadness', 'sadness', 'joy', 'joy', 'fear', 'joy', 'sadness', 'fear', 'sadness', 'joy', 'anger', 'joy', 'joy', 'sadness', 'anger', 'joy', 'joy', 'joy', 'joy', 'sadness', 'joy', 'sadness', 'joy', 'joy', 'sadness', 'joy', 'joy', 'joy', 'sadness', 'joy', 'sadness', 'sadness', 'sadness', 'joy', 'sadness', 'love', 'fear', 'joy', 'joy', 'sadness', 'joy', 'joy', 'sadness', 'joy', 'joy', 'joy', 'joy', 'joy', 'joy', 'sadness', 'anger', 'love', 'sadness', 'sadness', 'joy', 'joy', 'fear', 'joy', 'joy', 'sadness', 'sadness', 'sadness', 'joy', 'sadness', 'joy', 'joy', 'joy', 'sadness', 'sadness', 'joy', 'joy', 'joy', 'fear', 'joy', 'sadness', 'joy', 'joy', 'joy', 'joy', 'sadness', 'anger', 'fear', 'joy', 'sadness', 'sadness', 'sadness', 'joy', 'sadness', 'sadness', 'sadness', 'fear', 'fear', 'surprise', 'joy', 'love', 'joy', 'sadness', 'sadness', 'joy', 'sadness', 'joy', 'sadness', 'joy', 'sadness', 'joy', 'sadness', 'sadness', 'sadness', 'joy', 'joy', 'joy', 'joy', 'joy', 'joy', 'sadness', 'sadness', 'anger', 'love', 'sadness', 'fear', 'sadness', 'joy', 'joy', 'sadness', 'joy', 'joy', 'sadness', 'sadness', 'sadness', 'fear', 'joy', 'joy', 'joy', 'sadness', 'joy', 'sadness', 'love', 'joy', 'sadness', 'sadness', 'joy', 'sadness', 'joy', 'sadness', 'joy', 'joy', 'sadness', 'joy', 'joy', 'sadness', 'joy', 'joy', 'love', 'joy', 'sadness', 'joy', 'joy', 'joy', 'sadness', 'joy', 'anger', 'sadness', 'joy', 'joy', 'love', 'sadness', 'joy', 'surprise', 'sadness', 'joy', 'joy', 'joy', 'joy', 'joy', 'joy', 'sadness', 'fear', 'anger', 'fear', 'sadness', 'anger', 'joy', 'joy', 'joy', 'fear', 'sadness', 'love', 'joy', 'sadness', 'joy', 'anger', 'sadness', 'joy', 'fear', 'anger', 'anger', 'love', 'joy', 'joy', 'sadness', 'joy', 'anger', 'sadness', 'joy', 'joy', 'joy', 'sadness', 'sadness', 'joy', 'sadness', 'joy', 'fear', 'fear', 'joy', 'sadness', 'sadness', 'sadness', 'sadness', 'sadness', 'joy', 'joy', 'joy', 'joy', 'sadness', 'sadness', 'joy', 'joy', 'love', 'fear', 'joy', 'fear']\n",
      "\n",
      "Classification Report - Training Data:\n",
      "              precision    recall  f1-score   support\n",
      "\n",
      "           0       0.99      1.00      1.00      3232\n",
      "           1       0.99      1.00      0.99      3781\n",
      "           2       1.00      0.96      0.98       870\n",
      "           3       1.00      0.99      0.99      1552\n",
      "           4       0.99      0.99      0.99      1371\n",
      "           5       1.00      0.94      0.97       394\n",
      "\n",
      "    accuracy                           0.99     11200\n",
      "   macro avg       0.99      0.98      0.99     11200\n",
      "weighted avg       0.99      0.99      0.99     11200\n",
      "\n",
      "Confusion Matrix - Training Data:\n",
      "[[3226    2    0    1    3    0]\n",
      " [   1 3775    0    1    4    0]\n",
      " [   0   39  831    0    0    0]\n",
      " [  11    1    0 1539    1    0]\n",
      " [   2    1    0    3 1364    1]\n",
      " [   3   10    0    0   10  371]]\n",
      "\n",
      "Classification Report - Testing Data:\n",
      "              precision    recall  f1-score   support\n",
      "\n",
      "           0       0.86      0.92      0.89      1434\n",
      "           1       0.74      0.97      0.84      1581\n",
      "           2       0.93      0.45      0.60       434\n",
      "           3       0.90      0.70      0.79       607\n",
      "           4       0.86      0.66      0.74       566\n",
      "           5       0.91      0.39      0.55       178\n",
      "\n",
      "    accuracy                           0.82      4800\n",
      "   macro avg       0.87      0.68      0.74      4800\n",
      "weighted avg       0.83      0.82      0.80      4800\n",
      "\n",
      "Confusion Matrix - Testing Data:\n",
      "[[1320   82    2   15   13    2]\n",
      " [  26 1538    9    3    4    1]\n",
      " [  27  209  194    3    1    0]\n",
      " [  79   89    2  424   13    0]\n",
      " [  61  106    1   23  371    4]\n",
      " [  27   49    1    1   30   70]]\n"
     ]
    },
    {
     "data": {
      "image/png": "[encoded data removed]",
      "text/plain": [
       "<Figure size 864x432 with 4 Axes>"
      ]
     },
     "metadata": {
      "needs_background": "light"
     },
     "output_type": "display_data"
    }
   ],
   "source": [
    "X = df['text']\n",
    "y = df['label']\n",
    "\n",
    "# Split the dataset into train (70%) and test (30%) sets\n",
    "X_train, X_test, y_train, y_test = train_test_split(X, y, test_size=0.3, random_state=42)\n",
    "\n",
    "# Create TF-IDF vectors\n",
    "tfidf_vectorizer = TfidfVectorizer()\n",
    "X_train_tfidf = tfidf_vectorizer.fit_transform(X_train)\n",
    "X_test_tfidf = tfidf_vectorizer.transform(X_test)\n",
    "\n",
    "# Build the SVM model\n",
    "svm_model = SVC()\n",
    "svm_model.fit(X_train_tfidf, y_train)\n",
    "\n",
    "# Predict the labels for the training set\n",
    "y_pred_train = svm_model.predict(X_train_tfidf)\n",
    "\n",
    "# Predict the labels for the testing set\n",
    "y_pred_test = svm_model.predict(X_test_tfidf)\n",
    "\n",
    "# Calculating the training accuracy\n",
    "training_accuracy = accuracy_score(y_train, y_pred_train)\n",
    "print(\"Training Accuracy:\", training_accuracy)\n",
    "\n",
    "# Calculating the testing accuracy\n",
    "testing_accuracy = accuracy_score(y_test, y_pred_test)\n",
    "print(\"Testing Accuracy:\", testing_accuracy)\n",
    "\n",
    "# Generate the mapping of labels to emotions\n",
    "emotion_mapping = {0: 'sadness', 1: 'joy', 2: 'love', 3: 'anger', 4: 'fear', 5: 'surprise'}\n",
    "\n",
    "# Convert the predicted labels to emotions\n",
    "predicted_emotions = [emotion_mapping[label] for label in y_pred_test]\n",
    "\n",
    "# Print the predicted emotions\n",
    "print(\"Predicted Emotions:\", predicted_emotions)\n",
    "\n",
    "# Generating classification report and confusion matrix for training data\n",
    "print(\"\\nClassification Report - Training Data:\")\n",
    "print(classification_report(y_train, y_pred_train))\n",
    "print(\"Confusion Matrix - Training Data:\")\n",
    "print(confusion_matrix(y_train, y_pred_train))\n",
    "\n",
    "# Generating classification report and confusion matrix for testing data\n",
    "print(\"\\nClassification Report - Testing Data:\")\n",
    "print(classification_report(y_test, y_pred_test))\n",
    "print(\"Confusion Matrix - Testing Data:\")\n",
    "print(confusion_matrix(y_test, y_pred_test))\n",
    "\n",
    "\n",
    "\n",
    "#Generating Confusion Matrix for both traning and testing dataset using \"HeatMap\" function.\n",
    "\n",
    "# Generate the confusion matrices\n",
    "cm_train = confusion_matrix(y_train, y_pred_train)\n",
    "cm_test = confusion_matrix(y_test, y_pred_test)\n",
    "\n",
    "# Plotting the confusion matrices using heatmaps\n",
    "plt.figure(figsize=(12, 6))\n",
    "\n",
    "plt.subplot(1, 2, 1)\n",
    "sns.heatmap(cm_train, annot=True, fmt='d', cmap='Blues')\n",
    "plt.title('Confusion Matrix - Training Data')\n",
    "plt.xlabel('Predicted Labels')\n",
    "plt.ylabel('Actual Labels')\n",
    "\n",
    "plt.subplot(1, 2, 2)\n",
    "sns.heatmap(cm_test, annot=True, fmt='d', cmap='Blues')\n",
    "plt.title('Confusion Matrix - Testing Data')\n",
    "plt.xlabel('Predicted Labels')\n",
    "plt.ylabel('Actual Labels')\n",
    "\n",
    "plt.tight_layout()\n",
    "plt.show()\n",
    "\n",
    "#Explantion\n",
    "\n",
    "#1.Here we firstly  extracts the 'text' column from the DataFrame df and assigns it to X as the feature set.\n",
    "#It extracts the 'label' column and assigns it to y as the target variable.\n",
    "\n",
    "#2.Then the The dataset is splited into training and testing sets. 70% of the data is used for training and 30% for testing. The random_state parameter ensures reproducibility.\n",
    "\n",
    "#3.Then a TfidfVectorizer instance named tfidf_vectorizer is created to convert text data into TF-IDF feature vectors.\n",
    "#fit_transform is applied to X_train to learn the vocabulary from the training data and transform the training data into TF-IDF vectors.\n",
    "#transform is applied to X_test to transform the testing data into TF-IDF vectors using the vocabulary learned from the training data.\n",
    "\n",
    "#4.Then we created an SVM model instance svm_model is created using the SVC class.\n",
    "#The model is trained on the TF-IDF transformed training data (X_train_tfidf and y_train).\n",
    "\n",
    "#5.Nextly the trained SVM model is used to predict the labels for the training and testing set.\n",
    "\n",
    "#6.Then the  training and testing  accuracy is calculated using accuracy_score by comparing the true labels (y_train) and the predicted labels (y_pred_train).\n",
    "#And the training and testing  accuracy is printed.\n",
    "\n",
    "#7.Then we map numerical labels to their corresponding emotion names for easier interpretation of results.\n",
    "\n",
    "#8.After which the predicted labels for the testing set (y_pred_test) are converted to their corresponding emotion names using the emotion_mapping dictionary.\n",
    "#The result is a list of predicted emotions named predicted_emotions.\n",
    "\n",
    "#9.The list of predicted emotions is printed.\n",
    "\n",
    "#10.Then a classification report for the training and testing  data is generated and printed. This report includes precision, recall, F1-score, and support for each class.\n",
    "#Along with confusion matrix for the training and testing data is generated and printed. This matrix shows the counts of true vs. predicted labels.\n",
    "\n",
    "#11.The confusion matrices for the training and testing data are generated and stored in cm_train and cm_test, respectively.\n",
    "\n",
    "#12.A new figure is created with a specified size of 12x6 inches.\n",
    "\n",
    "#13.The subplot for the training and testing  data confusion matrix is created.\n",
    "#The confusion matrix cm_train and cm_test is plotted as a heatmap using seaborn, with annotations showing the counts, formatted as integers (fmt='d'), and using the 'Blues' color map.\n",
    "#Titles and labels for the x-axis and y-axis are added.\n",
    "\n",
    "#14.Finally tight_layout is used to adjust the subplots to fit into the figure area.The plot is displayed.\n",
    "\n",
    "\n"
   ]
  },
  {
   "cell_type": "markdown",
   "id": "8cb8095a",
   "metadata": {},
   "source": [
    "# Performing HyperParameter Tuning on Support Vector Machine (SVM) Model Using GridSearchCV"
   ]
  },
  {
   "cell_type": "code",
   "execution_count": 4,
   "id": "8e0f8da2",
   "metadata": {
    "collapsed": true
   },
   "outputs": [
    {
     "name": "stdout",
     "output_type": "stream",
     "text": [
      "Best Parameters: {'C': 10, 'gamma': 0.1}\n",
      "\n",
      "Classification Report - Training Data (Best Model):\n",
      "              precision    recall  f1-score   support\n",
      "\n",
      "           0       0.99      0.99      0.99      3232\n",
      "           1       0.99      0.99      0.99      3781\n",
      "           2       0.98      0.96      0.97       870\n",
      "           3       0.99      0.99      0.99      1552\n",
      "           4       0.99      0.99      0.99      1371\n",
      "           5       0.98      0.97      0.97       394\n",
      "\n",
      "    accuracy                           0.99     11200\n",
      "   macro avg       0.99      0.98      0.98     11200\n",
      "weighted avg       0.99      0.99      0.99     11200\n",
      "\n",
      "Confusion Matrix - Training Data (Best Model):\n",
      "[[3210    3    1   12    5    1]\n",
      " [  12 3744   15    3    5    2]\n",
      " [   0   32  838    0    0    0]\n",
      " [  16    2    0 1531    3    0]\n",
      " [   5    1    0    6 1354    5]\n",
      " [   2    3    0    0    7  382]]\n",
      "\n",
      "Classification Report - Testing Data (Best Model):\n",
      "              precision    recall  f1-score   support\n",
      "\n",
      "           0       0.90      0.92      0.91      1434\n",
      "           1       0.86      0.94      0.90      1581\n",
      "           2       0.83      0.71      0.77       434\n",
      "           3       0.88      0.84      0.86       607\n",
      "           4       0.85      0.81      0.83       566\n",
      "           5       0.79      0.65      0.71       178\n",
      "\n",
      "    accuracy                           0.87      4800\n",
      "   macro avg       0.85      0.81      0.83      4800\n",
      "weighted avg       0.87      0.87      0.87      4800\n",
      "\n",
      "Confusion Matrix - Testing Data (Best Model):\n",
      "[[1315   48    9   35   19    8]\n",
      " [  36 1480   43    7   10    5]\n",
      " [   7  110  309    3    5    0]\n",
      " [  46   26    5  511   16    3]\n",
      " [  39   29    4   23  456   15]\n",
      " [  11   18    1    1   32  115]]\n"
     ]
    },
    {
     "data": {
      "image/png": "[encoded data removed]",
      "text/plain": [
       "<Figure size 864x432 with 4 Axes>"
      ]
     },
     "metadata": {
      "needs_background": "light"
     },
     "output_type": "display_data"
    }
   ],
   "source": [
    "X = df['text']\n",
    "y = df['label']\n",
    "\n",
    "# Split the dataset into train (70%) and test (30%) sets\n",
    "X_train, X_test, y_train, y_test = train_test_split(X, y, test_size=0.3, random_state=42)\n",
    "\n",
    "# Create TF-IDF vectors\n",
    "tfidf_vectorizer = TfidfVectorizer()\n",
    "X_train_tfidf = tfidf_vectorizer.fit_transform(X_train)\n",
    "X_test_tfidf = tfidf_vectorizer.transform(X_test)\n",
    "\n",
    "# Build the SVM model\n",
    "svm_model = SVC()\n",
    "svm_model.fit(X_train_tfidf, y_train)\n",
    "\n",
    "# Predict the labels for the training set\n",
    "y_pred_train = svm_model.predict(X_train_tfidf)\n",
    "\n",
    "# Predict the labels for the testing set\n",
    "y_pred_test = svm_model.predict(X_test_tfidf)\n",
    "\n",
    "\n",
    "\n",
    "\n",
    "\n",
    "# Define the parameter grid\n",
    "param_grid = {\n",
    "    'C': [0.1, 1, 10],\n",
    "    'gamma': [0.1, 1, 10],\n",
    "}\n",
    "\n",
    "# Create the GridSearchCV object\n",
    "grid_search = GridSearchCV(SVC(), param_grid, cv=3)\n",
    "\n",
    "# Perform the grid search\n",
    "grid_search.fit(X_train_tfidf, y_train)\n",
    "\n",
    "# Get the best parameters\n",
    "best_params = grid_search.best_params_\n",
    "print(\"Best Parameters:\", best_params)\n",
    "\n",
    "# Build the SVM model with the best parameters\n",
    "best_svm_model = SVC(C=best_params['C'], gamma=best_params['gamma'])\n",
    "best_svm_model.fit(X_train_tfidf, y_train)\n",
    "\n",
    "# Predict the labels for the training set\n",
    "y_pred_train_best = best_svm_model.predict(X_train_tfidf)\n",
    "\n",
    "# Predict the labels for the testing set\n",
    "y_pred_test_best = best_svm_model.predict(X_test_tfidf)\n",
    "\n",
    "# Generating classification report and confusion matrix for training data with best model\n",
    "print(\"\\nClassification Report - Training Data (Best Model):\")\n",
    "print(classification_report(y_train, y_pred_train_best))\n",
    "print(\"Confusion Matrix - Training Data (Best Model):\")\n",
    "print(confusion_matrix(y_train, y_pred_train_best))\n",
    "\n",
    "# Generating classification report and confusion matrix for testing data with best model\n",
    "print(\"\\nClassification Report - Testing Data (Best Model):\")\n",
    "print(classification_report(y_test, y_pred_test_best))\n",
    "print(\"Confusion Matrix - Testing Data (Best Model):\")\n",
    "print(confusion_matrix(y_test, y_pred_test_best))\n",
    "\n",
    "\n",
    "# Generate the confusion matrices\n",
    "cm_train = confusion_matrix(y_train, y_pred_train)\n",
    "cm_test = confusion_matrix(y_test, y_pred_test)\n",
    "\n",
    "# Plotting the confusion matrices using heatmaps\n",
    "plt.figure(figsize=(12, 6))\n",
    "\n",
    "plt.subplot(1, 2, 1)\n",
    "sns.heatmap(cm_train, annot=True, fmt='d', cmap='Blues')\n",
    "plt.title('Confusion Matrix - Training Data')\n",
    "plt.xlabel('Predicted Labels')\n",
    "plt.ylabel('Actual Labels')\n",
    "\n",
    "plt.subplot(1, 2, 2)\n",
    "sns.heatmap(cm_test, annot=True, fmt='d', cmap='Blues')\n",
    "plt.title('Confusion Matrix - Testing Data')\n",
    "plt.xlabel('Predicted Labels')\n",
    "plt.ylabel('Actual Labels')\n",
    "\n",
    "plt.tight_layout()\n",
    "plt.show()\n",
    "\n",
    "\n"
   ]
  },
  {
   "cell_type": "markdown",
   "id": "a1114ee8",
   "metadata": {},
   "source": [
    "# 3.Random Forest Model"
   ]
  },
  {
   "cell_type": "code",
   "execution_count": 6,
   "id": "2588e6fe",
   "metadata": {
    "collapsed": true
   },
   "outputs": [
    {
     "name": "stdout",
     "output_type": "stream",
     "text": [
      "Training Accuracy: 0.9983928571428572\n",
      "Testing Accuracy: 0.8496875\n",
      "\n",
      "Classification Report - Training Data:\n",
      "              precision    recall  f1-score   support\n",
      "\n",
      "     sadness       1.00      1.00      1.00      3232\n",
      "         joy       1.00      1.00      1.00      3781\n",
      "        love       0.99      0.99      0.99       870\n",
      "       anger       1.00      1.00      1.00      1552\n",
      "        fear       1.00      1.00      1.00      1371\n",
      "    surprise       0.99      0.99      0.99       394\n",
      "\n",
      "    accuracy                           1.00     11200\n",
      "   macro avg       1.00      1.00      1.00     11200\n",
      "weighted avg       1.00      1.00      1.00     11200\n",
      "\n",
      "Confusion Matrix - Training Data:\n",
      "[[3231    0    0    1    0    0]\n",
      " [   0 3776    5    0    0    0]\n",
      " [   0    5  865    0    0    0]\n",
      " [   2    0    0 1550    0    0]\n",
      " [   0    0    0    0 1368    3]\n",
      " [   0    0    0    0    2  392]]\n",
      "\n",
      "Classification Report - Testing Data:\n",
      "              precision    recall  f1-score   support\n",
      "\n",
      "     sadness       0.91      0.88      0.90       943\n",
      "         joy       0.78      0.95      0.86      1068\n",
      "        love       0.90      0.61      0.73       293\n",
      "       anger       0.89      0.82      0.85       395\n",
      "        fear       0.86      0.76      0.81       379\n",
      "    surprise       0.85      0.67      0.75       122\n",
      "\n",
      "    accuracy                           0.85      3200\n",
      "   macro avg       0.86      0.78      0.82      3200\n",
      "weighted avg       0.86      0.85      0.85      3200\n",
      "\n",
      "Confusion Matrix - Testing Data:\n",
      "[[ 834   70    3   18   15    3]\n",
      " [  26 1011   15    5    6    5]\n",
      " [   6  103  180    4    0    0]\n",
      " [  26   39    0  324    6    0]\n",
      " [  17   51    2   14  288    7]\n",
      " [   4   14    0    1   21   82]]\n"
     ]
    },
    {
     "data": {
      "image/png": "[encoded data removed]",
      "text/plain": [
       "<Figure size 720x432 with 2 Axes>"
      ]
     },
     "metadata": {
      "needs_background": "light"
     },
     "output_type": "display_data"
    },
    {
     "data": {
      "image/png": "[encoded data removed]",
      "text/plain": [
       "<Figure size 720x432 with 2 Axes>"
      ]
     },
     "metadata": {
      "needs_background": "light"
     },
     "output_type": "display_data"
    }
   ],
   "source": [
    "# Load the dataset\n",
    "df = pd.read_csv('Emotions_training.csv')\n",
    "\n",
    "# Define the emotion mapping\n",
    "emotion_mapping = {0: 'sadness', 1: 'joy', 2: 'love', 3: 'anger', 4: 'fear', 5: 'surprise'}\n",
    "\n",
    "# Split the dataset into train (70%), test (20%), and validation (10%) sets\n",
    "X_train, X_temp, y_train, y_temp = train_test_split(df['text'], df['label'], test_size=0.3, random_state=42)\n",
    "X_test, X_val, y_test, y_val = train_test_split(X_temp, y_temp, test_size=(1/3), random_state=42)\n",
    "\n",
    "# Create TF-IDF vectors\n",
    "tfidf_vectorizer = TfidfVectorizer()\n",
    "X_train_tfidf = tfidf_vectorizer.fit_transform(X_train)\n",
    "X_test_tfidf = tfidf_vectorizer.transform(X_test)\n",
    "X_val_tfidf = tfidf_vectorizer.transform(X_val)\n",
    "\n",
    "# Build the Random Forest model\n",
    "rf_model = RandomForestClassifier(n_estimators=100, random_state=42)\n",
    "rf_model.fit(X_train_tfidf, y_train)\n",
    "\n",
    "# Predict the labels for the training set\n",
    "y_pred_train = rf_model.predict(X_train_tfidf)\n",
    "\n",
    "# Predict the labels for the testing set\n",
    "y_pred_test = rf_model.predict(X_test_tfidf)\n",
    "\n",
    "# Calculate the training accuracy\n",
    "training_accuracy = accuracy_score(y_train, y_pred_train)\n",
    "print(\"Training Accuracy:\", training_accuracy)\n",
    "\n",
    "# Calculate the testing accuracy\n",
    "testing_accuracy = accuracy_score(y_test, y_pred_test)\n",
    "print(\"Testing Accuracy:\", testing_accuracy)\n",
    "\n",
    "# Generate the classification report and confusion matrix for training data\n",
    "print(\"\\nClassification Report - Training Data:\")\n",
    "print(classification_report(y_train, y_pred_train, target_names=[emotion_mapping[i] for i in range(6)]))\n",
    "print(\"Confusion Matrix - Training Data:\")\n",
    "conf_matrix_train = confusion_matrix(y_train, y_pred_train)\n",
    "print(conf_matrix_train)\n",
    "\n",
    "# Generate the classification report and confusion matrix for testing data\n",
    "print(\"\\nClassification Report - Testing Data:\")\n",
    "print(classification_report(y_test, y_pred_test, target_names=[emotion_mapping[i] for i in range(6)]))\n",
    "print(\"Confusion Matrix - Testing Data:\")\n",
    "conf_matrix_test = confusion_matrix(y_test, y_pred_test)\n",
    "print(conf_matrix_test)\n",
    "\n",
    "# Plot the confusion matrix for training data\n",
    "plt.figure(figsize=(10, 6))\n",
    "sns.heatmap(conf_matrix_train, annot=True, fmt='d', cmap='Blues', xticklabels=[emotion_mapping[i] for i in range(6)], yticklabels=[emotion_mapping[i] for i in range(6)])\n",
    "plt.title('Confusion Matrix - Training Data')\n",
    "plt.xlabel('Predicted')\n",
    "plt.ylabel('Actual')\n",
    "plt.show()\n",
    "\n",
    "# Plot the confusion matrix for testing data\n",
    "plt.figure(figsize=(10, 6))\n",
    "sns.heatmap(conf_matrix_test, annot=True, fmt='d', cmap='Blues', xticklabels=[emotion_mapping[i] for i in range(6)], yticklabels=[emotion_mapping[i] for i in range(6)])\n",
    "plt.title('Confusion Matrix - Testing Data')\n",
    "plt.xlabel('Predicted')\n",
    "plt.ylabel('Actual')\n",
    "plt.show()"
   ]
  },
  {
   "cell_type": "markdown",
   "id": "54dff1d7",
   "metadata": {},
   "source": [
    "#  Performing HyperParameter Tuning on Random Forest Model Using GridSearchCV"
   ]
  },
  {
   "cell_type": "code",
   "execution_count": 7,
   "id": "d2e175c0",
   "metadata": {
    "collapsed": true
   },
   "outputs": [
    {
     "name": "stdout",
     "output_type": "stream",
     "text": [
      "Training Accuracy: 0.9233035714285714\n",
      "Testing Accuracy: 0.854375\n",
      "\n",
      "Classification Report - Training Data:\n",
      "              precision    recall  f1-score   support\n",
      "\n",
      "     sadness       0.96      0.97      0.96      3232\n",
      "         joy       0.89      0.98      0.93      3781\n",
      "        love       0.96      0.73      0.83       870\n",
      "       anger       0.95      0.89      0.92      1552\n",
      "        fear       0.90      0.90      0.90      1371\n",
      "    surprise       0.96      0.70      0.81       394\n",
      "\n",
      "    accuracy                           0.92     11200\n",
      "   macro avg       0.93      0.86      0.89     11200\n",
      "weighted avg       0.93      0.92      0.92     11200\n",
      "\n",
      "Confusion Matrix - Training Data:\n",
      "[[3120   51   10   23   27    1]\n",
      " [  24 3700   13   15   21    8]\n",
      " [   4  225  632    4    4    1]\n",
      " [  61   97    2 1380   12    0]\n",
      " [  38   59    2   35 1235    2]\n",
      " [  11   36    0    1   72  274]]\n",
      "\n",
      "Classification Report - Testing Data:\n",
      "              precision    recall  f1-score   support\n",
      "\n",
      "     sadness       0.92      0.89      0.90       943\n",
      "         joy       0.79      0.95      0.87      1068\n",
      "        love       0.92      0.63      0.75       293\n",
      "       anger       0.88      0.82      0.85       395\n",
      "        fear       0.84      0.78      0.81       379\n",
      "    surprise       0.93      0.61      0.74       122\n",
      "\n",
      "    accuracy                           0.85      3200\n",
      "   macro avg       0.88      0.78      0.82      3200\n",
      "weighted avg       0.86      0.85      0.85      3200\n",
      "\n",
      "Confusion Matrix - Testing Data:\n",
      "[[ 839   69    4   17   11    3]\n",
      " [  24 1019    9    5   10    1]\n",
      " [   3   99  185    4    2    0]\n",
      " [  26   42    1  322    4    0]\n",
      " [  20   44    3   16  294    2]\n",
      " [   4   15    0    1   27   75]]\n"
     ]
    },
    {
     "data": {
      "image/png": "[encoded data removed]",
      "text/plain": [
       "<Figure size 720x432 with 2 Axes>"
      ]
     },
     "metadata": {
      "needs_background": "light"
     },
     "output_type": "display_data"
    },
    {
     "data": {
      "image/png": "[encoded data removed]",
      "text/plain": [
       "<Figure size 720x432 with 2 Axes>"
      ]
     },
     "metadata": {
      "needs_background": "light"
     },
     "output_type": "display_data"
    }
   ],
   "source": [
    "# Load the dataset\n",
    "df = pd.read_csv('Emotions_training.csv')\n",
    "\n",
    "# Define the emotion mapping\n",
    "emotion_mapping = {0: 'sadness', 1: 'joy', 2: 'love', 3: 'anger', 4: 'fear', 5: 'surprise'}\n",
    "\n",
    "# Split the dataset into train (70%), test (20%), and validation (10%) sets\n",
    "X_train, X_temp, y_train, y_temp = train_test_split(df['text'], df['label'], test_size=0.3, random_state=42)\n",
    "X_test, X_val, y_test, y_val = train_test_split(X_temp, y_temp, test_size=(1/3), random_state=42)\n",
    "\n",
    "# Create TF-IDF vectors\n",
    "tfidf_vectorizer = TfidfVectorizer()\n",
    "X_train_tfidf = tfidf_vectorizer.fit_transform(X_train)\n",
    "X_test_tfidf = tfidf_vectorizer.transform(X_test)\n",
    "X_val_tfidf = tfidf_vectorizer.transform(X_val)\n",
    "\n",
    "# Define the hyperparameter grid for Random Forest\n",
    "param_grid = {\n",
    "    'n_estimators': [100, 200],\n",
    "    'max_depth': [None, 10],\n",
    "    'min_samples_split': [2, 5],\n",
    "    'min_samples_leaf': [1, 2]\n",
    "}\n",
    "\n",
    "# Perform hyperparameter tuning using GridSearchCV\n",
    "rf_grid = GridSearchCV(RandomForestClassifier(random_state=42), param_grid, cv=5, scoring='accuracy')\n",
    "rf_grid.fit(X_train_tfidf, y_train)\n",
    "\n",
    "# Get the best hyperparameters and the best model\n",
    "best_params = rf_grid.best_params_\n",
    "best_rf_model = rf_grid.best_estimator_\n",
    "\n",
    "# Predict the labels for the training set\n",
    "y_pred_train = best_rf_model.predict(X_train_tfidf)\n",
    "\n",
    "# Predict the labels for the testing set\n",
    "y_pred_test = best_rf_model.predict(X_test_tfidf)\n",
    "\n",
    "# Calculate the training accuracy\n",
    "training_accuracy = accuracy_score(y_train, y_pred_train)\n",
    "print(\"Training Accuracy:\", training_accuracy)\n",
    "\n",
    "# Calculate the testing accuracy\n",
    "testing_accuracy = accuracy_score(y_test, y_pred_test)\n",
    "print(\"Testing Accuracy:\", testing_accuracy)\n",
    "\n",
    "# Generate the classification report and confusion matrix for training data\n",
    "print(\"\\nClassification Report - Training Data:\")\n",
    "print(classification_report(y_train, y_pred_train, target_names=[emotion_mapping[i] for i in range(6)]))\n",
    "print(\"Confusion Matrix - Training Data:\")\n",
    "conf_matrix_train = confusion_matrix(y_train, y_pred_train)\n",
    "print(conf_matrix_train)\n",
    "\n",
    "# Generate the classification report and confusion matrix for testing data\n",
    "print(\"\\nClassification Report - Testing Data:\")\n",
    "print(classification_report(y_test, y_pred_test, target_names=[emotion_mapping[i] for i in range(6)]))\n",
    "print(\"Confusion Matrix - Testing Data:\")\n",
    "conf_matrix_test = confusion_matrix(y_test, y_pred_test)\n",
    "print(conf_matrix_test)\n",
    "\n",
    "# Plot the confusion matrix for training data\n",
    "plt.figure(figsize=(10, 6))\n",
    "sns.heatmap(conf_matrix_train, annot=True, fmt='d', cmap='Blues', xticklabels=[emotion_mapping[i] for i in range(6)], yticklabels=[emotion_mapping[i] for i in range(6)])\n",
    "plt.title('Confusion Matrix - Training Data')\n",
    "plt.xlabel('Predicted')\n",
    "plt.ylabel('Actual')\n",
    "plt.show()\n",
    "\n",
    "# Plot the confusion matrix for testing data\n",
    "plt.figure(figsize=(10, 6))\n",
    "sns.heatmap(conf_matrix_test, annot=True, fmt='d', cmap='Blues', xticklabels=[emotion_mapping[i] for i in range(6)], yticklabels=[emotion_mapping[i] for i in range(6)])\n",
    "plt.title('Confusion Matrix - Testing Data')\n",
    "plt.xlabel('Predicted')\n",
    "plt.ylabel('Actual')\n",
    "plt.show()"
   ]
  },
  {
   "cell_type": "markdown",
   "id": "79dac7e4",
   "metadata": {},
   "source": [
    "# 5.Xgboost Model"
   ]
  },
  {
   "cell_type": "code",
   "execution_count": 11,
   "id": "66699107",
   "metadata": {
    "collapsed": true
   },
   "outputs": [
    {
     "name": "stdout",
     "output_type": "stream",
     "text": [
      "Training Accuracy: 0.9677678571428572\n",
      "Testing Accuracy: 0.8871875\n",
      "\n",
      "Classification Report - Training Data:\n",
      "              precision    recall  f1-score   support\n",
      "\n",
      "     sadness       0.99      0.96      0.97      3232\n",
      "         joy       0.94      0.99      0.96      3781\n",
      "        love       0.96      0.97      0.97       870\n",
      "       anger       0.99      0.94      0.96      1552\n",
      "        fear       0.98      0.95      0.97      1371\n",
      "    surprise       0.98      0.97      0.98       394\n",
      "\n",
      "    accuracy                           0.97     11200\n",
      "   macro avg       0.97      0.96      0.97     11200\n",
      "weighted avg       0.97      0.97      0.97     11200\n",
      "\n",
      "Confusion Matrix - Training Data:\n",
      "[[3111   86    4   10   21    0]\n",
      " [   6 3736   32    1    5    1]\n",
      " [   0   25  845    0    0    0]\n",
      " [  25   71    0 1454    2    0]\n",
      " [   8   40    0    7 1309    7]\n",
      " [   1    5    0    0    4  384]]\n",
      "\n",
      "Classification Report - Testing Data:\n",
      "              precision    recall  f1-score   support\n",
      "\n",
      "     sadness       0.95      0.90      0.92       943\n",
      "         joy       0.87      0.93      0.90      1068\n",
      "        love       0.82      0.83      0.82       293\n",
      "       anger       0.88      0.87      0.87       395\n",
      "        fear       0.89      0.84      0.86       379\n",
      "    surprise       0.81      0.79      0.80       122\n",
      "\n",
      "    accuracy                           0.89      3200\n",
      "   macro avg       0.87      0.86      0.86      3200\n",
      "weighted avg       0.89      0.89      0.89      3200\n",
      "\n",
      "Confusion Matrix - Testing Data:\n",
      "[[849  45   9  23  11   6]\n",
      " [ 17 991  41   6   9   4]\n",
      " [  3  43 243   3   1   0]\n",
      " [ 16  29   3 342   4   1]\n",
      " [  8  26   2  14 318  11]\n",
      " [  1   8   0   1  16  96]]\n"
     ]
    },
    {
     "data": {
      "image/png": "[encoded data removed]",
      "text/plain": [
       "<Figure size 720x432 with 2 Axes>"
      ]
     },
     "metadata": {
      "needs_background": "light"
     },
     "output_type": "display_data"
    },
    {
     "data": {
      "text/plain": [
       "Text(69.0, 0.5, 'Actual')"
      ]
     },
     "execution_count": 11,
     "metadata": {},
     "output_type": "execute_result"
    },
    {
     "data": {
      "image/png": "[encoded data removed]",
      "text/plain": [
       "<Figure size 720x432 with 2 Axes>"
      ]
     },
     "metadata": {
      "needs_background": "light"
     },
     "output_type": "display_data"
    }
   ],
   "source": [
    "# Load the dataset\n",
    "df = pd.read_csv('Emotions_training.csv')\n",
    "\n",
    "# Define the emotion mapping\n",
    "emotion_mapping = {0: 'sadness', 1: 'joy', 2: 'love', 3: 'anger', 4: 'fear', 5: 'surprise'}\n",
    "\n",
    "# Split the dataset into train (70%), test (20%), and validation (10%) sets\n",
    "X_train, X_temp, y_train, y_temp = train_test_split(df['text'], df['label'], test_size=0.3, random_state=42)\n",
    "X_test, X_val, y_test, y_val = train_test_split(X_temp, y_temp, test_size=(1/3), random_state=42)\n",
    "\n",
    "# Create TF-IDF vectors\n",
    "tfidf_vectorizer = TfidfVectorizer()\n",
    "X_train_tfidf = tfidf_vectorizer.fit_transform(X_train)\n",
    "X_test_tfidf = tfidf_vectorizer.transform(X_test)\n",
    "X_val_tfidf = tfidf_vectorizer.transform(X_val)\n",
    "\n",
    "# Build the XGBoost model\n",
    "xgb_model = XGBClassifier(random_state=42)\n",
    "xgb_model.fit(X_train_tfidf, y_train)\n",
    "\n",
    "# Predict the labels for the training set\n",
    "y_pred_train = xgb_model.predict(X_train_tfidf)\n",
    "\n",
    "# Predict the labels for the testing set\n",
    "y_pred_test = xgb_model.predict(X_test_tfidf)\n",
    "\n",
    "# Calculate the training accuracy\n",
    "training_accuracy = accuracy_score(y_train, y_pred_train)\n",
    "print(\"Training Accuracy:\", training_accuracy)\n",
    "\n",
    "# Calculate the testing accuracy\n",
    "testing_accuracy = accuracy_score(y_test, y_pred_test)\n",
    "print(\"Testing Accuracy:\", testing_accuracy)\n",
    "\n",
    "# Generate the classification report and confusion matrix for training data\n",
    "print(\"\\nClassification Report - Training Data:\")\n",
    "print(classification_report(y_train, y_pred_train, target_names=[emotion_mapping[i] for i in range(6)]))\n",
    "print(\"Confusion Matrix - Training Data:\")\n",
    "conf_matrix_train = confusion_matrix(y_train, y_pred_train)\n",
    "print(conf_matrix_train)\n",
    "\n",
    "# Generate the classification report and confusion matrix for testing data\n",
    "print(\"\\nClassification Report - Testing Data:\")\n",
    "print(classification_report(y_test, y_pred_test, target_names=[emotion_mapping[i] for i in range(6)]))\n",
    "print(\"Confusion Matrix - Testing Data:\")\n",
    "conf_matrix_test = confusion_matrix(y_test, y_pred_test)\n",
    "print(conf_matrix_test)\n",
    "\n",
    "# Plot the confusion matrix for training data\n",
    "plt.figure(figsize=(10, 6))\n",
    "sns.heatmap(conf_matrix_train, annot=True, fmt='d', cmap='Blues', xticklabels=[emotion_mapping[i] for i in range(6)], yticklabels=[emotion_mapping[i] for i in range(6)])\n",
    "plt.title('Confusion Matrix - Training Data')\n",
    "plt.xlabel('Predicted')\n",
    "plt.ylabel('Actual')\n",
    "plt.show()\n",
    "\n",
    "# Plot the confusion matrix for testing data\n",
    "plt.figure(figsize=(10, 6))\n",
    "sns.heatmap(conf_matrix_test, annot=True, fmt='d', cmap='Blues', xticklabels=[emotion_mapping[i] for i in range(6)], yticklabels=[emotion_mapping[i] for i in range(6)])\n",
    "plt.title('Confusion Matrix - Testing Data')\n",
    "plt.xlabel('Predicted')\n",
    "plt.ylabel('Actual')\n",
    "\n",
    "#Explanation\n",
    "\n",
    "#1.Firstly we used the read_csv function from the pandas library to load a CSV file named 'Emotions_training.csv' into a pandas DataFrame named df.\n",
    "\n",
    "#2.Then we defines a dictionary emotion_mapping that maps the integer labels in the dataset to their corresponding emotion names.\n",
    "\n",
    "#3.After that we splited the dataset into training, testing, and validation sets. The first line splits the data into a training set (70%) and a temporary set (30%) using the train_test_split function from scikit-learn. \n",
    "#The second line further splits the temporary set into a testing set (20% of the original data) and a validation set (10% of the original data).\n",
    "\n",
    "#4.Then we created TF-IDF (Term Frequency-Inverse Document Frequency) vectors for the text data. The TfidfVectorizer is initialized, and then the fit_transform method is used to learn the vocabulary from the training data and create TF-IDF vectors for the training set. \n",
    "#The transform method is used to create TF-IDF vectors for the testing and validation sets using the learned vocabulary.\n",
    "\n",
    "#5.After which define an XGBoost classifier model with a random state of 42 for reproducibility and fit the model to the training data using the fit method.\n",
    "\n",
    "#6.We then use the predict method of the best XGBoost model to generate predictions for the training and testing sets, respectively.\n",
    "\n",
    "#7.Then we calculated and printed the training and testing accuracies using the accuracy_score function from scikit-learn.\n",
    "\n",
    "#8.Now we generated and printed the classification report and confusion matrix for the training data. \n",
    "#The classification report provides precision, recall, and F1-score metrics for each emotion class. \n",
    "#The confusion matrix shows the number of true positives, false positives, false negatives, and true negatives for each class.\n",
    "\n",
    "#9.In this step the classification report and confusion matrix are generated and printed  for the testing data, similar to the training data.\n",
    "\n",
    "#10.Finally we plot the confusion matrices for the training and testing data using the heatmap function from the seaborn library. \n",
    "#The confusion matrices are visualized as heatmaps, with the actual emotion classes on the y-axis and the predicted emotion classes on the x-axis. The color intensity represents the number of instances in each cell of the matrix. \n",
    "#The annotations show the actual values, and the emotion names are used as tick labels for better readability.\n",
    "\n",
    "\n"
   ]
  },
  {
   "cell_type": "markdown",
   "id": "47a5801c",
   "metadata": {},
   "source": [
    "#  Performing HyperParameter Tuning on Xgboost  Model Using GridSearchCV"
   ]
  },
  {
   "cell_type": "code",
   "execution_count": 12,
   "id": "3640c1f2",
   "metadata": {},
   "outputs": [
    {
     "name": "stdout",
     "output_type": "stream",
     "text": [
      "Fitting 3 folds for each of 8 candidates, totalling 24 fits\n",
      "[CV] END ...learning_rate=0.1, max_depth=3, n_estimators=100; total time=   8.2s\n",
      "[CV] END ...learning_rate=0.1, max_depth=3, n_estimators=100; total time=   8.1s\n",
      "[CV] END ...learning_rate=0.1, max_depth=3, n_estimators=100; total time=   7.5s\n",
      "[CV] END ...learning_rate=0.1, max_depth=3, n_estimators=200; total time=  13.7s\n",
      "[CV] END ...learning_rate=0.1, max_depth=3, n_estimators=200; total time=  13.8s\n",
      "[CV] END ...learning_rate=0.1, max_depth=3, n_estimators=200; total time=  14.6s\n",
      "[CV] END ...learning_rate=0.1, max_depth=5, n_estimators=100; total time=  14.4s\n",
      "[CV] END ...learning_rate=0.1, max_depth=5, n_estimators=100; total time=  13.9s\n",
      "[CV] END ...learning_rate=0.1, max_depth=5, n_estimators=100; total time=  13.2s\n",
      "[CV] END ...learning_rate=0.1, max_depth=5, n_estimators=200; total time=  26.7s\n",
      "[CV] END ...learning_rate=0.1, max_depth=5, n_estimators=200; total time=  26.0s\n",
      "[CV] END ...learning_rate=0.1, max_depth=5, n_estimators=200; total time=  28.1s\n",
      "[CV] END ..learning_rate=0.01, max_depth=3, n_estimators=100; total time=   7.2s\n",
      "[CV] END ..learning_rate=0.01, max_depth=3, n_estimators=100; total time=   7.0s\n",
      "[CV] END ..learning_rate=0.01, max_depth=3, n_estimators=100; total time=   7.2s\n",
      "[CV] END ..learning_rate=0.01, max_depth=3, n_estimators=200; total time=  14.6s\n",
      "[CV] END ..learning_rate=0.01, max_depth=3, n_estimators=200; total time=  14.5s\n",
      "[CV] END ..learning_rate=0.01, max_depth=3, n_estimators=200; total time=  14.7s\n",
      "[CV] END ..learning_rate=0.01, max_depth=5, n_estimators=100; total time=  12.6s\n",
      "[CV] END ..learning_rate=0.01, max_depth=5, n_estimators=100; total time=  13.2s\n",
      "[CV] END ..learning_rate=0.01, max_depth=5, n_estimators=100; total time=  13.2s\n",
      "[CV] END ..learning_rate=0.01, max_depth=5, n_estimators=200; total time=  25.8s\n",
      "[CV] END ..learning_rate=0.01, max_depth=5, n_estimators=200; total time=  25.3s\n",
      "[CV] END ..learning_rate=0.01, max_depth=5, n_estimators=200; total time=  25.5s\n",
      "Training Accuracy: 0.9442857142857143\n",
      "Testing Accuracy: 0.8703125\n",
      "\n",
      "Classification Report - Training Data:\n",
      "              precision    recall  f1-score   support\n",
      "\n",
      "     sadness       0.97      0.94      0.95      3232\n",
      "         joy       0.90      0.98      0.94      3781\n",
      "        love       0.94      0.93      0.93       870\n",
      "       anger       0.98      0.89      0.93      1552\n",
      "        fear       0.97      0.92      0.95      1371\n",
      "    surprise       0.94      0.96      0.95       394\n",
      "\n",
      "    accuracy                           0.94     11200\n",
      "   macro avg       0.95      0.94      0.94     11200\n",
      "weighted avg       0.95      0.94      0.94     11200\n",
      "\n",
      "Confusion Matrix - Training Data:\n",
      "[[3024  170    7   10   19    2]\n",
      " [   9 3712   45    3    6    6]\n",
      " [   0   58  811    0    0    1]\n",
      " [  54  106    2 1385    5    0]\n",
      " [  16   62    1   13 1265   14]\n",
      " [   1    8    0    0    6  379]]\n",
      "\n",
      "Classification Report - Testing Data:\n",
      "              precision    recall  f1-score   support\n",
      "\n",
      "     sadness       0.94      0.87      0.91       943\n",
      "         joy       0.83      0.93      0.88      1068\n",
      "        love       0.83      0.79      0.81       293\n",
      "       anger       0.88      0.85      0.87       395\n",
      "        fear       0.88      0.79      0.84       379\n",
      "    surprise       0.78      0.80      0.79       122\n",
      "\n",
      "    accuracy                           0.87      3200\n",
      "   macro avg       0.86      0.84      0.85      3200\n",
      "weighted avg       0.87      0.87      0.87      3200\n",
      "\n",
      "Confusion Matrix - Testing Data:\n",
      "[[824  75   7  19  12   6]\n",
      " [ 17 996  36   6   7   6]\n",
      " [  2  55 232   3   1   0]\n",
      " [ 20  33   3 335   4   0]\n",
      " [ 10  36   2  15 300  16]\n",
      " [  1   7   0   1  15  98]]\n"
     ]
    },
    {
     "data": {
      "image/png": "[encoded data removed]",
      "text/plain": [
       "<Figure size 720x432 with 2 Axes>"
      ]
     },
     "metadata": {
      "needs_background": "light"
     },
     "output_type": "display_data"
    },
    {
     "data": {
      "image/png": "[encoded data removed]",
      "text/plain": [
       "<Figure size 720x432 with 2 Axes>"
      ]
     },
     "metadata": {
      "needs_background": "light"
     },
     "output_type": "display_data"
    }
   ],
   "source": [
    "# Load the dataset\n",
    "df = pd.read_csv('Emotions_training.csv')\n",
    "\n",
    "# Define the emotion mapping\n",
    "emotion_mapping = {0: 'sadness', 1: 'joy', 2: 'love', 3: 'anger', 4: 'fear', 5: 'surprise'}\n",
    "\n",
    "# Split the dataset into train (70%), test (20%), and validation (10%) sets\n",
    "X_train, X_temp, y_train, y_temp = train_test_split(df['text'], df['label'], test_size=0.3, random_state=42)\n",
    "X_test, X_val, y_test, y_val = train_test_split(X_temp, y_temp, test_size=(1/3), random_state=42)\n",
    "\n",
    "# Create TF-IDF vectors\n",
    "tfidf_vectorizer = TfidfVectorizer()\n",
    "X_train_tfidf = tfidf_vectorizer.fit_transform(X_train)\n",
    "X_test_tfidf = tfidf_vectorizer.transform(X_test)\n",
    "X_val_tfidf = tfidf_vectorizer.transform(X_val)\n",
    "\n",
    "# Define the XGBoost model\n",
    "xgb_model = XGBClassifier(random_state=42)\n",
    "\n",
    "# Define the hyperparameters to search\n",
    "param_grid = {\n",
    "    'n_estimators': [100, 200],\n",
    "    'max_depth': [3, 5],\n",
    "    'learning_rate': [0.1, 0.01]\n",
    "}\n",
    "\n",
    "# Perform grid search\n",
    "grid_search = GridSearchCV(estimator=xgb_model, param_grid=param_grid, cv=3, scoring='accuracy', verbose=2)\n",
    "grid_search.fit(X_train_tfidf, y_train)\n",
    "\n",
    "# Get the best estimator\n",
    "best_xgb_model = grid_search.best_estimator_\n",
    "\n",
    "# Predict the labels for the training set\n",
    "y_pred_train = best_xgb_model.predict(X_train_tfidf)\n",
    "\n",
    "# Predict the labels for the testing set\n",
    "y_pred_test = best_xgb_model.predict(X_test_tfidf)\n",
    "\n",
    "# Calculate the training accuracy\n",
    "training_accuracy = accuracy_score(y_train, y_pred_train)\n",
    "print(\"Training Accuracy:\", training_accuracy)\n",
    "\n",
    "# Calculate the testing accuracy\n",
    "testing_accuracy = accuracy_score(y_test, y_pred_test)\n",
    "print(\"Testing Accuracy:\", testing_accuracy)\n",
    "\n",
    "# Generate the classification report and confusion matrix for training data\n",
    "print(\"\\nClassification Report - Training Data:\")\n",
    "print(classification_report(y_train, y_pred_train, target_names=[emotion_mapping[i] for i in range(6)]))\n",
    "print(\"Confusion Matrix - Training Data:\")\n",
    "conf_matrix_train = confusion_matrix(y_train, y_pred_train)\n",
    "print(conf_matrix_train)\n",
    "\n",
    "# Generate the classification report and confusion matrix for testing data\n",
    "print(\"\\nClassification Report - Testing Data:\")\n",
    "print(classification_report(y_test, y_pred_test, target_names=[emotion_mapping[i] for i in range(6)]))\n",
    "print(\"Confusion Matrix - Testing Data:\")\n",
    "conf_matrix_test = confusion_matrix(y_test, y_pred_test)\n",
    "print(conf_matrix_test)\n",
    "\n",
    "# Plot the confusion matrix for training data\n",
    "plt.figure(figsize=(10, 6))\n",
    "sns.heatmap(conf_matrix_train, annot=True, fmt='d', cmap='Blues', xticklabels=[emotion_mapping[i] for i in range(6)], yticklabels=[emotion_mapping[i] for i in range(6)])\n",
    "plt.title('Confusion Matrix - Training Data')\n",
    "plt.xlabel('Predicted')\n",
    "plt.ylabel('Actual')\n",
    "plt.show()\n",
    "\n",
    "# Plot the confusion matrix for testing data\n",
    "plt.figure(figsize=(10, 6))\n",
    "sns.heatmap(conf_matrix_test, annot=True, fmt='d', cmap='Blues', xticklabels=[emotion_mapping[i] for i in range(6)], yticklabels=[emotion_mapping[i] for i in range(6)])\n",
    "plt.title('Confusion Matrix - Testing Data')\n",
    "plt.xlabel('Predicted')\n",
    "plt.ylabel('Actual')\n",
    "plt.show()\n",
    "\n",
    "\n",
    "#Explanation\n",
    "\n",
    "#1.Firstly we used the read_csv function from the pandas library to load a CSV file named 'Emotions_training.csv' into a pandas DataFrame named df.\n",
    "\n",
    "#2.Then we defines a dictionary emotion_mapping that maps the integer labels in the dataset to their corresponding emotion names.\n",
    "\n",
    "#3.After that we splited the dataset into training, testing, and validation sets. The first line splits the data into a training set (70%) and a temporary set (30%) using the train_test_split function from scikit-learn. \n",
    "#The second line further splits the temporary set into a testing set (20% of the original data) and a validation set (10% of the original data).\n",
    "\n",
    "#4.Then we created TF-IDF (Term Frequency-Inverse Document Frequency) vectors for the text data. The TfidfVectorizer is initialized, and then the fit_transform method is used to learn the vocabulary from the training data and create TF-IDF vectors for the training set. \n",
    "#The transform method is used to create TF-IDF vectors for the testing and validation sets using the learned vocabulary.\n",
    "\n",
    "#5.After which we define an XGBoost classifier model with a random state of 42 for reproducibility.\n",
    "\n",
    "#6.Along with that a dictionary is defined  param_grid that specifies the hyperparameters and their values to be explored during the grid search process.\n",
    "\n",
    "#7.Then we performed  a grid search using the GridSearchCV function from scikit-learn. The XGBClassifier model, the hyperparameter grid, a 3-fold cross-validation, the accuracy scoring metric, and a verbose output level of 2 are specified. \n",
    "\n",
    "#The fit method is called on the grid search object with the training data to find the best combination of hyperparameters.\n",
    "\n",
    "#8.Then we retrieves the best estimator (i.e., the model with the best hyperparameters) from the grid search object.\n",
    "\n",
    "#9.We then use the predict method of the best XGBoost model to generate predictions for the training and testing sets, respectively.\n",
    "\n",
    "#10. After that wecalculated and print the training and testing accuracies using the accuracy_score function from scikit-learn.\n",
    "\n",
    "#11.Now we generated and printed the classification report and confusion matrix for the training data. \n",
    "#The classification report provides precision, recall, and F1-score metrics for each emotion class. \n",
    "#The confusion matrix shows the number of true positives, false positives, false negatives, and true negatives for each class.\n",
    "\n",
    "#12.In this step the classification report and confusion matrix are generated and printed  for the testing data, similar to the training data.\n",
    "\n",
    "#13.Finally we plot the confusion matrices for the training and testing data using the heatmap function from the seaborn library. \n",
    "#The confusion matrices are visualized as heatmaps, with the actual emotion classes on the y-axis and the predicted emotion classes on the x-axis. The color intensity represents the number of instances in each cell of the matrix. \n",
    "#The annotations show the actual values, and the emotion names are used as tick labels for better readability.\n",
    "\n",
    "\n",
    "\n"
   ]
  },
  {
   "cell_type": "code",
   "execution_count": null,
   "id": "78ad8c24",
   "metadata": {},
   "outputs": [],
   "source": []
  }
 ],
 "metadata": {
  "kernelspec": {
   "display_name": "Python 3 (ipykernel)",
   "language": "python",
   "name": "python3"
  },
  "language_info": {
   "codemirror_mode": {
    "name": "ipython",
    "version": 3
   },
   "file_extension": ".py",
   "mimetype": "text/x-python",
   "name": "python",
   "nbconvert_exporter": "python",
   "pygments_lexer": "ipython3",
   "version": "3.9.12"
  }
 },
 "nbformat": 4,
 "nbformat_minor": 5
}
