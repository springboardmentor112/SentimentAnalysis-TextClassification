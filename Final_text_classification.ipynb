{
  "nbformat": 4,
  "nbformat_minor": 0,
  "metadata": {
    "colab": {
      "provenance": []
    },
    "kernelspec": {
      "name": "python3",
      "display_name": "Python 3"
    },
    "language_info": {
      "name": "python"
    }
  },
  "cells": [
    {
      "cell_type": "code",
      "source": [
        "!pip install contractions"
      ],
      "metadata": {
        "colab": {
          "base_uri": "https://localhost:8080/"
        },
        "id": "NNBXcxwz9B6C",
        "outputId": "751554fa-88a2-485a-9d94-7c8c5753b5b7"
      },
      "execution_count": 1,
      "outputs": [
        {
          "output_type": "stream",
          "name": "stdout",
          "text": [
            "Collecting contractions\n",
            "  Downloading contractions-0.1.73-py2.py3-none-any.whl (8.7 kB)\n",
            "Collecting textsearch>=0.0.21 (from contractions)\n",
            "  Downloading textsearch-0.0.24-py2.py3-none-any.whl (7.6 kB)\n",
            "Collecting anyascii (from textsearch>=0.0.21->contractions)\n",
            "  Downloading anyascii-0.3.2-py3-none-any.whl (289 kB)\n",
            "\u001b[2K     \u001b[90m━━━━━━━━━━━━━━━━━━━━━━━━━━━━━━━━━━━━━━━━\u001b[0m \u001b[32m289.9/289.9 kB\u001b[0m \u001b[31m9.0 MB/s\u001b[0m eta \u001b[36m0:00:00\u001b[0m\n",
            "\u001b[?25hCollecting pyahocorasick (from textsearch>=0.0.21->contractions)\n",
            "  Downloading pyahocorasick-2.1.0-cp310-cp310-manylinux_2_5_x86_64.manylinux1_x86_64.manylinux_2_12_x86_64.manylinux2010_x86_64.whl (110 kB)\n",
            "\u001b[2K     \u001b[90m━━━━━━━━━━━━━━━━━━━━━━━━━━━━━━━━━━━━━━━━\u001b[0m \u001b[32m110.7/110.7 kB\u001b[0m \u001b[31m11.5 MB/s\u001b[0m eta \u001b[36m0:00:00\u001b[0m\n",
            "\u001b[?25hInstalling collected packages: pyahocorasick, anyascii, textsearch, contractions\n",
            "Successfully installed anyascii-0.3.2 contractions-0.1.73 pyahocorasick-2.1.0 textsearch-0.0.24\n"
          ]
        }
      ]
    },
    {
      "cell_type": "markdown",
      "source": [
        "**Libraries**"
      ],
      "metadata": {
        "id": "5ygSxYzxBaFs"
      }
    },
    {
      "cell_type": "code",
      "execution_count": 2,
      "metadata": {
        "colab": {
          "base_uri": "https://localhost:8080/"
        },
        "collapsed": true,
        "id": "eB8FogGT86uC",
        "outputId": "2463bdf2-7b88-439f-ac75-4190d76318fb"
      },
      "outputs": [
        {
          "output_type": "stream",
          "name": "stderr",
          "text": [
            "[nltk_data] Downloading package averaged_perceptron_tagger to\n",
            "[nltk_data]     /root/nltk_data...\n",
            "[nltk_data]   Unzipping taggers/averaged_perceptron_tagger.zip.\n",
            "[nltk_data] Downloading package vader_lexicon to /root/nltk_data...\n",
            "[nltk_data] Downloading package stopwords to /root/nltk_data...\n",
            "[nltk_data]   Unzipping corpora/stopwords.zip.\n",
            "[nltk_data] Downloading package punkt to /root/nltk_data...\n",
            "[nltk_data]   Unzipping tokenizers/punkt.zip.\n",
            "[nltk_data] Downloading package wordnet to /root/nltk_data...\n"
          ]
        },
        {
          "output_type": "execute_result",
          "data": {
            "text/plain": [
              "True"
            ]
          },
          "metadata": {},
          "execution_count": 2
        }
      ],
      "source": [
        "import pandas as pd\n",
        "import numpy as np\n",
        "import re\n",
        "from bs4 import BeautifulSoup\n",
        "import contractions\n",
        "from wordcloud import WordCloud\n",
        "import matplotlib.pyplot as plt\n",
        "import string\n",
        "import nltk\n",
        "from nltk.corpus import stopwords\n",
        "from nltk.tokenize import word_tokenize\n",
        "from nltk.stem import WordNetLemmatizer\n",
        "from nltk.corpus import wordnet\n",
        "from nltk.stem import PorterStemmer\n",
        "from nltk.sentiment.vader import SentimentIntensityAnalyzer\n",
        "from sklearn.svm import SVC\n",
        "from sklearn.feature_extraction.text import TfidfVectorizer\n",
        "from sklearn.feature_extraction.text import CountVectorizer\n",
        "from sklearn.metrics import accuracy_score, classification_report, confusion_matrix\n",
        "from sklearn.model_selection import train_test_split, GridSearchCV\n",
        "from sklearn.svm import SVC\n",
        "from sklearn.naive_bayes import MultinomialNB\n",
        "from sklearn.model_selection import RandomizedSearchCV\n",
        "import xgboost as xgb\n",
        "from keras.models import Sequential\n",
        "from keras.layers import Embedding, LSTM, Dense, Dropout\n",
        "from keras.preprocessing.text import Tokenizer\n",
        "from keras.preprocessing.sequence import pad_sequences\n",
        "from sklearn.ensemble import RandomForestClassifier\n",
        "import seaborn as sns\n",
        "\n",
        "nltk.download('averaged_perceptron_tagger')\n",
        "nltk.download('vader_lexicon')\n",
        "nltk.download('stopwords')\n",
        "nltk.download('punkt')\n",
        "nltk.download('wordnet')"
      ]
    },
    {
      "cell_type": "markdown",
      "source": [
        "**Data Frame**"
      ],
      "metadata": {
        "id": "SKA2rVZVBtKY"
      }
    },
    {
      "cell_type": "code",
      "source": [
        "df = pd.read_csv('Emotions_training.csv')\n",
        "df.head()"
      ],
      "metadata": {
        "colab": {
          "base_uri": "https://localhost:8080/",
          "height": 206
        },
        "collapsed": true,
        "id": "kqtl-ixT9ZU4",
        "outputId": "5e3f1e71-b6aa-4920-f7da-487dbc64c000"
      },
      "execution_count": 3,
      "outputs": [
        {
          "output_type": "execute_result",
          "data": {
            "text/plain": [
              "                                                text  label\n",
              "0                            i didnt feel humiliated      0\n",
              "1  i can go from feeling so hopeless to so damned...      0\n",
              "2   im grabbing a minute to post i feel greedy wrong      3\n",
              "3  i am ever feeling nostalgic about the fireplac...      2\n",
              "4                               i am feeling grouchy      3"
            ],
            "text/html": [
              "\n",
              "  <div id=\"df-e17f099f-0ddf-4d4d-86cd-b5a08ff87b5b\" class=\"colab-df-container\">\n",
              "    <div>\n",
              "<style scoped>\n",
              "    .dataframe tbody tr th:only-of-type {\n",
              "        vertical-align: middle;\n",
              "    }\n",
              "\n",
              "    .dataframe tbody tr th {\n",
              "        vertical-align: top;\n",
              "    }\n",
              "\n",
              "    .dataframe thead th {\n",
              "        text-align: right;\n",
              "    }\n",
              "</style>\n",
              "<table border=\"1\" class=\"dataframe\">\n",
              "  <thead>\n",
              "    <tr style=\"text-align: right;\">\n",
              "      <th></th>\n",
              "      <th>text</th>\n",
              "      <th>label</th>\n",
              "    </tr>\n",
              "  </thead>\n",
              "  <tbody>\n",
              "    <tr>\n",
              "      <th>0</th>\n",
              "      <td>i didnt feel humiliated</td>\n",
              "      <td>0</td>\n",
              "    </tr>\n",
              "    <tr>\n",
              "      <th>1</th>\n",
              "      <td>i can go from feeling so hopeless to so damned...</td>\n",
              "      <td>0</td>\n",
              "    </tr>\n",
              "    <tr>\n",
              "      <th>2</th>\n",
              "      <td>im grabbing a minute to post i feel greedy wrong</td>\n",
              "      <td>3</td>\n",
              "    </tr>\n",
              "    <tr>\n",
              "      <th>3</th>\n",
              "      <td>i am ever feeling nostalgic about the fireplac...</td>\n",
              "      <td>2</td>\n",
              "    </tr>\n",
              "    <tr>\n",
              "      <th>4</th>\n",
              "      <td>i am feeling grouchy</td>\n",
              "      <td>3</td>\n",
              "    </tr>\n",
              "  </tbody>\n",
              "</table>\n",
              "</div>\n",
              "    <div class=\"colab-df-buttons\">\n",
              "\n",
              "  <div class=\"colab-df-container\">\n",
              "    <button class=\"colab-df-convert\" onclick=\"convertToInteractive('df-e17f099f-0ddf-4d4d-86cd-b5a08ff87b5b')\"\n",
              "            title=\"Convert this dataframe to an interactive table.\"\n",
              "            style=\"display:none;\">\n",
              "\n",
              "  <svg xmlns=\"http://www.w3.org/2000/svg\" height=\"24px\" viewBox=\"0 -960 960 960\">\n",
              "    <path d=\"M120-120v-720h720v720H120Zm60-500h600v-160H180v160Zm220 220h160v-160H400v160Zm0 220h160v-160H400v160ZM180-400h160v-160H180v160Zm440 0h160v-160H620v160ZM180-180h160v-160H180v160Zm440 0h160v-160H620v160Z\"/>\n",
              "  </svg>\n",
              "    </button>\n",
              "\n",
              "  <style>\n",
              "    .colab-df-container {\n",
              "      display:flex;\n",
              "      gap: 12px;\n",
              "    }\n",
              "\n",
              "    .colab-df-convert {\n",
              "      background-color: #E8F0FE;\n",
              "      border: none;\n",
              "      border-radius: 50%;\n",
              "      cursor: pointer;\n",
              "      display: none;\n",
              "      fill: #1967D2;\n",
              "      height: 32px;\n",
              "      padding: 0 0 0 0;\n",
              "      width: 32px;\n",
              "    }\n",
              "\n",
              "    .colab-df-convert:hover {\n",
              "      background-color: #E2EBFA;\n",
              "      box-shadow: 0px 1px 2px rgba(60, 64, 67, 0.3), 0px 1px 3px 1px rgba(60, 64, 67, 0.15);\n",
              "      fill: #174EA6;\n",
              "    }\n",
              "\n",
              "    .colab-df-buttons div {\n",
              "      margin-bottom: 4px;\n",
              "    }\n",
              "\n",
              "    [theme=dark] .colab-df-convert {\n",
              "      background-color: #3B4455;\n",
              "      fill: #D2E3FC;\n",
              "    }\n",
              "\n",
              "    [theme=dark] .colab-df-convert:hover {\n",
              "      background-color: #434B5C;\n",
              "      box-shadow: 0px 1px 3px 1px rgba(0, 0, 0, 0.15);\n",
              "      filter: drop-shadow(0px 1px 2px rgba(0, 0, 0, 0.3));\n",
              "      fill: #FFFFFF;\n",
              "    }\n",
              "  </style>\n",
              "\n",
              "    <script>\n",
              "      const buttonEl =\n",
              "        document.querySelector('#df-e17f099f-0ddf-4d4d-86cd-b5a08ff87b5b button.colab-df-convert');\n",
              "      buttonEl.style.display =\n",
              "        google.colab.kernel.accessAllowed ? 'block' : 'none';\n",
              "\n",
              "      async function convertToInteractive(key) {\n",
              "        const element = document.querySelector('#df-e17f099f-0ddf-4d4d-86cd-b5a08ff87b5b');\n",
              "        const dataTable =\n",
              "          await google.colab.kernel.invokeFunction('convertToInteractive',\n",
              "                                                    [key], {});\n",
              "        if (!dataTable) return;\n",
              "\n",
              "        const docLinkHtml = 'Like what you see? Visit the ' +\n",
              "          '<a target=\"_blank\" href=https://colab.research.google.com/notebooks/data_table.ipynb>data table notebook</a>'\n",
              "          + ' to learn more about interactive tables.';\n",
              "        element.innerHTML = '';\n",
              "        dataTable['output_type'] = 'display_data';\n",
              "        await google.colab.output.renderOutput(dataTable, element);\n",
              "        const docLink = document.createElement('div');\n",
              "        docLink.innerHTML = docLinkHtml;\n",
              "        element.appendChild(docLink);\n",
              "      }\n",
              "    </script>\n",
              "  </div>\n",
              "\n",
              "\n",
              "<div id=\"df-9fbf10e1-316a-4e7f-976e-d702bdd75b93\">\n",
              "  <button class=\"colab-df-quickchart\" onclick=\"quickchart('df-9fbf10e1-316a-4e7f-976e-d702bdd75b93')\"\n",
              "            title=\"Suggest charts\"\n",
              "            style=\"display:none;\">\n",
              "\n",
              "<svg xmlns=\"http://www.w3.org/2000/svg\" height=\"24px\"viewBox=\"0 0 24 24\"\n",
              "     width=\"24px\">\n",
              "    <g>\n",
              "        <path d=\"M19 3H5c-1.1 0-2 .9-2 2v14c0 1.1.9 2 2 2h14c1.1 0 2-.9 2-2V5c0-1.1-.9-2-2-2zM9 17H7v-7h2v7zm4 0h-2V7h2v10zm4 0h-2v-4h2v4z\"/>\n",
              "    </g>\n",
              "</svg>\n",
              "  </button>\n",
              "\n",
              "<style>\n",
              "  .colab-df-quickchart {\n",
              "      --bg-color: #E8F0FE;\n",
              "      --fill-color: #1967D2;\n",
              "      --hover-bg-color: #E2EBFA;\n",
              "      --hover-fill-color: #174EA6;\n",
              "      --disabled-fill-color: #AAA;\n",
              "      --disabled-bg-color: #DDD;\n",
              "  }\n",
              "\n",
              "  [theme=dark] .colab-df-quickchart {\n",
              "      --bg-color: #3B4455;\n",
              "      --fill-color: #D2E3FC;\n",
              "      --hover-bg-color: #434B5C;\n",
              "      --hover-fill-color: #FFFFFF;\n",
              "      --disabled-bg-color: #3B4455;\n",
              "      --disabled-fill-color: #666;\n",
              "  }\n",
              "\n",
              "  .colab-df-quickchart {\n",
              "    background-color: var(--bg-color);\n",
              "    border: none;\n",
              "    border-radius: 50%;\n",
              "    cursor: pointer;\n",
              "    display: none;\n",
              "    fill: var(--fill-color);\n",
              "    height: 32px;\n",
              "    padding: 0;\n",
              "    width: 32px;\n",
              "  }\n",
              "\n",
              "  .colab-df-quickchart:hover {\n",
              "    background-color: var(--hover-bg-color);\n",
              "    box-shadow: 0 1px 2px rgba(60, 64, 67, 0.3), 0 1px 3px 1px rgba(60, 64, 67, 0.15);\n",
              "    fill: var(--button-hover-fill-color);\n",
              "  }\n",
              "\n",
              "  .colab-df-quickchart-complete:disabled,\n",
              "  .colab-df-quickchart-complete:disabled:hover {\n",
              "    background-color: var(--disabled-bg-color);\n",
              "    fill: var(--disabled-fill-color);\n",
              "    box-shadow: none;\n",
              "  }\n",
              "\n",
              "  .colab-df-spinner {\n",
              "    border: 2px solid var(--fill-color);\n",
              "    border-color: transparent;\n",
              "    border-bottom-color: var(--fill-color);\n",
              "    animation:\n",
              "      spin 1s steps(1) infinite;\n",
              "  }\n",
              "\n",
              "  @keyframes spin {\n",
              "    0% {\n",
              "      border-color: transparent;\n",
              "      border-bottom-color: var(--fill-color);\n",
              "      border-left-color: var(--fill-color);\n",
              "    }\n",
              "    20% {\n",
              "      border-color: transparent;\n",
              "      border-left-color: var(--fill-color);\n",
              "      border-top-color: var(--fill-color);\n",
              "    }\n",
              "    30% {\n",
              "      border-color: transparent;\n",
              "      border-left-color: var(--fill-color);\n",
              "      border-top-color: var(--fill-color);\n",
              "      border-right-color: var(--fill-color);\n",
              "    }\n",
              "    40% {\n",
              "      border-color: transparent;\n",
              "      border-right-color: var(--fill-color);\n",
              "      border-top-color: var(--fill-color);\n",
              "    }\n",
              "    60% {\n",
              "      border-color: transparent;\n",
              "      border-right-color: var(--fill-color);\n",
              "    }\n",
              "    80% {\n",
              "      border-color: transparent;\n",
              "      border-right-color: var(--fill-color);\n",
              "      border-bottom-color: var(--fill-color);\n",
              "    }\n",
              "    90% {\n",
              "      border-color: transparent;\n",
              "      border-bottom-color: var(--fill-color);\n",
              "    }\n",
              "  }\n",
              "</style>\n",
              "\n",
              "  <script>\n",
              "    async function quickchart(key) {\n",
              "      const quickchartButtonEl =\n",
              "        document.querySelector('#' + key + ' button');\n",
              "      quickchartButtonEl.disabled = true;  // To prevent multiple clicks.\n",
              "      quickchartButtonEl.classList.add('colab-df-spinner');\n",
              "      try {\n",
              "        const charts = await google.colab.kernel.invokeFunction(\n",
              "            'suggestCharts', [key], {});\n",
              "      } catch (error) {\n",
              "        console.error('Error during call to suggestCharts:', error);\n",
              "      }\n",
              "      quickchartButtonEl.classList.remove('colab-df-spinner');\n",
              "      quickchartButtonEl.classList.add('colab-df-quickchart-complete');\n",
              "    }\n",
              "    (() => {\n",
              "      let quickchartButtonEl =\n",
              "        document.querySelector('#df-9fbf10e1-316a-4e7f-976e-d702bdd75b93 button');\n",
              "      quickchartButtonEl.style.display =\n",
              "        google.colab.kernel.accessAllowed ? 'block' : 'none';\n",
              "    })();\n",
              "  </script>\n",
              "</div>\n",
              "\n",
              "    </div>\n",
              "  </div>\n"
            ],
            "application/vnd.google.colaboratory.intrinsic+json": {
              "type": "dataframe",
              "variable_name": "df",
              "summary": "{\n  \"name\": \"df\",\n  \"rows\": 16000,\n  \"fields\": [\n    {\n      \"column\": \"text\",\n      \"properties\": {\n        \"dtype\": \"string\",\n        \"num_unique_values\": 15969,\n        \"samples\": [\n          \"i feel rather imbicilic or at least complacent\",\n          \"i was in the bathroom i had sat down to pee it was to make me feel submissive again per instructions\",\n          \"i am thrilled with the way my skin and hair feel if you are like me you are skeptical\"\n        ],\n        \"semantic_type\": \"\",\n        \"description\": \"\"\n      }\n    },\n    {\n      \"column\": \"label\",\n      \"properties\": {\n        \"dtype\": \"number\",\n        \"std\": 1,\n        \"min\": 0,\n        \"max\": 5,\n        \"num_unique_values\": 6,\n        \"samples\": [\n          0,\n          3,\n          1\n        ],\n        \"semantic_type\": \"\",\n        \"description\": \"\"\n      }\n    }\n  ]\n}"
            }
          },
          "metadata": {},
          "execution_count": 3
        }
      ]
    },
    {
      "cell_type": "markdown",
      "source": [
        "**Lower Case**"
      ],
      "metadata": {
        "id": "0PhF9PRrBz5S"
      }
    },
    {
      "cell_type": "code",
      "source": [
        "#converting text into lower case\n",
        "df['lw_content'] = df['text'].apply(lambda x: x.lower())"
      ],
      "metadata": {
        "id": "A3I_77hY9dIK"
      },
      "execution_count": 4,
      "outputs": []
    },
    {
      "cell_type": "markdown",
      "source": [
        "**Removing Non Textual Data**"
      ],
      "metadata": {
        "id": "BdZ3AF33B8FO"
      }
    },
    {
      "cell_type": "code",
      "source": [
        "#removing non textual content\n",
        "def remove_non_textual(text):\n",
        "    return re.sub(r'[^\\w\\s]', '', text)\n",
        "df['nt_content'] = df['lw_content'].apply(remove_non_textual)"
      ],
      "metadata": {
        "id": "-ftLEK_89j_1"
      },
      "execution_count": 5,
      "outputs": []
    },
    {
      "cell_type": "markdown",
      "source": [
        "**Removing HTML tags**"
      ],
      "metadata": {
        "id": "Ttqyg3aMCE2a"
      }
    },
    {
      "cell_type": "code",
      "source": [
        "# to strip HTML tags\n",
        "def remove_html_tags(text):\n",
        "    soup = BeautifulSoup(text, 'html.parser')\n",
        "    return soup.get_text()\n",
        "df['nonhtml_text'] = df['nt_content'].apply(remove_html_tags)"
      ],
      "metadata": {
        "id": "AiBty0nT9r2O"
      },
      "execution_count": 6,
      "outputs": []
    },
    {
      "cell_type": "code",
      "source": [
        "# to expand contractions\n",
        "df['ct_data'] = df['nonhtml_text'].apply(lambda x: contractions.fix(x))"
      ],
      "metadata": {
        "id": "xvOwPzuq9vgX"
      },
      "execution_count": 7,
      "outputs": []
    },
    {
      "cell_type": "markdown",
      "source": [
        "**Removing Stop Words**"
      ],
      "metadata": {
        "id": "3zljcnKGCMUm"
      }
    },
    {
      "cell_type": "code",
      "source": [
        "#removing stop words\n",
        "stopwords.words('english')\n",
        "[punc for punc in string.punctuation]\n",
        "def text_process(msg):\n",
        "  nopunc= [char for char in msg if char not in string.punctuation]\n",
        "  nopunc= ''.join(nopunc)\n",
        "  return ' '.join([word for word in nopunc.split() if word.lower() not in stopwords.words('english')])\n",
        "df['cleaned_data']= df['ct_data'].apply(text_process)"
      ],
      "metadata": {
        "id": "OGfEaMUn9ywg"
      },
      "execution_count": 8,
      "outputs": []
    },
    {
      "cell_type": "markdown",
      "source": [
        "**Lemmatization**"
      ],
      "metadata": {
        "id": "AT9oAtGzCUlz"
      }
    },
    {
      "cell_type": "code",
      "source": [
        "#lemmatizing of data\n",
        "lemmatizer = WordNetLemmatizer()\n",
        "def lemmatize_sentence(sentence):\n",
        "    tokens = nltk.word_tokenize(sentence)\n",
        "    lemmatized_sentence = ' '.join([lemmatizer.lemmatize(word, get_wordnet_pos(word)) for word in tokens])\n",
        "    return lemmatized_sentence\n",
        "def get_wordnet_pos(word):\n",
        "    tag = nltk.pos_tag([word])[0][1][0].upper()\n",
        "    tag_dict = {\"J\": wordnet.ADJ,\n",
        "                \"N\": wordnet.NOUN,\n",
        "                \"V\": wordnet.VERB,\n",
        "                \"R\": wordnet.ADV}\n",
        "    return tag_dict.get(tag, wordnet.NOUN)\n",
        "df['lemmatized_text'] = df['cleaned_data'].apply(lemmatize_sentence)\n",
        "\n",
        "df['lemmatized_text'].head()"
      ],
      "metadata": {
        "colab": {
          "base_uri": "https://localhost:8080/"
        },
        "id": "emWa5qcJ-Ak0",
        "outputId": "bb3d72e2-8005-4582-b7c8-b0cf7e5cb0f9"
      },
      "execution_count": 9,
      "outputs": [
        {
          "output_type": "execute_result",
          "data": {
            "text/plain": [
              "0                                       feel humiliate\n",
              "1    go feel hopeless damn hopeful around someone c...\n",
              "2                   grab minute post feel greedy wrong\n",
              "3    ever feel nostalgic fireplace know still property\n",
              "4                                         feel grouchy\n",
              "Name: lemmatized_text, dtype: object"
            ]
          },
          "metadata": {},
          "execution_count": 9
        }
      ]
    },
    {
      "cell_type": "markdown",
      "source": [
        "**Vectorization(TF-IDF)**"
      ],
      "metadata": {
        "id": "j_NO7Ls6Ciu_"
      }
    },
    {
      "cell_type": "code",
      "source": [
        "def tfidf(data, column):\n",
        "    vectorizer = TfidfVectorizer()\n",
        "    return vectorizer.fit_transform(data[column])\n",
        "\n",
        "tfidf_matrix = tfidf(df, 'text')\n",
        "\n",
        "tfidf_matrix = tfidf(df, 'text')\n",
        "\n",
        "# Converting the TF-IDF matrix to an array\n",
        "tfidf_matrix_array = tfidf_matrix.toarray()\n",
        "\n",
        "# Printing the TF-IDF matrix and its shape\n",
        "print(\"TF-IDF Matrix:\")\n",
        "print(tfidf_matrix_array)\n",
        "print(\"Shape of TF-IDF matrix:\", tfidf_matrix_array.shape)"
      ],
      "metadata": {
        "colab": {
          "base_uri": "https://localhost:8080/"
        },
        "id": "r0vA33Qd-MvC",
        "outputId": "227e64c9-6229-4db0-e984-efbf1b8c6b18"
      },
      "execution_count": 10,
      "outputs": [
        {
          "output_type": "stream",
          "name": "stdout",
          "text": [
            "TF-IDF Matrix:\n",
            "[[0. 0. 0. ... 0. 0. 0.]\n",
            " [0. 0. 0. ... 0. 0. 0.]\n",
            " [0. 0. 0. ... 0. 0. 0.]\n",
            " ...\n",
            " [0. 0. 0. ... 0. 0. 0.]\n",
            " [0. 0. 0. ... 0. 0. 0.]\n",
            " [0. 0. 0. ... 0. 0. 0.]]\n",
            "Shape of TF-IDF matrix: (16000, 15186)\n"
          ]
        }
      ]
    },
    {
      "cell_type": "markdown",
      "source": [
        "**Spliting dataset in to Train (70%), Test (20%) and Validation (10%) datasets**"
      ],
      "metadata": {
        "id": "CNtQxdWLC0f4"
      }
    },
    {
      "cell_type": "code",
      "source": [
        "train_size = int(0.7 * len(tfidf_matrix_array))\n",
        "test_size = int(0.2 * len(tfidf_matrix_array))\n",
        "val_size = len(tfidf_matrix_array) - train_size - test_size\n",
        "\n",
        "# Spliting the data\n",
        "train_data = tfidf_matrix_array[:train_size]\n",
        "test_data = tfidf_matrix_array[train_size:train_size+test_size]\n",
        "val_data = tfidf_matrix_array[train_size+test_size:]\n",
        "\n",
        "print(\"Train data size:\", len(train_data))\n",
        "print(\"Test data size:\", len(test_data))\n",
        "print(\"Validation data size:\", len(val_data))"
      ],
      "metadata": {
        "colab": {
          "base_uri": "https://localhost:8080/"
        },
        "id": "gIie2feB-qMP",
        "outputId": "94d85b27-40e2-4031-b2a2-c4b0fe36f3b2"
      },
      "execution_count": 13,
      "outputs": [
        {
          "output_type": "stream",
          "name": "stdout",
          "text": [
            "Train data size: 11200\n",
            "Test data size: 3200\n",
            "Validation data size: 1600\n"
          ]
        }
      ]
    },
    {
      "cell_type": "markdown",
      "source": [
        "**Multinomial Naive Bayes classifier**"
      ],
      "metadata": {
        "id": "9UpByEQsDA-7"
      }
    },
    {
      "cell_type": "code",
      "source": [
        "# Training a Multinomial Naive Bayes classifier on the training data\n",
        "nb_clf = MultinomialNB()\n",
        "nb_clf.fit(X_train, y_train)\n",
        "\n",
        "\n",
        "# Evaluating the classifier on the testing data\n",
        "y_pred = nb_clf.predict(X_test)\n",
        "print(classification_report(y_test, y_pred))\n",
        "print(confusion_matrix(y_test, y_pred))"
      ],
      "metadata": {
        "colab": {
          "base_uri": "https://localhost:8080/"
        },
        "id": "eKH4zpnS-ZQm",
        "outputId": "3be3a4b6-25b2-4b7c-b8a5-2eba7cc12a1c"
      },
      "execution_count": 14,
      "outputs": [
        {
          "output_type": "stream",
          "name": "stdout",
          "text": [
            "              precision    recall  f1-score   support\n",
            "\n",
            "           0       0.69      0.89      0.78       946\n",
            "           1       0.54      0.99      0.70      1021\n",
            "           2       1.00      0.01      0.01       296\n",
            "           3       0.91      0.17      0.28       427\n",
            "           4       0.93      0.11      0.19       397\n",
            "           5       0.00      0.00      0.00       113\n",
            "\n",
            "    accuracy                           0.62      3200\n",
            "   macro avg       0.68      0.36      0.33      3200\n",
            "weighted avg       0.71      0.62      0.52      3200\n",
            "\n",
            "[[ 844  102    0    0    0    0]\n",
            " [   9 1012    0    0    0    0]\n",
            " [  34  259    2    1    0    0]\n",
            " [ 153  201    0   72    1    0]\n",
            " [ 137  211    0    6   43    0]\n",
            " [  39   72    0    0    2    0]]\n"
          ]
        },
        {
          "output_type": "stream",
          "name": "stderr",
          "text": [
            "/usr/local/lib/python3.10/dist-packages/sklearn/metrics/_classification.py:1344: UndefinedMetricWarning: Precision and F-score are ill-defined and being set to 0.0 in labels with no predicted samples. Use `zero_division` parameter to control this behavior.\n",
            "  _warn_prf(average, modifier, msg_start, len(result))\n",
            "/usr/local/lib/python3.10/dist-packages/sklearn/metrics/_classification.py:1344: UndefinedMetricWarning: Precision and F-score are ill-defined and being set to 0.0 in labels with no predicted samples. Use `zero_division` parameter to control this behavior.\n",
            "  _warn_prf(average, modifier, msg_start, len(result))\n",
            "/usr/local/lib/python3.10/dist-packages/sklearn/metrics/_classification.py:1344: UndefinedMetricWarning: Precision and F-score are ill-defined and being set to 0.0 in labels with no predicted samples. Use `zero_division` parameter to control this behavior.\n",
            "  _warn_prf(average, modifier, msg_start, len(result))\n"
          ]
        }
      ]
    },
    {
      "cell_type": "markdown",
      "source": [
        "**SVM classifier**"
      ],
      "metadata": {
        "id": "oqpCtvuCDPxM"
      }
    },
    {
      "cell_type": "code",
      "source": [
        "# Training an SVM classifier on the training data\n",
        "svm_clf = SVC(kernel='linear', C=1.0)\n",
        "svm_clf.fit(X_train, y_train)\n",
        "\n",
        "# Evaluating the classifier on the testing data\n",
        "y_pred = svm_clf.predict(X_test)\n",
        "print(classification_report(y_test, y_pred))\n",
        "print(confusion_matrix(y_test, y_pred))"
      ],
      "metadata": {
        "colab": {
          "base_uri": "https://localhost:8080/"
        },
        "id": "bGs5jDXz-_YA",
        "outputId": "28eb583b-d421-4e31-f9e1-df5d0d3c08f5"
      },
      "execution_count": 15,
      "outputs": [
        {
          "output_type": "stream",
          "name": "stdout",
          "text": [
            "              precision    recall  f1-score   support\n",
            "\n",
            "           0       0.91      0.93      0.92       946\n",
            "           1       0.85      0.94      0.90      1021\n",
            "           2       0.84      0.66      0.74       296\n",
            "           3       0.91      0.85      0.88       427\n",
            "           4       0.85      0.83      0.84       397\n",
            "           5       0.83      0.65      0.73       113\n",
            "\n",
            "    accuracy                           0.88      3200\n",
            "   macro avg       0.86      0.81      0.83      3200\n",
            "weighted avg       0.88      0.88      0.87      3200\n",
            "\n",
            "[[877  25   8  17  16   3]\n",
            " [ 21 964  25   4   5   2]\n",
            " [  6  86 195   5   4   0]\n",
            " [ 25  23   1 365  12   1]\n",
            " [ 24  21   2  12 329   9]\n",
            " [  6  10   1   0  23  73]]\n"
          ]
        }
      ]
    },
    {
      "cell_type": "markdown",
      "source": [
        "**Random Forest Classifier and XGBClassifier**"
      ],
      "metadata": {
        "id": "mBbSVjLbDXNx"
      }
    },
    {
      "cell_type": "code",
      "source": [
        "# Training an RandomForest Classifier on the training data\n",
        "rf_clf = RandomForestClassifier(n_estimators=100, max_depth=5, random_state=42)\n",
        "rf_clf.fit(X_train, y_train)\n",
        "\n",
        "# Evaluating the classifier on the testing data\n",
        "y_pred = rf_clf.predict(X_test)\n",
        "print(classification_report(y_test, y_pred))\n",
        "print(confusion_matrix(y_test, y_pred))\n",
        "\n",
        "# Training an XGBoost Classifier on the training data\n",
        "gbm_clf = xgb.XGBClassifier(objective='multi:softmax', num_class=3, max_depth=6, learning_rate=0.1, n_estimators=100)\n",
        "gbm_clf.fit(X_train, y_train)\n",
        "\n",
        "# Evaluating the classifier on the testing data\n",
        "y_pred = gbm_clf.predict(X_test)\n",
        "print(classification_report(y_test, y_pred))\n",
        "print(confusion_matrix(y_test, y_pred))\n"
      ],
      "metadata": {
        "colab": {
          "base_uri": "https://localhost:8080/"
        },
        "id": "8fluHIJW_TO5",
        "outputId": "24aeaf9e-f192-4090-e6c4-c3a63e716a66"
      },
      "execution_count": 16,
      "outputs": [
        {
          "output_type": "stream",
          "name": "stderr",
          "text": [
            "/usr/local/lib/python3.10/dist-packages/sklearn/metrics/_classification.py:1344: UndefinedMetricWarning: Precision and F-score are ill-defined and being set to 0.0 in labels with no predicted samples. Use `zero_division` parameter to control this behavior.\n",
            "  _warn_prf(average, modifier, msg_start, len(result))\n",
            "/usr/local/lib/python3.10/dist-packages/sklearn/metrics/_classification.py:1344: UndefinedMetricWarning: Precision and F-score are ill-defined and being set to 0.0 in labels with no predicted samples. Use `zero_division` parameter to control this behavior.\n",
            "  _warn_prf(average, modifier, msg_start, len(result))\n",
            "/usr/local/lib/python3.10/dist-packages/sklearn/metrics/_classification.py:1344: UndefinedMetricWarning: Precision and F-score are ill-defined and being set to 0.0 in labels with no predicted samples. Use `zero_division` parameter to control this behavior.\n",
            "  _warn_prf(average, modifier, msg_start, len(result))\n"
          ]
        },
        {
          "output_type": "stream",
          "name": "stdout",
          "text": [
            "              precision    recall  f1-score   support\n",
            "\n",
            "           0       0.80      0.00      0.01       946\n",
            "           1       0.32      1.00      0.48      1021\n",
            "           2       0.00      0.00      0.00       296\n",
            "           3       0.00      0.00      0.00       427\n",
            "           4       0.00      0.00      0.00       397\n",
            "           5       0.00      0.00      0.00       113\n",
            "\n",
            "    accuracy                           0.32      3200\n",
            "   macro avg       0.19      0.17      0.08      3200\n",
            "weighted avg       0.34      0.32      0.16      3200\n",
            "\n",
            "[[   4  942    0    0    0    0]\n",
            " [   0 1021    0    0    0    0]\n",
            " [   0  296    0    0    0    0]\n",
            " [   1  426    0    0    0    0]\n",
            " [   0  397    0    0    0    0]\n",
            " [   0  113    0    0    0    0]]\n",
            "              precision    recall  f1-score   support\n",
            "\n",
            "           0       0.94      0.85      0.89       946\n",
            "           1       0.75      0.94      0.83      1021\n",
            "           2       0.82      0.70      0.76       296\n",
            "           3       0.90      0.77      0.83       427\n",
            "           4       0.90      0.74      0.82       397\n",
            "           5       0.77      0.87      0.82       113\n",
            "\n",
            "    accuracy                           0.84      3200\n",
            "   macro avg       0.85      0.81      0.82      3200\n",
            "weighted avg       0.85      0.84      0.84      3200\n",
            "\n",
            "[[801 109   6  17  10   3]\n",
            " [ 16 957  35   3   5   5]\n",
            " [  3  79 208   4   1   1]\n",
            " [ 21  66   2 329   8   1]\n",
            " [ 10  57   3  13 295  19]\n",
            " [  1   7   0   0   7  98]]\n"
          ]
        }
      ]
    },
    {
      "cell_type": "markdown",
      "source": [
        "**Hyperparameter tuning(MultinomialNB)**"
      ],
      "metadata": {
        "id": "NTr6cIYKEFF5"
      }
    },
    {
      "cell_type": "code",
      "source": [
        "#training data for hyperparameter tuning(MultinomialNB)\n",
        "nb_clf = MultinomialNB()\n",
        "param_grid = {'alpha': [0.1, 1, 10]}\n",
        "grid_search = GridSearchCV(nb_clf, param_grid, cv=3, scoring='accuracy')\n",
        "grid_search.fit(X_train, y_train)\n",
        "print(\"Best parameters for Multinomial Naive Bayes:\", grid_search.best_params_)\n",
        "y_pred = grid_search.predict(X_test)\n",
        "print(\"Classification report for Multinomial Naive Bayes:\\n\", classification_report(y_test, y_pred))\n",
        "print(\"Confusion matrix for Multinomial Naive Bayes:\\n\", confusion_matrix(y_test, y_pred))"
      ],
      "metadata": {
        "colab": {
          "base_uri": "https://localhost:8080/"
        },
        "id": "jKz3cvJI_kqS",
        "outputId": "749f22fe-669b-41a7-ff47-cfce3b69df3e"
      },
      "execution_count": 17,
      "outputs": [
        {
          "output_type": "stream",
          "name": "stdout",
          "text": [
            "Best parameters for Multinomial Naive Bayes: {'alpha': 0.1}\n",
            "Classification report for Multinomial Naive Bayes:\n",
            "               precision    recall  f1-score   support\n",
            "\n",
            "           0       0.73      0.90      0.81       946\n",
            "           1       0.70      0.93      0.80      1021\n",
            "           2       0.81      0.29      0.43       296\n",
            "           3       0.85      0.60      0.71       427\n",
            "           4       0.81      0.52      0.63       397\n",
            "           5       0.73      0.10      0.17       113\n",
            "\n",
            "    accuracy                           0.74      3200\n",
            "   macro avg       0.77      0.56      0.59      3200\n",
            "weighted avg       0.75      0.74      0.71      3200\n",
            "\n",
            "Confusion matrix for Multinomial Naive Bayes:\n",
            " [[854  61   6  16   8   1]\n",
            " [ 50 948  10   6   5   2]\n",
            " [ 42 158  86   5   5   0]\n",
            " [ 94  59   0 257  17   0]\n",
            " [ 91  78   3  18 206   1]\n",
            " [ 41  48   1   0  12  11]]\n"
          ]
        }
      ]
    },
    {
      "cell_type": "markdown",
      "source": [
        "**Hyperparameter tuning(RandomForestClassifier)**"
      ],
      "metadata": {
        "id": "SdI9k9qvEPiu"
      }
    },
    {
      "cell_type": "code",
      "source": [
        "rf_clf = RandomForestClassifier(random_state=42)\n",
        "param_grid = {'n_estimators': [10, 50, 100], 'max_depth': [5, 10, 15]}\n",
        "grid_search = GridSearchCV(rf_clf, param_grid, cv=3, scoring='accuracy')\n",
        "grid_search.fit(X_train, y_train)\n",
        "print(\"Best parameters for Random Forest:\", grid_search.best_params_)\n",
        "y_pred = grid_search.predict(X_test)\n",
        "print(\"Classification report for Random Forest:\\n\", classification_report(y_test, y_pred))\n",
        "print(\"Confusion matrix for Random Forest:\\n\", confusion_matrix(y_test, y_pred))"
      ],
      "metadata": {
        "colab": {
          "base_uri": "https://localhost:8080/"
        },
        "id": "dbwFNI67_ppP",
        "outputId": "b8e83c56-5f72-41c9-fb11-06eb99e25235"
      },
      "execution_count": 18,
      "outputs": [
        {
          "output_type": "stream",
          "name": "stdout",
          "text": [
            "Best parameters for Random Forest: {'max_depth': 15, 'n_estimators': 10}\n",
            "Classification report for Random Forest:\n",
            "               precision    recall  f1-score   support\n",
            "\n",
            "           0       0.85      0.25      0.39       946\n",
            "           1       0.36      0.98      0.53      1021\n",
            "           2       0.79      0.04      0.07       296\n",
            "           3       0.93      0.20      0.33       427\n",
            "           4       0.98      0.11      0.20       397\n",
            "           5       0.92      0.10      0.18       113\n",
            "\n",
            "    accuracy                           0.44      3200\n",
            "   macro avg       0.80      0.28      0.28      3200\n",
            "weighted avg       0.72      0.44      0.37      3200\n",
            "\n",
            "Confusion matrix for Random Forest:\n",
            " [[ 240  702    0    3    1    0]\n",
            " [  17 1001    1    1    0    1]\n",
            " [   9  275   11    1    0    0]\n",
            " [  11  331    0   85    0    0]\n",
            " [   6  343    2    1   45    0]\n",
            " [   1  101    0    0    0   11]]\n"
          ]
        }
      ]
    },
    {
      "cell_type": "markdown",
      "source": [
        "**Hyperparameter tuning(SVM Classifier)**"
      ],
      "metadata": {
        "id": "j5N33bvWEi-G"
      }
    },
    {
      "cell_type": "code",
      "source": [
        "#training data for hyperparameter tuning\n",
        "X_train_subset = X_train[:1000]\n",
        "y_train_subset = y_train[:1000]\n",
        "\n",
        "svm_clf = SVC(kernel='linear', gamma=0.1)\n",
        "\n",
        "\n",
        "param_grid = {'C': [0.1, 1, 10]}\n",
        "\n",
        "grid_search = GridSearchCV(svm_clf, param_grid, cv=2, scoring='accuracy')\n",
        "grid_search.fit(X_train_subset, y_train_subset)\n",
        "\n",
        "print(\"Best parameters for SVM:\", grid_search.best_params_)\n",
        "\n",
        "svm_best = SVC(kernel='linear', gamma=0.1, C=grid_search.best_params_['C'])\n",
        "svm_best.fit(X_train, y_train)\n",
        "\n",
        "y_pred = svm_best.predict(X_test)\n",
        "\n",
        "print(\"Classification report for SVM:\\n\", classification_report(y_test, y_pred))\n",
        "print(\"Confusion matrix for SVM:\\n\", confusion_matrix(y_test, y_pred))"
      ],
      "metadata": {
        "colab": {
          "base_uri": "https://localhost:8080/"
        },
        "id": "utUtX3xN_2ix",
        "outputId": "83a62c77-8ee9-4be0-9261-4e61266f305d"
      },
      "execution_count": 19,
      "outputs": [
        {
          "output_type": "stream",
          "name": "stdout",
          "text": [
            "Best parameters for SVM: {'C': 10}\n",
            "Classification report for SVM:\n",
            "               precision    recall  f1-score   support\n",
            "\n",
            "           0       0.88      0.91      0.90       946\n",
            "           1       0.85      0.91      0.88      1021\n",
            "           2       0.80      0.69      0.74       296\n",
            "           3       0.88      0.85      0.86       427\n",
            "           4       0.84      0.79      0.82       397\n",
            "           5       0.75      0.61      0.67       113\n",
            "\n",
            "    accuracy                           0.86      3200\n",
            "   macro avg       0.84      0.79      0.81      3200\n",
            "weighted avg       0.86      0.86      0.85      3200\n",
            "\n",
            "Confusion matrix for SVM:\n",
            " [[860  39   9  21  13   4]\n",
            " [ 40 933  34   5   6   3]\n",
            " [ 11  74 204   3   4   0]\n",
            " [ 29  18   3 361  14   2]\n",
            " [ 23  25   3  18 314  14]\n",
            " [  9  12   1   0  22  69]]\n"
          ]
        }
      ]
    },
    {
      "cell_type": "markdown",
      "source": [
        "**Hyperparameter tuning(XGBOOST Classifier)**"
      ],
      "metadata": {
        "id": "YQZR_NqdE1ZR"
      }
    },
    {
      "cell_type": "code",
      "source": [
        "X_train_subset = X_train[:1000]\n",
        "y_train_subset = y_train[:1000]\n",
        "\n",
        "xgb_clf = xgb.XGBClassifier(objective='multi:softmax', num_class=3, max_depth=10, random_state=42)\n",
        "\n",
        "param_dist = {'learning_rate': [0.1, 0.01, 0.001], 'n_estimators': [10, 50, 100]}\n",
        "\n",
        "random_search = RandomizedSearchCV(xgb_clf, param_dist, cv=2, scoring='accuracy', n_iter=5)\n",
        "random_search.fit(X_train_subset, y_train_subset)\n",
        "\n",
        "print(\"Best parameters for XGBoost:\", random_search.best_params_)\n",
        "\n",
        "xgb_best = xgb.XGBClassifier(objective='multi:softmax', num_class=3, max_depth=10, learning_rate=random_search.best_params_['learning_rate'], n_estimators=random_search.best_params_['n_estimators'], random_state=42)\n",
        "xgb_best.fit(X_train, y_train)\n",
        "\n",
        "y_pred = xgb_best.predict(X_test)\n",
        "\n",
        "print(\"Classification report for XGBoost:\\n\", classification_report(y_test, y_pred))\n",
        "print(\"Confusion matrix for XGBoost:\\n\", confusion_matrix(y_test, y_pred))"
      ],
      "metadata": {
        "colab": {
          "base_uri": "https://localhost:8080/"
        },
        "id": "FSADNy2UAGj5",
        "outputId": "e3bcd0aa-ac03-4b68-b268-03d1b589a749"
      },
      "execution_count": 20,
      "outputs": [
        {
          "output_type": "stream",
          "name": "stdout",
          "text": [
            "Best parameters for XGBoost: {'n_estimators': 50, 'learning_rate': 0.1}\n",
            "Classification report for XGBoost:\n",
            "               precision    recall  f1-score   support\n",
            "\n",
            "           0       0.94      0.83      0.88       946\n",
            "           1       0.73      0.93      0.82      1021\n",
            "           2       0.81      0.70      0.75       296\n",
            "           3       0.90      0.74      0.81       427\n",
            "           4       0.88      0.73      0.80       397\n",
            "           5       0.74      0.85      0.79       113\n",
            "\n",
            "    accuracy                           0.83      3200\n",
            "   macro avg       0.83      0.80      0.81      3200\n",
            "weighted avg       0.84      0.83      0.83      3200\n",
            "\n",
            "Confusion matrix for XGBoost:\n",
            " [[782 125   7  15  12   5]\n",
            " [ 16 954  36   4   6   5]\n",
            " [  3  80 207   4   1   1]\n",
            " [ 24  76   2 314   9   2]\n",
            " [ 11  64   3  10 288  21]\n",
            " [  0   6   0   0  11  96]]\n"
          ]
        }
      ]
    },
    {
      "cell_type": "markdown",
      "source": [
        "**Final Model Selection**"
      ],
      "metadata": {
        "id": "KBppDSptFGnI"
      }
    },
    {
      "cell_type": "code",
      "source": [
        "X_train, X_val, y_train, y_val = train_test_split(X_train, y_train, test_size=0.2, random_state=42)\n",
        "def evaluate_final_model(model, X_train, y_train, X_test, y_test, X_val, y_val):\n",
        "    y_train_pred = model.predict(X_train)\n",
        "    y_test_pred = model.predict(X_test)\n",
        "    y_val_pred = model.predict(X_val)\n",
        "    print(model)\n",
        "    print(\"Final Model Performance on Training Set:\")\n",
        "    print(classification_report(y_train, y_train_pred))\n",
        "    print(\"Final Model Performance on Test Set:\")\n",
        "    print(classification_report(y_test, y_test_pred))\n",
        "    print(\"Final Model Performance on Validation Set:\")\n",
        "    print(classification_report(y_val, y_val_pred))\n",
        "\n",
        "nb_clf.fit(X_train, y_train)\n",
        "\n",
        "svm_clf.fit(X_train, y_train)\n",
        "\n",
        "# Choosing the best performing model\n",
        "evaluate_final_model(xgb_best, X_train, y_train, X_test, y_test, X_val, y_val)\n",
        "evaluate_final_model(svm_clf, X_train, y_train, X_test, y_test, X_val, y_val)"
      ],
      "metadata": {
        "colab": {
          "base_uri": "https://localhost:8080/"
        },
        "id": "8pV3Vc1bA-4i",
        "outputId": "b9019f78-4f48-4b51-e894-f9a3dda47a8b"
      },
      "execution_count": 21,
      "outputs": [
        {
          "output_type": "stream",
          "name": "stdout",
          "text": [
            "XGBClassifier(base_score=None, booster=None, callbacks=None,\n",
            "              colsample_bylevel=None, colsample_bynode=None,\n",
            "              colsample_bytree=None, device=None, early_stopping_rounds=None,\n",
            "              enable_categorical=False, eval_metric=None, feature_types=None,\n",
            "              gamma=None, grow_policy=None, importance_type=None,\n",
            "              interaction_constraints=None, learning_rate=0.1, max_bin=None,\n",
            "              max_cat_threshold=None, max_cat_to_onehot=None,\n",
            "              max_delta_step=None, max_depth=10, max_leaves=None,\n",
            "              min_child_weight=None, missing=nan, monotone_constraints=None,\n",
            "              multi_strategy=None, n_estimators=50, n_jobs=None, num_class=3,\n",
            "              num_parallel_tree=None, ...)\n",
            "Final Model Performance on Training Set:\n",
            "              precision    recall  f1-score   support\n",
            "\n",
            "           0       0.97      0.91      0.94      2991\n",
            "           1       0.84      0.99      0.91      3465\n",
            "           2       0.96      0.88      0.92       810\n",
            "           3       0.99      0.81      0.89      1401\n",
            "           4       0.98      0.85      0.91      1206\n",
            "           5       0.90      0.97      0.93       367\n",
            "\n",
            "    accuracy                           0.92     10240\n",
            "   macro avg       0.94      0.90      0.92     10240\n",
            "weighted avg       0.93      0.92      0.92     10240\n",
            "\n",
            "Final Model Performance on Test Set:\n",
            "              precision    recall  f1-score   support\n",
            "\n",
            "           0       0.94      0.83      0.88       946\n",
            "           1       0.73      0.93      0.82      1021\n",
            "           2       0.81      0.70      0.75       296\n",
            "           3       0.90      0.74      0.81       427\n",
            "           4       0.88      0.73      0.80       397\n",
            "           5       0.74      0.85      0.79       113\n",
            "\n",
            "    accuracy                           0.83      3200\n",
            "   macro avg       0.83      0.80      0.81      3200\n",
            "weighted avg       0.84      0.83      0.83      3200\n",
            "\n",
            "Final Model Performance on Validation Set:\n",
            "              precision    recall  f1-score   support\n",
            "\n",
            "           0       0.97      0.90      0.93       729\n",
            "           1       0.83      0.99      0.90       876\n",
            "           2       0.97      0.88      0.92       198\n",
            "           3       0.98      0.84      0.91       331\n",
            "           4       0.99      0.84      0.91       334\n",
            "           5       0.93      0.98      0.95        92\n",
            "\n",
            "    accuracy                           0.92      2560\n",
            "   macro avg       0.94      0.90      0.92      2560\n",
            "weighted avg       0.92      0.92      0.92      2560\n",
            "\n",
            "SVC(gamma=0.1, kernel='linear')\n",
            "Final Model Performance on Training Set:\n",
            "              precision    recall  f1-score   support\n",
            "\n",
            "           0       0.97      0.98      0.98      2991\n",
            "           1       0.95      0.99      0.97      3465\n",
            "           2       0.98      0.86      0.91       810\n",
            "           3       0.97      0.95      0.96      1401\n",
            "           4       0.95      0.96      0.96      1206\n",
            "           5       0.97      0.87      0.91       367\n",
            "\n",
            "    accuracy                           0.96     10240\n",
            "   macro avg       0.96      0.93      0.95     10240\n",
            "weighted avg       0.96      0.96      0.96     10240\n",
            "\n",
            "Final Model Performance on Test Set:\n",
            "              precision    recall  f1-score   support\n",
            "\n",
            "           0       0.91      0.92      0.92       946\n",
            "           1       0.83      0.95      0.89      1021\n",
            "           2       0.87      0.63      0.73       296\n",
            "           3       0.90      0.85      0.87       427\n",
            "           4       0.83      0.79      0.81       397\n",
            "           5       0.82      0.58      0.68       113\n",
            "\n",
            "    accuracy                           0.87      3200\n",
            "   macro avg       0.86      0.79      0.82      3200\n",
            "weighted avg       0.87      0.87      0.86      3200\n",
            "\n",
            "Final Model Performance on Validation Set:\n",
            "              precision    recall  f1-score   support\n",
            "\n",
            "           0       0.88      0.91      0.89       729\n",
            "           1       0.85      0.95      0.89       876\n",
            "           2       0.89      0.62      0.73       198\n",
            "           3       0.87      0.84      0.86       331\n",
            "           4       0.86      0.78      0.82       334\n",
            "           5       0.83      0.63      0.72        92\n",
            "\n",
            "    accuracy                           0.86      2560\n",
            "   macro avg       0.86      0.79      0.82      2560\n",
            "weighted avg       0.86      0.86      0.86      2560\n",
            "\n"
          ]
        }
      ]
    },
    {
      "cell_type": "markdown",
      "source": [
        "**Plotting**"
      ],
      "metadata": {
        "id": "yhCY5gVWFQPZ"
      }
    },
    {
      "cell_type": "code",
      "source": [
        "def plot(model, title, y_true, X_true):\n",
        "    y_pred = model.predict(X_true)\n",
        "    cm = confusion_matrix(y_true, y_pred)\n",
        "    plt.figure(figsize=(8, 6))\n",
        "    sns.heatmap(cm, annot=True, fmt='d', cmap='Blues')\n",
        "    plt.title(title)\n",
        "    plt.xlabel('Predicted')\n",
        "    plt.ylabel('Actual')\n",
        "    plt.show()\n",
        "\n",
        "plot(xgb_best, \"XGBoost Confusion Matrix on Train Data\", y_train, X_train)\n",
        "plot(xgb_best, \"XGBoost Regression Confusion Matrix on Test Data\", y_test, X_test)\n",
        "\n",
        "plot(svm_clf, \"SVM Confusion Matrix on Train Data\", y_train, X_train)\n",
        "plot(svm_clf, \"SVM Regression Confusion Matrix on Test Data\", y_test, X_test)"
      ],
      "metadata": {
        "colab": {
          "base_uri": "https://localhost:8080/",
          "height": 1000
        },
        "id": "zSs9HZBEBPL3",
        "outputId": "0fc5deec-7b40-4ee5-a91f-182a75c87321"
      },
      "execution_count": 22,
      "outputs": [
        {
          "output_type": "display_data",
          "data": {
            "text/plain": [
              "<Figure size 800x600 with 2 Axes>"
            ],
            "image/png": "[encoded data removed]"
          },
          "metadata": {}
        },
        {
          "output_type": "display_data",
          "data": {
            "text/plain": [
              "<Figure size 800x600 with 2 Axes>"
            ],
            "image/png": "[encoded data removed]"
          },
          "metadata": {}
        },
        {
          "output_type": "display_data",
          "data": {
            "text/plain": [
              "<Figure size 800x600 with 2 Axes>"
            ],
            "image/png": "[encoded data removed]"
          },
          "metadata": {}
        },
        {
          "output_type": "display_data",
          "data": {
            "text/plain": [
              "<Figure size 800x600 with 2 Axes>"
            ],
            "image/png": "[encoded data removed]"
          },
          "metadata": {}
        }
      ]
    }
  ]
}