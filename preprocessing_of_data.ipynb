{
 "cells": [
  {
   "cell_type": "markdown",
   "id": "c16d7b07",
   "metadata": {},
   "source": [
    "# Importing the required modules"
   ]
  },
  {
   "cell_type": "code",
   "execution_count": 1,
   "id": "1df0a401",
   "metadata": {},
   "outputs": [],
   "source": [
    "import numpy as np\n",
    "import pandas as pd\n",
    "import re\n",
    "import nltk\n",
    "from nltk.corpus import stopwords\n",
    "from nltk.stem import PorterStemmer\n",
    "from nltk.tokenize import word_tokenize \n",
    "from nltk.stem import WordNetLemmatizer"
   ]
  },
  {
   "cell_type": "markdown",
   "id": "470651c6",
   "metadata": {},
   "source": [
    "# Getting the file"
   ]
  },
  {
   "cell_type": "code",
   "execution_count": 2,
   "id": "a879f6e4",
   "metadata": {},
   "outputs": [
    {
     "data": {
      "text/html": [
       "<div>\n",
       "<style scoped>\n",
       "    .dataframe tbody tr th:only-of-type {\n",
       "        vertical-align: middle;\n",
       "    }\n",
       "\n",
       "    .dataframe tbody tr th {\n",
       "        vertical-align: top;\n",
       "    }\n",
       "\n",
       "    .dataframe thead th {\n",
       "        text-align: right;\n",
       "    }\n",
       "</style>\n",
       "<table border=\"1\" class=\"dataframe\">\n",
       "  <thead>\n",
       "    <tr style=\"text-align: right;\">\n",
       "      <th></th>\n",
       "      <th>reviewId</th>\n",
       "      <th>userName</th>\n",
       "      <th>userImage</th>\n",
       "      <th>content</th>\n",
       "      <th>thumbsUpCount</th>\n",
       "      <th>reviewCreatedVersion</th>\n",
       "      <th>at</th>\n",
       "      <th>replyContent</th>\n",
       "      <th>repliedAt</th>\n",
       "      <th>appVersion</th>\n",
       "      <th>sortOrder</th>\n",
       "      <th>appId</th>\n",
       "    </tr>\n",
       "  </thead>\n",
       "  <tbody>\n",
       "    <tr>\n",
       "      <th>0</th>\n",
       "      <td>0197c118-5c6f-4a7b-894c-970023d1a350</td>\n",
       "      <td>Mar Zur</td>\n",
       "      <td>https://play-lh.googleusercontent.com/a/ACg8oc...</td>\n",
       "      <td>I have the same recurring tasks to do every da...</td>\n",
       "      <td>11</td>\n",
       "      <td>4.16.6.2</td>\n",
       "      <td>22-07-2020 13:13</td>\n",
       "      <td>Our team will be happy to look into it for you...</td>\n",
       "      <td>23-07-2020 16:32</td>\n",
       "      <td>4.16.6.2</td>\n",
       "      <td>most_relevant</td>\n",
       "      <td>com.anydo</td>\n",
       "    </tr>\n",
       "    <tr>\n",
       "      <th>1</th>\n",
       "      <td>94868fb5-a21d-4ef9-ab85-81b2ed3d0785</td>\n",
       "      <td>Devin Rivera</td>\n",
       "      <td>https://play-lh.googleusercontent.com/a-/ALV-U...</td>\n",
       "      <td>Instead of shopping around, I downloaded Any.d...</td>\n",
       "      <td>8</td>\n",
       "      <td>NaN</td>\n",
       "      <td>08-12-2020 06:24</td>\n",
       "      <td>We are not aware of any issues with randomized...</td>\n",
       "      <td>10-12-2020 09:38</td>\n",
       "      <td>NaN</td>\n",
       "      <td>most_relevant</td>\n",
       "      <td>com.anydo</td>\n",
       "    </tr>\n",
       "  </tbody>\n",
       "</table>\n",
       "</div>"
      ],
      "text/plain": [
       "                               reviewId      userName  \\\n",
       "0  0197c118-5c6f-4a7b-894c-970023d1a350       Mar Zur   \n",
       "1  94868fb5-a21d-4ef9-ab85-81b2ed3d0785  Devin Rivera   \n",
       "\n",
       "                                           userImage  \\\n",
       "0  https://play-lh.googleusercontent.com/a/ACg8oc...   \n",
       "1  https://play-lh.googleusercontent.com/a-/ALV-U...   \n",
       "\n",
       "                                             content  thumbsUpCount  \\\n",
       "0  I have the same recurring tasks to do every da...             11   \n",
       "1  Instead of shopping around, I downloaded Any.d...              8   \n",
       "\n",
       "  reviewCreatedVersion                at  \\\n",
       "0             4.16.6.2  22-07-2020 13:13   \n",
       "1                  NaN  08-12-2020 06:24   \n",
       "\n",
       "                                        replyContent         repliedAt  \\\n",
       "0  Our team will be happy to look into it for you...  23-07-2020 16:32   \n",
       "1  We are not aware of any issues with randomized...  10-12-2020 09:38   \n",
       "\n",
       "  appVersion      sortOrder      appId  \n",
       "0   4.16.6.2  most_relevant  com.anydo  \n",
       "1        NaN  most_relevant  com.anydo  "
      ]
     },
     "execution_count": 2,
     "metadata": {},
     "output_type": "execute_result"
    }
   ],
   "source": [
    "df = pd.read_csv(r'F:\\anu\\infosys_internship\\reviews.csv')\n",
    "\n",
    "df.head(2)"
   ]
  },
  {
   "cell_type": "code",
   "execution_count": 3,
   "id": "c6a86fb9",
   "metadata": {},
   "outputs": [
    {
     "name": "stdout",
     "output_type": "stream",
     "text": [
      "(16787, 12)\n",
      "<class 'pandas.core.frame.DataFrame'>\n",
      "RangeIndex: 16787 entries, 0 to 16786\n",
      "Data columns (total 12 columns):\n",
      " #   Column                Non-Null Count  Dtype \n",
      "---  ------                --------------  ----- \n",
      " 0   reviewId              16787 non-null  object\n",
      " 1   userName              16787 non-null  object\n",
      " 2   userImage             16787 non-null  object\n",
      " 3   content               16787 non-null  object\n",
      " 4   thumbsUpCount         16787 non-null  int64 \n",
      " 5   reviewCreatedVersion  14430 non-null  object\n",
      " 6   at                    16787 non-null  object\n",
      " 7   replyContent          9168 non-null   object\n",
      " 8   repliedAt             9168 non-null   object\n",
      " 9   appVersion            14430 non-null  object\n",
      " 10  sortOrder             16787 non-null  object\n",
      " 11  appId                 16787 non-null  object\n",
      "dtypes: int64(1), object(11)\n",
      "memory usage: 1.5+ MB\n",
      "None\n"
     ]
    }
   ],
   "source": [
    "print(df.shape)\n",
    "\n",
    "print(df.info())"
   ]
  },
  {
   "cell_type": "markdown",
   "id": "ce130799",
   "metadata": {},
   "source": [
    "# Converting into lower case"
   ]
  },
  {
   "cell_type": "code",
   "execution_count": 4,
   "id": "7ec6bc8e",
   "metadata": {},
   "outputs": [],
   "source": [
    "df['content']=df['content'].str.lower()"
   ]
  },
  {
   "cell_type": "markdown",
   "id": "ee6b5d90",
   "metadata": {},
   "source": [
    "# Removing links"
   ]
  },
  {
   "cell_type": "code",
   "execution_count": 5,
   "id": "6398ccdd",
   "metadata": {},
   "outputs": [],
   "source": [
    "df['content'] = df['content'].fillna('')\n",
    "\n",
    "df['content'] = df['content'].apply(lambda x: re.sub(r\"http\\S+\", \"\", x))"
   ]
  },
  {
   "cell_type": "markdown",
   "id": "bb763dfa",
   "metadata": {},
   "source": [
    "# Remove next lines"
   ]
  },
  {
   "cell_type": "code",
   "execution_count": 6,
   "id": "ccd8513a",
   "metadata": {},
   "outputs": [],
   "source": [
    " df['content'] = df['content'].str.replace('\\n',' ')"
   ]
  },
  {
   "cell_type": "markdown",
   "id": "a648e4ea",
   "metadata": {},
   "source": [
    "# Removing words containing numbers"
   ]
  },
  {
   "cell_type": "code",
   "execution_count": 7,
   "id": "bf402a35",
   "metadata": {},
   "outputs": [],
   "source": [
    "pattern = r'\\b\\w*\\d\\w*\\b'\n",
    "\n",
    "def remove_words_containing_numbers(text):\n",
    "    return re.sub(pattern, '', text)\n",
    "\n",
    "df['content'] = df['content'].apply(remove_words_containing_numbers)"
   ]
  },
  {
   "cell_type": "markdown",
   "id": "e8064763",
   "metadata": {},
   "source": [
    "# Removing extra spaces"
   ]
  },
  {
   "cell_type": "code",
   "execution_count": 8,
   "id": "5f04b8e6",
   "metadata": {},
   "outputs": [],
   "source": [
    "df['content'] = df['content'].apply(lambda x: ' '.join(x.split()))"
   ]
  },
  {
   "cell_type": "markdown",
   "id": "45dde819",
   "metadata": {},
   "source": [
    "# Removing special characters "
   ]
  },
  {
   "cell_type": "code",
   "execution_count": 9,
   "id": "a89eb4fd",
   "metadata": {},
   "outputs": [],
   "source": [
    "df['content'] = df['content'].apply(lambda x: re.sub('[^A-Za-z0-9]+', '', x))"
   ]
  },
  {
   "cell_type": "markdown",
   "id": "3f449ec0",
   "metadata": {},
   "source": [
    "# Removing stop words"
   ]
  },
  {
   "cell_type": "code",
   "execution_count": 10,
   "id": "aa0e502b",
   "metadata": {},
   "outputs": [],
   "source": [
    "# applying the process of removing the stop words\n",
    "stop_words = set(stopwords.words('english'))\n",
    "\n",
    "def removing_stopwords(text):\n",
    "    tokens = word_tokenize(text)\n",
    "    text = [word for word in tokens if word.lower() not in stop_words]\n",
    "    return ' '.join(text)\n",
    "\n",
    "df['content'] = df['content'].apply(removing_stopwords)"
   ]
  },
  {
   "cell_type": "markdown",
   "id": "1abbfcae",
   "metadata": {},
   "source": [
    "# Stemming process"
   ]
  },
  {
   "cell_type": "code",
   "execution_count": 11,
   "id": "e772a564",
   "metadata": {},
   "outputs": [],
   "source": [
    "stemmer = PorterStemmer()\n",
    "# applying the process\n",
    "\n",
    "def stemming_process(word):\n",
    "    return stemmer.stem(word)\n",
    "\n",
    "#calling the function\n",
    "df['content'] = df['content'].apply(lambda x: ' '.join(stemming_process(word) for word in x.split()))"
   ]
  },
  {
   "cell_type": "markdown",
   "id": "6872d316",
   "metadata": {},
   "source": [
    "# Lemmatization"
   ]
  },
  {
   "cell_type": "code",
   "execution_count": 12,
   "id": "1dca4227",
   "metadata": {},
   "outputs": [
    {
     "name": "stderr",
     "output_type": "stream",
     "text": [
      "[nltk_data] Downloading package wordnet to\n",
      "[nltk_data]     C:\\Users\\DELL\\AppData\\Roaming\\nltk_data...\n",
      "[nltk_data]   Package wordnet is already up-to-date!\n",
      "[nltk_data] Downloading package omw-1.4 to\n",
      "[nltk_data]     C:\\Users\\DELL\\AppData\\Roaming\\nltk_data...\n",
      "[nltk_data]   Package omw-1.4 is already up-to-date!\n"
     ]
    },
    {
     "data": {
      "text/plain": [
       "True"
      ]
     },
     "execution_count": 12,
     "metadata": {},
     "output_type": "execute_result"
    }
   ],
   "source": [
    "nltk.download('wordnet')\n",
    "nltk.download('omw-1.4')"
   ]
  },
  {
   "cell_type": "code",
   "execution_count": 13,
   "id": "b894e2c1",
   "metadata": {},
   "outputs": [],
   "source": [
    "lemmatizer = WordNetLemmatizer()\n",
    "df['content'] = df['content'].apply(lambda x: ' '.join([lemmatizer.lemmatize(word) for word in x.split()]))"
   ]
  },
  {
   "cell_type": "code",
   "execution_count": 14,
   "id": "92223be9",
   "metadata": {},
   "outputs": [
    {
     "data": {
      "text/html": [
       "<div>\n",
       "<style scoped>\n",
       "    .dataframe tbody tr th:only-of-type {\n",
       "        vertical-align: middle;\n",
       "    }\n",
       "\n",
       "    .dataframe tbody tr th {\n",
       "        vertical-align: top;\n",
       "    }\n",
       "\n",
       "    .dataframe thead th {\n",
       "        text-align: right;\n",
       "    }\n",
       "</style>\n",
       "<table border=\"1\" class=\"dataframe\">\n",
       "  <thead>\n",
       "    <tr style=\"text-align: right;\">\n",
       "      <th></th>\n",
       "      <th>reviewId</th>\n",
       "      <th>userName</th>\n",
       "      <th>userImage</th>\n",
       "      <th>content</th>\n",
       "      <th>thumbsUpCount</th>\n",
       "      <th>reviewCreatedVersion</th>\n",
       "      <th>at</th>\n",
       "      <th>replyContent</th>\n",
       "      <th>repliedAt</th>\n",
       "      <th>appVersion</th>\n",
       "      <th>sortOrder</th>\n",
       "      <th>appId</th>\n",
       "    </tr>\n",
       "  </thead>\n",
       "  <tbody>\n",
       "    <tr>\n",
       "      <th>0</th>\n",
       "      <td>0197c118-5c6f-4a7b-894c-970023d1a350</td>\n",
       "      <td>Mar Zur</td>\n",
       "      <td>https://play-lh.googleusercontent.com/a/ACg8oc...</td>\n",
       "      <td>ihavethesamerecurringtaskstodoeverydayineedato...</td>\n",
       "      <td>11</td>\n",
       "      <td>4.16.6.2</td>\n",
       "      <td>22-07-2020 13:13</td>\n",
       "      <td>Our team will be happy to look into it for you...</td>\n",
       "      <td>23-07-2020 16:32</td>\n",
       "      <td>4.16.6.2</td>\n",
       "      <td>most_relevant</td>\n",
       "      <td>com.anydo</td>\n",
       "    </tr>\n",
       "    <tr>\n",
       "      <th>1</th>\n",
       "      <td>94868fb5-a21d-4ef9-ab85-81b2ed3d0785</td>\n",
       "      <td>Devin Rivera</td>\n",
       "      <td>https://play-lh.googleusercontent.com/a-/ALV-U...</td>\n",
       "      <td>insteadofshoppingaroundidownloadedanydobecause...</td>\n",
       "      <td>8</td>\n",
       "      <td>NaN</td>\n",
       "      <td>08-12-2020 06:24</td>\n",
       "      <td>We are not aware of any issues with randomized...</td>\n",
       "      <td>10-12-2020 09:38</td>\n",
       "      <td>NaN</td>\n",
       "      <td>most_relevant</td>\n",
       "      <td>com.anydo</td>\n",
       "    </tr>\n",
       "    <tr>\n",
       "      <th>2</th>\n",
       "      <td>825da34e-f65d-4ef3-991d-02d5291820d6</td>\n",
       "      <td>Heidi Kinsley</td>\n",
       "      <td>https://play-lh.googleusercontent.com/a/ACg8oc...</td>\n",
       "      <td>whydoeseveryonceinawhileoutofthebluetheappasks...</td>\n",
       "      <td>6</td>\n",
       "      <td>5.11.1.2</td>\n",
       "      <td>09-07-2021 13:51</td>\n",
       "      <td>Sorry to hear that! It sounds like you might h...</td>\n",
       "      <td>11-07-2021 11:16</td>\n",
       "      <td>5.11.1.2</td>\n",
       "      <td>most_relevant</td>\n",
       "      <td>com.anydo</td>\n",
       "    </tr>\n",
       "  </tbody>\n",
       "</table>\n",
       "</div>"
      ],
      "text/plain": [
       "                               reviewId       userName  \\\n",
       "0  0197c118-5c6f-4a7b-894c-970023d1a350        Mar Zur   \n",
       "1  94868fb5-a21d-4ef9-ab85-81b2ed3d0785   Devin Rivera   \n",
       "2  825da34e-f65d-4ef3-991d-02d5291820d6  Heidi Kinsley   \n",
       "\n",
       "                                           userImage  \\\n",
       "0  https://play-lh.googleusercontent.com/a/ACg8oc...   \n",
       "1  https://play-lh.googleusercontent.com/a-/ALV-U...   \n",
       "2  https://play-lh.googleusercontent.com/a/ACg8oc...   \n",
       "\n",
       "                                             content  thumbsUpCount  \\\n",
       "0  ihavethesamerecurringtaskstodoeverydayineedato...             11   \n",
       "1  insteadofshoppingaroundidownloadedanydobecause...              8   \n",
       "2  whydoeseveryonceinawhileoutofthebluetheappasks...              6   \n",
       "\n",
       "  reviewCreatedVersion                at  \\\n",
       "0             4.16.6.2  22-07-2020 13:13   \n",
       "1                  NaN  08-12-2020 06:24   \n",
       "2             5.11.1.2  09-07-2021 13:51   \n",
       "\n",
       "                                        replyContent         repliedAt  \\\n",
       "0  Our team will be happy to look into it for you...  23-07-2020 16:32   \n",
       "1  We are not aware of any issues with randomized...  10-12-2020 09:38   \n",
       "2  Sorry to hear that! It sounds like you might h...  11-07-2021 11:16   \n",
       "\n",
       "  appVersion      sortOrder      appId  \n",
       "0   4.16.6.2  most_relevant  com.anydo  \n",
       "1        NaN  most_relevant  com.anydo  \n",
       "2   5.11.1.2  most_relevant  com.anydo  "
      ]
     },
     "execution_count": 14,
     "metadata": {},
     "output_type": "execute_result"
    }
   ],
   "source": [
    "df.head(3)"
   ]
  }
 ],
 "metadata": {
  "kernelspec": {
   "display_name": "Python 3 (ipykernel)",
   "language": "python",
   "name": "python3"
  },
  "language_info": {
   "codemirror_mode": {
    "name": "ipython",
    "version": 3
   },
   "file_extension": ".py",
   "mimetype": "text/x-python",
   "name": "python",
   "nbconvert_exporter": "python",
   "pygments_lexer": "ipython3",
   "version": "3.9.13"
  }
 },
 "nbformat": 4,
 "nbformat_minor": 5
}
