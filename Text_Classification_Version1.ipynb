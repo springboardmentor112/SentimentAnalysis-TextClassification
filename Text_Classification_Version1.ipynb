{
 "cells": [
  {
   "cell_type": "markdown",
   "id": "bcdceefd",
   "metadata": {},
   "source": [
    "# Text Classification "
   ]
  },
  {
   "cell_type": "markdown",
   "id": "0f2b5891",
   "metadata": {},
   "source": [
    "Project Flow\n",
    "\n",
    "1.Data\n",
    "- Text data and the emotion associated with it.\n",
    "\n",
    "2.Data Preprocessing\n",
    "- Lower Case\n",
    "- Remove links\n",
    "- Remove next lines (\\n)\n",
    "- Words containing numbers\n",
    "- Extra spaces\n",
    "- Special characters\n",
    "- Removal of stop words\n",
    "- Stemming\n",
    "- Lemmatization\n",
    "\n",
    "3.Vectorization\n",
    "\n",
    "4.Splitting the dataset\n",
    "\n",
    "5.Handling class imblance\n",
    "\n",
    "6.Modeling\n",
    "\n",
    "7.Evaluation"
   ]
  },
  {
   "cell_type": "markdown",
   "id": "08cdb312",
   "metadata": {},
   "source": [
    "## Importing data"
   ]
  },
  {
   "cell_type": "code",
   "execution_count": 1,
   "id": "64ee48ca",
   "metadata": {},
   "outputs": [],
   "source": [
    "import pandas as pd\n",
    "import matplotlib.pyplot as plt"
   ]
  },
  {
   "cell_type": "code",
   "execution_count": 2,
   "id": "f5a5d601",
   "metadata": {},
   "outputs": [
    {
     "data": {
      "text/html": [
       "<div>\n",
       "<style scoped>\n",
       "    .dataframe tbody tr th:only-of-type {\n",
       "        vertical-align: middle;\n",
       "    }\n",
       "\n",
       "    .dataframe tbody tr th {\n",
       "        vertical-align: top;\n",
       "    }\n",
       "\n",
       "    .dataframe thead th {\n",
       "        text-align: right;\n",
       "    }\n",
       "</style>\n",
       "<table border=\"1\" class=\"dataframe\">\n",
       "  <thead>\n",
       "    <tr style=\"text-align: right;\">\n",
       "      <th></th>\n",
       "      <th>text</th>\n",
       "      <th>label</th>\n",
       "    </tr>\n",
       "  </thead>\n",
       "  <tbody>\n",
       "    <tr>\n",
       "      <th>0</th>\n",
       "      <td>i didnt feel humiliated</td>\n",
       "      <td>0</td>\n",
       "    </tr>\n",
       "    <tr>\n",
       "      <th>1</th>\n",
       "      <td>i can go from feeling so hopeless to so damned...</td>\n",
       "      <td>0</td>\n",
       "    </tr>\n",
       "    <tr>\n",
       "      <th>2</th>\n",
       "      <td>im grabbing a minute to post i feel greedy wrong</td>\n",
       "      <td>3</td>\n",
       "    </tr>\n",
       "    <tr>\n",
       "      <th>3</th>\n",
       "      <td>i am ever feeling nostalgic about the fireplac...</td>\n",
       "      <td>2</td>\n",
       "    </tr>\n",
       "    <tr>\n",
       "      <th>4</th>\n",
       "      <td>i am feeling grouchy</td>\n",
       "      <td>3</td>\n",
       "    </tr>\n",
       "  </tbody>\n",
       "</table>\n",
       "</div>"
      ],
      "text/plain": [
       "                                                text  label\n",
       "0                            i didnt feel humiliated      0\n",
       "1  i can go from feeling so hopeless to so damned...      0\n",
       "2   im grabbing a minute to post i feel greedy wrong      3\n",
       "3  i am ever feeling nostalgic about the fireplac...      2\n",
       "4                               i am feeling grouchy      3"
      ]
     },
     "execution_count": 2,
     "metadata": {},
     "output_type": "execute_result"
    }
   ],
   "source": [
    "df =pd.read_csv(\"Emotions_training.csv\")\n",
    "\n",
    "# Displaying the DataFrame\n",
    "df.head()"
   ]
  },
  {
   "cell_type": "code",
   "execution_count": 3,
   "id": "d28e8c90",
   "metadata": {},
   "outputs": [
    {
     "data": {
      "text/plain": [
       "0                              i didnt feel humiliated\n",
       "1    i can go from feeling so hopeless to so damned...\n",
       "2     im grabbing a minute to post i feel greedy wrong\n",
       "3    i am ever feeling nostalgic about the fireplac...\n",
       "4                                 i am feeling grouchy\n",
       "Name: text, dtype: object"
      ]
     },
     "execution_count": 3,
     "metadata": {},
     "output_type": "execute_result"
    }
   ],
   "source": [
    "text = df[\"text\"]\n",
    "text.head()"
   ]
  },
  {
   "cell_type": "code",
   "execution_count": 4,
   "id": "2edcdc56",
   "metadata": {
    "scrolled": false
   },
   "outputs": [
    {
     "data": {
      "text/plain": [
       "0    0\n",
       "1    0\n",
       "2    3\n",
       "3    2\n",
       "4    3\n",
       "Name: label, dtype: int64"
      ]
     },
     "execution_count": 4,
     "metadata": {},
     "output_type": "execute_result"
    }
   ],
   "source": [
    "label= df[\"label\"]\n",
    "label.head()"
   ]
  },
  {
   "cell_type": "code",
   "execution_count": 5,
   "id": "11ae3bed",
   "metadata": {},
   "outputs": [],
   "source": [
    "label_dict= {0:'sadness', 1:'joy', 2:'love', 3:'anger', 4:'fear', 5:'surprise'}"
   ]
  },
  {
   "cell_type": "markdown",
   "id": "41d07d8c",
   "metadata": {},
   "source": [
    "## Data Preprocessing"
   ]
  },
  {
   "cell_type": "markdown",
   "id": "c48c7141",
   "metadata": {},
   "source": [
    "### Converting to lowercase"
   ]
  },
  {
   "cell_type": "code",
   "execution_count": 6,
   "id": "a69062cc",
   "metadata": {},
   "outputs": [],
   "source": [
    "# Defining the function to convert text to lowercase\n",
    "def to_lowercase(text_series):\n",
    "    return text_series.str.lower()\n",
    "\n",
    "# Applying the function to the text\n",
    "text = to_lowercase(text)\n"
   ]
  },
  {
   "cell_type": "markdown",
   "id": "bf56af9f",
   "metadata": {},
   "source": [
    "### Removing Links"
   ]
  },
  {
   "cell_type": "code",
   "execution_count": 7,
   "id": "bc28fc14",
   "metadata": {},
   "outputs": [],
   "source": [
    "import re\n",
    "# Using re module\n",
    "# Defining a function to remove links \n",
    "def remove_links(text):\n",
    "    url_pattern = r'https?://\\S+|www\\.\\S+'              # Defining the regular expression pattern that matches with URLs\n",
    "    return re.sub(url_pattern, '', text)                # Substituting the URLs with an empty string\n",
    "\n",
    "\n",
    "text = text.fillna('').astype(str).apply(remove_links)                   # Applying the remove_links function to the 'content'\n"
   ]
  },
  {
   "cell_type": "markdown",
   "id": "50b11f36",
   "metadata": {},
   "source": [
    "### Removing next lines"
   ]
  },
  {
   "cell_type": "code",
   "execution_count": 8,
   "id": "8b143db6",
   "metadata": {},
   "outputs": [],
   "source": [
    "# Defining the function to replace newline characters\n",
    "def remove_newlines(text_series):\n",
    "    return text_series.str.replace(r'\\n', '', regex=True)      # Replacing newline characters with an empty string\n",
    "\n",
    "# Applying the function to the content\n",
    "text= remove_newlines(text)\n"
   ]
  },
  {
   "cell_type": "markdown",
   "id": "5b9a2196",
   "metadata": {},
   "source": [
    "### Removing words containing numbers"
   ]
  },
  {
   "cell_type": "code",
   "execution_count": 9,
   "id": "4c4e0e83",
   "metadata": {},
   "outputs": [],
   "source": [
    "# Defining the function to remove words containing digits\n",
    "def remove_words_with_digits(text_series):\n",
    "    return text_series.apply(lambda x: re.sub(r'\\b\\w*\\d\\w*\\b', '', x))\n",
    "# The regular expression r'\\b\\w*\\d\\w*\\b' matches words that contain at least one digit within them.\n",
    "# These are replaced with an empty string\n",
    "\n",
    "# Applying the function to the content\n",
    "text = remove_words_with_digits(text)\n"
   ]
  },
  {
   "cell_type": "markdown",
   "id": "c05e2162",
   "metadata": {},
   "source": [
    "### Removing extra spaces"
   ]
  },
  {
   "cell_type": "code",
   "execution_count": 10,
   "id": "07779daf",
   "metadata": {},
   "outputs": [],
   "source": [
    "# Defining a function to remove extra spaces\n",
    "def remove_extra_spaces(text):\n",
    "    return re.sub(r'\\s+', ' ', text).strip() \n",
    "# The regular expression pattern r'\\s+' matches with whitespace characters\n",
    "# These are replaced with an empty string\n",
    "\n",
    "# Applying the remove_extra_spaces function to the content \n",
    "text = text.apply(remove_extra_spaces)\n"
   ]
  },
  {
   "cell_type": "markdown",
   "id": "075a831d",
   "metadata": {},
   "source": [
    "### Removing Special Characters"
   ]
  },
  {
   "cell_type": "code",
   "execution_count": 11,
   "id": "0c8fd256",
   "metadata": {},
   "outputs": [],
   "source": [
    "# Defining the function to remove special characters\n",
    "def remove_special_characters(text_series):\n",
    "    return text_series.apply(lambda x: re.sub(r'[^a-zA-Z0-9\\s]', '', x))\n",
    "# The regular expression r'[^a-zA-Z0-9\\s]' matches any character that is not a letter \n",
    "# These are replaced with an empty string\n",
    "\n",
    "# Applying the function to the content\n",
    "text = remove_special_characters(text)\n"
   ]
  },
  {
   "cell_type": "markdown",
   "id": "e2d9d5c1",
   "metadata": {},
   "source": [
    "### Removal of Stop words"
   ]
  },
  {
   "cell_type": "code",
   "execution_count": 12,
   "id": "c46ecbf8",
   "metadata": {},
   "outputs": [],
   "source": [
    "import nltk\n",
    "from nltk.corpus import stopwords\n",
    "\n",
    "# nltk.download('stopwords')                                # Downloading the stopwords corpus\n",
    "\n",
    "# Defining the function to remove stopwords\n",
    "def remove_stopwords(text_series):\n",
    "    stop_words = set(stopwords.words('english'))\n",
    "    return text_series.apply(\n",
    "        lambda x: ' '.join([word for word in x.split() if word.lower() not in stop_words])\n",
    "    )\n",
    "# iterating over each word in the text (x.split())\n",
    "# keeping only those words that are not in the set of stop words (word.lower() not in stop_words)\n",
    "\n",
    "# Applying the function to the content\n",
    "text = remove_stopwords(text)\n"
   ]
  },
  {
   "cell_type": "markdown",
   "id": "ba679e8d",
   "metadata": {},
   "source": [
    "### Stemming\n",
    "Stemming in NLP is the process of reducing words to their base or root form by removing suffixes and prefixes without considering the context."
   ]
  },
  {
   "cell_type": "code",
   "execution_count": 13,
   "id": "a44e9c1c",
   "metadata": {},
   "outputs": [],
   "source": [
    "from nltk.stem import PorterStemmer\n",
    "\n",
    "# nltk.download('punkt')                                    # Downloading NLTK resources\n",
    "\n",
    "# Defining the function to apply stemming\n",
    "def apply_stemming(text_series):\n",
    "    porter = PorterStemmer()                                # initializing a PorterStemmer object\n",
    "    return text_series.apply(\n",
    "        lambda x: ' '.join([porter.stem(word) for word in x.split()])\n",
    "    )\n",
    "# iterating over each word in the text (x.split()), applying stemming using porter.stem(word)\n",
    "\n",
    "# Applying the function to the content\n",
    "text = apply_stemming(text)"
   ]
  },
  {
   "cell_type": "markdown",
   "id": "c02a57d5",
   "metadata": {},
   "source": [
    "### Lemmatization\n",
    "Lemmatization in NLP is the process of reducing words to their base or dictionary form, known as the lemma, by considering the context and morphological analysis."
   ]
  },
  {
   "cell_type": "code",
   "execution_count": 14,
   "id": "23753ca9",
   "metadata": {},
   "outputs": [],
   "source": [
    "from nltk.stem import WordNetLemmatizer\n",
    "\n",
    "# nltk.download('punkt')                                     # Downloading NLTK resources\n",
    "# nltk.download('wordnet')\n",
    "# nltk.download('omw-1.4')\n",
    "\n",
    "# Defining the function to apply lemmatization\n",
    "def apply_lemmatization(text_series):\n",
    "    lemmatizer = WordNetLemmatizer()  # initializing a WordNetLemmatizer object\n",
    "    return text_series.apply(\n",
    "        lambda x: ' '.join([lemmatizer.lemmatize(word) for word in nltk.word_tokenize(x)])\n",
    "    )\n",
    "# iterating over each word in the text (x.split()), applying lemmatization using lemmatizer.lemmatize(word).\n",
    "\n",
    "# Applying the function to the content\n",
    "text = apply_lemmatization(text)\n"
   ]
  },
  {
   "cell_type": "markdown",
   "id": "ccaa2e55",
   "metadata": {},
   "source": [
    "## Data after preprocessing"
   ]
  },
  {
   "cell_type": "code",
   "execution_count": 15,
   "id": "6dd2add5",
   "metadata": {},
   "outputs": [
    {
     "data": {
      "text/plain": [
       "0                                    didnt feel humili\n",
       "1    go feel hopeless damn hope around someon care ...\n",
       "2                 im grab minut post feel greedi wrong\n",
       "3       ever feel nostalg fireplac know still properti\n",
       "4                                         feel grouchi\n",
       "Name: text, dtype: object"
      ]
     },
     "execution_count": 15,
     "metadata": {},
     "output_type": "execute_result"
    }
   ],
   "source": [
    "text.head()"
   ]
  },
  {
   "cell_type": "code",
   "execution_count": 16,
   "id": "32b8e442",
   "metadata": {},
   "outputs": [
    {
     "data": {
      "text/html": [
       "<div>\n",
       "<style scoped>\n",
       "    .dataframe tbody tr th:only-of-type {\n",
       "        vertical-align: middle;\n",
       "    }\n",
       "\n",
       "    .dataframe tbody tr th {\n",
       "        vertical-align: top;\n",
       "    }\n",
       "\n",
       "    .dataframe thead th {\n",
       "        text-align: right;\n",
       "    }\n",
       "</style>\n",
       "<table border=\"1\" class=\"dataframe\">\n",
       "  <thead>\n",
       "    <tr style=\"text-align: right;\">\n",
       "      <th></th>\n",
       "      <th>text</th>\n",
       "      <th>label</th>\n",
       "    </tr>\n",
       "  </thead>\n",
       "  <tbody>\n",
       "    <tr>\n",
       "      <th>0</th>\n",
       "      <td>didnt feel humili</td>\n",
       "      <td>0</td>\n",
       "    </tr>\n",
       "    <tr>\n",
       "      <th>1</th>\n",
       "      <td>go feel hopeless damn hope around someon care ...</td>\n",
       "      <td>0</td>\n",
       "    </tr>\n",
       "    <tr>\n",
       "      <th>2</th>\n",
       "      <td>im grab minut post feel greedi wrong</td>\n",
       "      <td>3</td>\n",
       "    </tr>\n",
       "    <tr>\n",
       "      <th>3</th>\n",
       "      <td>ever feel nostalg fireplac know still properti</td>\n",
       "      <td>2</td>\n",
       "    </tr>\n",
       "    <tr>\n",
       "      <th>4</th>\n",
       "      <td>feel grouchi</td>\n",
       "      <td>3</td>\n",
       "    </tr>\n",
       "  </tbody>\n",
       "</table>\n",
       "</div>"
      ],
      "text/plain": [
       "                                                text  label\n",
       "0                                  didnt feel humili      0\n",
       "1  go feel hopeless damn hope around someon care ...      0\n",
       "2               im grab minut post feel greedi wrong      3\n",
       "3     ever feel nostalg fireplac know still properti      2\n",
       "4                                       feel grouchi      3"
      ]
     },
     "execution_count": 16,
     "metadata": {},
     "output_type": "execute_result"
    }
   ],
   "source": [
    "df['text']= text\n",
    "df.head()"
   ]
  },
  {
   "cell_type": "markdown",
   "id": "85c5e247",
   "metadata": {},
   "source": [
    "## Vectorization\n",
    "Vectorization is the process of converting text data into numerical representations that can be used by machine learning algorithms.<br>\n",
    "TF-IDF is a vectorization technique that evaluates the importance of a word in a document relative to a collection of documents by combining term frequency and inverse document frequency."
   ]
  },
  {
   "cell_type": "code",
   "execution_count": 17,
   "id": "23dcf746",
   "metadata": {
    "scrolled": true
   },
   "outputs": [
    {
     "data": {
      "text/html": [
       "<div>\n",
       "<style scoped>\n",
       "    .dataframe tbody tr th:only-of-type {\n",
       "        vertical-align: middle;\n",
       "    }\n",
       "\n",
       "    .dataframe tbody tr th {\n",
       "        vertical-align: top;\n",
       "    }\n",
       "\n",
       "    .dataframe thead th {\n",
       "        text-align: right;\n",
       "    }\n",
       "</style>\n",
       "<table border=\"1\" class=\"dataframe\">\n",
       "  <thead>\n",
       "    <tr style=\"text-align: right;\">\n",
       "      <th></th>\n",
       "      <th>abandon</th>\n",
       "      <th>abc</th>\n",
       "      <th>abdomen</th>\n",
       "      <th>abil</th>\n",
       "      <th>abit</th>\n",
       "      <th>abl</th>\n",
       "      <th>abl feel</th>\n",
       "      <th>abl help</th>\n",
       "      <th>abl say</th>\n",
       "      <th>abl share</th>\n",
       "      <th>...</th>\n",
       "      <th>young woman</th>\n",
       "      <th>younger</th>\n",
       "      <th>youth</th>\n",
       "      <th>youtub</th>\n",
       "      <th>youv</th>\n",
       "      <th>zealand</th>\n",
       "      <th>zero</th>\n",
       "      <th>zombi</th>\n",
       "      <th>zone</th>\n",
       "      <th>zoom</th>\n",
       "    </tr>\n",
       "  </thead>\n",
       "  <tbody>\n",
       "    <tr>\n",
       "      <th>0</th>\n",
       "      <td>0.0</td>\n",
       "      <td>0.0</td>\n",
       "      <td>0.0</td>\n",
       "      <td>0.0</td>\n",
       "      <td>0.0</td>\n",
       "      <td>0.0</td>\n",
       "      <td>0.0</td>\n",
       "      <td>0.0</td>\n",
       "      <td>0.0</td>\n",
       "      <td>0.0</td>\n",
       "      <td>...</td>\n",
       "      <td>0.0</td>\n",
       "      <td>0.0</td>\n",
       "      <td>0.0</td>\n",
       "      <td>0.0</td>\n",
       "      <td>0.0</td>\n",
       "      <td>0.0</td>\n",
       "      <td>0.0</td>\n",
       "      <td>0.0</td>\n",
       "      <td>0.0</td>\n",
       "      <td>0.0</td>\n",
       "    </tr>\n",
       "    <tr>\n",
       "      <th>1</th>\n",
       "      <td>0.0</td>\n",
       "      <td>0.0</td>\n",
       "      <td>0.0</td>\n",
       "      <td>0.0</td>\n",
       "      <td>0.0</td>\n",
       "      <td>0.0</td>\n",
       "      <td>0.0</td>\n",
       "      <td>0.0</td>\n",
       "      <td>0.0</td>\n",
       "      <td>0.0</td>\n",
       "      <td>...</td>\n",
       "      <td>0.0</td>\n",
       "      <td>0.0</td>\n",
       "      <td>0.0</td>\n",
       "      <td>0.0</td>\n",
       "      <td>0.0</td>\n",
       "      <td>0.0</td>\n",
       "      <td>0.0</td>\n",
       "      <td>0.0</td>\n",
       "      <td>0.0</td>\n",
       "      <td>0.0</td>\n",
       "    </tr>\n",
       "    <tr>\n",
       "      <th>2</th>\n",
       "      <td>0.0</td>\n",
       "      <td>0.0</td>\n",
       "      <td>0.0</td>\n",
       "      <td>0.0</td>\n",
       "      <td>0.0</td>\n",
       "      <td>0.0</td>\n",
       "      <td>0.0</td>\n",
       "      <td>0.0</td>\n",
       "      <td>0.0</td>\n",
       "      <td>0.0</td>\n",
       "      <td>...</td>\n",
       "      <td>0.0</td>\n",
       "      <td>0.0</td>\n",
       "      <td>0.0</td>\n",
       "      <td>0.0</td>\n",
       "      <td>0.0</td>\n",
       "      <td>0.0</td>\n",
       "      <td>0.0</td>\n",
       "      <td>0.0</td>\n",
       "      <td>0.0</td>\n",
       "      <td>0.0</td>\n",
       "    </tr>\n",
       "    <tr>\n",
       "      <th>3</th>\n",
       "      <td>0.0</td>\n",
       "      <td>0.0</td>\n",
       "      <td>0.0</td>\n",
       "      <td>0.0</td>\n",
       "      <td>0.0</td>\n",
       "      <td>0.0</td>\n",
       "      <td>0.0</td>\n",
       "      <td>0.0</td>\n",
       "      <td>0.0</td>\n",
       "      <td>0.0</td>\n",
       "      <td>...</td>\n",
       "      <td>0.0</td>\n",
       "      <td>0.0</td>\n",
       "      <td>0.0</td>\n",
       "      <td>0.0</td>\n",
       "      <td>0.0</td>\n",
       "      <td>0.0</td>\n",
       "      <td>0.0</td>\n",
       "      <td>0.0</td>\n",
       "      <td>0.0</td>\n",
       "      <td>0.0</td>\n",
       "    </tr>\n",
       "    <tr>\n",
       "      <th>4</th>\n",
       "      <td>0.0</td>\n",
       "      <td>0.0</td>\n",
       "      <td>0.0</td>\n",
       "      <td>0.0</td>\n",
       "      <td>0.0</td>\n",
       "      <td>0.0</td>\n",
       "      <td>0.0</td>\n",
       "      <td>0.0</td>\n",
       "      <td>0.0</td>\n",
       "      <td>0.0</td>\n",
       "      <td>...</td>\n",
       "      <td>0.0</td>\n",
       "      <td>0.0</td>\n",
       "      <td>0.0</td>\n",
       "      <td>0.0</td>\n",
       "      <td>0.0</td>\n",
       "      <td>0.0</td>\n",
       "      <td>0.0</td>\n",
       "      <td>0.0</td>\n",
       "      <td>0.0</td>\n",
       "      <td>0.0</td>\n",
       "    </tr>\n",
       "  </tbody>\n",
       "</table>\n",
       "<p>5 rows × 5000 columns</p>\n",
       "</div>"
      ],
      "text/plain": [
       "   abandon  abc  abdomen  abil  abit  abl  abl feel  abl help  abl say  \\\n",
       "0      0.0  0.0      0.0   0.0   0.0  0.0       0.0       0.0      0.0   \n",
       "1      0.0  0.0      0.0   0.0   0.0  0.0       0.0       0.0      0.0   \n",
       "2      0.0  0.0      0.0   0.0   0.0  0.0       0.0       0.0      0.0   \n",
       "3      0.0  0.0      0.0   0.0   0.0  0.0       0.0       0.0      0.0   \n",
       "4      0.0  0.0      0.0   0.0   0.0  0.0       0.0       0.0      0.0   \n",
       "\n",
       "   abl share  ...  young woman  younger  youth  youtub  youv  zealand  zero  \\\n",
       "0        0.0  ...          0.0      0.0    0.0     0.0   0.0      0.0   0.0   \n",
       "1        0.0  ...          0.0      0.0    0.0     0.0   0.0      0.0   0.0   \n",
       "2        0.0  ...          0.0      0.0    0.0     0.0   0.0      0.0   0.0   \n",
       "3        0.0  ...          0.0      0.0    0.0     0.0   0.0      0.0   0.0   \n",
       "4        0.0  ...          0.0      0.0    0.0     0.0   0.0      0.0   0.0   \n",
       "\n",
       "   zombi  zone  zoom  \n",
       "0    0.0   0.0   0.0  \n",
       "1    0.0   0.0   0.0  \n",
       "2    0.0   0.0   0.0  \n",
       "3    0.0   0.0   0.0  \n",
       "4    0.0   0.0   0.0  \n",
       "\n",
       "[5 rows x 5000 columns]"
      ]
     },
     "execution_count": 17,
     "metadata": {},
     "output_type": "execute_result"
    }
   ],
   "source": [
    "from sklearn.feature_extraction.text import TfidfVectorizer\n",
    "\n",
    "# Creating a TF-IDF vectorizer\n",
    "vectorizer = TfidfVectorizer(\n",
    "    max_features=5000,                    # Limiting the number of features\n",
    "    stop_words='english',                 # Removing common English stop words\n",
    "    ngram_range=(1, 2)                    # Considering unigrams and bigrams\n",
    ")\n",
    "\n",
    "# Fitting and transforming the text data into a TF-IDF matrix\n",
    "tfidf_matrix = vectorizer.fit_transform(df[\"text\"])\n",
    "\n",
    "# Inspecting the TF-IDF matrix\n",
    "tfidf_df = pd.DataFrame(\n",
    "    tfidf_matrix.toarray(), \n",
    "    columns=vectorizer.get_feature_names_out()\n",
    ")\n",
    "\n",
    "# tfidf_df is the vectorized form of the text data\n",
    "tfidf_df.head()"
   ]
  },
  {
   "cell_type": "markdown",
   "id": "4267976e",
   "metadata": {},
   "source": [
    "## Splitting the dataset\n",
    "training data - 70 % <br>\n",
    "testing data - 20 % <br>\n",
    "validation data - 10 %"
   ]
  },
  {
   "cell_type": "code",
   "execution_count": 18,
   "id": "1c088c18",
   "metadata": {
    "scrolled": false
   },
   "outputs": [
    {
     "name": "stdout",
     "output_type": "stream",
     "text": [
      "Training set size: 11200\n",
      "Testing set size: 3200\n",
      "Validation set size: 1600\n"
     ]
    }
   ],
   "source": [
    "from sklearn.model_selection import train_test_split\n",
    "\n",
    "\n",
    "# Step 1: Splitting the data into 70% training and 30% temporary set\n",
    "X_train, X_temp, y_train, y_temp = train_test_split(tfidf_df, df['label'], test_size=0.3, random_state=42, stratify=df['label'])\n",
    "\n",
    "# Step 2: Splitting the temporary set into 20% testing and 10% validation\n",
    "# Since X_temp is 30% of the original data, we want to split it so that\n",
    "# 20% (of original) = 2/3 of X_temp, and 10% (of original) = 1/3 of X_temp\n",
    "X_test, X_val, y_test, y_val = train_test_split(X_temp, y_temp, test_size=1/3, random_state=42, stratify=y_temp)\n",
    "\n",
    "# Printing the sizes of each split to verify\n",
    "print(f\"Training set size: {X_train.shape[0]}\")\n",
    "print(f\"Testing set size: {X_test.shape[0]}\")\n",
    "print(f\"Validation set size: {X_val.shape[0]}\")"
   ]
  },
  {
   "cell_type": "markdown",
   "id": "778b95e4",
   "metadata": {},
   "source": [
    "## Handling Class Imbalance\n",
    "Class imbalance in data is when certain classes have significantly more samples than others."
   ]
  },
  {
   "cell_type": "code",
   "execution_count": 19,
   "id": "dc409c97",
   "metadata": {
    "scrolled": true
   },
   "outputs": [
    {
     "name": "stdout",
     "output_type": "stream",
     "text": [
      "Class distribution in the training data before applying SMOTE :\n"
     ]
    },
    {
     "data": {
      "text/plain": [
       "label\n",
       "1    3754\n",
       "0    3266\n",
       "3    1511\n",
       "4    1356\n",
       "2     913\n",
       "5     400\n",
       "Name: count, dtype: int64"
      ]
     },
     "execution_count": 19,
     "metadata": {},
     "output_type": "execute_result"
    }
   ],
   "source": [
    "print(\"Class distribution in the training data before applying SMOTE :\")\n",
    "y_train.value_counts()"
   ]
  },
  {
   "cell_type": "code",
   "execution_count": 20,
   "id": "139af66b",
   "metadata": {
    "scrolled": false
   },
   "outputs": [
    {
     "name": "stdout",
     "output_type": "stream",
     "text": [
      "Class distribution before applying SMOTE : \n"
     ]
    },
    {
     "data": {
      "image/png": "[encoded data removed]",
      "text/plain": [
       "<Figure size 1000x400 with 1 Axes>"
      ]
     },
     "metadata": {},
     "output_type": "display_data"
    }
   ],
   "source": [
    "plt.figure(figsize=(10,4))\n",
    "print(\"Class distribution before applying SMOTE : \")\n",
    "y_train.value_counts().plot(kind=\"bar\");"
   ]
  },
  {
   "cell_type": "markdown",
   "id": "4b2f5231",
   "metadata": {},
   "source": [
    "SMOTE generates synthetic samples in the training set to balance the class distribution.<br>\n",
    "SMOTE (Synthetic Minority Over-sampling Technique) is to be applied only to the training data and not to the testing data.<br>\n",
    "We will address the class imbalance during training, to ensure the model learns equally from all classes. <br>\n",
    "The testing data should remain unchanged and reflect the original data distribution."
   ]
  },
  {
   "cell_type": "code",
   "execution_count": 21,
   "id": "5a91df9d",
   "metadata": {
    "scrolled": true
   },
   "outputs": [
    {
     "name": "stdout",
     "output_type": "stream",
     "text": [
      "Class distribution in the training data after applying SMOTE:\n",
      "label\n",
      "4    3754\n",
      "0    3754\n",
      "1    3754\n",
      "5    3754\n",
      "3    3754\n",
      "2    3754\n",
      "Name: count, dtype: int64\n"
     ]
    }
   ],
   "source": [
    "# Importing necessary libraries\n",
    "from imblearn.over_sampling import SMOTE\n",
    "\n",
    "\n",
    "# Applying SMOTE to the training data\n",
    "smote = SMOTE(random_state=42)\n",
    "X_train_res, y_train_res = smote.fit_resample(X_train, y_train)\n",
    "\n",
    "# Checking the distribution of classes after applying SMOTE\n",
    "print(\"Class distribution in the training data after applying SMOTE:\")\n",
    "print(pd.Series(y_train_res).value_counts())\n"
   ]
  },
  {
   "cell_type": "code",
   "execution_count": 22,
   "id": "fbf45037",
   "metadata": {
    "scrolled": true
   },
   "outputs": [
    {
     "name": "stdout",
     "output_type": "stream",
     "text": [
      "Class distribution after applying SMOTE : \n"
     ]
    },
    {
     "data": {
      "image/png": "[encoded data removed]",
      "text/plain": [
       "<Figure size 1000x400 with 1 Axes>"
      ]
     },
     "metadata": {},
     "output_type": "display_data"
    }
   ],
   "source": [
    "plt.figure(figsize=(10,4))\n",
    "print(\"Class distribution after applying SMOTE : \")\n",
    "y_train_res.value_counts().plot(kind=\"bar\");"
   ]
  },
  {
   "cell_type": "markdown",
   "id": "a3f2a5dd",
   "metadata": {},
   "source": [
    "The class imbalance in the training data is resolved and now every class is even."
   ]
  },
  {
   "cell_type": "markdown",
   "id": "0575af91",
   "metadata": {},
   "source": [
    "## Modeling"
   ]
  },
  {
   "cell_type": "markdown",
   "id": "a89620c2",
   "metadata": {},
   "source": [
    "## 1. Logistic Regression"
   ]
  },
  {
   "cell_type": "markdown",
   "id": "e687a652",
   "metadata": {},
   "source": [
    "**Logistic Regression** is a statistical method for analyzing a dataset in which there are one or more independent variables that determine an outcome. <br>\n",
    "Logistic Regression is widely used due to its simplicity, interpretability, and efficiency in solving classification problems."
   ]
  },
  {
   "cell_type": "code",
   "execution_count": 23,
   "id": "783e7072",
   "metadata": {},
   "outputs": [],
   "source": [
    "# Importing the necessary libraries\n",
    "from sklearn.linear_model import LogisticRegression\n",
    "from sklearn.model_selection import GridSearchCV\n",
    "from sklearn.metrics import classification_report, confusion_matrix, accuracy_score\n",
    "import pandas as pd\n",
    "import seaborn as sns"
   ]
  },
  {
   "cell_type": "code",
   "execution_count": 24,
   "id": "60a8d006",
   "metadata": {},
   "outputs": [
    {
     "data": {
      "text/plain": [
       "LogisticRegression(max_iter=1000, multi_class='multinomial', random_state=42)"
      ]
     },
     "execution_count": 24,
     "metadata": {},
     "output_type": "execute_result"
    }
   ],
   "source": [
    "# Initializing and training the Logistic Regression Model\n",
    "logistic_model = LogisticRegression(multi_class='multinomial', solver='lbfgs', max_iter=1000, random_state=42)\n",
    "# Fitting the model on the training data\n",
    "logistic_model.fit(X_train_res, y_train_res)"
   ]
  },
  {
   "cell_type": "code",
   "execution_count": 25,
   "id": "a445c7c7",
   "metadata": {},
   "outputs": [],
   "source": [
    "# Generating predictions for both training and testing data\n",
    "y_train_pred = logistic_model.predict(X_train_res)\n",
    "y_test_pred = logistic_model.predict(X_test)\n"
   ]
  },
  {
   "cell_type": "code",
   "execution_count": 26,
   "id": "afe2214f",
   "metadata": {
    "scrolled": true
   },
   "outputs": [
    {
     "name": "stdout",
     "output_type": "stream",
     "text": [
      "Training Data Evaluation:\n",
      "              precision    recall  f1-score   support\n",
      "\n",
      "           0       0.98      0.96      0.97      3754\n",
      "           1       0.98      0.93      0.96      3754\n",
      "           2       0.96      0.99      0.97      3754\n",
      "           3       0.97      0.99      0.98      3754\n",
      "           4       0.98      0.96      0.97      3754\n",
      "           5       0.96      1.00      0.98      3754\n",
      "\n",
      "    accuracy                           0.97     22524\n",
      "   macro avg       0.97      0.97      0.97     22524\n",
      "weighted avg       0.97      0.97      0.97     22524\n",
      "\n",
      "Confusion Matrix:\n",
      "[[3611   25   13   55   38   12]\n",
      " [  39 3500  138   26   18   33]\n",
      " [   2   23 3724    1    3    1]\n",
      " [  26   12    5 3700   10    1]\n",
      " [  14    9    9   33 3596   93]\n",
      " [   0    1    0    0    0 3753]]\n"
     ]
    },
    {
     "data": {
      "image/png": "[encoded data removed]",
      "text/plain": [
       "<Figure size 1000x700 with 2 Axes>"
      ]
     },
     "metadata": {},
     "output_type": "display_data"
    },
    {
     "name": "stdout",
     "output_type": "stream",
     "text": [
      "Training Data Accuracy: 0.97\n"
     ]
    }
   ],
   "source": [
    "# Evaluating the model on the training data\n",
    "print(\"Training Data Evaluation:\")\n",
    "print(classification_report(y_train_res, y_train_pred))\n",
    "\n",
    "# Computing and displaying the confusion matrix for the training data\n",
    "print(\"Confusion Matrix:\")\n",
    "conf_matrix_train = confusion_matrix(y_train_res, y_train_pred)\n",
    "print(conf_matrix_train)\n",
    "\n",
    "# Plotting confusion matrix for training data\n",
    "plt.figure(figsize=(10, 7))\n",
    "sns.heatmap(conf_matrix_train, annot=True, fmt='d', cmap='Blues', xticklabels=label_dict.values(), yticklabels=label_dict.values())\n",
    "plt.title('Training Data Confusion Matrix')\n",
    "plt.xlabel('Predicted Label')\n",
    "plt.ylabel('True Label')\n",
    "plt.show()\n",
    "\n",
    "# Calculating and print the accuracy for training data\n",
    "train_accuracy = accuracy_score(y_train_res, y_train_pred)\n",
    "print(f\"Training Data Accuracy: {train_accuracy:.2f}\")"
   ]
  },
  {
   "cell_type": "code",
   "execution_count": 27,
   "id": "e2d864e4",
   "metadata": {},
   "outputs": [
    {
     "name": "stdout",
     "output_type": "stream",
     "text": [
      "Testing Data Evaluation:\n",
      "              precision    recall  f1-score   support\n",
      "\n",
      "           0       0.95      0.91      0.93       933\n",
      "           1       0.91      0.90      0.90      1072\n",
      "           2       0.73      0.85      0.78       261\n",
      "           3       0.89      0.88      0.89       432\n",
      "           4       0.86      0.83      0.85       387\n",
      "           5       0.71      0.84      0.77       115\n",
      "\n",
      "    accuracy                           0.89      3200\n",
      "   macro avg       0.84      0.87      0.85      3200\n",
      "weighted avg       0.89      0.89      0.89      3200\n",
      "\n",
      "Confusion Matrix:\n",
      "[[848  31   5  28  18   3]\n",
      " [ 10 963  71   8  10  10]\n",
      " [  1  32 222   3   3   0]\n",
      " [ 14  19   3 381  15   0]\n",
      " [ 14  14   3   8 322  26]\n",
      " [  5   4   2   0   7  97]]\n"
     ]
    },
    {
     "data": {
      "image/png": "[encoded data removed]",
      "text/plain": [
       "<Figure size 1000x700 with 2 Axes>"
      ]
     },
     "metadata": {},
     "output_type": "display_data"
    },
    {
     "name": "stdout",
     "output_type": "stream",
     "text": [
      "Testing Data Accuracy: 0.89\n"
     ]
    }
   ],
   "source": [
    "# Evaluating the model on the testing data\n",
    "print(\"Testing Data Evaluation:\")\n",
    "print(classification_report(y_test, y_test_pred))\n",
    "\n",
    "# Computing and displaying the confusion matrix for the testing data\n",
    "print(\"Confusion Matrix:\")\n",
    "conf_matrix_test = confusion_matrix(y_test, y_test_pred)\n",
    "print(conf_matrix_test)\n",
    "\n",
    "# Plotting confusion matrix for testing data\n",
    "plt.figure(figsize=(10, 7))\n",
    "sns.heatmap(conf_matrix_test, annot=True, fmt='d', cmap='Blues', xticklabels=label_dict.values(), yticklabels=label_dict.values())\n",
    "plt.title('Testing Data Confusion Matrix')\n",
    "plt.xlabel('Predicted Label')\n",
    "plt.ylabel('True Label')\n",
    "plt.show()\n",
    "\n",
    "# Calculating and print the accuracy for testing data\n",
    "train_accuracy = accuracy_score(y_test, y_test_pred)\n",
    "print(f\"Testing Data Accuracy: {train_accuracy:.2f}\")"
   ]
  },
  {
   "cell_type": "code",
   "execution_count": null,
   "id": "87fc96e8",
   "metadata": {},
   "outputs": [],
   "source": []
  }
 ],
 "metadata": {
  "kernelspec": {
   "display_name": "Python 3 (ipykernel)",
   "language": "python",
   "name": "python3"
  },
  "language_info": {
   "codemirror_mode": {
    "name": "ipython",
    "version": 3
   },
   "file_extension": ".py",
   "mimetype": "text/x-python",
   "name": "python",
   "nbconvert_exporter": "python",
   "pygments_lexer": "ipython3",
   "version": "3.9.12"
  }
 },
 "nbformat": 4,
 "nbformat_minor": 5
}
