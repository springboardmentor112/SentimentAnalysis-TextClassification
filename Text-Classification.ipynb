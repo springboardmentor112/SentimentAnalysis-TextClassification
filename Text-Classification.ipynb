{
 "cells": [
  {
   "cell_type": "markdown",
   "id": "94cfcbc0-bc9a-434f-b9a3-fbcefb59330e",
   "metadata": {},
   "source": [
    "### Text classification on a dataset"
   ]
  },
  {
   "cell_type": "markdown",
   "id": "d86c0105-68da-4794-9eb8-0cdf2762abaf",
   "metadata": {},
   "source": [
    "### Introduction"
   ]
  },
  {
   "cell_type": "markdown",
   "id": "2b313bbd-2c38-4a2d-86dd-14761e2f61c5",
   "metadata": {},
   "source": [
    "In this project, our goal is to conduct text classification on a dataset containing emotional text data. The objective is to categorize text samples into various emotional categories such as melancholy, happiness, affection, frustration, dread, and astonishment. This project entails comprehensive preprocessing of the text data, rectifying class distribution imbalances, and training multiple classification models to forecast the emotional labels"
   ]
  },
  {
   "cell_type": "markdown",
   "id": "763f41b9-dedc-4409-9471-667f77ab729f",
   "metadata": {},
   "source": [
    "### Project Overview\n",
    "Objective:"
   ]
  },
  {
   "cell_type": "markdown",
   "id": "5d804091-3cfc-441d-ad67-2fb7980f6c52",
   "metadata": {},
   "source": [
    " Undertake text classification on emotional text data."
   ]
  },
  {
   "cell_type": "markdown",
   "id": "9d1740bd-b4db-40df-9636-bb69dc10d8bf",
   "metadata": {},
   "source": [
    "### Dataset:\n",
    "Annotated text samples categorized into diverse emotions. "
   ]
  },
  {
   "cell_type": "markdown",
   "id": "6c5c6517-8851-407f-b1ef-071f9e220e0b",
   "metadata": {},
   "source": [
    "### Approach:\n",
    "Data preprocessing, rectifying class distribution, model training, and assessment"
   ]
  },
  {
   "cell_type": "markdown",
   "id": "fbcf7d8a-3cec-4c67-a9a2-0b3b67954333",
   "metadata": {},
   "source": [
    "# Step 1: Reading and Understanding the Dataset\n",
    "# Importing Libraries"
   ]
  },
  {
   "cell_type": "code",
   "execution_count": 3,
   "id": "70c18d2f-c320-47ec-aa8a-3f0b9eb97552",
   "metadata": {},
   "outputs": [],
   "source": [
    "import pandas as pd"
   ]
  },
  {
   "cell_type": "code",
   "execution_count": 5,
   "id": "ea400e20-238e-43c8-9ce2-7c4ea51a97f6",
   "metadata": {},
   "outputs": [],
   "source": [
    "# Reading the Dataset\n",
    "df = pd.read_csv(\"Emotions_training.csv\")"
   ]
  },
  {
   "cell_type": "code",
   "execution_count": 6,
   "id": "36935d64-25f2-4ff0-950d-286f7cde09a6",
   "metadata": {},
   "outputs": [
    {
     "name": "stdout",
     "output_type": "stream",
     "text": [
      "                                                    text  label\n",
      "0                                i didnt feel humiliated      0\n",
      "1      i can go from feeling so hopeless to so damned...      0\n",
      "2       im grabbing a minute to post i feel greedy wrong      3\n",
      "3      i am ever feeling nostalgic about the fireplac...      2\n",
      "4                                   i am feeling grouchy      3\n",
      "...                                                  ...    ...\n",
      "15995  i just had a very brief time in the beanbag an...      0\n",
      "15996  i am now turning and i feel pathetic that i am...      0\n",
      "15997                     i feel strong and good overall      1\n",
      "15998  i feel like this was such a rude comment and i...      3\n",
      "15999  i know a lot but i feel so stupid because i ca...      0\n",
      "\n",
      "[16000 rows x 2 columns]\n"
     ]
    }
   ],
   "source": [
    "print(df)"
   ]
  },
  {
   "cell_type": "code",
   "execution_count": 7,
   "id": "45e6791e-1f94-4bcd-9816-52948f74784c",
   "metadata": {},
   "outputs": [
    {
     "name": "stdout",
     "output_type": "stream",
     "text": [
      "                                                text  label\n",
      "0                            i didnt feel humiliated      0\n",
      "1  i can go from feeling so hopeless to so damned...      0\n",
      "2   im grabbing a minute to post i feel greedy wrong      3\n",
      "3  i am ever feeling nostalgic about the fireplac...      2\n",
      "4                               i am feeling grouchy      3\n"
     ]
    }
   ],
   "source": [
    "# Display the first few rows of the DataFrame\n",
    "print(df.head())"
   ]
  },
  {
   "cell_type": "markdown",
   "id": "c46265a5-e1d7-435b-8e01-51c0f156e611",
   "metadata": {},
   "source": [
    "### Step 2: Exploratory Data Analysis (EDA)"
   ]
  },
  {
   "cell_type": "markdown",
   "id": "dd4d189a-3d52-4e2e-befd-016c7567bf53",
   "metadata": {},
   "source": [
    "1-Understanding the Data: We'll explore the basic properties of the dataset such as the number of rows and columns, data types, and any missing values."
   ]
  },
  {
   "cell_type": "code",
   "execution_count": 8,
   "id": "3e2887ec-694b-412b-bc78-984f9bf700ff",
   "metadata": {},
   "outputs": [
    {
     "name": "stdout",
     "output_type": "stream",
     "text": [
      "Number of rows: 16000\n",
      "Number of columns: 2\n"
     ]
    }
   ],
   "source": [
    "\n",
    "# Number of rows and columns\n",
    "print(\"Number of rows:\", df.shape[0])\n",
    "print(\"Number of columns:\", df.shape[1])\n"
   ]
  },
  {
   "cell_type": "code",
   "execution_count": 9,
   "id": "0b9aa33e-f6c6-4526-8fb6-7bf8f89bd15d",
   "metadata": {},
   "outputs": [
    {
     "name": "stdout",
     "output_type": "stream",
     "text": [
      "\n",
      "Data types:\n",
      "text     object\n",
      "label     int64\n",
      "dtype: object\n"
     ]
    }
   ],
   "source": [
    "\n",
    "# Data types\n",
    "print(\"\\nData types:\")\n",
    "print(df.dtypes)"
   ]
  },
  {
   "cell_type": "code",
   "execution_count": 10,
   "id": "8d041bf7-7086-4261-8a87-c0dc493c4e64",
   "metadata": {},
   "outputs": [
    {
     "name": "stdout",
     "output_type": "stream",
     "text": [
      "\n",
      "Missing values:\n",
      "text     0\n",
      "label    0\n",
      "dtype: int64\n"
     ]
    }
   ],
   "source": [
    "\n",
    "# Checking for missing values\n",
    "missing_values = df.isnull().sum()\n",
    "print(\"\\nMissing values:\")\n",
    "print(missing_values)"
   ]
  },
  {
   "cell_type": "code",
   "execution_count": 11,
   "id": "cb6fc839-3054-4e85-b578-a0313aeccf99",
   "metadata": {},
   "outputs": [
    {
     "name": "stdout",
     "output_type": "stream",
     "text": [
      "\n",
      "Summary statistics:\n",
      "              label\n",
      "count  16000.000000\n",
      "mean       1.565937\n",
      "std        1.501430\n",
      "min        0.000000\n",
      "25%        0.000000\n",
      "50%        1.000000\n",
      "75%        3.000000\n",
      "max        5.000000\n"
     ]
    }
   ],
   "source": [
    "# Summary statistics\n",
    "print(\"\\nSummary statistics:\")\n",
    "print(df.describe())"
   ]
  },
  {
   "cell_type": "markdown",
   "id": "9a558765-faa0-4068-9bcb-dd74a196da0a",
   "metadata": {},
   "source": [
    "# 2. Exploring the Target Variable\n",
    "# Display the distribution of the target variable (label)"
   ]
  },
  {
   "cell_type": "code",
   "execution_count": 12,
   "id": "c5289483-d0d9-4a50-bed1-4925c0ceb40d",
   "metadata": {},
   "outputs": [
    {
     "name": "stdout",
     "output_type": "stream",
     "text": [
      "\n",
      "Distribution of labels:\n",
      "label\n",
      "1    5362\n",
      "0    4666\n",
      "3    2159\n",
      "4    1937\n",
      "2    1304\n",
      "5     572\n",
      "Name: count, dtype: int64\n"
     ]
    }
   ],
   "source": [
    "# Distribution of labels\n",
    "label_counts = df['label'].value_counts()\n",
    "print(\"\\nDistribution of labels:\")\n",
    "print(label_counts)"
   ]
  },
  {
   "cell_type": "markdown",
   "id": "84cf9d6d-625d-42db-8c9b-4c904ab9e3ff",
   "metadata": {},
   "source": [
    "\n",
    "# 3. Visualizing Data\n",
    "# Visualize the distribution of the target variable"
   ]
  },
  {
   "cell_type": "code",
   "execution_count": 14,
   "id": "b9102d9d-4572-43ec-a97b-e50418779761",
   "metadata": {},
   "outputs": [],
   "source": [
    "\n",
    "import matplotlib.pyplot as plt"
   ]
  },
  {
   "cell_type": "code",
   "execution_count": 16,
   "id": "5088a68e-b80c-4041-b007-79c9f5078191",
   "metadata": {},
   "outputs": [
    {
     "data": {
      "image/png": "[encoded data removed]",
      "text/plain": [
       "<Figure size 800x600 with 1 Axes>"
      ]
     },
     "metadata": {},
     "output_type": "display_data"
    }
   ],
   "source": [
    "plt.figure(figsize=(8, 6))\n",
    "plt.bar(label_counts.index, label_counts.values, color='blue')\n",
    "plt.title('Distribution of Labels')\n",
    "plt.xlabel('Emotion Labels')\n",
    "plt.ylabel('Count')\n",
    "plt.xticks(label_counts.index, ['Sadness', 'Joy', 'Love', 'Anger', 'Fear', 'Surprise'])\n",
    "plt.show()"
   ]
  },
  {
   "cell_type": "markdown",
   "id": "1b88ad18-1ff0-4da7-a2b8-0042f9e5afc3",
   "metadata": {},
   "source": [
    "### Step 3: Data Preprocessing\n",
    "Data preprocessing is essential to prepare the text data for modeling. This involves several tasks such as:\n",
    "1.Text Cleaning\n",
    "2.Tokenization\n",
    "3.Removing Stopwords\n",
    "4.Stemming or Lemmatization\n",
    "5.Vectorization"
   ]
  },
  {
   "cell_type": "code",
   "execution_count": 17,
   "id": "860c55ca-ed6b-4380-95ac-6f946fbfc99e",
   "metadata": {},
   "outputs": [],
   "source": [
    "import re\n",
    "import nltk\n",
    "from nltk.tokenize import word_tokenize\n",
    "from nltk.corpus import stopwords\n",
    "from nltk.stem import WordNetLemmatizer\n",
    "from sklearn.model_selection import train_test_split\n",
    "from sklearn.feature_extraction.text import TfidfVectorizer"
   ]
  },
  {
   "cell_type": "code",
   "execution_count": 18,
   "id": "1a2291cd-286a-4835-a111-f4878e709f7c",
   "metadata": {},
   "outputs": [
    {
     "name": "stderr",
     "output_type": "stream",
     "text": [
      "[nltk_data] Downloading package punkt to\n",
      "[nltk_data]     C:\\Users\\ramak\\AppData\\Roaming\\nltk_data...\n",
      "[nltk_data]   Package punkt is already up-to-date!\n",
      "[nltk_data] Downloading package stopwords to\n",
      "[nltk_data]     C:\\Users\\ramak\\AppData\\Roaming\\nltk_data...\n",
      "[nltk_data]   Package stopwords is already up-to-date!\n",
      "[nltk_data] Downloading package wordnet to\n",
      "[nltk_data]     C:\\Users\\ramak\\AppData\\Roaming\\nltk_data...\n",
      "[nltk_data]   Package wordnet is already up-to-date!\n"
     ]
    },
    {
     "data": {
      "text/plain": [
       "True"
      ]
     },
     "execution_count": 18,
     "metadata": {},
     "output_type": "execute_result"
    }
   ],
   "source": [
    "# Download resources\n",
    "nltk.download('punkt')\n",
    "nltk.download('stopwords')\n",
    "nltk.download('wordnet')"
   ]
  },
  {
   "cell_type": "code",
   "execution_count": 19,
   "id": "1ca79713-9e9d-4680-b51e-ef8b8597dc74",
   "metadata": {},
   "outputs": [],
   "source": [
    "# Function to clean the text\n",
    "def clean_text(text):\n",
    "    # Convert text to lowercase\n",
    "    text = text.lower()  \n",
    "    # Remove URLs\n",
    "    text = re.sub(r'https?://\\S+|www\\.\\S+', '', text)\n",
    "    # Remove special characters and punctuation\n",
    "    text = re.sub(r'[^\\w\\s]', '', text) \n",
    "    # Remove extra whitespaces\n",
    "    text = re.sub(r'\\s+', ' ', text).strip()  \n",
    "    return text\n"
   ]
  },
  {
   "cell_type": "code",
   "execution_count": 20,
   "id": "e85d1e2a-b017-44dc-a6b3-de0c66d2ea12",
   "metadata": {},
   "outputs": [],
   "source": [
    "# Function to tokenize the text\n",
    "def tokenize_text(text):\n",
    "    return word_tokenize(text)"
   ]
  },
  {
   "cell_type": "code",
   "execution_count": 21,
   "id": "2f78a0cb-34fe-4c17-b6d4-d971daba383a",
   "metadata": {},
   "outputs": [],
   "source": [
    "# Function to remove stopwords\n",
    "def remove_stopwords(tokens):\n",
    "    stop_words = set(stopwords.words('english'))\n",
    "    return [word for word in tokens if word not in stop_words]\n"
   ]
  },
  {
   "cell_type": "code",
   "execution_count": 22,
   "id": "0807898e-634d-47b2-8fd6-ff6036882429",
   "metadata": {},
   "outputs": [],
   "source": [
    "# Function to lemmatize tokens\n",
    "def lemmatize_tokens(tokens):\n",
    "    lemmatizer = WordNetLemmatizer()\n",
    "    return [lemmatizer.lemmatize(word) for word in tokens]\n"
   ]
  },
  {
   "cell_type": "code",
   "execution_count": 23,
   "id": "b733e7ac-3a76-4bf9-90e6-950705ea2f08",
   "metadata": {},
   "outputs": [],
   "source": [
    "\n",
    "# Function to convert tokens back to text\n",
    "def tokens_to_text(tokens):\n",
    "    return ' '.join(tokens)\n"
   ]
  },
  {
   "cell_type": "code",
   "execution_count": 24,
   "id": "74d4721e-6def-4033-b11d-703b02c01696",
   "metadata": {},
   "outputs": [],
   "source": [
    "# Apply preprocessing to the 'text' column\n",
    "df['cleaned_text'] = df['text'].apply(clean_text)\n",
    "df['tokens'] = df['cleaned_text'].apply(tokenize_text)\n",
    "df['tokens'] = df['tokens'].apply(remove_stopwords)\n",
    "df['tokens'] = df['tokens'].apply(lemmatize_tokens)\n",
    "df['preprocessed_text'] = df['tokens'].apply(tokens_to_text)\n"
   ]
  },
  {
   "cell_type": "code",
   "execution_count": 30,
   "id": "1bf8de7e-ee1e-4106-9d66-4056209b220f",
   "metadata": {},
   "outputs": [
    {
     "name": "stdout",
     "output_type": "stream",
     "text": [
      "                                                text  \\\n",
      "0                            i didnt feel humiliated   \n",
      "1  i can go from feeling so hopeless to so damned...   \n",
      "2   im grabbing a minute to post i feel greedy wrong   \n",
      "3  i am ever feeling nostalgic about the fireplac...   \n",
      "4                               i am feeling grouchy   \n",
      "\n",
      "                                   preprocessed_text  \n",
      "0                              didnt feel humiliated  \n",
      "1  go feeling hopeless damned hopeful around some...  \n",
      "2          im grabbing minute post feel greedy wrong  \n",
      "3  ever feeling nostalgic fireplace know still pr...  \n",
      "4                                    feeling grouchy  \n"
     ]
    }
   ],
   "source": [
    "# Split the dataset into features (X) and labels (y)\n",
    "X = df['preprocessed_text']\n",
    "y = df['label']\n",
    "# Display the DataFrame with the preprocessed text\n",
    "print(df[['text', 'preprocessed_text']].head())"
   ]
  },
  {
   "cell_type": "code",
   "execution_count": 26,
   "id": "3a82523c-4da6-4cf8-86d5-ca4c3b197bc1",
   "metadata": {},
   "outputs": [],
   "source": [
    "# Split the data into training and testing sets\n",
    "X_train, X_test, y_train, y_test = train_test_split(X, y, test_size=0.2, random_state=42)\n"
   ]
  },
  {
   "cell_type": "code",
   "execution_count": 27,
   "id": "11a8f3ef-4e8d-4ba1-8149-177e88f89ab6",
   "metadata": {},
   "outputs": [],
   "source": [
    "\n",
    "# Initialize the TF-IDF vectorizer\n",
    "tfidf_vectorizer = TfidfVectorizer(max_features=1000)\n",
    "\n",
    "# Fit and transform the training data\n",
    "X_train_tfidf = tfidf_vectorizer.fit_transform(X_train)"
   ]
  },
  {
   "cell_type": "code",
   "execution_count": 28,
   "id": "3075e61e-e7ce-43aa-bd53-10fe07043333",
   "metadata": {},
   "outputs": [
    {
     "name": "stdout",
     "output_type": "stream",
     "text": [
      "Training set shape: (12800, 1000)\n",
      "Testing set shape: (3200, 1000)\n"
     ]
    }
   ],
   "source": [
    "# Transform the testing data\n",
    "X_test_tfidf = tfidf_vectorizer.transform(X_test)\n",
    "\n",
    "# Print shapes of resulting sets\n",
    "print(\"Training set shape:\", X_train_tfidf.shape)\n",
    "print(\"Testing set shape:\", X_test_tfidf.shape)"
   ]
  },
  {
   "cell_type": "markdown",
   "id": "8755e46b-e6d1-4cc5-a8ad-cac9bbf526de",
   "metadata": {},
   "source": [
    "2.Model Training and Evaluation:\n",
    "Training the Model Now that we have preprocessed our text data and converted it into numerical features using TF-IDF vectorization, we can train our classification model. "
   ]
  },
  {
   "cell_type": "markdown",
   "id": "9f43d9dd-919f-4922-a3fa-6b86394c1f5c",
   "metadata": {},
   "source": [
    "### The implementation of Logistic Regression\n",
    " It loads the dataset, preprocesses the text data, splits it into train and test sets, vectorizes the text data using TF-IDF, trains a Logistic Regression model, evaluates its performance, and visualizes the confusion matrix."
   ]
  },
  {
   "cell_type": "code",
   "execution_count": 39,
   "id": "d2dfd2bd-75cd-434d-bec9-e4180d6d6c0e",
   "metadata": {},
   "outputs": [
    {
     "name": "stderr",
     "output_type": "stream",
     "text": [
      "C:\\Users\\ramak\\anaconda3\\Lib\\site-packages\\sklearn\\linear_model\\_logistic.py:458: ConvergenceWarning: lbfgs failed to converge (status=1):\n",
      "STOP: TOTAL NO. of ITERATIONS REACHED LIMIT.\n",
      "\n",
      "Increase the number of iterations (max_iter) or scale the data as shown in:\n",
      "    https://scikit-learn.org/stable/modules/preprocessing.html\n",
      "Please also refer to the documentation for alternative solver options:\n",
      "    https://scikit-learn.org/stable/modules/linear_model.html#logistic-regression\n",
      "  n_iter_i = _check_optimize_result(\n"
     ]
    }
   ],
   "source": [
    "# Logistic Regression\n",
    "# the emotion labels\n",
    "emotion_labels = {0: 'anger', 1: 'fear', 2: 'joy', 3: 'sadness', 4: 'surprise', 5: 'love'}\n",
    "\n",
    "log_reg = LogisticRegression()\n",
    "log_reg.fit(X_train_tfidf, y_train)\n",
    "y_pred_log_reg = log_reg.predict(X_test_tfidf)\n"
   ]
  },
  {
   "cell_type": "code",
   "execution_count": 40,
   "id": "48543330-e96d-40f2-a9ec-614c319e00ae",
   "metadata": {},
   "outputs": [
    {
     "name": "stdout",
     "output_type": "stream",
     "text": [
      "Logistic Regression Accuracy: 0.8428125\n"
     ]
    }
   ],
   "source": [
    "\n",
    "# Accuracy\n",
    "accuracy_log_reg = accuracy_score(y_test, y_pred_log_reg)\n",
    "print(\"Logistic Regression Accuracy:\", accuracy_log_reg)\n"
   ]
  },
  {
   "cell_type": "code",
   "execution_count": 35,
   "id": "3e9aa23e-14db-4184-9654-a16ab5ca4f75",
   "metadata": {},
   "outputs": [
    {
     "name": "stdout",
     "output_type": "stream",
     "text": [
      "Classification Report for Logistic Regression:\n",
      "              precision    recall  f1-score   support\n",
      "\n",
      "           0       0.88      0.91      0.89       946\n",
      "           1       0.79      0.94      0.86      1021\n",
      "           2       0.86      0.66      0.75       296\n",
      "           3       0.90      0.75      0.82       427\n",
      "           4       0.85      0.74      0.79       397\n",
      "           5       0.85      0.59      0.70       113\n",
      "\n",
      "    accuracy                           0.84      3200\n",
      "   macro avg       0.85      0.77      0.80      3200\n",
      "weighted avg       0.85      0.84      0.84      3200\n",
      "\n"
     ]
    }
   ],
   "source": [
    "\n",
    "# Classification Report\n",
    "print(\"Classification Report for Logistic Regression:\")\n",
    "print(classification_report(y_test, y_pred_log_reg))\n"
   ]
  },
  {
   "cell_type": "code",
   "execution_count": 41,
   "id": "60b2a8fe-4231-4b75-bcde-f8f2fc696ea0",
   "metadata": {},
   "outputs": [
    {
     "data": {
      "image/png": "[encoded data removed]",
      "text/plain": [
       "<Figure size 800x600 with 1 Axes>"
      ]
     },
     "metadata": {},
     "output_type": "display_data"
    }
   ],
   "source": [
    "\n",
    "# Confusion Matrix\n",
    "conf_matrix_log_reg = confusion_matrix(y_test, y_pred_log_reg)\n",
    "plt.figure(figsize=(8, 6))\n",
    "sns.heatmap(conf_matrix_log_reg, annot=True, fmt='d', cmap='Blues', cbar=False, xticklabels=emotion_labels.values(), yticklabels=emotion_labels.values())\n",
    "plt.title('Confusion Matrix - Logistic Regression')\n",
    "plt.xlabel('Predicted Label')\n",
    "plt.ylabel('True Label')\n",
    "plt.show()\n"
   ]
  },
  {
   "cell_type": "markdown",
   "id": "d8f5496f-2898-4fb7-9d2a-56bd80068486",
   "metadata": {},
   "source": [
    "### Random Forest\n",
    "imported necessary libraries, preprocessed the dataset, and split it into train and test sets. thatwe  Support Vector Machine (SVM) model with a linear kernel, evaluates its performance on the test set, and visualizes the confusion matrix.  would define to calculate accuracy, generate classification reports, and visualize the confusion matrix for any given model. "
   ]
  },
  {
   "cell_type": "code",
   "execution_count": 42,
   "id": "aab06014-130f-4a11-940e-bbb591d60049",
   "metadata": {},
   "outputs": [],
   "source": [
    "# Random Forest\n",
    "rand_forest = RandomForestClassifier()\n",
    "rand_forest.fit(X_train_tfidf, y_train)\n",
    "y_pred_rand_forest = rand_forest.predict(X_test_tfidf)\n"
   ]
  },
  {
   "cell_type": "code",
   "execution_count": 45,
   "id": "8aca01ff-d1f2-4916-9315-8754890bbf5e",
   "metadata": {},
   "outputs": [
    {
     "name": "stdout",
     "output_type": "stream",
     "text": [
      "Random Forest Accuracy: 0.848125\n"
     ]
    }
   ],
   "source": [
    "# Accuracy\n",
    "accuracy_rand_forest = accuracy_score(y_test, y_pred_rand_forest)\n",
    "print(\"Random Forest Accuracy:\", accuracy_rand_forest)\n"
   ]
  },
  {
   "cell_type": "code",
   "execution_count": 46,
   "id": "1fc22303-361c-4867-9e58-662510054ea8",
   "metadata": {},
   "outputs": [
    {
     "name": "stdout",
     "output_type": "stream",
     "text": [
      "Classification Report for Random Forest:\n",
      "              precision    recall  f1-score   support\n",
      "\n",
      "           0       0.92      0.89      0.90       946\n",
      "           1       0.81      0.91      0.86      1021\n",
      "           2       0.84      0.70      0.76       296\n",
      "           3       0.85      0.77      0.81       427\n",
      "           4       0.82      0.83      0.82       397\n",
      "           5       0.85      0.69      0.76       113\n",
      "\n",
      "    accuracy                           0.85      3200\n",
      "   macro avg       0.85      0.80      0.82      3200\n",
      "weighted avg       0.85      0.85      0.85      3200\n",
      "\n"
     ]
    }
   ],
   "source": [
    "# Classification Report\n",
    "print(\"Classification Report for Random Forest:\")\n",
    "print(classification_report(y_test, y_pred_rand_forest))\n"
   ]
  },
  {
   "cell_type": "code",
   "execution_count": 47,
   "id": "4671d2c7-9a18-47c4-8547-3958beae5fd3",
   "metadata": {},
   "outputs": [
    {
     "data": {
      "image/png": "[encoded data removed]",
      "text/plain": [
       "<Figure size 800x600 with 1 Axes>"
      ]
     },
     "metadata": {},
     "output_type": "display_data"
    }
   ],
   "source": [
    "\n",
    "# Confusion Matrix\n",
    "conf_matrix_rand_forest = confusion_matrix(y_test, y_pred_rand_forest)\n",
    "plt.figure(figsize=(8, 6))\n",
    "sns.heatmap(conf_matrix_rand_forest, annot=True, fmt='d', cmap='Blues', cbar=False, xticklabels=emotion_labels.values(), yticklabels=emotion_labels.values())\n",
    "plt.title('Confusion Matrix - Random Forest')\n",
    "plt.xlabel('Predicted Label')\n",
    "plt.ylabel('True Label')\n",
    "plt.show()\n"
   ]
  },
  {
   "cell_type": "markdown",
   "id": "dc69287b-148c-4f8b-bcfc-dfc2e5416221",
   "metadata": {},
   "source": [
    " ### Support Vector Machine (SVM) model \n",
    " It evaluates its performance on the test set, and visualizes the confusion matrix. "
   ]
  },
  {
   "cell_type": "code",
   "execution_count": 48,
   "id": "d7251bfb-4699-4501-bf28-7cb45366f5e9",
   "metadata": {},
   "outputs": [],
   "source": [
    "# Support Vector Machine (SVM)\n",
    "svm_classifier = SVC(kernel='linear', random_state=42)\n",
    "svm_classifier.fit(X_train_tfidf, y_train)\n",
    "y_pred_svm = svm_classifier.predict(X_test_tfidf)\n",
    "\n"
   ]
  },
  {
   "cell_type": "code",
   "execution_count": 49,
   "id": "0655388c-a915-45f7-9043-672b5997bf11",
   "metadata": {},
   "outputs": [
    {
     "name": "stdout",
     "output_type": "stream",
     "text": [
      "Support Vector Machine (SVM) Accuracy: 0.8490625\n"
     ]
    }
   ],
   "source": [
    "\n",
    "# Accuracy\n",
    "accuracy_svm = accuracy_score(y_test, y_pred_svm)\n",
    "print(\"Support Vector Machine (SVM) Accuracy:\", accuracy_svm)\n"
   ]
  },
  {
   "cell_type": "code",
   "execution_count": 50,
   "id": "af3e79ff-39a3-47b6-bdce-969c653acee2",
   "metadata": {},
   "outputs": [
    {
     "name": "stdout",
     "output_type": "stream",
     "text": [
      "Classification Report for Support Vector Machine (SVM):\n",
      "              precision    recall  f1-score   support\n",
      "\n",
      "           0       0.90      0.89      0.90       946\n",
      "           1       0.80      0.93      0.86      1021\n",
      "           2       0.83      0.71      0.76       296\n",
      "           3       0.90      0.78      0.83       427\n",
      "           4       0.83      0.80      0.81       397\n",
      "           5       0.82      0.63      0.71       113\n",
      "\n",
      "    accuracy                           0.85      3200\n",
      "   macro avg       0.85      0.79      0.81      3200\n",
      "weighted avg       0.85      0.85      0.85      3200\n",
      "\n"
     ]
    }
   ],
   "source": [
    "# Classification Report\n",
    "print(\"Classification Report for Support Vector Machine (SVM):\")\n",
    "print(classification_report(y_test, y_pred_svm))\n"
   ]
  },
  {
   "cell_type": "code",
   "execution_count": 51,
   "id": "d4863d11-77cf-4307-af39-9b02d4b4e150",
   "metadata": {},
   "outputs": [
    {
     "data": {
      "image/png": "[encoded data removed]",
      "text/plain": [
       "<Figure size 800x600 with 1 Axes>"
      ]
     },
     "metadata": {},
     "output_type": "display_data"
    }
   ],
   "source": [
    "\n",
    "# Confusion Matrix\n",
    "conf_matrix_svm = confusion_matrix(y_test, y_pred_svm)\n",
    "plt.figure(figsize=(8, 6))\n",
    "sns.heatmap(conf_matrix_svm, annot=True, fmt='d', cmap='Blues', cbar=False, xticklabels=emotion_labels.values(), yticklabels=emotion_labels.values())\n",
    "plt.title('Confusion Matrix - Support Vector Machine (SVM)')\n",
    "plt.xlabel('Predicted Label')\n",
    "plt.ylabel('True Label')\n",
    "plt.show()"
   ]
  },
  {
   "cell_type": "markdown",
   "id": "4b92fe54-897e-4323-9562-e27c5428a271",
   "metadata": {},
   "source": [
    "### Compare Model Performances"
   ]
  },
  {
   "cell_type": "markdown",
   "id": "df036ceb-27ce-4fa8-9c9f-5170aa97ac08",
   "metadata": {},
   "source": [
    "\n",
    "Comparing model accuracies helps in selecting the most suitable algorithm for a given task. By evaluating multiple models, we gain insights into their performance and can choose the one with the highest accuracy. This comparison enables us to make informed decisions, optimizing the model selection process and improving overall predictive performance"
   ]
  },
  {
   "cell_type": "code",
   "execution_count": 52,
   "id": "ee3476ed-e8c1-4a61-8cd9-6d94e244f193",
   "metadata": {},
   "outputs": [
    {
     "data": {
      "image/png": "[encoded data removed]",
      "text/plain": [
       "<Figure size 1000x600 with 1 Axes>"
      ]
     },
     "metadata": {},
     "output_type": "display_data"
    }
   ],
   "source": [
    "import matplotlib.pyplot as plt\n",
    "\n",
    "#  accuracies for each model\n",
    "accuracy_svm = 0.8490625\n",
    "accuracy_random_forest = 0.848125\n",
    "accuracy_logistic_regression = 0.8428125\n",
    "\n",
    "# models and their accuracies\n",
    "models = ['Support Vector Machine (SVM)', 'Random Forest', 'Logistic Regression']\n",
    "accuracies = [accuracy_svm, accuracy_random_forest, accuracy_logistic_regression]\n",
    "\n",
    "# Plot\n",
    "plt.figure(figsize=(10, 6))\n",
    "plt.bar(models, accuracies, color='skyblue')\n",
    "plt.xlabel('Models')\n",
    "plt.ylabel('Accuracy')\n",
    "plt.title('Comparison of Model Accuracies')\n",
    "plt.ylim(0.8, 0.9)  \n",
    "plt.show()\n"
   ]
  },
  {
   "cell_type": "markdown",
   "id": "026689ba-e230-4d85-8593-898aceae5347",
   "metadata": {},
   "source": [
    "### Summary Report"
   ]
  },
  {
   "cell_type": "markdown",
   "id": "81a18465-6f7d-49fe-9aed-5bf515bdc302",
   "metadata": {},
   "source": [
    "### Objective:\n",
    "The objective of the project was to perform text classification on a dataset containing emotional text data."
   ]
  },
  {
   "cell_type": "markdown",
   "id": "d0eba372-541d-4669-bf60-d3c547239335",
   "metadata": {},
   "source": [
    "### Dataset:\n",
    "The dataset consisted of labeled text samples categorized into different emotions such as sadness, joy, love, anger, fear, and surprise."
   ]
  },
  {
   "cell_type": "markdown",
   "id": "d37fd964-1c06-4dbd-9848-99c1631189f4",
   "metadata": {},
   "source": [
    "### Approach:\n",
    "### Data Preprocessing:\n",
    "\n",
    "Extensive preprocessing steps were applied, including lowercasing, removing links, special characters, stop words, stemming, and lemmatization.\n",
    "TF-IDF vectorization was used to convert text data into numerical features.\n",
    "\n",
    "### Model Training and Evaluation:\n",
    "\n",
    "Three classification models were trained and evaluated: Logistic Regression, Support Vector Machine (SVM), and Random Forest.\n",
    "Models were evaluated on both training and testing sets to assess their performance."
   ]
  },
  {
   "cell_type": "markdown",
   "id": "a9dcc83c-c691-4795-83be-41f8326410c2",
   "metadata": {},
   "source": [
    "### Based on the provided accuracy values:\n",
    "\n",
    "Support Vector Machine (SVM) Accuracy: 84.91%\n",
    "Random Forest Accuracy: 84.81%\n",
    "Logistic Regression Accuracy: 84.28%"
   ]
  },
  {
   "cell_type": "markdown",
   "id": "42ba50d4-6f04-43d2-9c2a-89fa6a1b7834",
   "metadata": {},
   "source": [
    "### Key Findings:\n",
    "\n",
    "### Logistic Regression: \n",
    "Achieved an accuracy of 84.28%. Offers simplicity and interpretability. Efficient for binary classification tasks.\n",
    "### Support Vector Machine (SVM): \n",
    "Achieved an accuracy of 84.91%. Known for its power in classification tasks, especially in high-dimensional spaces. Capable of handling both linear and non-linear classification problems.\n",
    "### Random Forest: \n",
    "Achieved an accuracy of 84.81%. Utilizes an ensemble learning method based on decision trees. Robust to overfitting and performs well on a variety of datasets."
   ]
  },
  {
   "cell_type": "markdown",
   "id": "32a89d47-6f36-4621-8656-f979fa440b8d",
   "metadata": {},
   "source": [
    "### Conclusion:\n",
    "Based on the provided accuracy values, the Support Vector Machine (SVM) model slightly outperforms the Random Forest and Logistic Regression models in terms of accuracy."
   ]
  },
  {
   "cell_type": "markdown",
   "id": "b7bcd538-48cb-4908-85df-16672fda3367",
   "metadata": {},
   "source": [
    "### Further Investigation:\n",
    "Further investigation may involve fine-tuning hyperparameters for all models to optimize their performance. Additionally, analyzing other metrics such as precision, recall, and F1-score could provide a more comprehensive understanding of each model's performance."
   ]
  },
  {
   "cell_type": "markdown",
   "id": "1296dce8-c793-42bc-a7a2-3744a5981bc2",
   "metadata": {},
   "source": [
    "### Considerations:\n",
    "SVM may require more computational resources but is powerful for high-dimensional data and can handle complex classification tasks.\n",
    "Random Forest offers versatility and robustness but may require careful tuning to achieve optimal performance.\n",
    "Logistic Regression is simple and interpretable, making it suitable for scenarios where model transparency is essential.\n",
    "In conclusion, while SVM has shown slightly higher accuracy in this comparison, further investigation and consideration of various factors are necessary before making a final decision on the model to use."
   ]
  }
 ],
 "metadata": {
  "kernelspec": {
   "display_name": "Python 3 (ipykernel)",
   "language": "python",
   "name": "python3"
  },
  "language_info": {
   "codemirror_mode": {
    "name": "ipython",
    "version": 3
   },
   "file_extension": ".py",
   "mimetype": "text/x-python",
   "name": "python",
   "nbconvert_exporter": "python",
   "pygments_lexer": "ipython3",
   "version": "3.11.7"
  }
 },
 "nbformat": 4,
 "nbformat_minor": 5
}
