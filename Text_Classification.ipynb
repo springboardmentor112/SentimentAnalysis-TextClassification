{
 "cells": [
  {
   "cell_type": "markdown",
   "id": "00f8f9c3",
   "metadata": {},
   "source": [
    "# feature engineering on the text data"
   ]
  },
  {
   "cell_type": "markdown",
   "id": "21bae928",
   "metadata": {},
   "source": [
    "1. One hot encoding -> easy , intutitive , sparsity problems(all matrix will have more zeros not contributing in the calculations)\n",
    "2. bag of words\n",
    "3. ngrams\n",
    "4. Tf-Id\n",
    "5. custom features\n",
    "6. Deep learning word2vec and embdeddings"
   ]
  },
  {
   "cell_type": "markdown",
   "id": "4f9a69c8",
   "metadata": {},
   "source": [
    "**common terms in text feature engineering**\n",
    "1. corpus (combination of all the words from all the users review)\n",
    "2. Vocabulary (to get those unique words from corpus)\n",
    "3. Document (document each user replies in a document separately)\n",
    "4. Word (each words in the documents)"
   ]
  },
  {
   "cell_type": "code",
   "execution_count": null,
   "id": "223d4b64",
   "metadata": {},
   "outputs": [],
   "source": []
  },
  {
   "cell_type": "code",
   "execution_count": null,
   "id": "d706cb47",
   "metadata": {},
   "outputs": [],
   "source": []
  },
  {
   "cell_type": "code",
   "execution_count": null,
   "id": "2124eeb4",
   "metadata": {},
   "outputs": [],
   "source": []
  }
 ],
 "metadata": {
  "kernelspec": {
   "display_name": "Python 3 (ipykernel)",
   "language": "python",
   "name": "python3"
  },
  "language_info": {
   "codemirror_mode": {
    "name": "ipython",
    "version": 3
   },
   "file_extension": ".py",
   "mimetype": "text/x-python",
   "name": "python",
   "nbconvert_exporter": "python",
   "pygments_lexer": "ipython3",
   "version": "3.11.5"
  }
 },
 "nbformat": 4,
 "nbformat_minor": 5
}
