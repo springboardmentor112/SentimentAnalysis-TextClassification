{
 "cells": [
  {
   "cell_type": "markdown",
   "id": "8a4be18d",
   "metadata": {},
   "source": [
    "# Data preprocessing"
   ]
  },
  {
   "cell_type": "markdown",
   "id": "62d5f555",
   "metadata": {},
   "source": [
    "Import Libararies"
   ]
  },
  {
   "cell_type": "code",
   "execution_count": 84,
   "id": "27b2b922",
   "metadata": {},
   "outputs": [],
   "source": [
    "import pandas as pd\n",
    "import re\n",
    "import nltk\n",
    "import seaborn as sns\n",
    "from nltk.corpus import stopwords\n",
    "from nltk.stem import PorterStemmer, WordNetLemmatizer\n",
    "from sklearn.feature_extraction.text import TfidfVectorizer\n",
    "from sklearn.model_selection import train_test_split\n",
    "from sklearn.naive_bayes import MultinomialNB\n",
    "from sklearn.linear_model import LogisticRegression\n",
    "from sklearn.svm import SVC\n",
    "from sklearn.metrics import accuracy_score\n",
    "from sklearn.model_selection import GridSearchCV, train_test_split\n",
    "from sklearn.metrics import classification_report, accuracy_score"
   ]
  },
  {
   "cell_type": "markdown",
   "id": "24dac8db",
   "metadata": {},
   "source": [
    "Dataset"
   ]
  },
  {
   "cell_type": "code",
   "execution_count": 56,
   "id": "9c4280dc",
   "metadata": {},
   "outputs": [
    {
     "data": {
      "text/html": [
       "<div>\n",
       "<style scoped>\n",
       "    .dataframe tbody tr th:only-of-type {\n",
       "        vertical-align: middle;\n",
       "    }\n",
       "\n",
       "    .dataframe tbody tr th {\n",
       "        vertical-align: top;\n",
       "    }\n",
       "\n",
       "    .dataframe thead th {\n",
       "        text-align: right;\n",
       "    }\n",
       "</style>\n",
       "<table border=\"1\" class=\"dataframe\">\n",
       "  <thead>\n",
       "    <tr style=\"text-align: right;\">\n",
       "      <th></th>\n",
       "      <th>text</th>\n",
       "      <th>label</th>\n",
       "    </tr>\n",
       "  </thead>\n",
       "  <tbody>\n",
       "    <tr>\n",
       "      <th>0</th>\n",
       "      <td>i didnt feel humiliated</td>\n",
       "      <td>0</td>\n",
       "    </tr>\n",
       "    <tr>\n",
       "      <th>1</th>\n",
       "      <td>i can go from feeling so hopeless to so damned...</td>\n",
       "      <td>0</td>\n",
       "    </tr>\n",
       "    <tr>\n",
       "      <th>2</th>\n",
       "      <td>im grabbing a minute to post i feel greedy wrong</td>\n",
       "      <td>3</td>\n",
       "    </tr>\n",
       "    <tr>\n",
       "      <th>3</th>\n",
       "      <td>i am ever feeling nostalgic about the fireplac...</td>\n",
       "      <td>2</td>\n",
       "    </tr>\n",
       "    <tr>\n",
       "      <th>4</th>\n",
       "      <td>i am feeling grouchy</td>\n",
       "      <td>3</td>\n",
       "    </tr>\n",
       "  </tbody>\n",
       "</table>\n",
       "</div>"
      ],
      "text/plain": [
       "                                                text  label\n",
       "0                            i didnt feel humiliated      0\n",
       "1  i can go from feeling so hopeless to so damned...      0\n",
       "2   im grabbing a minute to post i feel greedy wrong      3\n",
       "3  i am ever feeling nostalgic about the fireplac...      2\n",
       "4                               i am feeling grouchy      3"
      ]
     },
     "execution_count": 56,
     "metadata": {},
     "output_type": "execute_result"
    }
   ],
   "source": [
    "df = pd.read_csv('Emotions_training.csv')\n",
    "df.head()"
   ]
  },
  {
   "cell_type": "markdown",
   "id": "5af0de1a",
   "metadata": {},
   "source": [
    "Dataset"
   ]
  },
  {
   "cell_type": "code",
   "execution_count": 57,
   "id": "afa52f15",
   "metadata": {},
   "outputs": [
    {
     "data": {
      "text/html": [
       "<div>\n",
       "<style scoped>\n",
       "    .dataframe tbody tr th:only-of-type {\n",
       "        vertical-align: middle;\n",
       "    }\n",
       "\n",
       "    .dataframe tbody tr th {\n",
       "        vertical-align: top;\n",
       "    }\n",
       "\n",
       "    .dataframe thead th {\n",
       "        text-align: right;\n",
       "    }\n",
       "</style>\n",
       "<table border=\"1\" class=\"dataframe\">\n",
       "  <thead>\n",
       "    <tr style=\"text-align: right;\">\n",
       "      <th></th>\n",
       "      <th>text</th>\n",
       "      <th>label</th>\n",
       "      <th>clean_text</th>\n",
       "    </tr>\n",
       "  </thead>\n",
       "  <tbody>\n",
       "    <tr>\n",
       "      <th>0</th>\n",
       "      <td>i didnt feel humiliated</td>\n",
       "      <td>0</td>\n",
       "      <td>i didnt feel humiliated</td>\n",
       "    </tr>\n",
       "    <tr>\n",
       "      <th>1</th>\n",
       "      <td>i can go from feeling so hopeless to so damned...</td>\n",
       "      <td>0</td>\n",
       "      <td>i can go from feeling so hopeless to so damned...</td>\n",
       "    </tr>\n",
       "    <tr>\n",
       "      <th>2</th>\n",
       "      <td>im grabbing a minute to post i feel greedy wrong</td>\n",
       "      <td>3</td>\n",
       "      <td>im grabbing a minute to post i feel greedy wrong</td>\n",
       "    </tr>\n",
       "    <tr>\n",
       "      <th>3</th>\n",
       "      <td>i am ever feeling nostalgic about the fireplac...</td>\n",
       "      <td>2</td>\n",
       "      <td>i am ever feeling nostalgic about the fireplac...</td>\n",
       "    </tr>\n",
       "    <tr>\n",
       "      <th>4</th>\n",
       "      <td>i am feeling grouchy</td>\n",
       "      <td>3</td>\n",
       "      <td>i am feeling grouchy</td>\n",
       "    </tr>\n",
       "  </tbody>\n",
       "</table>\n",
       "</div>"
      ],
      "text/plain": [
       "                                                text  label  \\\n",
       "0                            i didnt feel humiliated      0   \n",
       "1  i can go from feeling so hopeless to so damned...      0   \n",
       "2   im grabbing a minute to post i feel greedy wrong      3   \n",
       "3  i am ever feeling nostalgic about the fireplac...      2   \n",
       "4                               i am feeling grouchy      3   \n",
       "\n",
       "                                          clean_text  \n",
       "0                            i didnt feel humiliated  \n",
       "1  i can go from feeling so hopeless to so damned...  \n",
       "2   im grabbing a minute to post i feel greedy wrong  \n",
       "3  i am ever feeling nostalgic about the fireplac...  \n",
       "4                               i am feeling grouchy  "
      ]
     },
     "execution_count": 57,
     "metadata": {},
     "output_type": "execute_result"
    }
   ],
   "source": [
    "df['clean_text'] = df['text'].str.lower()\n",
    "df.head()"
   ]
  },
  {
   "cell_type": "markdown",
   "id": "c6a960dc",
   "metadata": {},
   "source": [
    "Removing Links"
   ]
  },
  {
   "cell_type": "code",
   "execution_count": 58,
   "id": "438e5525",
   "metadata": {},
   "outputs": [],
   "source": [
    "df['text'] = df['text'].fillna('')"
   ]
  },
  {
   "cell_type": "code",
   "execution_count": 59,
   "id": "6fec4406",
   "metadata": {},
   "outputs": [
    {
     "data": {
      "text/html": [
       "<div>\n",
       "<style scoped>\n",
       "    .dataframe tbody tr th:only-of-type {\n",
       "        vertical-align: middle;\n",
       "    }\n",
       "\n",
       "    .dataframe tbody tr th {\n",
       "        vertical-align: top;\n",
       "    }\n",
       "\n",
       "    .dataframe thead th {\n",
       "        text-align: right;\n",
       "    }\n",
       "</style>\n",
       "<table border=\"1\" class=\"dataframe\">\n",
       "  <thead>\n",
       "    <tr style=\"text-align: right;\">\n",
       "      <th></th>\n",
       "      <th>text</th>\n",
       "      <th>label</th>\n",
       "      <th>clean_text</th>\n",
       "    </tr>\n",
       "  </thead>\n",
       "  <tbody>\n",
       "    <tr>\n",
       "      <th>0</th>\n",
       "      <td>i didnt feel humiliated</td>\n",
       "      <td>0</td>\n",
       "      <td>i didnt feel humiliated</td>\n",
       "    </tr>\n",
       "    <tr>\n",
       "      <th>1</th>\n",
       "      <td>i can go from feeling so hopeless to so damned...</td>\n",
       "      <td>0</td>\n",
       "      <td>i can go from feeling so hopeless to so damned...</td>\n",
       "    </tr>\n",
       "    <tr>\n",
       "      <th>2</th>\n",
       "      <td>im grabbing a minute to post i feel greedy wrong</td>\n",
       "      <td>3</td>\n",
       "      <td>im grabbing a minute to post i feel greedy wrong</td>\n",
       "    </tr>\n",
       "    <tr>\n",
       "      <th>3</th>\n",
       "      <td>i am ever feeling nostalgic about the fireplac...</td>\n",
       "      <td>2</td>\n",
       "      <td>i am ever feeling nostalgic about the fireplac...</td>\n",
       "    </tr>\n",
       "    <tr>\n",
       "      <th>4</th>\n",
       "      <td>i am feeling grouchy</td>\n",
       "      <td>3</td>\n",
       "      <td>i am feeling grouchy</td>\n",
       "    </tr>\n",
       "  </tbody>\n",
       "</table>\n",
       "</div>"
      ],
      "text/plain": [
       "                                                text  label  \\\n",
       "0                            i didnt feel humiliated      0   \n",
       "1  i can go from feeling so hopeless to so damned...      0   \n",
       "2   im grabbing a minute to post i feel greedy wrong      3   \n",
       "3  i am ever feeling nostalgic about the fireplac...      2   \n",
       "4                               i am feeling grouchy      3   \n",
       "\n",
       "                                          clean_text  \n",
       "0                            i didnt feel humiliated  \n",
       "1  i can go from feeling so hopeless to so damned...  \n",
       "2   im grabbing a minute to post i feel greedy wrong  \n",
       "3  i am ever feeling nostalgic about the fireplac...  \n",
       "4                               i am feeling grouchy  "
      ]
     },
     "execution_count": 59,
     "metadata": {},
     "output_type": "execute_result"
    }
   ],
   "source": [
    "no_url=[]\n",
    "for sentence in df[\"text\"]:\n",
    "    no_url.append(re.sub(r\"http\\S+\", \"\", sentence))\n",
    "df[\"text\"]=no_url\n",
    "df.head()"
   ]
  },
  {
   "cell_type": "markdown",
   "id": "7240e39b",
   "metadata": {},
   "source": [
    "Remove next lines"
   ]
  },
  {
   "cell_type": "code",
   "execution_count": 60,
   "id": "ea20d913",
   "metadata": {},
   "outputs": [],
   "source": [
    "df['text'] = df['text'].str.replace('\\n','')"
   ]
  },
  {
   "cell_type": "markdown",
   "id": "dfec5b96",
   "metadata": {},
   "source": [
    "Remove next lines using replace() method"
   ]
  },
  {
   "cell_type": "code",
   "execution_count": 61,
   "id": "d6fee20e",
   "metadata": {},
   "outputs": [
    {
     "name": "stdout",
     "output_type": "stream",
     "text": [
      "It contains newlines.These should be removed.\n"
     ]
    }
   ],
   "source": [
    "def remove_newlines(text):\n",
    "    return text.replace('\\n', '')\n",
    "\n",
    "# Define the text variable\n",
    "text = \"\\nIt contains newlines.\\nThese should be removed.\"\n",
    "\n",
    "# Call the function with the defined text\n",
    "clean_text = remove_newlines(text)\n",
    "\n",
    "# Print the result\n",
    "print(clean_text)"
   ]
  },
  {
   "cell_type": "markdown",
   "id": "d0cb9fc1",
   "metadata": {},
   "source": [
    "Words containing numbers"
   ]
  },
  {
   "cell_type": "code",
   "execution_count": 62,
   "id": "55e4afe7",
   "metadata": {},
   "outputs": [
    {
     "name": "stdout",
     "output_type": "stream",
     "text": [
      "[]\n"
     ]
    }
   ],
   "source": [
    "import re\n",
    "def find_words_with_numbers(text):\n",
    "    pattern = r'\\b\\w*\\d\\w*\\b'  \n",
    "    words_with_numbers = re.findall(pattern, text)\n",
    "\n",
    "    return words_with_numbers\n",
    "words_with_numbers = find_words_with_numbers(text)\n",
    "print(words_with_numbers)"
   ]
  },
  {
   "cell_type": "markdown",
   "id": "820bd2b6",
   "metadata": {},
   "source": [
    "Extra spaces"
   ]
  },
  {
   "cell_type": "code",
   "execution_count": 63,
   "id": "79d8758a",
   "metadata": {},
   "outputs": [
    {
     "name": "stdout",
     "output_type": "stream",
     "text": [
      "\n"
     ]
    }
   ],
   "source": [
    "def remove_extra_spaces(text):\n",
    "    return ' '.join(text.split())\n",
    "\n",
    "text = \"  \"\n",
    "clean_text = remove_extra_spaces(text)\n",
    "print(clean_text)"
   ]
  },
  {
   "cell_type": "markdown",
   "id": "551c97b1",
   "metadata": {},
   "source": [
    "Special characters"
   ]
  },
  {
   "cell_type": "code",
   "execution_count": 64,
   "id": "31763c3d",
   "metadata": {},
   "outputs": [],
   "source": [
    "no_special_char=[]\n",
    "for sentence in df.text:\n",
    "    no_special_char.append(re.sub('[^A-Za-z0-9]+','', sentence))\n",
    "df[\"text\"]=no_special_char"
   ]
  },
  {
   "cell_type": "markdown",
   "id": "2363ef38",
   "metadata": {},
   "source": [
    "Removal of stop words"
   ]
  },
  {
   "cell_type": "code",
   "execution_count": 65,
   "id": "f37d6f78",
   "metadata": {},
   "outputs": [
    {
     "name": "stdout",
     "output_type": "stream",
     "text": [
      "Requirement already satisfied: nltk in /opt/anaconda3/lib/python3.11/site-packages (3.8.1)\n",
      "Requirement already satisfied: click in /opt/anaconda3/lib/python3.11/site-packages (from nltk) (8.1.7)\n",
      "Requirement already satisfied: joblib in /opt/anaconda3/lib/python3.11/site-packages (from nltk) (1.2.0)\n",
      "Requirement already satisfied: regex>=2021.8.3 in /opt/anaconda3/lib/python3.11/site-packages (from nltk) (2023.10.3)\n",
      "Requirement already satisfied: tqdm in /opt/anaconda3/lib/python3.11/site-packages (from nltk) (4.65.0)\n",
      "Note: you may need to restart the kernel to use updated packages.\n"
     ]
    }
   ],
   "source": [
    "pip install nltk"
   ]
  },
  {
   "cell_type": "code",
   "execution_count": 66,
   "id": "6cbe0102",
   "metadata": {},
   "outputs": [
    {
     "name": "stderr",
     "output_type": "stream",
     "text": [
      "[nltk_data] Downloading package stopwords to\n",
      "[nltk_data]     /Users/gouthamyadav007/nltk_data...\n",
      "[nltk_data]   Package stopwords is already up-to-date!\n"
     ]
    },
    {
     "data": {
      "text/plain": [
       "True"
      ]
     },
     "execution_count": 66,
     "metadata": {},
     "output_type": "execute_result"
    }
   ],
   "source": [
    "nltk.download('stopwords')"
   ]
  },
  {
   "cell_type": "code",
   "execution_count": 67,
   "id": "88f2b014",
   "metadata": {},
   "outputs": [
    {
     "name": "stdout",
     "output_type": "stream",
     "text": [
      "['i', 'me', 'my', 'myself', 'we', 'our', 'ours', 'ourselves', 'you', \"you're\", \"you've\", \"you'll\", \"you'd\", 'your', 'yours', 'yourself', 'yourselves', 'he', 'him', 'his', 'himself', 'she', \"she's\", 'her', 'hers', 'herself', 'it', \"it's\", 'its', 'itself', 'they', 'them', 'their', 'theirs', 'themselves', 'what', 'which', 'who', 'whom', 'this', 'that', \"that'll\", 'these', 'those', 'am', 'is', 'are', 'was', 'were', 'be', 'been', 'being', 'have', 'has', 'had', 'having', 'do', 'does', 'did', 'doing', 'a', 'an', 'the', 'and', 'but', 'if', 'or', 'because', 'as', 'until', 'while', 'of', 'at', 'by', 'for', 'with', 'about', 'against', 'between', 'into', 'through', 'during', 'before', 'after', 'above', 'below', 'to', 'from', 'up', 'down', 'in', 'out', 'on', 'off', 'over', 'under', 'again', 'further', 'then', 'once', 'here', 'there', 'when', 'where', 'why', 'how', 'all', 'any', 'both', 'each', 'few', 'more', 'most', 'other', 'some', 'such', 'no', 'nor', 'not', 'only', 'own', 'same', 'so', 'than', 'too', 'very', 's', 't', 'can', 'will', 'just', 'don', \"don't\", 'should', \"should've\", 'now', 'd', 'll', 'm', 'o', 're', 've', 'y', 'ain', 'aren', \"aren't\", 'couldn', \"couldn't\", 'didn', \"didn't\", 'doesn', \"doesn't\", 'hadn', \"hadn't\", 'hasn', \"hasn't\", 'haven', \"haven't\", 'isn', \"isn't\", 'ma', 'mightn', \"mightn't\", 'mustn', \"mustn't\", 'needn', \"needn't\", 'shan', \"shan't\", 'shouldn', \"shouldn't\", 'wasn', \"wasn't\", 'weren', \"weren't\", 'won', \"won't\", 'wouldn', \"wouldn't\"]\n"
     ]
    }
   ],
   "source": [
    "stop_words = stopwords.words('english')\n",
    "print(stop_words)"
   ]
  },
  {
   "cell_type": "code",
   "execution_count": 68,
   "id": "32a3a907",
   "metadata": {},
   "outputs": [],
   "source": [
    "def remove_stopwords(text):\n",
    "    tokens = text.split()\n",
    "    filtered_text = [word for word in tokens if word.lower() not in stop_words]\n",
    "    return ''.join(filtered_text)"
   ]
  },
  {
   "cell_type": "code",
   "execution_count": 69,
   "id": "276571dd",
   "metadata": {},
   "outputs": [
    {
     "name": "stdout",
     "output_type": "stream",
     "text": [
      "Requirement already satisfied: spacy in /opt/anaconda3/lib/python3.11/site-packages (3.7.4)\n",
      "Requirement already satisfied: spacy-legacy<3.1.0,>=3.0.11 in /opt/anaconda3/lib/python3.11/site-packages (from spacy) (3.0.12)\n",
      "Requirement already satisfied: spacy-loggers<2.0.0,>=1.0.0 in /opt/anaconda3/lib/python3.11/site-packages (from spacy) (1.0.5)\n",
      "Requirement already satisfied: murmurhash<1.1.0,>=0.28.0 in /opt/anaconda3/lib/python3.11/site-packages (from spacy) (1.0.10)\n",
      "Requirement already satisfied: cymem<2.1.0,>=2.0.2 in /opt/anaconda3/lib/python3.11/site-packages (from spacy) (2.0.8)\n",
      "Requirement already satisfied: preshed<3.1.0,>=3.0.2 in /opt/anaconda3/lib/python3.11/site-packages (from spacy) (3.0.9)\n",
      "Requirement already satisfied: thinc<8.3.0,>=8.2.2 in /opt/anaconda3/lib/python3.11/site-packages (from spacy) (8.2.3)\n",
      "Requirement already satisfied: wasabi<1.2.0,>=0.9.1 in /opt/anaconda3/lib/python3.11/site-packages (from spacy) (1.1.2)\n",
      "Requirement already satisfied: srsly<3.0.0,>=2.4.3 in /opt/anaconda3/lib/python3.11/site-packages (from spacy) (2.4.8)\n",
      "Requirement already satisfied: catalogue<2.1.0,>=2.0.6 in /opt/anaconda3/lib/python3.11/site-packages (from spacy) (2.0.10)\n",
      "Requirement already satisfied: weasel<0.4.0,>=0.1.0 in /opt/anaconda3/lib/python3.11/site-packages (from spacy) (0.3.4)\n",
      "Requirement already satisfied: typer<0.10.0,>=0.3.0 in /opt/anaconda3/lib/python3.11/site-packages (from spacy) (0.9.4)\n",
      "Requirement already satisfied: smart-open<7.0.0,>=5.2.1 in /opt/anaconda3/lib/python3.11/site-packages (from spacy) (5.2.1)\n",
      "Requirement already satisfied: tqdm<5.0.0,>=4.38.0 in /opt/anaconda3/lib/python3.11/site-packages (from spacy) (4.65.0)\n",
      "Requirement already satisfied: requests<3.0.0,>=2.13.0 in /opt/anaconda3/lib/python3.11/site-packages (from spacy) (2.31.0)\n",
      "Requirement already satisfied: pydantic!=1.8,!=1.8.1,<3.0.0,>=1.7.4 in /opt/anaconda3/lib/python3.11/site-packages (from spacy) (1.10.12)\n",
      "Requirement already satisfied: jinja2 in /opt/anaconda3/lib/python3.11/site-packages (from spacy) (3.1.3)\n",
      "Requirement already satisfied: setuptools in /opt/anaconda3/lib/python3.11/site-packages (from spacy) (68.2.2)\n",
      "Requirement already satisfied: packaging>=20.0 in /opt/anaconda3/lib/python3.11/site-packages (from spacy) (23.1)\n",
      "Requirement already satisfied: langcodes<4.0.0,>=3.2.0 in /opt/anaconda3/lib/python3.11/site-packages (from spacy) (3.3.0)\n",
      "Requirement already satisfied: numpy>=1.19.0 in /opt/anaconda3/lib/python3.11/site-packages (from spacy) (1.26.4)\n",
      "Requirement already satisfied: typing-extensions>=4.2.0 in /opt/anaconda3/lib/python3.11/site-packages (from pydantic!=1.8,!=1.8.1,<3.0.0,>=1.7.4->spacy) (4.9.0)\n",
      "Requirement already satisfied: charset-normalizer<4,>=2 in /opt/anaconda3/lib/python3.11/site-packages (from requests<3.0.0,>=2.13.0->spacy) (2.0.4)\n",
      "Requirement already satisfied: idna<4,>=2.5 in /opt/anaconda3/lib/python3.11/site-packages (from requests<3.0.0,>=2.13.0->spacy) (3.4)\n",
      "Requirement already satisfied: urllib3<3,>=1.21.1 in /opt/anaconda3/lib/python3.11/site-packages (from requests<3.0.0,>=2.13.0->spacy) (2.0.7)\n",
      "Requirement already satisfied: certifi>=2017.4.17 in /opt/anaconda3/lib/python3.11/site-packages (from requests<3.0.0,>=2.13.0->spacy) (2024.2.2)\n",
      "Requirement already satisfied: blis<0.8.0,>=0.7.8 in /opt/anaconda3/lib/python3.11/site-packages (from thinc<8.3.0,>=8.2.2->spacy) (0.7.11)\n",
      "Requirement already satisfied: confection<1.0.0,>=0.0.1 in /opt/anaconda3/lib/python3.11/site-packages (from thinc<8.3.0,>=8.2.2->spacy) (0.1.4)\n",
      "Requirement already satisfied: click<9.0.0,>=7.1.1 in /opt/anaconda3/lib/python3.11/site-packages (from typer<0.10.0,>=0.3.0->spacy) (8.1.7)\n",
      "Requirement already satisfied: cloudpathlib<0.17.0,>=0.7.0 in /opt/anaconda3/lib/python3.11/site-packages (from weasel<0.4.0,>=0.1.0->spacy) (0.16.0)\n",
      "Requirement already satisfied: MarkupSafe>=2.0 in /opt/anaconda3/lib/python3.11/site-packages (from jinja2->spacy) (2.1.3)\n",
      "Note: you may need to restart the kernel to use updated packages.\n"
     ]
    }
   ],
   "source": [
    "pip install spacy"
   ]
  },
  {
   "cell_type": "code",
   "execution_count": 70,
   "id": "f6470490",
   "metadata": {},
   "outputs": [],
   "source": [
    "df['text'] = df['text'].apply(remove_stopwords)"
   ]
  },
  {
   "cell_type": "markdown",
   "id": "9f1ae562",
   "metadata": {},
   "source": [
    "Stemming"
   ]
  },
  {
   "cell_type": "code",
   "execution_count": 71,
   "id": "185b0f05",
   "metadata": {},
   "outputs": [],
   "source": [
    "from nltk.stem import PorterStemmer\n",
    "stemmer = PorterStemmer()"
   ]
  },
  {
   "cell_type": "code",
   "execution_count": 72,
   "id": "4ae44806",
   "metadata": {},
   "outputs": [
    {
     "name": "stderr",
     "output_type": "stream",
     "text": [
      "[nltk_data] Downloading package punkt to\n",
      "[nltk_data]     /Users/gouthamyadav007/nltk_data...\n",
      "[nltk_data]   Package punkt is already up-to-date!\n"
     ]
    },
    {
     "data": {
      "text/plain": [
       "True"
      ]
     },
     "execution_count": 72,
     "metadata": {},
     "output_type": "execute_result"
    }
   ],
   "source": [
    "import nltk\n",
    "nltk.download('punkt')"
   ]
  },
  {
   "cell_type": "code",
   "execution_count": 73,
   "id": "29412821",
   "metadata": {},
   "outputs": [],
   "source": [
    "df['text'] = df['text'].apply(lambda text: ' '.join([stemmer.stem(word) for word in word_tokenize(text)]))"
   ]
  },
  {
   "cell_type": "markdown",
   "id": "19055c52",
   "metadata": {},
   "source": [
    "Lemmatization"
   ]
  },
  {
   "cell_type": "code",
   "execution_count": 74,
   "id": "124a4d7d",
   "metadata": {},
   "outputs": [
    {
     "name": "stdout",
     "output_type": "stream",
     "text": [
      "Collecting en-core-web-sm==3.7.1\n",
      "  Downloading https://github.com/explosion/spacy-models/releases/download/en_core_web_sm-3.7.1/en_core_web_sm-3.7.1-py3-none-any.whl (12.8 MB)\n",
      "\u001b[2K     \u001b[90m━━━━━━━━━━━━━━━━━━━━━━━━━━━━━━━━━━━━━━━━\u001b[0m \u001b[32m12.8/12.8 MB\u001b[0m \u001b[31m2.1 MB/s\u001b[0m eta \u001b[36m0:00:00\u001b[0m00:01\u001b[0m00:01\u001b[0m\n",
      "\u001b[?25hRequirement already satisfied: spacy<3.8.0,>=3.7.2 in /opt/anaconda3/lib/python3.11/site-packages (from en-core-web-sm==3.7.1) (3.7.4)\n",
      "Requirement already satisfied: spacy-legacy<3.1.0,>=3.0.11 in /opt/anaconda3/lib/python3.11/site-packages (from spacy<3.8.0,>=3.7.2->en-core-web-sm==3.7.1) (3.0.12)\n",
      "Requirement already satisfied: spacy-loggers<2.0.0,>=1.0.0 in /opt/anaconda3/lib/python3.11/site-packages (from spacy<3.8.0,>=3.7.2->en-core-web-sm==3.7.1) (1.0.5)\n",
      "Requirement already satisfied: murmurhash<1.1.0,>=0.28.0 in /opt/anaconda3/lib/python3.11/site-packages (from spacy<3.8.0,>=3.7.2->en-core-web-sm==3.7.1) (1.0.10)\n",
      "Requirement already satisfied: cymem<2.1.0,>=2.0.2 in /opt/anaconda3/lib/python3.11/site-packages (from spacy<3.8.0,>=3.7.2->en-core-web-sm==3.7.1) (2.0.8)\n",
      "Requirement already satisfied: preshed<3.1.0,>=3.0.2 in /opt/anaconda3/lib/python3.11/site-packages (from spacy<3.8.0,>=3.7.2->en-core-web-sm==3.7.1) (3.0.9)\n",
      "Requirement already satisfied: thinc<8.3.0,>=8.2.2 in /opt/anaconda3/lib/python3.11/site-packages (from spacy<3.8.0,>=3.7.2->en-core-web-sm==3.7.1) (8.2.3)\n",
      "Requirement already satisfied: wasabi<1.2.0,>=0.9.1 in /opt/anaconda3/lib/python3.11/site-packages (from spacy<3.8.0,>=3.7.2->en-core-web-sm==3.7.1) (1.1.2)\n",
      "Requirement already satisfied: srsly<3.0.0,>=2.4.3 in /opt/anaconda3/lib/python3.11/site-packages (from spacy<3.8.0,>=3.7.2->en-core-web-sm==3.7.1) (2.4.8)\n",
      "Requirement already satisfied: catalogue<2.1.0,>=2.0.6 in /opt/anaconda3/lib/python3.11/site-packages (from spacy<3.8.0,>=3.7.2->en-core-web-sm==3.7.1) (2.0.10)\n",
      "Requirement already satisfied: weasel<0.4.0,>=0.1.0 in /opt/anaconda3/lib/python3.11/site-packages (from spacy<3.8.0,>=3.7.2->en-core-web-sm==3.7.1) (0.3.4)\n",
      "Requirement already satisfied: typer<0.10.0,>=0.3.0 in /opt/anaconda3/lib/python3.11/site-packages (from spacy<3.8.0,>=3.7.2->en-core-web-sm==3.7.1) (0.9.4)\n",
      "Requirement already satisfied: smart-open<7.0.0,>=5.2.1 in /opt/anaconda3/lib/python3.11/site-packages (from spacy<3.8.0,>=3.7.2->en-core-web-sm==3.7.1) (5.2.1)\n",
      "Requirement already satisfied: tqdm<5.0.0,>=4.38.0 in /opt/anaconda3/lib/python3.11/site-packages (from spacy<3.8.0,>=3.7.2->en-core-web-sm==3.7.1) (4.65.0)\n",
      "Requirement already satisfied: requests<3.0.0,>=2.13.0 in /opt/anaconda3/lib/python3.11/site-packages (from spacy<3.8.0,>=3.7.2->en-core-web-sm==3.7.1) (2.31.0)\n",
      "Requirement already satisfied: pydantic!=1.8,!=1.8.1,<3.0.0,>=1.7.4 in /opt/anaconda3/lib/python3.11/site-packages (from spacy<3.8.0,>=3.7.2->en-core-web-sm==3.7.1) (1.10.12)\n",
      "Requirement already satisfied: jinja2 in /opt/anaconda3/lib/python3.11/site-packages (from spacy<3.8.0,>=3.7.2->en-core-web-sm==3.7.1) (3.1.3)\n",
      "Requirement already satisfied: setuptools in /opt/anaconda3/lib/python3.11/site-packages (from spacy<3.8.0,>=3.7.2->en-core-web-sm==3.7.1) (68.2.2)\n",
      "Requirement already satisfied: packaging>=20.0 in /opt/anaconda3/lib/python3.11/site-packages (from spacy<3.8.0,>=3.7.2->en-core-web-sm==3.7.1) (23.1)\n",
      "Requirement already satisfied: langcodes<4.0.0,>=3.2.0 in /opt/anaconda3/lib/python3.11/site-packages (from spacy<3.8.0,>=3.7.2->en-core-web-sm==3.7.1) (3.3.0)\n",
      "Requirement already satisfied: numpy>=1.19.0 in /opt/anaconda3/lib/python3.11/site-packages (from spacy<3.8.0,>=3.7.2->en-core-web-sm==3.7.1) (1.26.4)\n",
      "Requirement already satisfied: typing-extensions>=4.2.0 in /opt/anaconda3/lib/python3.11/site-packages (from pydantic!=1.8,!=1.8.1,<3.0.0,>=1.7.4->spacy<3.8.0,>=3.7.2->en-core-web-sm==3.7.1) (4.9.0)\n",
      "Requirement already satisfied: charset-normalizer<4,>=2 in /opt/anaconda3/lib/python3.11/site-packages (from requests<3.0.0,>=2.13.0->spacy<3.8.0,>=3.7.2->en-core-web-sm==3.7.1) (2.0.4)\n",
      "Requirement already satisfied: idna<4,>=2.5 in /opt/anaconda3/lib/python3.11/site-packages (from requests<3.0.0,>=2.13.0->spacy<3.8.0,>=3.7.2->en-core-web-sm==3.7.1) (3.4)\n",
      "Requirement already satisfied: urllib3<3,>=1.21.1 in /opt/anaconda3/lib/python3.11/site-packages (from requests<3.0.0,>=2.13.0->spacy<3.8.0,>=3.7.2->en-core-web-sm==3.7.1) (2.0.7)\n",
      "Requirement already satisfied: certifi>=2017.4.17 in /opt/anaconda3/lib/python3.11/site-packages (from requests<3.0.0,>=2.13.0->spacy<3.8.0,>=3.7.2->en-core-web-sm==3.7.1) (2024.2.2)\n",
      "Requirement already satisfied: blis<0.8.0,>=0.7.8 in /opt/anaconda3/lib/python3.11/site-packages (from thinc<8.3.0,>=8.2.2->spacy<3.8.0,>=3.7.2->en-core-web-sm==3.7.1) (0.7.11)\n",
      "Requirement already satisfied: confection<1.0.0,>=0.0.1 in /opt/anaconda3/lib/python3.11/site-packages (from thinc<8.3.0,>=8.2.2->spacy<3.8.0,>=3.7.2->en-core-web-sm==3.7.1) (0.1.4)\n",
      "Requirement already satisfied: click<9.0.0,>=7.1.1 in /opt/anaconda3/lib/python3.11/site-packages (from typer<0.10.0,>=0.3.0->spacy<3.8.0,>=3.7.2->en-core-web-sm==3.7.1) (8.1.7)\n",
      "Requirement already satisfied: cloudpathlib<0.17.0,>=0.7.0 in /opt/anaconda3/lib/python3.11/site-packages (from weasel<0.4.0,>=0.1.0->spacy<3.8.0,>=3.7.2->en-core-web-sm==3.7.1) (0.16.0)\n",
      "Requirement already satisfied: MarkupSafe>=2.0 in /opt/anaconda3/lib/python3.11/site-packages (from jinja2->spacy<3.8.0,>=3.7.2->en-core-web-sm==3.7.1) (2.1.3)\n",
      "\u001b[38;5;2m✔ Download and installation successful\u001b[0m\n",
      "You can now load the package via spacy.load('en_core_web_sm')\n"
     ]
    }
   ],
   "source": [
    "!python -m spacy download en_core_web_sm"
   ]
  },
  {
   "cell_type": "code",
   "execution_count": 75,
   "id": "15e396db",
   "metadata": {},
   "outputs": [],
   "source": [
    "nlp = spacy.load('en_core_web_sm')"
   ]
  },
  {
   "cell_type": "code",
   "execution_count": 76,
   "id": "3ec4be8e",
   "metadata": {},
   "outputs": [],
   "source": [
    "def lemmatize_text(text):\n",
    "    doc = nlp(text)\n",
    "    lemmatized_tokens = [token.lemma_ for token in doc]\n",
    "    lemmatized_text = ' '.join(lemmatized_tokens)\n",
    "    return lemmatized_text"
   ]
  },
  {
   "cell_type": "code",
   "execution_count": 77,
   "id": "e2f5f2a9",
   "metadata": {},
   "outputs": [],
   "source": [
    "df['text'] = df['text'].apply(lemmatize_text)"
   ]
  },
  {
   "cell_type": "code",
   "execution_count": 79,
   "id": "ae6ad54f",
   "metadata": {},
   "outputs": [
    {
     "name": "stdout",
     "output_type": "stream",
     "text": [
      "0                                         ididntfeelhumili\n",
      "1        icangofromfeelingsohopelesstosodamnedhopefulju...\n",
      "2                  imgrabbingaminutetopostifeelgreedywrong\n",
      "3        iameverfeelingnostalgicaboutthefireplaceiwillk...\n",
      "4                                        iamfeelinggrouchi\n",
      "                               ...                        \n",
      "15995    ijusthadaverybrieftimeinthebeanbagandisaidtoan...\n",
      "15996    iamnowturningandifeelpatheticthatiamstillwaiti...\n",
      "15997                             ifeelstrongandgoodoveral\n",
      "15998       ifeellikethiswassucharudecommentandimgladthatt\n",
      "15999     iknowalotbutifeelsostupidbecauseicannotportrayit\n",
      "Name: text, Length: 16000, dtype: object\n"
     ]
    }
   ],
   "source": [
    "print(df['text'])"
   ]
  },
  {
   "cell_type": "markdown",
   "id": "98c4594c",
   "metadata": {},
   "source": [
    "# Featuring Engineering"
   ]
  },
  {
   "cell_type": "code",
   "execution_count": 80,
   "id": "7d02fea4",
   "metadata": {
    "scrolled": true
   },
   "outputs": [
    {
     "name": "stdout",
     "output_type": "stream",
     "text": [
      "Feature names: ['aa' 'aaaaaaand' 'aaaaand' ... 'zum' 'zumba' 'zz']\n",
      "TF-IDF matrix:\n",
      " [[0. 0. 0. ... 0. 0. 0.]\n",
      " [0. 0. 0. ... 0. 0. 0.]\n",
      " [0. 0. 0. ... 0. 0. 0.]\n",
      " ...\n",
      " [0. 0. 0. ... 0. 0. 0.]\n",
      " [0. 0. 0. ... 0. 0. 0.]\n",
      " [0. 0. 0. ... 0. 0. 0.]]\n",
      "\n",
      "TF-IDF DataFrame:\n",
      "         aa  aaaaaaand  aaaaand  aaaand  aac  aahhh  aaron   ab  abandon  \\\n",
      "0      0.0        0.0      0.0     0.0  0.0    0.0    0.0  0.0      0.0   \n",
      "1      0.0        0.0      0.0     0.0  0.0    0.0    0.0  0.0      0.0   \n",
      "2      0.0        0.0      0.0     0.0  0.0    0.0    0.0  0.0      0.0   \n",
      "3      0.0        0.0      0.0     0.0  0.0    0.0    0.0  0.0      0.0   \n",
      "4      0.0        0.0      0.0     0.0  0.0    0.0    0.0  0.0      0.0   \n",
      "...    ...        ...      ...     ...  ...    ...    ...  ...      ...   \n",
      "15995  0.0        0.0      0.0     0.0  0.0    0.0    0.0  0.0      0.0   \n",
      "15996  0.0        0.0      0.0     0.0  0.0    0.0    0.0  0.0      0.0   \n",
      "15997  0.0        0.0      0.0     0.0  0.0    0.0    0.0  0.0      0.0   \n",
      "15998  0.0        0.0      0.0     0.0  0.0    0.0    0.0  0.0      0.0   \n",
      "15999  0.0        0.0      0.0     0.0  0.0    0.0    0.0  0.0      0.0   \n",
      "\n",
      "       abandoned  ...  zonisamide  zoo  zoom  zooming  zooms   zq  zucchini  \\\n",
      "0            0.0  ...         0.0  0.0   0.0      0.0    0.0  0.0       0.0   \n",
      "1            0.0  ...         0.0  0.0   0.0      0.0    0.0  0.0       0.0   \n",
      "2            0.0  ...         0.0  0.0   0.0      0.0    0.0  0.0       0.0   \n",
      "3            0.0  ...         0.0  0.0   0.0      0.0    0.0  0.0       0.0   \n",
      "4            0.0  ...         0.0  0.0   0.0      0.0    0.0  0.0       0.0   \n",
      "...          ...  ...         ...  ...   ...      ...    ...  ...       ...   \n",
      "15995        0.0  ...         0.0  0.0   0.0      0.0    0.0  0.0       0.0   \n",
      "15996        0.0  ...         0.0  0.0   0.0      0.0    0.0  0.0       0.0   \n",
      "15997        0.0  ...         0.0  0.0   0.0      0.0    0.0  0.0       0.0   \n",
      "15998        0.0  ...         0.0  0.0   0.0      0.0    0.0  0.0       0.0   \n",
      "15999        0.0  ...         0.0  0.0   0.0      0.0    0.0  0.0       0.0   \n",
      "\n",
      "       zum  zumba   zz  \n",
      "0      0.0    0.0  0.0  \n",
      "1      0.0    0.0  0.0  \n",
      "2      0.0    0.0  0.0  \n",
      "3      0.0    0.0  0.0  \n",
      "4      0.0    0.0  0.0  \n",
      "...    ...    ...  ...  \n",
      "15995  0.0    0.0  0.0  \n",
      "15996  0.0    0.0  0.0  \n",
      "15997  0.0    0.0  0.0  \n",
      "15998  0.0    0.0  0.0  \n",
      "15999  0.0    0.0  0.0  \n",
      "\n",
      "[16000 rows x 15186 columns]\n",
      "The count of sadness is: 4666\n",
      "The count of joy is: 5362\n",
      "The count of love is: 1304\n",
      "The count of anger is: 2159\n",
      "The count of fear is: 1937\n",
      "The count of surprise is: 572\n"
     ]
    }
   ],
   "source": [
    "# Step 1: Import the necessary libraries\n",
    "import pandas as pd\n",
    "from sklearn.feature_extraction.text import TfidfVectorizer\n",
    "\n",
    "# Step 2: Load your dataset\n",
    "df = pd.read_csv('Emotions_training.csv')\n",
    "\n",
    "# Step 3: Extract the text data from the dataset\n",
    "corpus = df['text'].tolist()\n",
    "\n",
    "# Step 4: Use TfidfVectorizer to vectorize the text data\n",
    "vectorizer = TfidfVectorizer()\n",
    "X = vectorizer.fit_transform(corpus)\n",
    "\n",
    "# Step 5: Print the resulting TF-IDF matrix\n",
    "print(\"Feature names:\", vectorizer.get_feature_names_out())\n",
    "print(\"TF-IDF matrix:\\n\", X.toarray())\n",
    "\n",
    "\n",
    "# Optional: If you want to see the matrix in a more readable format (like a DataFrame)\n",
    "df_tfidf = pd.DataFrame(X.toarray(), columns=vectorizer.get_feature_names_out())\n",
    "print(\"\\nTF-IDF DataFrame:\\n\", df_tfidf)\n",
    "print(\"The count of sadness is:\", len(label_dict[0]))\n",
    "print(\"The count of joy is:\", len(label_dict[1]))\n",
    "print(\"The count of love is:\", len(label_dict[2]))\n",
    "print(\"The count of anger is:\", len(label_dict[3]))\n",
    "print(\"The count of fear is:\", len(label_dict[4]))\n",
    "print(\"The count of surprise is:\", len(label_dict[5]))"
   ]
  },
  {
   "cell_type": "code",
   "execution_count": 87,
   "id": "e29e482f",
   "metadata": {},
   "outputs": [
    {
     "name": "stdout",
     "output_type": "stream",
     "text": [
      "First few rows of the dataset:\n",
      "                                                 text  label\n",
      "0                            i didnt feel humiliated      0\n",
      "1  i can go from feeling so hopeless to so damned...      0\n",
      "2   im grabbing a minute to post i feel greedy wrong      3\n",
      "3  i am ever feeling nostalgic about the fireplac...      2\n",
      "4                               i am feeling grouchy      3\n",
      "Data types:\n",
      " text     object\n",
      "label     int64\n",
      "dtype: object\n",
      "Unique values in the 'label' column: [0 3 2 5 4 1]\n",
      "The count of sadness is: 4666\n",
      "The count of joy is: 5362\n",
      "The count of love is: 1304\n",
      "The count of anger is: 2159\n",
      "The count of fear is: 1937\n",
      "The count of surprise is: 572\n"
     ]
    }
   ],
   "source": [
    "df = pd.read_csv('Emotions_training.csv')  # Adjust the file path as needed\n",
    "\n",
    "# Verify the data is loaded correctly\n",
    "print(\"First few rows of the dataset:\\n\", df.head())\n",
    "print(\"Data types:\\n\", df.dtypes)\n",
    "print(\"Unique values in the 'label' column:\", df['label'].unique())\n",
    "\n",
    "# Check for missing data and handle them by dropping any rows with missing values\n",
    "df = df.dropna(subset=['label', 'text'])\n",
    "\n",
    "# Creating dictionaries to hold text for each label\n",
    "label_dict = {0: [], 1: [], 2: [], 3: [], 4: [], 5: []}\n",
    "\n",
    "# This for loop helps in appending each sample/data into the respective labels array based on the if conditions\n",
    "for lbl, txt in zip(df['label'], df['text']):\n",
    "    if lbl in label_dict:\n",
    "        label_dict[lbl].append(txt)\n",
    "\n",
    "# Displaying the length of each label\n",
    "print(\"The count of sadness is:\", len(label_dict[0]))\n",
    "print(\"The count of joy is:\", len(label_dict[1]))\n",
    "print(\"The count of love is:\", len(label_dict[2]))\n",
    "print(\"The count of anger is:\", len(label_dict[3]))\n",
    "print(\"The count of fear is:\", len(label_dict[4]))\n",
    "print(\"The count of surprise is:\", len(label_dict[5]))"
   ]
  },
  {
   "cell_type": "code",
   "execution_count": 88,
   "id": "2988f641",
   "metadata": {},
   "outputs": [
    {
     "name": "stdout",
     "output_type": "stream",
     "text": [
      "First few rows of the dataset:\n",
      "                                                 text  label\n",
      "0                            i didnt feel humiliated      0\n",
      "1  i can go from feeling so hopeless to so damned...      0\n",
      "2   im grabbing a minute to post i feel greedy wrong      3\n",
      "3  i am ever feeling nostalgic about the fireplac...      2\n",
      "4                               i am feeling grouchy      3\n",
      "Data types:\n",
      " text     object\n",
      "label     int64\n",
      "dtype: object\n",
      "Unique values in the 'label' column: [0 3 2 5 4 1]\n",
      "The percentage of label 1 is 33.51% (Count: 5362)\n",
      "The percentage of label 0 is 29.16% (Count: 4666)\n",
      "The percentage of label 3 is 13.49% (Count: 2159)\n",
      "The percentage of label 4 is 12.11% (Count: 1937)\n",
      "The percentage of label 2 is 8.15% (Count: 1304)\n",
      "The percentage of label 5 is 3.57% (Count: 572)\n"
     ]
    },
    {
     "data": {
      "image/png": "[encoded data removed]",
      "text/plain": [
       "<Figure size 800x600 with 1 Axes>"
      ]
     },
     "metadata": {},
     "output_type": "display_data"
    },
    {
     "name": "stdout",
     "output_type": "stream",
     "text": [
      "Training set size: 11200 (70.00%)\n",
      "Validation set size: 1600 (10.00%)\n",
      "Test set size: 3200 (20.00%)\n"
     ]
    }
   ],
   "source": [
    "df = pd.read_csv('Emotions_training.csv')  \n",
    "\n",
    "# Verify the data is loaded correctly\n",
    "print(\"First few rows of the dataset:\\n\", df.head())\n",
    "print(\"Data types:\\n\", df.dtypes)\n",
    "print(\"Unique values in the 'label' column:\", df['label'].unique())\n",
    "\n",
    "df = df.dropna(subset=['label', 'text'])\n",
    "\n",
    "# Function to calculate and display label counts and percentages\n",
    "def calculate_label_stats(df):\n",
    "    label_counts = df['label'].value_counts()\n",
    "    total_count = len(df)\n",
    "    \n",
    "    for label, count in label_counts.items():\n",
    "        percentage = (count / total_count) * 100\n",
    "        print(f\"The percentage of label {label} is {percentage:.2f}% (Count: {count})\")\n",
    "\n",
    "    return label_counts\n",
    "\n",
    "# Calculate and display label statistics\n",
    "label_counts = calculate_label_stats(df)\n",
    "\n",
    "# Visualizing the counts of each label\n",
    "plt.figure(figsize=(8, 6))\n",
    "sns.barplot(x=label_counts.index, y=label_counts.values)\n",
    "plt.title('Count of each label')\n",
    "plt.xlabel('Labels')\n",
    "plt.ylabel('Count')\n",
    "plt.show()\n",
    "\n",
    "# Splitting the dataset\n",
    "def split_dataset(df, test_size=0.2, val_size=0.1, random_state=42):\n",
    "    train_val_df, test_df = train_test_split(df, test_size=test_size, random_state=random_state, stratify=df['label'])\n",
    "    train_df, val_df = train_test_split(train_val_df, test_size=val_size/(1-test_size), random_state=random_state, stratify=train_val_df['label'])\n",
    "    \n",
    "    return train_df, val_df, test_df\n",
    "\n",
    "# Split the dataset\n",
    "train_df, val_df, test_df = split_dataset(df)\n",
    "\n",
    "# Print the sizes and percentages of each split\n",
    "total_size = len(df)\n",
    "print(f'Training set size: {len(train_df)} ({len(train_df) / total_size * 100:.2f}%)')\n",
    "print(f'Validation set size: {len(val_df)} ({len(val_df) / total_size * 100:.2f}%)')\n",
    "print(f'Test set size: {len(test_df)} ({len(test_df) / total_size * 100:.2f}%)')"
   ]
  },
  {
   "cell_type": "code",
   "execution_count": 108,
   "id": "65c58feb",
   "metadata": {},
   "outputs": [
    {
     "name": "stdout",
     "output_type": "stream",
     "text": [
      "First few rows of the dataset:\n",
      "                                                 text  label\n",
      "0                            i didnt feel humiliated      0\n",
      "1  i can go from feeling so hopeless to so damned...      0\n",
      "2   im grabbing a minute to post i feel greedy wrong      3\n",
      "3  i am ever feeling nostalgic about the fireplac...      2\n",
      "4                               i am feeling grouchy      3\n",
      "Data types:\n",
      " text     object\n",
      "label     int64\n",
      "dtype: object\n",
      "Unique values in the 'label' column: [0 3 2 5 4 1]\n",
      "Training set size: 11200 (70.00%)\n",
      "Validation set size: 1600 (10.00%)\n",
      "Test set size: 3200 (20.00%)\n"
     ]
    }
   ],
   "source": [
    "import pandas as pd\n",
    "import matplotlib.pyplot as plt\n",
    "from sklearn.model_selection import train_test_split\n",
    "\n",
    "# Load your dataset\n",
    "df = pd.read_csv('Emotions_training.csv')  \n",
    "\n",
    "# Verify the data is loaded correctly\n",
    "print(\"First few rows of the dataset:\\n\", df.head())\n",
    "print(\"Data types:\\n\", df.dtypes)\n",
    "print(\"Unique values in the 'label' column:\", df['label'].unique())\n",
    "\n",
    "# Check for missing data and handle them by dropping any rows with missing values\n",
    "df = df.dropna(subset=['label', 'text'])\n",
    "\n",
    "# Splitting the dataset\n",
    "# First, split off the test set (20% of the data)\n",
    "train_val_df, test_df = train_test_split(df, test_size=0.2, random_state=42, stratify=df['label'])\n",
    "\n",
    "# Then split the remaining data into training (70% of original) and validation sets (10% of original)\n",
    "train_df, val_df = train_test_split(train_val_df, test_size=0.125, random_state=42, stratify=train_val_df['label'])\n",
    "# 0.125 * 0.8 = 0.1, so validation set is 10% of the original dataset\n",
    "\n",
    "# Printing the sizes and percentages of each split\n",
    "total_size = len(df)\n",
    "train_size = len(train_df)\n",
    "val_size = len(val_df)\n",
    "test_size = len(test_df)\n",
    "\n",
    "print(f'Training set size: {train_size} ({train_size / total_size * 100:.2f}%)')\n",
    "print(f'Validation set size: {val_size} ({val_size / total_size * 100:.2f}%)')\n",
    "print(f'Test set size: {test_size} ({test_size / total_size * 100:.2f}%)')"
   ]
  },
  {
   "cell_type": "code",
   "execution_count": 98,
   "id": "bc4e5beb",
   "metadata": {},
   "outputs": [
    {
     "name": "stdout",
     "output_type": "stream",
     "text": [
      "label\n",
      "1    5362\n",
      "0    5362\n",
      "3    5362\n",
      "4    5362\n",
      "2    5362\n",
      "5    5362\n",
      "Name: count, dtype: int64\n"
     ]
    }
   ],
   "source": [
    "from sklearn.utils import resample\n",
    "\n",
    "class_counts = df['label'].value_counts()\n",
    "\n",
    "# target count using maximum count among all the label\n",
    "target_count = class_counts.max()\n",
    "\n",
    "\n",
    "resampled_data = []\n",
    "\n",
    "# Loop through each class\n",
    "for label in class_counts.index:\n",
    "    # Extract data for the current class\n",
    "    class_data = df[df['label'] == label]\n",
    "\n",
    "    # Upsample (oversample) the class to match the target count\n",
    "    sampled_data = resample(class_data, replace=True, n_samples=target_count, random_state=42)\n",
    "\n",
    "    # Append the resampled data to the list\n",
    "    resampled_data.append(sampled_data)\n",
    "\n",
    "# Concatenate the resampled data for all classes\n",
    "balanced_df = pd.concat(resampled_data)\n",
    "\n",
    "# Displaying the count of samples in each class after balancing the dataset classes\n",
    "print(balanced_df['label'].value_counts())"
   ]
  },
  {
   "cell_type": "code",
   "execution_count": 99,
   "id": "3a711767",
   "metadata": {},
   "outputs": [
    {
     "data": {
      "text/html": [
       "<div>\n",
       "<style scoped>\n",
       "    .dataframe tbody tr th:only-of-type {\n",
       "        vertical-align: middle;\n",
       "    }\n",
       "\n",
       "    .dataframe tbody tr th {\n",
       "        vertical-align: top;\n",
       "    }\n",
       "\n",
       "    .dataframe thead th {\n",
       "        text-align: right;\n",
       "    }\n",
       "</style>\n",
       "<table border=\"1\" class=\"dataframe\">\n",
       "  <thead>\n",
       "    <tr style=\"text-align: right;\">\n",
       "      <th></th>\n",
       "      <th>text</th>\n",
       "      <th>label</th>\n",
       "    </tr>\n",
       "  </thead>\n",
       "  <tbody>\n",
       "    <tr>\n",
       "      <th>2491</th>\n",
       "      <td>i feel glad that justice will be served west said</td>\n",
       "      <td>1</td>\n",
       "    </tr>\n",
       "    <tr>\n",
       "      <th>15585</th>\n",
       "      <td>i feel really valuable because of this knowing...</td>\n",
       "      <td>1</td>\n",
       "    </tr>\n",
       "    <tr>\n",
       "      <th>15488</th>\n",
       "      <td>i certainly have never felt it was appropriate...</td>\n",
       "      <td>1</td>\n",
       "    </tr>\n",
       "    <tr>\n",
       "      <th>11161</th>\n",
       "      <td>i feel assured that the future of online enter...</td>\n",
       "      <td>1</td>\n",
       "    </tr>\n",
       "    <tr>\n",
       "      <th>9145</th>\n",
       "      <td>i feel so thankful i have been able to figure ...</td>\n",
       "      <td>1</td>\n",
       "    </tr>\n",
       "    <tr>\n",
       "      <th>...</th>\n",
       "      <td>...</td>\n",
       "      <td>...</td>\n",
       "    </tr>\n",
       "    <tr>\n",
       "      <th>15825</th>\n",
       "      <td>i even feel it is a game that i am a part of s...</td>\n",
       "      <td>5</td>\n",
       "    </tr>\n",
       "    <tr>\n",
       "      <th>5319</th>\n",
       "      <td>i was talking to my district leader elder hill...</td>\n",
       "      <td>5</td>\n",
       "    </tr>\n",
       "    <tr>\n",
       "      <th>4775</th>\n",
       "      <td>i know this isnt real but it feels strange to ...</td>\n",
       "      <td>5</td>\n",
       "    </tr>\n",
       "    <tr>\n",
       "      <th>1756</th>\n",
       "      <td>i feel kinda strange too cause i didnt encount...</td>\n",
       "      <td>5</td>\n",
       "    </tr>\n",
       "    <tr>\n",
       "      <th>3361</th>\n",
       "      <td>i don t mean this to be a serious recollection...</td>\n",
       "      <td>5</td>\n",
       "    </tr>\n",
       "  </tbody>\n",
       "</table>\n",
       "<p>32172 rows × 2 columns</p>\n",
       "</div>"
      ],
      "text/plain": [
       "                                                    text  label\n",
       "2491   i feel glad that justice will be served west said      1\n",
       "15585  i feel really valuable because of this knowing...      1\n",
       "15488  i certainly have never felt it was appropriate...      1\n",
       "11161  i feel assured that the future of online enter...      1\n",
       "9145   i feel so thankful i have been able to figure ...      1\n",
       "...                                                  ...    ...\n",
       "15825  i even feel it is a game that i am a part of s...      5\n",
       "5319   i was talking to my district leader elder hill...      5\n",
       "4775   i know this isnt real but it feels strange to ...      5\n",
       "1756   i feel kinda strange too cause i didnt encount...      5\n",
       "3361   i don t mean this to be a serious recollection...      5\n",
       "\n",
       "[32172 rows x 2 columns]"
      ]
     },
     "execution_count": 99,
     "metadata": {},
     "output_type": "execute_result"
    }
   ],
   "source": [
    "balanced_df"
   ]
  },
  {
   "cell_type": "code",
   "execution_count": 113,
   "id": "e908ad17",
   "metadata": {},
   "outputs": [
    {
     "data": {
      "image/png": "[encoded data removed]",
      "text/plain": [
       "<Figure size 1000x800 with 1 Axes>"
      ]
     },
     "metadata": {},
     "output_type": "display_data"
    }
   ],
   "source": [
    "plt.figure(figsize=(10, 8))\n",
    "sns.countplot(x='label', data=balanced_df)\n",
    "plt.title('Count of labels')\n",
    "plt.ylabel('count')\n",
    "plt.xlabel('Label')\n",
    "plt.show()\n",
    "balanced_df['text'].fillna('', inplace=True)"
   ]
  },
  {
   "cell_type": "markdown",
   "id": "cdc1ed7a",
   "metadata": {},
   "source": [
    "# Model Building\n"
   ]
  },
  {
   "cell_type": "markdown",
   "id": "1e75ffdd",
   "metadata": {},
   "source": [
    "1. Dividing the dataset in to Train (70%), Test (20%) and Validation (10%) datasets."
   ]
  },
  {
   "cell_type": "code",
   "execution_count": 112,
   "id": "06774b7f",
   "metadata": {},
   "outputs": [
    {
     "name": "stdout",
     "output_type": "stream",
     "text": [
      "Training set size: 22520\n",
      "Validation set size: 8204\n",
      "Test set size: 1448\n"
     ]
    }
   ],
   "source": [
    "# Defining the features (X) and target (y)\n",
    "X = balanced_df['text'].values\n",
    "y = balanced_df['label'].values\n",
    "\n",
    "# First split the dataset into Train 70%\n",
    "train_size = 0.7\n",
    "X_train, X_temp, y_train, y_temp = train_test_split(X, y, train_size=train_size, random_state=42)\n",
    "\n",
    "# Calculate remaining size for validation and test sets\n",
    "remaining_size = 1 - train_size\n",
    "validation_test_size = remaining_size / 2\n",
    "\n",
    "# Split the combined Test-Validation into Test 20% and Validation 10%\n",
    "X_val, X_test, y_val, y_test = train_test_split(X_temp, y_temp, test_size=validation_test_size, random_state=42)\n",
    "\n",
    "# Printing the sizes of the splits\n",
    "print(\"Training set size:\", len(X_train))\n",
    "print(\"Validation set size:\", len(X_val))\n",
    "print(\"Test set size:\", len(X_test))"
   ]
  },
  {
   "cell_type": "markdown",
   "id": "c27a35c4",
   "metadata": {},
   "source": [
    "# classification models"
   ]
  },
  {
   "cell_type": "code",
   "execution_count": null,
   "id": "58529d09",
   "metadata": {},
   "outputs": [],
   "source": []
  }
 ],
 "metadata": {
  "kernelspec": {
   "display_name": "Python 3 (ipykernel)",
   "language": "python",
   "name": "python3"
  },
  "language_info": {
   "codemirror_mode": {
    "name": "ipython",
    "version": 3
   },
   "file_extension": ".py",
   "mimetype": "text/x-python",
   "name": "python",
   "nbconvert_exporter": "python",
   "pygments_lexer": "ipython3",
   "version": "3.11.7"
  }
 },
 "nbformat": 4,
 "nbformat_minor": 5
}
