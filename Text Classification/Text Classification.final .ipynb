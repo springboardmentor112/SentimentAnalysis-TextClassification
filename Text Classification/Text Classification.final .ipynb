{
 "cells": [
  {
   "cell_type": "markdown",
   "id": "89ebd957",
   "metadata": {},
   "source": [
    "# Data preprocessing"
   ]
  },
  {
   "cell_type": "markdown",
   "id": "a95c8095",
   "metadata": {},
   "source": [
    "Import Libararies"
   ]
  },
  {
   "cell_type": "code",
   "execution_count": 84,
   "id": "a50161c4",
   "metadata": {},
   "outputs": [],
   "source": [
    "import pandas as pd\n",
    "import re\n",
    "import nltk\n",
    "import seaborn as sns\n",
    "from nltk.corpus import stopwords\n",
    "from nltk.stem import PorterStemmer, WordNetLemmatizer\n",
    "from sklearn.feature_extraction.text import TfidfVectorizer\n",
    "from sklearn.model_selection import train_test_split\n",
    "from sklearn.naive_bayes import MultinomialNB\n",
    "from sklearn.linear_model import LogisticRegression\n",
    "from sklearn.svm import SVC\n",
    "from sklearn.metrics import accuracy_score\n",
    "from sklearn.model_selection import GridSearchCV, train_test_split\n",
    "from sklearn.metrics import classification_report, accuracy_score"
   ]
  },
  {
   "cell_type": "markdown",
   "id": "5927b693",
   "metadata": {},
   "source": [
    "Dataset"
   ]
  },
  {
   "cell_type": "code",
   "execution_count": 56,
   "id": "5df68fad",
   "metadata": {},
   "outputs": [
    {
     "data": {
      "text/html": [
       "<div>\n",
       "<style scoped>\n",
       "    .dataframe tbody tr th:only-of-type {\n",
       "        vertical-align: middle;\n",
       "    }\n",
       "\n",
       "    .dataframe tbody tr th {\n",
       "        vertical-align: top;\n",
       "    }\n",
       "\n",
       "    .dataframe thead th {\n",
       "        text-align: right;\n",
       "    }\n",
       "</style>\n",
       "<table border=\"1\" class=\"dataframe\">\n",
       "  <thead>\n",
       "    <tr style=\"text-align: right;\">\n",
       "      <th></th>\n",
       "      <th>text</th>\n",
       "      <th>label</th>\n",
       "    </tr>\n",
       "  </thead>\n",
       "  <tbody>\n",
       "    <tr>\n",
       "      <th>0</th>\n",
       "      <td>i didnt feel humiliated</td>\n",
       "      <td>0</td>\n",
       "    </tr>\n",
       "    <tr>\n",
       "      <th>1</th>\n",
       "      <td>i can go from feeling so hopeless to so damned...</td>\n",
       "      <td>0</td>\n",
       "    </tr>\n",
       "    <tr>\n",
       "      <th>2</th>\n",
       "      <td>im grabbing a minute to post i feel greedy wrong</td>\n",
       "      <td>3</td>\n",
       "    </tr>\n",
       "    <tr>\n",
       "      <th>3</th>\n",
       "      <td>i am ever feeling nostalgic about the fireplac...</td>\n",
       "      <td>2</td>\n",
       "    </tr>\n",
       "    <tr>\n",
       "      <th>4</th>\n",
       "      <td>i am feeling grouchy</td>\n",
       "      <td>3</td>\n",
       "    </tr>\n",
       "  </tbody>\n",
       "</table>\n",
       "</div>"
      ],
      "text/plain": [
       "                                                text  label\n",
       "0                            i didnt feel humiliated      0\n",
       "1  i can go from feeling so hopeless to so damned...      0\n",
       "2   im grabbing a minute to post i feel greedy wrong      3\n",
       "3  i am ever feeling nostalgic about the fireplac...      2\n",
       "4                               i am feeling grouchy      3"
      ]
     },
     "execution_count": 56,
     "metadata": {},
     "output_type": "execute_result"
    }
   ],
   "source": [
    "df = pd.read_csv('Emotions_training.csv')\n",
    "df.head()"
   ]
  },
  {
   "cell_type": "markdown",
   "id": "adeb377f",
   "metadata": {},
   "source": [
    "Dataset"
   ]
  },
  {
   "cell_type": "code",
   "execution_count": 57,
   "id": "c615af8f",
   "metadata": {},
   "outputs": [
    {
     "data": {
      "text/html": [
       "<div>\n",
       "<style scoped>\n",
       "    .dataframe tbody tr th:only-of-type {\n",
       "        vertical-align: middle;\n",
       "    }\n",
       "\n",
       "    .dataframe tbody tr th {\n",
       "        vertical-align: top;\n",
       "    }\n",
       "\n",
       "    .dataframe thead th {\n",
       "        text-align: right;\n",
       "    }\n",
       "</style>\n",
       "<table border=\"1\" class=\"dataframe\">\n",
       "  <thead>\n",
       "    <tr style=\"text-align: right;\">\n",
       "      <th></th>\n",
       "      <th>text</th>\n",
       "      <th>label</th>\n",
       "      <th>clean_text</th>\n",
       "    </tr>\n",
       "  </thead>\n",
       "  <tbody>\n",
       "    <tr>\n",
       "      <th>0</th>\n",
       "      <td>i didnt feel humiliated</td>\n",
       "      <td>0</td>\n",
       "      <td>i didnt feel humiliated</td>\n",
       "    </tr>\n",
       "    <tr>\n",
       "      <th>1</th>\n",
       "      <td>i can go from feeling so hopeless to so damned...</td>\n",
       "      <td>0</td>\n",
       "      <td>i can go from feeling so hopeless to so damned...</td>\n",
       "    </tr>\n",
       "    <tr>\n",
       "      <th>2</th>\n",
       "      <td>im grabbing a minute to post i feel greedy wrong</td>\n",
       "      <td>3</td>\n",
       "      <td>im grabbing a minute to post i feel greedy wrong</td>\n",
       "    </tr>\n",
       "    <tr>\n",
       "      <th>3</th>\n",
       "      <td>i am ever feeling nostalgic about the fireplac...</td>\n",
       "      <td>2</td>\n",
       "      <td>i am ever feeling nostalgic about the fireplac...</td>\n",
       "    </tr>\n",
       "    <tr>\n",
       "      <th>4</th>\n",
       "      <td>i am feeling grouchy</td>\n",
       "      <td>3</td>\n",
       "      <td>i am feeling grouchy</td>\n",
       "    </tr>\n",
       "  </tbody>\n",
       "</table>\n",
       "</div>"
      ],
      "text/plain": [
       "                                                text  label  \\\n",
       "0                            i didnt feel humiliated      0   \n",
       "1  i can go from feeling so hopeless to so damned...      0   \n",
       "2   im grabbing a minute to post i feel greedy wrong      3   \n",
       "3  i am ever feeling nostalgic about the fireplac...      2   \n",
       "4                               i am feeling grouchy      3   \n",
       "\n",
       "                                          clean_text  \n",
       "0                            i didnt feel humiliated  \n",
       "1  i can go from feeling so hopeless to so damned...  \n",
       "2   im grabbing a minute to post i feel greedy wrong  \n",
       "3  i am ever feeling nostalgic about the fireplac...  \n",
       "4                               i am feeling grouchy  "
      ]
     },
     "execution_count": 57,
     "metadata": {},
     "output_type": "execute_result"
    }
   ],
   "source": [
    "df['clean_text'] = df['text'].str.lower()\n",
    "df.head()"
   ]
  },
  {
   "cell_type": "markdown",
   "id": "80c373af",
   "metadata": {},
   "source": [
    "Removing Links"
   ]
  },
  {
   "cell_type": "code",
   "execution_count": 58,
   "id": "3a8a6f03",
   "metadata": {},
   "outputs": [],
   "source": [
    "df['text'] = df['text'].fillna('')"
   ]
  },
  {
   "cell_type": "code",
   "execution_count": 59,
   "id": "4e5acc1b",
   "metadata": {},
   "outputs": [
    {
     "data": {
      "text/html": [
       "<div>\n",
       "<style scoped>\n",
       "    .dataframe tbody tr th:only-of-type {\n",
       "        vertical-align: middle;\n",
       "    }\n",
       "\n",
       "    .dataframe tbody tr th {\n",
       "        vertical-align: top;\n",
       "    }\n",
       "\n",
       "    .dataframe thead th {\n",
       "        text-align: right;\n",
       "    }\n",
       "</style>\n",
       "<table border=\"1\" class=\"dataframe\">\n",
       "  <thead>\n",
       "    <tr style=\"text-align: right;\">\n",
       "      <th></th>\n",
       "      <th>text</th>\n",
       "      <th>label</th>\n",
       "      <th>clean_text</th>\n",
       "    </tr>\n",
       "  </thead>\n",
       "  <tbody>\n",
       "    <tr>\n",
       "      <th>0</th>\n",
       "      <td>i didnt feel humiliated</td>\n",
       "      <td>0</td>\n",
       "      <td>i didnt feel humiliated</td>\n",
       "    </tr>\n",
       "    <tr>\n",
       "      <th>1</th>\n",
       "      <td>i can go from feeling so hopeless to so damned...</td>\n",
       "      <td>0</td>\n",
       "      <td>i can go from feeling so hopeless to so damned...</td>\n",
       "    </tr>\n",
       "    <tr>\n",
       "      <th>2</th>\n",
       "      <td>im grabbing a minute to post i feel greedy wrong</td>\n",
       "      <td>3</td>\n",
       "      <td>im grabbing a minute to post i feel greedy wrong</td>\n",
       "    </tr>\n",
       "    <tr>\n",
       "      <th>3</th>\n",
       "      <td>i am ever feeling nostalgic about the fireplac...</td>\n",
       "      <td>2</td>\n",
       "      <td>i am ever feeling nostalgic about the fireplac...</td>\n",
       "    </tr>\n",
       "    <tr>\n",
       "      <th>4</th>\n",
       "      <td>i am feeling grouchy</td>\n",
       "      <td>3</td>\n",
       "      <td>i am feeling grouchy</td>\n",
       "    </tr>\n",
       "  </tbody>\n",
       "</table>\n",
       "</div>"
      ],
      "text/plain": [
       "                                                text  label  \\\n",
       "0                            i didnt feel humiliated      0   \n",
       "1  i can go from feeling so hopeless to so damned...      0   \n",
       "2   im grabbing a minute to post i feel greedy wrong      3   \n",
       "3  i am ever feeling nostalgic about the fireplac...      2   \n",
       "4                               i am feeling grouchy      3   \n",
       "\n",
       "                                          clean_text  \n",
       "0                            i didnt feel humiliated  \n",
       "1  i can go from feeling so hopeless to so damned...  \n",
       "2   im grabbing a minute to post i feel greedy wrong  \n",
       "3  i am ever feeling nostalgic about the fireplac...  \n",
       "4                               i am feeling grouchy  "
      ]
     },
     "execution_count": 59,
     "metadata": {},
     "output_type": "execute_result"
    }
   ],
   "source": [
    "no_url=[]\n",
    "for sentence in df[\"text\"]:\n",
    "    no_url.append(re.sub(r\"http\\S+\", \"\", sentence))\n",
    "df[\"text\"]=no_url\n",
    "df.head()"
   ]
  },
  {
   "cell_type": "markdown",
   "id": "9589ecbb",
   "metadata": {},
   "source": [
    "Remove next lines"
   ]
  },
  {
   "cell_type": "code",
   "execution_count": 60,
   "id": "00a51bf3",
   "metadata": {},
   "outputs": [],
   "source": [
    "df['text'] = df['text'].str.replace('\\n','')"
   ]
  },
  {
   "cell_type": "markdown",
   "id": "7d6d5e13",
   "metadata": {},
   "source": [
    "Remove next lines using replace() method"
   ]
  },
  {
   "cell_type": "code",
   "execution_count": 61,
   "id": "ae8796c0",
   "metadata": {},
   "outputs": [
    {
     "name": "stdout",
     "output_type": "stream",
     "text": [
      "It contains newlines.These should be removed.\n"
     ]
    }
   ],
   "source": [
    "def remove_newlines(text):\n",
    "    return text.replace('\\n', '')\n",
    "\n",
    "# Define the text variable\n",
    "text = \"\\nIt contains newlines.\\nThese should be removed.\"\n",
    "\n",
    "# Call the function with the defined text\n",
    "clean_text = remove_newlines(text)\n",
    "\n",
    "# Print the result\n",
    "print(clean_text)"
   ]
  },
  {
   "cell_type": "markdown",
   "id": "caaeed7d",
   "metadata": {},
   "source": [
    "Words containing numbers"
   ]
  },
  {
   "cell_type": "code",
   "execution_count": 62,
   "id": "631e66ab",
   "metadata": {},
   "outputs": [
    {
     "name": "stdout",
     "output_type": "stream",
     "text": [
      "[]\n"
     ]
    }
   ],
   "source": [
    "import re\n",
    "def find_words_with_numbers(text):\n",
    "    pattern = r'\\b\\w*\\d\\w*\\b'  \n",
    "    words_with_numbers = re.findall(pattern, text)\n",
    "\n",
    "    return words_with_numbers\n",
    "words_with_numbers = find_words_with_numbers(text)\n",
    "print(words_with_numbers)"
   ]
  },
  {
   "cell_type": "markdown",
   "id": "3cfd9f80",
   "metadata": {},
   "source": [
    "Extra spaces"
   ]
  },
  {
   "cell_type": "code",
   "execution_count": 63,
   "id": "83c2b090",
   "metadata": {},
   "outputs": [
    {
     "name": "stdout",
     "output_type": "stream",
     "text": [
      "\n"
     ]
    }
   ],
   "source": [
    "def remove_extra_spaces(text):\n",
    "    return ' '.join(text.split())\n",
    "\n",
    "text = \"  \"\n",
    "clean_text = remove_extra_spaces(text)\n",
    "print(clean_text)"
   ]
  },
  {
   "cell_type": "markdown",
   "id": "dd64edfd",
   "metadata": {},
   "source": [
    "Special characters"
   ]
  },
  {
   "cell_type": "code",
   "execution_count": 64,
   "id": "242bb4f5",
   "metadata": {},
   "outputs": [],
   "source": [
    "no_special_char=[]\n",
    "for sentence in df.text:\n",
    "    no_special_char.append(re.sub('[^A-Za-z0-9]+','', sentence))\n",
    "df[\"text\"]=no_special_char"
   ]
  },
  {
   "cell_type": "markdown",
   "id": "1d9b84fc",
   "metadata": {},
   "source": [
    "Removal of stop words"
   ]
  },
  {
   "cell_type": "code",
   "execution_count": 65,
   "id": "4e8afe7e",
   "metadata": {},
   "outputs": [
    {
     "name": "stdout",
     "output_type": "stream",
     "text": [
      "Requirement already satisfied: nltk in /opt/anaconda3/lib/python3.11/site-packages (3.8.1)\n",
      "Requirement already satisfied: click in /opt/anaconda3/lib/python3.11/site-packages (from nltk) (8.1.7)\n",
      "Requirement already satisfied: joblib in /opt/anaconda3/lib/python3.11/site-packages (from nltk) (1.2.0)\n",
      "Requirement already satisfied: regex>=2021.8.3 in /opt/anaconda3/lib/python3.11/site-packages (from nltk) (2023.10.3)\n",
      "Requirement already satisfied: tqdm in /opt/anaconda3/lib/python3.11/site-packages (from nltk) (4.65.0)\n",
      "Note: you may need to restart the kernel to use updated packages.\n"
     ]
    }
   ],
   "source": [
    "pip install nltk"
   ]
  },
  {
   "cell_type": "code",
   "execution_count": 66,
   "id": "acd27d6e",
   "metadata": {},
   "outputs": [
    {
     "name": "stderr",
     "output_type": "stream",
     "text": [
      "[nltk_data] Downloading package stopwords to\n",
      "[nltk_data]     /Users/gouthamyadav007/nltk_data...\n",
      "[nltk_data]   Package stopwords is already up-to-date!\n"
     ]
    },
    {
     "data": {
      "text/plain": [
       "True"
      ]
     },
     "execution_count": 66,
     "metadata": {},
     "output_type": "execute_result"
    }
   ],
   "source": [
    "nltk.download('stopwords')"
   ]
  },
  {
   "cell_type": "code",
   "execution_count": 67,
   "id": "2fb82f0e",
   "metadata": {},
   "outputs": [
    {
     "name": "stdout",
     "output_type": "stream",
     "text": [
      "['i', 'me', 'my', 'myself', 'we', 'our', 'ours', 'ourselves', 'you', \"you're\", \"you've\", \"you'll\", \"you'd\", 'your', 'yours', 'yourself', 'yourselves', 'he', 'him', 'his', 'himself', 'she', \"she's\", 'her', 'hers', 'herself', 'it', \"it's\", 'its', 'itself', 'they', 'them', 'their', 'theirs', 'themselves', 'what', 'which', 'who', 'whom', 'this', 'that', \"that'll\", 'these', 'those', 'am', 'is', 'are', 'was', 'were', 'be', 'been', 'being', 'have', 'has', 'had', 'having', 'do', 'does', 'did', 'doing', 'a', 'an', 'the', 'and', 'but', 'if', 'or', 'because', 'as', 'until', 'while', 'of', 'at', 'by', 'for', 'with', 'about', 'against', 'between', 'into', 'through', 'during', 'before', 'after', 'above', 'below', 'to', 'from', 'up', 'down', 'in', 'out', 'on', 'off', 'over', 'under', 'again', 'further', 'then', 'once', 'here', 'there', 'when', 'where', 'why', 'how', 'all', 'any', 'both', 'each', 'few', 'more', 'most', 'other', 'some', 'such', 'no', 'nor', 'not', 'only', 'own', 'same', 'so', 'than', 'too', 'very', 's', 't', 'can', 'will', 'just', 'don', \"don't\", 'should', \"should've\", 'now', 'd', 'll', 'm', 'o', 're', 've', 'y', 'ain', 'aren', \"aren't\", 'couldn', \"couldn't\", 'didn', \"didn't\", 'doesn', \"doesn't\", 'hadn', \"hadn't\", 'hasn', \"hasn't\", 'haven', \"haven't\", 'isn', \"isn't\", 'ma', 'mightn', \"mightn't\", 'mustn', \"mustn't\", 'needn', \"needn't\", 'shan', \"shan't\", 'shouldn', \"shouldn't\", 'wasn', \"wasn't\", 'weren', \"weren't\", 'won', \"won't\", 'wouldn', \"wouldn't\"]\n"
     ]
    }
   ],
   "source": [
    "stop_words = stopwords.words('english')\n",
    "print(stop_words)"
   ]
  },
  {
   "cell_type": "code",
   "execution_count": 68,
   "id": "1e212246",
   "metadata": {},
   "outputs": [],
   "source": [
    "def remove_stopwords(text):\n",
    "    tokens = text.split()\n",
    "    filtered_text = [word for word in tokens if word.lower() not in stop_words]\n",
    "    return ''.join(filtered_text)"
   ]
  },
  {
   "cell_type": "code",
   "execution_count": 69,
   "id": "d40bc17c",
   "metadata": {},
   "outputs": [
    {
     "name": "stdout",
     "output_type": "stream",
     "text": [
      "Requirement already satisfied: spacy in /opt/anaconda3/lib/python3.11/site-packages (3.7.4)\n",
      "Requirement already satisfied: spacy-legacy<3.1.0,>=3.0.11 in /opt/anaconda3/lib/python3.11/site-packages (from spacy) (3.0.12)\n",
      "Requirement already satisfied: spacy-loggers<2.0.0,>=1.0.0 in /opt/anaconda3/lib/python3.11/site-packages (from spacy) (1.0.5)\n",
      "Requirement already satisfied: murmurhash<1.1.0,>=0.28.0 in /opt/anaconda3/lib/python3.11/site-packages (from spacy) (1.0.10)\n",
      "Requirement already satisfied: cymem<2.1.0,>=2.0.2 in /opt/anaconda3/lib/python3.11/site-packages (from spacy) (2.0.8)\n",
      "Requirement already satisfied: preshed<3.1.0,>=3.0.2 in /opt/anaconda3/lib/python3.11/site-packages (from spacy) (3.0.9)\n",
      "Requirement already satisfied: thinc<8.3.0,>=8.2.2 in /opt/anaconda3/lib/python3.11/site-packages (from spacy) (8.2.3)\n",
      "Requirement already satisfied: wasabi<1.2.0,>=0.9.1 in /opt/anaconda3/lib/python3.11/site-packages (from spacy) (1.1.2)\n",
      "Requirement already satisfied: srsly<3.0.0,>=2.4.3 in /opt/anaconda3/lib/python3.11/site-packages (from spacy) (2.4.8)\n",
      "Requirement already satisfied: catalogue<2.1.0,>=2.0.6 in /opt/anaconda3/lib/python3.11/site-packages (from spacy) (2.0.10)\n",
      "Requirement already satisfied: weasel<0.4.0,>=0.1.0 in /opt/anaconda3/lib/python3.11/site-packages (from spacy) (0.3.4)\n",
      "Requirement already satisfied: typer<0.10.0,>=0.3.0 in /opt/anaconda3/lib/python3.11/site-packages (from spacy) (0.9.4)\n",
      "Requirement already satisfied: smart-open<7.0.0,>=5.2.1 in /opt/anaconda3/lib/python3.11/site-packages (from spacy) (5.2.1)\n",
      "Requirement already satisfied: tqdm<5.0.0,>=4.38.0 in /opt/anaconda3/lib/python3.11/site-packages (from spacy) (4.65.0)\n",
      "Requirement already satisfied: requests<3.0.0,>=2.13.0 in /opt/anaconda3/lib/python3.11/site-packages (from spacy) (2.31.0)\n",
      "Requirement already satisfied: pydantic!=1.8,!=1.8.1,<3.0.0,>=1.7.4 in /opt/anaconda3/lib/python3.11/site-packages (from spacy) (1.10.12)\n",
      "Requirement already satisfied: jinja2 in /opt/anaconda3/lib/python3.11/site-packages (from spacy) (3.1.3)\n",
      "Requirement already satisfied: setuptools in /opt/anaconda3/lib/python3.11/site-packages (from spacy) (68.2.2)\n",
      "Requirement already satisfied: packaging>=20.0 in /opt/anaconda3/lib/python3.11/site-packages (from spacy) (23.1)\n",
      "Requirement already satisfied: langcodes<4.0.0,>=3.2.0 in /opt/anaconda3/lib/python3.11/site-packages (from spacy) (3.3.0)\n",
      "Requirement already satisfied: numpy>=1.19.0 in /opt/anaconda3/lib/python3.11/site-packages (from spacy) (1.26.4)\n",
      "Requirement already satisfied: typing-extensions>=4.2.0 in /opt/anaconda3/lib/python3.11/site-packages (from pydantic!=1.8,!=1.8.1,<3.0.0,>=1.7.4->spacy) (4.9.0)\n",
      "Requirement already satisfied: charset-normalizer<4,>=2 in /opt/anaconda3/lib/python3.11/site-packages (from requests<3.0.0,>=2.13.0->spacy) (2.0.4)\n",
      "Requirement already satisfied: idna<4,>=2.5 in /opt/anaconda3/lib/python3.11/site-packages (from requests<3.0.0,>=2.13.0->spacy) (3.4)\n",
      "Requirement already satisfied: urllib3<3,>=1.21.1 in /opt/anaconda3/lib/python3.11/site-packages (from requests<3.0.0,>=2.13.0->spacy) (2.0.7)\n",
      "Requirement already satisfied: certifi>=2017.4.17 in /opt/anaconda3/lib/python3.11/site-packages (from requests<3.0.0,>=2.13.0->spacy) (2024.2.2)\n",
      "Requirement already satisfied: blis<0.8.0,>=0.7.8 in /opt/anaconda3/lib/python3.11/site-packages (from thinc<8.3.0,>=8.2.2->spacy) (0.7.11)\n",
      "Requirement already satisfied: confection<1.0.0,>=0.0.1 in /opt/anaconda3/lib/python3.11/site-packages (from thinc<8.3.0,>=8.2.2->spacy) (0.1.4)\n",
      "Requirement already satisfied: click<9.0.0,>=7.1.1 in /opt/anaconda3/lib/python3.11/site-packages (from typer<0.10.0,>=0.3.0->spacy) (8.1.7)\n",
      "Requirement already satisfied: cloudpathlib<0.17.0,>=0.7.0 in /opt/anaconda3/lib/python3.11/site-packages (from weasel<0.4.0,>=0.1.0->spacy) (0.16.0)\n",
      "Requirement already satisfied: MarkupSafe>=2.0 in /opt/anaconda3/lib/python3.11/site-packages (from jinja2->spacy) (2.1.3)\n",
      "Note: you may need to restart the kernel to use updated packages.\n"
     ]
    }
   ],
   "source": [
    "pip install spacy"
   ]
  },
  {
   "cell_type": "code",
   "execution_count": 70,
   "id": "a66d5b03",
   "metadata": {},
   "outputs": [],
   "source": [
    "df['text'] = df['text'].apply(remove_stopwords)"
   ]
  },
  {
   "cell_type": "markdown",
   "id": "4669077e",
   "metadata": {},
   "source": [
    "Stemming"
   ]
  },
  {
   "cell_type": "code",
   "execution_count": 71,
   "id": "9ae0bdac",
   "metadata": {},
   "outputs": [],
   "source": [
    "from nltk.stem import PorterStemmer\n",
    "stemmer = PorterStemmer()"
   ]
  },
  {
   "cell_type": "code",
   "execution_count": 72,
   "id": "40b7248e",
   "metadata": {},
   "outputs": [
    {
     "name": "stderr",
     "output_type": "stream",
     "text": [
      "[nltk_data] Downloading package punkt to\n",
      "[nltk_data]     /Users/gouthamyadav007/nltk_data...\n",
      "[nltk_data]   Package punkt is already up-to-date!\n"
     ]
    },
    {
     "data": {
      "text/plain": [
       "True"
      ]
     },
     "execution_count": 72,
     "metadata": {},
     "output_type": "execute_result"
    }
   ],
   "source": [
    "import nltk\n",
    "nltk.download('punkt')"
   ]
  },
  {
   "cell_type": "code",
   "execution_count": 73,
   "id": "49166e33",
   "metadata": {},
   "outputs": [],
   "source": [
    "df['text'] = df['text'].apply(lambda text: ' '.join([stemmer.stem(word) for word in word_tokenize(text)]))"
   ]
  },
  {
   "cell_type": "markdown",
   "id": "ee7ec2ec",
   "metadata": {},
   "source": [
    "Lemmatization"
   ]
  },
  {
   "cell_type": "code",
   "execution_count": 74,
   "id": "9f016099",
   "metadata": {},
   "outputs": [
    {
     "name": "stdout",
     "output_type": "stream",
     "text": [
      "Collecting en-core-web-sm==3.7.1\n",
      "  Downloading https://github.com/explosion/spacy-models/releases/download/en_core_web_sm-3.7.1/en_core_web_sm-3.7.1-py3-none-any.whl (12.8 MB)\n",
      "\u001b[2K     \u001b[90m━━━━━━━━━━━━━━━━━━━━━━━━━━━━━━━━━━━━━━━━\u001b[0m \u001b[32m12.8/12.8 MB\u001b[0m \u001b[31m2.1 MB/s\u001b[0m eta \u001b[36m0:00:00\u001b[0m00:01\u001b[0m00:01\u001b[0m\n",
      "\u001b[?25hRequirement already satisfied: spacy<3.8.0,>=3.7.2 in /opt/anaconda3/lib/python3.11/site-packages (from en-core-web-sm==3.7.1) (3.7.4)\n",
      "Requirement already satisfied: spacy-legacy<3.1.0,>=3.0.11 in /opt/anaconda3/lib/python3.11/site-packages (from spacy<3.8.0,>=3.7.2->en-core-web-sm==3.7.1) (3.0.12)\n",
      "Requirement already satisfied: spacy-loggers<2.0.0,>=1.0.0 in /opt/anaconda3/lib/python3.11/site-packages (from spacy<3.8.0,>=3.7.2->en-core-web-sm==3.7.1) (1.0.5)\n",
      "Requirement already satisfied: murmurhash<1.1.0,>=0.28.0 in /opt/anaconda3/lib/python3.11/site-packages (from spacy<3.8.0,>=3.7.2->en-core-web-sm==3.7.1) (1.0.10)\n",
      "Requirement already satisfied: cymem<2.1.0,>=2.0.2 in /opt/anaconda3/lib/python3.11/site-packages (from spacy<3.8.0,>=3.7.2->en-core-web-sm==3.7.1) (2.0.8)\n",
      "Requirement already satisfied: preshed<3.1.0,>=3.0.2 in /opt/anaconda3/lib/python3.11/site-packages (from spacy<3.8.0,>=3.7.2->en-core-web-sm==3.7.1) (3.0.9)\n",
      "Requirement already satisfied: thinc<8.3.0,>=8.2.2 in /opt/anaconda3/lib/python3.11/site-packages (from spacy<3.8.0,>=3.7.2->en-core-web-sm==3.7.1) (8.2.3)\n",
      "Requirement already satisfied: wasabi<1.2.0,>=0.9.1 in /opt/anaconda3/lib/python3.11/site-packages (from spacy<3.8.0,>=3.7.2->en-core-web-sm==3.7.1) (1.1.2)\n",
      "Requirement already satisfied: srsly<3.0.0,>=2.4.3 in /opt/anaconda3/lib/python3.11/site-packages (from spacy<3.8.0,>=3.7.2->en-core-web-sm==3.7.1) (2.4.8)\n",
      "Requirement already satisfied: catalogue<2.1.0,>=2.0.6 in /opt/anaconda3/lib/python3.11/site-packages (from spacy<3.8.0,>=3.7.2->en-core-web-sm==3.7.1) (2.0.10)\n",
      "Requirement already satisfied: weasel<0.4.0,>=0.1.0 in /opt/anaconda3/lib/python3.11/site-packages (from spacy<3.8.0,>=3.7.2->en-core-web-sm==3.7.1) (0.3.4)\n",
      "Requirement already satisfied: typer<0.10.0,>=0.3.0 in /opt/anaconda3/lib/python3.11/site-packages (from spacy<3.8.0,>=3.7.2->en-core-web-sm==3.7.1) (0.9.4)\n",
      "Requirement already satisfied: smart-open<7.0.0,>=5.2.1 in /opt/anaconda3/lib/python3.11/site-packages (from spacy<3.8.0,>=3.7.2->en-core-web-sm==3.7.1) (5.2.1)\n",
      "Requirement already satisfied: tqdm<5.0.0,>=4.38.0 in /opt/anaconda3/lib/python3.11/site-packages (from spacy<3.8.0,>=3.7.2->en-core-web-sm==3.7.1) (4.65.0)\n",
      "Requirement already satisfied: requests<3.0.0,>=2.13.0 in /opt/anaconda3/lib/python3.11/site-packages (from spacy<3.8.0,>=3.7.2->en-core-web-sm==3.7.1) (2.31.0)\n",
      "Requirement already satisfied: pydantic!=1.8,!=1.8.1,<3.0.0,>=1.7.4 in /opt/anaconda3/lib/python3.11/site-packages (from spacy<3.8.0,>=3.7.2->en-core-web-sm==3.7.1) (1.10.12)\n",
      "Requirement already satisfied: jinja2 in /opt/anaconda3/lib/python3.11/site-packages (from spacy<3.8.0,>=3.7.2->en-core-web-sm==3.7.1) (3.1.3)\n",
      "Requirement already satisfied: setuptools in /opt/anaconda3/lib/python3.11/site-packages (from spacy<3.8.0,>=3.7.2->en-core-web-sm==3.7.1) (68.2.2)\n",
      "Requirement already satisfied: packaging>=20.0 in /opt/anaconda3/lib/python3.11/site-packages (from spacy<3.8.0,>=3.7.2->en-core-web-sm==3.7.1) (23.1)\n",
      "Requirement already satisfied: langcodes<4.0.0,>=3.2.0 in /opt/anaconda3/lib/python3.11/site-packages (from spacy<3.8.0,>=3.7.2->en-core-web-sm==3.7.1) (3.3.0)\n",
      "Requirement already satisfied: numpy>=1.19.0 in /opt/anaconda3/lib/python3.11/site-packages (from spacy<3.8.0,>=3.7.2->en-core-web-sm==3.7.1) (1.26.4)\n",
      "Requirement already satisfied: typing-extensions>=4.2.0 in /opt/anaconda3/lib/python3.11/site-packages (from pydantic!=1.8,!=1.8.1,<3.0.0,>=1.7.4->spacy<3.8.0,>=3.7.2->en-core-web-sm==3.7.1) (4.9.0)\n",
      "Requirement already satisfied: charset-normalizer<4,>=2 in /opt/anaconda3/lib/python3.11/site-packages (from requests<3.0.0,>=2.13.0->spacy<3.8.0,>=3.7.2->en-core-web-sm==3.7.1) (2.0.4)\n",
      "Requirement already satisfied: idna<4,>=2.5 in /opt/anaconda3/lib/python3.11/site-packages (from requests<3.0.0,>=2.13.0->spacy<3.8.0,>=3.7.2->en-core-web-sm==3.7.1) (3.4)\n",
      "Requirement already satisfied: urllib3<3,>=1.21.1 in /opt/anaconda3/lib/python3.11/site-packages (from requests<3.0.0,>=2.13.0->spacy<3.8.0,>=3.7.2->en-core-web-sm==3.7.1) (2.0.7)\n",
      "Requirement already satisfied: certifi>=2017.4.17 in /opt/anaconda3/lib/python3.11/site-packages (from requests<3.0.0,>=2.13.0->spacy<3.8.0,>=3.7.2->en-core-web-sm==3.7.1) (2024.2.2)\n",
      "Requirement already satisfied: blis<0.8.0,>=0.7.8 in /opt/anaconda3/lib/python3.11/site-packages (from thinc<8.3.0,>=8.2.2->spacy<3.8.0,>=3.7.2->en-core-web-sm==3.7.1) (0.7.11)\n",
      "Requirement already satisfied: confection<1.0.0,>=0.0.1 in /opt/anaconda3/lib/python3.11/site-packages (from thinc<8.3.0,>=8.2.2->spacy<3.8.0,>=3.7.2->en-core-web-sm==3.7.1) (0.1.4)\n",
      "Requirement already satisfied: click<9.0.0,>=7.1.1 in /opt/anaconda3/lib/python3.11/site-packages (from typer<0.10.0,>=0.3.0->spacy<3.8.0,>=3.7.2->en-core-web-sm==3.7.1) (8.1.7)\n",
      "Requirement already satisfied: cloudpathlib<0.17.0,>=0.7.0 in /opt/anaconda3/lib/python3.11/site-packages (from weasel<0.4.0,>=0.1.0->spacy<3.8.0,>=3.7.2->en-core-web-sm==3.7.1) (0.16.0)\n",
      "Requirement already satisfied: MarkupSafe>=2.0 in /opt/anaconda3/lib/python3.11/site-packages (from jinja2->spacy<3.8.0,>=3.7.2->en-core-web-sm==3.7.1) (2.1.3)\n",
      "\u001b[38;5;2m✔ Download and installation successful\u001b[0m\n",
      "You can now load the package via spacy.load('en_core_web_sm')\n"
     ]
    }
   ],
   "source": [
    "!python -m spacy download en_core_web_sm"
   ]
  },
  {
   "cell_type": "code",
   "execution_count": 75,
   "id": "2a2d854f",
   "metadata": {},
   "outputs": [],
   "source": [
    "nlp = spacy.load('en_core_web_sm')"
   ]
  },
  {
   "cell_type": "code",
   "execution_count": 76,
   "id": "ce9a6084",
   "metadata": {},
   "outputs": [],
   "source": [
    "def lemmatize_text(text):\n",
    "    doc = nlp(text)\n",
    "    lemmatized_tokens = [token.lemma_ for token in doc]\n",
    "    lemmatized_text = ' '.join(lemmatized_tokens)\n",
    "    return lemmatized_text"
   ]
  },
  {
   "cell_type": "code",
   "execution_count": 77,
   "id": "71399f5e",
   "metadata": {},
   "outputs": [],
   "source": [
    "df['text'] = df['text'].apply(lemmatize_text)"
   ]
  },
  {
   "cell_type": "code",
   "execution_count": 79,
   "id": "e412213f",
   "metadata": {},
   "outputs": [
    {
     "name": "stdout",
     "output_type": "stream",
     "text": [
      "0                                         ididntfeelhumili\n",
      "1        icangofromfeelingsohopelesstosodamnedhopefulju...\n",
      "2                  imgrabbingaminutetopostifeelgreedywrong\n",
      "3        iameverfeelingnostalgicaboutthefireplaceiwillk...\n",
      "4                                        iamfeelinggrouchi\n",
      "                               ...                        \n",
      "15995    ijusthadaverybrieftimeinthebeanbagandisaidtoan...\n",
      "15996    iamnowturningandifeelpatheticthatiamstillwaiti...\n",
      "15997                             ifeelstrongandgoodoveral\n",
      "15998       ifeellikethiswassucharudecommentandimgladthatt\n",
      "15999     iknowalotbutifeelsostupidbecauseicannotportrayit\n",
      "Name: text, Length: 16000, dtype: object\n"
     ]
    }
   ],
   "source": [
    "print(df['text'])"
   ]
  },
  {
   "cell_type": "markdown",
   "id": "b59494ec",
   "metadata": {},
   "source": [
    "# Featuring Engineering"
   ]
  },
  {
   "cell_type": "code",
   "execution_count": 80,
   "id": "07b9050d",
   "metadata": {
    "scrolled": true
   },
   "outputs": [
    {
     "name": "stdout",
     "output_type": "stream",
     "text": [
      "Feature names: ['aa' 'aaaaaaand' 'aaaaand' ... 'zum' 'zumba' 'zz']\n",
      "TF-IDF matrix:\n",
      " [[0. 0. 0. ... 0. 0. 0.]\n",
      " [0. 0. 0. ... 0. 0. 0.]\n",
      " [0. 0. 0. ... 0. 0. 0.]\n",
      " ...\n",
      " [0. 0. 0. ... 0. 0. 0.]\n",
      " [0. 0. 0. ... 0. 0. 0.]\n",
      " [0. 0. 0. ... 0. 0. 0.]]\n",
      "\n",
      "TF-IDF DataFrame:\n",
      "         aa  aaaaaaand  aaaaand  aaaand  aac  aahhh  aaron   ab  abandon  \\\n",
      "0      0.0        0.0      0.0     0.0  0.0    0.0    0.0  0.0      0.0   \n",
      "1      0.0        0.0      0.0     0.0  0.0    0.0    0.0  0.0      0.0   \n",
      "2      0.0        0.0      0.0     0.0  0.0    0.0    0.0  0.0      0.0   \n",
      "3      0.0        0.0      0.0     0.0  0.0    0.0    0.0  0.0      0.0   \n",
      "4      0.0        0.0      0.0     0.0  0.0    0.0    0.0  0.0      0.0   \n",
      "...    ...        ...      ...     ...  ...    ...    ...  ...      ...   \n",
      "15995  0.0        0.0      0.0     0.0  0.0    0.0    0.0  0.0      0.0   \n",
      "15996  0.0        0.0      0.0     0.0  0.0    0.0    0.0  0.0      0.0   \n",
      "15997  0.0        0.0      0.0     0.0  0.0    0.0    0.0  0.0      0.0   \n",
      "15998  0.0        0.0      0.0     0.0  0.0    0.0    0.0  0.0      0.0   \n",
      "15999  0.0        0.0      0.0     0.0  0.0    0.0    0.0  0.0      0.0   \n",
      "\n",
      "       abandoned  ...  zonisamide  zoo  zoom  zooming  zooms   zq  zucchini  \\\n",
      "0            0.0  ...         0.0  0.0   0.0      0.0    0.0  0.0       0.0   \n",
      "1            0.0  ...         0.0  0.0   0.0      0.0    0.0  0.0       0.0   \n",
      "2            0.0  ...         0.0  0.0   0.0      0.0    0.0  0.0       0.0   \n",
      "3            0.0  ...         0.0  0.0   0.0      0.0    0.0  0.0       0.0   \n",
      "4            0.0  ...         0.0  0.0   0.0      0.0    0.0  0.0       0.0   \n",
      "...          ...  ...         ...  ...   ...      ...    ...  ...       ...   \n",
      "15995        0.0  ...         0.0  0.0   0.0      0.0    0.0  0.0       0.0   \n",
      "15996        0.0  ...         0.0  0.0   0.0      0.0    0.0  0.0       0.0   \n",
      "15997        0.0  ...         0.0  0.0   0.0      0.0    0.0  0.0       0.0   \n",
      "15998        0.0  ...         0.0  0.0   0.0      0.0    0.0  0.0       0.0   \n",
      "15999        0.0  ...         0.0  0.0   0.0      0.0    0.0  0.0       0.0   \n",
      "\n",
      "       zum  zumba   zz  \n",
      "0      0.0    0.0  0.0  \n",
      "1      0.0    0.0  0.0  \n",
      "2      0.0    0.0  0.0  \n",
      "3      0.0    0.0  0.0  \n",
      "4      0.0    0.0  0.0  \n",
      "...    ...    ...  ...  \n",
      "15995  0.0    0.0  0.0  \n",
      "15996  0.0    0.0  0.0  \n",
      "15997  0.0    0.0  0.0  \n",
      "15998  0.0    0.0  0.0  \n",
      "15999  0.0    0.0  0.0  \n",
      "\n",
      "[16000 rows x 15186 columns]\n",
      "The count of sadness is: 4666\n",
      "The count of joy is: 5362\n",
      "The count of love is: 1304\n",
      "The count of anger is: 2159\n",
      "The count of fear is: 1937\n",
      "The count of surprise is: 572\n"
     ]
    }
   ],
   "source": [
    "# Step 1: Import the necessary libraries\n",
    "import pandas as pd\n",
    "from sklearn.feature_extraction.text import TfidfVectorizer\n",
    "\n",
    "# Step 2: Load your dataset\n",
    "df = pd.read_csv('Emotions_training.csv')\n",
    "\n",
    "# Step 3: Extract the text data from the dataset\n",
    "corpus = df['text'].tolist()\n",
    "\n",
    "# Step 4: Use TfidfVectorizer to vectorize the text data\n",
    "vectorizer = TfidfVectorizer()\n",
    "X = vectorizer.fit_transform(corpus)\n",
    "\n",
    "# Step 5: Print the resulting TF-IDF matrix\n",
    "print(\"Feature names:\", vectorizer.get_feature_names_out())\n",
    "print(\"TF-IDF matrix:\\n\", X.toarray())\n",
    "\n",
    "\n",
    "# Optional: If you want to see the matrix in a more readable format (like a DataFrame)\n",
    "df_tfidf = pd.DataFrame(X.toarray(), columns=vectorizer.get_feature_names_out())\n",
    "print(\"\\nTF-IDF DataFrame:\\n\", df_tfidf)\n",
    "print(\"The count of sadness is:\", len(label_dict[0]))\n",
    "print(\"The count of joy is:\", len(label_dict[1]))\n",
    "print(\"The count of love is:\", len(label_dict[2]))\n",
    "print(\"The count of anger is:\", len(label_dict[3]))\n",
    "print(\"The count of fear is:\", len(label_dict[4]))\n",
    "print(\"The count of surprise is:\", len(label_dict[5]))"
   ]
  },
  {
   "cell_type": "code",
   "execution_count": 87,
   "id": "6f837d8f",
   "metadata": {},
   "outputs": [
    {
     "name": "stdout",
     "output_type": "stream",
     "text": [
      "First few rows of the dataset:\n",
      "                                                 text  label\n",
      "0                            i didnt feel humiliated      0\n",
      "1  i can go from feeling so hopeless to so damned...      0\n",
      "2   im grabbing a minute to post i feel greedy wrong      3\n",
      "3  i am ever feeling nostalgic about the fireplac...      2\n",
      "4                               i am feeling grouchy      3\n",
      "Data types:\n",
      " text     object\n",
      "label     int64\n",
      "dtype: object\n",
      "Unique values in the 'label' column: [0 3 2 5 4 1]\n",
      "The count of sadness is: 4666\n",
      "The count of joy is: 5362\n",
      "The count of love is: 1304\n",
      "The count of anger is: 2159\n",
      "The count of fear is: 1937\n",
      "The count of surprise is: 572\n"
     ]
    }
   ],
   "source": [
    "df = pd.read_csv('Emotions_training.csv')  # Adjust the file path as needed\n",
    "\n",
    "# Verify the data is loaded correctly\n",
    "print(\"First few rows of the dataset:\\n\", df.head())\n",
    "print(\"Data types:\\n\", df.dtypes)\n",
    "print(\"Unique values in the 'label' column:\", df['label'].unique())\n",
    "\n",
    "# Check for missing data and handle them by dropping any rows with missing values\n",
    "df = df.dropna(subset=['label', 'text'])\n",
    "\n",
    "# Creating dictionaries to hold text for each label\n",
    "label_dict = {0: [], 1: [], 2: [], 3: [], 4: [], 5: []}\n",
    "\n",
    "# This for loop helps in appending each sample/data into the respective labels array based on the if conditions\n",
    "for lbl, txt in zip(df['label'], df['text']):\n",
    "    if lbl in label_dict:\n",
    "        label_dict[lbl].append(txt)\n",
    "\n",
    "# Displaying the length of each label\n",
    "print(\"The count of sadness is:\", len(label_dict[0]))\n",
    "print(\"The count of joy is:\", len(label_dict[1]))\n",
    "print(\"The count of love is:\", len(label_dict[2]))\n",
    "print(\"The count of anger is:\", len(label_dict[3]))\n",
    "print(\"The count of fear is:\", len(label_dict[4]))\n",
    "print(\"The count of surprise is:\", len(label_dict[5]))"
   ]
  },
  {
   "cell_type": "code",
   "execution_count": 88,
   "id": "fdb3fb81",
   "metadata": {},
   "outputs": [
    {
     "name": "stdout",
     "output_type": "stream",
     "text": [
      "First few rows of the dataset:\n",
      "                                                 text  label\n",
      "0                            i didnt feel humiliated      0\n",
      "1  i can go from feeling so hopeless to so damned...      0\n",
      "2   im grabbing a minute to post i feel greedy wrong      3\n",
      "3  i am ever feeling nostalgic about the fireplac...      2\n",
      "4                               i am feeling grouchy      3\n",
      "Data types:\n",
      " text     object\n",
      "label     int64\n",
      "dtype: object\n",
      "Unique values in the 'label' column: [0 3 2 5 4 1]\n",
      "The percentage of label 1 is 33.51% (Count: 5362)\n",
      "The percentage of label 0 is 29.16% (Count: 4666)\n",
      "The percentage of label 3 is 13.49% (Count: 2159)\n",
      "The percentage of label 4 is 12.11% (Count: 1937)\n",
      "The percentage of label 2 is 8.15% (Count: 1304)\n",
      "The percentage of label 5 is 3.57% (Count: 572)\n"
     ]
    },
    {
     "data": {
      "image/png": "[encoded data removed]",
      "text/plain": [
       "<Figure size 800x600 with 1 Axes>"
      ]
     },
     "metadata": {},
     "output_type": "display_data"
    },
    {
     "name": "stdout",
     "output_type": "stream",
     "text": [
      "Training set size: 11200 (70.00%)\n",
      "Validation set size: 1600 (10.00%)\n",
      "Test set size: 3200 (20.00%)\n"
     ]
    }
   ],
   "source": [
    "df = pd.read_csv('Emotions_training.csv')  \n",
    "\n",
    "# Verify the data is loaded correctly\n",
    "print(\"First few rows of the dataset:\\n\", df.head())\n",
    "print(\"Data types:\\n\", df.dtypes)\n",
    "print(\"Unique values in the 'label' column:\", df['label'].unique())\n",
    "\n",
    "df = df.dropna(subset=['label', 'text'])\n",
    "\n",
    "# Function to calculate and display label counts and percentages\n",
    "def calculate_label_stats(df):\n",
    "    label_counts = df['label'].value_counts()\n",
    "    total_count = len(df)\n",
    "    \n",
    "    for label, count in label_counts.items():\n",
    "        percentage = (count / total_count) * 100\n",
    "        print(f\"The percentage of label {label} is {percentage:.2f}% (Count: {count})\")\n",
    "\n",
    "    return label_counts\n",
    "\n",
    "# Calculate and display label statistics\n",
    "label_counts = calculate_label_stats(df)\n",
    "\n",
    "# Visualizing the counts of each label\n",
    "plt.figure(figsize=(8, 6))\n",
    "sns.barplot(x=label_counts.index, y=label_counts.values)\n",
    "plt.title('Count of each label')\n",
    "plt.xlabel('Labels')\n",
    "plt.ylabel('Count')\n",
    "plt.show()\n",
    "\n",
    "# Splitting the dataset\n",
    "def split_dataset(df, test_size=0.2, val_size=0.1, random_state=42):\n",
    "    train_val_df, test_df = train_test_split(df, test_size=test_size, random_state=random_state, stratify=df['label'])\n",
    "    train_df, val_df = train_test_split(train_val_df, test_size=val_size/(1-test_size), random_state=random_state, stratify=train_val_df['label'])\n",
    "    \n",
    "    return train_df, val_df, test_df\n",
    "\n",
    "# Split the dataset\n",
    "train_df, val_df, test_df = split_dataset(df)\n",
    "\n",
    "# Print the sizes and percentages of each split\n",
    "total_size = len(df)\n",
    "print(f'Training set size: {len(train_df)} ({len(train_df) / total_size * 100:.2f}%)')\n",
    "print(f'Validation set size: {len(val_df)} ({len(val_df) / total_size * 100:.2f}%)')\n",
    "print(f'Test set size: {len(test_df)} ({len(test_df) / total_size * 100:.2f}%)')"
   ]
  },
  {
   "cell_type": "code",
   "execution_count": 108,
   "id": "39012cce",
   "metadata": {},
   "outputs": [
    {
     "name": "stdout",
     "output_type": "stream",
     "text": [
      "First few rows of the dataset:\n",
      "                                                 text  label\n",
      "0                            i didnt feel humiliated      0\n",
      "1  i can go from feeling so hopeless to so damned...      0\n",
      "2   im grabbing a minute to post i feel greedy wrong      3\n",
      "3  i am ever feeling nostalgic about the fireplac...      2\n",
      "4                               i am feeling grouchy      3\n",
      "Data types:\n",
      " text     object\n",
      "label     int64\n",
      "dtype: object\n",
      "Unique values in the 'label' column: [0 3 2 5 4 1]\n",
      "Training set size: 11200 (70.00%)\n",
      "Validation set size: 1600 (10.00%)\n",
      "Test set size: 3200 (20.00%)\n"
     ]
    }
   ],
   "source": [
    "import pandas as pd\n",
    "import matplotlib.pyplot as plt\n",
    "from sklearn.model_selection import train_test_split\n",
    "\n",
    "# Load your dataset\n",
    "df = pd.read_csv('Emotions_training.csv')  \n",
    "\n",
    "# Verify the data is loaded correctly\n",
    "print(\"First few rows of the dataset:\\n\", df.head())\n",
    "print(\"Data types:\\n\", df.dtypes)\n",
    "print(\"Unique values in the 'label' column:\", df['label'].unique())\n",
    "\n",
    "# Check for missing data and handle them by dropping any rows with missing values\n",
    "df = df.dropna(subset=['label', 'text'])\n",
    "\n",
    "# Splitting the dataset\n",
    "# First, split off the test set (20% of the data)\n",
    "train_val_df, test_df = train_test_split(df, test_size=0.2, random_state=42, stratify=df['label'])\n",
    "\n",
    "# Then split the remaining data into training (70% of original) and validation sets (10% of original)\n",
    "train_df, val_df = train_test_split(train_val_df, test_size=0.125, random_state=42, stratify=train_val_df['label'])\n",
    "# 0.125 * 0.8 = 0.1, so validation set is 10% of the original dataset\n",
    "\n",
    "# Printing the sizes and percentages of each split\n",
    "total_size = len(df)\n",
    "train_size = len(train_df)\n",
    "val_size = len(val_df)\n",
    "test_size = len(test_df)\n",
    "\n",
    "print(f'Training set size: {train_size} ({train_size / total_size * 100:.2f}%)')\n",
    "print(f'Validation set size: {val_size} ({val_size / total_size * 100:.2f}%)')\n",
    "print(f'Test set size: {test_size} ({test_size / total_size * 100:.2f}%)')"
   ]
  },
  {
   "cell_type": "code",
   "execution_count": 98,
   "id": "1f91d64e",
   "metadata": {},
   "outputs": [
    {
     "name": "stdout",
     "output_type": "stream",
     "text": [
      "label\n",
      "1    5362\n",
      "0    5362\n",
      "3    5362\n",
      "4    5362\n",
      "2    5362\n",
      "5    5362\n",
      "Name: count, dtype: int64\n"
     ]
    }
   ],
   "source": [
    "from sklearn.utils import resample\n",
    "\n",
    "class_counts = df['label'].value_counts()\n",
    "\n",
    "# target count using maximum count among all the label\n",
    "target_count = class_counts.max()\n",
    "\n",
    "\n",
    "resampled_data = []\n",
    "\n",
    "# Loop through each class\n",
    "for label in class_counts.index:\n",
    "    # Extract data for the current class\n",
    "    class_data = df[df['label'] == label]\n",
    "\n",
    "    # Upsample (oversample) the class to match the target count\n",
    "    sampled_data = resample(class_data, replace=True, n_samples=target_count, random_state=42)\n",
    "\n",
    "    # Append the resampled data to the list\n",
    "    resampled_data.append(sampled_data)\n",
    "\n",
    "# Concatenate the resampled data for all classes\n",
    "balanced_df = pd.concat(resampled_data)\n",
    "\n",
    "# Displaying the count of samples in each class after balancing the dataset classes\n",
    "print(balanced_df['label'].value_counts())"
   ]
  },
  {
   "cell_type": "code",
   "execution_count": 99,
   "id": "c1af6234",
   "metadata": {},
   "outputs": [
    {
     "data": {
      "text/html": [
       "<div>\n",
       "<style scoped>\n",
       "    .dataframe tbody tr th:only-of-type {\n",
       "        vertical-align: middle;\n",
       "    }\n",
       "\n",
       "    .dataframe tbody tr th {\n",
       "        vertical-align: top;\n",
       "    }\n",
       "\n",
       "    .dataframe thead th {\n",
       "        text-align: right;\n",
       "    }\n",
       "</style>\n",
       "<table border=\"1\" class=\"dataframe\">\n",
       "  <thead>\n",
       "    <tr style=\"text-align: right;\">\n",
       "      <th></th>\n",
       "      <th>text</th>\n",
       "      <th>label</th>\n",
       "    </tr>\n",
       "  </thead>\n",
       "  <tbody>\n",
       "    <tr>\n",
       "      <th>2491</th>\n",
       "      <td>i feel glad that justice will be served west said</td>\n",
       "      <td>1</td>\n",
       "    </tr>\n",
       "    <tr>\n",
       "      <th>15585</th>\n",
       "      <td>i feel really valuable because of this knowing...</td>\n",
       "      <td>1</td>\n",
       "    </tr>\n",
       "    <tr>\n",
       "      <th>15488</th>\n",
       "      <td>i certainly have never felt it was appropriate...</td>\n",
       "      <td>1</td>\n",
       "    </tr>\n",
       "    <tr>\n",
       "      <th>11161</th>\n",
       "      <td>i feel assured that the future of online enter...</td>\n",
       "      <td>1</td>\n",
       "    </tr>\n",
       "    <tr>\n",
       "      <th>9145</th>\n",
       "      <td>i feel so thankful i have been able to figure ...</td>\n",
       "      <td>1</td>\n",
       "    </tr>\n",
       "    <tr>\n",
       "      <th>...</th>\n",
       "      <td>...</td>\n",
       "      <td>...</td>\n",
       "    </tr>\n",
       "    <tr>\n",
       "      <th>15825</th>\n",
       "      <td>i even feel it is a game that i am a part of s...</td>\n",
       "      <td>5</td>\n",
       "    </tr>\n",
       "    <tr>\n",
       "      <th>5319</th>\n",
       "      <td>i was talking to my district leader elder hill...</td>\n",
       "      <td>5</td>\n",
       "    </tr>\n",
       "    <tr>\n",
       "      <th>4775</th>\n",
       "      <td>i know this isnt real but it feels strange to ...</td>\n",
       "      <td>5</td>\n",
       "    </tr>\n",
       "    <tr>\n",
       "      <th>1756</th>\n",
       "      <td>i feel kinda strange too cause i didnt encount...</td>\n",
       "      <td>5</td>\n",
       "    </tr>\n",
       "    <tr>\n",
       "      <th>3361</th>\n",
       "      <td>i don t mean this to be a serious recollection...</td>\n",
       "      <td>5</td>\n",
       "    </tr>\n",
       "  </tbody>\n",
       "</table>\n",
       "<p>32172 rows × 2 columns</p>\n",
       "</div>"
      ],
      "text/plain": [
       "                                                    text  label\n",
       "2491   i feel glad that justice will be served west said      1\n",
       "15585  i feel really valuable because of this knowing...      1\n",
       "15488  i certainly have never felt it was appropriate...      1\n",
       "11161  i feel assured that the future of online enter...      1\n",
       "9145   i feel so thankful i have been able to figure ...      1\n",
       "...                                                  ...    ...\n",
       "15825  i even feel it is a game that i am a part of s...      5\n",
       "5319   i was talking to my district leader elder hill...      5\n",
       "4775   i know this isnt real but it feels strange to ...      5\n",
       "1756   i feel kinda strange too cause i didnt encount...      5\n",
       "3361   i don t mean this to be a serious recollection...      5\n",
       "\n",
       "[32172 rows x 2 columns]"
      ]
     },
     "execution_count": 99,
     "metadata": {},
     "output_type": "execute_result"
    }
   ],
   "source": [
    "balanced_df"
   ]
  },
  {
   "cell_type": "code",
   "execution_count": 113,
   "id": "8e996f2e",
   "metadata": {},
   "outputs": [
    {
     "data": {
      "image/png": "[encoded data removed]",
      "text/plain": [
       "<Figure size 1000x800 with 1 Axes>"
      ]
     },
     "metadata": {},
     "output_type": "display_data"
    }
   ],
   "source": [
    "plt.figure(figsize=(10, 8))\n",
    "sns.countplot(x='label', data=balanced_df)\n",
    "plt.title('Count of labels')\n",
    "plt.ylabel('count')\n",
    "plt.xlabel('Label')\n",
    "plt.show()\n",
    "balanced_df['text'].fillna('', inplace=True)"
   ]
  },
  {
   "cell_type": "markdown",
   "id": "81dedcb1",
   "metadata": {},
   "source": [
    "# Model Building\n"
   ]
  },
  {
   "cell_type": "markdown",
   "id": "60c85850",
   "metadata": {},
   "source": [
    "1. Dividing the dataset in to Train (70%), Test (20%) and Validation (10%) datasets."
   ]
  },
  {
   "cell_type": "markdown",
   "id": "e8499394",
   "metadata": {},
   "source": [
    "# classification models"
   ]
  },
  {
   "cell_type": "code",
   "execution_count": 158,
   "id": "90a2b71c",
   "metadata": {},
   "outputs": [],
   "source": [
    "# Defining models\n",
    "models = {\n",
    "    \"Naive Bayes\"\n",
    "    \"Random Forest\"\n",
    "    \"Support Vector Machine\"\n",
    "}"
   ]
  },
  {
   "cell_type": "code",
   "execution_count": 159,
   "id": "498faffb",
   "metadata": {},
   "outputs": [
    {
     "name": "stdout",
     "output_type": "stream",
     "text": [
      "Naive Bayes Validation Accuracy: 91.77%\n",
      "Naive Bayes Validation Classification Report:\n",
      "              precision    recall  f1-score   support\n",
      "\n",
      "           0       0.95      0.91      0.93       536\n",
      "           1       0.95      0.81      0.88       501\n",
      "           2       0.90      0.96      0.93       562\n",
      "           3       0.93      0.92      0.92       566\n",
      "           4       0.90      0.91      0.91       533\n",
      "           5       0.88      0.99      0.93       520\n",
      "\n",
      "    accuracy                           0.92      3218\n",
      "   macro avg       0.92      0.92      0.92      3218\n",
      "weighted avg       0.92      0.92      0.92      3218\n",
      "\n",
      "Naive Bayes Test Accuracy: 91.89%\n",
      "Naive Bayes Test Classification Report:\n",
      "              precision    recall  f1-score   support\n",
      "\n",
      "           0       0.93      0.88      0.90      1097\n",
      "           1       0.94      0.85      0.89      1104\n",
      "           2       0.91      0.95      0.93      1069\n",
      "           3       0.92      0.93      0.93      1053\n",
      "           4       0.92      0.91      0.92      1054\n",
      "           5       0.90      0.99      0.94      1057\n",
      "\n",
      "    accuracy                           0.92      6434\n",
      "   macro avg       0.92      0.92      0.92      6434\n",
      "weighted avg       0.92      0.92      0.92      6434\n",
      "\n",
      "\n",
      "Classification Report for Naive Bayes:\n",
      "              precision    recall  f1-score   support\n",
      "\n",
      "           0       0.93      0.88      0.90      1097\n",
      "           1       0.94      0.85      0.89      1104\n",
      "           2       0.91      0.95      0.93      1069\n",
      "           3       0.92      0.93      0.93      1053\n",
      "           4       0.92      0.91      0.92      1054\n",
      "           5       0.90      0.99      0.94      1057\n",
      "\n",
      "    accuracy                           0.92      6434\n",
      "   macro avg       0.92      0.92      0.92      6434\n",
      "weighted avg       0.92      0.92      0.92      6434\n",
      "\n",
      "Random Forest Validation Accuracy: 96.92%\n",
      "Random Forest Validation Classification Report:\n",
      "              precision    recall  f1-score   support\n",
      "\n",
      "           0       0.96      0.96      0.96       536\n",
      "           1       0.96      0.91      0.93       501\n",
      "           2       0.96      1.00      0.98       562\n",
      "           3       0.99      0.97      0.98       566\n",
      "           4       0.98      0.98      0.98       533\n",
      "           5       0.98      1.00      0.99       520\n",
      "\n",
      "    accuracy                           0.97      3218\n",
      "   macro avg       0.97      0.97      0.97      3218\n",
      "weighted avg       0.97      0.97      0.97      3218\n",
      "\n",
      "Random Forest Test Accuracy: 96.80%\n",
      "Random Forest Test Classification Report:\n",
      "              precision    recall  f1-score   support\n",
      "\n",
      "           0       0.97      0.94      0.95      1097\n",
      "           1       0.95      0.93      0.94      1104\n",
      "           2       0.97      0.99      0.98      1069\n",
      "           3       0.98      0.97      0.97      1053\n",
      "           4       0.97      0.98      0.97      1054\n",
      "           5       0.98      1.00      0.99      1057\n",
      "\n",
      "    accuracy                           0.97      6434\n",
      "   macro avg       0.97      0.97      0.97      6434\n",
      "weighted avg       0.97      0.97      0.97      6434\n",
      "\n",
      "\n",
      "Classification Report for Random Forest:\n",
      "              precision    recall  f1-score   support\n",
      "\n",
      "           0       0.97      0.94      0.95      1097\n",
      "           1       0.95      0.93      0.94      1104\n",
      "           2       0.97      0.99      0.98      1069\n",
      "           3       0.98      0.97      0.97      1053\n",
      "           4       0.97      0.98      0.97      1054\n",
      "           5       0.98      1.00      0.99      1057\n",
      "\n",
      "    accuracy                           0.97      6434\n",
      "   macro avg       0.97      0.97      0.97      6434\n",
      "weighted avg       0.97      0.97      0.97      6434\n",
      "\n",
      "Support Vector Machine Validation Accuracy: 97.08%\n",
      "Support Vector Machine Validation Classification Report:\n",
      "              precision    recall  f1-score   support\n",
      "\n",
      "           0       0.96      0.97      0.96       536\n",
      "           1       0.95      0.94      0.94       501\n",
      "           2       0.96      0.98      0.97       562\n",
      "           3       0.99      0.96      0.97       566\n",
      "           4       0.98      0.98      0.98       533\n",
      "           5       0.99      1.00      0.99       520\n",
      "\n",
      "    accuracy                           0.97      3218\n",
      "   macro avg       0.97      0.97      0.97      3218\n",
      "weighted avg       0.97      0.97      0.97      3218\n",
      "\n",
      "Support Vector Machine Test Accuracy: 96.86%\n",
      "Support Vector Machine Test Classification Report:\n",
      "              precision    recall  f1-score   support\n",
      "\n",
      "           0       0.96      0.96      0.96      1097\n",
      "           1       0.94      0.96      0.95      1104\n",
      "           2       0.97      0.97      0.97      1069\n",
      "           3       0.97      0.96      0.97      1053\n",
      "           4       0.98      0.97      0.97      1054\n",
      "           5       0.99      1.00      0.99      1057\n",
      "\n",
      "    accuracy                           0.97      6434\n",
      "   macro avg       0.97      0.97      0.97      6434\n",
      "weighted avg       0.97      0.97      0.97      6434\n",
      "\n",
      "\n",
      "Classification Report for Support Vector Machine:\n",
      "              precision    recall  f1-score   support\n",
      "\n",
      "           0       0.96      0.96      0.96      1097\n",
      "           1       0.94      0.96      0.95      1104\n",
      "           2       0.97      0.97      0.97      1069\n",
      "           3       0.97      0.96      0.97      1053\n",
      "           4       0.98      0.97      0.97      1054\n",
      "           5       0.99      1.00      0.99      1057\n",
      "\n",
      "    accuracy                           0.97      6434\n",
      "   macro avg       0.97      0.97      0.97      6434\n",
      "weighted avg       0.97      0.97      0.97      6434\n",
      "\n"
     ]
    }
   ],
   "source": [
    "from sklearn.feature_extraction.text import TfidfVectorizer\n",
    "from sklearn.model_selection import train_test_split\n",
    "from sklearn.naive_bayes import MultinomialNB\n",
    "from sklearn.ensemble import RandomForestClassifier\n",
    "from sklearn.svm import SVC\n",
    "from sklearn.metrics import accuracy_score, classification_report\n",
    "\n",
    "# Assuming balanced_df is already defined and balanced\n",
    "# Defining the features (X) and target (y)\n",
    "X = balanced_df['text']\n",
    "y = balanced_df['label']\n",
    "\n",
    "# First split the dataset into Train 70%\n",
    "X_train, X_test_val, y_train, y_test_val = train_test_split(X, y, test_size=0.3, random_state=42)\n",
    "\n",
    "# Then split the combined Test-Validation into Test 20% and Validation 10%\n",
    "X_test, X_val, y_test, y_val = train_test_split(X_test_val, y_test_val, test_size=1/3, random_state=42)\n",
    "\n",
    "# Use TfidfVectorizer to convert text data to numerical features\n",
    "vectorizer = TfidfVectorizer()\n",
    "\n",
    "# Fit and transform the training data, transform the test and validation data\n",
    "X_train_tfidf = vectorizer.fit_transform(X_train)\n",
    "X_val_tfidf = vectorizer.transform(X_val)\n",
    "X_test_tfidf = vectorizer.transform(X_test)\n",
    "\n",
    "# Define the models as a dictionary\n",
    "models = {\n",
    "    \"Naive Bayes\": MultinomialNB(),\n",
    "    \"Random Forest\": RandomForestClassifier(),\n",
    "    \"Support Vector Machine\": SVC()\n",
    "}\n",
    "\n",
    "# Train and evaluate each model\n",
    "for model_name, model in models.items():\n",
    "    # Train the model\n",
    "    model.fit(X_train_tfidf, y_train)\n",
    "    \n",
    "    # Validate the model\n",
    "    y_val_pred = model.predict(X_val_tfidf)\n",
    "    val_accuracy = accuracy_score(y_val, y_val_pred)\n",
    "    \n",
    "    # Print validation accuracy\n",
    "    print(f\"{model_name} Validation Accuracy: {val_accuracy * 100:.2f}%\")\n",
    "    \n",
    "    # Generate and print classification report for validation set\n",
    "    val_report = classification_report(y_val, y_val_pred)\n",
    "    print(f\"{model_name} Validation Classification Report:\\n{val_report}\")\n",
    "    \n",
    "    # Test the model\n",
    "    y_test_pred = model.predict(X_test_tfidf)\n",
    "    test_accuracy = accuracy_score(y_test, y_test_pred)\n",
    "    \n",
    "    # Print test accuracy\n",
    "    print(f\"{model_name} Test Accuracy: {test_accuracy * 100:.2f}%\")\n",
    "    \n",
    "    # Generate and print classification report for test set\n",
    "    test_report = classification_report(y_test, y_test_pred)\n",
    "    print(f\"{model_name} Test Classification Report:\\n{test_report}\")\n",
    "    \n",
    "    # Generate classification report\n",
    "    print(f\"\\nClassification Report for {model_name}:\")\n",
    "    print(classification_report(y_test, y_test_pred))"
   ]
  },
  {
   "cell_type": "code",
   "execution_count": 160,
   "id": "7780e2dd",
   "metadata": {},
   "outputs": [
    {
     "name": "stdout",
     "output_type": "stream",
     "text": [
      "Best parameters for Naive Bayes: {'var_smoothing': 1e-09}\n",
      "Best score for Naive Bayes: 0.9416666666666668\n",
      "Best parameters for Random Forest: {'max_depth': None, 'n_estimators': 100}\n",
      "Best score for Random Forest: 0.95\n",
      "Best parameters for Support Vector Machine: {'C': 10, 'gamma': 'auto'}\n",
      "Best score for Support Vector Machine: 0.9583333333333334\n"
     ]
    }
   ],
   "source": [
    "X, y = load_iris(return_X_y=True)\n",
    "X_train, X_test, y_train, y_test = train_test_split(X, y, test_size=0.2, random_state=42)\n",
    "\n",
    "# Define parameter grids\n",
    "nb_param_grid = {'var_smoothing': [1e-9, 1e-8, 1e-7]}\n",
    "rf_param_grid = {'n_estimators': [10, 50, 100], 'max_depth': [None, 10, 20]}\n",
    "svm_param_grid = {'C': [0.1, 1, 10], 'gamma': ['scale', 'auto']}\n",
    "\n",
    "#Perform grid search for each model\n",
    "models = {\n",
    "    \"Naive Bayes\": (GaussianNB(), nb_param_grid),\n",
    "    \"Random Forest\": (RandomForestClassifier(), rf_param_grid),\n",
    "    \"Support Vector Machine\": (SVC(), svm_param_grid)\n",
    "}\n",
    "\n",
    "for name, (model, param_grid) in models.items():\n",
    "    grid_search = GridSearchCV(model, param_grid, cv=5, n_jobs=-1)\n",
    "    grid_search.fit(X_train, y_train)\n",
    "    print(f\"Best parameters for {name}: {grid_search.best_params_}\")\n",
    "    print(f\"Best score for {name}: {grid_search.best_score_}\")"
   ]
  },
  {
   "cell_type": "code",
   "execution_count": 185,
   "id": "e5d713a8",
   "metadata": {},
   "outputs": [
    {
     "name": "stdout",
     "output_type": "stream",
     "text": [
      "\n",
      "Model: Naive Bayes\n",
      "Best Hyperparameters: {'var_smoothing': 1e-07}\n",
      "Classification Report (Training Data):\n",
      "              precision    recall  f1-score   support\n",
      "\n",
      "           0       1.00      0.99      1.00       122\n",
      "           1       0.89      0.83      0.86       119\n",
      "           2       0.98      0.79      0.88       106\n",
      "           3       0.97      0.88      0.92       117\n",
      "           4       0.97      0.93      0.95       107\n",
      "           5       0.96      0.96      0.96       108\n",
      "           6       0.97      0.98      0.98       121\n",
      "           7       0.81      0.99      0.89       114\n",
      "           8       0.72      0.92      0.81       123\n",
      "           9       0.91      0.77      0.83       112\n",
      "\n",
      "    accuracy                           0.91      1149\n",
      "   macro avg       0.92      0.91      0.91      1149\n",
      "weighted avg       0.92      0.91      0.91      1149\n",
      "\n",
      "Confusion Matrix (Training Data):\n",
      "[[121   0   0   0   1   0   0   0   0   0]\n",
      " [  0  99   1   0   0   0   4   3   6   6]\n",
      " [  0   3  84   0   0   0   0   0  19   0]\n",
      " [  0   0   1 103   0   1   0   4   6   2]\n",
      " [  0   0   0   0 100   0   0   6   1   0]\n",
      " [  0   0   0   1   0 104   0   1   1   1]\n",
      " [  0   0   0   0   1   1 119   0   0   0]\n",
      " [  0   0   0   0   1   0   0 113   0   0]\n",
      " [  0   6   0   1   0   1   0   2 113   0]\n",
      " [  0   3   0   1   0   1   0  11  10  86]]\n",
      "\n",
      "Classification Report (Test Data):\n",
      "              precision    recall  f1-score   support\n",
      "\n",
      "           0       1.00      0.94      0.97        33\n",
      "           1       0.81      0.79      0.80        28\n",
      "           2       0.88      0.70      0.78        33\n",
      "           3       0.94      0.88      0.91        34\n",
      "           4       0.98      0.98      0.98        46\n",
      "           5       0.88      0.91      0.90        47\n",
      "           6       0.94      0.97      0.96        35\n",
      "           7       0.82      0.97      0.89        34\n",
      "           8       0.62      0.87      0.72        30\n",
      "           9       0.90      0.70      0.79        40\n",
      "\n",
      "    accuracy                           0.88       360\n",
      "   macro avg       0.88      0.87      0.87       360\n",
      "weighted avg       0.89      0.88      0.88       360\n",
      "\n",
      "Confusion Matrix (Test Data):\n",
      "[[31  0  0  0  0  1  0  1  0  0]\n",
      " [ 0 22  1  0  0  0  0  0  3  2]\n",
      " [ 0  2 23  0  0  0  1  0  7  0]\n",
      " [ 0  0  1 30  0  1  0  0  2  0]\n",
      " [ 0  0  0  0 45  0  0  1  0  0]\n",
      " [ 0  0  0  1  0 43  1  1  0  1]\n",
      " [ 0  0  0  0  1  0 34  0  0  0]\n",
      " [ 0  0  0  0  0  1  0 33  0  0]\n",
      " [ 0  2  0  0  0  1  0  1 26  0]\n",
      " [ 0  1  1  1  0  2  0  3  4 28]]\n",
      "\n",
      "Model: Random Forest\n",
      "Best Hyperparameters: {'max_depth': None, 'n_estimators': 100}\n",
      "Classification Report (Training Data):\n",
      "              precision    recall  f1-score   support\n",
      "\n",
      "           0       1.00      1.00      1.00       122\n",
      "           1       1.00      1.00      1.00       119\n",
      "           2       1.00      1.00      1.00       106\n",
      "           3       1.00      1.00      1.00       117\n",
      "           4       1.00      1.00      1.00       107\n",
      "           5       1.00      1.00      1.00       108\n",
      "           6       1.00      1.00      1.00       121\n",
      "           7       1.00      1.00      1.00       114\n",
      "           8       1.00      1.00      1.00       123\n",
      "           9       1.00      1.00      1.00       112\n",
      "\n",
      "    accuracy                           1.00      1149\n",
      "   macro avg       1.00      1.00      1.00      1149\n",
      "weighted avg       1.00      1.00      1.00      1149\n",
      "\n",
      "Confusion Matrix (Training Data):\n",
      "[[122   0   0   0   0   0   0   0   0   0]\n",
      " [  0 119   0   0   0   0   0   0   0   0]\n",
      " [  0   0 106   0   0   0   0   0   0   0]\n",
      " [  0   0   0 117   0   0   0   0   0   0]\n",
      " [  0   0   0   0 107   0   0   0   0   0]\n",
      " [  0   0   0   0   0 108   0   0   0   0]\n",
      " [  0   0   0   0   0   0 121   0   0   0]\n",
      " [  0   0   0   0   0   0   0 114   0   0]\n",
      " [  0   0   0   0   0   0   0   0 123   0]\n",
      " [  0   0   0   0   0   0   0   0   0 112]]\n",
      "\n",
      "Classification Report (Test Data):\n",
      "              precision    recall  f1-score   support\n",
      "\n",
      "           0       1.00      1.00      1.00        33\n",
      "           1       0.93      1.00      0.97        28\n",
      "           2       1.00      1.00      1.00        33\n",
      "           3       1.00      0.97      0.99        34\n",
      "           4       1.00      1.00      1.00        46\n",
      "           5       0.94      0.96      0.95        47\n",
      "           6       0.97      0.97      0.97        35\n",
      "           7       0.97      0.97      0.97        34\n",
      "           8       1.00      0.93      0.97        30\n",
      "           9       0.95      0.95      0.95        40\n",
      "\n",
      "    accuracy                           0.97       360\n",
      "   macro avg       0.98      0.98      0.98       360\n",
      "weighted avg       0.98      0.97      0.98       360\n",
      "\n",
      "Confusion Matrix (Test Data):\n",
      "[[33  0  0  0  0  0  0  0  0  0]\n",
      " [ 0 28  0  0  0  0  0  0  0  0]\n",
      " [ 0  0 33  0  0  0  0  0  0  0]\n",
      " [ 0  0  0 33  0  1  0  0  0  0]\n",
      " [ 0  0  0  0 46  0  0  0  0  0]\n",
      " [ 0  0  0  0  0 45  1  0  0  1]\n",
      " [ 0  0  0  0  0  1 34  0  0  0]\n",
      " [ 0  0  0  0  0  0  0 33  0  1]\n",
      " [ 0  2  0  0  0  0  0  0 28  0]\n",
      " [ 0  0  0  0  0  1  0  1  0 38]]\n",
      "\n",
      "Model: Support Vector Machine\n",
      "Best Hyperparameters: {'C': 10, 'gamma': 'scale'}\n",
      "Classification Report (Training Data):\n",
      "              precision    recall  f1-score   support\n",
      "\n",
      "           0       1.00      1.00      1.00       122\n",
      "           1       1.00      1.00      1.00       119\n",
      "           2       1.00      1.00      1.00       106\n",
      "           3       1.00      1.00      1.00       117\n",
      "           4       1.00      1.00      1.00       107\n",
      "           5       1.00      1.00      1.00       108\n",
      "           6       1.00      1.00      1.00       121\n",
      "           7       1.00      1.00      1.00       114\n",
      "           8       1.00      1.00      1.00       123\n",
      "           9       1.00      1.00      1.00       112\n",
      "\n",
      "    accuracy                           1.00      1149\n",
      "   macro avg       1.00      1.00      1.00      1149\n",
      "weighted avg       1.00      1.00      1.00      1149\n",
      "\n",
      "Confusion Matrix (Training Data):\n",
      "[[122   0   0   0   0   0   0   0   0   0]\n",
      " [  0 119   0   0   0   0   0   0   0   0]\n",
      " [  0   0 106   0   0   0   0   0   0   0]\n",
      " [  0   0   0 117   0   0   0   0   0   0]\n",
      " [  0   0   0   0 107   0   0   0   0   0]\n",
      " [  0   0   0   0   0 108   0   0   0   0]\n",
      " [  0   0   0   0   0   0 121   0   0   0]\n",
      " [  0   0   0   0   0   0   0 114   0   0]\n",
      " [  0   0   0   0   0   0   0   0 123   0]\n",
      " [  0   0   0   0   0   0   0   0   0 112]]\n",
      "\n",
      "Classification Report (Test Data):\n",
      "              precision    recall  f1-score   support\n",
      "\n",
      "           0       1.00      1.00      1.00        33\n",
      "           1       1.00      1.00      1.00        28\n",
      "           2       1.00      1.00      1.00        33\n",
      "           3       1.00      0.97      0.99        34\n",
      "           4       1.00      1.00      1.00        46\n",
      "           5       0.96      0.98      0.97        47\n",
      "           6       0.97      1.00      0.99        35\n",
      "           7       0.97      0.97      0.97        34\n",
      "           8       1.00      0.97      0.98        30\n",
      "           9       0.97      0.97      0.97        40\n",
      "\n",
      "    accuracy                           0.99       360\n",
      "   macro avg       0.99      0.99      0.99       360\n",
      "weighted avg       0.99      0.99      0.99       360\n",
      "\n",
      "Confusion Matrix (Test Data):\n",
      "[[33  0  0  0  0  0  0  0  0  0]\n",
      " [ 0 28  0  0  0  0  0  0  0  0]\n",
      " [ 0  0 33  0  0  0  0  0  0  0]\n",
      " [ 0  0  0 33  0  1  0  0  0  0]\n",
      " [ 0  0  0  0 46  0  0  0  0  0]\n",
      " [ 0  0  0  0  0 46  1  0  0  0]\n",
      " [ 0  0  0  0  0  0 35  0  0  0]\n",
      " [ 0  0  0  0  0  0  0 33  0  1]\n",
      " [ 0  0  0  0  0  1  0  0 29  0]\n",
      " [ 0  0  0  0  0  0  0  1  0 39]]\n"
     ]
    }
   ],
   "source": [
    "#Define models and parameter grids\n",
    "models = {\n",
    "    \"Naive Bayes\": GaussianNB(),\n",
    "    \"Random Forest\": RandomForestClassifier(),\n",
    "    \"Support Vector Machine\": SVC()\n",
    "}\n",
    "\n",
    "param_grids = {\n",
    "    \"Naive Bayes\": {'var_smoothing': [1e-9, 1e-8, 1e-7]},\n",
    "    \"Random Forest\": {'n_estimators': [10, 50, 100], 'max_depth': [None, 10, 20]},\n",
    "    \"Support Vector Machine\": {'C': [0.1, 1, 10], 'gamma': ['scale', 'auto']}\n",
    "}\n",
    "\n",
    "#Perform grid search for each model\n",
    "for model_name, model in models.items():\n",
    "    print(f\"\\nModel: {model_name}\")\n",
    "    \n",
    "    # Grid search\n",
    "    grid_search = GridSearchCV(model, param_grids[model_name], cv=5, scoring='accuracy')\n",
    "    grid_search.fit(X_train, y_train)\n",
    "    \n",
    "    # Print the best hyperparameters\n",
    "    print(\"Best Hyperparameters:\", grid_search.best_params_)\n",
    "    \n",
    "    # Evaluate the model on the training set\n",
    "    y_train_pred = grid_search.predict(X_train)\n",
    "    \n",
    "    # Print the classification report and confusion matrix for training data\n",
    "    print(\"Classification Report (Training Data):\")\n",
    "    print(classification_report(y_train, y_train_pred))\n",
    "    print(\"Confusion Matrix (Training Data):\")\n",
    "    print(confusion_matrix(y_train, y_train_pred))\n",
    "    \n",
    "    \n",
    "    # Evaluate the model on the test set\n",
    "    y_test_pred = grid_search.predict(X_test)\n",
    "    \n",
    "    # Print the classification report and confusion matrix for test data\n",
    "    print(\"\\nClassification Report (Test Data):\")\n",
    "    print(classification_report(y_test, y_test_pred))\n",
    "    print(\"Confusion Matrix (Test Data):\")\n",
    "    print(confusion_matrix(y_test, y_test_pred))\n"
   ]
  },
  {
   "cell_type": "markdown",
   "id": "8c569a38",
   "metadata": {},
   "source": [
    "# Evaluating the Best Model"
   ]
  },
  {
   "cell_type": "code",
   "execution_count": 162,
   "id": "41df3aaa",
   "metadata": {},
   "outputs": [
    {
     "name": "stdout",
     "output_type": "stream",
     "text": [
      "Best Model: SVC()\n",
      "Training Accuracy: 99.48%\n",
      "Validation Accuracy: 100.00%\n",
      "Test Accuracy: 98.61%\n",
      "\n",
      "Classification Report (Training Dataset):\n",
      "              precision    recall  f1-score   support\n",
      "\n",
      "           0       1.00      1.00      1.00       122\n",
      "           1       0.98      1.00      0.99       119\n",
      "           2       1.00      1.00      1.00       106\n",
      "           3       1.00      1.00      1.00       117\n",
      "           4       1.00      1.00      1.00       107\n",
      "           5       0.99      0.99      0.99       108\n",
      "           6       1.00      1.00      1.00       121\n",
      "           7       1.00      1.00      1.00       114\n",
      "           8       0.99      0.98      0.98       123\n",
      "           9       0.99      0.98      0.99       112\n",
      "\n",
      "    accuracy                           0.99      1149\n",
      "   macro avg       0.99      0.99      0.99      1149\n",
      "weighted avg       0.99      0.99      0.99      1149\n",
      "\n",
      "\n",
      "Classification Report (Validation Dataset):\n",
      "              precision    recall  f1-score   support\n",
      "\n",
      "           0       1.00      1.00      1.00        23\n",
      "           1       1.00      1.00      1.00        35\n",
      "           2       1.00      1.00      1.00        38\n",
      "           3       1.00      1.00      1.00        32\n",
      "           4       1.00      1.00      1.00        28\n",
      "           5       1.00      1.00      1.00        27\n",
      "           6       1.00      1.00      1.00        25\n",
      "           7       1.00      1.00      1.00        31\n",
      "           8       1.00      1.00      1.00        21\n",
      "           9       1.00      1.00      1.00        28\n",
      "\n",
      "    accuracy                           1.00       288\n",
      "   macro avg       1.00      1.00      1.00       288\n",
      "weighted avg       1.00      1.00      1.00       288\n",
      "\n",
      "\n",
      "Classification Report (Test Dataset):\n",
      "              precision    recall  f1-score   support\n",
      "\n",
      "           0       1.00      1.00      1.00        33\n",
      "           1       1.00      1.00      1.00        28\n",
      "           2       1.00      1.00      1.00        33\n",
      "           3       1.00      0.97      0.99        34\n",
      "           4       1.00      1.00      1.00        46\n",
      "           5       0.98      0.98      0.98        47\n",
      "           6       0.97      1.00      0.99        35\n",
      "           7       0.97      0.97      0.97        34\n",
      "           8       1.00      0.97      0.98        30\n",
      "           9       0.95      0.97      0.96        40\n",
      "\n",
      "    accuracy                           0.99       360\n",
      "   macro avg       0.99      0.99      0.99       360\n",
      "weighted avg       0.99      0.99      0.99       360\n",
      "\n",
      "\n",
      "Confusion Matrix (Training Dataset):\n",
      "[[122   0   0   0   0   0   0   0   0   0]\n",
      " [  0 119   0   0   0   0   0   0   0   0]\n",
      " [  0   0 106   0   0   0   0   0   0   0]\n",
      " [  0   0   0 117   0   0   0   0   0   0]\n",
      " [  0   0   0   0 107   0   0   0   0   0]\n",
      " [  0   0   0   0   0 107   0   0   0   1]\n",
      " [  0   0   0   0   0   0 121   0   0   0]\n",
      " [  0   0   0   0   0   0   0 114   0   0]\n",
      " [  0   3   0   0   0   0   0   0 120   0]\n",
      " [  0   0   0   0   0   1   0   0   1 110]]\n",
      "\n",
      "Confusion Matrix (Validation Dataset):\n",
      "[[23  0  0  0  0  0  0  0  0  0]\n",
      " [ 0 35  0  0  0  0  0  0  0  0]\n",
      " [ 0  0 38  0  0  0  0  0  0  0]\n",
      " [ 0  0  0 32  0  0  0  0  0  0]\n",
      " [ 0  0  0  0 28  0  0  0  0  0]\n",
      " [ 0  0  0  0  0 27  0  0  0  0]\n",
      " [ 0  0  0  0  0  0 25  0  0  0]\n",
      " [ 0  0  0  0  0  0  0 31  0  0]\n",
      " [ 0  0  0  0  0  0  0  0 21  0]\n",
      " [ 0  0  0  0  0  0  0  0  0 28]]\n",
      "\n",
      "Confusion Matrix (Test Dataset):\n",
      "[[33  0  0  0  0  0  0  0  0  0]\n",
      " [ 0 28  0  0  0  0  0  0  0  0]\n",
      " [ 0  0 33  0  0  0  0  0  0  0]\n",
      " [ 0  0  0 33  0  1  0  0  0  0]\n",
      " [ 0  0  0  0 46  0  0  0  0  0]\n",
      " [ 0  0  0  0  0 46  1  0  0  0]\n",
      " [ 0  0  0  0  0  0 35  0  0  0]\n",
      " [ 0  0  0  0  0  0  0 33  0  1]\n",
      " [ 0  0  0  0  0  0  0  0 29  1]\n",
      " [ 0  0  0  0  0  0  0  1  0 39]]\n"
     ]
    }
   ],
   "source": [
    "from sklearn.model_selection import train_test_split\n",
    "from sklearn.metrics import classification_report, confusion_matrix\n",
    "from sklearn.naive_bayes import GaussianNB\n",
    "from sklearn.ensemble import RandomForestClassifier\n",
    "from sklearn.svm import SVC\n",
    "from sklearn.datasets import load_digits\n",
    "\n",
    "# Load and prepare data\n",
    "X, y = load_digits(return_X_y=True)\n",
    "X_train, X_test, y_train, y_test = train_test_split(X, y, test_size=0.2, random_state=42)\n",
    "X_train, X_val, y_train, y_val = train_test_split(X_train, y_train, test_size=0.2, random_state=42)  \n",
    "\n",
    "models = {\n",
    "    \"Naive Bayes\": GaussianNB(),\n",
    "    \"Random Forest\": RandomForestClassifier(),\n",
    "    \"Support Vector Machine\": SVC()\n",
    "}\n",
    "\n",
    "def evaluate_model(model, X_train, y_train, X_val, y_val, X_test, y_test):\n",
    "    model.fit(X_train, y_train)\n",
    "    y_train_pred = model.predict(X_train)\n",
    "    y_val_pred = model.predict(X_val)\n",
    "    y_test_pred = model.predict(X_test)\n",
    "    \n",
    "    train_accuracy = accuracy_score(y_train, y_train_pred)\n",
    "    val_accuracy = accuracy_score(y_val, y_val_pred)\n",
    "    test_accuracy = accuracy_score(y_test, y_test_pred)\n",
    "    \n",
    "    train_report = classification_report(y_train, y_train_pred)\n",
    "    val_report = classification_report(y_val, y_val_pred)\n",
    "    test_report = classification_report(y_test, y_test_pred)\n",
    "    \n",
    "    train_conf_matrix = confusion_matrix(y_train, y_train_pred)\n",
    "    val_conf_matrix = confusion_matrix(y_val, y_val_pred)\n",
    "    test_conf_matrix = confusion_matrix(y_test, y_test_pred)\n",
    "    \n",
    "    return {\n",
    "        \"model\": model,\n",
    "        \"train_accuracy\": train_accuracy,\n",
    "        \"val_accuracy\": val_accuracy,\n",
    "        \"test_accuracy\": test_accuracy,\n",
    "        \"train_report\": train_report,\n",
    "        \"val_report\": val_report,\n",
    "        \"test_report\": test_report,\n",
    "        \"train_conf_matrix\": train_conf_matrix,\n",
    "        \"val_conf_matrix\": val_conf_matrix,\n",
    "        \"test_conf_matrix\": test_conf_matrix\n",
    "    }\n",
    "\n",
    "results = []\n",
    "for model_name, model in models.items():\n",
    "    result = evaluate_model(model, X_train, y_train, X_val, y_val, X_test, y_test)\n",
    "    results.append(result)\n",
    "\n",
    "# Choose the final model based on performance\n",
    "best_model = max(results, key=lambda x: x['val_accuracy'])\n",
    "\n",
    "# Printing results for the best model\n",
    "print(\"Best Model:\", best_model['model'])\n",
    "print(\"Training Accuracy: {:.2f}%\".format(best_model['train_accuracy'] * 100))\n",
    "print(\"Validation Accuracy: {:.2f}%\".format(best_model['val_accuracy'] * 100))\n",
    "print(\"Test Accuracy: {:.2f}%\".format(best_model['test_accuracy'] * 100))\n",
    "print(\"\\nClassification Report (Training Dataset):\")\n",
    "print(best_model['train_report'])\n",
    "print(\"\\nClassification Report (Validation Dataset):\")\n",
    "print(best_model['val_report'])\n",
    "print(\"\\nClassification Report (Test Dataset):\")\n",
    "print(best_model['test_report'])\n",
    "print(\"\\nConfusion Matrix (Training Dataset):\")\n",
    "print(best_model['train_conf_matrix'])\n",
    "print(\"\\nConfusion Matrix (Validation Dataset):\")\n",
    "print(best_model['val_conf_matrix'])\n",
    "print(\"\\nConfusion Matrix (Test Dataset):\")\n",
    "print(best_model['test_conf_matrix'])"
   ]
  },
  {
   "cell_type": "markdown",
   "id": "3e730ab0",
   "metadata": {},
   "source": [
    "# Data Visualization: Input and Output plots"
   ]
  },
  {
   "cell_type": "code",
   "execution_count": 186,
   "id": "7d0665f4",
   "metadata": {},
   "outputs": [
    {
     "data": {
      "image/png": "[encoded data removed]",
      "text/plain": [
       "<Figure size 900x600 with 1 Axes>"
      ]
     },
     "metadata": {},
     "output_type": "display_data"
    },
    {
     "data": {
      "image/png": "[encoded data removed]",
      "text/plain": [
       "<Figure size 1600x500 with 6 Axes>"
      ]
     },
     "metadata": {},
     "output_type": "display_data"
    }
   ],
   "source": [
    "\n",
    "X_train_dense = X_train.toarray() if hasattr(X_train, 'toarray') else X_train\n",
    "\n",
    "def visualize_input_data(X_train, y_train):\n",
    "    plt.figure(figsize= (9, 6))\n",
    "    sns.scatterplot(x=X_train[:, 0], y=X_train[:, 1], hue=y_train, palette='viridis')\n",
    "    plt.title('Input Data Visualization')\n",
    "    plt.xlabel('Feature 1')\n",
    "    plt.ylabel('Feature 2')\n",
    "    plt.show()\n",
    "\n",
    "# Call the function to visualize input data\n",
    "visualize_input_data(X_train_dense, y_train)\n",
    "\n",
    "# Plot confusion matrices using Confusion Matrix Display\n",
    "def plot_confusion_matrices(best_model_result):\n",
    "    fig, axes = plt.subplots(1, 3, figsize=(16, 5))\n",
    "    \n",
    "    # Training dataset confusion matrix\n",
    "    ConfusionMatrixDisplay(best_model_result['train_conf_matrix']).plot(ax=axes[0], cmap='Blues', values_format='d')\n",
    "    axes[0].set_title('Confusion Matrix (Training Dataset)')\n",
    "    \n",
    "    # Validation dataset confusion matrix\n",
    "    ConfusionMatrixDisplay(best_model_result['val_conf_matrix']).plot(ax=axes[1], cmap='Blues', values_format='d')\n",
    "    axes[1].set_title('Confusion Matrix (Validation Dataset)')\n",
    "    \n",
    "    # Test dataset confusion matrix\n",
    "    ConfusionMatrixDisplay(best_model_result['test_conf_matrix']).plot(ax=axes[2], cmap='Blues', values_format='d')\n",
    "    axes[2].set_title('Confusion Matrix (Test Dataset)')\n",
    "    \n",
    "    plt.show()\n",
    "\n",
    "# Evaluate models and collect results\n",
    "results = []\n",
    "for model_name, model in models.items():\n",
    "    result = evaluate_model(model, X_train, y_train, X_val, y_val, X_test, y_test)\n",
    "    results.append(result)\n",
    "\n",
    "# Choose the final model based on performance\n",
    "best_model_result = max(results, key=lambda x: x['val_accuracy'])\n",
    "\n",
    "# Call the function to plot confusion matrices\n",
    "plot_confusion_matrices(best_model_result)"
   ]
  },
  {
   "cell_type": "markdown",
   "id": "59731a8b",
   "metadata": {},
   "source": [
    "# Plot output for the best model"
   ]
  },
  {
   "cell_type": "code",
   "execution_count": 188,
   "id": "58aceb71",
   "metadata": {},
   "outputs": [
    {
     "data": {
      "image/png": "[encoded data removed]",
      "text/plain": [
       "<Figure size 640x480 with 2 Axes>"
      ]
     },
     "metadata": {},
     "output_type": "display_data"
    },
    {
     "name": "stdout",
     "output_type": "stream",
     "text": [
      "Classification Report (Training Dataset):\n",
      "              precision    recall  f1-score   support\n",
      "\n",
      "           0       1.00      1.00      1.00       122\n",
      "           1       0.98      1.00      0.99       119\n",
      "           2       1.00      1.00      1.00       106\n",
      "           3       1.00      1.00      1.00       117\n",
      "           4       1.00      1.00      1.00       107\n",
      "           5       0.99      0.99      0.99       108\n",
      "           6       1.00      1.00      1.00       121\n",
      "           7       1.00      1.00      1.00       114\n",
      "           8       0.99      0.98      0.98       123\n",
      "           9       0.99      0.98      0.99       112\n",
      "\n",
      "    accuracy                           0.99      1149\n",
      "   macro avg       0.99      0.99      0.99      1149\n",
      "weighted avg       0.99      0.99      0.99      1149\n",
      "\n",
      "Accuracy (Training Dataset): 99.48%\n",
      "\n",
      "\n"
     ]
    },
    {
     "data": {
      "image/png": "[encoded data removed]",
      "text/plain": [
       "<Figure size 640x480 with 2 Axes>"
      ]
     },
     "metadata": {},
     "output_type": "display_data"
    },
    {
     "name": "stdout",
     "output_type": "stream",
     "text": [
      "Classification Report (Validation Dataset):\n",
      "              precision    recall  f1-score   support\n",
      "\n",
      "           0       1.00      1.00      1.00        23\n",
      "           1       1.00      1.00      1.00        35\n",
      "           2       1.00      1.00      1.00        38\n",
      "           3       1.00      1.00      1.00        32\n",
      "           4       1.00      1.00      1.00        28\n",
      "           5       1.00      1.00      1.00        27\n",
      "           6       1.00      1.00      1.00        25\n",
      "           7       1.00      1.00      1.00        31\n",
      "           8       1.00      1.00      1.00        21\n",
      "           9       1.00      1.00      1.00        28\n",
      "\n",
      "    accuracy                           1.00       288\n",
      "   macro avg       1.00      1.00      1.00       288\n",
      "weighted avg       1.00      1.00      1.00       288\n",
      "\n",
      "Accuracy (Validation Dataset): 100.00%\n",
      "\n",
      "\n"
     ]
    },
    {
     "data": {
      "image/png": "[encoded data removed]",
      "text/plain": [
       "<Figure size 640x480 with 2 Axes>"
      ]
     },
     "metadata": {},
     "output_type": "display_data"
    },
    {
     "name": "stdout",
     "output_type": "stream",
     "text": [
      "Classification Report (Test Dataset):\n",
      "              precision    recall  f1-score   support\n",
      "\n",
      "           0       1.00      1.00      1.00        33\n",
      "           1       1.00      1.00      1.00        28\n",
      "           2       1.00      1.00      1.00        33\n",
      "           3       1.00      0.97      0.99        34\n",
      "           4       1.00      1.00      1.00        46\n",
      "           5       0.98      0.98      0.98        47\n",
      "           6       0.97      1.00      0.99        35\n",
      "           7       0.97      0.97      0.97        34\n",
      "           8       1.00      0.97      0.98        30\n",
      "           9       0.95      0.97      0.96        40\n",
      "\n",
      "    accuracy                           0.99       360\n",
      "   macro avg       0.99      0.99      0.99       360\n",
      "weighted avg       0.99      0.99      0.99       360\n",
      "\n",
      "Accuracy (Test Dataset): 98.61%\n",
      "\n",
      "\n"
     ]
    }
   ],
   "source": [
    "from sklearn.metrics import accuracy_score, classification_report, confusion_matrix, ConfusionMatrixDisplay\n",
    "\n",
    "def plot_model_output(model, X_train, y_train, X_val, y_val, X_test, y_test):\n",
    "    \"\"\"\n",
    "    Plot output for the best model on different datasets along with confusion matrices and classification reports.\n",
    "    \n",
    "    Parameters:\n",
    "        model (object): The trained model.\n",
    "        X_train, y_train, X_val, y_val, X_test, y_test (arrays): Input features and target variables for training, validation, and test datasets.\n",
    "    \"\"\"\n",
    "    # Fit the model\n",
    "    model.fit(X_train, y_train)\n",
    "    \n",
    "    # Plot output for each dataset\n",
    "    datasets = [(\"Training Dataset\", X_train, y_train), (\"Validation Dataset\", X_val, y_val), (\"Test Dataset\", X_test, y_test)]\n",
    "    for name, X, y in datasets:\n",
    "        # Predictions\n",
    "        y_pred = model.predict(X)\n",
    "        \n",
    "        # Metrics\n",
    "        accuracy = accuracy_score(y, y_pred)\n",
    "        report = classification_report(y, y_pred)\n",
    "        conf_matrix = confusion_matrix(y, y_pred)\n",
    "        \n",
    "        # Plot confusion matrix\n",
    "        disp = ConfusionMatrixDisplay(conf_matrix, display_labels=model.classes_)\n",
    "        disp.plot()\n",
    "        plt.title(f'Confusion Matrix ({name})')\n",
    "        plt.show()\n",
    "        \n",
    "        # Print classification report\n",
    "        print(f\"Classification Report ({name}):\\n{report}\")\n",
    "        print(f\"Accuracy ({name}): {accuracy*100:.2f}%\\n\\n\")\n",
    "\n",
    "# Plot output for the best model\n",
    "plot_model_output(best_model_result['model'], X_train, y_train, X_val, y_val, X_test, y_test)\n"
   ]
  }
 ],
 "metadata": {
  "kernelspec": {
   "display_name": "Python 3 (ipykernel)",
   "language": "python",
   "name": "python3"
  },
  "language_info": {
   "codemirror_mode": {
    "name": "ipython",
    "version": 3
   },
   "file_extension": ".py",
   "mimetype": "text/x-python",
   "name": "python",
   "nbconvert_exporter": "python",
   "pygments_lexer": "ipython3",
   "version": "3.11.7"
  }
 },
 "nbformat": 4,
 "nbformat_minor": 5
}
