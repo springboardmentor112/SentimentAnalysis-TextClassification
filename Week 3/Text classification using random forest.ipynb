{
 "cells": [
  {
   "cell_type": "markdown",
   "id": "7c1c0ffe",
   "metadata": {},
   "source": [
    "# Library Function"
   ]
  },
  {
   "cell_type": "code",
   "execution_count": 1,
   "id": "a2606fc2",
   "metadata": {},
   "outputs": [],
   "source": [
    "import pandas as pd\n",
    "import matplotlib.pyplot as plt\n",
    "import seaborn as sns\n",
    "\n",
    "#text preprocesing\n",
    "from nltk.stem import PorterStemmer\n",
    "from nltk.tokenize import word_tokenize\n",
    "from nltk.stem import WordNetLemmatizer\n",
    "from nltk.tokenize import word_tokenize\n",
    "\n",
    "#sampling\n",
    "from imblearn.under_sampling import RandomUnderSampler"
   ]
  },
  {
   "cell_type": "markdown",
   "id": "800712c1",
   "metadata": {},
   "source": [
    "# Import the Dataset"
   ]
  },
  {
   "cell_type": "code",
   "execution_count": 2,
   "id": "1f052e5e",
   "metadata": {},
   "outputs": [],
   "source": [
    "df = pd.read_csv('Emotions_training.csv')"
   ]
  },
  {
   "cell_type": "code",
   "execution_count": 3,
   "id": "d629a4ae",
   "metadata": {},
   "outputs": [
    {
     "data": {
      "text/html": [
       "<div>\n",
       "<style scoped>\n",
       "    .dataframe tbody tr th:only-of-type {\n",
       "        vertical-align: middle;\n",
       "    }\n",
       "\n",
       "    .dataframe tbody tr th {\n",
       "        vertical-align: top;\n",
       "    }\n",
       "\n",
       "    .dataframe thead th {\n",
       "        text-align: right;\n",
       "    }\n",
       "</style>\n",
       "<table border=\"1\" class=\"dataframe\">\n",
       "  <thead>\n",
       "    <tr style=\"text-align: right;\">\n",
       "      <th></th>\n",
       "      <th>text</th>\n",
       "      <th>label</th>\n",
       "    </tr>\n",
       "  </thead>\n",
       "  <tbody>\n",
       "    <tr>\n",
       "      <th>0</th>\n",
       "      <td>i didnt feel humiliated</td>\n",
       "      <td>0</td>\n",
       "    </tr>\n",
       "    <tr>\n",
       "      <th>1</th>\n",
       "      <td>i can go from feeling so hopeless to so damned...</td>\n",
       "      <td>0</td>\n",
       "    </tr>\n",
       "    <tr>\n",
       "      <th>2</th>\n",
       "      <td>im grabbing a minute to post i feel greedy wrong</td>\n",
       "      <td>3</td>\n",
       "    </tr>\n",
       "    <tr>\n",
       "      <th>3</th>\n",
       "      <td>i am ever feeling nostalgic about the fireplac...</td>\n",
       "      <td>2</td>\n",
       "    </tr>\n",
       "    <tr>\n",
       "      <th>4</th>\n",
       "      <td>i am feeling grouchy</td>\n",
       "      <td>3</td>\n",
       "    </tr>\n",
       "    <tr>\n",
       "      <th>...</th>\n",
       "      <td>...</td>\n",
       "      <td>...</td>\n",
       "    </tr>\n",
       "    <tr>\n",
       "      <th>15995</th>\n",
       "      <td>i just had a very brief time in the beanbag an...</td>\n",
       "      <td>0</td>\n",
       "    </tr>\n",
       "    <tr>\n",
       "      <th>15996</th>\n",
       "      <td>i am now turning and i feel pathetic that i am...</td>\n",
       "      <td>0</td>\n",
       "    </tr>\n",
       "    <tr>\n",
       "      <th>15997</th>\n",
       "      <td>i feel strong and good overall</td>\n",
       "      <td>1</td>\n",
       "    </tr>\n",
       "    <tr>\n",
       "      <th>15998</th>\n",
       "      <td>i feel like this was such a rude comment and i...</td>\n",
       "      <td>3</td>\n",
       "    </tr>\n",
       "    <tr>\n",
       "      <th>15999</th>\n",
       "      <td>i know a lot but i feel so stupid because i ca...</td>\n",
       "      <td>0</td>\n",
       "    </tr>\n",
       "  </tbody>\n",
       "</table>\n",
       "<p>16000 rows × 2 columns</p>\n",
       "</div>"
      ],
      "text/plain": [
       "                                                    text  label\n",
       "0                                i didnt feel humiliated      0\n",
       "1      i can go from feeling so hopeless to so damned...      0\n",
       "2       im grabbing a minute to post i feel greedy wrong      3\n",
       "3      i am ever feeling nostalgic about the fireplac...      2\n",
       "4                                   i am feeling grouchy      3\n",
       "...                                                  ...    ...\n",
       "15995  i just had a very brief time in the beanbag an...      0\n",
       "15996  i am now turning and i feel pathetic that i am...      0\n",
       "15997                     i feel strong and good overall      1\n",
       "15998  i feel like this was such a rude comment and i...      3\n",
       "15999  i know a lot but i feel so stupid because i ca...      0\n",
       "\n",
       "[16000 rows x 2 columns]"
      ]
     },
     "execution_count": 3,
     "metadata": {},
     "output_type": "execute_result"
    }
   ],
   "source": [
    "df"
   ]
  },
  {
   "cell_type": "markdown",
   "id": "0ae1c485",
   "metadata": {},
   "source": [
    "# Converting into Lower case"
   ]
  },
  {
   "cell_type": "code",
   "execution_count": 4,
   "id": "09cf69f0",
   "metadata": {},
   "outputs": [],
   "source": [
    "df['text'] = df['text'].str.lower()"
   ]
  },
  {
   "cell_type": "markdown",
   "id": "44d4c850",
   "metadata": {},
   "source": [
    "# Removing the Links"
   ]
  },
  {
   "cell_type": "code",
   "execution_count": 5,
   "id": "c130ac24",
   "metadata": {},
   "outputs": [],
   "source": [
    "import re\n",
    "\n",
    "df['text'] = df['text'].apply(lambda x: re.sub(r'http\\S+', '', x))"
   ]
  },
  {
   "cell_type": "markdown",
   "id": "fe5d75b6",
   "metadata": {},
   "source": [
    "# Removing next lines"
   ]
  },
  {
   "cell_type": "code",
   "execution_count": 6,
   "id": "6d689243",
   "metadata": {},
   "outputs": [],
   "source": [
    "df['text'] = df['text'].str.replace('\\n', '')"
   ]
  },
  {
   "cell_type": "markdown",
   "id": "926104f2",
   "metadata": {},
   "source": [
    "# Removing words contains numbers"
   ]
  },
  {
   "cell_type": "code",
   "execution_count": 7,
   "id": "e91adfa4",
   "metadata": {},
   "outputs": [],
   "source": [
    "df['text'] = df['text'].apply(lambda x: re.sub(r'\\b\\w*\\d\\w*\\b', '', x))"
   ]
  },
  {
   "cell_type": "markdown",
   "id": "bbbfc8af",
   "metadata": {},
   "source": [
    "# Removing extra spaces"
   ]
  },
  {
   "cell_type": "code",
   "execution_count": 8,
   "id": "cc470b48",
   "metadata": {},
   "outputs": [],
   "source": [
    "df['text'] = df['text'].apply(lambda x: ' '.join(x.split()))"
   ]
  },
  {
   "cell_type": "markdown",
   "id": "099c026e",
   "metadata": {},
   "source": [
    "# Removing special characters"
   ]
  },
  {
   "cell_type": "code",
   "execution_count": 9,
   "id": "2a294c25",
   "metadata": {},
   "outputs": [],
   "source": [
    "df['text'] = df['text'].apply(lambda x: re.sub(r'[^A-Za-z0-9\\s]', '', x))"
   ]
  },
  {
   "cell_type": "markdown",
   "id": "15aa4ed3",
   "metadata": {},
   "source": [
    "# Removal of Stop words"
   ]
  },
  {
   "cell_type": "code",
   "execution_count": 10,
   "id": "ad6b8273",
   "metadata": {},
   "outputs": [],
   "source": [
    "from gensim.parsing.preprocessing import remove_stopwords\n",
    "\n",
    "df['text'] = df['text'].apply(remove_stopwords)"
   ]
  },
  {
   "cell_type": "markdown",
   "id": "f5778652",
   "metadata": {},
   "source": [
    "# Stemming"
   ]
  },
  {
   "cell_type": "code",
   "execution_count": 11,
   "id": "66e66204",
   "metadata": {},
   "outputs": [],
   "source": [
    "# Initialize the Porter Stemmer\n",
    "porter = PorterStemmer()\n",
    "\n",
    "# Define function to apply stemming using NLTK Porter Stemmer\n",
    "def apply_stemming(text):\n",
    "    tokens = word_tokenize(text)\n",
    "    stemmed_tokens = [porter.stem(token) for token in tokens]\n",
    "    return ' '.join(stemmed_tokens)\n",
    "\n",
    "# Apply stemming\n",
    "df['text'] = df['text'].apply(apply_stemming)"
   ]
  },
  {
   "cell_type": "markdown",
   "id": "658ac4bd",
   "metadata": {},
   "source": [
    "# Lemmatization"
   ]
  },
  {
   "cell_type": "code",
   "execution_count": 12,
   "id": "459613f5",
   "metadata": {},
   "outputs": [],
   "source": [
    "# Initialize the WordNet Lemmatizer\n",
    "lemmatizer = WordNetLemmatizer()\n",
    "\n",
    "# Define function to apply lemmatization using NLTK WordNet Lemmatizer\n",
    "def apply_lemmatization(text):\n",
    "    tokens = word_tokenize(text)\n",
    "    lemmatized_tokens = [lemmatizer.lemmatize(token) for token in tokens]\n",
    "    return ' '.join(lemmatized_tokens)\n",
    "\n",
    "# Apply lemmatization\n",
    "df['text'] = df['text'].apply(apply_lemmatization)"
   ]
  },
  {
   "cell_type": "markdown",
   "id": "05673269",
   "metadata": {},
   "source": [
    "# Plot Representation"
   ]
  },
  {
   "cell_type": "code",
   "execution_count": 13,
   "id": "bd439b11",
   "metadata": {},
   "outputs": [
    {
     "name": "stdout",
     "output_type": "stream",
     "text": [
      "Count of each class/label:\n",
      "Label 0: 4666\n",
      "Label 1: 5362\n",
      "Label 2: 1304\n",
      "Label 3: 2159\n",
      "Label 4: 1937\n",
      "Label 5: 572\n",
      "\n",
      "Examples from each class:\n",
      "Sadness:\n",
      "['didnt feel humili', 'feel hopeless damn hope care awak', 'ive feel littl burden late wasnt sure', 'feel like suffer m see mean', 'feel low energi m thirsti']\n",
      "\n",
      "Joy:\n",
      "['petrona year feel petrona perform huge profit', 'feel run divin experi expect type spiritu encount', 'immens sympathi gener point possibl proto writer tri time write corner life sign agent let publish contract feel littl preciou', 'feel reassur anxieti', 'feel amus delight']\n",
      "\n",
      "Love:\n",
      "['feel nostalg fireplac know properti', 'feel romant', 't let sad feel want accept home', 'ate feel gentl tingl feel heal take place cellular level', 'suppos truth need share havent feel faith late ive dwell doubt uncertainti faith']\n",
      "\n",
      "Anger:\n",
      "['im grab minut post feel greedi wrong', 'feel grouchi', 'think s easiest time year feel dissatisfi', 'feel irrit reject say', 'feel like fuck dont usual eat morn']\n",
      "\n",
      "Fear:\n",
      "['feel confus life teenag jade year old man', 'feel compromis skeptic valu unit work', 'feel complet overwhelm strategi help feel ground pour heart journal form letter god end list thing grate', 'rememb feel acut distress day', 'stymi littl bit wrote feel unsur stori unintend']\n",
      "\n",
      "Surprise:\n",
      "['ive take milligram time recommend ive fallen asleep lot faster feel like funni', 'seen heard read past coupl day left feel impress compani', 'feel pleasantli surpris support ea new situat', 'nearli finish week detox feel amaz', 'feel stranger strang land rais son place father s ancestr home']\n"
     ]
    }
   ],
   "source": [
    "# Create empty lists for each label class\n",
    "sadness_texts = []\n",
    "joy_texts = []\n",
    "love_texts = []\n",
    "anger_texts = []\n",
    "fear_texts = []\n",
    "surprise_texts = []\n",
    "\n",
    "# Group texts by label\n",
    "for index, row in df.iterrows():\n",
    "    label = row['label']\n",
    "    text = row['text']\n",
    "    if label == 0:\n",
    "        sadness_texts.append(text)\n",
    "    elif label == 1:\n",
    "        joy_texts.append(text)\n",
    "    elif label == 2:\n",
    "        love_texts.append(text)\n",
    "    elif label == 3:\n",
    "        anger_texts.append(text)\n",
    "    elif label == 4:\n",
    "        fear_texts.append(text)\n",
    "    elif label == 5:\n",
    "        surprise_texts.append(text)\n",
    "\n",
    "# Displaying count of each class/label\n",
    "label_counts = df['label'].value_counts().sort_index()\n",
    "print(\"Count of each class/label:\")\n",
    "for label, count in label_counts.items():\n",
    "    print(f\"Label {label}: {count}\")\n",
    "\n",
    "# Printing a few examples from each class\n",
    "print(\"\\nExamples from each class:\")\n",
    "print(\"Sadness:\")\n",
    "print(sadness_texts[:5])\n",
    "print(\"\\nJoy:\")\n",
    "print(joy_texts[:5])\n",
    "print(\"\\nLove:\")\n",
    "print(love_texts[:5])\n",
    "print(\"\\nAnger:\")\n",
    "print(anger_texts[:5])\n",
    "print(\"\\nFear:\")\n",
    "print(fear_texts[:5])\n",
    "print(\"\\nSurprise:\")\n",
    "print(surprise_texts[:5])"
   ]
  },
  {
   "cell_type": "code",
   "execution_count": 14,
   "id": "1357ffe6",
   "metadata": {},
   "outputs": [
    {
     "data": {
      "image/png": "[encoded data removed]",
      "text/plain": [
       "<Figure size 720x432 with 1 Axes>"
      ]
     },
     "metadata": {
      "needs_background": "light"
     },
     "output_type": "display_data"
    }
   ],
   "source": [
    "# Count the occurrences of each label\n",
    "label_counts = df['label'].value_counts().sort_index()\n",
    "\n",
    "# Plotting the distribution of labels\n",
    "plt.figure(figsize=(10, 6))\n",
    "plt.bar(label_counts.index, label_counts.values, color='skyblue')\n",
    "plt.xlabel('Label')\n",
    "plt.ylabel('Count')\n",
    "plt.title('Distribution of Labels')\n",
    "plt.xticks(label_counts.index)  # Set x-axis ticks to label values\n",
    "plt.grid(axis='y', linestyle='--', alpha=0.7)  # Add horizontal grid lines\n",
    "plt.show()\n"
   ]
  },
  {
   "cell_type": "code",
   "execution_count": 15,
   "id": "7361a356",
   "metadata": {},
   "outputs": [
    {
     "name": "stdout",
     "output_type": "stream",
     "text": [
      "0    572\n",
      "1    572\n",
      "2    572\n",
      "3    572\n",
      "4    572\n",
      "5    572\n",
      "Name: label, dtype: int64\n"
     ]
    }
   ],
   "source": [
    "from imblearn.under_sampling import RandomUnderSampler\n",
    "\n",
    "# Initialize RandomUnderSampler\n",
    "undersampler = RandomUnderSampler(random_state=42)\n",
    "\n",
    "# Perform undersampling\n",
    "X_resampled, y_resampled = undersampler.fit_resample(df['text'].values.reshape(-1, 1), df['label'])\n",
    "\n",
    "# Convert the undersampled data back to a DataFrame\n",
    "df_resampled = pd.DataFrame({'text': X_resampled.flatten(), 'label': y_resampled})\n",
    "\n",
    "# Check the class distribution after undersampling\n",
    "print(df_resampled['label'].value_counts())"
   ]
  },
  {
   "cell_type": "code",
   "execution_count": 16,
   "id": "3a54ba2f",
   "metadata": {},
   "outputs": [
    {
     "data": {
      "image/png": "[encoded data removed]",
      "text/plain": [
       "<Figure size 720x432 with 1 Axes>"
      ]
     },
     "metadata": {
      "needs_background": "light"
     },
     "output_type": "display_data"
    }
   ],
   "source": [
    "# Count the occurrences of each label after undersampling\n",
    "label_counts_resampled = df_resampled['label'].value_counts().sort_index()\n",
    "\n",
    "# Plotting the distribution of labels after undersampling\n",
    "plt.figure(figsize=(10, 6))\n",
    "plt.bar(label_counts_resampled.index, label_counts_resampled.values, color='skyblue')\n",
    "plt.xlabel('Emotional Category')\n",
    "plt.ylabel('Count')\n",
    "plt.title('Distribution of Labels After Undersampling')\n",
    "plt.grid(axis='y', linestyle='--', alpha=0.7)  # Add horizontal grid lines\n",
    "plt.show()\n"
   ]
  },
  {
   "cell_type": "code",
   "execution_count": 17,
   "id": "01683c84",
   "metadata": {},
   "outputs": [
    {
     "data": {
      "image/png": "[encoded data removed]",
      "text/plain": [
       "<Figure size 864x432 with 2 Axes>"
      ]
     },
     "metadata": {
      "needs_background": "light"
     },
     "output_type": "display_data"
    }
   ],
   "source": [
    "# Count the occurrences of each label before undersampling\n",
    "label_counts_before = df['label'].value_counts()\n",
    "\n",
    "# Count the occurrences of each label after undersampling\n",
    "label_counts_after = df_resampled['label'].value_counts()\n",
    "\n",
    "# Plot the distribution before and after undersampling\n",
    "plt.figure(figsize=(12, 6))\n",
    "\n",
    "plt.subplot(1, 2, 1)\n",
    "sns.barplot(x=label_counts_before.index, y=label_counts_before.values, color='skyblue')\n",
    "plt.title('Label Distribution Before Undersampling')\n",
    "plt.xlabel('Label')\n",
    "plt.ylabel('Count')\n",
    "\n",
    "plt.subplot(1, 2, 2)\n",
    "sns.barplot(x=label_counts_after.index, y=label_counts_after.values, color='skyblue')\n",
    "plt.title('Label Distribution After Undersampling')\n",
    "plt.xlabel('Label')\n",
    "plt.ylabel('Count')\n",
    "\n",
    "plt.tight_layout()\n",
    "plt.show()\n",
    "\n"
   ]
  },
  {
   "cell_type": "markdown",
   "id": "fc66e723",
   "metadata": {},
   "source": [
    "# Feature Engineering"
   ]
  },
  {
   "cell_type": "code",
   "execution_count": 18,
   "id": "e76bb76f",
   "metadata": {},
   "outputs": [],
   "source": [
    "from sklearn.feature_extraction.text import TfidfVectorizer\n",
    "from imblearn.under_sampling import RandomUnderSampler\n",
    "\n",
    "\n",
    "# Initialize the TfidfVectorizer\n",
    "tfidf_vectorizer = TfidfVectorizer()\n",
    "\n",
    "# Fit and transform the text data\n",
    "X_tfidf = tfidf_vectorizer.fit_transform(df_resampled['text'])\n",
    "\n",
    "# Convert the sparse matrix to a DataFrame\n",
    "tfidf_df = pd.DataFrame(X_tfidf.toarray(), columns=tfidf_vectorizer.get_feature_names_out())\n",
    "\n",
    "# Concatenate the Tf-IDF matrix with the labels\n",
    "df_tfidf = pd.concat([tfidf_df, df_resampled['label']], axis=1)"
   ]
  },
  {
   "cell_type": "code",
   "execution_count": 19,
   "id": "018c11b0",
   "metadata": {},
   "outputs": [],
   "source": [
    "from sklearn.model_selection import train_test_split, GridSearchCV\n",
    "from sklearn.feature_extraction.text import TfidfVectorizer\n",
    "from sklearn.pipeline import Pipeline\n",
    "from sklearn.metrics import classification_report, confusion_matrix\n",
    "from sklearn.ensemble import RandomForestClassifier\n",
    "from sklearn.naive_bayes import MultinomialNB\n",
    "from imblearn.under_sampling import RandomUnderSampler\n",
    "\n",
    "# Mapping of numerical labels to emotional categories\n",
    "label_mapping = {\n",
    "    0: 'sadness',\n",
    "    1: 'joy',\n",
    "    2: 'love',\n",
    "    3: 'anger',\n",
    "    4: 'fear',\n",
    "    5: 'surprise'\n",
    "}\n"
   ]
  },
  {
   "cell_type": "markdown",
   "id": "20f0cdfb",
   "metadata": {},
   "source": [
    "# Divide the dataset in to Train, Test and Validation datasets."
   ]
  },
  {
   "cell_type": "markdown",
   "id": "e6923beb",
   "metadata": {},
   "source": [
    "70% of the undersampled data is used for training (X_train, y_train).\n",
    "20% of the undersampled data is used for testing (X_test, y_test).\n",
    "10% of the undersampled data is used for validation (X_val, y_val)."
   ]
  },
  {
   "cell_type": "code",
   "execution_count": 20,
   "id": "e48bb298",
   "metadata": {},
   "outputs": [],
   "source": [
    "# Split the undersampled dataset into train, validation, and test sets\n",
    "X_train, X_test, y_train, y_test = train_test_split(df_resampled['text'], df_resampled['label'], test_size=0.2, random_state=42)\n",
    "X_train, X_val, y_train, y_val = train_test_split(X_train, y_train, test_size=0.125, random_state=42)\n"
   ]
  },
  {
   "cell_type": "markdown",
   "id": "1419d5ef",
   "metadata": {},
   "source": [
    "1. TF-IDF Vectorizer: This step is represented by the TfidfVectorizer() function, which is responsible for converting text data into TF-IDF features.\n",
    "2. Random Forest Classifier: This step is represented by the RandomForestClassifier() function, which is the classifier used for prediction."
   ]
  },
  {
   "cell_type": "code",
   "execution_count": 21,
   "id": "163ad651",
   "metadata": {},
   "outputs": [],
   "source": [
    "# Define a pipeline with TF-IDF vectorizer and classifier\n",
    "pipeline_rf = Pipeline([\n",
    "    ('tfidf', TfidfVectorizer()),\n",
    "    ('clf', RandomForestClassifier())\n",
    "])"
   ]
  },
  {
   "cell_type": "code",
   "execution_count": 22,
   "id": "d593e126",
   "metadata": {},
   "outputs": [],
   "source": [
    "# Define hyperparameters grid for RandomForestClassifier\n",
    "param_grid_rf = {\n",
    "    'tfidf__max_features': [1000, 5000],  # Grid of values for max_features parameter of TfidfVectorizer\n",
    "    'clf__n_estimators': [100, 200],      # Grid of values for n_estimators parameter of RandomForestClassifier\n",
    "    'clf__max_depth': [None, 10]          # Grid of values for max_depth parameter of RandomForestClassifier\n",
    "}\n"
   ]
  },
  {
   "cell_type": "code",
   "execution_count": 23,
   "id": "6bcee8e0",
   "metadata": {},
   "outputs": [],
   "source": [
    "# Perform grid search for RandomForestClassifier\n",
    "grid_search_rf = GridSearchCV(pipeline_rf, param_grid_rf, cv=5, n_jobs=-1)"
   ]
  },
  {
   "cell_type": "code",
   "execution_count": 24,
   "id": "b100a759",
   "metadata": {},
   "outputs": [
    {
     "data": {
      "text/html": [
       "<style>#sk-container-id-1 {color: black;background-color: white;}#sk-container-id-1 pre{padding: 0;}#sk-container-id-1 div.sk-toggleable {background-color: white;}#sk-container-id-1 label.sk-toggleable__label {cursor: pointer;display: block;width: 100%;margin-bottom: 0;padding: 0.3em;box-sizing: border-box;text-align: center;}#sk-container-id-1 label.sk-toggleable__label-arrow:before {content: \"▸\";float: left;margin-right: 0.25em;color: #696969;}#sk-container-id-1 label.sk-toggleable__label-arrow:hover:before {color: black;}#sk-container-id-1 div.sk-estimator:hover label.sk-toggleable__label-arrow:before {color: black;}#sk-container-id-1 div.sk-toggleable__content {max-height: 0;max-width: 0;overflow: hidden;text-align: left;background-color: #f0f8ff;}#sk-container-id-1 div.sk-toggleable__content pre {margin: 0.2em;color: black;border-radius: 0.25em;background-color: #f0f8ff;}#sk-container-id-1 input.sk-toggleable__control:checked~div.sk-toggleable__content {max-height: 200px;max-width: 100%;overflow: auto;}#sk-container-id-1 input.sk-toggleable__control:checked~label.sk-toggleable__label-arrow:before {content: \"▾\";}#sk-container-id-1 div.sk-estimator input.sk-toggleable__control:checked~label.sk-toggleable__label {background-color: #d4ebff;}#sk-container-id-1 div.sk-label input.sk-toggleable__control:checked~label.sk-toggleable__label {background-color: #d4ebff;}#sk-container-id-1 input.sk-hidden--visually {border: 0;clip: rect(1px 1px 1px 1px);clip: rect(1px, 1px, 1px, 1px);height: 1px;margin: -1px;overflow: hidden;padding: 0;position: absolute;width: 1px;}#sk-container-id-1 div.sk-estimator {font-family: monospace;background-color: #f0f8ff;border: 1px dotted black;border-radius: 0.25em;box-sizing: border-box;margin-bottom: 0.5em;}#sk-container-id-1 div.sk-estimator:hover {background-color: #d4ebff;}#sk-container-id-1 div.sk-parallel-item::after {content: \"\";width: 100%;border-bottom: 1px solid gray;flex-grow: 1;}#sk-container-id-1 div.sk-label:hover label.sk-toggleable__label {background-color: #d4ebff;}#sk-container-id-1 div.sk-serial::before {content: \"\";position: absolute;border-left: 1px solid gray;box-sizing: border-box;top: 0;bottom: 0;left: 50%;z-index: 0;}#sk-container-id-1 div.sk-serial {display: flex;flex-direction: column;align-items: center;background-color: white;padding-right: 0.2em;padding-left: 0.2em;position: relative;}#sk-container-id-1 div.sk-item {position: relative;z-index: 1;}#sk-container-id-1 div.sk-parallel {display: flex;align-items: stretch;justify-content: center;background-color: white;position: relative;}#sk-container-id-1 div.sk-item::before, #sk-container-id-1 div.sk-parallel-item::before {content: \"\";position: absolute;border-left: 1px solid gray;box-sizing: border-box;top: 0;bottom: 0;left: 50%;z-index: -1;}#sk-container-id-1 div.sk-parallel-item {display: flex;flex-direction: column;z-index: 1;position: relative;background-color: white;}#sk-container-id-1 div.sk-parallel-item:first-child::after {align-self: flex-end;width: 50%;}#sk-container-id-1 div.sk-parallel-item:last-child::after {align-self: flex-start;width: 50%;}#sk-container-id-1 div.sk-parallel-item:only-child::after {width: 0;}#sk-container-id-1 div.sk-dashed-wrapped {border: 1px dashed gray;margin: 0 0.4em 0.5em 0.4em;box-sizing: border-box;padding-bottom: 0.4em;background-color: white;}#sk-container-id-1 div.sk-label label {font-family: monospace;font-weight: bold;display: inline-block;line-height: 1.2em;}#sk-container-id-1 div.sk-label-container {text-align: center;}#sk-container-id-1 div.sk-container {/* jupyter's `normalize.less` sets `[hidden] { display: none; }` but bootstrap.min.css set `[hidden] { display: none !important; }` so we also need the `!important` here to be able to override the default hidden behavior on the sphinx rendered scikit-learn.org. See: https://github.com/scikit-learn/scikit-learn/issues/21755 */display: inline-block !important;position: relative;}#sk-container-id-1 div.sk-text-repr-fallback {display: none;}</style><div id=\"sk-container-id-1\" class=\"sk-top-container\"><div class=\"sk-text-repr-fallback\"><pre>GridSearchCV(cv=5,\n",
       "             estimator=Pipeline(steps=[(&#x27;tfidf&#x27;, TfidfVectorizer()),\n",
       "                                       (&#x27;clf&#x27;, RandomForestClassifier())]),\n",
       "             n_jobs=-1,\n",
       "             param_grid={&#x27;clf__max_depth&#x27;: [None, 10],\n",
       "                         &#x27;clf__n_estimators&#x27;: [100, 200],\n",
       "                         &#x27;tfidf__max_features&#x27;: [1000, 5000]})</pre><b>In a Jupyter environment, please rerun this cell to show the HTML representation or trust the notebook. <br />On GitHub, the HTML representation is unable to render, please try loading this page with nbviewer.org.</b></div><div class=\"sk-container\" hidden><div class=\"sk-item sk-dashed-wrapped\"><div class=\"sk-label-container\"><div class=\"sk-label sk-toggleable\"><input class=\"sk-toggleable__control sk-hidden--visually\" id=\"sk-estimator-id-1\" type=\"checkbox\" ><label for=\"sk-estimator-id-1\" class=\"sk-toggleable__label sk-toggleable__label-arrow\">GridSearchCV</label><div class=\"sk-toggleable__content\"><pre>GridSearchCV(cv=5,\n",
       "             estimator=Pipeline(steps=[(&#x27;tfidf&#x27;, TfidfVectorizer()),\n",
       "                                       (&#x27;clf&#x27;, RandomForestClassifier())]),\n",
       "             n_jobs=-1,\n",
       "             param_grid={&#x27;clf__max_depth&#x27;: [None, 10],\n",
       "                         &#x27;clf__n_estimators&#x27;: [100, 200],\n",
       "                         &#x27;tfidf__max_features&#x27;: [1000, 5000]})</pre></div></div></div><div class=\"sk-parallel\"><div class=\"sk-parallel-item\"><div class=\"sk-item\"><div class=\"sk-label-container\"><div class=\"sk-label sk-toggleable\"><input class=\"sk-toggleable__control sk-hidden--visually\" id=\"sk-estimator-id-2\" type=\"checkbox\" ><label for=\"sk-estimator-id-2\" class=\"sk-toggleable__label sk-toggleable__label-arrow\">estimator: Pipeline</label><div class=\"sk-toggleable__content\"><pre>Pipeline(steps=[(&#x27;tfidf&#x27;, TfidfVectorizer()),\n",
       "                (&#x27;clf&#x27;, RandomForestClassifier())])</pre></div></div></div><div class=\"sk-serial\"><div class=\"sk-item\"><div class=\"sk-serial\"><div class=\"sk-item\"><div class=\"sk-estimator sk-toggleable\"><input class=\"sk-toggleable__control sk-hidden--visually\" id=\"sk-estimator-id-3\" type=\"checkbox\" ><label for=\"sk-estimator-id-3\" class=\"sk-toggleable__label sk-toggleable__label-arrow\">TfidfVectorizer</label><div class=\"sk-toggleable__content\"><pre>TfidfVectorizer()</pre></div></div></div><div class=\"sk-item\"><div class=\"sk-estimator sk-toggleable\"><input class=\"sk-toggleable__control sk-hidden--visually\" id=\"sk-estimator-id-4\" type=\"checkbox\" ><label for=\"sk-estimator-id-4\" class=\"sk-toggleable__label sk-toggleable__label-arrow\">RandomForestClassifier</label><div class=\"sk-toggleable__content\"><pre>RandomForestClassifier()</pre></div></div></div></div></div></div></div></div></div></div></div></div>"
      ],
      "text/plain": [
       "GridSearchCV(cv=5,\n",
       "             estimator=Pipeline(steps=[('tfidf', TfidfVectorizer()),\n",
       "                                       ('clf', RandomForestClassifier())]),\n",
       "             n_jobs=-1,\n",
       "             param_grid={'clf__max_depth': [None, 10],\n",
       "                         'clf__n_estimators': [100, 200],\n",
       "                         'tfidf__max_features': [1000, 5000]})"
      ]
     },
     "execution_count": 24,
     "metadata": {},
     "output_type": "execute_result"
    }
   ],
   "source": [
    "# Fit the RandomForestClassifier model\n",
    "grid_search_rf.fit(X_train, y_train)"
   ]
  },
  {
   "cell_type": "code",
   "execution_count": 25,
   "id": "aaf3c4a3",
   "metadata": {},
   "outputs": [],
   "source": [
    "# Function to generate classification report and confusion matrix for testing data\n",
    "def generate_testing_report(model, X_test, y_test):\n",
    "    print(\"\\nClassification Report - Testing Data:\")\n",
    "    print(classification_report(y_test, model.predict(X_test)))\n",
    "    print(\"\\nConfusion Matrix - Testing Data:\")\n",
    "    print(confusion_matrix(y_test, model.predict(X_test)))"
   ]
  },
  {
   "cell_type": "code",
   "execution_count": 26,
   "id": "57e49e0e",
   "metadata": {},
   "outputs": [
    {
     "name": "stdout",
     "output_type": "stream",
     "text": [
      "\n",
      "Random Forest Model:\n",
      "\n",
      "Classification Report - Testing Data:\n",
      "              precision    recall  f1-score   support\n",
      "\n",
      "           0       0.68      0.58      0.62       139\n",
      "           1       0.60      0.62      0.61       118\n",
      "           2       0.68      0.87      0.77       102\n",
      "           3       0.84      0.78      0.81       112\n",
      "           4       0.91      0.72      0.80       108\n",
      "           5       0.83      0.97      0.89       108\n",
      "\n",
      "    accuracy                           0.75       687\n",
      "   macro avg       0.76      0.76      0.75       687\n",
      "weighted avg       0.75      0.75      0.74       687\n",
      "\n",
      "\n",
      "Confusion Matrix - Testing Data:\n",
      "[[ 80  30  13  10   3   3]\n",
      " [ 22  73  15   1   0   7]\n",
      " [  1   7  89   2   1   2]\n",
      " [  8   9   5  87   3   0]\n",
      " [  7   3   6   4  78  10]\n",
      " [  0   0   2   0   1 105]]\n"
     ]
    }
   ],
   "source": [
    "# Generate classification reports for RandomForestClassifier on testing data\n",
    "print(\"\\nRandom Forest Model:\")\n",
    "generate_testing_report(grid_search_rf, X_test, y_test)\n"
   ]
  },
  {
   "cell_type": "code",
   "execution_count": 27,
   "id": "a6d5cc23",
   "metadata": {},
   "outputs": [
    {
     "name": "stdout",
     "output_type": "stream",
     "text": [
      "\n",
      "Random Forest Model:\n",
      "\n",
      "Classification Report - Training Data:\n",
      "              precision    recall  f1-score   support\n",
      "\n",
      "           0       1.00      1.00      1.00       375\n",
      "           1       1.00      1.00      1.00       396\n",
      "           2       1.00      1.00      1.00       418\n",
      "           3       1.00      1.00      1.00       401\n",
      "           4       1.00      0.99      1.00       406\n",
      "           5       1.00      1.00      1.00       405\n",
      "\n",
      "    accuracy                           1.00      2401\n",
      "   macro avg       1.00      1.00      1.00      2401\n",
      "weighted avg       1.00      1.00      1.00      2401\n",
      "\n",
      "\n",
      "Confusion Matrix - Training Data:\n",
      "[[375   0   0   0   0   0]\n",
      " [  0 396   0   0   0   0]\n",
      " [  0   0 418   0   0   0]\n",
      " [  0   0   0 401   0   0]\n",
      " [  0   0   0   1 403   2]\n",
      " [  0   0   0   0   0 405]]\n"
     ]
    }
   ],
   "source": [
    "# Function to generate classification report and confusion matrix for training data\n",
    "def generate_training_report(model, X_train, y_train):\n",
    "    print(\"\\nClassification Report - Training Data:\")\n",
    "    print(classification_report(y_train, model.predict(X_train)))\n",
    "    print(\"\\nConfusion Matrix - Training Data:\")\n",
    "    print(confusion_matrix(y_train, model.predict(X_train)))\n",
    "\n",
    "# Generate classification reports for RandomForestClassifier on training data\n",
    "print(\"\\nRandom Forest Model:\")\n",
    "generate_training_report(grid_search_rf, X_train, y_train)"
   ]
  },
  {
   "cell_type": "code",
   "execution_count": 28,
   "id": "11b4b070",
   "metadata": {},
   "outputs": [
    {
     "name": "stdout",
     "output_type": "stream",
     "text": [
      "\n",
      "Random Forest Model:\n",
      "\n",
      "Classification Report - Validation Data:\n",
      "              precision    recall  f1-score   support\n",
      "\n",
      "           0       0.71      0.59      0.64        58\n",
      "           1       0.58      0.69      0.63        58\n",
      "           2       0.76      0.98      0.86        52\n",
      "           3       0.84      0.78      0.81        59\n",
      "           4       0.90      0.60      0.72        58\n",
      "           5       0.86      0.97      0.91        59\n",
      "\n",
      "    accuracy                           0.76       344\n",
      "   macro avg       0.77      0.77      0.76       344\n",
      "weighted avg       0.78      0.76      0.76       344\n",
      "\n",
      "\n",
      "Confusion Matrix - Validation Data:\n",
      "[[34 14  4  3  2  1]\n",
      " [ 8 40  6  0  2  2]\n",
      " [ 0  0 51  0  0  1]\n",
      " [ 1  7  5 46  0  0]\n",
      " [ 4  7  1  6 35  5]\n",
      " [ 1  1  0  0  0 57]]\n"
     ]
    }
   ],
   "source": [
    "# Function to generate classification report for validation data\n",
    "def generate_validation_report(model, X_train, y_train, X_val, y_val):\n",
    "    print(\"\\nClassification Report - Validation Data:\")\n",
    "    print(classification_report(y_val, model.predict(X_val)))\n",
    "    print(\"\\nConfusion Matrix - Validation Data:\")\n",
    "    print(confusion_matrix(y_val, model.predict(X_val)))\n",
    "\n",
    "# Generate classification reports for RandomForestClassifier on validation data\n",
    "print(\"\\nRandom Forest Model:\")\n",
    "generate_validation_report(grid_search_rf, X_train, y_train, X_val, y_val)"
   ]
  },
  {
   "cell_type": "code",
   "execution_count": null,
   "id": "a0e9064d",
   "metadata": {},
   "outputs": [],
   "source": []
  }
 ],
 "metadata": {
  "kernelspec": {
   "display_name": "Python 3 (ipykernel)",
   "language": "python",
   "name": "python3"
  },
  "language_info": {
   "codemirror_mode": {
    "name": "ipython",
    "version": 3
   },
   "file_extension": ".py",
   "mimetype": "text/x-python",
   "name": "python",
   "nbconvert_exporter": "python",
   "pygments_lexer": "ipython3",
   "version": "3.9.7"
  }
 },
 "nbformat": 4,
 "nbformat_minor": 5
}
