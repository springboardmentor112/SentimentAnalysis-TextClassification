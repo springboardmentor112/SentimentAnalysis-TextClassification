{
 "cells": [
  {
   "cell_type": "code",
   "execution_count": 21,
   "id": "2ca494dd-f74a-437b-8b79-c6c162bce5a8",
   "metadata": {},
   "outputs": [
    {
     "name": "stderr",
     "output_type": "stream",
     "text": [
      "[nltk_data] Downloading package punkt to\n",
      "[nltk_data]     C:\\Users\\Vikash\\AppData\\Roaming\\nltk_data...\n",
      "[nltk_data]   Package punkt is already up-to-date!\n",
      "[nltk_data] Downloading package wordnet to\n",
      "[nltk_data]     C:\\Users\\Vikash\\AppData\\Roaming\\nltk_data...\n",
      "[nltk_data]   Package wordnet is already up-to-date!\n"
     ]
    }
   ],
   "source": [
    "import pandas as pd\n",
    "import re\n",
    "import nltk\n",
    "from nltk.corpus import stopwords\n",
    "from nltk.stem import PorterStemmer\n",
    "from nltk.tokenize import word_tokenize\n",
    "nltk.download('punkt')\n",
    "nltk.download('wordnet')\n",
    "from nltk.tokenize import word_tokenize\n"
   ]
  },
  {
   "cell_type": "code",
   "execution_count": 5,
   "id": "8d73611c-3a30-44cc-b8c5-77eea072d516",
   "metadata": {},
   "outputs": [],
   "source": [
    "df= pd.read_csv('reviews.csv')"
   ]
  },
  {
   "cell_type": "code",
   "execution_count": 6,
   "id": "f9c0b6f1-90fe-482f-b969-d497509a15e2",
   "metadata": {},
   "outputs": [
    {
     "data": {
      "text/html": [
       "<div>\n",
       "<style scoped>\n",
       "    .dataframe tbody tr th:only-of-type {\n",
       "        vertical-align: middle;\n",
       "    }\n",
       "\n",
       "    .dataframe tbody tr th {\n",
       "        vertical-align: top;\n",
       "    }\n",
       "\n",
       "    .dataframe thead th {\n",
       "        text-align: right;\n",
       "    }\n",
       "</style>\n",
       "<table border=\"1\" class=\"dataframe\">\n",
       "  <thead>\n",
       "    <tr style=\"text-align: right;\">\n",
       "      <th></th>\n",
       "      <th>reviewId</th>\n",
       "      <th>userName</th>\n",
       "      <th>userImage</th>\n",
       "      <th>content</th>\n",
       "      <th>thumbsUpCount</th>\n",
       "      <th>reviewCreatedVersion</th>\n",
       "      <th>at</th>\n",
       "      <th>replyContent</th>\n",
       "      <th>repliedAt</th>\n",
       "      <th>appVersion</th>\n",
       "      <th>sortOrder</th>\n",
       "      <th>appId</th>\n",
       "    </tr>\n",
       "  </thead>\n",
       "  <tbody>\n",
       "    <tr>\n",
       "      <th>0</th>\n",
       "      <td>0197c118-5c6f-4a7b-894c-970023d1a350</td>\n",
       "      <td>Mar Zur</td>\n",
       "      <td>https://play-lh.googleusercontent.com/a/ACg8oc...</td>\n",
       "      <td>I have the same recurring tasks to do every da...</td>\n",
       "      <td>11</td>\n",
       "      <td>4.16.6.2</td>\n",
       "      <td>22-07-2020 13:13</td>\n",
       "      <td>Our team will be happy to look into it for you...</td>\n",
       "      <td>23-07-2020 16:32</td>\n",
       "      <td>4.16.6.2</td>\n",
       "      <td>most_relevant</td>\n",
       "      <td>com.anydo</td>\n",
       "    </tr>\n",
       "    <tr>\n",
       "      <th>1</th>\n",
       "      <td>94868fb5-a21d-4ef9-ab85-81b2ed3d0785</td>\n",
       "      <td>Devin Rivera</td>\n",
       "      <td>https://play-lh.googleusercontent.com/a-/ALV-U...</td>\n",
       "      <td>Instead of shopping around, I downloaded Any.d...</td>\n",
       "      <td>8</td>\n",
       "      <td>NaN</td>\n",
       "      <td>08-12-2020 06:24</td>\n",
       "      <td>We are not aware of any issues with randomized...</td>\n",
       "      <td>10-12-2020 09:38</td>\n",
       "      <td>NaN</td>\n",
       "      <td>most_relevant</td>\n",
       "      <td>com.anydo</td>\n",
       "    </tr>\n",
       "    <tr>\n",
       "      <th>2</th>\n",
       "      <td>825da34e-f65d-4ef3-991d-02d5291820d6</td>\n",
       "      <td>Heidi Kinsley</td>\n",
       "      <td>https://play-lh.googleusercontent.com/a/ACg8oc...</td>\n",
       "      <td>Why does every once in a while... out of the b...</td>\n",
       "      <td>6</td>\n",
       "      <td>5.11.1.2</td>\n",
       "      <td>09-07-2021 13:51</td>\n",
       "      <td>Sorry to hear that! It sounds like you might h...</td>\n",
       "      <td>11-07-2021 11:16</td>\n",
       "      <td>5.11.1.2</td>\n",
       "      <td>most_relevant</td>\n",
       "      <td>com.anydo</td>\n",
       "    </tr>\n",
       "    <tr>\n",
       "      <th>3</th>\n",
       "      <td>a49c2875-651a-4c33-b79c-5813780d659e</td>\n",
       "      <td>Daniel Keller</td>\n",
       "      <td>https://play-lh.googleusercontent.com/a/ACg8oc...</td>\n",
       "      <td>Terrible Update! This app used to be perfect f...</td>\n",
       "      <td>5</td>\n",
       "      <td>NaN</td>\n",
       "      <td>16-11-2020 01:50</td>\n",
       "      <td>Please note that the tasks in your tasks view ...</td>\n",
       "      <td>17-11-2020 09:31</td>\n",
       "      <td>NaN</td>\n",
       "      <td>most_relevant</td>\n",
       "      <td>com.anydo</td>\n",
       "    </tr>\n",
       "    <tr>\n",
       "      <th>4</th>\n",
       "      <td>9482c75e-2e63-46ab-8c94-47273dd6a829</td>\n",
       "      <td>A Google user</td>\n",
       "      <td>https://play-lh.googleusercontent.com/EGemoI2N...</td>\n",
       "      <td>This app is deceivingly terrible. There are so...</td>\n",
       "      <td>20</td>\n",
       "      <td>4.14.0.4</td>\n",
       "      <td>31-01-2019 16:19</td>\n",
       "      <td>Hi Ryan, it sounds like you are describing our...</td>\n",
       "      <td>05-02-2019 11:52</td>\n",
       "      <td>4.14.0.4</td>\n",
       "      <td>most_relevant</td>\n",
       "      <td>com.anydo</td>\n",
       "    </tr>\n",
       "  </tbody>\n",
       "</table>\n",
       "</div>"
      ],
      "text/plain": [
       "                               reviewId       userName  \\\n",
       "0  0197c118-5c6f-4a7b-894c-970023d1a350        Mar Zur   \n",
       "1  94868fb5-a21d-4ef9-ab85-81b2ed3d0785   Devin Rivera   \n",
       "2  825da34e-f65d-4ef3-991d-02d5291820d6  Heidi Kinsley   \n",
       "3  a49c2875-651a-4c33-b79c-5813780d659e  Daniel Keller   \n",
       "4  9482c75e-2e63-46ab-8c94-47273dd6a829  A Google user   \n",
       "\n",
       "                                           userImage  \\\n",
       "0  https://play-lh.googleusercontent.com/a/ACg8oc...   \n",
       "1  https://play-lh.googleusercontent.com/a-/ALV-U...   \n",
       "2  https://play-lh.googleusercontent.com/a/ACg8oc...   \n",
       "3  https://play-lh.googleusercontent.com/a/ACg8oc...   \n",
       "4  https://play-lh.googleusercontent.com/EGemoI2N...   \n",
       "\n",
       "                                             content  thumbsUpCount  \\\n",
       "0  I have the same recurring tasks to do every da...             11   \n",
       "1  Instead of shopping around, I downloaded Any.d...              8   \n",
       "2  Why does every once in a while... out of the b...              6   \n",
       "3  Terrible Update! This app used to be perfect f...              5   \n",
       "4  This app is deceivingly terrible. There are so...             20   \n",
       "\n",
       "  reviewCreatedVersion                at  \\\n",
       "0             4.16.6.2  22-07-2020 13:13   \n",
       "1                  NaN  08-12-2020 06:24   \n",
       "2             5.11.1.2  09-07-2021 13:51   \n",
       "3                  NaN  16-11-2020 01:50   \n",
       "4             4.14.0.4  31-01-2019 16:19   \n",
       "\n",
       "                                        replyContent         repliedAt  \\\n",
       "0  Our team will be happy to look into it for you...  23-07-2020 16:32   \n",
       "1  We are not aware of any issues with randomized...  10-12-2020 09:38   \n",
       "2  Sorry to hear that! It sounds like you might h...  11-07-2021 11:16   \n",
       "3  Please note that the tasks in your tasks view ...  17-11-2020 09:31   \n",
       "4  Hi Ryan, it sounds like you are describing our...  05-02-2019 11:52   \n",
       "\n",
       "  appVersion      sortOrder      appId  \n",
       "0   4.16.6.2  most_relevant  com.anydo  \n",
       "1        NaN  most_relevant  com.anydo  \n",
       "2   5.11.1.2  most_relevant  com.anydo  \n",
       "3        NaN  most_relevant  com.anydo  \n",
       "4   4.14.0.4  most_relevant  com.anydo  "
      ]
     },
     "execution_count": 6,
     "metadata": {},
     "output_type": "execute_result"
    }
   ],
   "source": [
    "df.head()"
   ]
  },
  {
   "cell_type": "code",
   "execution_count": null,
   "id": "77c3d9cf-0213-4e70-98a7-54fd3dee1250",
   "metadata": {},
   "outputs": [],
   "source": [
    "### # lower case"
   ]
  },
  {
   "cell_type": "code",
   "execution_count": 7,
   "id": "bac50030-33b4-4359-a27c-9392f4da0847",
   "metadata": {},
   "outputs": [],
   "source": [
    "df[\"content\"] = df[\"content\"].str.lower()"
   ]
  },
  {
   "cell_type": "code",
   "execution_count": null,
   "id": "14c44c8d-616b-4e01-877a-e3b2534c4766",
   "metadata": {},
   "outputs": [],
   "source": [
    "### # removinf links"
   ]
  },
  {
   "cell_type": "code",
   "execution_count": 12,
   "id": "7a6e637d-ad15-4ae7-bd7e-2e091def8b23",
   "metadata": {},
   "outputs": [],
   "source": [
    "df['content'] = df['content'].fillna('')"
   ]
  },
  {
   "cell_type": "code",
   "execution_count": 13,
   "id": "0fcd567a-b0b3-48dd-a211-c62fc16db888",
   "metadata": {},
   "outputs": [],
   "source": [
    "no_url=[]\n",
    "for sentence in df['content']:\n",
    "    no_url.append(re.sub(r\"http\\S+\", \"\", sentence))\n",
    "df['content']=no_url"
   ]
  },
  {
   "cell_type": "code",
   "execution_count": null,
   "id": "55fe41b6-05bd-4adc-846d-7c981886bdd9",
   "metadata": {},
   "outputs": [],
   "source": [
    "# # remove next line"
   ]
  },
  {
   "cell_type": "code",
   "execution_count": 14,
   "id": "a27f7ece-931b-41e4-b4cb-fe02716b3938",
   "metadata": {},
   "outputs": [],
   "source": [
    "df['content'] = df['content'].str.replace('\\n','')"
   ]
  },
  {
   "cell_type": "code",
   "execution_count": null,
   "id": "70d298fa-350e-4a9b-869e-72fe1382f5b5",
   "metadata": {},
   "outputs": [],
   "source": [
    "# # removing extra space"
   ]
  },
  {
   "cell_type": "code",
   "execution_count": 15,
   "id": "1f86c8bc-2c11-4152-abcc-cfb737a6655a",
   "metadata": {},
   "outputs": [],
   "source": [
    "df['content'] = df['content'].apply(lambda x: ''.join(x.split()))"
   ]
  },
  {
   "cell_type": "code",
   "execution_count": null,
   "id": "8c46de88-b198-4a7b-956a-51dcc9bc9d49",
   "metadata": {},
   "outputs": [],
   "source": [
    "# # removing worlds containing number"
   ]
  },
  {
   "cell_type": "code",
   "execution_count": 16,
   "id": "1f065854-3851-415d-80b8-1f28fab7ee02",
   "metadata": {},
   "outputs": [],
   "source": [
    "pattern = r'\\b\\w*\\d\\w*\\b'\n",
    "def remove_words_with_numbers(text):\n",
    "    return re.sub(pattern, '',text)\n",
    "df['content'] = df['content'].apply(remove_words_with_numbers)"
   ]
  },
  {
   "cell_type": "code",
   "execution_count": null,
   "id": "83b5969d-4fb5-4fbc-8d13-1d41025dccff",
   "metadata": {},
   "outputs": [],
   "source": [
    "# # removing special character"
   ]
  },
  {
   "cell_type": "code",
   "execution_count": 18,
   "id": "c2502c79-42f7-4637-80f3-4188726646a4",
   "metadata": {},
   "outputs": [],
   "source": [
    "no_special_char=[]\n",
    "for sentence in df.content:\n",
    "    no_special_char.append(re.sub('[A-Za-z0-9]+', ' ', sentence))\n",
    "df['content']=no_special_char"
   ]
  },
  {
   "cell_type": "code",
   "execution_count": null,
   "id": "ca54c2f1-680e-48cd-b5cd-db5a79493140",
   "metadata": {},
   "outputs": [],
   "source": [
    "# # removel of stopwords"
   ]
  },
  {
   "cell_type": "code",
   "execution_count": 22,
   "id": "b0a3b15c-916c-4132-b93b-c8b394879da7",
   "metadata": {},
   "outputs": [],
   "source": [
    "stop_words = set(stopwords.words('english'))\n",
    "def remove_stopwords(text):\n",
    "    words = text.split()\n",
    "    filtered_text = [word for word in words if word.lower() not in stop_words]\n",
    "    return ' '.join(filtered_text)"
   ]
  },
  {
   "cell_type": "code",
   "execution_count": null,
   "id": "15e51930-e504-4e3b-89f5-53e8f53a6e44",
   "metadata": {},
   "outputs": [],
   "source": [
    "# # stemming"
   ]
  },
  {
   "cell_type": "code",
   "execution_count": 23,
   "id": "13a3c46a-74e1-4d3b-ba17-f89714a9086b",
   "metadata": {},
   "outputs": [],
   "source": [
    "stemmer = PorterStemmer()"
   ]
  },
  {
   "cell_type": "code",
   "execution_count": 24,
   "id": "f7c0b05f-2d72-405b-a9a5-b46418472a14",
   "metadata": {},
   "outputs": [],
   "source": [
    "df['content'] =  df['content'].apply(lambda text:' '.join([stemmer.stem(word) for word in word_tokenize(text)]))"
   ]
  },
  {
   "cell_type": "code",
   "execution_count": null,
   "id": "74431f2d-8b17-48d1-a688-64b9a3ab3d79",
   "metadata": {},
   "outputs": [],
   "source": [
    "# # Lemmatization"
   ]
  },
  {
   "cell_type": "code",
   "execution_count": 27,
   "id": "c4a3bc38-33f6-474a-adc3-318495c80d0f",
   "metadata": {},
   "outputs": [],
   "source": [
    "def lemmatize_text(text):\n",
    "    # Process the text with spaCy\n",
    "    doc = nlp(text)\n",
    "    # Extract lemmatized tokens\n",
    "    lemmatized_tokens = [token.lemma_ for token in doc]\n",
    "    # Join the lemmatized tokens into a sentence\n",
    "    lemmatized_text = ' '.join(lemmatized_tokens)\n",
    "    return lemmatized_text"
   ]
  },
  {
   "cell_type": "code",
   "execution_count": 28,
   "id": "73c0f7db-2143-4fe4-b1c0-c7c958b186bc",
   "metadata": {},
   "outputs": [
    {
     "name": "stdout",
     "output_type": "stream",
     "text": [
      "0        . - - ' . , , ! ! , ' . , ' . : , , . .\n",
      "1                    , . . ' . . , . , . , . , .\n",
      "2                  ... , ? ? ? , ... . . , . . .\n",
      "3                              ! . , . , , . , .\n",
      "4            . . `` `` ' . , ' . , , ' , . ' . :\n",
      "                          ...                   \n",
      "16782                                           \n",
      "16783                              . . . , . . .\n",
      "16784                                           \n",
      "16785                                      ! ! !\n",
      "16786                                          👍\n",
      "Name: content, Length: 16787, dtype: object\n"
     ]
    }
   ],
   "source": [
    "print(df['content'])"
   ]
  },
  {
   "cell_type": "code",
   "execution_count": null,
   "id": "d274dcba-06ac-4e02-afd6-8283f74e46eb",
   "metadata": {},
   "outputs": [],
   "source": []
  }
 ],
 "metadata": {
  "kernelspec": {
   "display_name": "Python 3 (ipykernel)",
   "language": "python",
   "name": "python3"
  },
  "language_info": {
   "codemirror_mode": {
    "name": "ipython",
    "version": 3
   },
   "file_extension": ".py",
   "mimetype": "text/x-python",
   "name": "python",
   "nbconvert_exporter": "python",
   "pygments_lexer": "ipython3",
   "version": "3.11.7"
  }
 },
 "nbformat": 4,
 "nbformat_minor": 5
}
