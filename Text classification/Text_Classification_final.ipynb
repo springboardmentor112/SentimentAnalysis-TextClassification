{
 "cells": [
  {
   "cell_type": "markdown",
   "id": "0e937848",
   "metadata": {},
   "source": [
    "## TEXT CLASSIFICATION\n",
    "**0:'sadness'\n",
    "1:'joy'\n",
    "2:'love' \n",
    "3:'anger'\n",
    "4:'fear'\n",
    "5:'surprise'\n",
    "NUMBER OF  DATA IN THE DATASET 16000+\n"
   ]
  },
  {
   "cell_type": "markdown",
   "id": "144f7140",
   "metadata": {},
   "source": [
    "# MODEL APPROACH\n",
    "**1. Data (Text) Preprocessing:**\n",
    "• Lower Case\n",
    "• Remove links\n",
    "• Remove next lines (\\n)\n",
    "• Words containing numbers\n",
    "• Extra spaces\n",
    "• Special characters\n",
    "• Removal of stop words\n",
    "• Stemming\n",
    "• Lemmatization\n",
    "**2. Featuring Engineering:**\n",
    "• Convert the Text corpus to a matrix of word counts. (Vectorize the Text data)\n",
    "Eg: Use Tf-IDF\n",
    "**3. Model Building:**\n",
    "1.Divide the dataset in to Train (70%), Test (20%) and Validation (10%) datasets.\n",
    "2.Build at least 3 classification models\n",
    "Step 1: Build model 1 and generate the classification report (Performance metrics using Confusion\n",
    "Metrics) for both Training and Test datasets.\n",
    "Step 2:\n",
    "• Use grid search or binary search for Hyperparameter Tuning.\n",
    "• Use atleast 2 values for each hyperparameters.\n",
    "• Choose the best model parameters based on grid search and generate the classification report\n",
    "(Performance metrics using Confusion Metrics) for both Training and Test datasets.\n",
    "Step 3: Repeat step 1 and 2 for Model 2 and Model 3 as well.\n",
    "Step 4: Now choose the final model based on the classification report (Performance metrics using\n",
    "Confusion Metrics) for both Training, Test and validation datasets.\n",
    "**4. Data Visualization: Input and Output plots**"
   ]
  },
  {
   "cell_type": "code",
   "execution_count": 2,
   "id": "f5d03546",
   "metadata": {},
   "outputs": [],
   "source": [
    "import numpy as np\n",
    "import pandas as pd\n",
    "import re\n",
    "import matplotlib.pyplot as plt\n",
    "import seaborn as sns\n",
    "from nltk.stem import PorterStemmer\n",
    "from nltk.tokenize import word_tokenize\n",
    "from sklearn.utils import resample\n",
    "from sklearn.model_selection import train_test_split\n",
    "from sklearn.metrics import confusion_matrix\n",
    "from sklearn.model_selection import GridSearchCV\n",
    "from sklearn.metrics import classification_report\n",
    "from sklearn.ensemble import RandomForestClassifier\n",
    "from sklearn.feature_extraction.text import TfidfVectorizer\n",
    "import xgboost as xgb\n",
    "from sklearn.linear_model import LogisticRegression\n",
    "from sklearn.svm import SVC\n",
    "from sklearn.ensemble import RandomForestClassifier\n",
    "from sklearn.metrics import classification_report, confusion_matrix, precision_score, recall_score, f1_score"
   ]
  },
  {
   "cell_type": "code",
   "execution_count": 3,
   "id": "e22f430c",
   "metadata": {},
   "outputs": [
    {
     "data": {
      "text/html": [
       "<div>\n",
       "<style scoped>\n",
       "    .dataframe tbody tr th:only-of-type {\n",
       "        vertical-align: middle;\n",
       "    }\n",
       "\n",
       "    .dataframe tbody tr th {\n",
       "        vertical-align: top;\n",
       "    }\n",
       "\n",
       "    .dataframe thead th {\n",
       "        text-align: right;\n",
       "    }\n",
       "</style>\n",
       "<table border=\"1\" class=\"dataframe\">\n",
       "  <thead>\n",
       "    <tr style=\"text-align: right;\">\n",
       "      <th></th>\n",
       "      <th>text</th>\n",
       "      <th>label</th>\n",
       "    </tr>\n",
       "  </thead>\n",
       "  <tbody>\n",
       "    <tr>\n",
       "      <th>0</th>\n",
       "      <td>i didnt feel humiliated</td>\n",
       "      <td>0</td>\n",
       "    </tr>\n",
       "    <tr>\n",
       "      <th>1</th>\n",
       "      <td>i can go from feeling so hopeless to so damned...</td>\n",
       "      <td>0</td>\n",
       "    </tr>\n",
       "    <tr>\n",
       "      <th>2</th>\n",
       "      <td>im grabbing a minute to post i feel greedy wrong</td>\n",
       "      <td>3</td>\n",
       "    </tr>\n",
       "    <tr>\n",
       "      <th>3</th>\n",
       "      <td>i am ever feeling nostalgic about the fireplac...</td>\n",
       "      <td>2</td>\n",
       "    </tr>\n",
       "    <tr>\n",
       "      <th>4</th>\n",
       "      <td>i am feeling grouchy</td>\n",
       "      <td>3</td>\n",
       "    </tr>\n",
       "    <tr>\n",
       "      <th>...</th>\n",
       "      <td>...</td>\n",
       "      <td>...</td>\n",
       "    </tr>\n",
       "    <tr>\n",
       "      <th>15995</th>\n",
       "      <td>i just had a very brief time in the beanbag an...</td>\n",
       "      <td>0</td>\n",
       "    </tr>\n",
       "    <tr>\n",
       "      <th>15996</th>\n",
       "      <td>i am now turning and i feel pathetic that i am...</td>\n",
       "      <td>0</td>\n",
       "    </tr>\n",
       "    <tr>\n",
       "      <th>15997</th>\n",
       "      <td>i feel strong and good overall</td>\n",
       "      <td>1</td>\n",
       "    </tr>\n",
       "    <tr>\n",
       "      <th>15998</th>\n",
       "      <td>i feel like this was such a rude comment and i...</td>\n",
       "      <td>3</td>\n",
       "    </tr>\n",
       "    <tr>\n",
       "      <th>15999</th>\n",
       "      <td>i know a lot but i feel so stupid because i ca...</td>\n",
       "      <td>0</td>\n",
       "    </tr>\n",
       "  </tbody>\n",
       "</table>\n",
       "<p>16000 rows × 2 columns</p>\n",
       "</div>"
      ],
      "text/plain": [
       "                                                    text  label\n",
       "0                                i didnt feel humiliated      0\n",
       "1      i can go from feeling so hopeless to so damned...      0\n",
       "2       im grabbing a minute to post i feel greedy wrong      3\n",
       "3      i am ever feeling nostalgic about the fireplac...      2\n",
       "4                                   i am feeling grouchy      3\n",
       "...                                                  ...    ...\n",
       "15995  i just had a very brief time in the beanbag an...      0\n",
       "15996  i am now turning and i feel pathetic that i am...      0\n",
       "15997                     i feel strong and good overall      1\n",
       "15998  i feel like this was such a rude comment and i...      3\n",
       "15999  i know a lot but i feel so stupid because i ca...      0\n",
       "\n",
       "[16000 rows x 2 columns]"
      ]
     },
     "execution_count": 3,
     "metadata": {},
     "output_type": "execute_result"
    }
   ],
   "source": [
    "df=pd.read_csv('Emotions_training.csv')\n",
    "df"
   ]
  },
  {
   "cell_type": "markdown",
   "id": "7160c7db",
   "metadata": {},
   "source": [
    "# lower case convertion"
   ]
  },
  {
   "cell_type": "markdown",
   "id": "25ec5557",
   "metadata": {},
   "source": [
    "use the string in built fucntion \"str.lower()\" for the text column"
   ]
  },
  {
   "cell_type": "code",
   "execution_count": 3,
   "id": "84eca250",
   "metadata": {},
   "outputs": [],
   "source": [
    "#converting to lowercase\n",
    "df['text']=df['text'].str.lower()"
   ]
  },
  {
   "cell_type": "markdown",
   "id": "eab9f0e8",
   "metadata": {},
   "source": [
    "# REMOVING THE LINK"
   ]
  },
  {
   "cell_type": "markdown",
   "id": "8b22c86e",
   "metadata": {},
   "source": [
    "removal of the link using the regular expression of the pattern or starts with http\\"
   ]
  },
  {
   "cell_type": "code",
   "execution_count": 19,
   "id": "c25bc40e",
   "metadata": {},
   "outputs": [],
   "source": [
    "#remove links\n",
    "import re\n",
    "\n",
    "text = df['text']\n",
    "\n",
    "def remove_links(text):\n",
    "    return re.sub(r'http\\S+', '', text)\n",
    "\n",
    "# Apply the function to remove links from each text in the 'text' column\n",
    "df['text'] = df['text'].apply(remove_links)"
   ]
  },
  {
   "cell_type": "markdown",
   "id": "7fe66df8",
   "metadata": {},
   "source": [
    "# Remove next lines (\\n)"
   ]
  },
  {
   "cell_type": "code",
   "execution_count": 5,
   "id": "e70eb6aa",
   "metadata": {},
   "outputs": [],
   "source": [
    "#\"\\n\" refers to the next line and by replacing the \"\\n\" with empty string \n",
    "df['text'] = df['text'].str.replace('\\n', '')"
   ]
  },
  {
   "cell_type": "markdown",
   "id": "8ee399a5",
   "metadata": {},
   "source": [
    "# Removal of Numbers"
   ]
  },
  {
   "cell_type": "code",
   "execution_count": 6,
   "id": "0716a804",
   "metadata": {},
   "outputs": [],
   "source": [
    "#remove words containing numbers\n",
    "text=df['text']\n",
    "def remove_words_with_numbers(text):\n",
    "    words = text.split() \n",
    "    clean_words = [] \n",
    "    for word in words:\n",
    "        has_digit = False\n",
    "        for char in word:\n",
    "            if char.isdigit():\n",
    "                has_digit = True\n",
    "                break\n",
    "        if not has_digit:\n",
    "            clean_words.append(word)  # If the word does not contain any digit, add it to the clean words list\n",
    "    return' '.join(clean_words)  # Join the clean words list back to string\n",
    "df['text'] = df['text'].apply(remove_words_with_numbers)\n"
   ]
  },
  {
   "cell_type": "markdown",
   "id": "1920d494",
   "metadata": {},
   "source": [
    "# REMOVE whitespaces"
   ]
  },
  {
   "cell_type": "code",
   "execution_count": 20,
   "id": "3c9a0b66",
   "metadata": {},
   "outputs": [],
   "source": [
    "#strip() function used to remove trailing whitespaces\n",
    "df['text'] = df['text'].str.strip()"
   ]
  },
  {
   "cell_type": "markdown",
   "id": "e4e76254",
   "metadata": {},
   "source": [
    "# REMOVE Special characters and EMOJIS "
   ]
  },
  {
   "cell_type": "code",
   "execution_count": 22,
   "id": "8ec6eb5e",
   "metadata": {},
   "outputs": [],
   "source": [
    "#remove special characters \n",
    "def remove_special_characters(text):\n",
    "    special_characters = \"!\\\"#$%&'()*+,-./:;<=>?@[\\]^_`{|}~\"\n",
    "    for char in special_characters:\n",
    "        text = text.replace(char, '')\n",
    "    return text\n",
    "\n",
    "df['text'] = df['text'].apply(remove_special_characters)"
   ]
  },
  {
   "cell_type": "code",
   "execution_count": 23,
   "id": "bcacd291",
   "metadata": {},
   "outputs": [],
   "source": [
    "#remove emojis\n",
    "import emoji\n",
    "import pandas as pd\n",
    "\n",
    "# Assuming 'df' is your DataFrame with a 'content' column containing text with emojis\n",
    "text = df['text']\n",
    "\n",
    "# Define a function to remove emojis\n",
    "def remove_emojis(text):\n",
    "    return emoji.demojize(text)\n",
    "\n",
    "# Applying remove_emojis() function to each element of the 'content' column\n",
    "text_without_emojis = text.apply(remove_emojis)\n",
    "\n"
   ]
  },
  {
   "cell_type": "markdown",
   "id": "31ec3454",
   "metadata": {},
   "source": [
    "# Removal of stop words using gensim library"
   ]
  },
  {
   "cell_type": "markdown",
   "id": "906780ed",
   "metadata": {},
   "source": [
    "**Gensim, a popular Python library for topic modeling and natural language processing, offers the remove_stopwords function to eliminate common stopwords from text data. By invoking this function, you can efficiently preprocess text by removing irrelevant words like \"the,\" \"is,\" and \"and,\" facilitating downstream analysis tasks such as text classification or topic modeling."
   ]
  },
  {
   "cell_type": "code",
   "execution_count": 24,
   "id": "efd374f4",
   "metadata": {},
   "outputs": [],
   "source": [
    "from gensim.parsing.preprocessing import preprocess_string\n",
    "df['text'] = [' '.join(preprocess_string(text)) for text in df['text']]\n"
   ]
  },
  {
   "cell_type": "markdown",
   "id": "1549caa9",
   "metadata": {},
   "source": [
    "# Stemming"
   ]
  },
  {
   "cell_type": "markdown",
   "id": "f87b9d06",
   "metadata": {},
   "source": [
    "**Stemming is a natural language processing technique used to reduce words to their root or base form, enabling normalization and simplification of text data. It helps in improving text analysis tasks such as information retrieval, sentiment analysis, and topic modeling by treating variations of words as a single entity. Popular stemming algorithms include Porter Stemmer, Snowball Stemmer, and Lancaster Stemmer."
   ]
  },
  {
   "cell_type": "code",
   "execution_count": 25,
   "id": "10d430c6",
   "metadata": {},
   "outputs": [],
   "source": [
    "import pandas as pd\n",
    "from nltk.stem import PorterStemmer\n",
    "from nltk.tokenize import word_tokenize\n",
    "\n",
    "\n",
    "#Tokenization is the process of breaking down a text or document into smaller units\n",
    "\n",
    "ps = PorterStemmer() #PorterStemmer is used for stemming, which is the process of reducing words to their base or root form\n",
    "\n",
    "\n",
    "def stem_sentence(sentence):\n",
    "    words = word_tokenize(sentence) \n",
    "    stemmed_words = [ps.stem(word) for word in words]\n",
    "    return ' '.join(stemmed_words)\n",
    "\n",
    "\n",
    "df['text'] = df['text'].apply(stem_sentence)\n",
    "\n"
   ]
  },
  {
   "cell_type": "markdown",
   "id": "b319bb8b",
   "metadata": {},
   "source": [
    "# difference between stemming and lemitizing\n",
    "**Stemming involves stripping affixes from words to get to the root form. It's done using simple and fast heuristic algorithms, which may result in the stem not being a valid word. For example, \"running\" would be stemmed to \"run\".\n",
    "\n",
    "**Lemmatization, on the other hand, considers the context and meaning of the word along with its morphology to reduce it to its base or dictionary form (lemma). It often requires more computational resources and linguistic knowledge but results in valid words."
   ]
  },
  {
   "cell_type": "markdown",
   "id": "6db39b9a",
   "metadata": {},
   "source": [
    "# LEMITIZING"
   ]
  },
  {
   "cell_type": "markdown",
   "id": "85801c65",
   "metadata": {},
   "source": [
    "Lemmatization is a linguistic process used to reduce words to their base or canonical form, known as the lemma, by considering the word's meaning and context. Unlike stemming, which simply removes suffixes or prefixes, lemmatization ensures that the resulting word is a valid one found in the language's dictionary."
   ]
  },
  {
   "cell_type": "code",
   "execution_count": 26,
   "id": "9b113c27",
   "metadata": {},
   "outputs": [
    {
     "name": "stderr",
     "output_type": "stream",
     "text": [
      "[nltk_data] Downloading package wordnet to\n",
      "[nltk_data]     /Users/yashas.m/nltk_data...\n",
      "[nltk_data]   Package wordnet is already up-to-date!\n",
      "[nltk_data] Downloading package omw-1.4 to\n",
      "[nltk_data]     /Users/yashas.m/nltk_data...\n",
      "[nltk_data]   Package omw-1.4 is already up-to-date!\n"
     ]
    },
    {
     "data": {
      "text/plain": [
       "True"
      ]
     },
     "execution_count": 26,
     "metadata": {},
     "output_type": "execute_result"
    }
   ],
   "source": [
    "#lemitizing \n",
    "import nltk\n",
    "nltk.download('wordnet')\n",
    "nltk.download('omw-1.4')\n",
    "\n"
   ]
  },
  {
   "cell_type": "code",
   "execution_count": 27,
   "id": "4de05481",
   "metadata": {},
   "outputs": [],
   "source": [
    "from nltk.stem import WordNetLemmatizer\n",
    "from nltk.tokenize import word_tokenize\n",
    "lemmatizer = WordNetLemmatizer()\n",
    "\n",
    "\n",
    "def lemmatize_text(text):\n",
    "    tokens = word_tokenize(text)\n",
    "    lemmatized_tokens = [lemmatizer.lemmatize(token) for token in tokens] #lemmatize each token in the list of tokens\n",
    "    return ' '.join(lemmatized_tokens)\n",
    "\n",
    "\n",
    "df['text'] = df['text'].apply(lemmatize_text)"
   ]
  },
  {
   "cell_type": "markdown",
   "id": "1308adea",
   "metadata": {},
   "source": [
    "**this below code helps in adding the different label classes into the respective arrays created for each labels \n",
    "and the displaying the count of each classes/label-0,1,2,3,4,5 that is sadness,joy,love,anger,fear and surprise"
   ]
  },
  {
   "cell_type": "code",
   "execution_count": 28,
   "id": "11c0eb15",
   "metadata": {},
   "outputs": [
    {
     "name": "stdout",
     "output_type": "stream",
     "text": [
      "the count of sadness is: 4666\n",
      "the count of joy is: 5362\n",
      "the count of love is: 1304\n",
      "the count of anger is: 2159\n",
      "the count of fear is: 1937\n",
      "the count of surprise is : 572\n"
     ]
    }
   ],
   "source": [
    "count = df['text'].count()# total count of the data/sample in the dataset\n",
    "label=df['label'] \n",
    "text=df['text']\n",
    "#creating the empty arrays \n",
    "label0 = []\n",
    "label1 = []\n",
    "label2 = []\n",
    "label3 = []\n",
    "label4 = []\n",
    "label5 = []\n",
    "#this for loop helps in appending the each sample/data into the respective labels array based on the if conditions\n",
    "for i in range(count):\n",
    "    if label[i] == 0:\n",
    "        label0.append(text[i])\n",
    "    elif label[i] == 1:\n",
    "        label1.append(text[i])\n",
    "    elif label[i] == 2:\n",
    "        label2.append(text[i])\n",
    "    elif label[i] == 3:\n",
    "        label3.append(text[i])\n",
    "    elif label[i] == 4:\n",
    "        label4.append(text[i])\n",
    "        \n",
    "    elif label[i]==5:\n",
    "        label5.append(text[i])\n",
    "    else:\n",
    "        pass\n",
    "#displaying the length of each labels \n",
    "print(\"the count of sadness is:\",len(label0))\n",
    "print(\"the count of joy is:\",len(label1))\n",
    "print(\"the count of love is:\",len(label2))\n",
    "print(\"the count of anger is:\",len(label3))\n",
    "print(\"the count of fear is:\",len(label4))\n",
    "print(\"the count of surprise is :\",len(label5))"
   ]
  },
  {
   "cell_type": "markdown",
   "id": "29541e4f",
   "metadata": {},
   "source": [
    "**percentage of each  label in the dataset "
   ]
  },
  {
   "cell_type": "code",
   "execution_count": 29,
   "id": "e98144f4",
   "metadata": {},
   "outputs": [
    {
     "name": "stdout",
     "output_type": "stream",
     "text": [
      "the perecentage of leabel\n",
      " 0=29.1625% \n",
      " 1=33.5125% \n",
      " 2=8.15% \n",
      " 3=13.493749999999999% \n",
      " 4=12.106250000000001% \n",
      " 5=3.5749999999999997%\n"
     ]
    }
   ],
   "source": [
    "#individual percentage\n",
    "l0=(len(label0)/count)*100\n",
    "l1=(len(label1)/count)*100\n",
    "l2=(len(label2)/count)*100\n",
    "l3=(len(label3)/count)*100\n",
    "l4=(len(label4)/count)*100\n",
    "l5=(len(label5)/count)*100\n",
    "print(f\"the perecentage of leabel\\n 0={l0}% \\n 1={l1}% \\n 2={l2}% \\n 3={l3}% \\n 4={l4}% \\n 5={l5}%\")"
   ]
  },
  {
   "cell_type": "markdown",
   "id": "0887f65b",
   "metadata": {},
   "source": [
    "# BAR graph representation"
   ]
  },
  {
   "cell_type": "markdown",
   "id": "dff0d1ce",
   "metadata": {},
   "source": [
    "**this helps to visualize the each label and helps in finding out whether the dataset is imbalanced!"
   ]
  },
  {
   "cell_type": "code",
   "execution_count": 30,
   "id": "70d22bdb",
   "metadata": {},
   "outputs": [
    {
     "data": {
      "image/png": "[encoded data removed]",
      "text/plain": [
       "<Figure size 576x432 with 1 Axes>"
      ]
     },
     "metadata": {
      "needs_background": "light"
     },
     "output_type": "display_data"
    }
   ],
   "source": [
    "import matplotlib.pyplot as plt\n",
    "import seaborn as sns\n",
    "\n",
    "labels = ['sadness', 'joy', 'love', 'anger','fear','surprise']\n",
    "counts = [len(label0), len(label1), len(label2), len(label3), len(label4),len(label5)]\n",
    "\n",
    "\n",
    "plt.figure(figsize=(8, 6))\n",
    "sns.barplot(x=labels, y=counts)\n",
    "plt.title('Count of each labels')\n",
    "plt.xlabel('labels')\n",
    "plt.ylabel('Count')\n",
    "plt.show()\n"
   ]
  },
  {
   "cell_type": "markdown",
   "id": "bd8144fb",
   "metadata": {},
   "source": [
    "**In the above bar graph it denotes that the text related to the joy-1 is maximum and text related to the surprise  label -5 is minimum "
   ]
  },
  {
   "cell_type": "markdown",
   "id": "aa950a80",
   "metadata": {},
   "source": [
    "# Balancing the dataset classes "
   ]
  },
  {
   "cell_type": "markdown",
   "id": "112a73d4",
   "metadata": {},
   "source": [
    "**oversampling is better than under_sampling bcoz there might be some important data misses in the undersample due to less data or reduction od data size in each class"
   ]
  },
  {
   "cell_type": "markdown",
   "id": "327e2c29",
   "metadata": {},
   "source": [
    "**resample module from scikit-learn's utils subpackage provides functions for resampling data, particularly useful for addressing class imbalance in classification tasks. It allows you to randomly oversample minority classes or undersample majority classes to balance the dataset, improving the performance of machine learning models."
   ]
  },
  {
   "cell_type": "markdown",
   "id": "807bb998",
   "metadata": {},
   "source": [
    "**label-1 had the maximum samples / text so we have upsampled / increased the all minority classes until it reaches the label-1 sample count"
   ]
  },
  {
   "cell_type": "code",
   "execution_count": 31,
   "id": "05a99db5",
   "metadata": {},
   "outputs": [
    {
     "name": "stdout",
     "output_type": "stream",
     "text": [
      "1    5362\n",
      "0    5362\n",
      "3    5362\n",
      "4    5362\n",
      "2    5362\n",
      "5    5362\n",
      "Name: label, dtype: int64\n"
     ]
    }
   ],
   "source": [
    "from sklearn.utils import resample\n",
    "\n",
    "\n",
    "# Count the number of samples in each class\n",
    "class_counts = df['label'].value_counts()\n",
    "\n",
    "# target count using maximum count among all the label \n",
    "target_count = class_counts.max()\n",
    "\n",
    "\n",
    "resampled_data = []\n",
    "\n",
    "# Loop through each class\n",
    "for label in class_counts.index:\n",
    "    # Extract data for the current class\n",
    "    class_data = df[df['label'] == label]\n",
    "    \n",
    "    # Upsample (oversample) the class to match the target count\n",
    "    sampled_data = resample(class_data, replace=True, n_samples=target_count, random_state=42)\n",
    "    \n",
    "    # Append the resampled data to the list\n",
    "    resampled_data.append(sampled_data)\n",
    "\n",
    "# Concatenate the resampled data for all classes\n",
    "balanced_df = pd.concat(resampled_data)\n",
    "\n",
    "# Displaying the count of samples in each class after balancing the dataset classes \n",
    "print(balanced_df['label'].value_counts())\n"
   ]
  },
  {
   "cell_type": "code",
   "execution_count": 123,
   "id": "e18215b5",
   "metadata": {},
   "outputs": [
    {
     "data": {
      "text/html": [
       "<div>\n",
       "<style scoped>\n",
       "    .dataframe tbody tr th:only-of-type {\n",
       "        vertical-align: middle;\n",
       "    }\n",
       "\n",
       "    .dataframe tbody tr th {\n",
       "        vertical-align: top;\n",
       "    }\n",
       "\n",
       "    .dataframe thead th {\n",
       "        text-align: right;\n",
       "    }\n",
       "</style>\n",
       "<table border=\"1\" class=\"dataframe\">\n",
       "  <thead>\n",
       "    <tr style=\"text-align: right;\">\n",
       "      <th></th>\n",
       "      <th>text</th>\n",
       "      <th>label</th>\n",
       "    </tr>\n",
       "  </thead>\n",
       "  <tbody>\n",
       "    <tr>\n",
       "      <th>2491</th>\n",
       "      <td>feel glad justic serv west said</td>\n",
       "      <td>1</td>\n",
       "    </tr>\n",
       "    <tr>\n",
       "      <th>15585</th>\n",
       "      <td>feel valuabl know consid worth sacrif</td>\n",
       "      <td>1</td>\n",
       "    </tr>\n",
       "    <tr>\n",
       "      <th>15488</th>\n",
       "      <td>certainli felt appropri life supplic life life...</td>\n",
       "      <td>1</td>\n",
       "    </tr>\n",
       "    <tr>\n",
       "      <th>11161</th>\n",
       "      <td>feel assur futur onlin entertain rest good hand</td>\n",
       "      <td>1</td>\n",
       "    </tr>\n",
       "    <tr>\n",
       "      <th>9145</th>\n",
       "      <td>feel thank abl figur wai deal minor effect dealt</td>\n",
       "      <td>1</td>\n",
       "    </tr>\n",
       "    <tr>\n",
       "      <th>...</th>\n",
       "      <td>...</td>\n",
       "      <td>...</td>\n",
       "    </tr>\n",
       "    <tr>\n",
       "      <th>15825</th>\n",
       "      <td>feel game strang realiti swarm violent carnivo...</td>\n",
       "      <td>5</td>\n",
       "    </tr>\n",
       "    <tr>\n",
       "      <th>5319</th>\n",
       "      <td>talk district leader elder hill night explain ...</td>\n",
       "      <td>5</td>\n",
       "    </tr>\n",
       "    <tr>\n",
       "      <th>4775</th>\n",
       "      <td>know isnt real feel strang time</td>\n",
       "      <td>5</td>\n",
       "    </tr>\n",
       "    <tr>\n",
       "      <th>1756</th>\n",
       "      <td>feel kinda strang cau didnt encount feel year</td>\n",
       "      <td>5</td>\n",
       "    </tr>\n",
       "    <tr>\n",
       "      <th>3361</th>\n",
       "      <td>mean recollect feel funni funni sort wai stori...</td>\n",
       "      <td>5</td>\n",
       "    </tr>\n",
       "  </tbody>\n",
       "</table>\n",
       "<p>32172 rows × 2 columns</p>\n",
       "</div>"
      ],
      "text/plain": [
       "                                                    text  label\n",
       "2491                     feel glad justic serv west said      1\n",
       "15585              feel valuabl know consid worth sacrif      1\n",
       "15488  certainli felt appropri life supplic life life...      1\n",
       "11161    feel assur futur onlin entertain rest good hand      1\n",
       "9145    feel thank abl figur wai deal minor effect dealt      1\n",
       "...                                                  ...    ...\n",
       "15825  feel game strang realiti swarm violent carnivo...      5\n",
       "5319   talk district leader elder hill night explain ...      5\n",
       "4775                     know isnt real feel strang time      5\n",
       "1756       feel kinda strang cau didnt encount feel year      5\n",
       "3361   mean recollect feel funni funni sort wai stori...      5\n",
       "\n",
       "[32172 rows x 2 columns]"
      ]
     },
     "execution_count": 123,
     "metadata": {},
     "output_type": "execute_result"
    }
   ],
   "source": [
    "balanced_df"
   ]
  },
  {
   "cell_type": "markdown",
   "id": "b5e2146b",
   "metadata": {},
   "source": [
    "**This graph represents that each labels are balanced with the total data of 5362 in each."
   ]
  },
  {
   "cell_type": "code",
   "execution_count": 32,
   "id": "113154c8",
   "metadata": {},
   "outputs": [
    {
     "data": {
      "image/png": "[encoded data removed]",
      "text/plain": [
       "<Figure size 576x432 with 1 Axes>"
      ]
     },
     "metadata": {
      "needs_background": "light"
     },
     "output_type": "display_data"
    }
   ],
   "source": [
    "# Plot the count of each label\n",
    "plt.figure(figsize=(8, 6))\n",
    "sns.countplot(x='label', data=balanced_df)\n",
    "plt.title('Count of each label')\n",
    "plt.xlabel('Label')\n",
    "plt.ylabel('Count')\n",
    "plt.show()"
   ]
  },
  {
   "cell_type": "code",
   "execution_count": 33,
   "id": "95b24828",
   "metadata": {},
   "outputs": [],
   "source": [
    "\n",
    "\n",
    "# Handle NaN values by replacing them with an empty string\n",
    "balanced_df['text'].fillna('', inplace=True)\n",
    "\n"
   ]
  },
  {
   "cell_type": "code",
   "execution_count": 34,
   "id": "64cec519",
   "metadata": {},
   "outputs": [],
   "source": [
    "\n",
    "#storing the values of each column under texts and labels \n",
    "\n",
    "texts = balanced_df['text'].values\n",
    "labels = balanced_df['label'].values\n",
    "#texts =df['text'].values\n",
    "#labels = df['label'].values\n"
   ]
  },
  {
   "cell_type": "markdown",
   "id": "bf5d3abc",
   "metadata": {},
   "source": [
    "**vectorization-\n",
    "Text vectorization converts text data into numerical vectors, representing features such as word frequencies or semantic meanings. This transformation allows machine learning algorithms to process and analyze text, enabling tasks like sentiment analysis"
   ]
  },
  {
   "cell_type": "code",
   "execution_count": 35,
   "id": "f603c9f4",
   "metadata": {},
   "outputs": [
    {
     "name": "stdout",
     "output_type": "stream",
     "text": [
      "TF-IDF matrix shape: (32172, 5000)\n"
     ]
    }
   ],
   "source": [
    "# Vectorize the text data using TF-IDF\n",
    "vectorizer = TfidfVectorizer(max_features=5000)\n",
    "X = vectorizer.fit_transform(texts)\n",
    "\n",
    "print(f\"TF-IDF matrix shape: {X.shape}\")\n"
   ]
  },
  {
   "cell_type": "markdown",
   "id": "94aa7ef8",
   "metadata": {},
   "source": [
    "## splitiing of dataset"
   ]
  },
  {
   "cell_type": "markdown",
   "id": "a16c534c",
   "metadata": {},
   "source": [
    "30% of the dataset will be stored under temp and 70% of the dataset under training\n",
    "In 30% temp will be divided into testing(20%) and  validation dataset(10%)"
   ]
  },
  {
   "cell_type": "code",
   "execution_count": 36,
   "id": "eeecccb5",
   "metadata": {},
   "outputs": [
    {
     "name": "stdout",
     "output_type": "stream",
     "text": [
      "Training samples: 22520, Testing samples: 6434, Validation samples: 3218\n"
     ]
    }
   ],
   "source": [
    "# Split the data into training (70%), testing (20%), and validation (10%) sets\n",
    "X_train, X_temp, y_train, y_temp = train_test_split(X, labels, test_size=0.3, random_state=42)\n",
    "X_test, X_val, y_test, y_val = train_test_split(X_temp, y_temp, test_size=0.3333, random_state=42)  # 0.3333 * 0.3 = 0.10\n",
    "\n",
    "print(f\"Training samples: {X_train.shape[0]}, Testing samples: {X_test.shape[0]}, Validation samples: {X_val.shape[0]}\")\n"
   ]
  },
  {
   "cell_type": "markdown",
   "id": "39289a00",
   "metadata": {},
   "source": [
    "### smote"
   ]
  },
  {
   "cell_type": "markdown",
   "id": "dd9932c0",
   "metadata": {},
   "source": [
    "SMOTE generates synthetic samples for the minority class by interpolating between existing samples, rather than simply duplicating them. This helps create a more balanced dataset.\n"
   ]
  },
  {
   "cell_type": "code",
   "execution_count": 38,
   "id": "db024eba",
   "metadata": {},
   "outputs": [],
   "source": [
    "# Balance the dataset using SMOTE\n",
    "from imblearn.over_sampling import SMOTE\n",
    "smote = SMOTE(random_state=42)\n",
    "X_train_balanced, y_train_balanced = smote.fit_resample(X_train, y_train)\n",
    "\n"
   ]
  },
  {
   "cell_type": "markdown",
   "id": "e059b24c",
   "metadata": {},
   "source": [
    "## logistic regression"
   ]
  },
  {
   "cell_type": "markdown",
   "id": "887ff6b2",
   "metadata": {},
   "source": [
    "Logistic regression is used for text classification by converting text data into numerical features using techniques like TF-IDF or word embeddings. The model then learns to associate these features with class labels  through training. The trained logistic regression model can then predict the probability that a new text belongs to each class, enabling effective classification."
   ]
  },
  {
   "cell_type": "code",
   "execution_count": 48,
   "id": "e4a71c49",
   "metadata": {},
   "outputs": [
    {
     "name": "stdout",
     "output_type": "stream",
     "text": [
      "Initial Logistic Regression Model\n",
      "Training Classification Report\n",
      "              precision    recall  f1-score   support\n",
      "\n",
      "           0       0.96      0.94      0.95      3785\n",
      "           1       0.96      0.91      0.94      3785\n",
      "           2       0.94      0.97      0.96      3785\n",
      "           3       0.96      0.97      0.96      3785\n",
      "           4       0.97      0.95      0.96      3785\n",
      "           5       0.96      1.00      0.98      3785\n",
      "\n",
      "    accuracy                           0.96     22710\n",
      "   macro avg       0.96      0.96      0.96     22710\n",
      "weighted avg       0.96      0.96      0.96     22710\n",
      "\n",
      "Test Classification Report\n",
      "              precision    recall  f1-score   support\n",
      "\n",
      "           0       0.92      0.89      0.90      1097\n",
      "           1       0.93      0.87      0.90      1104\n",
      "           2       0.91      0.94      0.93      1069\n",
      "           3       0.92      0.96      0.94      1053\n",
      "           4       0.95      0.93      0.94      1054\n",
      "           5       0.95      1.00      0.97      1057\n",
      "\n",
      "    accuracy                           0.93      6434\n",
      "   macro avg       0.93      0.93      0.93      6434\n",
      "weighted avg       0.93      0.93      0.93      6434\n",
      "\n"
     ]
    }
   ],
   "source": [
    "\n",
    "\n",
    "# Step 1: Build the initial model\n",
    "lr_model = LogisticRegression(max_iter=1000)#to overcome the error (reached limit)\n",
    "lr_model.fit(X_train_balanced, y_train_balanced)\n",
    "train_predictions_lr = lr_model.predict(X_train_balanced)\n",
    "test_predictions_lr = lr_model.predict(X_test)\n",
    "\n",
    "print(\"Initial Logistic Regression Model\")\n",
    "print(\"Training Classification Report\")\n",
    "#print of the classification reprot of the training dataset\n",
    "print(classification_report(y_train_balanced, train_predictions_lr))\n",
    "print(\"Test Classification Report\")\n",
    "#print of the classification reprot of the testing dataset\n",
    "print(classification_report(y_test, test_predictions_lr))\n",
    "\n"
   ]
  },
  {
   "cell_type": "markdown",
   "id": "3ebcbec2",
   "metadata": {},
   "source": [
    "the accuracy of the training dataset is 96% and testing dataset is 93%"
   ]
  },
  {
   "cell_type": "markdown",
   "id": "9a633a1b",
   "metadata": {},
   "source": [
    "## Hyperparameter tuning for the logistic regression"
   ]
  },
  {
   "cell_type": "markdown",
   "id": "3b3f518c",
   "metadata": {},
   "source": [
    "**GridSearchCV - GridSearchCV in machine learning is a technique for hyperparameter tuning that exhaustively searches over a specified parameter grid to find the optimal hyperparameters for a model. It uses cross-validation to evaluate model performance for each combination of parameters, ensuring robust and unbiased selection. This process helps improve model accuracy and generalizability by identifying the best set of parameters."
   ]
  },
  {
   "cell_type": "markdown",
   "id": "86a892af",
   "metadata": {},
   "source": [
    "**Hyperparameter tuning for logistic regression is performed using `GridSearchCV` with a parameter grid for `C` and solver, optimizing over 5-fold cross-validation. The best parameters are identified, and the corresponding model is used to make predictions on the balanced training set and test set. Classification reports for both sets and the best parameters are printed to evaluate model performance."
   ]
  },
  {
   "cell_type": "markdown",
   "id": "4ba1cd70",
   "metadata": {},
   "source": [
    "The parameter grid specifies different values for two hyperparameters of logistic regression: 'C' and 'solver'. 'C' controls the regularization strength, with smaller values indicating stronger regularization. 'solver' determines the optimization algorithm, where 'liblinear' is suitable for small datasets while 'lbfgs' is better for larger datasets."
   ]
  },
  {
   "cell_type": "code",
   "execution_count": 51,
   "id": "5988f8b2",
   "metadata": {},
   "outputs": [
    {
     "name": "stdout",
     "output_type": "stream",
     "text": [
      "Logistic Regression Model with Best Parameters\n",
      "Training Classification Report (Best Params):\n",
      "              precision    recall  f1-score   support\n",
      "\n",
      "           0       0.99      0.98      0.99      3785\n",
      "           1       0.99      0.97      0.98      3785\n",
      "           2       0.98      0.99      0.99      3785\n",
      "           3       0.99      0.99      0.99      3785\n",
      "           4       0.99      0.98      0.99      3785\n",
      "           5       0.99      1.00      0.99      3785\n",
      "\n",
      "    accuracy                           0.99     22710\n",
      "   macro avg       0.99      0.99      0.99     22710\n",
      "weighted avg       0.99      0.99      0.99     22710\n",
      "\n",
      "Test Classification Report (Best Params):\n",
      "              precision    recall  f1-score   support\n",
      "\n",
      "           0       0.94      0.91      0.93      1097\n",
      "           1       0.95      0.90      0.92      1104\n",
      "           2       0.94      0.98      0.96      1069\n",
      "           3       0.95      0.97      0.96      1053\n",
      "           4       0.97      0.96      0.97      1054\n",
      "           5       0.98      1.00      0.99      1057\n",
      "\n",
      "    accuracy                           0.95      6434\n",
      "   macro avg       0.95      0.95      0.95      6434\n",
      "weighted avg       0.95      0.95      0.95      6434\n",
      "\n",
      "{'C': 10, 'solver': 'lbfgs'}\n"
     ]
    }
   ],
   "source": [
    "# Step 2: Hyperparameter Tuning using GridSearchCV\n",
    "param_grid = {'C': [0.1, 1, 10], 'solver': ['liblinear', 'lbfgs']}\n",
    "\n",
    "grid_search = GridSearchCV(LogisticRegression(max_iter=1000, random_state=42), param_grid, cv=5)\n",
    "grid_search.fit(X_train_balanced, y_train_balanced)\n",
    "\n",
    "# Best parameters\n",
    "best_params = grid_search.best_params_\n",
    "logreg_best = grid_search.best_estimator_\n",
    "\n",
    "# Generate classification report with best parameters\n",
    "y_train_pred_best_lr = logreg_best.predict(X_train_balanced)\n",
    "y_test_pred_best_lr = logreg_best.predict(X_test)\n",
    "\n",
    "print(\"Logistic Regression Model with Best Parameters\")\n",
    "print(\"Training Classification Report (Best Params):\")\n",
    "print(classification_report(y_train_balanced, y_train_pred_best_lr))\n",
    "print(\"Test Classification Report (Best Params):\")\n",
    "print(classification_report(y_test, y_test_pred_best_lr))\n",
    "print(best_params)"
   ]
  },
  {
   "cell_type": "markdown",
   "id": "7fde25ab",
   "metadata": {},
   "source": [
    "after the hyperparameter tuning the model generated 99% of accuracy for the training dataset and 95% for the testing dataset and the best parameters are \"C\":10 and solver:\"lbfgs\""
   ]
  },
  {
   "cell_type": "code",
   "execution_count": 55,
   "id": "d0db9003",
   "metadata": {},
   "outputs": [
    {
     "data": {
      "image/png": "[encoded data removed]",
      "text/plain": [
       "<Figure size 864x360 with 4 Axes>"
      ]
     },
     "metadata": {
      "needs_background": "light"
     },
     "output_type": "display_data"
    }
   ],
   "source": [
    "# Confusion Matrix for initial model(before hyperparameter tuning)\n",
    "train_cm_initial = confusion_matrix(y_train_balanced, train_predictions_lr)\n",
    "test_cm_initial = confusion_matrix(y_test, test_predictions_lr)\n",
    "\n",
    "plt.figure(figsize=(12, 5))\n",
    "plt.subplot(1, 2, 1)\n",
    "sns.heatmap(train_cm_initial, annot=True, fmt='d', cmap='Reds')\n",
    "plt.title('Training Confusion Matrix (Initial)')\n",
    "plt.xlabel('Predicted')\n",
    "plt.ylabel('Actual')\n",
    "\n",
    "plt.subplot(1, 2, 2)\n",
    "sns.heatmap(test_cm_initial, annot=True, fmt='d', cmap='Reds')\n",
    "plt.title('Test Confusion Matrix (Initial)')\n",
    "plt.xlabel('Predicted')\n",
    "plt.ylabel('Actual')\n",
    "\n",
    "plt.show()"
   ]
  },
  {
   "cell_type": "markdown",
   "id": "99821b5b",
   "metadata": {},
   "source": [
    "this is the confusion matrix for the training dataset without hyperparamter tuning \n",
    "where this give wrong classifications for the  label love and  joy which  which is 169\n",
    "the highest number of correct classification is given for suprise label which is  3780\n",
    "TESTING DATASET CONFUSION MATRIX:\n",
    "this gives highest number of wrong classification for the same class as in training dataset that is for label love and joy which is 60, the model predicted that it is love label but actual value is joy\n",
    "the highest number of correct classification is given for suprise label which is  1057"
   ]
  },
  {
   "cell_type": "code",
   "execution_count": 54,
   "id": "0c78b635",
   "metadata": {},
   "outputs": [
    {
     "data": {
      "image/png": "[encoded data removed]",
      "text/plain": [
       "<Figure size 864x360 with 4 Axes>"
      ]
     },
     "metadata": {
      "needs_background": "light"
     },
     "output_type": "display_data"
    }
   ],
   "source": [
    "# Confusion Matrix for model with best parameters(after hyperparameter tuning)\n",
    "train_cm_best_lr = confusion_matrix(y_train_balanced, y_train_pred_best_lr)\n",
    "test_cm_best_lr = confusion_matrix(y_test, y_test_pred_best_lr)\n",
    "\n",
    "plt.figure(figsize=(12, 5))\n",
    "plt.subplot(1, 2, 1)\n",
    "sns.heatmap(train_cm_best_lr, annot=True, fmt='d', cmap='Reds')\n",
    "plt.title('Training Confusion Matrix (Best Params)')\n",
    "plt.xlabel('Predicted')\n",
    "plt.ylabel('Actual')\n",
    "\n",
    "plt.subplot(1, 2, 2)\n",
    "sns.heatmap(test_cm_best_lr, annot=True, fmt='d', cmap='Reds')\n",
    "plt.title('Test Confusion Matrix (Best Params)')\n",
    "plt.xlabel('Predicted')\n",
    "plt.ylabel('Actual')\n",
    "\n",
    "plt.show()"
   ]
  },
  {
   "cell_type": "markdown",
   "id": "30c8a45c",
   "metadata": {},
   "source": [
    "**AFTER HYPERPARAMETER TUNING**\n",
    "**training dataset**\n",
    "the highest number of correct classification is given for suprise label which is  3785\n",
    "highest number of wrong classification for the same class as in training dataset that is for label love and joy which is 59, the model predicted that it is love label but actual value is joy,this is decreased when compared to the model without hyperparameter tuning\n",
    "***testing dataset***\n",
    "this gives highest number of wrong classification for the same class as in training dataset that is for label love and joy which is 48, the model predicted that it is love label but actual value is joy\n",
    "the highest number of correct classification is given for suprise label which is  1057\n",
    "\n",
    "\n",
    "**what we can understand is the misclassification is reduced compared to the normal model without hyperparamter tuning**"
   ]
  },
  {
   "cell_type": "markdown",
   "id": "c454fbaf",
   "metadata": {},
   "source": [
    "## random forest"
   ]
  },
  {
   "cell_type": "markdown",
   "id": "cb43fd6c",
   "metadata": {},
   "source": [
    "Random Forest is an ensemble learning method used for classification and regression tasks. It builds multiple decision trees during training and combines their predictions through averaging (for regression) or voting (for classification). This technique improves predictive accuracy and reduces overfitting compared to individual trees. "
   ]
  },
  {
   "cell_type": "code",
   "execution_count": 56,
   "id": "6d4f845c",
   "metadata": {},
   "outputs": [
    {
     "name": "stdout",
     "output_type": "stream",
     "text": [
      "Training Classification Report:\n",
      "               precision    recall  f1-score   support\n",
      "\n",
      "           0       1.00      1.00      1.00      3785\n",
      "           1       1.00      0.99      1.00      3785\n",
      "           2       1.00      1.00      1.00      3785\n",
      "           3       1.00      1.00      1.00      3785\n",
      "           4       1.00      0.99      1.00      3785\n",
      "           5       1.00      1.00      1.00      3785\n",
      "\n",
      "    accuracy                           1.00     22710\n",
      "   macro avg       1.00      1.00      1.00     22710\n",
      "weighted avg       1.00      1.00      1.00     22710\n",
      "\n",
      "Test Classification Report:\n",
      "               precision    recall  f1-score   support\n",
      "\n",
      "           0       0.98      0.91      0.94      1097\n",
      "           1       0.97      0.90      0.93      1104\n",
      "           2       0.93      1.00      0.96      1069\n",
      "           3       0.96      0.98      0.97      1053\n",
      "           4       0.96      0.98      0.97      1054\n",
      "           5       0.97      1.00      0.98      1057\n",
      "\n",
      "    accuracy                           0.96      6434\n",
      "   macro avg       0.96      0.96      0.96      6434\n",
      "weighted avg       0.96      0.96      0.96      6434\n",
      "\n"
     ]
    }
   ],
   "source": [
    "from sklearn.ensemble import RandomForestClassifier\n",
    "\n",
    "# Step 1: Build the model\n",
    "rf = RandomForestClassifier(random_state=42)\n",
    "rf.fit(X_train_balanced, y_train_balanced)\n",
    "\n",
    "# Generate classification report for Training and Test datasets\n",
    "y_train_pred_rf = rf.predict(X_train_balanced)\n",
    "y_test_pred_rf= rf.predict(X_test)\n",
    "\n",
    "print(\"Training Classification Report:\\n\", classification_report(y_train_balanced, y_train_pred_rf))\n",
    "print(\"Test Classification Report:\\n\", classification_report(y_test, y_test_pred_rf))\n",
    "\n"
   ]
  },
  {
   "cell_type": "markdown",
   "id": "435206fc",
   "metadata": {},
   "source": [
    "it provides 100% accuracy for the training dataset and 96% accuracy for the testing dataset which might lead to overfitting of the model , to overcome this we can use hyperparameter tuning using Gridsearch or binarysearch."
   ]
  },
  {
   "cell_type": "markdown",
   "id": "6e3b9e95",
   "metadata": {},
   "source": [
    "'n_estimators' determines the number of decision trees in the forest, influencing model complexity and computational cost.\n",
    "'max_depth' restricts the maximum depth of each tree, preventing overfitting by controlling tree complexity."
   ]
  },
  {
   "cell_type": "code",
   "execution_count": 58,
   "id": "39417d40",
   "metadata": {},
   "outputs": [
    {
     "name": "stdout",
     "output_type": "stream",
     "text": [
      "Training Classification Report (Best Params):\n",
      "               precision    recall  f1-score   support\n",
      "\n",
      "           0       0.87      0.87      0.87      3785\n",
      "           1       0.82      0.83      0.82      3785\n",
      "           2       0.87      0.92      0.89      3785\n",
      "           3       0.93      0.92      0.93      3785\n",
      "           4       0.98      0.84      0.90      3785\n",
      "           5       0.90      1.00      0.95      3785\n",
      "\n",
      "    accuracy                           0.89     22710\n",
      "   macro avg       0.90      0.89      0.89     22710\n",
      "weighted avg       0.90      0.89      0.89     22710\n",
      "\n",
      "Test Classification Report (Best Params):\n",
      "               precision    recall  f1-score   support\n",
      "\n",
      "           0       0.86      0.80      0.83      1097\n",
      "           1       0.80      0.78      0.79      1104\n",
      "           2       0.84      0.91      0.87      1069\n",
      "           3       0.90      0.91      0.90      1053\n",
      "           4       0.94      0.82      0.88      1054\n",
      "           5       0.89      0.99      0.94      1057\n",
      "\n",
      "    accuracy                           0.87      6434\n",
      "   macro avg       0.87      0.87      0.87      6434\n",
      "weighted avg       0.87      0.87      0.87      6434\n",
      "\n",
      "{'max_depth': 20, 'n_estimators': 200}\n"
     ]
    }
   ],
   "source": [
    "# Step 2: Hyperparameter Tuning using GridSearchCV\n",
    "param_grid = {'n_estimators': [100, 200], 'max_depth': [10, 20]}\n",
    "grid_search = GridSearchCV(RandomForestClassifier(random_state=42), param_grid, cv=5)\n",
    "grid_search.fit(X_train_balanced, y_train_balanced)\n",
    "\n",
    "# Best parameters\n",
    "best_params = grid_search.best_params_\n",
    "rf_best = grid_search.best_estimator_\n",
    "\n",
    "# Generate classification report with best parameters\n",
    "y_train_pred_best_rf = rf_best.predict(X_train_balanced)\n",
    "y_test_pred_best_rf = rf_best.predict(X_test)\n",
    "\n",
    "print(\"Training Classification Report (Best Params):\\n\", classification_report(y_train_balanced, y_train_pred_best_rf))\n",
    "print(\"Test Classification Report (Best Params):\\n\", classification_report(y_test, y_test_pred_best_rf))\n",
    "print(best_params)\n"
   ]
  },
  {
   "cell_type": "markdown",
   "id": "d2569052",
   "metadata": {},
   "source": [
    "after the hyperparameter tuning the accuracy is 89% for training dataset and 87% for the testing dataset \n",
    "which is quite less compare to the normal model .\n",
    "and the best parameters are 'max_depth': 20, 'n_estimators': 200"
   ]
  },
  {
   "cell_type": "code",
   "execution_count": 59,
   "id": "9f9c1fe3",
   "metadata": {},
   "outputs": [
    {
     "data": {
      "image/png": "[encoded data removed]",
      "text/plain": [
       "<Figure size 864x360 with 4 Axes>"
      ]
     },
     "metadata": {
      "needs_background": "light"
     },
     "output_type": "display_data"
    }
   ],
   "source": [
    "# Confusion Matrix for initial model\n",
    "train_cm = confusion_matrix(y_train_balanced, y_train_pred_rf)\n",
    "test_cm = confusion_matrix(y_test, y_test_pred_rf)\n",
    "\n",
    "plt.figure(figsize=(12, 5))\n",
    "plt.subplot(1, 2, 1)\n",
    "sns.heatmap(train_cm, annot=True, fmt='d', cmap='Reds')\n",
    "plt.title('Training Confusion Matrix (Initial)')\n",
    "plt.xlabel('Predicted')\n",
    "plt.ylabel('Actual')\n",
    "\n",
    "plt.subplot(1, 2, 2)\n",
    "sns.heatmap(test_cm, annot=True, fmt='d', cmap='Reds')\n",
    "plt.title('Test Confusion Matrix (Initial)')\n",
    "plt.xlabel('Predicted')\n",
    "plt.ylabel('Actual')\n",
    "\n",
    "plt.show()\n"
   ]
  },
  {
   "cell_type": "markdown",
   "id": "b76234c7",
   "metadata": {},
   "source": [
    "**without hyperparamter tuning\n",
    "**training dataset**\n",
    "this gives highest number of wrong classification for the same class as in training dataset that is for label fear and surprise which is 16, the model predicted that it is surprise label but actual value is fear\n",
    "the highest number of correct classification is given for LOVE label which is  3785\n",
    "**testing dataset**\n",
    "this gives highest number of wrong classification for the same class as in training dataset that is for label love and joy which is 55, the model predicted that it is love label but actual value is joy\n",
    "the highest number of correct classification is given for love label which is  1067"
   ]
  },
  {
   "cell_type": "code",
   "execution_count": 60,
   "id": "d5bdce9b",
   "metadata": {},
   "outputs": [
    {
     "data": {
      "image/png": "[encoded data removed]",
      "text/plain": [
       "<Figure size 864x360 with 4 Axes>"
      ]
     },
     "metadata": {
      "needs_background": "light"
     },
     "output_type": "display_data"
    }
   ],
   "source": [
    "# Confusion Matrix for model with best parameters\n",
    "train_cm_best = confusion_matrix(y_train_balanced, y_train_pred_best_rf)\n",
    "test_cm_best = confusion_matrix(y_test, y_test_pred_best_rf)\n",
    "\n",
    "plt.figure(figsize=(12, 5))\n",
    "plt.subplot(1, 2, 1)\n",
    "sns.heatmap(train_cm_best, annot=True, fmt='d', cmap='Reds')\n",
    "plt.title('Training Confusion Matrix (Best Params)')\n",
    "plt.xlabel('Predicted')\n",
    "plt.ylabel('Actual')\n",
    "\n",
    "plt.subplot(1, 2, 2)\n",
    "sns.heatmap(test_cm_best, annot=True, fmt='d', cmap='Reds')\n",
    "plt.title('Test Confusion Matrix (Best Params)')\n",
    "plt.xlabel('Predicted')\n",
    "plt.ylabel('Actual')\n",
    "\n",
    "plt.show()"
   ]
  },
  {
   "cell_type": "markdown",
   "id": "b75cdc13",
   "metadata": {},
   "source": [
    "**after hyperparameter tuning**\n",
    "**training dataset**\n",
    "this gives highest number of wrong classification for the same class as in training dataset that is for label fear and surprise which is 286, the model predicted that it is surprise label but actual value is fear\n",
    "the highest number of correct classification is given for suprise label which is  3769\n",
    "**testing dataset**\n",
    "this gives highest number of wrong classification for the same class as in training dataset that is for label joy and love which is 108, the model predicted that it is love label but actual value is joy\n",
    "the highest number of correct classification is given for suprise label which is  1050\n",
    "\n",
    "**this model generates more number of wrong classification \n"
   ]
  },
  {
   "cell_type": "markdown",
   "id": "bd79f775",
   "metadata": {},
   "source": [
    "## xgboost"
   ]
  },
  {
   "cell_type": "markdown",
   "id": "79760318",
   "metadata": {},
   "source": [
    "XGBoost sequentially builds an ensemble of decision trees to minimize a predefined objective function iteratively. It incorporates regularization techniques to prevent overfitting and is highly efficient and scalable, delivering top-tier performance in supervised learning tasks."
   ]
  },
  {
   "cell_type": "code",
   "execution_count": 62,
   "id": "7b43d35b",
   "metadata": {},
   "outputs": [
    {
     "name": "stdout",
     "output_type": "stream",
     "text": [
      "Training Classification Report:\n",
      "               precision    recall  f1-score   support\n",
      "\n",
      "           0       0.99      0.91      0.95      3785\n",
      "           1       0.95      0.91      0.93      3785\n",
      "           2       0.94      0.99      0.96      3785\n",
      "           3       0.94      0.99      0.96      3785\n",
      "           4       0.98      0.95      0.97      3785\n",
      "           5       0.96      1.00      0.98      3785\n",
      "\n",
      "    accuracy                           0.96     22710\n",
      "   macro avg       0.96      0.96      0.96     22710\n",
      "weighted avg       0.96      0.96      0.96     22710\n",
      "\n",
      "Test Classification Report:\n",
      "               precision    recall  f1-score   support\n",
      "\n",
      "           0       0.97      0.86      0.91      1097\n",
      "           1       0.92      0.87      0.89      1104\n",
      "           2       0.91      0.97      0.94      1069\n",
      "           3       0.92      0.97      0.94      1053\n",
      "           4       0.94      0.92      0.93      1054\n",
      "           5       0.93      1.00      0.97      1057\n",
      "\n",
      "    accuracy                           0.93      6434\n",
      "   macro avg       0.93      0.93      0.93      6434\n",
      "weighted avg       0.93      0.93      0.93      6434\n",
      "\n"
     ]
    }
   ],
   "source": [
    "\n",
    "# Step 1: Build the model\n",
    "xgb_model = xgb.XGBClassifier(random_state=42)\n",
    "xgb_model.fit(X_train_balanced, y_train_balanced)\n",
    "\n",
    "# Generate classification report for Training and Test datasets\n",
    "y_train_pred_xgb = xgb_model.predict(X_train_balanced)\n",
    "y_test_pred_xgb = xgb_model.predict(X_test)\n",
    "\n",
    "print(\"Training Classification Report:\\n\", classification_report(y_train_balanced, y_train_pred_xgb))\n",
    "print(\"Test Classification Report:\\n\", classification_report(y_test, y_test_pred_xgb))\n",
    "\n",
    "\n"
   ]
  },
  {
   "cell_type": "markdown",
   "id": "b5181d98",
   "metadata": {},
   "source": [
    "This model provided the 96% accuracy for the training dataset and 93% accuracy for trainig dataset"
   ]
  },
  {
   "cell_type": "markdown",
   "id": "1cb308cd",
   "metadata": {},
   "source": [
    "'n_estimators': Determines the number of trees to be built in the ensemble. Higher values can improve performance but increase computational cost.\n",
    "\n",
    "'learning_rate': Controls the step size at each iteration of gradient boosting. Smaller values make the model more robust to overfitting but require more iterations for convergence."
   ]
  },
  {
   "cell_type": "code",
   "execution_count": 63,
   "id": "ec2f23e1",
   "metadata": {},
   "outputs": [
    {
     "name": "stdout",
     "output_type": "stream",
     "text": [
      "Training Classification Report (Best Params):\n",
      "               precision    recall  f1-score   support\n",
      "\n",
      "           0       0.98      0.89      0.93      3785\n",
      "           1       0.92      0.88      0.90      3785\n",
      "           2       0.91      0.98      0.94      3785\n",
      "           3       0.93      0.97      0.95      3785\n",
      "           4       0.97      0.91      0.94      3785\n",
      "           5       0.92      1.00      0.96      3785\n",
      "\n",
      "    accuracy                           0.94     22710\n",
      "   macro avg       0.94      0.94      0.94     22710\n",
      "weighted avg       0.94      0.94      0.94     22710\n",
      "\n",
      "Test Classification Report (Best Params):\n",
      "               precision    recall  f1-score   support\n",
      "\n",
      "           0       0.96      0.84      0.90      1097\n",
      "           1       0.90      0.86      0.88      1104\n",
      "           2       0.88      0.96      0.92      1069\n",
      "           3       0.90      0.95      0.92      1053\n",
      "           4       0.93      0.89      0.91      1054\n",
      "           5       0.91      1.00      0.95      1057\n",
      "\n",
      "    accuracy                           0.91      6434\n",
      "   macro avg       0.92      0.91      0.91      6434\n",
      "weighted avg       0.92      0.91      0.91      6434\n",
      "\n",
      "{'learning_rate': 0.1, 'n_estimators': 200}\n"
     ]
    }
   ],
   "source": [
    "#hyperparameter tuning\n",
    "param_grid = {'n_estimators': [100, 200], 'learning_rate': [0.01, 0.1]}\n",
    "grid_search = GridSearchCV(xgb.XGBClassifier(random_state=42), param_grid, cv=5)\n",
    "grid_search.fit(X_train_balanced, y_train_balanced)\n",
    "\n",
    "# Best parameters\n",
    "best_params = grid_search.best_params_\n",
    "xgb_best = grid_search.best_estimator_\n",
    "\n",
    "# Generate classification report with best parameters\n",
    "y_train_pred_best_xgb = xgb_best.predict(X_train_balanced)\n",
    "y_test_pred_best_xgb = xgb_best.predict(X_test)\n",
    "\n",
    "print(\"Training Classification Report (Best Params):\\n\", classification_report(y_train_balanced, y_train_pred_best_xgb))\n",
    "print(\"Test Classification Report (Best Params):\\n\", classification_report(y_test, y_test_pred_best_xgb))\n",
    "\n",
    "print(best_params)"
   ]
  },
  {
   "cell_type": "markdown",
   "id": "71315251",
   "metadata": {},
   "source": [
    "**AFTER HYPERPARAMETR TUNING FOR XGBOOST**\n",
    "this model provided 91% accuracy for testing dataset and 94% accuracy for training dataset\n",
    "best parameters are 'learning_rate': 0.1, 'n_estimators': 200\n"
   ]
  },
  {
   "cell_type": "code",
   "execution_count": 64,
   "id": "572af7a8",
   "metadata": {},
   "outputs": [
    {
     "data": {
      "image/png": "[encoded data removed]",
      "text/plain": [
       "<Figure size 864x360 with 4 Axes>"
      ]
     },
     "metadata": {
      "needs_background": "light"
     },
     "output_type": "display_data"
    }
   ],
   "source": [
    "# Confusion Matrix for initial model\n",
    "train_cm = confusion_matrix(y_train_balanced, y_train_pred_xgb)\n",
    "test_cm = confusion_matrix(y_test, y_test_pred_xgb)\n",
    "\n",
    "plt.figure(figsize=(12, 5))\n",
    "plt.subplot(1, 2, 1)\n",
    "sns.heatmap(train_cm, annot=True, fmt='d', cmap='Reds')\n",
    "plt.title('Training Confusion Matrix (Initial)')\n",
    "plt.xlabel('Predicted')\n",
    "plt.ylabel('Actual')\n",
    "\n",
    "plt.subplot(1, 2, 2)\n",
    "sns.heatmap(test_cm, annot=True, fmt='d', cmap='Reds')\n",
    "plt.title('Test Confusion Matrix (Initial)')\n",
    "plt.xlabel('Predicted')\n",
    "plt.ylabel('Actual')\n",
    "\n",
    "plt.show()"
   ]
  },
  {
   "cell_type": "markdown",
   "id": "31fb42c0",
   "metadata": {},
   "source": [
    "**BEFORE HYPERPARAMETER TUNING**\n",
    "**training dataset**\n",
    "the highest number of correct classification is given for suprise label which is  3785\n",
    "highest number of wrong classification for the same class as in training dataset that is for label love and joy which is 204, the model predicted that it is love label but actual value is joy.t\n",
    "***testing dataset***\n",
    "this gives highest number of wrong classification for the same class as in training dataset that is for label love and joy which is 72, the model predicted that it is love label but actual value is joy\n",
    "the highest number of correct classification is given for suprise label which is  1057"
   ]
  },
  {
   "cell_type": "code",
   "execution_count": 65,
   "id": "a7a8b595",
   "metadata": {},
   "outputs": [
    {
     "data": {
      "image/png": "[encoded data removed]",
      "text/plain": [
       "<Figure size 864x360 with 4 Axes>"
      ]
     },
     "metadata": {
      "needs_background": "light"
     },
     "output_type": "display_data"
    }
   ],
   "source": [
    "# Confusion Matrix for best model(after hyperparameter tuning)\n",
    "train_cm = confusion_matrix(y_train_balanced, y_train_pred_best_xgb)\n",
    "test_cm = confusion_matrix(y_test, y_test_pred_best_xgb)\n",
    "\n",
    "plt.figure(figsize=(12, 5))\n",
    "plt.subplot(1, 2, 1)\n",
    "sns.heatmap(train_cm, annot=True, fmt='d', cmap='Reds')\n",
    "plt.title('Training Confusion Matrix (Initial)')\n",
    "plt.xlabel('Predicted')\n",
    "plt.ylabel('Actual')\n",
    "\n",
    "plt.subplot(1, 2, 2)\n",
    "sns.heatmap(test_cm, annot=True, fmt='d', cmap='Reds')\n",
    "plt.title('Test Confusion Matrix (Initial)')\n",
    "plt.xlabel('Predicted')\n",
    "plt.ylabel('Actual')\n",
    "\n",
    "plt.show()"
   ]
  },
  {
   "cell_type": "markdown",
   "id": "beef7f7c",
   "metadata": {},
   "source": [
    "**BEFORE HYPERPARAMETER TUNING**\n",
    "**training dataset**\n",
    "the highest number of correct classification is given for suprise label which is  3785\n",
    "highest number of wrong classification for the same class as in training dataset that is for label love and joy which is 277, the model predicted that it is love label but actual value is joy.\n",
    "***testing dataset***\n",
    "this gives highest number of wrong classification for the same class as in training dataset that is for label love and joy which is 81, the model predicted that it is love label but actual value is joy\n",
    "the highest number of correct classification is given for suprise label which is  1057\n",
    "\n",
    "the amount of prediction which is wrongly classified is increased from normal model to hyperparamter tuning "
   ]
  },
  {
   "cell_type": "markdown",
   "id": "cc261f40",
   "metadata": {},
   "source": [
    "## svm"
   ]
  },
  {
   "cell_type": "markdown",
   "id": "52ca99cd",
   "metadata": {},
   "source": [
    "'kernel': Specifies the type of kernel used for transforming the input data into higher-dimensional space. 'linear' indicates a linear kernel, suitable for linearly separable data.\n",
    "\n",
    "'C': Represents the regularization parameter, controlling the trade-off between maximizing the margin and minimizing the classification error. Higher values of 'C' prioritize correct classification of training data points, potentially leading to overfitting.\n",
    "\n",
    "'random_state': Sets the random seed for reproducibility, ensuring consistent results across multiple runs of the model."
   ]
  },
  {
   "cell_type": "markdown",
   "id": "20235754",
   "metadata": {},
   "source": [
    "SVM (Support Vector Machine) is a supervised learning algorithm used for classification and regression tasks. It finds the hyperplane that best separates different classes in the feature space, maximizing the margin between classes. SVM can handle high-dimensional data and is effective even in cases of small datasets."
   ]
  },
  {
   "cell_type": "code",
   "execution_count": 67,
   "id": "01974c5f",
   "metadata": {},
   "outputs": [
    {
     "name": "stdout",
     "output_type": "stream",
     "text": [
      "Accuracy: 0.9683399383531484\n",
      "Classification Report:\n",
      "               precision    recall  f1-score   support\n",
      "\n",
      "           0       0.97      0.95      0.96      3785\n",
      "           1       0.98      0.92      0.95      3785\n",
      "           2       0.95      0.99      0.97      3785\n",
      "           3       0.96      0.98      0.97      3785\n",
      "           4       0.97      0.97      0.97      3785\n",
      "           5       0.98      1.00      0.99      3785\n",
      "\n",
      "    accuracy                           0.97     22710\n",
      "   macro avg       0.97      0.97      0.97     22710\n",
      "weighted avg       0.97      0.97      0.97     22710\n",
      "\n"
     ]
    }
   ],
   "source": [
    "\n",
    "# Create an SVM classifier with a linear kernel\n",
    "from sklearn.metrics import classification_report, accuracy_score\n",
    "from sklearn.svm import SVC\n",
    "svm = SVC(kernel='linear', C=1.0, random_state=42)\n",
    "\n",
    "# Train the classifier\n",
    "svm.fit(X_train_balanced, y_train_balanced)\n",
    "\n",
    "# Make predictions\n",
    "y_pred_train_svm= svm.predict(X_train_balanced)\n",
    "\n",
    "# Evaluate the classifier\n",
    "print(\"Accuracy:\", accuracy_score(y_train_balanced, y_pred_train_svm))\n",
    "print(\"Classification Report:\\n\", classification_report(y_train_balanced, y_pred_train_svm))\n",
    "\n"
   ]
  },
  {
   "cell_type": "markdown",
   "id": "d1576105",
   "metadata": {},
   "source": [
    "The accuracy of the training dataset is 97%"
   ]
  },
  {
   "cell_type": "code",
   "execution_count": 68,
   "id": "028165f5",
   "metadata": {},
   "outputs": [
    {
     "name": "stdout",
     "output_type": "stream",
     "text": [
      "Accuracy: 0.9661175007771216\n",
      "Classification Report:\n",
      "               precision    recall  f1-score   support\n",
      "\n",
      "           0       0.98      0.96      0.97      1097\n",
      "           1       0.97      0.92      0.95      1104\n",
      "           2       0.94      0.98      0.96      1069\n",
      "           3       0.96      0.98      0.97      1053\n",
      "           4       0.98      0.96      0.97      1054\n",
      "           5       0.96      1.00      0.98      1057\n",
      "\n",
      "    accuracy                           0.97      6434\n",
      "   macro avg       0.97      0.97      0.97      6434\n",
      "weighted avg       0.97      0.97      0.97      6434\n",
      "\n"
     ]
    }
   ],
   "source": [
    "#test the classifier\n",
    "svm.fit(X_test, y_test)\n",
    "\n",
    "# Make predictions\n",
    "y_pred_test_svm= svm.predict(X_test)\n",
    "\n",
    "# Evaluate the classifier\n",
    "print(\"Accuracy:\", accuracy_score(y_test, y_pred_test_svm))\n",
    "print(\"Classification Report:\\n\", classification_report(y_test, y_pred_test_svm))"
   ]
  },
  {
   "cell_type": "markdown",
   "id": "6fae00e7",
   "metadata": {},
   "source": [
    "The accuracy of the testing dataset is 97% \n",
    " the model has learned the underlying patterns in the training data well and is able to generalize effectively to unseen data."
   ]
  },
  {
   "cell_type": "markdown",
   "id": "b5bdd8bb",
   "metadata": {},
   "source": [
    "'C': Controls the penalty for misclassification. Smaller values enforce a smoother decision boundary, while larger values allow more complex boundaries.\n",
    "\n",
    "'kernel': Specifies the type of function used to transform the input data. 'linear' assumes a linear relationship between features, while 'rbf' handles non-linear relationships by projecting data into a higher-dimensional space."
   ]
  },
  {
   "cell_type": "code",
   "execution_count": 79,
   "id": "6dd2f396",
   "metadata": {},
   "outputs": [
    {
     "name": "stdout",
     "output_type": "stream",
     "text": [
      "Training Classification Report (Best Params):\n",
      "               precision    recall  f1-score   support\n",
      "\n",
      "           0       1.00      0.99      0.99      3785\n",
      "           1       1.00      0.98      0.99      3785\n",
      "           2       0.99      1.00      0.99      3785\n",
      "           3       0.99      1.00      0.99      3785\n",
      "           4       0.99      0.99      0.99      3785\n",
      "           5       0.99      1.00      0.99      3785\n",
      "\n",
      "    accuracy                           0.99     22710\n",
      "   macro avg       0.99      0.99      0.99     22710\n",
      "weighted avg       0.99      0.99      0.99     22710\n",
      "\n",
      "Test Classification Report (Best Params):\n",
      "               precision    recall  f1-score   support\n",
      "\n",
      "           0       0.95      0.93      0.94      1097\n",
      "           1       0.94      0.92      0.93      1104\n",
      "           2       0.96      0.98      0.97      1069\n",
      "           3       0.96      0.96      0.96      1053\n",
      "           4       0.98      0.97      0.97      1054\n",
      "           5       0.98      1.00      0.99      1057\n",
      "\n",
      "    accuracy                           0.96      6434\n",
      "   macro avg       0.96      0.96      0.96      6434\n",
      "weighted avg       0.96      0.96      0.96      6434\n",
      "\n",
      "Best Hyperparameters: {'C': 1, 'kernel': 'rbf'}\n"
     ]
    }
   ],
   "source": [
    "param_grid = {\n",
    "    'C': [0.1, 1],          # Regularization parameter\n",
    "    'kernel': ['linear', 'rbf'] # Kernel type\n",
    "}\n",
    "\n",
    "# Perform GridSearchCV to find the best hyperparameters\n",
    "grid_search = GridSearchCV(SVC(random_state=42), param_grid, cv=5)\n",
    "grid_search.fit(X_train_balanced, y_train_balanced)\n",
    "\n",
    "# Best parameters\n",
    "best_params = grid_search.best_params_\n",
    "svm_best = grid_search.best_estimator_\n",
    "\n",
    "# Generate classification report with best parameters\n",
    "y_train_pred_best_svm = svm_best.predict(X_train_balanced)\n",
    "y_test_pred_best_svm = svm_best.predict(X_test)\n",
    "\n",
    "print(\"Training Classification Report (Best Params):\\n\", classification_report(y_train_balanced, y_train_pred_best_svm))\n",
    "print(\"Test Classification Report (Best Params):\\n\", classification_report(y_test, y_test_pred_best_svm))\n",
    "\n",
    "print(\"Best Hyperparameters:\", best_params)\n",
    "\n"
   ]
  },
  {
   "cell_type": "markdown",
   "id": "4e68ef81",
   "metadata": {},
   "source": [
    "***after the hyperparameter tuning*** the svm gives 99% accuracy for training dataset and 96 % for the testing datasest."
   ]
  },
  {
   "cell_type": "markdown",
   "id": "51631b3d",
   "metadata": {},
   "source": [
    "# All moddel train"
   ]
  },
  {
   "cell_type": "markdown",
   "id": "66d766e2",
   "metadata": {},
   "source": [
    "This is the accuracy for thr training datasets for all the models which i have used .(considering the results of hyperparameter tuning)\n",
    "logistic Regression: 98.8% \n",
    "random foreest:89%\n",
    "svm:99%\n",
    "xgboost:93%"
   ]
  },
  {
   "cell_type": "code",
   "execution_count": 83,
   "id": "de49d684",
   "metadata": {},
   "outputs": [
    {
     "data": {
      "text/plain": [
       "{'Logistic Regression': 0.9880228974020255,\n",
       " 'Random Forest': 0.89445178335535,\n",
       " 'XGBoost': 0.9376926464112726,\n",
       " 'SVM': 0.9933949801849405}"
      ]
     },
     "execution_count": 83,
     "metadata": {},
     "output_type": "execute_result"
    }
   ],
   "source": [
    "result_train={}#dictionary\n",
    "#logistic regression\n",
    "lr_accuracy = accuracy_score(y_train_balanced, y_train_pred_best_lr)\n",
    "result_train['Logistic Regression'] = lr_accuracy\n",
    "#random forest\n",
    "rf_accuracy = accuracy_score(y_train_balanced, y_train_pred_best_rf)\n",
    "result_train['Random Forest'] = rf_accuracy\n",
    "\n",
    "#xgboost\n",
    "xgb_accuracy = accuracy_score(y_train_balanced, y_train_pred_best_xgb)\n",
    "result_train['XGBoost'] = xgb_accuracy\n",
    "\n",
    "#svm\n",
    "svm_accuracy=accuracy_score(y_train_balanced,y_train_pred_best_svm)\n",
    "result_train['SVM']=svm_accuracy\n",
    "result_train"
   ]
  },
  {
   "cell_type": "markdown",
   "id": "ba7bb67d",
   "metadata": {},
   "source": [
    "# bar graph representation of each models\n",
    "**Highest is SVM accuracy**"
   ]
  },
  {
   "cell_type": "code",
   "execution_count": 84,
   "id": "58e1315f",
   "metadata": {},
   "outputs": [
    {
     "data": {
      "image/png": "[encoded data removed]",
      "text/plain": [
       "<Figure size 720x432 with 1 Axes>"
      ]
     },
     "metadata": {
      "needs_background": "light"
     },
     "output_type": "display_data"
    }
   ],
   "source": [
    "plt.figure(figsize=(10, 6))\n",
    "plt.bar(result_train.keys(), result_train.values(), color=['blue', 'green', 'red'])\n",
    "plt.xlabel('Model')\n",
    "plt.ylabel('Accuracy')\n",
    "plt.title('Model Comparison of training dataset : Accuracy')\n",
    "plt.ylim(0, 1)  \n",
    "for i, (model, accuracy) in enumerate(result_train.items()):\n",
    "    plt.text(i, accuracy + 0.01, f\"{accuracy:.4f}\", ha='center')\n",
    "\n",
    "plt.show()\n"
   ]
  },
  {
   "cell_type": "markdown",
   "id": "d3ab5075",
   "metadata": {},
   "source": [
    "# ALL model  testing dataset accuracy"
   ]
  },
  {
   "cell_type": "markdown",
   "id": "eb42fe93",
   "metadata": {},
   "source": [
    "This is accuracy of the all the models using testing dataset(after hyperparameter tuning).\n",
    "**SVM as the best accuracy for test dataset\"**"
   ]
  },
  {
   "cell_type": "code",
   "execution_count": 85,
   "id": "87b72cb0",
   "metadata": {},
   "outputs": [
    {
     "data": {
      "text/plain": [
       "{'Logistic Regression': 0.9539944047248989,\n",
       " 'Random Forest': 0.8689773080509792,\n",
       " 'XGBoost': 0.9135840845508237,\n",
       " 'SVM': 0.9611439229095431}"
      ]
     },
     "execution_count": 85,
     "metadata": {},
     "output_type": "execute_result"
    }
   ],
   "source": [
    "results={}\n",
    "#logistic regression\n",
    "lr_accuracy = accuracy_score(y_test, y_test_pred_best_lr)\n",
    "results['Logistic Regression'] = lr_accuracy\n",
    "#random forest\n",
    "rf_accuracy = accuracy_score(y_test, y_test_pred_best_rf)\n",
    "results['Random Forest'] = rf_accuracy\n",
    "\n",
    "#xgboost\n",
    "xgb_accuracy = accuracy_score(y_test, y_test_pred_best_xgb)\n",
    "results['XGBoost'] = xgb_accuracy\n",
    "\n",
    "#svm\n",
    "svm_accuracy=accuracy_score(y_test,y_test_pred_best_svm)\n",
    "results['SVM']=svm_accuracy\n",
    "results\n"
   ]
  },
  {
   "cell_type": "markdown",
   "id": "aeb025ef",
   "metadata": {},
   "source": [
    "# Confusion Matrix for the logistic regression, Random forest,XGboost algorithms"
   ]
  },
  {
   "cell_type": "code",
   "execution_count": 86,
   "id": "7dd36c2d",
   "metadata": {},
   "outputs": [
    {
     "data": {
      "image/png": "[encoded data removed]",
      "text/plain": [
       "<Figure size 1152x864 with 6 Axes>"
      ]
     },
     "metadata": {
      "needs_background": "light"
     },
     "output_type": "display_data"
    }
   ],
   "source": [
    "\n",
    "models = {\n",
    "    'Logistic Regression': y_test_pred_best_lr,\n",
    "    'Random Forest': y_test_pred_best_rf,\n",
    "    'XGBoost': y_test_pred_best_xgb,\n",
    "}\n",
    "\n",
    "plt.figure(figsize=(16, 12))\n",
    "for i, (model, predictions) in enumerate(models.items(), 1):\n",
    "    cm = confusion_matrix(y_test, predictions)\n",
    "    plt.subplot(2, 2, i)\n",
    "    sns.heatmap(cm, annot=True, fmt='d', cmap='Greens')\n",
    "    plt.title(f'{model} Confusion Matrix')\n",
    "    plt.xlabel('Predicted')\n",
    "    plt.ylabel('Actual')\n",
    "\n",
    "plt.tight_layout()\n",
    "plt.show()\n"
   ]
  },
  {
   "cell_type": "markdown",
   "id": "b62b3f98",
   "metadata": {},
   "source": [
    "# Testing dataset Bar graph representation\n",
    "**SVM as the best accuracy**"
   ]
  },
  {
   "cell_type": "code",
   "execution_count": 87,
   "id": "7039dba0",
   "metadata": {},
   "outputs": [
    {
     "data": {
      "image/png": "[encoded data removed]",
      "text/plain": [
       "<Figure size 720x432 with 1 Axes>"
      ]
     },
     "metadata": {
      "needs_background": "light"
     },
     "output_type": "display_data"
    }
   ],
   "source": [
    "plt.figure(figsize=(10, 6))\n",
    "plt.bar(results.keys(), results.values(), color=['blue', 'green', 'red'])\n",
    "plt.xlabel('Model')\n",
    "plt.ylabel('Accuracy')\n",
    "plt.title('Model Comparison of testing dataset : Accuracy')\n",
    "plt.ylim(0, 1)  # Assuming accuracy is between 0 and 1\n",
    "for i, (model, accuracy) in enumerate(results.items()):\n",
    "    plt.text(i, accuracy + 0.01, f\"{accuracy:.4f}\", ha='center')\n",
    "\n",
    "plt.show()\n"
   ]
  },
  {
   "cell_type": "markdown",
   "id": "c6b54d87",
   "metadata": {},
   "source": [
    "# select the best model (SVM)-based on the accuracy "
   ]
  },
  {
   "cell_type": "markdown",
   "id": "7b96c17b",
   "metadata": {},
   "source": [
    "**The average of the testing dataset and training dataset accuracy as been calculated and Highest accuracy is considered for the selection of best model."
   ]
  },
  {
   "cell_type": "code",
   "execution_count": 120,
   "id": "1be39943",
   "metadata": {},
   "outputs": [
    {
     "name": "stdout",
     "output_type": "stream",
     "text": [
      "\n",
      "Test Accuracies:\n",
      "Logistic Regression: 0.9540\n",
      "Random Forest: 0.8690\n",
      "XGBoost: 0.9136\n",
      "SVM: 0.9611\n",
      "\n",
      "Training Accuracies:\n",
      "Logistic Regression: 0.9880\n",
      "Random Forest: 0.8945\n",
      "XGBoost: 0.9377\n",
      "SVM: 0.9934\n",
      "\n",
      "Average Accuracies:\n",
      "Logistic Regression: 0.9710\n",
      "Random Forest: 0.8817\n",
      "XGBoost: 0.9256\n",
      "SVM: 0.9773\n",
      "Best Model based on Average Accuracy: SVM\n"
     ]
    }
   ],
   "source": [
    "# Calculate average accuracy for each model(training and testing )\n",
    "average_accuracies = {model: (results[model] + result_train[model]) / 2 for model in results}\n",
    "\n",
    "# Find the model with the highest average accuracy\n",
    "best_model_name = max(average_accuracies, key=average_accuracies.get)\n",
    "\n",
    "# Print results\n",
    "print(\"\\nTest Accuracies:\")\n",
    "for model, accuracy in results.items():\n",
    "    print(f\"{model}: {accuracy:.4f}\")\n",
    "\n",
    "print(\"\\nTraining Accuracies:\")\n",
    "for model, accuracy in result_train.items():\n",
    "    print(f\"{model}: {accuracy:.4f}\")\n",
    "\n",
    "print(\"\\nAverage Accuracies:\")\n",
    "for model, accuracy in average_accuracies.items():\n",
    "    print(f\"{model}: {accuracy:.4f}\")\n",
    "\n",
    "print(f\"Best Model based on Average Accuracy: {best_model_name}\")"
   ]
  },
  {
   "cell_type": "markdown",
   "id": "901cafa8",
   "metadata": {},
   "source": [
    "# Best model is SVM since the accuracy is 97%."
   ]
  },
  {
   "cell_type": "markdown",
   "id": "8ecb9027",
   "metadata": {},
   "source": [
    "**Classification report of the svm (training dataset  after hyperparameter tuning and testing dataset and validation dataset)**\n"
   ]
  },
  {
   "cell_type": "code",
   "execution_count": 116,
   "id": "41c14a5e",
   "metadata": {},
   "outputs": [
    {
     "name": "stdout",
     "output_type": "stream",
     "text": [
      "\n",
      "SVM Model Performance Metrics:\n",
      "Training Report:\n",
      "              precision    recall  f1-score   support\n",
      "\n",
      "           0       1.00      0.99      0.99      3785\n",
      "           1       1.00      0.98      0.99      3785\n",
      "           2       0.99      1.00      0.99      3785\n",
      "           3       0.99      1.00      0.99      3785\n",
      "           4       0.99      0.99      0.99      3785\n",
      "           5       0.99      1.00      0.99      3785\n",
      "\n",
      "    accuracy                           0.99     22710\n",
      "   macro avg       0.99      0.99      0.99     22710\n",
      "weighted avg       0.99      0.99      0.99     22710\n",
      "\n",
      "Test Report:\n",
      "              precision    recall  f1-score   support\n",
      "\n",
      "           0       0.95      0.93      0.94      1097\n",
      "           1       0.94      0.92      0.93      1104\n",
      "           2       0.96      0.98      0.97      1069\n",
      "           3       0.96      0.96      0.96      1053\n",
      "           4       0.98      0.97      0.97      1054\n",
      "           5       0.98      1.00      0.99      1057\n",
      "\n",
      "    accuracy                           0.96      6434\n",
      "   macro avg       0.96      0.96      0.96      6434\n",
      "weighted avg       0.96      0.96      0.96      6434\n",
      "\n",
      "Validation Report:\n",
      "              precision    recall  f1-score   support\n",
      "\n",
      "           0       0.96      0.95      0.96       536\n",
      "           1       0.93      0.91      0.92       501\n",
      "           2       0.95      0.98      0.97       562\n",
      "           3       0.98      0.97      0.98       566\n",
      "           4       0.98      0.95      0.97       533\n",
      "           5       0.98      1.00      0.99       520\n",
      "\n",
      "    accuracy                           0.96      3218\n",
      "   macro avg       0.96      0.96      0.96      3218\n",
      "weighted avg       0.96      0.96      0.96      3218\n",
      "\n",
      "\n",
      "Final Model (SVM) based on validation Accuracy: validation Accuracy = 0.9627097576134245\n"
     ]
    }
   ],
   "source": [
    "# Train and evaluate the SVM model\n",
    "svm_model = models['SVM']\n",
    "svm_model.fit(X_train_balanced, y_train_balanced)\n",
    "y_train_pred_svm = svm_model.predict(X_train_balanced)\n",
    "y_test_pred_svm = svm_model.predict(X_test)\n",
    "y_val_pred_svm = svm_model.predict(X_val)\n",
    "\n",
    "train_report_svm = classification_report(y_train_balanced, y_train_pred_svm)\n",
    "test_report_svm = classification_report(y_test, y_test_pred_svm)\n",
    "val_report_svm = classification_report(y_val, y_val_pred_svm)\n",
    "\n",
    "train_confusion_svm = confusion_matrix(y_train_balanced, y_train_pred_svm)\n",
    "test_confusion_svm = confusion_matrix(y_test, y_test_pred_svm)\n",
    "val_confusion_svm = confusion_matrix(y_val, y_val_pred_svm)\n",
    "\n",
    "# Print performance metrics for SVM model\n",
    "print(\"\\nSVM Model Performance Metrics:\")\n",
    "print(\"Training Report:\")\n",
    "print(train_report_svm)\n",
    "print(\"Test Report:\")\n",
    "print(test_report_svm)\n",
    "print(\"Validation Report:\")\n",
    "print(val_report_svm)\n",
    "\n",
    "\n",
    "# Choose the final model (SVM) based on the validation accuracy\n",
    "val_accuracy_svm = accuracy_score(y_val, y_val_pred_svm)\n",
    "\n",
    "print(f\"\\nFinal Model (SVM) based on validation Accuracy: validation Accuracy = {val_accuracy_svm}\")\n"
   ]
  },
  {
   "cell_type": "markdown",
   "id": "195a2898",
   "metadata": {},
   "source": [
    "**Validtion dataset provides on 96%**"
   ]
  },
  {
   "cell_type": "markdown",
   "id": "fbff59cd",
   "metadata": {},
   "source": [
    "# Confusion matrix "
   ]
  },
  {
   "cell_type": "code",
   "execution_count": 104,
   "id": "e2ee9234",
   "metadata": {},
   "outputs": [
    {
     "data": {
      "image/png": "[encoded data removed]",
      "text/plain": [
       "<Figure size 1152x864 with 6 Axes>"
      ]
     },
     "metadata": {
      "needs_background": "light"
     },
     "output_type": "display_data"
    }
   ],
   "source": [
    "# Define confusion matrices for SVM model\n",
    "svm_cm = {\n",
    "    'Training': train_confusion_svm,\n",
    "    'Testing': test_confusion_svm,\n",
    "    'Validation': val_confusion_svm\n",
    "}\n",
    "\n",
    "# Plot confusion matrices\n",
    "plt.figure(figsize=(16, 12))\n",
    "for i, (dataset, cm) in enumerate(svm_cm.items(), 1):\n",
    "    plt.subplot(2, 2, i)\n",
    "    sns.heatmap(cm, annot=True, fmt='d', cmap='Greens')\n",
    "    plt.title(f'{dataset} Confusion Matrix')\n",
    "    plt.xlabel('Predicted')\n",
    "    plt.ylabel('Actual')\n",
    "\n",
    "plt.tight_layout()\n",
    "plt.show()"
   ]
  },
  {
   "cell_type": "markdown",
   "id": "d70c91af",
   "metadata": {},
   "source": [
    "\n",
    "***Training dataset***\n",
    "the highest number of correct classification is given for suprise,Joy label which is  3781\n",
    "highest number of wrong classification for the same class as in training dataset that is for label love and joy which is 35, the model predicted that it is love label but actual value is joy.\n",
    "***Testing dataset***\n",
    "this gives highest number of wrong classification for the same class as in training dataset that is for label love and joy which is 33, the model predicted that it is love label but actual value is joy\n",
    "the highest number of correct classification is given for suprise label which is  1057\n",
    "***Validation dataset***\n",
    "this gives highest number of wrong classification for the same class as in training dataset that is for label love and joy which is 25, the model predicted that it is love label but actual value is joy\n",
    "the highest number of correct classification is given for love label which is  552"
   ]
  },
  {
   "cell_type": "markdown",
   "id": "3a756893",
   "metadata": {},
   "source": [
    "## Bar Graph Representation SVM accuracy of testing ,training and validation dataset of  the SVM"
   ]
  },
  {
   "cell_type": "code",
   "execution_count": 122,
   "id": "59a96393",
   "metadata": {},
   "outputs": [
    {
     "data": {
      "image/png": "[encoded data removed]",
      "text/plain": [
       "<Figure size 720x432 with 1 Axes>"
      ]
     },
     "metadata": {
      "needs_background": "light"
     },
     "output_type": "display_data"
    }
   ],
   "source": [
    "\n",
    "# Plot accuracy comparison\n",
    "accuracies = {\n",
    "    'Training': accuracy_score(y_train_balanced, y_train_pred_svm),\n",
    "    'Testing': accuracy_score(y_test, y_test_pred_svm),\n",
    "    'Validation': val_accuracy_svm\n",
    "}\n",
    "\n",
    "plt.figure(figsize=(10, 6))\n",
    "plt.bar(accuracies.keys(), accuracies.values(), color=['blue', 'orange', 'green'])\n",
    "plt.title('SVM Accuracy Comparison')\n",
    "plt.ylabel('Accuracy')\n",
    "plt.ylim(0, 1)\n",
    "for index, value in enumerate(accuracies.values()):\n",
    "    plt.text(index, value + 0.02, f'{value:.4f}', ha='center')\n",
    "\n",
    "plt.show()"
   ]
  },
  {
   "cell_type": "markdown",
   "id": "e6b46c1d",
   "metadata": {},
   "source": [
    "# CONCLUSION\n",
    "**In this machine learning project, we evaluated Logistic Regression, Random Forest, XGBoost, and Support Vector Machine (SVM) based on test accuracy, training accuracy, and average accuracy. SVM achieved the highest test accuracy (0.9611) and average accuracy (0.9773), indicating its strong generalization capability. Logistic Regression also performed well with a test accuracy of 0.9540 and an average accuracy of 0.9710. XGBoost showed balanced performance with a test accuracy of 0.9136 and an average accuracy of 0.9256, while Random Forest had the lowest test accuracy (0.8690) and average accuracy (0.8817). Based on these results, SVM is identified as the best performing model .**"
   ]
  },
  {
   "cell_type": "code",
   "execution_count": null,
   "id": "a2227fa1",
   "metadata": {},
   "outputs": [],
   "source": []
  }
 ],
 "metadata": {
  "kernelspec": {
   "display_name": "Python 3 (ipykernel)",
   "language": "python",
   "name": "python3"
  },
  "language_info": {
   "codemirror_mode": {
    "name": "ipython",
    "version": 3
   },
   "file_extension": ".py",
   "mimetype": "text/x-python",
   "name": "python",
   "nbconvert_exporter": "python",
   "pygments_lexer": "ipython3",
   "version": "3.9.12"
  }
 },
 "nbformat": 4,
 "nbformat_minor": 5
}
