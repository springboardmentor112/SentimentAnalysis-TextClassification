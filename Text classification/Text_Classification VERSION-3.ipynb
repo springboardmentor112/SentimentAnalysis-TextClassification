{
 "cells": [
  {
   "cell_type": "code",
   "execution_count": 1,
   "id": "a24c6686",
   "metadata": {},
   "outputs": [],
   "source": [
    "import numpy as np\n",
    "import pandas as pd\n",
    "import re\n",
    "import matplotlib.pyplot as plt\n",
    "import seaborn as sns"
   ]
  },
  {
   "cell_type": "code",
   "execution_count": 55,
   "id": "e22f430c",
   "metadata": {},
   "outputs": [
    {
     "data": {
      "text/html": [
       "<div>\n",
       "<style scoped>\n",
       "    .dataframe tbody tr th:only-of-type {\n",
       "        vertical-align: middle;\n",
       "    }\n",
       "\n",
       "    .dataframe tbody tr th {\n",
       "        vertical-align: top;\n",
       "    }\n",
       "\n",
       "    .dataframe thead th {\n",
       "        text-align: right;\n",
       "    }\n",
       "</style>\n",
       "<table border=\"1\" class=\"dataframe\">\n",
       "  <thead>\n",
       "    <tr style=\"text-align: right;\">\n",
       "      <th></th>\n",
       "      <th>text</th>\n",
       "      <th>label</th>\n",
       "    </tr>\n",
       "  </thead>\n",
       "  <tbody>\n",
       "    <tr>\n",
       "      <th>0</th>\n",
       "      <td>i didnt feel humiliated</td>\n",
       "      <td>0</td>\n",
       "    </tr>\n",
       "    <tr>\n",
       "      <th>1</th>\n",
       "      <td>i can go from feeling so hopeless to so damned...</td>\n",
       "      <td>0</td>\n",
       "    </tr>\n",
       "    <tr>\n",
       "      <th>2</th>\n",
       "      <td>im grabbing a minute to post i feel greedy wrong</td>\n",
       "      <td>3</td>\n",
       "    </tr>\n",
       "    <tr>\n",
       "      <th>3</th>\n",
       "      <td>i am ever feeling nostalgic about the fireplac...</td>\n",
       "      <td>2</td>\n",
       "    </tr>\n",
       "    <tr>\n",
       "      <th>4</th>\n",
       "      <td>i am feeling grouchy</td>\n",
       "      <td>3</td>\n",
       "    </tr>\n",
       "    <tr>\n",
       "      <th>...</th>\n",
       "      <td>...</td>\n",
       "      <td>...</td>\n",
       "    </tr>\n",
       "    <tr>\n",
       "      <th>15995</th>\n",
       "      <td>i just had a very brief time in the beanbag an...</td>\n",
       "      <td>0</td>\n",
       "    </tr>\n",
       "    <tr>\n",
       "      <th>15996</th>\n",
       "      <td>i am now turning and i feel pathetic that i am...</td>\n",
       "      <td>0</td>\n",
       "    </tr>\n",
       "    <tr>\n",
       "      <th>15997</th>\n",
       "      <td>i feel strong and good overall</td>\n",
       "      <td>1</td>\n",
       "    </tr>\n",
       "    <tr>\n",
       "      <th>15998</th>\n",
       "      <td>i feel like this was such a rude comment and i...</td>\n",
       "      <td>3</td>\n",
       "    </tr>\n",
       "    <tr>\n",
       "      <th>15999</th>\n",
       "      <td>i know a lot but i feel so stupid because i ca...</td>\n",
       "      <td>0</td>\n",
       "    </tr>\n",
       "  </tbody>\n",
       "</table>\n",
       "<p>16000 rows × 2 columns</p>\n",
       "</div>"
      ],
      "text/plain": [
       "                                                    text  label\n",
       "0                                i didnt feel humiliated      0\n",
       "1      i can go from feeling so hopeless to so damned...      0\n",
       "2       im grabbing a minute to post i feel greedy wrong      3\n",
       "3      i am ever feeling nostalgic about the fireplac...      2\n",
       "4                                   i am feeling grouchy      3\n",
       "...                                                  ...    ...\n",
       "15995  i just had a very brief time in the beanbag an...      0\n",
       "15996  i am now turning and i feel pathetic that i am...      0\n",
       "15997                     i feel strong and good overall      1\n",
       "15998  i feel like this was such a rude comment and i...      3\n",
       "15999  i know a lot but i feel so stupid because i ca...      0\n",
       "\n",
       "[16000 rows x 2 columns]"
      ]
     },
     "execution_count": 55,
     "metadata": {},
     "output_type": "execute_result"
    }
   ],
   "source": [
    "df=pd.read_csv('Emotions_training.csv')\n",
    "df"
   ]
  },
  {
   "cell_type": "markdown",
   "id": "7160c7db",
   "metadata": {},
   "source": [
    "# lower case convertion"
   ]
  },
  {
   "cell_type": "markdown",
   "id": "25ec5557",
   "metadata": {},
   "source": [
    "use the string in built fucntion \"str.lower()\" for the text column"
   ]
  },
  {
   "cell_type": "code",
   "execution_count": 56,
   "id": "84eca250",
   "metadata": {},
   "outputs": [],
   "source": [
    "#converting to lowercase\n",
    "df['text']=df['text'].str.lower()"
   ]
  },
  {
   "cell_type": "markdown",
   "id": "eab9f0e8",
   "metadata": {},
   "source": [
    "# REMOVING THE LINK"
   ]
  },
  {
   "cell_type": "markdown",
   "id": "8b22c86e",
   "metadata": {},
   "source": [
    "removal of the link using the regular expression of the pattern or starts with http\\"
   ]
  },
  {
   "cell_type": "code",
   "execution_count": 57,
   "id": "c25bc40e",
   "metadata": {},
   "outputs": [],
   "source": [
    "#remove links\n",
    "import re\n",
    "\n",
    "text = df['text']\n",
    "\n",
    "def remove_links(text):\n",
    "    return re.sub(r'http\\S+', '', text)\n",
    "\n",
    "# Apply the function to remove links from each text in the 'text' column\n",
    "df['text'] = df['text'].apply(remove_links)"
   ]
  },
  {
   "cell_type": "markdown",
   "id": "7fe66df8",
   "metadata": {},
   "source": [
    "# Remove next lines (\\n)"
   ]
  },
  {
   "cell_type": "code",
   "execution_count": 58,
   "id": "e70eb6aa",
   "metadata": {},
   "outputs": [],
   "source": [
    "#\"\\n\" refers to the next line and by replacing the \"\\n\" with empty string \n",
    "df['text'] = df['text'].str.replace('\\n', '')"
   ]
  },
  {
   "cell_type": "markdown",
   "id": "8ee399a5",
   "metadata": {},
   "source": [
    "# Removal of Numbers"
   ]
  },
  {
   "cell_type": "code",
   "execution_count": 59,
   "id": "0716a804",
   "metadata": {},
   "outputs": [],
   "source": [
    "#remove words containing numbers\n",
    "text=df['text']\n",
    "def remove_words_with_numbers(text):\n",
    "    words = text.split() \n",
    "    clean_words = [] \n",
    "    for word in words:\n",
    "        has_digit = False\n",
    "        for char in word:\n",
    "            if char.isdigit():\n",
    "                has_digit = True\n",
    "                break\n",
    "        if not has_digit:\n",
    "            clean_words.append(word)  # If the word does not contain any digit, add it to the clean words list\n",
    "    return' '.join(clean_words)  # Join the clean words list back to string\n",
    "df['text'] = df['text'].apply(remove_words_with_numbers)\n"
   ]
  },
  {
   "cell_type": "markdown",
   "id": "1920d494",
   "metadata": {},
   "source": [
    "# REMOVE whitespaces"
   ]
  },
  {
   "cell_type": "code",
   "execution_count": 60,
   "id": "3c9a0b66",
   "metadata": {},
   "outputs": [],
   "source": [
    "#strip() function used to remove trailing whitespaces\n",
    "df['text'] = df['text'].str.strip()"
   ]
  },
  {
   "cell_type": "markdown",
   "id": "e4e76254",
   "metadata": {},
   "source": [
    "# REMOVE Special characters and EMOJIS "
   ]
  },
  {
   "cell_type": "code",
   "execution_count": 61,
   "id": "8ec6eb5e",
   "metadata": {},
   "outputs": [],
   "source": [
    "#remove special characters \n",
    "def remove_special_characters(text):\n",
    "    special_characters = \"!\\\"#$%&'()*+,-./:;<=>?@[\\]^_`{|}~\"\n",
    "    for char in special_characters:\n",
    "        text = text.replace(char, '')\n",
    "    return text\n",
    "\n",
    "df['text'] = df['text'].apply(remove_special_characters)"
   ]
  },
  {
   "cell_type": "code",
   "execution_count": 62,
   "id": "bcacd291",
   "metadata": {},
   "outputs": [],
   "source": [
    "#remove emojis\n",
    "import emoji\n",
    "import pandas as pd\n",
    "\n",
    "# Assuming 'df' is your DataFrame with a 'content' column containing text with emojis\n",
    "text = df['text']\n",
    "\n",
    "# Define a function to remove emojis\n",
    "def remove_emojis(text):\n",
    "    return emoji.demojize(text)\n",
    "\n",
    "# Applying remove_emojis() function to each element of the 'content' column\n",
    "text_without_emojis = text.apply(remove_emojis)\n",
    "\n"
   ]
  },
  {
   "cell_type": "markdown",
   "id": "31ec3454",
   "metadata": {},
   "source": [
    "# Removal of stop words using gensim library"
   ]
  },
  {
   "cell_type": "markdown",
   "id": "906780ed",
   "metadata": {},
   "source": [
    "**Gensim, a popular Python library for topic modeling and natural language processing, offers the remove_stopwords function to eliminate common stopwords from text data. By invoking this function, you can efficiently preprocess text by removing irrelevant words like \"the,\" \"is,\" and \"and,\" facilitating downstream analysis tasks such as text classification or topic modeling."
   ]
  },
  {
   "cell_type": "code",
   "execution_count": 63,
   "id": "efd374f4",
   "metadata": {},
   "outputs": [],
   "source": [
    "from gensim.parsing.preprocessing import preprocess_string\n",
    "df['text'] = [' '.join(preprocess_string(text)) for text in df['text']]\n"
   ]
  },
  {
   "cell_type": "markdown",
   "id": "1549caa9",
   "metadata": {},
   "source": [
    "# Stemming"
   ]
  },
  {
   "cell_type": "markdown",
   "id": "f87b9d06",
   "metadata": {},
   "source": [
    "**Stemming is a natural language processing technique used to reduce words to their root or base form, enabling normalization and simplification of text data. It helps in improving text analysis tasks such as information retrieval, sentiment analysis, and topic modeling by treating variations of words as a single entity. Popular stemming algorithms include Porter Stemmer, Snowball Stemmer, and Lancaster Stemmer."
   ]
  },
  {
   "cell_type": "code",
   "execution_count": 64,
   "id": "10d430c6",
   "metadata": {},
   "outputs": [],
   "source": [
    "import pandas as pd\n",
    "from nltk.stem import PorterStemmer\n",
    "from nltk.tokenize import word_tokenize\n",
    "\n",
    "\n",
    "#Tokenization is the process of breaking down a text or document into smaller units\n",
    "\n",
    "ps = PorterStemmer() #PorterStemmer is used for stemming, which is the process of reducing words to their base or root form\n",
    "\n",
    "\n",
    "def stem_sentence(sentence):\n",
    "    words = word_tokenize(sentence) \n",
    "    stemmed_words = [ps.stem(word) for word in words]\n",
    "    return ' '.join(stemmed_words)\n",
    "\n",
    "\n",
    "df['text'] = df['text'].apply(stem_sentence)\n",
    "\n"
   ]
  },
  {
   "cell_type": "markdown",
   "id": "b319bb8b",
   "metadata": {},
   "source": [
    "# difference between stemming and lemitizing\n",
    "**Stemming involves stripping affixes from words to get to the root form. It's done using simple and fast heuristic algorithms, which may result in the stem not being a valid word. For example, \"running\" would be stemmed to \"run\".\n",
    "\n",
    "**Lemmatization, on the other hand, considers the context and meaning of the word along with its morphology to reduce it to its base or dictionary form (lemma). It often requires more computational resources and linguistic knowledge but results in valid words."
   ]
  },
  {
   "cell_type": "markdown",
   "id": "6db39b9a",
   "metadata": {},
   "source": [
    "# LEMITIZING"
   ]
  },
  {
   "cell_type": "markdown",
   "id": "85801c65",
   "metadata": {},
   "source": [
    "Lemmatization is a linguistic process used to reduce words to their base or canonical form, known as the lemma, by considering the word's meaning and context. Unlike stemming, which simply removes suffixes or prefixes, lemmatization ensures that the resulting word is a valid one found in the language's dictionary."
   ]
  },
  {
   "cell_type": "code",
   "execution_count": 65,
   "id": "9b113c27",
   "metadata": {},
   "outputs": [
    {
     "name": "stderr",
     "output_type": "stream",
     "text": [
      "[nltk_data] Downloading package wordnet to\n",
      "[nltk_data]     /Users/yashas.m/nltk_data...\n",
      "[nltk_data]   Package wordnet is already up-to-date!\n",
      "[nltk_data] Downloading package omw-1.4 to\n",
      "[nltk_data]     /Users/yashas.m/nltk_data...\n",
      "[nltk_data]   Package omw-1.4 is already up-to-date!\n"
     ]
    },
    {
     "data": {
      "text/plain": [
       "True"
      ]
     },
     "execution_count": 65,
     "metadata": {},
     "output_type": "execute_result"
    }
   ],
   "source": [
    "#lemitizing \n",
    "import nltk\n",
    "nltk.download('wordnet')\n",
    "nltk.download('omw-1.4')\n",
    "\n"
   ]
  },
  {
   "cell_type": "code",
   "execution_count": 66,
   "id": "4de05481",
   "metadata": {},
   "outputs": [],
   "source": [
    "from nltk.stem import WordNetLemmatizer\n",
    "from nltk.tokenize import word_tokenize\n",
    "lemmatizer = WordNetLemmatizer()\n",
    "\n",
    "\n",
    "def lemmatize_text(text):\n",
    "    tokens = word_tokenize(text)\n",
    "    lemmatized_tokens = [lemmatizer.lemmatize(token) for token in tokens] #lemmatize each token in the list of tokens\n",
    "    return ' '.join(lemmatized_tokens)\n",
    "\n",
    "\n",
    "df['text'] = df['text'].apply(lemmatize_text)"
   ]
  },
  {
   "cell_type": "markdown",
   "id": "1308adea",
   "metadata": {},
   "source": [
    "**this below code helps in adding the different label classes into the respective arrays created for each labels \n",
    "and the displaying the count of each classes/label-0,1,2,3,4,5 that is sadness,joy,love,anger,fear and surprise"
   ]
  },
  {
   "cell_type": "code",
   "execution_count": 67,
   "id": "11c0eb15",
   "metadata": {},
   "outputs": [
    {
     "name": "stdout",
     "output_type": "stream",
     "text": [
      "the count of sadness is: 4666\n",
      "the count of joy is: 5362\n",
      "the count of love is: 1304\n",
      "the count of anger is: 2159\n",
      "the count of fear is: 1937\n",
      "the count of surprise is : 572\n"
     ]
    }
   ],
   "source": [
    "count = df['text'].count()# total count of the data/sample in the dataset\n",
    "label=df['label'] \n",
    "text=df['text']\n",
    "#creating the empty arrays \n",
    "label0 = []\n",
    "label1 = []\n",
    "label2 = []\n",
    "label3 = []\n",
    "label4 = []\n",
    "label5 = []\n",
    "#this for loop helps in appending the each sample/data into the respective labels array based on the if conditions\n",
    "for i in range(count):\n",
    "    if label[i] == 0:\n",
    "        label0.append(text[i])\n",
    "    elif label[i] == 1:\n",
    "        label1.append(text[i])\n",
    "    elif label[i] == 2:\n",
    "        label2.append(text[i])\n",
    "    elif label[i] == 3:\n",
    "        label3.append(text[i])\n",
    "    elif label[i] == 4:\n",
    "        label4.append(text[i])\n",
    "        \n",
    "    elif label[i]==5:\n",
    "        label5.append(text[i])\n",
    "    else:\n",
    "        pass\n",
    "#displaying the length of each labels \n",
    "print(\"the count of sadness is:\",len(label0))\n",
    "print(\"the count of joy is:\",len(label1))\n",
    "print(\"the count of love is:\",len(label2))\n",
    "print(\"the count of anger is:\",len(label3))\n",
    "print(\"the count of fear is:\",len(label4))\n",
    "print(\"the count of surprise is :\",len(label5))"
   ]
  },
  {
   "cell_type": "markdown",
   "id": "29541e4f",
   "metadata": {},
   "source": [
    "**percentage of each  label in the dataset "
   ]
  },
  {
   "cell_type": "code",
   "execution_count": 68,
   "id": "e98144f4",
   "metadata": {},
   "outputs": [
    {
     "name": "stdout",
     "output_type": "stream",
     "text": [
      "the perecentage of leabel\n",
      " 0=29.1625% \n",
      " 1=33.5125% \n",
      " 2=8.15% \n",
      " 3=13.493749999999999% \n",
      " 4=12.106250000000001% \n",
      " 5=3.5749999999999997%\n"
     ]
    }
   ],
   "source": [
    "#individual percentage\n",
    "l0=(len(label0)/count)*100\n",
    "l1=(len(label1)/count)*100\n",
    "l2=(len(label2)/count)*100\n",
    "l3=(len(label3)/count)*100\n",
    "l4=(len(label4)/count)*100\n",
    "l5=(len(label5)/count)*100\n",
    "print(f\"the perecentage of leabel\\n 0={l0}% \\n 1={l1}% \\n 2={l2}% \\n 3={l3}% \\n 4={l4}% \\n 5={l5}%\")"
   ]
  },
  {
   "cell_type": "markdown",
   "id": "0887f65b",
   "metadata": {},
   "source": [
    "# BAR graph representation"
   ]
  },
  {
   "cell_type": "markdown",
   "id": "dff0d1ce",
   "metadata": {},
   "source": [
    "**this helps to visualize the each label and helps in finding out whether the dataset is imbalanced!"
   ]
  },
  {
   "cell_type": "code",
   "execution_count": 69,
   "id": "70d22bdb",
   "metadata": {},
   "outputs": [
    {
     "data": {
      "image/png": "[encoded data removed]",
      "text/plain": [
       "<Figure size 576x432 with 1 Axes>"
      ]
     },
     "metadata": {
      "needs_background": "light"
     },
     "output_type": "display_data"
    }
   ],
   "source": [
    "import matplotlib.pyplot as plt\n",
    "import seaborn as sns\n",
    "\n",
    "labels = ['sadness', 'joy', 'love', 'anger','fear','surprise']\n",
    "counts = [len(label0), len(label1), len(label2), len(label3), len(label4),len(label5)]\n",
    "\n",
    "\n",
    "plt.figure(figsize=(8, 6))\n",
    "sns.barplot(x=labels, y=counts)\n",
    "plt.title('Count of each labels')\n",
    "plt.xlabel('labels')\n",
    "plt.ylabel('Count')\n",
    "plt.show()\n"
   ]
  },
  {
   "cell_type": "markdown",
   "id": "bd8144fb",
   "metadata": {},
   "source": [
    "**In the above bar graph it denotes that the text related to the joy-1 is maximum and text related to the surprise  label -5 is minimum "
   ]
  },
  {
   "cell_type": "markdown",
   "id": "aa950a80",
   "metadata": {},
   "source": [
    "# Balancing the dataset classes "
   ]
  },
  {
   "cell_type": "markdown",
   "id": "112a73d4",
   "metadata": {},
   "source": [
    "**oversampling is better than under_sampling bcoz there might be some important data misses in the undersample due to less data or reduction od data size in each class"
   ]
  },
  {
   "cell_type": "markdown",
   "id": "327e2c29",
   "metadata": {},
   "source": [
    "resample module from scikit-learn's utils subpackage provides functions for resampling data, particularly useful for addressing class imbalance in classification tasks. It allows you to randomly oversample minority classes or undersample majority classes to balance the dataset, improving the performance of machine learning models."
   ]
  },
  {
   "cell_type": "markdown",
   "id": "807bb998",
   "metadata": {},
   "source": [
    "label-1 had the maximum samples / text so we have upsampled / increased the all minority classes until it reaches the label-1 sample count"
   ]
  },
  {
   "cell_type": "code",
   "execution_count": 71,
   "id": "05a99db5",
   "metadata": {},
   "outputs": [
    {
     "name": "stdout",
     "output_type": "stream",
     "text": [
      "1    5362\n",
      "0    5362\n",
      "3    5362\n",
      "4    5362\n",
      "2    5362\n",
      "5    5362\n",
      "Name: label, dtype: int64\n"
     ]
    }
   ],
   "source": [
    "from sklearn.utils import resample\n",
    "\n",
    "\n",
    "# Count the number of samples in each class\n",
    "class_counts = df['label'].value_counts()\n",
    "\n",
    "# target count using maximum count among all the label \n",
    "target_count = class_counts.max()\n",
    "\n",
    "\n",
    "resampled_data = []\n",
    "\n",
    "# Loop through each class\n",
    "for label in class_counts.index:\n",
    "    # Extract data for the current class\n",
    "    class_data = df[df['label'] == label]\n",
    "    \n",
    "    # Upsample (oversample) the class to match the target count\n",
    "    sampled_data = resample(class_data, replace=True, n_samples=target_count, random_state=42)\n",
    "    \n",
    "    # Append the resampled data to the list\n",
    "    resampled_data.append(sampled_data)\n",
    "\n",
    "# Concatenate the resampled data for all classes\n",
    "balanced_df = pd.concat(resampled_data)\n",
    "\n",
    "# Displaying the count of samples in each class after balancing the dataset classes \n",
    "print(balanced_df['label'].value_counts())\n"
   ]
  },
  {
   "cell_type": "code",
   "execution_count": 72,
   "id": "e18215b5",
   "metadata": {},
   "outputs": [
    {
     "data": {
      "text/html": [
       "<div>\n",
       "<style scoped>\n",
       "    .dataframe tbody tr th:only-of-type {\n",
       "        vertical-align: middle;\n",
       "    }\n",
       "\n",
       "    .dataframe tbody tr th {\n",
       "        vertical-align: top;\n",
       "    }\n",
       "\n",
       "    .dataframe thead th {\n",
       "        text-align: right;\n",
       "    }\n",
       "</style>\n",
       "<table border=\"1\" class=\"dataframe\">\n",
       "  <thead>\n",
       "    <tr style=\"text-align: right;\">\n",
       "      <th></th>\n",
       "      <th>text</th>\n",
       "      <th>label</th>\n",
       "    </tr>\n",
       "  </thead>\n",
       "  <tbody>\n",
       "    <tr>\n",
       "      <th>2491</th>\n",
       "      <td>feel glad justic serv west said</td>\n",
       "      <td>1</td>\n",
       "    </tr>\n",
       "    <tr>\n",
       "      <th>15585</th>\n",
       "      <td>feel valuabl know consid worth sacrif</td>\n",
       "      <td>1</td>\n",
       "    </tr>\n",
       "    <tr>\n",
       "      <th>15488</th>\n",
       "      <td>certainli felt appropri life supplic life life...</td>\n",
       "      <td>1</td>\n",
       "    </tr>\n",
       "    <tr>\n",
       "      <th>11161</th>\n",
       "      <td>feel assur futur onlin entertain rest good hand</td>\n",
       "      <td>1</td>\n",
       "    </tr>\n",
       "    <tr>\n",
       "      <th>9145</th>\n",
       "      <td>feel thank abl figur wai deal minor effect dealt</td>\n",
       "      <td>1</td>\n",
       "    </tr>\n",
       "    <tr>\n",
       "      <th>...</th>\n",
       "      <td>...</td>\n",
       "      <td>...</td>\n",
       "    </tr>\n",
       "    <tr>\n",
       "      <th>15825</th>\n",
       "      <td>feel game strang realiti swarm violent carnivo...</td>\n",
       "      <td>5</td>\n",
       "    </tr>\n",
       "    <tr>\n",
       "      <th>5319</th>\n",
       "      <td>talk district leader elder hill night explain ...</td>\n",
       "      <td>5</td>\n",
       "    </tr>\n",
       "    <tr>\n",
       "      <th>4775</th>\n",
       "      <td>know isnt real feel strang time</td>\n",
       "      <td>5</td>\n",
       "    </tr>\n",
       "    <tr>\n",
       "      <th>1756</th>\n",
       "      <td>feel kinda strang cau didnt encount feel year</td>\n",
       "      <td>5</td>\n",
       "    </tr>\n",
       "    <tr>\n",
       "      <th>3361</th>\n",
       "      <td>mean recollect feel funni funni sort wai stori...</td>\n",
       "      <td>5</td>\n",
       "    </tr>\n",
       "  </tbody>\n",
       "</table>\n",
       "<p>32172 rows × 2 columns</p>\n",
       "</div>"
      ],
      "text/plain": [
       "                                                    text  label\n",
       "2491                     feel glad justic serv west said      1\n",
       "15585              feel valuabl know consid worth sacrif      1\n",
       "15488  certainli felt appropri life supplic life life...      1\n",
       "11161    feel assur futur onlin entertain rest good hand      1\n",
       "9145    feel thank abl figur wai deal minor effect dealt      1\n",
       "...                                                  ...    ...\n",
       "15825  feel game strang realiti swarm violent carnivo...      5\n",
       "5319   talk district leader elder hill night explain ...      5\n",
       "4775                     know isnt real feel strang time      5\n",
       "1756       feel kinda strang cau didnt encount feel year      5\n",
       "3361   mean recollect feel funni funni sort wai stori...      5\n",
       "\n",
       "[32172 rows x 2 columns]"
      ]
     },
     "execution_count": 72,
     "metadata": {},
     "output_type": "execute_result"
    }
   ],
   "source": [
    "balanced_df"
   ]
  },
  {
   "cell_type": "code",
   "execution_count": 73,
   "id": "113154c8",
   "metadata": {},
   "outputs": [
    {
     "data": {
      "image/png": "[encoded data removed]",
      "text/plain": [
       "<Figure size 576x432 with 1 Axes>"
      ]
     },
     "metadata": {
      "needs_background": "light"
     },
     "output_type": "display_data"
    }
   ],
   "source": [
    "# Plot the count of each label\n",
    "plt.figure(figsize=(8, 6))\n",
    "sns.countplot(x='label', data=balanced_df)\n",
    "plt.title('Count of each label')\n",
    "plt.xlabel('Label')\n",
    "plt.ylabel('Count')\n",
    "plt.show()"
   ]
  },
  {
   "cell_type": "markdown",
   "id": "28c2c580",
   "metadata": {},
   "source": [
    "**vectorization-\n",
    "Text vectorization converts text data into numerical vectors, representing features such as word frequencies or semantic meanings. This transformation allows machine learning algorithms to process and analyze text, enabling tasks like sentiment analysis"
   ]
  },
  {
   "cell_type": "code",
   "execution_count": 74,
   "id": "95b24828",
   "metadata": {},
   "outputs": [],
   "source": [
    "from sklearn.feature_extraction.text import TfidfVectorizer\n",
    "\n",
    "\n",
    "# Handle NaN values by replacing them with an empty string\n",
    "balanced_df['text'].fillna('', inplace=True)\n",
    "\n"
   ]
  },
  {
   "cell_type": "markdown",
   "id": "cd13a01f",
   "metadata": {},
   "source": [
    "## SPLITTING OF DATASET INTO TRAIN[70%],TEST[20%] AND VALIDATE [10%] DATASET"
   ]
  },
  {
   "cell_type": "code",
   "execution_count": 75,
   "id": "2954911d",
   "metadata": {},
   "outputs": [],
   "source": [
    "y=balanced_df['label']\n",
    "X=balanced_df['text']\n",
    "# First, split the dataset into Train (70%) and combined Test-Validation (30%)\n",
    "X_train_val, X_test, y_train_val, y_test = train_test_split(X, y, test_size=0.3, random_state=42)\n",
    "\n",
    "# Then, split the combined Train-Validation set into Train (70%) and Validation (10%)\n",
    "X_train, X_val, y_train, y_val = train_test_split(X_train_val, y_train_val, test_size=1/3, random_state=42)\n"
   ]
  },
  {
   "cell_type": "markdown",
   "id": "327430fb",
   "metadata": {},
   "source": [
    "# RANDOM FOREST"
   ]
  },
  {
   "cell_type": "markdown",
   "id": "aec2d094",
   "metadata": {},
   "source": [
    "**Random Forest is a popular ensemble learning algorithm that builds multiple decision trees during training and combines their predictions through voting or averaging. It's robust against overfitting, capable of handling large datasets with high dimensionality"
   ]
  },
  {
   "cell_type": "code",
   "execution_count": 78,
   "id": "25aad37d",
   "metadata": {},
   "outputs": [
    {
     "name": "stdout",
     "output_type": "stream",
     "text": [
      "  (0, 4520)\t0.5651842666298269\n",
      "  (0, 4446)\t0.634679316545963\n",
      "  (0, 1632)\t0.1007700063907416\n",
      "  (0, 2014)\t0.5172951920469243\n",
      "  (1, 3680)\t0.3504903266339963\n",
      "  (1, 2890)\t0.3641792934981834\n",
      "  (1, 4563)\t0.5885715920142044\n",
      "  (1, 4035)\t0.3937925349703988\n",
      "  (1, 3731)\t0.3711215575501946\n",
      "  (1, 4444)\t0.3183783990919032\n",
      "  (1, 1632)\t0.06280826467755082\n",
      "  (2, 4575)\t0.3737478075940897\n",
      "  (2, 4390)\t0.2816357551707891\n",
      "  (2, 268)\t0.4014822198713139\n",
      "  (2, 4325)\t0.32178403096240776\n",
      "  (2, 4207)\t0.4554492926449436\n",
      "  (2, 3686)\t0.30275607000087223\n",
      "  (2, 4811)\t0.3782587907897127\n",
      "  (2, 1903)\t0.26673918041748296\n",
      "  (2, 1632)\t0.05418618827836145\n",
      "  (3, 379)\t0.37364708274769937\n",
      "  (3, 2319)\t0.2633119671274495\n",
      "  (3, 3045)\t0.3769066606428497\n",
      "  (3, 3115)\t0.3081514111183108\n",
      "  (3, 4909)\t0.3977811110265329\n",
      "  :\t:\n",
      "  (15008, 2183)\t0.8079514510757316\n",
      "  (15008, 1632)\t0.2410084452175685\n",
      "  (15009, 782)\t0.442612221951488\n",
      "  (15009, 20)\t0.46697934361199545\n",
      "  (15009, 3405)\t0.36463402213868445\n",
      "  (15009, 2034)\t0.29099261956255457\n",
      "  (15009, 4920)\t0.33990811330666315\n",
      "  (15009, 2123)\t0.303085963991563\n",
      "  (15009, 4336)\t0.397766828248702\n",
      "  (15009, 1632)\t0.05265892291474942\n",
      "  (15010, 3891)\t0.6348412312014219\n",
      "  (15010, 13)\t0.43307638253423003\n",
      "  (15010, 830)\t0.4755734227894979\n",
      "  (15010, 1593)\t0.42052116551794566\n",
      "  (15010, 1632)\t0.08008325009287684\n",
      "  (15011, 4958)\t0.5679671793153146\n",
      "  (15011, 1255)\t0.6924902051068426\n",
      "  (15011, 2534)\t0.4308962197088235\n",
      "  (15011, 1632)\t0.11044929557192205\n",
      "  (15012, 4508)\t0.5521274011641735\n",
      "  (15012, 3052)\t0.395977112798896\n",
      "  (15012, 3455)\t0.4828664298975667\n",
      "  (15012, 1897)\t0.40626035390015247\n",
      "  (15012, 400)\t0.36441083664919294\n",
      "  (15012, 1632)\t0.08575976260859534\n"
     ]
    }
   ],
   "source": [
    "\n",
    "# Vectorize the text data using TF-IDF\n",
    "tfidf_vectorizer = TfidfVectorizer(max_features=5000)  \n",
    "X_train_tfidf = tfidf_vectorizer.fit_transform(X_train)\n",
    "X_test_tfidf = tfidf_vectorizer.transform(X_test)\n",
    "X_val_tfidf = tfidf_vectorizer.transform(X_val)\n",
    "print(X_train_tfidf)\n"
   ]
  },
  {
   "cell_type": "code",
   "execution_count": 83,
   "id": "9de62fd6",
   "metadata": {},
   "outputs": [],
   "source": [
    "import pandas as pd\n",
    "from sklearn.feature_extraction.text import TfidfVectorizer\n",
    "from sklearn.model_selection import train_test_split, GridSearchCV\n",
    "from sklearn.linear_model import LogisticRegression\n",
    "from sklearn.svm import SVC\n",
    "from sklearn.ensemble import RandomForestClassifier\n",
    "from sklearn.metrics import classification_report, confusion_matrix\n"
   ]
  },
  {
   "cell_type": "code",
   "execution_count": 84,
   "id": "64cec519",
   "metadata": {},
   "outputs": [],
   "source": [
    "\n",
    "\n",
    "# Prepare the data\n",
    "texts = balanced_df['text'].values\n",
    "labels = balanced_df['label'].values\n"
   ]
  },
  {
   "cell_type": "code",
   "execution_count": 85,
   "id": "f603c9f4",
   "metadata": {},
   "outputs": [
    {
     "name": "stdout",
     "output_type": "stream",
     "text": [
      "TF-IDF matrix shape: (32172, 5000)\n"
     ]
    }
   ],
   "source": [
    "# Vectorize the text data using TF-IDF\n",
    "vectorizer = TfidfVectorizer(max_features=5000)\n",
    "X = vectorizer.fit_transform(texts)\n",
    "\n",
    "print(f\"TF-IDF matrix shape: {X.shape}\")\n"
   ]
  },
  {
   "cell_type": "code",
   "execution_count": 86,
   "id": "f445daa6",
   "metadata": {},
   "outputs": [
    {
     "name": "stdout",
     "output_type": "stream",
     "text": [
      "Training samples: 22520, Testing samples: 6434, Validation samples: 3218\n"
     ]
    }
   ],
   "source": [
    "# Split the data into training (70%), testing (20%), and validation (10%) sets\n",
    "X_train, X_temp, y_train, y_temp = train_test_split(X, labels, test_size=0.3, random_state=42)\n",
    "X_test, X_val, y_test, y_val = train_test_split(X_temp, y_temp, test_size=0.3333, random_state=42)  # 0.3333 * 0.3 ≈ 0.10\n",
    "\n",
    "print(f\"Training samples: {X_train.shape[0]}, Testing samples: {X_test.shape[0]}, Validation samples: {X_val.shape[0]}\")\n"
   ]
  },
  {
   "cell_type": "code",
   "execution_count": 87,
   "id": "db024eba",
   "metadata": {},
   "outputs": [
    {
     "name": "stdout",
     "output_type": "stream",
     "text": [
      "Logistic Regression Classification Report:\n",
      "              precision    recall  f1-score   support\n",
      "\n",
      "           0       0.93      0.89      0.91      1097\n",
      "           1       0.92      0.87      0.90      1104\n",
      "           2       0.92      0.94      0.93      1069\n",
      "           3       0.92      0.96      0.94      1053\n",
      "           4       0.95      0.93      0.94      1054\n",
      "           5       0.95      1.00      0.97      1057\n",
      "\n",
      "    accuracy                           0.93      6434\n",
      "   macro avg       0.93      0.93      0.93      6434\n",
      "weighted avg       0.93      0.93      0.93      6434\n",
      "\n",
      "Confusion Matrix:\n",
      "[[ 980   27   20   38   25    7]\n",
      " [  38  963   59   18   15   11]\n",
      " [  13   39 1002    6    8    1]\n",
      " [  16    7    6 1009    8    7]\n",
      " [   9    6    6   25  977   31]\n",
      " [   0    0    0    0    0 1057]]\n"
     ]
    },
    {
     "name": "stderr",
     "output_type": "stream",
     "text": [
      "/opt/anaconda3/lib/python3.9/site-packages/sklearn/linear_model/_logistic.py:814: ConvergenceWarning: lbfgs failed to converge (status=1):\n",
      "STOP: TOTAL NO. of ITERATIONS REACHED LIMIT.\n",
      "\n",
      "Increase the number of iterations (max_iter) or scale the data as shown in:\n",
      "    https://scikit-learn.org/stable/modules/preprocessing.html\n",
      "Please also refer to the documentation for alternative solver options:\n",
      "    https://scikit-learn.org/stable/modules/linear_model.html#logistic-regression\n",
      "  n_iter_i = _check_optimize_result(\n"
     ]
    }
   ],
   "source": [
    "# Initialize and train the Logistic Regression classifier\n",
    "log_reg = LogisticRegression()\n",
    "log_reg.fit(X_train, y_train)\n",
    "\n",
    "# Make predictions on the test set\n",
    "y_pred_log_reg = log_reg.predict(X_test)\n",
    "\n",
    "# Evaluate the model\n",
    "print(\"Logistic Regression Classification Report:\")\n",
    "print(classification_report(y_test, y_pred_log_reg))\n",
    "print(\"Confusion Matrix:\")\n",
    "print(confusion_matrix(y_test, y_pred_log_reg))\n"
   ]
  },
  {
   "cell_type": "code",
   "execution_count": 88,
   "id": "91db41d5",
   "metadata": {},
   "outputs": [
    {
     "name": "stdout",
     "output_type": "stream",
     "text": [
      "SVM Classification Report:\n",
      "              precision    recall  f1-score   support\n",
      "\n",
      "           0       0.95      0.94      0.94      1097\n",
      "           1       0.95      0.93      0.94      1104\n",
      "           2       0.96      0.98      0.97      1069\n",
      "           3       0.96      0.97      0.96      1053\n",
      "           4       0.98      0.97      0.97      1054\n",
      "           5       0.98      1.00      0.99      1057\n",
      "\n",
      "    accuracy                           0.96      6434\n",
      "   macro avg       0.96      0.96      0.96      6434\n",
      "weighted avg       0.96      0.96      0.96      6434\n",
      "\n",
      "Confusion Matrix:\n",
      "[[1029   23    5   25   13    2]\n",
      " [  23 1023   32   11    8    7]\n",
      " [   9   12 1047    0    0    1]\n",
      " [  14   14    2 1018    5    0]\n",
      " [   6    5    3    6 1022   12]\n",
      " [   0    0    0    0    0 1057]]\n"
     ]
    }
   ],
   "source": [
    "# Initialize and train the SVM classifier\n",
    "svm = SVC()\n",
    "svm.fit(X_train, y_train)\n",
    "\n",
    "# Make predictions on the test set\n",
    "y_pred_svm = svm.predict(X_test)\n",
    "\n",
    "# Evaluate the model\n",
    "print(\"SVM Classification Report:\")\n",
    "print(classification_report(y_test, y_pred_svm))\n",
    "print(\"Confusion Matrix:\")\n",
    "print(confusion_matrix(y_test, y_pred_svm))\n"
   ]
  },
  {
   "cell_type": "code",
   "execution_count": 89,
   "id": "4d416e52",
   "metadata": {},
   "outputs": [
    {
     "name": "stdout",
     "output_type": "stream",
     "text": [
      "Fitting 3 folds for each of 4 candidates, totalling 12 fits\n",
      "Random Forest Classification Report (After Hyperparameter Tuning):\n",
      "              precision    recall  f1-score   support\n",
      "\n",
      "           0       0.93      0.80      0.86      1097\n",
      "           1       0.75      0.83      0.79      1104\n",
      "           2       0.84      0.90      0.87      1069\n",
      "           3       0.91      0.90      0.90      1053\n",
      "           4       0.95      0.82      0.88      1054\n",
      "           5       0.89      0.99      0.94      1057\n",
      "\n",
      "    accuracy                           0.87      6434\n",
      "   macro avg       0.88      0.87      0.87      6434\n",
      "weighted avg       0.88      0.87      0.87      6434\n",
      "\n",
      "Confusion Matrix:\n",
      "[[ 874  103   53   36   19   12]\n",
      " [  21  921   95   26   17   24]\n",
      " [   4   91  963    4    5    2]\n",
      " [  28   57   16  944    3    5]\n",
      " [  11   45   20   33  865   80]\n",
      " [   0    9    0    0    0 1048]]\n",
      "Best parameters found: {'max_depth': 20, 'n_estimators': 200}\n"
     ]
    }
   ],
   "source": [
    "#random forest\n",
    "# Define the parameter grid\n",
    "param_grid = {\n",
    "    'n_estimators': [100, 200],\n",
    "    'max_depth': [10, 20]\n",
    "}\n",
    "\n",
    "# Initialize the Random Forest classifier\n",
    "rf = RandomForestClassifier(random_state=42)\n",
    "\n",
    "# Perform grid search\n",
    "grid_search = GridSearchCV(estimator=rf, param_grid=param_grid, cv=3, scoring='accuracy', verbose=2, n_jobs=-1)\n",
    "grid_search.fit(X_train, y_train)\n",
    "\n",
    "# Get the best model\n",
    "best_rf = grid_search.best_estimator_\n",
    "\n",
    "# Make predictions on the test set\n",
    "y_pred_rf = best_rf.predict(X_test)\n",
    "\n",
    "# Evaluate the model\n",
    "print(\"Random Forest Classification Report (After Hyperparameter Tuning):\")\n",
    "print(classification_report(y_test, y_pred_rf))\n",
    "print(\"Confusion Matrix:\")\n",
    "print(confusion_matrix(y_test, y_pred_rf))\n",
    "\n",
    "print(f\"Best parameters found: {grid_search.best_params_}\")\n"
   ]
  },
  {
   "cell_type": "code",
   "execution_count": null,
   "id": "3048d159",
   "metadata": {},
   "outputs": [],
   "source": [
    "#  normal dataset ...(without upsampling)"
   ]
  },
  {
   "cell_type": "code",
   "execution_count": 92,
   "id": "2173a047",
   "metadata": {},
   "outputs": [
    {
     "name": "stdout",
     "output_type": "stream",
     "text": [
      "Fitting 3 folds for each of 8 candidates, totalling 24 fits\n",
      "XGBoost Classification Report (After Hyperparameter Tuning):\n",
      "              precision    recall  f1-score   support\n",
      "\n",
      "           0       0.93      0.88      0.90       943\n",
      "           1       0.84      0.91      0.88      1068\n",
      "           2       0.84      0.66      0.74       293\n",
      "           3       0.80      0.87      0.83       395\n",
      "           4       0.84      0.83      0.84       379\n",
      "           5       0.69      0.66      0.67       122\n",
      "\n",
      "    accuracy                           0.85      3200\n",
      "   macro avg       0.82      0.80      0.81      3200\n",
      "weighted avg       0.86      0.85      0.85      3200\n",
      "\n",
      "Confusion Matrix:\n",
      "[[827  51   8  35  17   5]\n",
      " [ 23 976  24  21  11  13]\n",
      " [  6  83 193   6   4   1]\n",
      " [ 24  17   2 344   6   2]\n",
      " [  9  18   1  20 315  16]\n",
      " [  2  14   1   3  21  81]]\n",
      "Best parameters found: {'learning_rate': 0.1, 'max_depth': 20, 'n_estimators': 200}\n",
      "[CV] END .learning_rate=0.01, max_depth=20, n_estimators=100; total time= 1.9min\n",
      "[CV] END ..learning_rate=0.1, max_depth=10, n_estimators=100; total time=  48.3s\n",
      "[CV] END ..learning_rate=0.1, max_depth=20, n_estimators=100; total time= 1.8min\n",
      "[CV] END .learning_rate=0.01, max_depth=10, n_estimators=100; total time=  54.6s\n",
      "[CV] END .learning_rate=0.01, max_depth=20, n_estimators=200; total time= 3.7min\n",
      "[CV] END .learning_rate=0.01, max_depth=10, n_estimators=100; total time=  55.1s\n",
      "[CV] END .learning_rate=0.01, max_depth=20, n_estimators=200; total time= 3.7min\n",
      "[CV] END .learning_rate=0.01, max_depth=20, n_estimators=100; total time= 1.9min\n",
      "[CV] END ..learning_rate=0.1, max_depth=10, n_estimators=200; total time= 1.5min\n",
      "[CV] END ..learning_rate=0.1, max_depth=20, n_estimators=100; total time= 1.6min\n",
      "[CV] END .learning_rate=0.01, max_depth=10, n_estimators=200; total time= 1.8min\n",
      "[CV] END .learning_rate=0.01, max_depth=20, n_estimators=200; total time= 3.4min\n",
      "[CV] END .learning_rate=0.01, max_depth=10, n_estimators=200; total time= 1.8min\n",
      "[CV] END ..learning_rate=0.1, max_depth=10, n_estimators=100; total time=  48.4s\n",
      "[CV] END ..learning_rate=0.1, max_depth=10, n_estimators=200; total time= 1.4min\n",
      "[CV] END ..learning_rate=0.1, max_depth=20, n_estimators=200; total time= 1.9min\n",
      "[CV] END .learning_rate=0.01, max_depth=10, n_estimators=200; total time= 1.8min\n",
      "[CV] END ..learning_rate=0.1, max_depth=10, n_estimators=100; total time=  49.2s\n",
      "[CV] END ..learning_rate=0.1, max_depth=10, n_estimators=200; total time= 1.5min\n",
      "[CV] END ..learning_rate=0.1, max_depth=20, n_estimators=200; total time= 1.9min\n",
      "[CV] END .learning_rate=0.01, max_depth=10, n_estimators=100; total time=  54.0s\n",
      "[CV] END .learning_rate=0.01, max_depth=20, n_estimators=100; total time= 1.8min\n",
      "[CV] END ..learning_rate=0.1, max_depth=20, n_estimators=100; total time= 1.7min\n",
      "[CV] END ..learning_rate=0.1, max_depth=20, n_estimators=200; total time= 1.8min\n"
     ]
    }
   ],
   "source": [
    "import pandas as pd\n",
    "from sklearn.feature_extraction.text import TfidfVectorizer\n",
    "from sklearn.model_selection import train_test_split, GridSearchCV\n",
    "from sklearn.linear_model import LogisticRegression\n",
    "from sklearn.svm import SVC\n",
    "from xgboost import XGBClassifier\n",
    "from sklearn.metrics import classification_report, confusion_matrix\n",
    "# Define the parameter grid\n",
    "param_grid = {\n",
    "    'n_estimators': [100, 200],\n",
    "    'max_depth': [10, 20],\n",
    "    'learning_rate': [0.01, 0.1]\n",
    "}\n",
    "\n",
    "\n",
    "# Prepare the data\n",
    "texts = df['text'].values\n",
    "labels = df['label'].values\n",
    "\n",
    "\n",
    "# Vectorize the text data using TF-IDF\n",
    "vectorizer = TfidfVectorizer(max_features=5000)\n",
    "X = vectorizer.fit_transform(texts)\n",
    "\n",
    "# Split the data into training (70%), testing (20%), and validation (10%) sets\n",
    "X_train, X_temp, y_train, y_temp = train_test_split(X, labels, test_size=0.3, random_state=42)\n",
    "X_test, X_val, y_test, y_val = train_test_split(X_temp, y_temp, test_size=0.3333, random_state=42)  \n",
    "# Initialize the XGBoost classifier\n",
    "xgb = XGBClassifier(use_label_encoder=False, eval_metric='mlogloss', random_state=42)\n",
    "\n",
    "# Perform grid search\n",
    "grid_search = GridSearchCV(estimator=xgb, param_grid=param_grid, cv=3, scoring='accuracy', verbose=2, n_jobs=-1)\n",
    "grid_search.fit(X_train, y_train)\n",
    "\n",
    "# Get the best model\n",
    "best_xgb = grid_search.best_estimator_\n",
    "\n",
    "# Make predictions on the test set\n",
    "y_pred_xgb = best_xgb.predict(X_test)\n",
    "\n",
    "# Evaluate the model\n",
    "print(\"XGBoost Classification Report (After Hyperparameter Tuning):\")\n",
    "print(classification_report(y_test, y_pred_xgb))\n",
    "print(\"Confusion Matrix:\")\n",
    "print(confusion_matrix(y_test, y_pred_xgb))\n",
    "\n",
    "print(f\"Best parameters found: {grid_search.best_params_}\")\n"
   ]
  },
  {
   "cell_type": "code",
   "execution_count": null,
   "id": "42dff5de",
   "metadata": {},
   "outputs": [],
   "source": [
    "#xgboost on balanced dataset"
   ]
  },
  {
   "cell_type": "code",
   "execution_count": null,
   "id": "1adc7146",
   "metadata": {},
   "outputs": [],
   "source": []
  }
 ],
 "metadata": {
  "kernelspec": {
   "display_name": "Python 3 (ipykernel)",
   "language": "python",
   "name": "python3"
  },
  "language_info": {
   "codemirror_mode": {
    "name": "ipython",
    "version": 3
   },
   "file_extension": ".py",
   "mimetype": "text/x-python",
   "name": "python",
   "nbconvert_exporter": "python",
   "pygments_lexer": "ipython3",
   "version": "3.9.12"
  }
 },
 "nbformat": 4,
 "nbformat_minor": 5
}
