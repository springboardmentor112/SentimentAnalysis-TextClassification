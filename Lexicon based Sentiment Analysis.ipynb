{
 "cells": [
  {
   "cell_type": "markdown",
   "id": "f9655d9f",
   "metadata": {},
   "source": [
    "## Printed the \"content\" data after implementing data preprocessing techniques"
   ]
  },
  {
   "cell_type": "code",
   "execution_count": 28,
   "id": "d32a3570",
   "metadata": {},
   "outputs": [
    {
     "name": "stdout",
     "output_type": "stream",
     "text": [
      "0        recur task day need todolist remind buzz time ...\n",
      "1        instead shop download anydo wide set day sched...\n",
      "2        blue app ask updat acct email task list lost t...\n",
      "3        terribl updat app perfect plan certain task co...\n",
      "4        app deceivingli terribl nice design featur lik...\n",
      "                               ...                        \n",
      "16782                                            excel app\n",
      "16783    love easi use life organ love way photo locat ...\n",
      "16784                    love plan check app everyday love\n",
      "16785                                         exactli need\n",
      "16786                                                 good\n",
      "Name: content, Length: 16787, dtype: object\n"
     ]
    }
   ],
   "source": [
    "print(data['content'])"
   ]
  },
  {
   "cell_type": "markdown",
   "id": "b6816eea",
   "metadata": {},
   "source": [
    "## Import necessary libraries and download the VADER lexicon"
   ]
  },
  {
   "cell_type": "code",
   "execution_count": 31,
   "id": "0f487c10",
   "metadata": {},
   "outputs": [
    {
     "name": "stderr",
     "output_type": "stream",
     "text": [
      "[nltk_data] Downloading package vader_lexicon to\n",
      "[nltk_data]     C:\\Users\\sumit\\AppData\\Roaming\\nltk_data...\n",
      "[nltk_data]   Package vader_lexicon is already up-to-date!\n"
     ]
    },
    {
     "data": {
      "text/plain": [
       "True"
      ]
     },
     "execution_count": 31,
     "metadata": {},
     "output_type": "execute_result"
    }
   ],
   "source": [
    "import nltk\n",
    "from nltk.sentiment.vader import SentimentIntensityAnalyzer\n",
    "\n",
    "# Downloaded VADER lexicon\n",
    "nltk.download('vader_lexicon')"
   ]
  },
  {
   "cell_type": "markdown",
   "id": "b3671b86",
   "metadata": {},
   "source": [
    "## Initialized the VADER sentiment analyze"
   ]
  },
  {
   "cell_type": "code",
   "execution_count": 32,
   "id": "d0b8eee5",
   "metadata": {},
   "outputs": [],
   "source": [
    "# Initialized VADER\n",
    "sid = SentimentIntensityAnalyzer()"
   ]
  },
  {
   "cell_type": "markdown",
   "id": "47a08ed1",
   "metadata": {},
   "source": [
    "## Defined a function to get the sentiment score using VADER"
   ]
  },
  {
   "cell_type": "code",
   "execution_count": 33,
   "id": "5fcf9679",
   "metadata": {},
   "outputs": [],
   "source": [
    "# Function to get sentiment score\n",
    "def get_sentiment_score(text):\n",
    "    return sid.polarity_scores(text)['compound']"
   ]
  },
  {
   "cell_type": "markdown",
   "id": "dd5c5c07",
   "metadata": {},
   "source": [
    "## Apply sentiment analysis to your 'content' column and create a new column for sentiment score:"
   ]
  },
  {
   "cell_type": "code",
   "execution_count": 34,
   "id": "a0c77a64",
   "metadata": {},
   "outputs": [],
   "source": [
    "# Applyed sentiment analysis to your 'content' column\n",
    "data['sentiment_score'] = data['content'].apply(get_sentiment_score)"
   ]
  },
  {
   "cell_type": "markdown",
   "id": "364f1f38",
   "metadata": {},
   "source": [
    "## Defined a function to classify sentiments based on the score:"
   ]
  },
  {
   "cell_type": "code",
   "execution_count": 35,
   "id": "c2fbacde",
   "metadata": {},
   "outputs": [],
   "source": [
    "# Classifyed sentiments based on the score\n",
    "def classify_sentiment(score):\n",
    "    if score >= 0.05:\n",
    "        return 'Positive'\n",
    "    elif score <= -0.05:\n",
    "        return 'Negative'\n",
    "    else:\n",
    "        return 'Neutral'"
   ]
  },
  {
   "cell_type": "markdown",
   "id": "74dc18d4",
   "metadata": {},
   "source": [
    "## Apply sentiment classification and create a new column for sentiment"
   ]
  },
  {
   "cell_type": "code",
   "execution_count": 36,
   "id": "ded06f4e",
   "metadata": {},
   "outputs": [],
   "source": [
    "# Applyed sentiment classification\n",
    "data['sentiment'] = data['sentiment_score'].apply(classify_sentiment)"
   ]
  },
  {
   "cell_type": "markdown",
   "id": "966a9c6f",
   "metadata": {},
   "source": [
    "## Print the results\n"
   ]
  },
  {
   "cell_type": "code",
   "execution_count": 38,
   "id": "dcc4dd69",
   "metadata": {},
   "outputs": [
    {
     "name": "stdout",
     "output_type": "stream",
     "text": [
      "                                                 content  sentiment_score  \\\n",
      "0      recur task day need todolist remind buzz time ...          -0.8555   \n",
      "1      instead shop download anydo wide set day sched...           0.1027   \n",
      "2      blue app ask updat acct email task list lost t...          -0.7430   \n",
      "3      terribl updat app perfect plan certain task co...           0.4588   \n",
      "4      app deceivingli terribl nice design featur lik...           0.0346   \n",
      "...                                                  ...              ...   \n",
      "16782                                          excel app           0.4588   \n",
      "16783  love easi use life organ love way photo locat ...           0.9477   \n",
      "16784                  love plan check app everyday love           0.8555   \n",
      "16785                                       exactli need           0.0000   \n",
      "16786                                               good           0.4404   \n",
      "\n",
      "      sentiment  \n",
      "0      Negative  \n",
      "1      Positive  \n",
      "2      Negative  \n",
      "3      Positive  \n",
      "4       Neutral  \n",
      "...         ...  \n",
      "16782  Positive  \n",
      "16783  Positive  \n",
      "16784  Positive  \n",
      "16785   Neutral  \n",
      "16786  Positive  \n",
      "\n",
      "[16787 rows x 3 columns]\n"
     ]
    }
   ],
   "source": [
    "print(data[['content', 'sentiment_score', 'sentiment']])"
   ]
  },
  {
   "cell_type": "code",
   "execution_count": null,
   "id": "2225a12f",
   "metadata": {},
   "outputs": [],
   "source": []
  }
 ],
 "metadata": {
  "kernelspec": {
   "display_name": "Python 3 (ipykernel)",
   "language": "python",
   "name": "python3"
  },
  "language_info": {
   "codemirror_mode": {
    "name": "ipython",
    "version": 3
   },
   "file_extension": ".py",
   "mimetype": "text/x-python",
   "name": "python",
   "nbconvert_exporter": "python",
   "pygments_lexer": "ipython3",
   "version": "3.11.5"
  }
 },
 "nbformat": 4,
 "nbformat_minor": 5
}
