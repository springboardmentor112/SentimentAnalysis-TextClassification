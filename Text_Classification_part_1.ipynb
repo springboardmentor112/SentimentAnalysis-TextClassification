{
 "cells": [
  {
   "cell_type": "code",
   "execution_count": 1,
   "id": "2382f82e",
   "metadata": {},
   "outputs": [
    {
     "name": "stderr",
     "output_type": "stream",
     "text": [
      "[nltk_data] Downloading package wordnet to\n",
      "[nltk_data]     C:\\Users\\DELL\\AppData\\Roaming\\nltk_data...\n",
      "[nltk_data]   Package wordnet is already up-to-date!\n",
      "[nltk_data] Downloading package omw-1.4 to\n",
      "[nltk_data]     C:\\Users\\DELL\\AppData\\Roaming\\nltk_data...\n",
      "[nltk_data]   Package omw-1.4 is already up-to-date!\n",
      "[nltk_data] Downloading package stopwords to\n",
      "[nltk_data]     C:\\Users\\DELL\\AppData\\Roaming\\nltk_data...\n",
      "[nltk_data]   Package stopwords is already up-to-date!\n",
      "[nltk_data] Downloading package punkt to\n",
      "[nltk_data]     C:\\Users\\DELL\\AppData\\Roaming\\nltk_data...\n",
      "[nltk_data]   Package punkt is already up-to-date!\n"
     ]
    },
    {
     "data": {
      "text/plain": [
       "True"
      ]
     },
     "execution_count": 1,
     "metadata": {},
     "output_type": "execute_result"
    }
   ],
   "source": [
    "import numpy as np\n",
    "import pandas as pd\n",
    "import re\n",
    "import nltk\n",
    "from nltk.corpus import stopwords\n",
    "from nltk.stem import PorterStemmer\n",
    "from nltk.tokenize import word_tokenize \n",
    "from nltk.stem import WordNetLemmatizer\n",
    "import matplotlib.pyplot as plt\n",
    "# Downloading data for Lemmitization process\n",
    "nltk.download('wordnet')\n",
    "nltk.download('omw-1.4')\n",
    "nltk.download('stopwords')\n",
    "nltk.download('punkt')"
   ]
  },
  {
   "cell_type": "markdown",
   "id": "933b1775",
   "metadata": {},
   "source": [
    "# Importing the Dataset "
   ]
  },
  {
   "cell_type": "code",
   "execution_count": 2,
   "id": "811781ac",
   "metadata": {},
   "outputs": [
    {
     "data": {
      "text/html": [
       "<div>\n",
       "<style scoped>\n",
       "    .dataframe tbody tr th:only-of-type {\n",
       "        vertical-align: middle;\n",
       "    }\n",
       "\n",
       "    .dataframe tbody tr th {\n",
       "        vertical-align: top;\n",
       "    }\n",
       "\n",
       "    .dataframe thead th {\n",
       "        text-align: right;\n",
       "    }\n",
       "</style>\n",
       "<table border=\"1\" class=\"dataframe\">\n",
       "  <thead>\n",
       "    <tr style=\"text-align: right;\">\n",
       "      <th></th>\n",
       "      <th>text</th>\n",
       "      <th>label</th>\n",
       "    </tr>\n",
       "  </thead>\n",
       "  <tbody>\n",
       "    <tr>\n",
       "      <th>0</th>\n",
       "      <td>i didnt feel humiliated</td>\n",
       "      <td>0</td>\n",
       "    </tr>\n",
       "    <tr>\n",
       "      <th>1</th>\n",
       "      <td>i can go from feeling so hopeless to so damned...</td>\n",
       "      <td>0</td>\n",
       "    </tr>\n",
       "  </tbody>\n",
       "</table>\n",
       "</div>"
      ],
      "text/plain": [
       "                                                text  label\n",
       "0                            i didnt feel humiliated      0\n",
       "1  i can go from feeling so hopeless to so damned...      0"
      ]
     },
     "execution_count": 2,
     "metadata": {},
     "output_type": "execute_result"
    }
   ],
   "source": [
    "df = pd.read_csv(r\"F:\\anu\\infosys_internship\\Emotions_training.csv\")\n",
    "\n",
    "df.head(2)"
   ]
  },
  {
   "cell_type": "markdown",
   "id": "709b36e2",
   "metadata": {},
   "source": [
    "# Data Preprocessing"
   ]
  },
  {
   "cell_type": "code",
   "execution_count": 3,
   "id": "24fd2bce",
   "metadata": {},
   "outputs": [],
   "source": [
    "#Converting into lower case\n",
    "df['text']=df['text'].str.lower()\n",
    "\n",
    "#Removing links\n",
    "df['text'] = df['text'].fillna('')\n",
    "\n",
    "df['text'] = df['text'].apply(lambda x: re.sub(r\"http\\S+\", \"\", x))\n",
    "\n",
    "#Remove next lines\n",
    "df['text'] = df['text'].str.replace('\\n',' ')\n",
    "\n",
    "#Removing words containing numbers\n",
    "pattern = r'\\b\\w*\\d\\w*\\b'\n",
    "\n",
    "def remove_words_containing_numbers(text):\n",
    "    return re.sub(pattern, '', text)\n",
    "\n",
    "df['text'] = df['text'].apply(remove_words_containing_numbers)\n",
    "\n",
    "#Removing extra spaces\n",
    "df['text'] = df['text'].apply(lambda x: ' '.join(x.split()))\n",
    "\n",
    "#Removing special characters\n",
    "df['text'] = df['text'].apply(lambda x: re.sub('[^A-Za-z0-9]+', '', x))\n",
    "\n",
    "#Removing stop words\n",
    "stop_words = set(stopwords.words('english'))\n",
    "# applying the process of removing the stop words using function\n",
    "def removing_stopwords(text):\n",
    "    tokens = word_tokenize(text)\n",
    "    text = [word for word in tokens if word.lower() not in stop_words]\n",
    "    return ' '.join(text)\n",
    "\n",
    "df['text'] = df['text'].apply(removing_stopwords)\n",
    "\n",
    "#Stemming process\n",
    "stemmer = PorterStemmer()\n",
    "# applying the process\n",
    "\n",
    "def stemming_process(word):\n",
    "    return stemmer.stem(word)\n",
    "\n",
    "#calling the function\n",
    "df['text'] = df['text'].apply(lambda x: ' '.join(stemming_process(word) for word in x.split()))\n",
    "\n",
    "#Lemmatization\n",
    "lemmatizer = WordNetLemmatizer()\n",
    "df['text'] = df['text'].apply(lambda x: ' '.join([lemmatizer.lemmatize(word) for word in x.split()]))"
   ]
  },
  {
   "cell_type": "markdown",
   "id": "54d77968",
   "metadata": {},
   "source": [
    "# Bar Graph representation "
   ]
  },
  {
   "cell_type": "code",
   "execution_count": 4,
   "id": "324f272d",
   "metadata": {},
   "outputs": [
    {
     "data": {
      "image/png": "[encoded data removed]",
      "text/plain": [
       "<Figure size 640x480 with 1 Axes>"
      ]
     },
     "metadata": {},
     "output_type": "display_data"
    }
   ],
   "source": [
    "counts = df['label'].value_counts()\n",
    "\n",
    "# plot the counts as a bar graph\n",
    "counts.plot(kind='bar')\n",
    "\n",
    "# show the plot\n",
    "plt.show()"
   ]
  },
  {
   "cell_type": "markdown",
   "id": "2a019673",
   "metadata": {},
   "source": [
    "# Vectorizing the text"
   ]
  },
  {
   "cell_type": "code",
   "execution_count": 5,
   "id": "a82c7bf0",
   "metadata": {},
   "outputs": [
    {
     "name": "stdout",
     "output_type": "stream",
     "text": [
      "n_samples: 16000, n_features: 15968\n"
     ]
    }
   ],
   "source": [
    "from sklearn.feature_extraction.text import TfidfVectorizer\n",
    "\n",
    "def vectorize_text_data(data, column):\n",
    "    \"\"\"Vectorize the text data in a particular column of a dataset.\"\"\"\n",
    "    vectorizer = TfidfVectorizer() \n",
    "    vectors = vectorizer.fit_transform(data[column])\n",
    "    return vectors\n",
    "\n",
    "#'df' is our DataFrame and 'text' is the column you want to vectorize\n",
    "vectors = vectorize_text_data(df, 'text')\n",
    "\n",
    "# print the shape of the TF-IDF matrix\n",
    "print(\"n_samples: %d, n_features: %d\" % vectors.shape)"
   ]
  },
  {
   "cell_type": "markdown",
   "id": "4f96c945",
   "metadata": {},
   "source": [
    "# Spliting the dataset into 3 parts "
   ]
  },
  {
   "cell_type": "markdown",
   "id": "ce4c35e2",
   "metadata": {},
   "source": [
    "    1.Training Data                                                                                                                  2.Testing Data                                                                                                                  3.Validation Data                                                                                                                In which the training data contains 70% of data ,testing data contains 20% and 10% of data is validation data "
   ]
  },
  {
   "cell_type": "code",
   "execution_count": 6,
   "id": "a2552aa5",
   "metadata": {},
   "outputs": [
    {
     "name": "stdout",
     "output_type": "stream",
     "text": [
      "Training data size: 11200\n",
      "Testing data size: 3216\n",
      "Validation data size: 1584\n"
     ]
    }
   ],
   "source": [
    "from sklearn.model_selection import train_test_split\n",
    "\n",
    "# `df` is our dataset and `label` are the target variables\n",
    "\n",
    "# Divide the data into 70% training and 30% remaining data\n",
    "train_data, remaining_data = train_test_split(df, test_size=0.3, random_state=42)\n",
    "\n",
    "# Divide the remaining 30% data into 20% testing and 10% validation data\n",
    "test_data, validation_data = train_test_split(remaining_data, test_size=0.33, random_state=42)\n",
    "\n",
    "# Verify the sizes of the splits\n",
    "print(\"Training data size:\", len(train_data))\n",
    "print(\"Testing data size:\", len(test_data))\n",
    "print(\"Validation data size:\", len(validation_data))"
   ]
  }
 ],
 "metadata": {
  "kernelspec": {
   "display_name": "Python 3 (ipykernel)",
   "language": "python",
   "name": "python3"
  },
  "language_info": {
   "codemirror_mode": {
    "name": "ipython",
    "version": 3
   },
   "file_extension": ".py",
   "mimetype": "text/x-python",
   "name": "python",
   "nbconvert_exporter": "python",
   "pygments_lexer": "ipython3",
   "version": "3.9.13"
  }
 },
 "nbformat": 4,
 "nbformat_minor": 5
}
