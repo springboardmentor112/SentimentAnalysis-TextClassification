{
 "cells": [
  {
   "cell_type": "code",
   "execution_count": 1,
   "id": "35c64925-e84b-4f70-a029-f81fc1f02d5a",
   "metadata": {},
   "outputs": [],
   "source": [
    "import pandas as pd\n",
    "import nltk\n",
    "from nltk.corpus import stopwords\n",
    "import ast"
   ]
  },
  {
   "cell_type": "code",
   "execution_count": 2,
   "id": "77f3fc06-764b-4da3-ae33-4db9373185ff",
   "metadata": {},
   "outputs": [
    {
     "name": "stderr",
     "output_type": "stream",
     "text": [
      "[nltk_data] Downloading package punkt to\n",
      "[nltk_data]     C:\\Users\\divit\\AppData\\Roaming\\nltk_data...\n",
      "[nltk_data]   Package punkt is already up-to-date!\n",
      "[nltk_data] Error loading average_perceptron_tagger: Package\n",
      "[nltk_data]     'average_perceptron_tagger' not found in index\n",
      "[nltk_data] Downloading package words to\n",
      "[nltk_data]     C:\\Users\\divit\\AppData\\Roaming\\nltk_data...\n",
      "[nltk_data]   Package words is already up-to-date!\n",
      "[nltk_data] Downloading package stopwords to\n",
      "[nltk_data]     C:\\Users\\divit\\AppData\\Roaming\\nltk_data...\n",
      "[nltk_data]   Package stopwords is already up-to-date!\n"
     ]
    },
    {
     "data": {
      "text/plain": [
       "True"
      ]
     },
     "execution_count": 2,
     "metadata": {},
     "output_type": "execute_result"
    }
   ],
   "source": [
    "#Downloading using nltk packages\n",
    "nltk.download('punkt')\n",
    "nltk.download('average_perceptron_tagger')\n",
    "nltk.download('words')\n",
    "nltk.download('stopwords')"
   ]
  },
  {
   "cell_type": "code",
   "execution_count": 3,
   "id": "734783fd-4a97-4cdd-850c-6da1f246f90b",
   "metadata": {},
   "outputs": [],
   "source": [
    "#Reading the data file\n",
    "df = pd.read_csv(r'D:/Sentiment Analysis/reviews.csv')"
   ]
  },
  {
   "cell_type": "code",
   "execution_count": 4,
   "id": "3195a6cd-33ee-432e-a32e-b33040793c2e",
   "metadata": {},
   "outputs": [],
   "source": [
    "#Converting datatype to string\n",
    "df['content']=df['content'].astype(str)"
   ]
  },
  {
   "cell_type": "markdown",
   "id": "e1b77f0f-e806-42c4-915e-3e0ce72f09a2",
   "metadata": {},
   "source": [
    "**#Lower Case**"
   ]
  },
  {
   "cell_type": "code",
   "execution_count": 5,
   "id": "53234ce7-ee3b-475b-9398-39e7c8d992a9",
   "metadata": {},
   "outputs": [],
   "source": [
    "df['content']=df['content'].apply(lambda x:\" \".join(x.lower() for x in x.split()))"
   ]
  },
  {
   "cell_type": "markdown",
   "id": "b3a57e1f-0c4b-4b08-8ff0-7a6be8e9d58b",
   "metadata": {},
   "source": [
    "**#Remove Links**"
   ]
  },
  {
   "cell_type": "code",
   "execution_count": 6,
   "id": "b9c5170f-cebd-47c0-9c04-eda8b1e632de",
   "metadata": {},
   "outputs": [],
   "source": [
    "import re\n",
    "url_pattern = re.compile(r'https?://\\S+|www\\.\\S+')"
   ]
  },
  {
   "cell_type": "code",
   "execution_count": 7,
   "id": "d19534b8-ae72-4122-a949-3b43087049ce",
   "metadata": {},
   "outputs": [],
   "source": [
    "def remove_urls(text):\n",
    "    return url_pattern.sub(r'',text)"
   ]
  },
  {
   "cell_type": "code",
   "execution_count": 8,
   "id": "954a47c1-6898-414d-9d8e-b586f968260e",
   "metadata": {},
   "outputs": [],
   "source": [
    "df['content']=df['content'].apply(remove_urls)"
   ]
  },
  {
   "cell_type": "markdown",
   "id": "2c186d2b-544f-466d-b23f-379ae7e7e1ca",
   "metadata": {},
   "source": [
    "**#Remove Next Lines**"
   ]
  },
  {
   "cell_type": "code",
   "execution_count": 9,
   "id": "988e95fd-02f2-4265-9b34-2c0f7636da9e",
   "metadata": {},
   "outputs": [],
   "source": [
    "df['content']=df['content'].replace('\\n',' ',regex=True)"
   ]
  },
  {
   "cell_type": "markdown",
   "id": "f9fbb867-4fdd-47e7-85f3-70af07446da7",
   "metadata": {},
   "source": [
    "**#Words Containing Numbers**"
   ]
  },
  {
   "cell_type": "code",
   "execution_count": 10,
   "id": "e8bbff68-f49e-4791-8fb7-4722251213d6",
   "metadata": {},
   "outputs": [],
   "source": [
    "def remove_num(text):\n",
    "    return re.sub('\\S*\\d\\S*','',text).strip()"
   ]
  },
  {
   "cell_type": "code",
   "execution_count": 11,
   "id": "bf418167-7994-47ab-9566-ccf2f80cfa55",
   "metadata": {},
   "outputs": [],
   "source": [
    "df['content']=df['content'].apply(remove_num)"
   ]
  },
  {
   "cell_type": "markdown",
   "id": "c35f9f2d-a609-4ac0-88ed-d5ea8d3a40b0",
   "metadata": {},
   "source": [
    "**#Extra Spaces**"
   ]
  },
  {
   "cell_type": "code",
   "execution_count": 12,
   "id": "0f8f7ef6-b1dc-41c7-a29c-d315413ade30",
   "metadata": {},
   "outputs": [],
   "source": [
    "def extra_spaces(text):\n",
    "    return re.sub(' +',' ',text)"
   ]
  },
  {
   "cell_type": "code",
   "execution_count": 13,
   "id": "248ec989-8360-401d-a1e0-1874984f9aec",
   "metadata": {},
   "outputs": [],
   "source": [
    "df['content']=df['content'].apply(extra_spaces)"
   ]
  },
  {
   "cell_type": "markdown",
   "id": "914143d2-ade9-44f0-a41c-1b7f20ab4cef",
   "metadata": {},
   "source": [
    "**#Special Characters**"
   ]
  },
  {
   "cell_type": "code",
   "execution_count": 14,
   "id": "8e8bed32-5f43-4305-9bc5-8a5b2d7ba452",
   "metadata": {},
   "outputs": [],
   "source": [
    "df['content']=df['content'].replace(r'[^A-Za-z0-9]+',' ',regex=True)"
   ]
  },
  {
   "cell_type": "markdown",
   "id": "6fe8aa06-6619-48c2-93d0-8c5e1e0d2909",
   "metadata": {},
   "source": [
    "**#Removal of Stop Words**"
   ]
  },
  {
   "cell_type": "code",
   "execution_count": 15,
   "id": "11edab1b-c97d-47a3-83c3-206bc0897464",
   "metadata": {},
   "outputs": [],
   "source": [
    "stop_words = set(stopwords.words('english'))\n",
    "def remove_stop(x):\n",
    "    return ' '.join([word for word in str(x).split() if word not in stop_words])"
   ]
  },
  {
   "cell_type": "code",
   "execution_count": 16,
   "id": "bf52b735-9291-4980-b814-17ca6b22cf44",
   "metadata": {},
   "outputs": [],
   "source": [
    "df['content']=df['content'].apply(lambda x: remove_stop(x))"
   ]
  },
  {
   "cell_type": "markdown",
   "id": "27c63ea7-af88-43e4-883e-a74cf2220158",
   "metadata": {},
   "source": [
    "**#Stemming**"
   ]
  },
  {
   "cell_type": "code",
   "execution_count": 17,
   "id": "4c164bc0-885c-4bac-b16f-c3799451545f",
   "metadata": {},
   "outputs": [],
   "source": [
    "from nltk.stem.porter import PorterStemmer"
   ]
  },
  {
   "cell_type": "code",
   "execution_count": 18,
   "id": "cb9733eb-e812-4ca8-9df7-34aeb1055956",
   "metadata": {},
   "outputs": [],
   "source": [
    "stemmer=PorterStemmer()\n",
    "def stem_words(text):\n",
    "    word_tokens=text.split()\n",
    "    stems=' '.join([stemmer.stem(word) for word in word_tokens])\n",
    "    return stems"
   ]
  },
  {
   "cell_type": "code",
   "execution_count": 19,
   "id": "e2634e37-1991-4b6d-b9c0-26bd18efc7cd",
   "metadata": {},
   "outputs": [],
   "source": [
    "df['content']=df['content'].apply(stem_words)"
   ]
  },
  {
   "cell_type": "markdown",
   "id": "b80ded82-bfac-4f37-a160-b42b2772e1f0",
   "metadata": {},
   "source": [
    "**#Lemmatization**"
   ]
  },
  {
   "cell_type": "code",
   "execution_count": 20,
   "id": "30efa5ac-40c9-40ca-9283-94031981660d",
   "metadata": {},
   "outputs": [],
   "source": [
    "from nltk.stem import WordNetLemmatizer"
   ]
  },
  {
   "cell_type": "code",
   "execution_count": 21,
   "id": "cfdcf151-0bfa-4c8c-9b4e-13c508fbeb55",
   "metadata": {},
   "outputs": [],
   "source": [
    "lemmatizer=WordNetLemmatizer()\n",
    "def lemmatize_word(text):\n",
    "    word_tokens=text.split()\n",
    "    lemmas=' '.join([lemmatizer.lemmatize(word,pos='v') for word in word_tokens]) #v for verb\n",
    "    return lemmas"
   ]
  },
  {
   "cell_type": "code",
   "execution_count": 22,
   "id": "781aa608-d318-447f-ba64-834ec72c4a63",
   "metadata": {},
   "outputs": [],
   "source": [
    "df['content']=df['content'].apply(lemmatize_word)"
   ]
  },
  {
   "cell_type": "code",
   "execution_count": 23,
   "id": "345e2c52-679a-4f16-b3a6-ec95ad04080b",
   "metadata": {},
   "outputs": [
    {
     "data": {
      "text/html": [
       "<div>\n",
       "<style scoped>\n",
       "    .dataframe tbody tr th:only-of-type {\n",
       "        vertical-align: middle;\n",
       "    }\n",
       "\n",
       "    .dataframe tbody tr th {\n",
       "        vertical-align: top;\n",
       "    }\n",
       "\n",
       "    .dataframe thead th {\n",
       "        text-align: right;\n",
       "    }\n",
       "</style>\n",
       "<table border=\"1\" class=\"dataframe\">\n",
       "  <thead>\n",
       "    <tr style=\"text-align: right;\">\n",
       "      <th></th>\n",
       "      <th>reviewId</th>\n",
       "      <th>userName</th>\n",
       "      <th>userImage</th>\n",
       "      <th>content</th>\n",
       "      <th>thumbsUpCount</th>\n",
       "      <th>reviewCreatedVersion</th>\n",
       "      <th>at</th>\n",
       "      <th>replyContent</th>\n",
       "      <th>repliedAt</th>\n",
       "      <th>appVersion</th>\n",
       "      <th>sortOrder</th>\n",
       "      <th>appId</th>\n",
       "    </tr>\n",
       "  </thead>\n",
       "  <tbody>\n",
       "    <tr>\n",
       "      <th>0</th>\n",
       "      <td>0197c118-5c6f-4a7b-894c-970023d1a350</td>\n",
       "      <td>Mar Zur</td>\n",
       "      <td>https://play-lh.googleusercontent.com/a/ACg8oc...</td>\n",
       "      <td>recur task everi day need list remind buzz tim...</td>\n",
       "      <td>11</td>\n",
       "      <td>4.16.6.2</td>\n",
       "      <td>22-07-2020 13:13</td>\n",
       "      <td>Our team will be happy to look into it for you...</td>\n",
       "      <td>23-07-2020 16:32</td>\n",
       "      <td>4.16.6.2</td>\n",
       "      <td>most_relevant</td>\n",
       "      <td>com.anydo</td>\n",
       "    </tr>\n",
       "    <tr>\n",
       "      <th>1</th>\n",
       "      <td>94868fb5-a21d-4ef9-ab85-81b2ed3d0785</td>\n",
       "      <td>Devin Rivera</td>\n",
       "      <td>https://play-lh.googleusercontent.com/a-/ALV-U...</td>\n",
       "      <td>instead shop around download wide use set one ...</td>\n",
       "      <td>8</td>\n",
       "      <td>NaN</td>\n",
       "      <td>08-12-2020 06:24</td>\n",
       "      <td>We are not aware of any issues with randomized...</td>\n",
       "      <td>10-12-2020 09:38</td>\n",
       "      <td>NaN</td>\n",
       "      <td>most_relevant</td>\n",
       "      <td>com.anydo</td>\n",
       "    </tr>\n",
       "    <tr>\n",
       "      <th>2</th>\n",
       "      <td>825da34e-f65d-4ef3-991d-02d5291820d6</td>\n",
       "      <td>Heidi Kinsley</td>\n",
       "      <td>https://play-lh.googleusercontent.com/a/ACg8oc...</td>\n",
       "      <td>everi blue app ask updat acct email everyth ta...</td>\n",
       "      <td>6</td>\n",
       "      <td>5.11.1.2</td>\n",
       "      <td>09-07-2021 13:51</td>\n",
       "      <td>Sorry to hear that! It sounds like you might h...</td>\n",
       "      <td>11-07-2021 11:16</td>\n",
       "      <td>5.11.1.2</td>\n",
       "      <td>most_relevant</td>\n",
       "      <td>com.anydo</td>\n",
       "    </tr>\n",
       "    <tr>\n",
       "      <th>3</th>\n",
       "      <td>a49c2875-651a-4c33-b79c-5813780d659e</td>\n",
       "      <td>Daniel Keller</td>\n",
       "      <td>https://play-lh.googleusercontent.com/a/ACg8oc...</td>\n",
       "      <td>terribl updat app use perfect plan certain tas...</td>\n",
       "      <td>5</td>\n",
       "      <td>NaN</td>\n",
       "      <td>16-11-2020 01:50</td>\n",
       "      <td>Please note that the tasks in your tasks view ...</td>\n",
       "      <td>17-11-2020 09:31</td>\n",
       "      <td>NaN</td>\n",
       "      <td>most_relevant</td>\n",
       "      <td>com.anydo</td>\n",
       "    </tr>\n",
       "    <tr>\n",
       "      <th>4</th>\n",
       "      <td>9482c75e-2e63-46ab-8c94-47273dd6a829</td>\n",
       "      <td>A Google user</td>\n",
       "      <td>https://play-lh.googleusercontent.com/EGemoI2N...</td>\n",
       "      <td>app deceivingli terribl realli nice design fea...</td>\n",
       "      <td>20</td>\n",
       "      <td>4.14.0.4</td>\n",
       "      <td>31-01-2019 16:19</td>\n",
       "      <td>Hi Ryan, it sounds like you are describing our...</td>\n",
       "      <td>05-02-2019 11:52</td>\n",
       "      <td>4.14.0.4</td>\n",
       "      <td>most_relevant</td>\n",
       "      <td>com.anydo</td>\n",
       "    </tr>\n",
       "    <tr>\n",
       "      <th>5</th>\n",
       "      <td>6446c87d-e045-4325-b154-042cde863d74</td>\n",
       "      <td>A Google user</td>\n",
       "      <td>https://play-lh.googleusercontent.com/EGemoI2N...</td>\n",
       "      <td>smart groceri list hell might handi sort list ...</td>\n",
       "      <td>19</td>\n",
       "      <td>4.12.0.5</td>\n",
       "      <td>17-01-2019 00:09</td>\n",
       "      <td>Please note that you can turn off the smart li...</td>\n",
       "      <td>30-01-2019 15:18</td>\n",
       "      <td>4.12.0.5</td>\n",
       "      <td>most_relevant</td>\n",
       "      <td>com.anydo</td>\n",
       "    </tr>\n",
       "    <tr>\n",
       "      <th>6</th>\n",
       "      <td>afe06e54-1014-49fa-80a6-f2b74880ef7c</td>\n",
       "      <td>rainrunner13</td>\n",
       "      <td>https://play-lh.googleusercontent.com/a-/ALV-U...</td>\n",
       "      <td>wunderlist everyth need issu app replac tri ke...</td>\n",
       "      <td>6</td>\n",
       "      <td>NaN</td>\n",
       "      <td>30-04-2020 06:46</td>\n",
       "      <td>Any.do is a task management app, which has no ...</td>\n",
       "      <td>03-05-2020 10:27</td>\n",
       "      <td>NaN</td>\n",
       "      <td>most_relevant</td>\n",
       "      <td>com.anydo</td>\n",
       "    </tr>\n",
       "    <tr>\n",
       "      <th>7</th>\n",
       "      <td>8256ea78-31ef-4eb4-abb0-1411d11a7d9e</td>\n",
       "      <td>Syd Stoll</td>\n",
       "      <td>https://play-lh.googleusercontent.com/a/ACg8oc...</td>\n",
       "      <td>app almost year realli enjoy mostli use grocer...</td>\n",
       "      <td>84</td>\n",
       "      <td>5.15.2.1</td>\n",
       "      <td>07-11-2021 15:58</td>\n",
       "      <td>This could happen if a user pressed on an adve...</td>\n",
       "      <td>08-11-2021 14:36</td>\n",
       "      <td>5.15.2.1</td>\n",
       "      <td>most_relevant</td>\n",
       "      <td>com.anydo</td>\n",
       "    </tr>\n",
       "    <tr>\n",
       "      <th>8</th>\n",
       "      <td>775c3273-36cc-4787-a126-06ec46834507</td>\n",
       "      <td>A Google user</td>\n",
       "      <td>https://play-lh.googleusercontent.com/EGemoI2N...</td>\n",
       "      <td>almost perfect develop choos ignor one import ...</td>\n",
       "      <td>3</td>\n",
       "      <td>NaN</td>\n",
       "      <td>07-07-2019 15:10</td>\n",
       "      <td>Popups have been proven to increase productivi...</td>\n",
       "      <td>09-07-2019 11:09</td>\n",
       "      <td>NaN</td>\n",
       "      <td>most_relevant</td>\n",
       "      <td>com.anydo</td>\n",
       "    </tr>\n",
       "    <tr>\n",
       "      <th>9</th>\n",
       "      <td>9f47e332-2c56-426c-8430-ce8ffde55706</td>\n",
       "      <td>A Google user</td>\n",
       "      <td>https://play-lh.googleusercontent.com/EGemoI2N...</td>\n",
       "      <td>annoy keep sign delet list ive work master sho...</td>\n",
       "      <td>29</td>\n",
       "      <td>4.15.8.11</td>\n",
       "      <td>29-09-2019 16:03</td>\n",
       "      <td>Hi, that's odd, please send us a bug report in...</td>\n",
       "      <td>02-10-2019 19:51</td>\n",
       "      <td>4.15.8.11</td>\n",
       "      <td>most_relevant</td>\n",
       "      <td>com.anydo</td>\n",
       "    </tr>\n",
       "  </tbody>\n",
       "</table>\n",
       "</div>"
      ],
      "text/plain": [
       "                               reviewId       userName  \\\n",
       "0  0197c118-5c6f-4a7b-894c-970023d1a350        Mar Zur   \n",
       "1  94868fb5-a21d-4ef9-ab85-81b2ed3d0785   Devin Rivera   \n",
       "2  825da34e-f65d-4ef3-991d-02d5291820d6  Heidi Kinsley   \n",
       "3  a49c2875-651a-4c33-b79c-5813780d659e  Daniel Keller   \n",
       "4  9482c75e-2e63-46ab-8c94-47273dd6a829  A Google user   \n",
       "5  6446c87d-e045-4325-b154-042cde863d74  A Google user   \n",
       "6  afe06e54-1014-49fa-80a6-f2b74880ef7c   rainrunner13   \n",
       "7  8256ea78-31ef-4eb4-abb0-1411d11a7d9e      Syd Stoll   \n",
       "8  775c3273-36cc-4787-a126-06ec46834507  A Google user   \n",
       "9  9f47e332-2c56-426c-8430-ce8ffde55706  A Google user   \n",
       "\n",
       "                                           userImage  \\\n",
       "0  https://play-lh.googleusercontent.com/a/ACg8oc...   \n",
       "1  https://play-lh.googleusercontent.com/a-/ALV-U...   \n",
       "2  https://play-lh.googleusercontent.com/a/ACg8oc...   \n",
       "3  https://play-lh.googleusercontent.com/a/ACg8oc...   \n",
       "4  https://play-lh.googleusercontent.com/EGemoI2N...   \n",
       "5  https://play-lh.googleusercontent.com/EGemoI2N...   \n",
       "6  https://play-lh.googleusercontent.com/a-/ALV-U...   \n",
       "7  https://play-lh.googleusercontent.com/a/ACg8oc...   \n",
       "8  https://play-lh.googleusercontent.com/EGemoI2N...   \n",
       "9  https://play-lh.googleusercontent.com/EGemoI2N...   \n",
       "\n",
       "                                             content  thumbsUpCount  \\\n",
       "0  recur task everi day need list remind buzz tim...             11   \n",
       "1  instead shop around download wide use set one ...              8   \n",
       "2  everi blue app ask updat acct email everyth ta...              6   \n",
       "3  terribl updat app use perfect plan certain tas...              5   \n",
       "4  app deceivingli terribl realli nice design fea...             20   \n",
       "5  smart groceri list hell might handi sort list ...             19   \n",
       "6  wunderlist everyth need issu app replac tri ke...              6   \n",
       "7  app almost year realli enjoy mostli use grocer...             84   \n",
       "8  almost perfect develop choos ignor one import ...              3   \n",
       "9  annoy keep sign delet list ive work master sho...             29   \n",
       "\n",
       "  reviewCreatedVersion                at  \\\n",
       "0             4.16.6.2  22-07-2020 13:13   \n",
       "1                  NaN  08-12-2020 06:24   \n",
       "2             5.11.1.2  09-07-2021 13:51   \n",
       "3                  NaN  16-11-2020 01:50   \n",
       "4             4.14.0.4  31-01-2019 16:19   \n",
       "5             4.12.0.5  17-01-2019 00:09   \n",
       "6                  NaN  30-04-2020 06:46   \n",
       "7             5.15.2.1  07-11-2021 15:58   \n",
       "8                  NaN  07-07-2019 15:10   \n",
       "9            4.15.8.11  29-09-2019 16:03   \n",
       "\n",
       "                                        replyContent         repliedAt  \\\n",
       "0  Our team will be happy to look into it for you...  23-07-2020 16:32   \n",
       "1  We are not aware of any issues with randomized...  10-12-2020 09:38   \n",
       "2  Sorry to hear that! It sounds like you might h...  11-07-2021 11:16   \n",
       "3  Please note that the tasks in your tasks view ...  17-11-2020 09:31   \n",
       "4  Hi Ryan, it sounds like you are describing our...  05-02-2019 11:52   \n",
       "5  Please note that you can turn off the smart li...  30-01-2019 15:18   \n",
       "6  Any.do is a task management app, which has no ...  03-05-2020 10:27   \n",
       "7  This could happen if a user pressed on an adve...  08-11-2021 14:36   \n",
       "8  Popups have been proven to increase productivi...  09-07-2019 11:09   \n",
       "9  Hi, that's odd, please send us a bug report in...  02-10-2019 19:51   \n",
       "\n",
       "  appVersion      sortOrder      appId  \n",
       "0   4.16.6.2  most_relevant  com.anydo  \n",
       "1        NaN  most_relevant  com.anydo  \n",
       "2   5.11.1.2  most_relevant  com.anydo  \n",
       "3        NaN  most_relevant  com.anydo  \n",
       "4   4.14.0.4  most_relevant  com.anydo  \n",
       "5   4.12.0.5  most_relevant  com.anydo  \n",
       "6        NaN  most_relevant  com.anydo  \n",
       "7   5.15.2.1  most_relevant  com.anydo  \n",
       "8        NaN  most_relevant  com.anydo  \n",
       "9  4.15.8.11  most_relevant  com.anydo  "
      ]
     },
     "execution_count": 23,
     "metadata": {},
     "output_type": "execute_result"
    }
   ],
   "source": [
    "df.head(10)"
   ]
  }
 ],
 "metadata": {
  "kernelspec": {
   "display_name": "Python 3 (ipykernel)",
   "language": "python",
   "name": "python3"
  },
  "language_info": {
   "codemirror_mode": {
    "name": "ipython",
    "version": 3
   },
   "file_extension": ".py",
   "mimetype": "text/x-python",
   "name": "python",
   "nbconvert_exporter": "python",
   "pygments_lexer": "ipython3",
   "version": "3.11.7"
  }
 },
 "nbformat": 4,
 "nbformat_minor": 5
}
