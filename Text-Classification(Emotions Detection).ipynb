{
 "cells": [
  {
   "cell_type": "markdown",
   "id": "4cc132b8",
   "metadata": {},
   "source": [
    "#  Introduction To Text Classification\n"
   ]
  },
  {
   "cell_type": "markdown",
   "id": "a207b7e5",
   "metadata": {},
   "source": [
    "Text classification is a fundamental task in data analysis and natural language processing (NLP) that involves categorizing text documents into predefined classes or categories.\n",
    "\n",
    "It's used in a wide range of applications such as spam detection, sentiment analysis, topic classification, and language identification."
   ]
  },
  {
   "cell_type": "markdown",
   "id": "d9244dd8",
   "metadata": {},
   "source": [
    "The process of text classification typically involves the following steps:\n",
    "\n",
    "1.Data Preprocessing: This step involves cleaning and preparing the text data for analysis. It may include removing punctuation, converting text to lowercase, and removing stopwords (commonly used words that do not carry much meaning).\n",
    "\n",
    "2.Feature Extraction: In this step, the text data is converted into numerical feature vectors that can be used as input to machine learning algorithms. Common techniques for feature extraction in text classification include bag-of-words, TF-IDF (Term Frequency-Inverse Document Frequency), and word embeddings like Word2Vec or GloVe.\n",
    "\n",
    "3.Model Selection: Once the features are extracted, a machine learning model is selected and trained on the labeled data. Popular models for text classification include Naive Bayes, Logistic Regression, Support Vector Machines (SVM), and more recently, deep learning models like Convolutional Neural Networks (CNNs) and Recurrent Neural Networks (RNNs).\n",
    "\n",
    "4.Model Evaluation: After training the model, it is evaluated on a separate test dataset to assess its performance. Common evaluation metrics for text classification include accuracy, precision, recall, and F1-score.\n",
    "\n",
    "5.Deployment and Monitoring: Once the model is trained and evaluated, it can be deployed to classify new unseen text data. It's important to monitor the model's performance over time and retrain it if necessary to maintain its accuracy."
   ]
  },
  {
   "cell_type": "markdown",
   "id": "ea93a2fd",
   "metadata": {},
   "source": [
    "# Importing Libraries"
   ]
  },
  {
   "cell_type": "code",
   "execution_count": 2,
   "id": "8d25ddba",
   "metadata": {},
   "outputs": [],
   "source": [
    "import pandas as pd\n",
    "import numpy as np\n",
    "import re\n",
    "import nltk\n",
    "import string\n",
    "import sklearn\n",
    "import matplotlib.pyplot as plt\n",
    "import seaborn as sns\n",
    "from nltk.corpus import stopwords\n",
    "from nltk.stem import PorterStemmer\n",
    "from nltk.tokenize import word_tokenize\n",
    "from sklearn.feature_extraction.text import TfidfVectorizer\n",
    "from sklearn.feature_extraction.text import CountVectorizer\n",
    "from sklearn.preprocessing import StandardScaler\n",
    "from sklearn.feature_selection import SelectKBest, f_classif\n",
    "from sklearn.decomposition import PCA\n",
    "from sklearn.model_selection import train_test_split\n",
    "#1\n",
    "from sklearn.linear_model import LogisticRegression\n",
    "from sklearn.pipeline import make_pipeline\n",
    "from sklearn.metrics import accuracy_score\n",
    "from sklearn.metrics import classification_report, confusion_matrix\n",
    "from sklearn.model_selection import train_test_split, GridSearchCV\n",
    "from sklearn.model_selection import cross_val_score, train_test_split\n",
    "\n",
    "\n",
    "\n",
    "\n",
    "\n",
    "\n",
    "\n",
    "\n"
   ]
  },
  {
   "cell_type": "markdown",
   "id": "87255882",
   "metadata": {},
   "source": [
    "# Importing csv file\n"
   ]
  },
  {
   "cell_type": "code",
   "execution_count": 3,
   "id": "807ddc14",
   "metadata": {
    "collapsed": true
   },
   "outputs": [
    {
     "data": {
      "text/html": [
       "<div>\n",
       "<style scoped>\n",
       "    .dataframe tbody tr th:only-of-type {\n",
       "        vertical-align: middle;\n",
       "    }\n",
       "\n",
       "    .dataframe tbody tr th {\n",
       "        vertical-align: top;\n",
       "    }\n",
       "\n",
       "    .dataframe thead th {\n",
       "        text-align: right;\n",
       "    }\n",
       "</style>\n",
       "<table border=\"1\" class=\"dataframe\">\n",
       "  <thead>\n",
       "    <tr style=\"text-align: right;\">\n",
       "      <th></th>\n",
       "      <th>text</th>\n",
       "      <th>label</th>\n",
       "    </tr>\n",
       "  </thead>\n",
       "  <tbody>\n",
       "    <tr>\n",
       "      <th>0</th>\n",
       "      <td>i didnt feel humiliated</td>\n",
       "      <td>0</td>\n",
       "    </tr>\n",
       "    <tr>\n",
       "      <th>1</th>\n",
       "      <td>i can go from feeling so hopeless to so damned...</td>\n",
       "      <td>0</td>\n",
       "    </tr>\n",
       "    <tr>\n",
       "      <th>2</th>\n",
       "      <td>im grabbing a minute to post i feel greedy wrong</td>\n",
       "      <td>3</td>\n",
       "    </tr>\n",
       "    <tr>\n",
       "      <th>3</th>\n",
       "      <td>i am ever feeling nostalgic about the fireplac...</td>\n",
       "      <td>2</td>\n",
       "    </tr>\n",
       "    <tr>\n",
       "      <th>4</th>\n",
       "      <td>i am feeling grouchy</td>\n",
       "      <td>3</td>\n",
       "    </tr>\n",
       "  </tbody>\n",
       "</table>\n",
       "</div>"
      ],
      "text/plain": [
       "                                                text  label\n",
       "0                            i didnt feel humiliated      0\n",
       "1  i can go from feeling so hopeless to so damned...      0\n",
       "2   im grabbing a minute to post i feel greedy wrong      3\n",
       "3  i am ever feeling nostalgic about the fireplac...      2\n",
       "4                               i am feeling grouchy      3"
      ]
     },
     "execution_count": 3,
     "metadata": {},
     "output_type": "execute_result"
    }
   ],
   "source": [
    "df = pd.read_csv('Emotions_training.csv', encoding= 'unicode_escape')\n",
    "df.head()"
   ]
  },
  {
   "cell_type": "markdown",
   "id": "7addf2e3",
   "metadata": {},
   "source": [
    "# Getting the info of the dataset"
   ]
  },
  {
   "cell_type": "code",
   "execution_count": 5,
   "id": "daccd47c",
   "metadata": {
    "collapsed": true
   },
   "outputs": [
    {
     "name": "stdout",
     "output_type": "stream",
     "text": [
      "<class 'pandas.core.frame.DataFrame'>\n",
      "RangeIndex: 16000 entries, 0 to 15999\n",
      "Data columns (total 2 columns):\n",
      " #   Column  Non-Null Count  Dtype \n",
      "---  ------  --------------  ----- \n",
      " 0   text    16000 non-null  object\n",
      " 1   label   16000 non-null  int64 \n",
      "dtypes: int64(1), object(1)\n",
      "memory usage: 250.1+ KB\n"
     ]
    }
   ],
   "source": [
    "df.info()"
   ]
  },
  {
   "cell_type": "markdown",
   "id": "26d99a77",
   "metadata": {},
   "source": [
    "# Viewing the coloums present in dataset"
   ]
  },
  {
   "cell_type": "code",
   "execution_count": 17,
   "id": "2dbe026a",
   "metadata": {
    "collapsed": true
   },
   "outputs": [
    {
     "data": {
      "text/plain": [
       "Index(['text', 'label'], dtype='object')"
      ]
     },
     "execution_count": 17,
     "metadata": {},
     "output_type": "execute_result"
    }
   ],
   "source": [
    "df.columns"
   ]
  },
  {
   "cell_type": "markdown",
   "id": "5e484115",
   "metadata": {},
   "source": [
    "# Displaying the present rows and coloums in dataset"
   ]
  },
  {
   "cell_type": "code",
   "execution_count": 6,
   "id": "45aaf767",
   "metadata": {
    "collapsed": true
   },
   "outputs": [
    {
     "data": {
      "text/plain": [
       "(16000, 2)"
      ]
     },
     "execution_count": 6,
     "metadata": {},
     "output_type": "execute_result"
    }
   ],
   "source": [
    "df.shape\n"
   ]
  },
  {
   "cell_type": "markdown",
   "id": "922a6ceb",
   "metadata": {},
   "source": [
    "# Describing() method returns description of the data in the DataFrame (i.e. count, mean, std, etc)\n"
   ]
  },
  {
   "cell_type": "code",
   "execution_count": 19,
   "id": "aa6315c9",
   "metadata": {
    "collapsed": true
   },
   "outputs": [
    {
     "data": {
      "text/html": [
       "<div>\n",
       "<style scoped>\n",
       "    .dataframe tbody tr th:only-of-type {\n",
       "        vertical-align: middle;\n",
       "    }\n",
       "\n",
       "    .dataframe tbody tr th {\n",
       "        vertical-align: top;\n",
       "    }\n",
       "\n",
       "    .dataframe thead th {\n",
       "        text-align: right;\n",
       "    }\n",
       "</style>\n",
       "<table border=\"1\" class=\"dataframe\">\n",
       "  <thead>\n",
       "    <tr style=\"text-align: right;\">\n",
       "      <th></th>\n",
       "      <th>label</th>\n",
       "    </tr>\n",
       "  </thead>\n",
       "  <tbody>\n",
       "    <tr>\n",
       "      <th>count</th>\n",
       "      <td>16000.000000</td>\n",
       "    </tr>\n",
       "    <tr>\n",
       "      <th>mean</th>\n",
       "      <td>1.565937</td>\n",
       "    </tr>\n",
       "    <tr>\n",
       "      <th>std</th>\n",
       "      <td>1.501430</td>\n",
       "    </tr>\n",
       "    <tr>\n",
       "      <th>min</th>\n",
       "      <td>0.000000</td>\n",
       "    </tr>\n",
       "    <tr>\n",
       "      <th>25%</th>\n",
       "      <td>0.000000</td>\n",
       "    </tr>\n",
       "    <tr>\n",
       "      <th>50%</th>\n",
       "      <td>1.000000</td>\n",
       "    </tr>\n",
       "    <tr>\n",
       "      <th>75%</th>\n",
       "      <td>3.000000</td>\n",
       "    </tr>\n",
       "    <tr>\n",
       "      <th>max</th>\n",
       "      <td>5.000000</td>\n",
       "    </tr>\n",
       "  </tbody>\n",
       "</table>\n",
       "</div>"
      ],
      "text/plain": [
       "              label\n",
       "count  16000.000000\n",
       "mean       1.565937\n",
       "std        1.501430\n",
       "min        0.000000\n",
       "25%        0.000000\n",
       "50%        1.000000\n",
       "75%        3.000000\n",
       "max        5.000000"
      ]
     },
     "execution_count": 19,
     "metadata": {},
     "output_type": "execute_result"
    }
   ],
   "source": [
    "df.describe()"
   ]
  },
  {
   "cell_type": "markdown",
   "id": "7c5237a7",
   "metadata": {},
   "source": [
    "# Data Preprocessing"
   ]
  },
  {
   "cell_type": "markdown",
   "id": "15e465a6",
   "metadata": {},
   "source": [
    "# 1.Fixing Datatype(text column)\n"
   ]
  },
  {
   "cell_type": "code",
   "execution_count": 14,
   "id": "323ac838",
   "metadata": {
    "collapsed": true
   },
   "outputs": [
    {
     "name": "stdout",
     "output_type": "stream",
     "text": [
      "<class 'pandas.core.frame.DataFrame'>\n",
      "RangeIndex: 16000 entries, 0 to 15999\n",
      "Data columns (total 2 columns):\n",
      " #   Column  Non-Null Count  Dtype \n",
      "---  ------  --------------  ----- \n",
      " 0   text    16000 non-null  string\n",
      " 1   label   16000 non-null  int64 \n",
      "dtypes: int64(1), string(1)\n",
      "memory usage: 250.1 KB\n"
     ]
    }
   ],
   "source": [
    "string_colms = {'text': 'string',}\n",
    "df = df.astype(string_colms)\n",
    "df.info()"
   ]
  },
  {
   "cell_type": "markdown",
   "id": "d1db4837",
   "metadata": {},
   "source": [
    "# Checking for null values if any present\n"
   ]
  },
  {
   "cell_type": "code",
   "execution_count": 15,
   "id": "1d3fd7b9",
   "metadata": {
    "collapsed": true
   },
   "outputs": [
    {
     "data": {
      "text/plain": [
       "text     0\n",
       "label    0\n",
       "dtype: int64"
      ]
     },
     "execution_count": 15,
     "metadata": {},
     "output_type": "execute_result"
    }
   ],
   "source": [
    "pd.isnull(df).sum()\n"
   ]
  },
  {
   "cell_type": "markdown",
   "id": "0a64915a",
   "metadata": {},
   "source": [
    "# Droping the null values\n"
   ]
  },
  {
   "cell_type": "code",
   "execution_count": 16,
   "id": "9340fe10",
   "metadata": {
    "collapsed": true
   },
   "outputs": [
    {
     "data": {
      "text/html": [
       "<div>\n",
       "<style scoped>\n",
       "    .dataframe tbody tr th:only-of-type {\n",
       "        vertical-align: middle;\n",
       "    }\n",
       "\n",
       "    .dataframe tbody tr th {\n",
       "        vertical-align: top;\n",
       "    }\n",
       "\n",
       "    .dataframe thead th {\n",
       "        text-align: right;\n",
       "    }\n",
       "</style>\n",
       "<table border=\"1\" class=\"dataframe\">\n",
       "  <thead>\n",
       "    <tr style=\"text-align: right;\">\n",
       "      <th></th>\n",
       "      <th>text</th>\n",
       "      <th>label</th>\n",
       "    </tr>\n",
       "  </thead>\n",
       "  <tbody>\n",
       "    <tr>\n",
       "      <th>0</th>\n",
       "      <td>i didnt feel humiliated</td>\n",
       "      <td>0</td>\n",
       "    </tr>\n",
       "    <tr>\n",
       "      <th>1</th>\n",
       "      <td>i can go from feeling so hopeless to so damned...</td>\n",
       "      <td>0</td>\n",
       "    </tr>\n",
       "    <tr>\n",
       "      <th>2</th>\n",
       "      <td>im grabbing a minute to post i feel greedy wrong</td>\n",
       "      <td>3</td>\n",
       "    </tr>\n",
       "    <tr>\n",
       "      <th>3</th>\n",
       "      <td>i am ever feeling nostalgic about the fireplac...</td>\n",
       "      <td>2</td>\n",
       "    </tr>\n",
       "    <tr>\n",
       "      <th>4</th>\n",
       "      <td>i am feeling grouchy</td>\n",
       "      <td>3</td>\n",
       "    </tr>\n",
       "  </tbody>\n",
       "</table>\n",
       "</div>"
      ],
      "text/plain": [
       "                                                text  label\n",
       "0                            i didnt feel humiliated      0\n",
       "1  i can go from feeling so hopeless to so damned...      0\n",
       "2   im grabbing a minute to post i feel greedy wrong      3\n",
       "3  i am ever feeling nostalgic about the fireplac...      2\n",
       "4                               i am feeling grouchy      3"
      ]
     },
     "execution_count": 16,
     "metadata": {},
     "output_type": "execute_result"
    }
   ],
   "source": [
    "df.dropna(inplace=True)\n",
    "df.head()"
   ]
  },
  {
   "cell_type": "markdown",
   "id": "9f640b91",
   "metadata": {},
   "source": [
    "# Reviewing the content's present in \"text\" column\n"
   ]
  },
  {
   "cell_type": "code",
   "execution_count": 20,
   "id": "2a9dc19f",
   "metadata": {
    "collapsed": true
   },
   "outputs": [
    {
     "data": {
      "text/plain": [
       "<StringArray>\n",
       "[                                                                                                                                     'i didnt feel humiliated',\n",
       "                                                 'i can go from feeling so hopeless to so damned hopeful just from being around someone who cares and is awake',\n",
       "                                                                                                             'im grabbing a minute to post i feel greedy wrong',\n",
       "                                                                 'i am ever feeling nostalgic about the fireplace i will know that it is still on the property',\n",
       "                                                                                                                                         'i am feeling grouchy',\n",
       "                                                                                            'ive been feeling a little burdened lately wasnt sure why that was',\n",
       "                                   'ive been taking or milligrams or times recommended amount and ive fallen asleep a lot faster but i also feel like so funny',\n",
       "                                                                                    'i feel as confused about life as a teenager or as jaded as a year old man',\n",
       "                                                           'i have been with petronas for years i feel that petronas has performed well and made a huge profit',\n",
       "                                                                                                                                          'i feel romantic too',\n",
       " ...\n",
       "                                                         'i feel really glad that i dont look like the celebrities out there that are so beautiful she told dr',\n",
       " 'i have wanted to perhaps convey my feelings of a matter instead of my thoughts and have rejected it because i have thought feelings in the matter irrelevant',\n",
       "                                                             'i moved away he said something that made me feel violent but its something i still cant make out',\n",
       "                                                                      'i most days feel like if braeden and calvin are happy then it has been a successful day',\n",
       "                                                                                                                'i feel so sympathetic empathetic towards them',\n",
       "                                                        'i just had a very brief time in the beanbag and i said to anna that i feel like i have been beaten up',\n",
       "                                                       'i am now turning and i feel pathetic that i am still waiting tables and subbing with a teaching degree',\n",
       "                                                                                                                               'i feel strong and good overall',\n",
       "                                                                                                  'i feel like this was such a rude comment and im glad that t',\n",
       "                                                                                               'i know a lot but i feel so stupid because i can not portray it']\n",
       "Length: 15969, dtype: string"
      ]
     },
     "execution_count": 20,
     "metadata": {},
     "output_type": "execute_result"
    }
   ],
   "source": [
    "df['text'].unique()\n"
   ]
  },
  {
   "cell_type": "markdown",
   "id": "16d3698d",
   "metadata": {},
   "source": [
    "# Converting the  content of \"text \" column into lower case format"
   ]
  },
  {
   "cell_type": "code",
   "execution_count": 3,
   "id": "dd415226",
   "metadata": {
    "collapsed": true
   },
   "outputs": [
    {
     "data": {
      "text/html": [
       "<div>\n",
       "<style scoped>\n",
       "    .dataframe tbody tr th:only-of-type {\n",
       "        vertical-align: middle;\n",
       "    }\n",
       "\n",
       "    .dataframe tbody tr th {\n",
       "        vertical-align: top;\n",
       "    }\n",
       "\n",
       "    .dataframe thead th {\n",
       "        text-align: right;\n",
       "    }\n",
       "</style>\n",
       "<table border=\"1\" class=\"dataframe\">\n",
       "  <thead>\n",
       "    <tr style=\"text-align: right;\">\n",
       "      <th></th>\n",
       "      <th>text</th>\n",
       "      <th>label</th>\n",
       "    </tr>\n",
       "  </thead>\n",
       "  <tbody>\n",
       "    <tr>\n",
       "      <th>0</th>\n",
       "      <td>i didnt feel humiliated</td>\n",
       "      <td>0</td>\n",
       "    </tr>\n",
       "    <tr>\n",
       "      <th>1</th>\n",
       "      <td>i can go from feeling so hopeless to so damned...</td>\n",
       "      <td>0</td>\n",
       "    </tr>\n",
       "    <tr>\n",
       "      <th>2</th>\n",
       "      <td>im grabbing a minute to post i feel greedy wrong</td>\n",
       "      <td>3</td>\n",
       "    </tr>\n",
       "    <tr>\n",
       "      <th>3</th>\n",
       "      <td>i am ever feeling nostalgic about the fireplac...</td>\n",
       "      <td>2</td>\n",
       "    </tr>\n",
       "    <tr>\n",
       "      <th>4</th>\n",
       "      <td>i am feeling grouchy</td>\n",
       "      <td>3</td>\n",
       "    </tr>\n",
       "  </tbody>\n",
       "</table>\n",
       "</div>"
      ],
      "text/plain": [
       "                                                text  label\n",
       "0                            i didnt feel humiliated      0\n",
       "1  i can go from feeling so hopeless to so damned...      0\n",
       "2   im grabbing a minute to post i feel greedy wrong      3\n",
       "3  i am ever feeling nostalgic about the fireplac...      2\n",
       "4                               i am feeling grouchy      3"
      ]
     },
     "execution_count": 3,
     "metadata": {},
     "output_type": "execute_result"
    }
   ],
   "source": [
    "df['text'] = df['text'].str.lower()\n",
    "df.head()\n"
   ]
  },
  {
   "cell_type": "markdown",
   "id": "c282001b",
   "metadata": {},
   "source": [
    "# Removing the commas(,) from the \"text\"column \n",
    " "
   ]
  },
  {
   "cell_type": "code",
   "execution_count": 22,
   "id": "e5b1cd8c",
   "metadata": {
    "collapsed": true
   },
   "outputs": [
    {
     "data": {
      "text/html": [
       "<div>\n",
       "<style scoped>\n",
       "    .dataframe tbody tr th:only-of-type {\n",
       "        vertical-align: middle;\n",
       "    }\n",
       "\n",
       "    .dataframe tbody tr th {\n",
       "        vertical-align: top;\n",
       "    }\n",
       "\n",
       "    .dataframe thead th {\n",
       "        text-align: right;\n",
       "    }\n",
       "</style>\n",
       "<table border=\"1\" class=\"dataframe\">\n",
       "  <thead>\n",
       "    <tr style=\"text-align: right;\">\n",
       "      <th></th>\n",
       "      <th>text</th>\n",
       "      <th>label</th>\n",
       "    </tr>\n",
       "  </thead>\n",
       "  <tbody>\n",
       "    <tr>\n",
       "      <th>0</th>\n",
       "      <td>i didnt feel humiliated</td>\n",
       "      <td>0</td>\n",
       "    </tr>\n",
       "    <tr>\n",
       "      <th>1</th>\n",
       "      <td>i can go from feeling so hopeless to so damned...</td>\n",
       "      <td>0</td>\n",
       "    </tr>\n",
       "    <tr>\n",
       "      <th>2</th>\n",
       "      <td>im grabbing a minute to post i feel greedy wrong</td>\n",
       "      <td>3</td>\n",
       "    </tr>\n",
       "    <tr>\n",
       "      <th>3</th>\n",
       "      <td>i am ever feeling nostalgic about the fireplac...</td>\n",
       "      <td>2</td>\n",
       "    </tr>\n",
       "    <tr>\n",
       "      <th>4</th>\n",
       "      <td>i am feeling grouchy</td>\n",
       "      <td>3</td>\n",
       "    </tr>\n",
       "  </tbody>\n",
       "</table>\n",
       "</div>"
      ],
      "text/plain": [
       "                                                text  label\n",
       "0                            i didnt feel humiliated      0\n",
       "1  i can go from feeling so hopeless to so damned...      0\n",
       "2   im grabbing a minute to post i feel greedy wrong      3\n",
       "3  i am ever feeling nostalgic about the fireplac...      2\n",
       "4                               i am feeling grouchy      3"
      ]
     },
     "execution_count": 22,
     "metadata": {},
     "output_type": "execute_result"
    }
   ],
   "source": [
    "df['text'] = df['text'].str.replace(',', '')\n",
    "df.head()"
   ]
  },
  {
   "cell_type": "markdown",
   "id": "fcf7d6a4",
   "metadata": {},
   "source": [
    "# Removing the new lines using regex from the \"text\"coloum \n"
   ]
  },
  {
   "cell_type": "code",
   "execution_count": 23,
   "id": "76217b44",
   "metadata": {
    "collapsed": true
   },
   "outputs": [
    {
     "data": {
      "text/html": [
       "<div>\n",
       "<style scoped>\n",
       "    .dataframe tbody tr th:only-of-type {\n",
       "        vertical-align: middle;\n",
       "    }\n",
       "\n",
       "    .dataframe tbody tr th {\n",
       "        vertical-align: top;\n",
       "    }\n",
       "\n",
       "    .dataframe thead th {\n",
       "        text-align: right;\n",
       "    }\n",
       "</style>\n",
       "<table border=\"1\" class=\"dataframe\">\n",
       "  <thead>\n",
       "    <tr style=\"text-align: right;\">\n",
       "      <th></th>\n",
       "      <th>text</th>\n",
       "      <th>label</th>\n",
       "    </tr>\n",
       "  </thead>\n",
       "  <tbody>\n",
       "    <tr>\n",
       "      <th>0</th>\n",
       "      <td>i didnt feel humiliated</td>\n",
       "      <td>0</td>\n",
       "    </tr>\n",
       "    <tr>\n",
       "      <th>1</th>\n",
       "      <td>i can go from feeling so hopeless to so damned...</td>\n",
       "      <td>0</td>\n",
       "    </tr>\n",
       "    <tr>\n",
       "      <th>2</th>\n",
       "      <td>im grabbing a minute to post i feel greedy wrong</td>\n",
       "      <td>3</td>\n",
       "    </tr>\n",
       "    <tr>\n",
       "      <th>3</th>\n",
       "      <td>i am ever feeling nostalgic about the fireplac...</td>\n",
       "      <td>2</td>\n",
       "    </tr>\n",
       "    <tr>\n",
       "      <th>4</th>\n",
       "      <td>i am feeling grouchy</td>\n",
       "      <td>3</td>\n",
       "    </tr>\n",
       "  </tbody>\n",
       "</table>\n",
       "</div>"
      ],
      "text/plain": [
       "                                                text  label\n",
       "0                            i didnt feel humiliated      0\n",
       "1  i can go from feeling so hopeless to so damned...      0\n",
       "2   im grabbing a minute to post i feel greedy wrong      3\n",
       "3  i am ever feeling nostalgic about the fireplac...      2\n",
       "4                               i am feeling grouchy      3"
      ]
     },
     "execution_count": 23,
     "metadata": {},
     "output_type": "execute_result"
    }
   ],
   "source": [
    "df['text'] = df['text'].replace('\\n', '', regex=True)\n",
    "df.head()"
   ]
  },
  {
   "cell_type": "markdown",
   "id": "a3ec3a19",
   "metadata": {},
   "source": [
    "# Removing the links from the \"text\"coloum \n"
   ]
  },
  {
   "cell_type": "code",
   "execution_count": 24,
   "id": "512726eb",
   "metadata": {
    "collapsed": true
   },
   "outputs": [
    {
     "data": {
      "text/html": [
       "<div>\n",
       "<style scoped>\n",
       "    .dataframe tbody tr th:only-of-type {\n",
       "        vertical-align: middle;\n",
       "    }\n",
       "\n",
       "    .dataframe tbody tr th {\n",
       "        vertical-align: top;\n",
       "    }\n",
       "\n",
       "    .dataframe thead th {\n",
       "        text-align: right;\n",
       "    }\n",
       "</style>\n",
       "<table border=\"1\" class=\"dataframe\">\n",
       "  <thead>\n",
       "    <tr style=\"text-align: right;\">\n",
       "      <th></th>\n",
       "      <th>text</th>\n",
       "      <th>label</th>\n",
       "    </tr>\n",
       "  </thead>\n",
       "  <tbody>\n",
       "    <tr>\n",
       "      <th>0</th>\n",
       "      <td>i didnt feel humiliated</td>\n",
       "      <td>0</td>\n",
       "    </tr>\n",
       "    <tr>\n",
       "      <th>1</th>\n",
       "      <td>i can go from feeling so hopeless to so damned...</td>\n",
       "      <td>0</td>\n",
       "    </tr>\n",
       "    <tr>\n",
       "      <th>2</th>\n",
       "      <td>im grabbing a minute to post i feel greedy wrong</td>\n",
       "      <td>3</td>\n",
       "    </tr>\n",
       "    <tr>\n",
       "      <th>3</th>\n",
       "      <td>i am ever feeling nostalgic about the fireplac...</td>\n",
       "      <td>2</td>\n",
       "    </tr>\n",
       "    <tr>\n",
       "      <th>4</th>\n",
       "      <td>i am feeling grouchy</td>\n",
       "      <td>3</td>\n",
       "    </tr>\n",
       "  </tbody>\n",
       "</table>\n",
       "</div>"
      ],
      "text/plain": [
       "                                                text  label\n",
       "0                            i didnt feel humiliated      0\n",
       "1  i can go from feeling so hopeless to so damned...      0\n",
       "2   im grabbing a minute to post i feel greedy wrong      3\n",
       "3  i am ever feeling nostalgic about the fireplac...      2\n",
       "4                               i am feeling grouchy      3"
      ]
     },
     "execution_count": 24,
     "metadata": {},
     "output_type": "execute_result"
    }
   ],
   "source": [
    "df['text'] = df['text'].apply(lambda x: re.sub(r'http\\S+', '', x))\n",
    "df['text'] = df['text'].astype('string')\n",
    "df.head()"
   ]
  },
  {
   "cell_type": "markdown",
   "id": "d54c884d",
   "metadata": {},
   "source": [
    "# Removing the alpha numeric words from the \"text\"coloum \n"
   ]
  },
  {
   "cell_type": "code",
   "execution_count": 26,
   "id": "6e0ba3ff",
   "metadata": {
    "collapsed": true
   },
   "outputs": [
    {
     "data": {
      "text/html": [
       "<div>\n",
       "<style scoped>\n",
       "    .dataframe tbody tr th:only-of-type {\n",
       "        vertical-align: middle;\n",
       "    }\n",
       "\n",
       "    .dataframe tbody tr th {\n",
       "        vertical-align: top;\n",
       "    }\n",
       "\n",
       "    .dataframe thead th {\n",
       "        text-align: right;\n",
       "    }\n",
       "</style>\n",
       "<table border=\"1\" class=\"dataframe\">\n",
       "  <thead>\n",
       "    <tr style=\"text-align: right;\">\n",
       "      <th></th>\n",
       "      <th>text</th>\n",
       "      <th>label</th>\n",
       "    </tr>\n",
       "  </thead>\n",
       "  <tbody>\n",
       "    <tr>\n",
       "      <th>0</th>\n",
       "      <td>i didnt feel humiliated</td>\n",
       "      <td>0</td>\n",
       "    </tr>\n",
       "    <tr>\n",
       "      <th>1</th>\n",
       "      <td>i can go from feeling so hopeless to so damned...</td>\n",
       "      <td>0</td>\n",
       "    </tr>\n",
       "    <tr>\n",
       "      <th>2</th>\n",
       "      <td>im grabbing a minute to post i feel greedy wrong</td>\n",
       "      <td>3</td>\n",
       "    </tr>\n",
       "    <tr>\n",
       "      <th>3</th>\n",
       "      <td>i am ever feeling nostalgic about the fireplac...</td>\n",
       "      <td>2</td>\n",
       "    </tr>\n",
       "    <tr>\n",
       "      <th>4</th>\n",
       "      <td>i am feeling grouchy</td>\n",
       "      <td>3</td>\n",
       "    </tr>\n",
       "  </tbody>\n",
       "</table>\n",
       "</div>"
      ],
      "text/plain": [
       "                                                text  label\n",
       "0                            i didnt feel humiliated      0\n",
       "1  i can go from feeling so hopeless to so damned...      0\n",
       "2   im grabbing a minute to post i feel greedy wrong      3\n",
       "3  i am ever feeling nostalgic about the fireplac...      2\n",
       "4                               i am feeling grouchy      3"
      ]
     },
     "execution_count": 26,
     "metadata": {},
     "output_type": "execute_result"
    }
   ],
   "source": [
    "df['text'] = df['text'].apply(lambda x: ' '.join([word for word in x.split() if not any(char.isdigit() for char in word)]))\n",
    "df['text'] = df['text'].astype('string')\n",
    "df.head()"
   ]
  },
  {
   "cell_type": "markdown",
   "id": "13478c26",
   "metadata": {},
   "source": [
    "# Removing words containing number \n"
   ]
  },
  {
   "cell_type": "code",
   "execution_count": 11,
   "id": "23cc3449",
   "metadata": {
    "collapsed": true
   },
   "outputs": [
    {
     "data": {
      "text/html": [
       "<div>\n",
       "<style scoped>\n",
       "    .dataframe tbody tr th:only-of-type {\n",
       "        vertical-align: middle;\n",
       "    }\n",
       "\n",
       "    .dataframe tbody tr th {\n",
       "        vertical-align: top;\n",
       "    }\n",
       "\n",
       "    .dataframe thead th {\n",
       "        text-align: right;\n",
       "    }\n",
       "</style>\n",
       "<table border=\"1\" class=\"dataframe\">\n",
       "  <thead>\n",
       "    <tr style=\"text-align: right;\">\n",
       "      <th></th>\n",
       "      <th>text</th>\n",
       "      <th>label</th>\n",
       "    </tr>\n",
       "  </thead>\n",
       "  <tbody>\n",
       "    <tr>\n",
       "      <th>0</th>\n",
       "      <td>i didnt feel humili</td>\n",
       "      <td>0</td>\n",
       "    </tr>\n",
       "    <tr>\n",
       "      <th>1</th>\n",
       "      <td>i can go from feel so hopeless to so damn hope...</td>\n",
       "      <td>0</td>\n",
       "    </tr>\n",
       "    <tr>\n",
       "      <th>2</th>\n",
       "      <td>im grab a minut to post i feel greedi wrong</td>\n",
       "      <td>3</td>\n",
       "    </tr>\n",
       "    <tr>\n",
       "      <th>3</th>\n",
       "      <td>i am ever feel nostalg about the fireplac i wi...</td>\n",
       "      <td>2</td>\n",
       "    </tr>\n",
       "    <tr>\n",
       "      <th>4</th>\n",
       "      <td>i am feel grouchi</td>\n",
       "      <td>3</td>\n",
       "    </tr>\n",
       "    <tr>\n",
       "      <th>5</th>\n",
       "      <td>ive been feel a littl burden late wasnt sure w...</td>\n",
       "      <td>0</td>\n",
       "    </tr>\n",
       "    <tr>\n",
       "      <th>6</th>\n",
       "      <td>ive been take or milligram or time recommend a...</td>\n",
       "      <td>5</td>\n",
       "    </tr>\n",
       "    <tr>\n",
       "      <th>7</th>\n",
       "      <td>i feel as confu about life as a teenag or as j...</td>\n",
       "      <td>4</td>\n",
       "    </tr>\n",
       "    <tr>\n",
       "      <th>8</th>\n",
       "      <td>i have been with petrona for year i feel that ...</td>\n",
       "      <td>1</td>\n",
       "    </tr>\n",
       "    <tr>\n",
       "      <th>9</th>\n",
       "      <td>i feel romant too</td>\n",
       "      <td>2</td>\n",
       "    </tr>\n",
       "  </tbody>\n",
       "</table>\n",
       "</div>"
      ],
      "text/plain": [
       "                                                text  label\n",
       "0                                i didnt feel humili      0\n",
       "1  i can go from feel so hopeless to so damn hope...      0\n",
       "2        im grab a minut to post i feel greedi wrong      3\n",
       "3  i am ever feel nostalg about the fireplac i wi...      2\n",
       "4                                  i am feel grouchi      3\n",
       "5  ive been feel a littl burden late wasnt sure w...      0\n",
       "6  ive been take or milligram or time recommend a...      5\n",
       "7  i feel as confu about life as a teenag or as j...      4\n",
       "8  i have been with petrona for year i feel that ...      1\n",
       "9                                  i feel romant too      2"
      ]
     },
     "execution_count": 11,
     "metadata": {},
     "output_type": "execute_result"
    }
   ],
   "source": [
    "def remove_words_with_numbers(text):\n",
    "    return re.sub(r'\\b\\w*\\d\\w*\\b', '', text)\n",
    "\n",
    "# Applying the remove_words_with_numbers function to the content column\n",
    "df['text'] = df['text'].apply(remove_words_with_numbers)\n",
    "\n",
    "df.head(10)"
   ]
  },
  {
   "cell_type": "markdown",
   "id": "6cefe629",
   "metadata": {},
   "source": [
    "# Removing extra spaces from the \"text\"coloum \n"
   ]
  },
  {
   "cell_type": "code",
   "execution_count": 27,
   "id": "93cdda8b",
   "metadata": {
    "collapsed": true
   },
   "outputs": [
    {
     "data": {
      "text/html": [
       "<div>\n",
       "<style scoped>\n",
       "    .dataframe tbody tr th:only-of-type {\n",
       "        vertical-align: middle;\n",
       "    }\n",
       "\n",
       "    .dataframe tbody tr th {\n",
       "        vertical-align: top;\n",
       "    }\n",
       "\n",
       "    .dataframe thead th {\n",
       "        text-align: right;\n",
       "    }\n",
       "</style>\n",
       "<table border=\"1\" class=\"dataframe\">\n",
       "  <thead>\n",
       "    <tr style=\"text-align: right;\">\n",
       "      <th></th>\n",
       "      <th>text</th>\n",
       "      <th>label</th>\n",
       "    </tr>\n",
       "  </thead>\n",
       "  <tbody>\n",
       "    <tr>\n",
       "      <th>0</th>\n",
       "      <td>i didnt feel humiliated</td>\n",
       "      <td>0</td>\n",
       "    </tr>\n",
       "    <tr>\n",
       "      <th>1</th>\n",
       "      <td>i can go from feeling so hopeless to so damned...</td>\n",
       "      <td>0</td>\n",
       "    </tr>\n",
       "    <tr>\n",
       "      <th>2</th>\n",
       "      <td>im grabbing a minute to post i feel greedy wrong</td>\n",
       "      <td>3</td>\n",
       "    </tr>\n",
       "    <tr>\n",
       "      <th>3</th>\n",
       "      <td>i am ever feeling nostalgic about the fireplac...</td>\n",
       "      <td>2</td>\n",
       "    </tr>\n",
       "    <tr>\n",
       "      <th>4</th>\n",
       "      <td>i am feeling grouchy</td>\n",
       "      <td>3</td>\n",
       "    </tr>\n",
       "  </tbody>\n",
       "</table>\n",
       "</div>"
      ],
      "text/plain": [
       "                                                text  label\n",
       "0                            i didnt feel humiliated      0\n",
       "1  i can go from feeling so hopeless to so damned...      0\n",
       "2   im grabbing a minute to post i feel greedy wrong      3\n",
       "3  i am ever feeling nostalgic about the fireplac...      2\n",
       "4                               i am feeling grouchy      3"
      ]
     },
     "execution_count": 27,
     "metadata": {},
     "output_type": "execute_result"
    }
   ],
   "source": [
    "df['text'] = df['text'].apply(lambda x: ' '.join(x.strip().split()))\n",
    "df['text'] = df['text'].astype('string')\n",
    "df.head()"
   ]
  },
  {
   "cell_type": "markdown",
   "id": "7d5e720d",
   "metadata": {},
   "source": [
    "# Removing special charecters from the \"text\"coloum \n"
   ]
  },
  {
   "cell_type": "code",
   "execution_count": 28,
   "id": "ffecdaf0",
   "metadata": {
    "collapsed": true
   },
   "outputs": [
    {
     "data": {
      "text/html": [
       "<div>\n",
       "<style scoped>\n",
       "    .dataframe tbody tr th:only-of-type {\n",
       "        vertical-align: middle;\n",
       "    }\n",
       "\n",
       "    .dataframe tbody tr th {\n",
       "        vertical-align: top;\n",
       "    }\n",
       "\n",
       "    .dataframe thead th {\n",
       "        text-align: right;\n",
       "    }\n",
       "</style>\n",
       "<table border=\"1\" class=\"dataframe\">\n",
       "  <thead>\n",
       "    <tr style=\"text-align: right;\">\n",
       "      <th></th>\n",
       "      <th>text</th>\n",
       "      <th>label</th>\n",
       "    </tr>\n",
       "  </thead>\n",
       "  <tbody>\n",
       "    <tr>\n",
       "      <th>0</th>\n",
       "      <td>i didnt feel humiliated</td>\n",
       "      <td>0</td>\n",
       "    </tr>\n",
       "    <tr>\n",
       "      <th>1</th>\n",
       "      <td>i can go from feeling so hopeless to so damned...</td>\n",
       "      <td>0</td>\n",
       "    </tr>\n",
       "    <tr>\n",
       "      <th>2</th>\n",
       "      <td>im grabbing a minute to post i feel greedy wrong</td>\n",
       "      <td>3</td>\n",
       "    </tr>\n",
       "    <tr>\n",
       "      <th>3</th>\n",
       "      <td>i am ever feeling nostalgic about the fireplac...</td>\n",
       "      <td>2</td>\n",
       "    </tr>\n",
       "    <tr>\n",
       "      <th>4</th>\n",
       "      <td>i am feeling grouchy</td>\n",
       "      <td>3</td>\n",
       "    </tr>\n",
       "  </tbody>\n",
       "</table>\n",
       "</div>"
      ],
      "text/plain": [
       "                                                text  label\n",
       "0                            i didnt feel humiliated      0\n",
       "1  i can go from feeling so hopeless to so damned...      0\n",
       "2   im grabbing a minute to post i feel greedy wrong      3\n",
       "3  i am ever feeling nostalgic about the fireplac...      2\n",
       "4                               i am feeling grouchy      3"
      ]
     },
     "execution_count": 28,
     "metadata": {},
     "output_type": "execute_result"
    }
   ],
   "source": [
    "df['text'] = df['text'].str.replace('[^a-zA-Z0-9\\s]', '', regex=True)\n",
    "df.head()"
   ]
  },
  {
   "cell_type": "markdown",
   "id": "f8b16ab7",
   "metadata": {},
   "source": [
    "# Removing Stopwords from the \"text\"coloum \n"
   ]
  },
  {
   "cell_type": "code",
   "execution_count": 29,
   "id": "92011cea",
   "metadata": {
    "collapsed": true
   },
   "outputs": [
    {
     "data": {
      "text/plain": [
       "\"i, me, my, myself, we, our, ours, ourselves, you, you're, you've, you'll, you'd, your, yours, yourself, yourselves, he, him, his, himself, she, she's, her, hers, herself, it, it's, its, itself, they, them, their, theirs, themselves, what, which, who, whom, this, that, that'll, these, those, am, is, are, was, were, be, been, being, have, has, had, having, do, does, did, doing, a, an, the, and, but, if, or, because, as, until, while, of, at, by, for, with, about, against, between, into, through, during, before, after, above, below, to, from, up, down, in, out, on, off, over, under, again, further, then, once, here, there, when, where, why, how, all, any, both, each, few, more, most, other, some, such, no, nor, not, only, own, same, so, than, too, very, s, t, can, will, just, don, don't, should, should've, now, d, ll, m, o, re, ve, y, ain, aren, aren't, couldn, couldn't, didn, didn't, doesn, doesn't, hadn, hadn't, hasn, hasn't, haven, haven't, isn, isn't, ma, mightn, mightn't, mustn, mustn't, needn, needn't, shan, shan't, shouldn, shouldn't, wasn, wasn't, weren, weren't, won, won't, wouldn, wouldn't\""
      ]
     },
     "execution_count": 29,
     "metadata": {},
     "output_type": "execute_result"
    }
   ],
   "source": [
    "from nltk.corpus import stopwords\n",
    "\", \".join (stopwords.words('english'))"
   ]
  },
  {
   "cell_type": "code",
   "execution_count": 30,
   "id": "0f3c75a9",
   "metadata": {
    "collapsed": true
   },
   "outputs": [
    {
     "name": "stdout",
     "output_type": "stream",
     "text": [
      "0                                    didnt feel humiliated\n",
      "1        go feeling hopeless damned hopeful around some...\n",
      "2                im grabbing minute post feel greedy wrong\n",
      "3        ever feeling nostalgic fireplace know still pr...\n",
      "4                                          feeling grouchy\n",
      "                               ...                        \n",
      "15995        brief time beanbag said anna feel like beaten\n",
      "15996    turning feel pathetic still waiting tables sub...\n",
      "15997                             feel strong good overall\n",
      "15998                       feel like rude comment im glad\n",
      "15999                         know lot feel stupid portray\n",
      "Name: text, Length: 16000, dtype: object\n"
     ]
    }
   ],
   "source": [
    "def remove_stopwords(text):\n",
    "    stop_words = set(stopwords.words('english'))\n",
    "    words = text.split()\n",
    "    filtered_words = [word for word in words if word.lower() not in stop_words]\n",
    "    return ' '.join(filtered_words)\n",
    "\n",
    "# Applying the function to the content column\n",
    "df['text'] = df['text'].apply(remove_stopwords)\n",
    "print(df['text'])"
   ]
  },
  {
   "cell_type": "markdown",
   "id": "e851309b",
   "metadata": {},
   "source": [
    "# Stemming"
   ]
  },
  {
   "cell_type": "code",
   "execution_count": 10,
   "id": "9a083ed3",
   "metadata": {
    "collapsed": true
   },
   "outputs": [
    {
     "data": {
      "text/html": [
       "<div>\n",
       "<style scoped>\n",
       "    .dataframe tbody tr th:only-of-type {\n",
       "        vertical-align: middle;\n",
       "    }\n",
       "\n",
       "    .dataframe tbody tr th {\n",
       "        vertical-align: top;\n",
       "    }\n",
       "\n",
       "    .dataframe thead th {\n",
       "        text-align: right;\n",
       "    }\n",
       "</style>\n",
       "<table border=\"1\" class=\"dataframe\">\n",
       "  <thead>\n",
       "    <tr style=\"text-align: right;\">\n",
       "      <th></th>\n",
       "      <th>text</th>\n",
       "      <th>label</th>\n",
       "    </tr>\n",
       "  </thead>\n",
       "  <tbody>\n",
       "    <tr>\n",
       "      <th>0</th>\n",
       "      <td>i didnt feel humili</td>\n",
       "      <td>0</td>\n",
       "    </tr>\n",
       "    <tr>\n",
       "      <th>1</th>\n",
       "      <td>i can go from feel so hopeless to so damn hope...</td>\n",
       "      <td>0</td>\n",
       "    </tr>\n",
       "    <tr>\n",
       "      <th>2</th>\n",
       "      <td>im grab a minut to post i feel greedi wrong</td>\n",
       "      <td>3</td>\n",
       "    </tr>\n",
       "    <tr>\n",
       "      <th>3</th>\n",
       "      <td>i am ever feel nostalg about the fireplac i wi...</td>\n",
       "      <td>2</td>\n",
       "    </tr>\n",
       "    <tr>\n",
       "      <th>4</th>\n",
       "      <td>i am feel grouchi</td>\n",
       "      <td>3</td>\n",
       "    </tr>\n",
       "    <tr>\n",
       "      <th>5</th>\n",
       "      <td>ive been feel a littl burden late wasnt sure w...</td>\n",
       "      <td>0</td>\n",
       "    </tr>\n",
       "    <tr>\n",
       "      <th>6</th>\n",
       "      <td>ive been take or milligram or time recommend a...</td>\n",
       "      <td>5</td>\n",
       "    </tr>\n",
       "    <tr>\n",
       "      <th>7</th>\n",
       "      <td>i feel as confu about life as a teenag or as j...</td>\n",
       "      <td>4</td>\n",
       "    </tr>\n",
       "    <tr>\n",
       "      <th>8</th>\n",
       "      <td>i have been with petrona for year i feel that ...</td>\n",
       "      <td>1</td>\n",
       "    </tr>\n",
       "    <tr>\n",
       "      <th>9</th>\n",
       "      <td>i feel romant too</td>\n",
       "      <td>2</td>\n",
       "    </tr>\n",
       "  </tbody>\n",
       "</table>\n",
       "</div>"
      ],
      "text/plain": [
       "                                                text  label\n",
       "0                                i didnt feel humili      0\n",
       "1  i can go from feel so hopeless to so damn hope...      0\n",
       "2        im grab a minut to post i feel greedi wrong      3\n",
       "3  i am ever feel nostalg about the fireplac i wi...      2\n",
       "4                                  i am feel grouchi      3\n",
       "5  ive been feel a littl burden late wasnt sure w...      0\n",
       "6  ive been take or milligram or time recommend a...      5\n",
       "7  i feel as confu about life as a teenag or as j...      4\n",
       "8  i have been with petrona for year i feel that ...      1\n",
       "9                                  i feel romant too      2"
      ]
     },
     "execution_count": 10,
     "metadata": {},
     "output_type": "execute_result"
    }
   ],
   "source": [
    "porter = PorterStemmer()\n",
    "def stem_text(text):\n",
    "    words = word_tokenize(text)\n",
    "    stemmed_words = [porter.stem(word) for word in words]\n",
    "    return ' '.join(stemmed_words)\n",
    "\n",
    "# Applying the function to the text column\n",
    "df['text'] = df['text'].apply(stem_text)\n",
    "df.head(10)"
   ]
  },
  {
   "cell_type": "markdown",
   "id": "b1c06037",
   "metadata": {},
   "source": [
    "# Lemmatization\n",
    " "
   ]
  },
  {
   "cell_type": "code",
   "execution_count": 8,
   "id": "34d43905",
   "metadata": {
    "collapsed": true
   },
   "outputs": [
    {
     "data": {
      "text/html": [
       "<div>\n",
       "<style scoped>\n",
       "    .dataframe tbody tr th:only-of-type {\n",
       "        vertical-align: middle;\n",
       "    }\n",
       "\n",
       "    .dataframe tbody tr th {\n",
       "        vertical-align: top;\n",
       "    }\n",
       "\n",
       "    .dataframe thead th {\n",
       "        text-align: right;\n",
       "    }\n",
       "</style>\n",
       "<table border=\"1\" class=\"dataframe\">\n",
       "  <thead>\n",
       "    <tr style=\"text-align: right;\">\n",
       "      <th></th>\n",
       "      <th>text</th>\n",
       "      <th>label</th>\n",
       "    </tr>\n",
       "  </thead>\n",
       "  <tbody>\n",
       "    <tr>\n",
       "      <th>0</th>\n",
       "      <td>i didnt feel humili</td>\n",
       "      <td>0</td>\n",
       "    </tr>\n",
       "    <tr>\n",
       "      <th>1</th>\n",
       "      <td>i can go from feel so hopeless to so damn hope...</td>\n",
       "      <td>0</td>\n",
       "    </tr>\n",
       "    <tr>\n",
       "      <th>2</th>\n",
       "      <td>im grab a minut to post i feel greedi wrong</td>\n",
       "      <td>3</td>\n",
       "    </tr>\n",
       "    <tr>\n",
       "      <th>3</th>\n",
       "      <td>i am ever feel nostalg about the fireplac i wi...</td>\n",
       "      <td>2</td>\n",
       "    </tr>\n",
       "    <tr>\n",
       "      <th>4</th>\n",
       "      <td>i am feel grouchi</td>\n",
       "      <td>3</td>\n",
       "    </tr>\n",
       "    <tr>\n",
       "      <th>5</th>\n",
       "      <td>ive been feel a littl burden late wasnt sure w...</td>\n",
       "      <td>0</td>\n",
       "    </tr>\n",
       "    <tr>\n",
       "      <th>6</th>\n",
       "      <td>ive been take or milligram or time recommend a...</td>\n",
       "      <td>5</td>\n",
       "    </tr>\n",
       "    <tr>\n",
       "      <th>7</th>\n",
       "      <td>i feel as confu about life as a teenag or as j...</td>\n",
       "      <td>4</td>\n",
       "    </tr>\n",
       "    <tr>\n",
       "      <th>8</th>\n",
       "      <td>i have been with petrona for year i feel that ...</td>\n",
       "      <td>1</td>\n",
       "    </tr>\n",
       "    <tr>\n",
       "      <th>9</th>\n",
       "      <td>i feel romant too</td>\n",
       "      <td>2</td>\n",
       "    </tr>\n",
       "  </tbody>\n",
       "</table>\n",
       "</div>"
      ],
      "text/plain": [
       "                                                text  label\n",
       "0                                i didnt feel humili      0\n",
       "1  i can go from feel so hopeless to so damn hope...      0\n",
       "2        im grab a minut to post i feel greedi wrong      3\n",
       "3  i am ever feel nostalg about the fireplac i wi...      2\n",
       "4                                  i am feel grouchi      3\n",
       "5  ive been feel a littl burden late wasnt sure w...      0\n",
       "6  ive been take or milligram or time recommend a...      5\n",
       "7  i feel as confu about life as a teenag or as j...      4\n",
       "8  i have been with petrona for year i feel that ...      1\n",
       "9                                  i feel romant too      2"
      ]
     },
     "execution_count": 8,
     "metadata": {},
     "output_type": "execute_result"
    }
   ],
   "source": [
    "def lemmatize_text(text):\n",
    "    # Process the text with spaCy\n",
    "    doc = nlp(text)\n",
    "    # Extract lemmatized tokens\n",
    "    lemmatized_tokens = [token.lemma_ for token in doc]\n",
    "    # Join the lemmatized tokens into a sentence\n",
    "    lemmatized_text = ' '.join(lemmatized_tokens)\n",
    "    return lemmatized_text\n",
    "df.head(10)"
   ]
  },
  {
   "cell_type": "code",
   "execution_count": 35,
   "id": "16caf8fe",
   "metadata": {
    "collapsed": true
   },
   "outputs": [
    {
     "data": {
      "text/html": [
       "<div>\n",
       "<style scoped>\n",
       "    .dataframe tbody tr th:only-of-type {\n",
       "        vertical-align: middle;\n",
       "    }\n",
       "\n",
       "    .dataframe tbody tr th {\n",
       "        vertical-align: top;\n",
       "    }\n",
       "\n",
       "    .dataframe thead th {\n",
       "        text-align: right;\n",
       "    }\n",
       "</style>\n",
       "<table border=\"1\" class=\"dataframe\">\n",
       "  <thead>\n",
       "    <tr style=\"text-align: right;\">\n",
       "      <th></th>\n",
       "      <th>text</th>\n",
       "      <th>label</th>\n",
       "    </tr>\n",
       "  </thead>\n",
       "  <tbody>\n",
       "    <tr>\n",
       "      <th>9672</th>\n",
       "      <td>feeling devastated inner voice within thats na...</td>\n",
       "      <td>0</td>\n",
       "    </tr>\n",
       "    <tr>\n",
       "      <th>7034</th>\n",
       "      <td>attended free individual academic consultation...</td>\n",
       "      <td>0</td>\n",
       "    </tr>\n",
       "    <tr>\n",
       "      <th>10821</th>\n",
       "      <td>get feeling facebook looking ways get popular</td>\n",
       "      <td>1</td>\n",
       "    </tr>\n",
       "    <tr>\n",
       "      <th>12699</th>\n",
       "      <td>could feel stress leaving veins getting wonderful</td>\n",
       "      <td>1</td>\n",
       "    </tr>\n",
       "    <tr>\n",
       "      <th>9899</th>\n",
       "      <td>feel world tragic woeful place live</td>\n",
       "      <td>0</td>\n",
       "    </tr>\n",
       "  </tbody>\n",
       "</table>\n",
       "</div>"
      ],
      "text/plain": [
       "                                                    text  label\n",
       "9672   feeling devastated inner voice within thats na...      0\n",
       "7034   attended free individual academic consultation...      0\n",
       "10821      get feeling facebook looking ways get popular      1\n",
       "12699  could feel stress leaving veins getting wonderful      1\n",
       "9899                 feel world tragic woeful place live      0"
      ]
     },
     "execution_count": 35,
     "metadata": {},
     "output_type": "execute_result"
    }
   ],
   "source": [
    "df.sample(5)"
   ]
  },
  {
   "cell_type": "markdown",
   "id": "1c562726",
   "metadata": {},
   "source": [
    "# Feature Extraction/Engineering"
   ]
  },
  {
   "cell_type": "markdown",
   "id": "0d0bbeae",
   "metadata": {},
   "source": [
    "Feature extraction in data analysis is the process of transforming raw data into a format that is suitable for machine learning algorithms. \n",
    "\n",
    "It involves selecting, combining, and transforming the original features (variables) of a dataset to create new, more informative features that can improve the performance of a machine learning model.\n",
    "\n",
    "Feature extraction is important because it helps to:\n",
    "\n",
    "1.Reduce dimensionality\n",
    "2.Improve model performance\n",
    "3.Deal with sparse or noisy data\n",
    "4.Enable transfer learning\n",
    "5.Interpretability\n",
    "\n",
    "Common techniques for feature extraction include:\n",
    "\n",
    "1.Principal Component Analysis (PCA): A dimensionality reduction technique that identifies the most important features in the data.\n",
    "\n",
    "2.Feature scaling: Scaling features to a similar range can improve the performance of some machine learning algorithms.\n",
    "\n",
    "3.Feature selection: Selecting a subset of the most important features based on statistical tests or machine learning models.\n",
    "\n",
    "4.Text feature extraction: Techniques like TF-IDF, word embeddings, and topic modeling can be used to extract features from text data.\n",
    "\n",
    "5.Image feature extraction: Techniques like edge detection, corner detection, and texture analysis can be used to extract features from images.\n",
    "\n"
   ]
  },
  {
   "cell_type": "markdown",
   "id": "a26f8c96",
   "metadata": {},
   "source": [
    "# Converting the text  data into TF-IDF matrix."
   ]
  },
  {
   "cell_type": "code",
   "execution_count": 40,
   "id": "6e75bea1",
   "metadata": {
    "collapsed": true
   },
   "outputs": [
    {
     "name": "stdout",
     "output_type": "stream",
     "text": [
      "[[0. 0. 0. 0. 1. 0.]\n",
      " [0. 0. 1. 0. 0. 0.]\n",
      " [0. 0. 0. 1. 0. 0.]\n",
      " [1. 0. 0. 0. 0. 0.]\n",
      " [0. 1. 0. 0. 0. 0.]\n",
      " [0. 0. 0. 0. 0. 1.]]\n"
     ]
    }
   ],
   "source": [
    "data = {\n",
    "    'text': ['sadness', 'joy', 'love', 'anger' , 'fear' , 'surprise'],\n",
    "    'label': [0, 1, 2, 3, 4, 5]\n",
    "}\n",
    "df = pd.DataFrame(data)\n",
    "\n",
    "\n",
    "# Creating TF-IDF vectorizer\n",
    "tfidf_vectorizer = TfidfVectorizer()\n",
    "\n",
    "# Fit-transform the text data\n",
    "tfidf_matrix = tfidf_vectorizer.fit_transform(df['text'])\n",
    "\n",
    "# Displaying the TF-IDF matrix\n",
    "print(tfidf_matrix.toarray())"
   ]
  },
  {
   "cell_type": "markdown",
   "id": "1631c398",
   "metadata": {},
   "source": [
    "# Performing feature scaling on\"label\" column of the dataset using StandardScaler\n",
    "\n"
   ]
  },
  {
   "cell_type": "code",
   "execution_count": 44,
   "id": "fd4ec44e",
   "metadata": {
    "collapsed": true
   },
   "outputs": [
    {
     "data": {
      "text/html": [
       "<div>\n",
       "<style scoped>\n",
       "    .dataframe tbody tr th:only-of-type {\n",
       "        vertical-align: middle;\n",
       "    }\n",
       "\n",
       "    .dataframe tbody tr th {\n",
       "        vertical-align: top;\n",
       "    }\n",
       "\n",
       "    .dataframe thead th {\n",
       "        text-align: right;\n",
       "    }\n",
       "</style>\n",
       "<table border=\"1\" class=\"dataframe\">\n",
       "  <thead>\n",
       "    <tr style=\"text-align: right;\">\n",
       "      <th></th>\n",
       "      <th>text</th>\n",
       "      <th>numerical_feature</th>\n",
       "      <th>label</th>\n",
       "    </tr>\n",
       "  </thead>\n",
       "  <tbody>\n",
       "    <tr>\n",
       "      <th>0</th>\n",
       "      <td>sadness</td>\n",
       "      <td>-1.46385</td>\n",
       "      <td>0</td>\n",
       "    </tr>\n",
       "    <tr>\n",
       "      <th>1</th>\n",
       "      <td>joy</td>\n",
       "      <td>-0.87831</td>\n",
       "      <td>1</td>\n",
       "    </tr>\n",
       "    <tr>\n",
       "      <th>2</th>\n",
       "      <td>love</td>\n",
       "      <td>-0.29277</td>\n",
       "      <td>2</td>\n",
       "    </tr>\n",
       "    <tr>\n",
       "      <th>3</th>\n",
       "      <td>anger</td>\n",
       "      <td>0.29277</td>\n",
       "      <td>3</td>\n",
       "    </tr>\n",
       "    <tr>\n",
       "      <th>4</th>\n",
       "      <td>fear</td>\n",
       "      <td>0.87831</td>\n",
       "      <td>4</td>\n",
       "    </tr>\n",
       "  </tbody>\n",
       "</table>\n",
       "</div>"
      ],
      "text/plain": [
       "      text  numerical_feature  label\n",
       "0  sadness           -1.46385      0\n",
       "1      joy           -0.87831      1\n",
       "2     love           -0.29277      2\n",
       "3    anger            0.29277      3\n",
       "4     fear            0.87831      4"
      ]
     },
     "execution_count": 44,
     "metadata": {},
     "output_type": "execute_result"
    }
   ],
   "source": [
    "data = {\n",
    "    'text': ['sadness', 'joy', 'love', 'anger', 'fear', 'surprise'],\n",
    "    'numerical_feature': [10, 20, 30, 40, 50, 60],  # Example numerical feature\n",
    "    'label': [0, 1, 2, 3, 4, 5]\n",
    "}\n",
    "df = pd.DataFrame(data)\n",
    "\n",
    "# Selecting numerical columns for feature scaling\n",
    "numerical_cols = ['numerical_feature']\n",
    "\n",
    "# Creating StandardScaler object\n",
    "scaler = StandardScaler()\n",
    "\n",
    "# Fit-transform the numerical data\n",
    "scaled_numerical_data = scaler.fit_transform(df[numerical_cols])\n",
    "\n",
    "# Replacing original numerical columns with scaled data\n",
    "df[numerical_cols] = scaled_numerical_data\n",
    "\n",
    "# Displaying the DataFrame with scaled numerical data\n",
    "df.head()\n"
   ]
  },
  {
   "cell_type": "markdown",
   "id": "148f963b",
   "metadata": {},
   "source": [
    "# Selecting the top k features based on ANOVA F-values using feature selection\n",
    "\n"
   ]
  },
  {
   "cell_type": "code",
   "execution_count": 46,
   "id": "aa6636e0",
   "metadata": {
    "collapsed": true
   },
   "outputs": [
    {
     "name": "stdout",
     "output_type": "stream",
     "text": [
      "Index(['numerical_feature1', 'numerical_feature2'], dtype='object')\n"
     ]
    },
    {
     "name": "stderr",
     "output_type": "stream",
     "text": [
      "C:\\Users\\Prashant\\anaconda3\\lib\\site-packages\\sklearn\\utils\\validation.py:1688: FutureWarning: Feature names only support names that are all strings. Got feature names with dtypes: ['int', 'str']. An error will be raised in 1.2.\n",
      "  warnings.warn(\n",
      "C:\\Users\\Prashant\\anaconda3\\lib\\site-packages\\sklearn\\feature_selection\\_univariate_selection.py:109: RuntimeWarning: invalid value encountered in true_divide\n",
      "  msw = sswn / float(dfwn)\n",
      "C:\\Users\\Prashant\\anaconda3\\lib\\site-packages\\sklearn\\utils\\validation.py:1688: FutureWarning: Feature names only support names that are all strings. Got feature names with dtypes: ['int', 'str']. An error will be raised in 1.2.\n",
      "  warnings.warn(\n"
     ]
    }
   ],
   "source": [
    "data = {\n",
    "    'text': ['sadness', 'joy', 'love', 'anger', 'fear', 'surprise'],\n",
    "    'numerical_feature1': [10, 20, 30, 40, 50, 60],  # Example numerical feature 1\n",
    "    'numerical_feature2': [4, 5, 6, 7, 8, 9],      # Example numerical feature 2\n",
    "    'label': [0, 1, 2, 3, 4, 5]\n",
    "}\n",
    "df = pd.DataFrame(data)\n",
    "\n",
    "# Converting text column into TF-IDF vectors\n",
    "tfidf_vectorizer = TfidfVectorizer()\n",
    "tfidf_matrix = tfidf_vectorizer.fit_transform(df['text'])\n",
    "\n",
    "# Combineing TF-IDF matrix with numerical features\n",
    "X = pd.concat([pd.DataFrame(tfidf_matrix.toarray()), df[['numerical_feature1', 'numerical_feature2']]], axis=1)\n",
    "y = df['label']\n",
    "\n",
    "# Perform feature selection\n",
    "selector = SelectKBest(score_func=f_classif, k=2)  # Select top 2 features\n",
    "X_selected = selector.fit_transform(X, y)\n",
    "\n",
    "# Get the selected feature indices\n",
    "selected_indices = selector.get_support(indices=True)\n",
    "\n",
    "# Get the names of the selected features\n",
    "selected_features = X.columns[selected_indices]\n",
    "\n",
    "# Display the selected features\n",
    "print(selected_features)"
   ]
  },
  {
   "cell_type": "markdown",
   "id": "c44c6cef",
   "metadata": {},
   "source": [
    "# Performing Principal Component Analysis (PCA) on text data "
   ]
  },
  {
   "cell_type": "code",
   "execution_count": 45,
   "id": "a3016fbc",
   "metadata": {
    "collapsed": true
   },
   "outputs": [
    {
     "name": "stderr",
     "output_type": "stream",
     "text": [
      "C:\\Users\\Prashant\\anaconda3\\lib\\site-packages\\sklearn\\utils\\validation.py:1688: FutureWarning: Feature names only support names that are all strings. Got feature names with dtypes: ['int', 'str']. An error will be raised in 1.2.\n",
      "  warnings.warn(\n"
     ]
    },
    {
     "data": {
      "text/html": [
       "<div>\n",
       "<style scoped>\n",
       "    .dataframe tbody tr th:only-of-type {\n",
       "        vertical-align: middle;\n",
       "    }\n",
       "\n",
       "    .dataframe tbody tr th {\n",
       "        vertical-align: top;\n",
       "    }\n",
       "\n",
       "    .dataframe thead th {\n",
       "        text-align: right;\n",
       "    }\n",
       "</style>\n",
       "<table border=\"1\" class=\"dataframe\">\n",
       "  <thead>\n",
       "    <tr style=\"text-align: right;\">\n",
       "      <th></th>\n",
       "      <th>text</th>\n",
       "      <th>numerical_feature1</th>\n",
       "      <th>numerical_feature2</th>\n",
       "      <th>label</th>\n",
       "    </tr>\n",
       "  </thead>\n",
       "  <tbody>\n",
       "    <tr>\n",
       "      <th>0</th>\n",
       "      <td>sadness</td>\n",
       "      <td>10</td>\n",
       "      <td>4</td>\n",
       "      <td>0</td>\n",
       "    </tr>\n",
       "    <tr>\n",
       "      <th>1</th>\n",
       "      <td>joy</td>\n",
       "      <td>20</td>\n",
       "      <td>5</td>\n",
       "      <td>1</td>\n",
       "    </tr>\n",
       "    <tr>\n",
       "      <th>2</th>\n",
       "      <td>love</td>\n",
       "      <td>30</td>\n",
       "      <td>6</td>\n",
       "      <td>2</td>\n",
       "    </tr>\n",
       "    <tr>\n",
       "      <th>3</th>\n",
       "      <td>anger</td>\n",
       "      <td>40</td>\n",
       "      <td>7</td>\n",
       "      <td>3</td>\n",
       "    </tr>\n",
       "    <tr>\n",
       "      <th>4</th>\n",
       "      <td>fear</td>\n",
       "      <td>50</td>\n",
       "      <td>8</td>\n",
       "      <td>4</td>\n",
       "    </tr>\n",
       "  </tbody>\n",
       "</table>\n",
       "</div>"
      ],
      "text/plain": [
       "      text  numerical_feature1  numerical_feature2  label\n",
       "0  sadness                  10                   4      0\n",
       "1      joy                  20                   5      1\n",
       "2     love                  30                   6      2\n",
       "3    anger                  40                   7      3\n",
       "4     fear                  50                   8      4"
      ]
     },
     "execution_count": 45,
     "metadata": {},
     "output_type": "execute_result"
    }
   ],
   "source": [
    "data = {\n",
    "    'text': ['sadness', 'joy', 'love', 'anger', 'fear', 'surprise'],\n",
    "    'numerical_feature1': [10, 20, 30, 40, 50, 60],  # Example numerical feature 1\n",
    "    'numerical_feature2': [4, 5, 6, 7, 8, 9],      # Example numerical feature 2\n",
    "    'label': [0, 1, 2, 3, 4, 5]\n",
    "}\n",
    "df = pd.DataFrame(data)\n",
    "\n",
    "# Convert text column into TF-IDF vectors\n",
    "tfidf_vectorizer = TfidfVectorizer()\n",
    "tfidf_matrix = tfidf_vectorizer.fit_transform(df['text'])\n",
    "\n",
    "# Combine TF-IDF matrix with numerical features\n",
    "X = pd.concat([pd.DataFrame(tfidf_matrix.toarray()), df[['numerical_feature1', 'numerical_feature2']]], axis=1)\n",
    "y = df['label']\n",
    "\n",
    "# Performing  PCA\n",
    "pca = PCA(n_components=2)  # Reduce to 2 components for visualization\n",
    "X_pca = pca.fit_transform(X)\n",
    "\n",
    "# Creating a new DataFrame with the PCA results\n",
    "df_pca = pd.DataFrame(data=X_pca, columns=['PCA1', 'PCA2'])\n",
    "\n",
    "# Concatenate the label column\n",
    "df_pca['label'] = y\n",
    "\n",
    "# Displaying the DataFrame with PCA results\n",
    "df.head()\n"
   ]
  },
  {
   "cell_type": "markdown",
   "id": "804984ef",
   "metadata": {},
   "source": [
    "# Converting the \"text\" column of dataset into a matrix of word counts. "
   ]
  },
  {
   "cell_type": "code",
   "execution_count": 5,
   "id": "227e49c5",
   "metadata": {},
   "outputs": [
    {
     "name": "stdout",
     "output_type": "stream",
     "text": [
      "   anger  fear  joy  love  sadness  surprise\n",
      "0    0.0   0.0  0.0   0.0      1.0       0.0\n",
      "1    0.0   0.0  1.0   0.0      0.0       0.0\n",
      "2    0.0   0.0  0.0   1.0      0.0       0.0\n",
      "3    1.0   0.0  0.0   0.0      0.0       0.0\n",
      "4    0.0   1.0  0.0   0.0      0.0       0.0\n"
     ]
    }
   ],
   "source": [
    "data = {\n",
    "    'text': ['sadness', 'joy', 'love', 'anger' , 'fear' , 'surprise'],\n",
    "    'label': [0, 1, 2, 3, 4, 5]\n",
    "}\n",
    "df = pd.DataFrame(data)\n",
    "\n",
    "# Creating an instance of TfidfVectorizer\n",
    "vectorizer = TfidfVectorizer()\n",
    "\n",
    "# Fit and transform the text data\n",
    "X = vectorizer.fit_transform(df['text'])\n",
    "\n",
    "# Geting the feature names (words)\n",
    "feature_names = vectorizer.get_feature_names_out()\n",
    "\n",
    "# Converting the sparse matrix to a dense matrix\n",
    "X_dense = X.todense()\n",
    "\n",
    "# Converting the dense matrix to a DataFrame\n",
    "df_tfidf = pd.DataFrame(X_dense, columns=feature_names)\n",
    "\n",
    "# Print the TF-IDF matrix\n",
    "print(df_tfidf.head())\n"
   ]
  },
  {
   "cell_type": "markdown",
   "id": "9c142dab",
   "metadata": {},
   "source": [
    "# Model Building / Selection\n",
    "\n",
    "Model selection or building in data analysis refers to the process of selecting the best model or algorithm to use for a given dataset and problem. \n",
    "\n",
    "It involves evaluating different models, tuning their hyperparameters, and selecting the one that performs best according to predefined criteria (e.g, accuracy, precision, recall, etc.)\n",
    "\n",
    "The process typically includes the following steps:\n",
    "\n",
    "1.Define the Problem\n",
    ", 2.Data Preparation\n",
    ", 3.Model Selection\n",
    ", 4.Hyperparameter Tuning\n",
    ", 5.Model Evaluation\n",
    ", 6.Final Model Training\n",
    ", 7.Model Testing\n",
    ", 8.Model Deployment\n",
    "\n",
    "Model selection is crucial in data analysis as it directly impacts the performance and effectiveness of your analysis. \n",
    "A well-selected model can provide more accurate predictions and insights, leading to better decision-making.\n"
   ]
  },
  {
   "cell_type": "markdown",
   "id": "c1652794",
   "metadata": {},
   "source": [
    "# 1.Dividing the dataset in to Train (70%), Test (20%) and Validation (10%) datasets.\n"
   ]
  },
  {
   "cell_type": "code",
   "execution_count": 33,
   "id": "9e40a4ba",
   "metadata": {
    "collapsed": true
   },
   "outputs": [
    {
     "name": "stdout",
     "output_type": "stream",
     "text": [
      "Train data shape: (11200, 2)\n",
      "Test data shape: (1920, 2)\n",
      "Validation data shape: (2880, 2)\n"
     ]
    }
   ],
   "source": [
    "\n",
    "# Spliting the data into features (X) and labels (y)\n",
    "X = data['text']\n",
    "y = data['label']\n",
    "\n",
    "# Spliting the data into train, test, and validation sets\n",
    "X_train, X_temp, y_train, y_temp = train_test_split(X, y, test_size=0.3, random_state=42)\n",
    "X_val, X_test, y_val, y_test = train_test_split(X_temp, y_temp, test_size=0.4, random_state=42)\n",
    "\n",
    "# Creating train, test, and validation datasets\n",
    "train_data = pd.DataFrame({'text': X_train, 'label': y_train})\n",
    "test_data = pd.DataFrame({'text': X_test, 'label': y_test})\n",
    "val_data = pd.DataFrame({'text': X_val, 'label': y_val})\n",
    "\n",
    "# Print the shapes of the datasets\n",
    "print(\"Train data shape:\", train_data.shape)\n",
    "print(\"Test data shape:\", test_data.shape)\n",
    "print(\"Validation data shape:\", val_data.shape)\n",
    "\n",
    "#(We split the data into features (X) and labels (y) using X = data['text'] and y = data['label'].)\n",
    "#(We use the train_test_split function to split the data into train and temporary sets (70% train, 30% temp) using X_train, X_temp, y_train, y_temp = train_test_split(X, y, test_size=0.3, random_state=42).\n",
    "#(We further split the temporary set into validation and test sets (40% validation, 60% test) using X_val, X_test, y_val, y_test = train_test_split(X_temp, y_temp, test_size=0.4, random_state=42).\n",
    "#(We create separate DataFrames for train, test, and validation datasets using train_data = pd.DataFrame({'text': X_train, 'label': y_train}), test_data = pd.DataFrame({'text': X_test, 'label': y_test}), and val_data = pd.DataFrame({'text': X_val, 'label': y_val}).\n",
    "#(Finally, we print the shapes of the train, test, and validation datasets using)"
   ]
  },
  {
   "cell_type": "markdown",
   "id": "d3e6d33c",
   "metadata": {},
   "source": [
    "# 2.Building Classification Models\n",
    "\n",
    "Classification models are a type of machine learning model used to predict categorical labels or classes based on input features.These models are used in data analysis to classify data points into different categories or classes.\n",
    "\n",
    "Some common classification models include:\n",
    "1.Logistic Regression, 2.Decision Trees, 3.Random Forest, 4.Support Vector Machines (SVM), 5.Gradient Boosting Machines (e.g., XGBoost, LightGBM), 6.Naive Bayes, 7.K-Nearest Neighbors (KNN), 8.Decision Tree"
   ]
  },
  {
   "cell_type": "markdown",
   "id": "a05e1289",
   "metadata": {},
   "source": [
    "# 1.Logistic Regression Model\n",
    "\n",
    "Logistic regression is used for binary classification where we use sigmoid function, that takes input as independent variables and produces a probability value between 0 and 1 .\n",
    "\n",
    "Logistic Function / Sigmoid Function\n",
    "\n",
    "1.The sigmoid function is a mathematical function used to map the predicted values to probabilities.\n",
    "2.It maps any real value into another value within a range of 0 and 1. The value of the logistic regression must be between 0 and 1, which cannot go beyond this limit, so it forms a curve like the “S” form.\n",
    "3.The S-form curve is called the Sigmoid function or the logistic function.\n",
    "4.In logistic regression, we use the concept of the threshold value, which defines the probability of either 0 or 1. Such as values above the threshold value tends to 1, and a value below the threshold values tends to 0.\n",
    "\n",
    "Basically their are three types of Logistic Regression:-\n",
    "1.Binomial\n",
    "2.Multinomial\n",
    "3.Ordinal\n",
    "\n",
    "*Logistic regression is a widely used supervised machine learning algorithm for classification problems. It is a statistical model that aims to predict the probability of a binary or categorical outcome based on one or more independent variables.\n",
    "\n",
    "In machine learning, logistic regression is used to model the relationship between the input features and the target variable, which can take one of two values (in the case of binary classification) or multiple values (in the case of multinomial classification).\n"
   ]
  },
  {
   "cell_type": "code",
   "execution_count": 4,
   "id": "9946747a",
   "metadata": {},
   "outputs": [
    {
     "name": "stderr",
     "output_type": "stream",
     "text": [
      "C:\\Users\\Prashant\\anaconda3\\lib\\site-packages\\sklearn\\linear_model\\_logistic.py:814: ConvergenceWarning: lbfgs failed to converge (status=1):\n",
      "STOP: TOTAL NO. of ITERATIONS REACHED LIMIT.\n",
      "\n",
      "Increase the number of iterations (max_iter) or scale the data as shown in:\n",
      "    https://scikit-learn.org/stable/modules/preprocessing.html\n",
      "Please also refer to the documentation for alternative solver options:\n",
      "    https://scikit-learn.org/stable/modules/linear_model.html#logistic-regression\n",
      "  n_iter_i = _check_optimize_result(\n"
     ]
    },
    {
     "name": "stdout",
     "output_type": "stream",
     "text": [
      "Training Accuracy: 0.93\n",
      "Testing Accuracy: 0.83\n",
      "Classification Report (Training Data):\n",
      "              precision    recall  f1-score   support\n",
      "\n",
      "     sadness       0.94      0.98      0.96      3232\n",
      "         joy       0.89      0.98      0.94      3781\n",
      "        love       0.97      0.74      0.84       870\n",
      "       anger       0.96      0.90      0.93      1552\n",
      "        fear       0.95      0.89      0.92      1371\n",
      "    surprise       0.96      0.62      0.75       394\n",
      "\n",
      "    accuracy                           0.93     11200\n",
      "   macro avg       0.95      0.85      0.89     11200\n",
      "weighted avg       0.93      0.93      0.93     11200\n",
      "\n",
      "\n",
      "Confusion Matrix (Training Data):\n",
      "[[3169   42    0   15    5    1]\n",
      " [  30 3720   16    5    6    4]\n",
      " [  17  203  645    4    1    0]\n",
      " [  74   71    1 1397    9    0]\n",
      " [  61   60    0   23 1222    5]\n",
      " [  29   73    1    4   43  244]]\n",
      "\n",
      "Classification Report (Testing Data):\n",
      "              precision    recall  f1-score   support\n",
      "\n",
      "     sadness       0.87      0.93      0.90      1434\n",
      "         joy       0.77      0.97      0.86      1581\n",
      "        love       0.90      0.52      0.66       434\n",
      "       anger       0.88      0.74      0.81       607\n",
      "        fear       0.87      0.68      0.76       566\n",
      "    surprise       0.91      0.38      0.53       178\n",
      "\n",
      "    accuracy                           0.83      4800\n",
      "   macro avg       0.87      0.70      0.75      4800\n",
      "weighted avg       0.84      0.83      0.82      4800\n",
      "\n",
      "\n",
      "Confusion Matrix (Testing Data):\n",
      "[[1331   66    2   23   12    0]\n",
      " [  22 1534   17    5    3    0]\n",
      " [  25  172  226    8    3    0]\n",
      " [  68   75    1  452   11    0]\n",
      " [  57   90    3   24  385    7]\n",
      " [  27   53    1    1   29   67]]\n"
     ]
    },
    {
     "data": {
      "image/png": "[encoded data removed]",
      "text/plain": [
       "<Figure size 720x504 with 2 Axes>"
      ]
     },
     "metadata": {
      "needs_background": "light"
     },
     "output_type": "display_data"
    },
    {
     "data": {
      "image/png": "[encoded data removed]",
      "text/plain": [
       "<Figure size 720x504 with 2 Axes>"
      ]
     },
     "metadata": {
      "needs_background": "light"
     },
     "output_type": "display_data"
    }
   ],
   "source": [
    "# Loading the dataset\n",
    "data = pd.read_csv('Emotions_training.csv')\n",
    "\n",
    "# Spliting the data into features (X) and labels (y)\n",
    "X = data['text']\n",
    "y = data['label']\n",
    "\n",
    "# Spliting the data into train, test, and validation sets\n",
    "X_train, X_test, y_train, y_test = train_test_split(X, y, test_size=0.3, random_state=42)\n",
    "\n",
    "# Creating a TfidfVectorizer instance\n",
    "vectorizer = TfidfVectorizer()\n",
    "\n",
    "# Fit and transform the training data\n",
    "X_train_vectorized = vectorizer.fit_transform(X_train)\n",
    "\n",
    "# Transforming the testing data\n",
    "X_test_vectorized = vectorizer.transform(X_test)\n",
    "\n",
    "# Defining emotion mapping\n",
    "emotion_mapping = {0: 'sadness', 1: 'joy', 2: 'love', 3: 'anger', 4: 'fear', 5: 'surprise'}\n",
    "        \n",
    "# Creating a LogisticRegression instance\n",
    "lr_model = LogisticRegression()\n",
    "\n",
    "# Training the model\n",
    "lr_model.fit(X_train_vectorized, y_train)\n",
    "\n",
    "# Making predictions on the training data\n",
    "y_train_pred = lr_model.predict(X_train_vectorized)\n",
    "\n",
    "# Making predictions on the testing data\n",
    "y_test_pred = lr_model.predict(X_test_vectorized)\n",
    "\n",
    "\n",
    "\n",
    "\n",
    "\n",
    "# Calculating training accuracy\n",
    "train_accuracy = accuracy_score(y_train, y_train_pred)\n",
    "print(f\"Training Accuracy: {train_accuracy:.2f}\")\n",
    "\n",
    "# Calculating testing accuracy\n",
    "test_accuracy = accuracy_score(y_test, y_test_pred)\n",
    "print(f\"Testing Accuracy: {test_accuracy:.2f}\")\n",
    "\n",
    "\n",
    "\n",
    "\n",
    "# Generating classification report for training data\n",
    "print(\"Classification Report (Training Data):\")\n",
    "print(classification_report(y_train, y_train_pred, target_names=list(emotion_mapping.values())))\n",
    "\n",
    "# Generating confusion matrix for training data\n",
    "print(\"\\nConfusion Matrix (Training Data):\")\n",
    "print(confusion_matrix(y_train, y_train_pred))\n",
    "\n",
    "# Generating classification report for testing data\n",
    "print(\"\\nClassification Report (Testing Data):\")\n",
    "print(classification_report(y_test, y_test_pred, target_names=list(emotion_mapping.values())))\n",
    "\n",
    "# Generating confusion matrix for testing data\n",
    "print(\"\\nConfusion Matrix (Testing Data):\")\n",
    "print(confusion_matrix(y_test, y_test_pred))\n",
    "\n",
    "\n",
    "\n",
    "\n",
    "\n",
    "\n",
    "#Generating Confusion Matrix for both traning and testing dataset using \"HeatMap\" function.\n",
    "\n",
    "# Function to plot confusion matrix as a heatmap\n",
    "def plot_confusion_matrix(y_true, y_pred, class_names, title):\n",
    "    cm = confusion_matrix(y_true, y_pred)\n",
    "    df_cm = pd.DataFrame(cm, index=class_names, columns=class_names)\n",
    "    plt.figure(figsize=(10, 7))\n",
    "    sns.heatmap(df_cm, annot=True, fmt='d', cmap='Blues')\n",
    "    plt.title(title)\n",
    "    plt.xlabel(\"Predicted Label\")\n",
    "    plt.ylabel(\"True Label\")\n",
    "    plt.show()\n",
    "\n",
    "# Plot confusion matrix for training data as a heatmap\n",
    "plot_confusion_matrix(y_train, y_train_pred, list(emotion_mapping.values()), \"Confusion Matrix (Training Data)\")\n",
    "\n",
    "# Plot confusion matrix for testing data as a heatmap\n",
    "plot_confusion_matrix(y_test, y_test_pred, list(emotion_mapping.values()), \"Confusion Matrix (Testing Data)\")"
   ]
  },
  {
   "cell_type": "markdown",
   "id": "bc30696e",
   "metadata": {},
   "source": [
    "# Performing HyperParameter Tuning on Logistic Regression Model Using GridSearchCV"
   ]
  },
  {
   "cell_type": "code",
   "execution_count": 4,
   "id": "1613dda6",
   "metadata": {
    "collapsed": true
   },
   "outputs": [
    {
     "name": "stderr",
     "output_type": "stream",
     "text": [
      "C:\\Users\\Prashant\\anaconda3\\lib\\site-packages\\sklearn\\linear_model\\_sag.py:352: ConvergenceWarning: The max_iter was reached which means the coef_ did not converge\n",
      "  warnings.warn(\n",
      "C:\\Users\\Prashant\\anaconda3\\lib\\site-packages\\sklearn\\linear_model\\_sag.py:352: ConvergenceWarning: The max_iter was reached which means the coef_ did not converge\n",
      "  warnings.warn(\n",
      "C:\\Users\\Prashant\\anaconda3\\lib\\site-packages\\sklearn\\linear_model\\_sag.py:352: ConvergenceWarning: The max_iter was reached which means the coef_ did not converge\n",
      "  warnings.warn(\n",
      "C:\\Users\\Prashant\\anaconda3\\lib\\site-packages\\sklearn\\linear_model\\_sag.py:352: ConvergenceWarning: The max_iter was reached which means the coef_ did not converge\n",
      "  warnings.warn(\n",
      "C:\\Users\\Prashant\\anaconda3\\lib\\site-packages\\sklearn\\linear_model\\_sag.py:352: ConvergenceWarning: The max_iter was reached which means the coef_ did not converge\n",
      "  warnings.warn(\n",
      "C:\\Users\\Prashant\\anaconda3\\lib\\site-packages\\sklearn\\linear_model\\_sag.py:352: ConvergenceWarning: The max_iter was reached which means the coef_ did not converge\n",
      "  warnings.warn(\n",
      "C:\\Users\\Prashant\\anaconda3\\lib\\site-packages\\sklearn\\linear_model\\_sag.py:352: ConvergenceWarning: The max_iter was reached which means the coef_ did not converge\n",
      "  warnings.warn(\n",
      "C:\\Users\\Prashant\\anaconda3\\lib\\site-packages\\sklearn\\linear_model\\_sag.py:352: ConvergenceWarning: The max_iter was reached which means the coef_ did not converge\n",
      "  warnings.warn(\n",
      "C:\\Users\\Prashant\\anaconda3\\lib\\site-packages\\sklearn\\linear_model\\_sag.py:352: ConvergenceWarning: The max_iter was reached which means the coef_ did not converge\n",
      "  warnings.warn(\n",
      "C:\\Users\\Prashant\\anaconda3\\lib\\site-packages\\sklearn\\linear_model\\_sag.py:352: ConvergenceWarning: The max_iter was reached which means the coef_ did not converge\n",
      "  warnings.warn(\n",
      "C:\\Users\\Prashant\\anaconda3\\lib\\site-packages\\sklearn\\linear_model\\_sag.py:352: ConvergenceWarning: The max_iter was reached which means the coef_ did not converge\n",
      "  warnings.warn(\n"
     ]
    },
    {
     "name": "stdout",
     "output_type": "stream",
     "text": [
      "Best Hyperparameters: {'C': 10.0, 'penalty': 'l1', 'solver': 'saga'}\n"
     ]
    },
    {
     "name": "stderr",
     "output_type": "stream",
     "text": [
      "C:\\Users\\Prashant\\anaconda3\\lib\\site-packages\\sklearn\\linear_model\\_sag.py:352: ConvergenceWarning: The max_iter was reached which means the coef_ did not converge\n",
      "  warnings.warn(\n"
     ]
    },
    {
     "name": "stdout",
     "output_type": "stream",
     "text": [
      "\n",
      "Classification Report (Training Data):\n",
      "              precision    recall  f1-score   support\n",
      "\n",
      "     sadness       1.00      1.00      1.00      3232\n",
      "         joy       1.00      1.00      1.00      3781\n",
      "        love       0.99      0.99      0.99       870\n",
      "       anger       1.00      1.00      1.00      1552\n",
      "        fear       0.99      1.00      0.99      1371\n",
      "    surprise       0.99      0.98      0.99       394\n",
      "\n",
      "    accuracy                           1.00     11200\n",
      "   macro avg       0.99      0.99      0.99     11200\n",
      "weighted avg       1.00      1.00      1.00     11200\n",
      "\n",
      "\n",
      "Confusion Matrix (Training Data):\n",
      "[[3226    1    0    4    1    0]\n",
      " [   1 3769    8    0    2    1]\n",
      " [   0    7  863    0    0    0]\n",
      " [   3    0    0 1548    1    0]\n",
      " [   2    0    0    1 1365    3]\n",
      " [   0    1    0    0    5  388]]\n",
      "\n",
      "Classification Report (Testing Data):\n",
      "              precision    recall  f1-score   support\n",
      "\n",
      "     sadness       0.94      0.93      0.94      1434\n",
      "         joy       0.89      0.94      0.91      1581\n",
      "        love       0.82      0.76      0.79       434\n",
      "       anger       0.88      0.89      0.88       607\n",
      "        fear       0.86      0.83      0.85       566\n",
      "    surprise       0.84      0.73      0.78       178\n",
      "\n",
      "    accuracy                           0.89      4800\n",
      "   macro avg       0.87      0.85      0.86      4800\n",
      "weighted avg       0.89      0.89      0.89      4800\n",
      "\n",
      "\n",
      "Confusion Matrix (Testing Data):\n",
      "[[1338   29    8   37   18    4]\n",
      " [  25 1480   58    7    5    6]\n",
      " [   2   92  332    5    3    0]\n",
      " [  30   17    4  541   15    0]\n",
      " [  24   30    3   26  469   14]\n",
      " [   5    8    1    1   33  130]]\n"
     ]
    },
    {
     "data": {
      "image/png": "[encoded data removed]",
      "text/plain": [
       "<Figure size 720x504 with 2 Axes>"
      ]
     },
     "metadata": {
      "needs_background": "light"
     },
     "output_type": "display_data"
    },
    {
     "data": {
      "image/png": "[encoded data removed]",
      "text/plain": [
       "<Figure size 720x504 with 2 Axes>"
      ]
     },
     "metadata": {
      "needs_background": "light"
     },
     "output_type": "display_data"
    }
   ],
   "source": [
    "# Loading the dataset\n",
    "data = pd.read_csv('Emotions_training.csv')\n",
    "\n",
    "# Splitting the data into features (X) and labels (y)\n",
    "X = data['text']\n",
    "y = data['label']\n",
    "\n",
    "# Splitting the data into train, test, and validation sets\n",
    "X_train, X_test, y_train, y_test = train_test_split(X, y, test_size=0.3, random_state=42)\n",
    "\n",
    "# Creating a TfidfVectorizer instance\n",
    "vectorizer = TfidfVectorizer()\n",
    "\n",
    "# Fit and transform the training data\n",
    "X_train_vectorized = vectorizer.fit_transform(X_train)\n",
    "\n",
    "# Transforming the testing data\n",
    "X_test_vectorized = vectorizer.transform(X_test)\n",
    "\n",
    "# Defining emotion mapping\n",
    "emotion_mapping = {0: 'sadness', 1: 'joy', 2: 'love', 3: 'anger', 4: 'fear', 5: 'surprise'}\n",
    "\n",
    "# Creating a LogisticRegression instance\n",
    "lr_model = LogisticRegression()\n",
    "\n",
    "# Hyperparameter tuning using GridSearchCV\n",
    "param_grid = {\n",
    "    'penalty': ['l1', 'l2'],  # Penalty type (L1 or L2 regularization)\n",
    "    'C': [0.1, 1.0, 10.0],  # Inverse of regularization strength\n",
    "    'solver': ['liblinear', 'saga']  # Algorithm to use in the optimization problem\n",
    "}\n",
    "\n",
    "grid_search = GridSearchCV(lr_model, param_grid, cv=5, scoring='accuracy')\n",
    "grid_search.fit(X_train_vectorized, y_train)\n",
    "\n",
    "# Print the best hyperparameters\n",
    "print(\"Best Hyperparameters:\", grid_search.best_params_)\n",
    "\n",
    "# Getting  the best model(The best_model is an instance of the LogisticRegression model with the optimal hyperparameters found by the grid search.)\n",
    "best_model = grid_search.best_estimator_\n",
    "\n",
    "# Training the best model\n",
    "best_model.fit(X_train_vectorized, y_train)\n",
    "\n",
    "# Making predictions on the training data\n",
    "y_train_pred = best_model.predict(X_train_vectorized)\n",
    "\n",
    "# Making predictions on the testing data\n",
    "y_test_pred = best_model.predict(X_test_vectorized)\n",
    "\n",
    "# Generating classification report for training data\n",
    "print(\"\\nClassification Report (Training Data):\")\n",
    "print(classification_report(y_train, y_train_pred, target_names=list(emotion_mapping.values())))\n",
    "\n",
    "# Generating confusion matrix for training data\n",
    "print(\"\\nConfusion Matrix (Training Data):\")\n",
    "print(confusion_matrix(y_train, y_train_pred))\n",
    "\n",
    "# Generating classification report for testing data\n",
    "print(\"\\nClassification Report (Testing Data):\")\n",
    "print(classification_report(y_test, y_test_pred, target_names=list(emotion_mapping.values())))\n",
    "\n",
    "# Generating confusion matrix for testing data\n",
    "print(\"\\nConfusion Matrix (Testing Data):\")\n",
    "print(confusion_matrix(y_test, y_test_pred))\n",
    "\n",
    "\n",
    "#Generating Confusion Matrix for both traning and testing dataset using \"HeatMap\" function.\n",
    "\n",
    "# Function to plot confusion matrix as a heatmap\n",
    "def plot_confusion_matrix(y_true, y_pred, class_names, title):\n",
    "    cm = confusion_matrix(y_true, y_pred)\n",
    "    df_cm = pd.DataFrame(cm, index=class_names, columns=class_names)\n",
    "    plt.figure(figsize=(10, 7))\n",
    "    sns.heatmap(df_cm, annot=True, fmt='d', cmap='Blues')\n",
    "    plt.title(title)\n",
    "    plt.xlabel(\"Predicted Label\")\n",
    "    plt.ylabel(\"True Label\")\n",
    "    plt.show()\n",
    "\n",
    "# Plot confusion matrix for training data as a heatmap\n",
    "plot_confusion_matrix(y_train, y_train_pred, list(emotion_mapping.values()), \"Confusion Matrix (Training Data)\")\n",
    "\n",
    "# Plot confusion matrix for testing data as a heatmap\n",
    "plot_confusion_matrix(y_test, y_test_pred, list(emotion_mapping.values()), \"Confusion Matrix (Testing Data)\")\n",
    "\n",
    "\n",
    "# 1.Here we use GridSearchCV to perform a grid search over the specified hyperparameters: 'penalty', 'C', and 'solver'. \n",
    "# 2.The GridSearchCV object is created with the LogisticRegression model and the parameter grid param_grid. \n",
    "# 3.We use 5-fold cross-validation (cv=5) and set the scoring metric to 'accuracy'.\n",
    "# 4.After fitting the GridSearchCV object to the training data, we print the best hyperparameters found by the grid search (grid_search.best_params_). \n",
    "# 5.We then get the best model instance (best_model = grid_search.best_estimator_) and fit it to the training data.\n",
    "# 6.Next, we make predictions on both the training and test data using the best model. \n",
    "# 7.Finally, we generate the classification report and confusion matrix for both the training and test datasets using the classification_report and confusion_matrix functions from sklearn.metrics.\n",
    "# 8.The output include's the best hyperparameters found by the grid search, followed by the classification report and confusion matrix for both the training and test datasets.\n",
    "\n",
    "\n",
    "# Resuts:-\n",
    "# The best hyperparameters found by the grid search are:\n",
    "\n",
    "#  'penalty': 'l1' (L1 regularization)\n",
    "#  'C': 10.0 (Inverse of regularization strength)\n",
    "#  'solver':'saga' (Algorithm to use for optimization)\n",
    "\n"
   ]
  },
  {
   "cell_type": "code",
   "execution_count": null,
   "id": "0c47cb2d",
   "metadata": {},
   "outputs": [],
   "source": []
  }
 ],
 "metadata": {
  "kernelspec": {
   "display_name": "Python 3 (ipykernel)",
   "language": "python",
   "name": "python3"
  },
  "language_info": {
   "codemirror_mode": {
    "name": "ipython",
    "version": 3
   },
   "file_extension": ".py",
   "mimetype": "text/x-python",
   "name": "python",
   "nbconvert_exporter": "python",
   "pygments_lexer": "ipython3",
   "version": "3.9.12"
  }
 },
 "nbformat": 4,
 "nbformat_minor": 5
}
