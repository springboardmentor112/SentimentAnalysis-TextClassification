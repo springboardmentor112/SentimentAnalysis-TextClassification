{
 "cells": [
  {
   "cell_type": "markdown",
   "id": "bae60a4b-beec-478d-a29a-da63515d4117",
   "metadata": {},
   "source": [
    "### Import Libraries"
   ]
  },
  {
   "cell_type": "code",
   "execution_count": 1,
   "id": "56e8de6d-a8f6-44b6-8a5a-5eefe9e1d288",
   "metadata": {},
   "outputs": [],
   "source": [
    "import pandas as pd\n",
    "import re\n",
    "import nltk\n",
    "from nltk.corpus import stopwords\n",
    "from nltk.stem import PorterStemmer\n",
    "from gensim.parsing.preprocessing import remove_stopwords\n",
    "from nltk.stem import WordNetLemmatizer\n",
    "from nltk.tokenize import word_tokenize\n",
    "import spacy\n",
    "import matplotlib.pyplot as plt\n",
    "import seaborn as sns\n",
    "from sklearn.model_selection import train_test_split \n",
    "from imblearn.over_sampling import SMOTE\n",
    "from collections import Counter\n",
    "from sklearn.pipeline import Pipeline\n",
    "from sklearn.feature_extraction.text import TfidfVectorizer\n",
    "from sklearn.linear_model import LogisticRegression\n",
    "from sklearn.svm import SVC\n",
    "from sklearn.naive_bayes import MultinomialNB\n",
    "from sklearn.ensemble import RandomForestClassifier\n",
    "from xgboost import XGBClassifier\n",
    "from sklearn.metrics import accuracy_score, classification_report, confusion_matrix\n",
    "from sklearn.model_selection import GridSearchCV\n",
    "from sklearn.datasets import make_classification"
   ]
  },
  {
   "cell_type": "markdown",
   "id": "8f66899c-12bf-4a98-ad53-a7df58135d8e",
   "metadata": {},
   "source": [
    "### Data Collection & Preprocessing"
   ]
  },
  {
   "cell_type": "code",
   "execution_count": 2,
   "id": "262d41b6-f077-4394-9c7e-564ed634798c",
   "metadata": {},
   "outputs": [],
   "source": [
    "data=pd.read_csv('Emotions_training.csv')"
   ]
  },
  {
   "cell_type": "code",
   "execution_count": 3,
   "id": "18d75a0b-5814-48e8-a732-854d5dc01e6d",
   "metadata": {},
   "outputs": [
    {
     "data": {
      "text/plain": [
       "text     0\n",
       "label    0\n",
       "dtype: int64"
      ]
     },
     "execution_count": 3,
     "metadata": {},
     "output_type": "execute_result"
    }
   ],
   "source": [
    "data.isnull().sum()"
   ]
  },
  {
   "cell_type": "markdown",
   "id": "01600504-8f19-40fb-a2fd-13f39178e183",
   "metadata": {},
   "source": [
    "#### Lower Case"
   ]
  },
  {
   "cell_type": "code",
   "execution_count": 4,
   "id": "7f26a497-80ae-430e-96d7-defb96a00ed5",
   "metadata": {},
   "outputs": [],
   "source": [
    "data[\"text\"] = data[\"text\"].str.lower()"
   ]
  },
  {
   "cell_type": "markdown",
   "id": "524b2861-9ea6-4984-89b2-dd8aa3f2f5cc",
   "metadata": {},
   "source": [
    "#### Removing links"
   ]
  },
  {
   "cell_type": "code",
   "execution_count": 5,
   "id": "3db7d70d-0b78-447e-8b6a-d9cdb058d768",
   "metadata": {},
   "outputs": [],
   "source": [
    "data['text'] = data['text'].fillna('')"
   ]
  },
  {
   "cell_type": "code",
   "execution_count": 6,
   "id": "863b88da-3475-474b-a868-dbb8ebf257d3",
   "metadata": {},
   "outputs": [],
   "source": [
    "no_url=[]\n",
    "# Iterate through each sentence in the \"text\" column of the data\n",
    "for sentence in data[\"text\"]:\n",
    "    # Use regular expression to substitute URLs with an empty string, effectively removing them\n",
    "    no_url.append(re.sub(r\"http\\S+\", \"\", sentence))\n",
    "\n",
    "# Replace the \"text\" column in the data with the list of sentences without URLs\n",
    "data[\"text\"]=no_url"
   ]
  },
  {
   "cell_type": "markdown",
   "id": "42089499-4b10-4e54-a224-074b25da4558",
   "metadata": {},
   "source": [
    "#### Remove next lines"
   ]
  },
  {
   "cell_type": "code",
   "execution_count": 7,
   "id": "efe2fa6e-694e-4af9-8a06-f982ff99f35f",
   "metadata": {},
   "outputs": [],
   "source": [
    "data['text'] = data['text'].str.replace('\\n', '')"
   ]
  },
  {
   "cell_type": "markdown",
   "id": "18b415a1-2325-4f40-afd7-08c9588623dd",
   "metadata": {},
   "source": [
    "#### Removing words containing numbers"
   ]
  },
  {
   "cell_type": "code",
   "execution_count": 8,
   "id": "25690b89-f96d-4ab1-a725-89b6798dc283",
   "metadata": {},
   "outputs": [],
   "source": [
    "pattern = r'\\b\\w*\\d\\w*\\b'\n",
    "def remove_words_with_numbers(text):\n",
    "    return re.sub(pattern, '', text)\n",
    "data['text'] = data['text'].apply(remove_words_with_numbers)"
   ]
  },
  {
   "cell_type": "markdown",
   "id": "50f18370-0e1e-4ee1-91a8-8bef857ac272",
   "metadata": {},
   "source": [
    "#### Removing extra spaces"
   ]
  },
  {
   "cell_type": "code",
   "execution_count": 9,
   "id": "2119a4eb-bf8c-4faa-a999-5f2343f3959c",
   "metadata": {},
   "outputs": [],
   "source": [
    "data['text'] = data['text'].apply(lambda x: ' '.join(x.split()))"
   ]
  },
  {
   "cell_type": "markdown",
   "id": "b04bbe12-05c5-4ff3-8cee-beb4f785de83",
   "metadata": {},
   "source": [
    "#### Removing special characters"
   ]
  },
  {
   "cell_type": "code",
   "execution_count": 10,
   "id": "7e9b5243-3262-4d94-8ba0-cd75c5564dc3",
   "metadata": {},
   "outputs": [],
   "source": [
    "no_special_char=[]\n",
    "for sentence in data.text:\n",
    "    no_special_char.append(re.sub('[^A-Za-z0-9]+', ' ', sentence))\n",
    "data[\"text\"]=no_special_char"
   ]
  },
  {
   "cell_type": "markdown",
   "id": "67f6a4db-43d8-4777-a429-c94a584b945c",
   "metadata": {},
   "source": [
    "#### Removing HTML tags"
   ]
  },
  {
   "cell_type": "code",
   "execution_count": 11,
   "id": "2d752029-0da5-49ae-9e2d-ece90a71e499",
   "metadata": {},
   "outputs": [],
   "source": [
    "def remove_html_tags(text):\n",
    "    pattern=re.compile('<.*?>')\n",
    "    return pattern.sub(r' ',text)\n",
    "data['text']=data['text'].apply(remove_html_tags)"
   ]
  },
  {
   "cell_type": "markdown",
   "id": "9e67b962-cea4-4c55-a998-03eb77f40665",
   "metadata": {},
   "source": [
    "#### Removal of stop words"
   ]
  },
  {
   "cell_type": "code",
   "execution_count": 12,
   "id": "576b59ac-dac5-46f8-b9d1-2eb89540990c",
   "metadata": {},
   "outputs": [],
   "source": [
    "stop_words = set(stopwords.words('english'))"
   ]
  },
  {
   "cell_type": "code",
   "execution_count": 13,
   "id": "d5d67a7a-5e5a-463f-a836-213708498862",
   "metadata": {},
   "outputs": [],
   "source": [
    "def remove_stopwords(text):\n",
    "    # Split the text into words and iterate through each word\n",
    "    # Only keep the word if it's not in the list of stopwords\n",
    "    # Join the remaining words back together into a single string\n",
    "    filtered_text = ' '.join([word for word in text.split() if word.lower() not in stop_words])\n",
    "    return filtered_text"
   ]
  },
  {
   "cell_type": "code",
   "execution_count": 14,
   "id": "2a685353-cde5-4de9-8ce3-a7b1c6576041",
   "metadata": {},
   "outputs": [],
   "source": [
    "data['text'] = data['text'].apply(remove_stopwords)"
   ]
  },
  {
   "cell_type": "code",
   "execution_count": 15,
   "id": "b6da6dde-1042-4a9f-ab43-ba39538c3af0",
   "metadata": {},
   "outputs": [
    {
     "data": {
      "text/plain": [
       "0                                didnt feel humiliated\n",
       "1    go feeling hopeless damned hopeful around some...\n",
       "2            im grabbing minute post feel greedy wrong\n",
       "3    ever feeling nostalgic fireplace know still pr...\n",
       "4                                      feeling grouchy\n",
       "Name: text, dtype: object"
      ]
     },
     "execution_count": 15,
     "metadata": {},
     "output_type": "execute_result"
    }
   ],
   "source": [
    "data['text'].head()"
   ]
  },
  {
   "cell_type": "markdown",
   "id": "e29ebdd3-f948-48ec-bfdd-81cd54bb13ed",
   "metadata": {},
   "source": [
    "#### Stemming"
   ]
  },
  {
   "cell_type": "code",
   "execution_count": 16,
   "id": "92ce541b-c5cf-4a18-a691-1c5b5ecee7ad",
   "metadata": {},
   "outputs": [],
   "source": [
    "stemmer = PorterStemmer()"
   ]
  },
  {
   "cell_type": "code",
   "execution_count": 17,
   "id": "82c5a515-35a1-444d-b75e-ea56df57ad38",
   "metadata": {},
   "outputs": [],
   "source": [
    "def stem_text(text):\n",
    "     # Split the text into words and iterate through each word\n",
    "    # Apply stemming to each word using the stemmer object\n",
    "    # Join the stemmed words back together into a single string\n",
    "    return \" \".join([stemmer.stem(word) for word in text.split()])"
   ]
  },
  {
   "cell_type": "code",
   "execution_count": 18,
   "id": "5d90f4fb-3ade-4d4f-a319-c9ebdfd5c046",
   "metadata": {},
   "outputs": [],
   "source": [
    "data['text'] = data['text'].apply(stem_text)"
   ]
  },
  {
   "cell_type": "markdown",
   "id": "27006e82-7577-4ed5-a663-503e863a1023",
   "metadata": {},
   "source": [
    "#### Lemmatization"
   ]
  },
  {
   "cell_type": "code",
   "execution_count": 19,
   "id": "a94102b4-f3e4-40b2-a0be-ab05023d85ad",
   "metadata": {},
   "outputs": [],
   "source": [
    "def lemmatize_text(text):\n",
    "    wnl = WordNetLemmatizer()\n",
    "    # Split the text into words and iterate through each word\n",
    "    # Apply lemmatization to each word using the lemmatize() method of the WordNetLemmatizer object\n",
    "    # Join the lemmatized words back together into a single string\n",
    "    return \" \".join([wnl.lemmatize(word) for word in text.split()])"
   ]
  },
  {
   "cell_type": "code",
   "execution_count": 20,
   "id": "92198e68-1da7-4eab-8ce1-c883c78e45d0",
   "metadata": {},
   "outputs": [],
   "source": [
    "data['text'] = data['text'].apply(lemmatize_text)"
   ]
  },
  {
   "cell_type": "code",
   "execution_count": 21,
   "id": "9bbad684-ba1c-47a3-973a-abba1f81da7a",
   "metadata": {},
   "outputs": [
    {
     "data": {
      "text/plain": [
       "0                                    didnt feel humili\n",
       "1    go feel hopeless damn hope around someon care ...\n",
       "2                 im grab minut post feel greedi wrong\n",
       "3       ever feel nostalg fireplac know still properti\n",
       "4                                         feel grouchi\n",
       "Name: text, dtype: object"
      ]
     },
     "execution_count": 21,
     "metadata": {},
     "output_type": "execute_result"
    }
   ],
   "source": [
    "data['text'].head()"
   ]
  },
  {
   "cell_type": "code",
   "execution_count": 22,
   "id": "c0732231-6fae-47c0-9e79-684e525b2f3d",
   "metadata": {},
   "outputs": [
    {
     "data": {
      "text/plain": [
       "label\n",
       "1    5362\n",
       "0    4666\n",
       "3    2159\n",
       "4    1937\n",
       "2    1304\n",
       "5     572\n",
       "Name: count, dtype: int64"
      ]
     },
     "execution_count": 22,
     "metadata": {},
     "output_type": "execute_result"
    }
   ],
   "source": [
    "#Class Distribution\n",
    "data['label'].value_counts()"
   ]
  },
  {
   "cell_type": "code",
   "execution_count": 23,
   "id": "cd69dafa-70df-4793-b7f0-26f7564ab5c1",
   "metadata": {},
   "outputs": [
    {
     "data": {
      "text/plain": [
       "<Axes: xlabel='label', ylabel='count'>"
      ]
     },
     "execution_count": 23,
     "metadata": {},
     "output_type": "execute_result"
    },
    {
     "data": {
      "image/png": "[encoded data removed]",
      "text/plain": [
       "<Figure size 640x480 with 1 Axes>"
      ]
     },
     "metadata": {},
     "output_type": "display_data"
    }
   ],
   "source": [
    "sns.countplot(x='label',data=data)"
   ]
  },
  {
   "cell_type": "code",
   "execution_count": 24,
   "id": "cbd2ea89-4abf-4744-870b-352157d79499",
   "metadata": {},
   "outputs": [],
   "source": [
    "class_names = {0:'Sadness', 1:'Joy', 2:'Love', 3:'Anger', 4:'Fear', 5:'Surprise'}"
   ]
  },
  {
   "cell_type": "code",
   "execution_count": 25,
   "id": "062e6487-f4f5-4cca-b990-97bcecb0b20a",
   "metadata": {},
   "outputs": [],
   "source": [
    "X=data['text']\n",
    "y=data['label']"
   ]
  },
  {
   "cell_type": "markdown",
   "id": "8f63bfac-05ff-476c-9181-1638a7926efc",
   "metadata": {},
   "source": [
    "### Vectorization"
   ]
  },
  {
   "cell_type": "code",
   "execution_count": 26,
   "id": "fd28355b-93ff-4aae-8855-804d5d9e63cf",
   "metadata": {},
   "outputs": [],
   "source": [
    "# Initialize the TF-IDF vectorizer\n",
    "vectorizer = TfidfVectorizer()\n",
    "# Convert the raw text data (X) into TF-IDF vectors\n",
    "X_vec = vectorizer.fit_transform(X)"
   ]
  },
  {
   "cell_type": "markdown",
   "id": "9507a7f3-5319-4f62-8395-740b4db930f9",
   "metadata": {},
   "source": [
    "### SMOTE Algorithm"
   ]
  },
  {
   "cell_type": "code",
   "execution_count": 27,
   "id": "ca71e245-7bb5-4317-8c56-91eccbade2e5",
   "metadata": {},
   "outputs": [],
   "source": [
    "smote = SMOTE(random_state=42)\n",
    "X_resampled, y_resampled = smote.fit_resample(X_vec, y)"
   ]
  },
  {
   "cell_type": "code",
   "execution_count": 28,
   "id": "1107b762-9876-4ce1-b1cd-cc634ad89f9f",
   "metadata": {},
   "outputs": [],
   "source": [
    "class_counts = y_resampled.value_counts()"
   ]
  },
  {
   "cell_type": "code",
   "execution_count": 29,
   "id": "50902ce7-5132-4b67-9d1c-8d51220b0414",
   "metadata": {},
   "outputs": [
    {
     "data": {
      "image/png": "[encoded data removed]",
      "text/plain": [
       "<Figure size 600x400 with 1 Axes>"
      ]
     },
     "metadata": {},
     "output_type": "display_data"
    }
   ],
   "source": [
    "plt.figure(figsize=(6, 4))\n",
    "class_counts.plot(kind='bar', color='skyblue')\n",
    "plt.title('Class Distribution after SMOTE')\n",
    "plt.xlabel('Class')\n",
    "plt.ylabel('Count')\n",
    "plt.xticks(rotation=0)\n",
    "plt.show()"
   ]
  },
  {
   "cell_type": "code",
   "execution_count": 30,
   "id": "b3fef7e7-f77f-41b5-927f-6eaa4db97b61",
   "metadata": {},
   "outputs": [],
   "source": [
    "# List of algorithms or models\n",
    "algorithm = ['Random Forest', 'Logistic Regression', 'Naive Bayes', 'SVM', 'XGBoost']\n",
    "\n",
    "# Lists to store accuracy scores for different metrics\n",
    "before_train = []  # Accuracy scores before hyperparameter tuning on the training set\n",
    "before_test = []   # Accuracy scores before hyperparameter tuning on the testing set\n",
    "after_train = []   # Accuracy scores after hyperparameter tuning on the training set\n",
    "after_test = []    # Accuracy scores after hyperparameter tuning on the testing set\n",
    "val = []           # Validation accuracy scores\n",
    "param=[]           #Best parameter of hyperparameter tuning"
   ]
  },
  {
   "cell_type": "markdown",
   "id": "21c7ec46-4cd8-455b-8574-397f5d824341",
   "metadata": {},
   "source": [
    "### Split the data into test and train sets"
   ]
  },
  {
   "cell_type": "code",
   "execution_count": 31,
   "id": "217a4de6-8cfa-4218-a6a8-d8ff13f1f21f",
   "metadata": {},
   "outputs": [],
   "source": [
    "# Splitted data into 70-20-10 for training-testing-validation"
   ]
  },
  {
   "cell_type": "code",
   "execution_count": 32,
   "id": "a247e7e7-c6b2-471d-a056-f254002d8565",
   "metadata": {},
   "outputs": [],
   "source": [
    "X_train_temp, X_test, y_train_temp, y_test = train_test_split(X_resampled, y_resampled, test_size = 0.2, random_state = 42) "
   ]
  },
  {
   "cell_type": "code",
   "execution_count": 33,
   "id": "18e1557d-f019-46b5-bfb0-f4bdefadd6a0",
   "metadata": {},
   "outputs": [],
   "source": [
    "X_train,X_val,y_train,y_val=train_test_split(X_train_temp,y_train_temp,test_size=0.10,random_state=42)"
   ]
  },
  {
   "cell_type": "markdown",
   "id": "570649c5-5f75-40ce-8b52-dbd0ff0e2032",
   "metadata": {},
   "source": [
    "### Random Forest"
   ]
  },
  {
   "cell_type": "code",
   "execution_count": 34,
   "id": "a08840e7-4091-40b4-9c4e-3c7a0ee028b0",
   "metadata": {},
   "outputs": [
    {
     "data": {
      "text/html": [
       "<style>#sk-container-id-1 {color: black;background-color: white;}#sk-container-id-1 pre{padding: 0;}#sk-container-id-1 div.sk-toggleable {background-color: white;}#sk-container-id-1 label.sk-toggleable__label {cursor: pointer;display: block;width: 100%;margin-bottom: 0;padding: 0.3em;box-sizing: border-box;text-align: center;}#sk-container-id-1 label.sk-toggleable__label-arrow:before {content: \"▸\";float: left;margin-right: 0.25em;color: #696969;}#sk-container-id-1 label.sk-toggleable__label-arrow:hover:before {color: black;}#sk-container-id-1 div.sk-estimator:hover label.sk-toggleable__label-arrow:before {color: black;}#sk-container-id-1 div.sk-toggleable__content {max-height: 0;max-width: 0;overflow: hidden;text-align: left;background-color: #f0f8ff;}#sk-container-id-1 div.sk-toggleable__content pre {margin: 0.2em;color: black;border-radius: 0.25em;background-color: #f0f8ff;}#sk-container-id-1 input.sk-toggleable__control:checked~div.sk-toggleable__content {max-height: 200px;max-width: 100%;overflow: auto;}#sk-container-id-1 input.sk-toggleable__control:checked~label.sk-toggleable__label-arrow:before {content: \"▾\";}#sk-container-id-1 div.sk-estimator input.sk-toggleable__control:checked~label.sk-toggleable__label {background-color: #d4ebff;}#sk-container-id-1 div.sk-label input.sk-toggleable__control:checked~label.sk-toggleable__label {background-color: #d4ebff;}#sk-container-id-1 input.sk-hidden--visually {border: 0;clip: rect(1px 1px 1px 1px);clip: rect(1px, 1px, 1px, 1px);height: 1px;margin: -1px;overflow: hidden;padding: 0;position: absolute;width: 1px;}#sk-container-id-1 div.sk-estimator {font-family: monospace;background-color: #f0f8ff;border: 1px dotted black;border-radius: 0.25em;box-sizing: border-box;margin-bottom: 0.5em;}#sk-container-id-1 div.sk-estimator:hover {background-color: #d4ebff;}#sk-container-id-1 div.sk-parallel-item::after {content: \"\";width: 100%;border-bottom: 1px solid gray;flex-grow: 1;}#sk-container-id-1 div.sk-label:hover label.sk-toggleable__label {background-color: #d4ebff;}#sk-container-id-1 div.sk-serial::before {content: \"\";position: absolute;border-left: 1px solid gray;box-sizing: border-box;top: 0;bottom: 0;left: 50%;z-index: 0;}#sk-container-id-1 div.sk-serial {display: flex;flex-direction: column;align-items: center;background-color: white;padding-right: 0.2em;padding-left: 0.2em;position: relative;}#sk-container-id-1 div.sk-item {position: relative;z-index: 1;}#sk-container-id-1 div.sk-parallel {display: flex;align-items: stretch;justify-content: center;background-color: white;position: relative;}#sk-container-id-1 div.sk-item::before, #sk-container-id-1 div.sk-parallel-item::before {content: \"\";position: absolute;border-left: 1px solid gray;box-sizing: border-box;top: 0;bottom: 0;left: 50%;z-index: -1;}#sk-container-id-1 div.sk-parallel-item {display: flex;flex-direction: column;z-index: 1;position: relative;background-color: white;}#sk-container-id-1 div.sk-parallel-item:first-child::after {align-self: flex-end;width: 50%;}#sk-container-id-1 div.sk-parallel-item:last-child::after {align-self: flex-start;width: 50%;}#sk-container-id-1 div.sk-parallel-item:only-child::after {width: 0;}#sk-container-id-1 div.sk-dashed-wrapped {border: 1px dashed gray;margin: 0 0.4em 0.5em 0.4em;box-sizing: border-box;padding-bottom: 0.4em;background-color: white;}#sk-container-id-1 div.sk-label label {font-family: monospace;font-weight: bold;display: inline-block;line-height: 1.2em;}#sk-container-id-1 div.sk-label-container {text-align: center;}#sk-container-id-1 div.sk-container {/* jupyter's `normalize.less` sets `[hidden] { display: none; }` but bootstrap.min.css set `[hidden] { display: none !important; }` so we also need the `!important` here to be able to override the default hidden behavior on the sphinx rendered scikit-learn.org. See: https://github.com/scikit-learn/scikit-learn/issues/21755 */display: inline-block !important;position: relative;}#sk-container-id-1 div.sk-text-repr-fallback {display: none;}</style><div id=\"sk-container-id-1\" class=\"sk-top-container\"><div class=\"sk-text-repr-fallback\"><pre>RandomForestClassifier(random_state=42)</pre><b>In a Jupyter environment, please rerun this cell to show the HTML representation or trust the notebook. <br />On GitHub, the HTML representation is unable to render, please try loading this page with nbviewer.org.</b></div><div class=\"sk-container\" hidden><div class=\"sk-item\"><div class=\"sk-estimator sk-toggleable\"><input class=\"sk-toggleable__control sk-hidden--visually\" id=\"sk-estimator-id-1\" type=\"checkbox\" checked><label for=\"sk-estimator-id-1\" class=\"sk-toggleable__label sk-toggleable__label-arrow\">RandomForestClassifier</label><div class=\"sk-toggleable__content\"><pre>RandomForestClassifier(random_state=42)</pre></div></div></div></div></div>"
      ],
      "text/plain": [
       "RandomForestClassifier(random_state=42)"
      ]
     },
     "execution_count": 34,
     "metadata": {},
     "output_type": "execute_result"
    }
   ],
   "source": [
    "rf_classifier = RandomForestClassifier(random_state=42)\n",
    "rf_classifier.fit(X_train, y_train)"
   ]
  },
  {
   "cell_type": "code",
   "execution_count": 35,
   "id": "18d1a814-04e2-4ca6-9f65-f0099df73e07",
   "metadata": {},
   "outputs": [],
   "source": [
    "# Make predictions on the training data\n",
    "y_train_pred = rf_classifier.predict(X_train)\n",
    "# Make predictions on the testing data\n",
    "y_test_pred = rf_classifier.predict(X_test)"
   ]
  },
  {
   "cell_type": "code",
   "execution_count": 36,
   "id": "01f8d2c4-042d-4c3c-97e2-c85883c292bb",
   "metadata": {},
   "outputs": [],
   "source": [
    "# Calculate the accuracy score for the training predictions\n",
    "rf_train_acc = accuracy_score(y_train, y_train_pred)\n",
    "# Calculate the accuracy score for the testing predictions\n",
    "rf_test_acc = accuracy_score(y_test, y_test_pred)"
   ]
  },
  {
   "cell_type": "code",
   "execution_count": 37,
   "id": "deadae07-bf4e-41e3-a432-101ce6df0919",
   "metadata": {},
   "outputs": [
    {
     "name": "stdout",
     "output_type": "stream",
     "text": [
      "Training Accuracy: 0.9992660708889177\n",
      "Testing Accuracy: 0.9283605283605284\n"
     ]
    }
   ],
   "source": [
    "print(\"Training Accuracy:\", rf_train_acc)\n",
    "print(\"Testing Accuracy:\", rf_test_acc)"
   ]
  },
  {
   "cell_type": "code",
   "execution_count": 38,
   "id": "c23c10c2-dcb5-4f4b-958a-9c34e6c66752",
   "metadata": {},
   "outputs": [],
   "source": [
    "before_train.append(rf_train_acc)\n",
    "before_test.append(rf_test_acc)"
   ]
  },
  {
   "cell_type": "code",
   "execution_count": 39,
   "id": "4249ffd6-ccd3-4298-9df6-84700b951057",
   "metadata": {},
   "outputs": [
    {
     "name": "stdout",
     "output_type": "stream",
     "text": [
      "Confusion Matrix of Training Dataset\n",
      " [[3847    0    0    3    0    0]\n",
      " [   0 3867    8    0    0    1]\n",
      " [   0    1 3887    0    0    0]\n",
      " [   0    0    0 3884    1    0]\n",
      " [   1    0    0    0 3853    1]\n",
      " [   0    0    0    0    1 3808]]\n"
     ]
    }
   ],
   "source": [
    "cm = confusion_matrix(y_train,y_train_pred)\n",
    "print(\"Confusion Matrix of Training Dataset\\n\",cm)"
   ]
  },
  {
   "cell_type": "code",
   "execution_count": 40,
   "id": "baa59b09-d9ae-40dd-8c81-9bb9a0688662",
   "metadata": {},
   "outputs": [
    {
     "data": {
      "image/png": "[encoded data removed]",
      "text/plain": [
       "<Figure size 640x480 with 2 Axes>"
      ]
     },
     "metadata": {},
     "output_type": "display_data"
    }
   ],
   "source": [
    "sns.heatmap(cm, annot=True,fmt='g', xticklabels=class_names.values(),yticklabels=class_names.values())\n",
    "plt.xlabel('Prediction',fontsize=13)\n",
    "plt.ylabel('Actual',fontsize=13)\n",
    "plt.title('Confusion Matrix of Training Dataset',fontsize=12)\n",
    "plt.show()"
   ]
  },
  {
   "cell_type": "code",
   "execution_count": 41,
   "id": "50f9b528-4146-4a24-b4f1-97d3a6650e78",
   "metadata": {},
   "outputs": [
    {
     "name": "stdout",
     "output_type": "stream",
     "text": [
      "Confusion Matrix of Testing Dataset\n",
      " [[ 927   73   20   36   24    7]\n",
      " [  40  900   82   23   18   15]\n",
      " [   2   20 1036    0    0    1]\n",
      " [  14   18    1 1020    3    1]\n",
      " [   7    9    6   20 1021   18]\n",
      " [   0    0    0    0    3 1070]]\n"
     ]
    }
   ],
   "source": [
    "test_cm = confusion_matrix(y_test, y_test_pred)\n",
    "print(\"Confusion Matrix of Testing Dataset\\n\",test_cm)"
   ]
  },
  {
   "cell_type": "code",
   "execution_count": 42,
   "id": "240acd13-210d-4fbc-b5d6-b2c5cf3357f0",
   "metadata": {},
   "outputs": [
    {
     "data": {
      "image/png": "[encoded data removed]",
      "text/plain": [
       "<Figure size 640x480 with 2 Axes>"
      ]
     },
     "metadata": {},
     "output_type": "display_data"
    }
   ],
   "source": [
    "sns.heatmap(test_cm, annot=True,fmt='g', xticklabels=class_names.values(),yticklabels=class_names.values())\n",
    "plt.xlabel('Prediction',fontsize=13)\n",
    "plt.ylabel('Actual',fontsize=13)\n",
    "plt.title('Confusion Matrix of Testing Dataset',fontsize=12)\n",
    "plt.show()"
   ]
  },
  {
   "cell_type": "code",
   "execution_count": 43,
   "id": "10c915ea-c920-4137-8785-6126f01f2638",
   "metadata": {},
   "outputs": [
    {
     "name": "stdout",
     "output_type": "stream",
     "text": [
      "Classification Report on Training Data:\n",
      "               precision    recall  f1-score   support\n",
      "\n",
      "           0       1.00      1.00      1.00      3850\n",
      "           1       1.00      1.00      1.00      3876\n",
      "           2       1.00      1.00      1.00      3888\n",
      "           3       1.00      1.00      1.00      3885\n",
      "           4       1.00      1.00      1.00      3855\n",
      "           5       1.00      1.00      1.00      3809\n",
      "\n",
      "    accuracy                           1.00     23163\n",
      "   macro avg       1.00      1.00      1.00     23163\n",
      "weighted avg       1.00      1.00      1.00     23163\n",
      "\n"
     ]
    }
   ],
   "source": [
    "print(\"Classification Report on Training Data:\\n\",classification_report(y_train, y_train_pred))"
   ]
  },
  {
   "cell_type": "code",
   "execution_count": 44,
   "id": "ddf4a2c3-15fb-427f-b457-8714afe1b767",
   "metadata": {},
   "outputs": [
    {
     "name": "stdout",
     "output_type": "stream",
     "text": [
      "Classification Report on Testing Data:\n",
      "               precision    recall  f1-score   support\n",
      "\n",
      "           0       0.94      0.85      0.89      1087\n",
      "           1       0.88      0.83      0.86      1078\n",
      "           2       0.90      0.98      0.94      1059\n",
      "           3       0.93      0.96      0.95      1057\n",
      "           4       0.96      0.94      0.95      1081\n",
      "           5       0.96      1.00      0.98      1073\n",
      "\n",
      "    accuracy                           0.93      6435\n",
      "   macro avg       0.93      0.93      0.93      6435\n",
      "weighted avg       0.93      0.93      0.93      6435\n",
      "\n"
     ]
    }
   ],
   "source": [
    "print(\"Classification Report on Testing Data:\\n\", classification_report(y_test, y_test_pred))"
   ]
  },
  {
   "cell_type": "markdown",
   "id": "f94bfd32-ed75-496c-9439-ed167fe8b461",
   "metadata": {},
   "source": [
    "#### Hyeperparameter Tuning"
   ]
  },
  {
   "cell_type": "code",
   "execution_count": 45,
   "id": "04f0fadc-bc00-4664-925a-d0e5ec82d80e",
   "metadata": {},
   "outputs": [],
   "source": [
    "# Define a grid of hyperparameters to search over\n",
    "param_grid = {\n",
    "    'n_estimators': [50, 100],            # Number of trees in the forest\n",
    "    'max_depth': [5, 10],                  # Maximum depth of the trees\n",
    "    'min_samples_split': [2, 5],           # Minimum number of samples required to split a node\n",
    "    'min_samples_leaf': [1, 2]             # Minimum number of samples required to be at a leaf node\n",
    "}"
   ]
  },
  {
   "cell_type": "code",
   "execution_count": 46,
   "id": "ffa6cda7-c858-43c0-998d-571c9adbe9dd",
   "metadata": {},
   "outputs": [],
   "source": [
    "rfc = RandomForestClassifier()"
   ]
  },
  {
   "cell_type": "code",
   "execution_count": 47,
   "id": "64a5b348-b504-42d1-9eba-935f48ed3a24",
   "metadata": {},
   "outputs": [],
   "source": [
    "# Create a GridSearchCV object\n",
    "rf_grid = GridSearchCV(\n",
    "    estimator=rf_classifier,    # The model or estimator to use (Random Forest classifier)\n",
    "    param_grid=param_grid,      # The grid of hyperparameters to search over\n",
    "    cv=5,                       # Cross-validation strategy (5-fold cross-validation)\n",
    "    scoring='accuracy',         # Scoring metric to optimize (accuracy)\n",
    "    verbose=2,                  # Controls the verbosity of the output (more details)\n",
    "    n_jobs=-1                   # Number of jobs to run in parallel (-1 uses all available CPU cores)\n",
    ")"
   ]
  },
  {
   "cell_type": "code",
   "execution_count": 48,
   "id": "3892b75c-75e0-49de-9bba-b46e39c6c881",
   "metadata": {},
   "outputs": [
    {
     "name": "stdout",
     "output_type": "stream",
     "text": [
      "Fitting 5 folds for each of 16 candidates, totalling 80 fits\n"
     ]
    },
    {
     "data": {
      "text/html": [
       "<style>#sk-container-id-2 {color: black;background-color: white;}#sk-container-id-2 pre{padding: 0;}#sk-container-id-2 div.sk-toggleable {background-color: white;}#sk-container-id-2 label.sk-toggleable__label {cursor: pointer;display: block;width: 100%;margin-bottom: 0;padding: 0.3em;box-sizing: border-box;text-align: center;}#sk-container-id-2 label.sk-toggleable__label-arrow:before {content: \"▸\";float: left;margin-right: 0.25em;color: #696969;}#sk-container-id-2 label.sk-toggleable__label-arrow:hover:before {color: black;}#sk-container-id-2 div.sk-estimator:hover label.sk-toggleable__label-arrow:before {color: black;}#sk-container-id-2 div.sk-toggleable__content {max-height: 0;max-width: 0;overflow: hidden;text-align: left;background-color: #f0f8ff;}#sk-container-id-2 div.sk-toggleable__content pre {margin: 0.2em;color: black;border-radius: 0.25em;background-color: #f0f8ff;}#sk-container-id-2 input.sk-toggleable__control:checked~div.sk-toggleable__content {max-height: 200px;max-width: 100%;overflow: auto;}#sk-container-id-2 input.sk-toggleable__control:checked~label.sk-toggleable__label-arrow:before {content: \"▾\";}#sk-container-id-2 div.sk-estimator input.sk-toggleable__control:checked~label.sk-toggleable__label {background-color: #d4ebff;}#sk-container-id-2 div.sk-label input.sk-toggleable__control:checked~label.sk-toggleable__label {background-color: #d4ebff;}#sk-container-id-2 input.sk-hidden--visually {border: 0;clip: rect(1px 1px 1px 1px);clip: rect(1px, 1px, 1px, 1px);height: 1px;margin: -1px;overflow: hidden;padding: 0;position: absolute;width: 1px;}#sk-container-id-2 div.sk-estimator {font-family: monospace;background-color: #f0f8ff;border: 1px dotted black;border-radius: 0.25em;box-sizing: border-box;margin-bottom: 0.5em;}#sk-container-id-2 div.sk-estimator:hover {background-color: #d4ebff;}#sk-container-id-2 div.sk-parallel-item::after {content: \"\";width: 100%;border-bottom: 1px solid gray;flex-grow: 1;}#sk-container-id-2 div.sk-label:hover label.sk-toggleable__label {background-color: #d4ebff;}#sk-container-id-2 div.sk-serial::before {content: \"\";position: absolute;border-left: 1px solid gray;box-sizing: border-box;top: 0;bottom: 0;left: 50%;z-index: 0;}#sk-container-id-2 div.sk-serial {display: flex;flex-direction: column;align-items: center;background-color: white;padding-right: 0.2em;padding-left: 0.2em;position: relative;}#sk-container-id-2 div.sk-item {position: relative;z-index: 1;}#sk-container-id-2 div.sk-parallel {display: flex;align-items: stretch;justify-content: center;background-color: white;position: relative;}#sk-container-id-2 div.sk-item::before, #sk-container-id-2 div.sk-parallel-item::before {content: \"\";position: absolute;border-left: 1px solid gray;box-sizing: border-box;top: 0;bottom: 0;left: 50%;z-index: -1;}#sk-container-id-2 div.sk-parallel-item {display: flex;flex-direction: column;z-index: 1;position: relative;background-color: white;}#sk-container-id-2 div.sk-parallel-item:first-child::after {align-self: flex-end;width: 50%;}#sk-container-id-2 div.sk-parallel-item:last-child::after {align-self: flex-start;width: 50%;}#sk-container-id-2 div.sk-parallel-item:only-child::after {width: 0;}#sk-container-id-2 div.sk-dashed-wrapped {border: 1px dashed gray;margin: 0 0.4em 0.5em 0.4em;box-sizing: border-box;padding-bottom: 0.4em;background-color: white;}#sk-container-id-2 div.sk-label label {font-family: monospace;font-weight: bold;display: inline-block;line-height: 1.2em;}#sk-container-id-2 div.sk-label-container {text-align: center;}#sk-container-id-2 div.sk-container {/* jupyter's `normalize.less` sets `[hidden] { display: none; }` but bootstrap.min.css set `[hidden] { display: none !important; }` so we also need the `!important` here to be able to override the default hidden behavior on the sphinx rendered scikit-learn.org. See: https://github.com/scikit-learn/scikit-learn/issues/21755 */display: inline-block !important;position: relative;}#sk-container-id-2 div.sk-text-repr-fallback {display: none;}</style><div id=\"sk-container-id-2\" class=\"sk-top-container\"><div class=\"sk-text-repr-fallback\"><pre>GridSearchCV(cv=5, estimator=RandomForestClassifier(random_state=42), n_jobs=-1,\n",
       "             param_grid={&#x27;max_depth&#x27;: [5, 10], &#x27;min_samples_leaf&#x27;: [1, 2],\n",
       "                         &#x27;min_samples_split&#x27;: [2, 5],\n",
       "                         &#x27;n_estimators&#x27;: [50, 100]},\n",
       "             scoring=&#x27;accuracy&#x27;, verbose=2)</pre><b>In a Jupyter environment, please rerun this cell to show the HTML representation or trust the notebook. <br />On GitHub, the HTML representation is unable to render, please try loading this page with nbviewer.org.</b></div><div class=\"sk-container\" hidden><div class=\"sk-item sk-dashed-wrapped\"><div class=\"sk-label-container\"><div class=\"sk-label sk-toggleable\"><input class=\"sk-toggleable__control sk-hidden--visually\" id=\"sk-estimator-id-2\" type=\"checkbox\" ><label for=\"sk-estimator-id-2\" class=\"sk-toggleable__label sk-toggleable__label-arrow\">GridSearchCV</label><div class=\"sk-toggleable__content\"><pre>GridSearchCV(cv=5, estimator=RandomForestClassifier(random_state=42), n_jobs=-1,\n",
       "             param_grid={&#x27;max_depth&#x27;: [5, 10], &#x27;min_samples_leaf&#x27;: [1, 2],\n",
       "                         &#x27;min_samples_split&#x27;: [2, 5],\n",
       "                         &#x27;n_estimators&#x27;: [50, 100]},\n",
       "             scoring=&#x27;accuracy&#x27;, verbose=2)</pre></div></div></div><div class=\"sk-parallel\"><div class=\"sk-parallel-item\"><div class=\"sk-item\"><div class=\"sk-label-container\"><div class=\"sk-label sk-toggleable\"><input class=\"sk-toggleable__control sk-hidden--visually\" id=\"sk-estimator-id-3\" type=\"checkbox\" ><label for=\"sk-estimator-id-3\" class=\"sk-toggleable__label sk-toggleable__label-arrow\">estimator: RandomForestClassifier</label><div class=\"sk-toggleable__content\"><pre>RandomForestClassifier(random_state=42)</pre></div></div></div><div class=\"sk-serial\"><div class=\"sk-item\"><div class=\"sk-estimator sk-toggleable\"><input class=\"sk-toggleable__control sk-hidden--visually\" id=\"sk-estimator-id-4\" type=\"checkbox\" ><label for=\"sk-estimator-id-4\" class=\"sk-toggleable__label sk-toggleable__label-arrow\">RandomForestClassifier</label><div class=\"sk-toggleable__content\"><pre>RandomForestClassifier(random_state=42)</pre></div></div></div></div></div></div></div></div></div></div>"
      ],
      "text/plain": [
       "GridSearchCV(cv=5, estimator=RandomForestClassifier(random_state=42), n_jobs=-1,\n",
       "             param_grid={'max_depth': [5, 10], 'min_samples_leaf': [1, 2],\n",
       "                         'min_samples_split': [2, 5],\n",
       "                         'n_estimators': [50, 100]},\n",
       "             scoring='accuracy', verbose=2)"
      ]
     },
     "execution_count": 48,
     "metadata": {},
     "output_type": "execute_result"
    }
   ],
   "source": [
    "# Fit the GridSearchCV object to the training data\n",
    "rf_grid.fit(X_train, y_train)"
   ]
  },
  {
   "cell_type": "code",
   "execution_count": 49,
   "id": "a7108726-09fc-4878-bba3-7d316d56d996",
   "metadata": {},
   "outputs": [
    {
     "name": "stdout",
     "output_type": "stream",
     "text": [
      "Best Parameters: {'max_depth': 10, 'min_samples_leaf': 1, 'min_samples_split': 2, 'n_estimators': 100}\n"
     ]
    }
   ],
   "source": [
    "print(\"Best Parameters:\", rf_grid.best_params_)\n",
    "param.append(rf_grid.best_params_)"
   ]
  },
  {
   "cell_type": "code",
   "execution_count": 50,
   "id": "89f06894-6df2-4d4c-baaa-703375332291",
   "metadata": {},
   "outputs": [],
   "source": [
    "best_rf_classifier = rf_grid.best_estimator_"
   ]
  },
  {
   "cell_type": "code",
   "execution_count": 51,
   "id": "df79890a-ba66-4a2c-9152-9ba379bf5347",
   "metadata": {},
   "outputs": [],
   "source": [
    "# Make predictions on the training data using the best RandomForestClassifier\n",
    "y_train_pred = best_rf_classifier.predict(X_train)\n",
    "# Make predictions on the testing data using the best RandomForestClassifier\n",
    "y_test_pred = best_rf_classifier.predict(X_test)\n",
    "# Make predictions on the validation data using the best RandomForestClassifier\n",
    "y_val_pred = best_rf_classifier.predict(X_val)"
   ]
  },
  {
   "cell_type": "code",
   "execution_count": 52,
   "id": "018d66a3-664e-423c-871e-29c38b58cb6a",
   "metadata": {},
   "outputs": [],
   "source": [
    "# Calculate the accuracy score for the training predictions using the best RandomForestClassifier\n",
    "rf_train_hpt = accuracy_score(y_train, y_train_pred)\n",
    "# Calculate the accuracy score for the testing predictions using the best RandomForestClassifier\n",
    "rf_test_hpt = accuracy_score(y_test, y_test_pred)\n",
    "# Calculate the accuracy score for the validation predictions using the best RandomForestClassifier\n",
    "rf_val_hpt = accuracy_score(y_val, y_val_pred)"
   ]
  },
  {
   "cell_type": "code",
   "execution_count": 53,
   "id": "5bc5fc2f-e8aa-4f2c-b2ff-6336ff0ef40a",
   "metadata": {},
   "outputs": [
    {
     "name": "stdout",
     "output_type": "stream",
     "text": [
      "Training Accuracy with Best Estimator: 0.833009541078444\n",
      "Testing Accuracy with Best Estimator: 0.8108780108780109\n",
      "Validation Accuracy with Best Estimator: 0.8166278166278166\n"
     ]
    }
   ],
   "source": [
    "print(\"Training Accuracy with Best Estimator:\", rf_train_hpt)\n",
    "print(\"Testing Accuracy with Best Estimator:\", rf_test_hpt)\n",
    "print(\"Validation Accuracy with Best Estimator:\", rf_val_hpt)"
   ]
  },
  {
   "cell_type": "code",
   "execution_count": 54,
   "id": "ae92c07c-6116-481d-b8c4-ca68935cfa97",
   "metadata": {},
   "outputs": [],
   "source": [
    "after_train.append(rf_train_hpt)\n",
    "after_test.append(rf_test_hpt)\n",
    "val.append(rf_val_hpt)"
   ]
  },
  {
   "cell_type": "code",
   "execution_count": 55,
   "id": "f57c7a26-39db-440c-af14-bfd224c4d36a",
   "metadata": {},
   "outputs": [
    {
     "name": "stdout",
     "output_type": "stream",
     "text": [
      "Confusion Matrix of Training Dataset\n",
      " [[2626  695  191  166  101   71]\n",
      " [ 487 2761  416   61   62   89]\n",
      " [  24  135 3708    8    5    8]\n",
      " [ 103  218  105 3397   51   11]\n",
      " [  79  273   57   68 3064  314]\n",
      " [   8   43   16    0    3 3739]]\n"
     ]
    }
   ],
   "source": [
    "cm = confusion_matrix(y_train, y_train_pred)\n",
    "print(\"Confusion Matrix of Training Dataset\\n\",cm)"
   ]
  },
  {
   "cell_type": "code",
   "execution_count": 56,
   "id": "ca1d4e4b-8d68-47f9-8a7e-c88c2fe80e0c",
   "metadata": {},
   "outputs": [
    {
     "data": {
      "image/png": "[encoded data removed]",
      "text/plain": [
       "<Figure size 640x480 with 2 Axes>"
      ]
     },
     "metadata": {},
     "output_type": "display_data"
    }
   ],
   "source": [
    "sns.heatmap(cm, annot=True,fmt='g', xticklabels=class_names.values(),yticklabels=class_names.values())\n",
    "plt.xlabel('Prediction',fontsize=13)\n",
    "plt.ylabel('Actual',fontsize=13)\n",
    "plt.title('Confusion Matrix of Training Dataset',fontsize=12)\n",
    "plt.show()"
   ]
  },
  {
   "cell_type": "code",
   "execution_count": 57,
   "id": "be5a55a1-8e54-40d1-8080-97592e664b07",
   "metadata": {},
   "outputs": [
    {
     "name": "stdout",
     "output_type": "stream",
     "text": [
      "Confusion Matrix of Testing Dataset\n",
      " [[ 704  227   60   45   34   17]\n",
      " [ 144  737  134   13   23   27]\n",
      " [   7   40 1005    2    2    3]\n",
      " [  27   68   34  912    8    8]\n",
      " [  26   87   21   29  811  107]\n",
      " [   2   11    6    0    5 1049]]\n"
     ]
    }
   ],
   "source": [
    "test_cm = confusion_matrix(y_test, y_test_pred)\n",
    "print(\"Confusion Matrix of Testing Dataset\\n\",test_cm)"
   ]
  },
  {
   "cell_type": "code",
   "execution_count": 58,
   "id": "72404340-dc02-4be4-90c5-1bd290c48a6f",
   "metadata": {},
   "outputs": [
    {
     "data": {
      "image/png": "[encoded data removed]",
      "text/plain": [
       "<Figure size 640x480 with 2 Axes>"
      ]
     },
     "metadata": {},
     "output_type": "display_data"
    }
   ],
   "source": [
    "sns.heatmap(test_cm, annot=True,fmt='g', xticklabels=class_names.values(),yticklabels=class_names.values())\n",
    "plt.xlabel('Prediction',fontsize=13)\n",
    "plt.ylabel('Actual',fontsize=13)\n",
    "plt.title('Confusion Matrix of Testing Dataset',fontsize=12)\n",
    "plt.show()"
   ]
  },
  {
   "cell_type": "code",
   "execution_count": 59,
   "id": "1e3bfdb6-a261-493a-a2b5-9d39c21a0985",
   "metadata": {},
   "outputs": [
    {
     "name": "stdout",
     "output_type": "stream",
     "text": [
      "Classification Report on Training Data:\n",
      "               precision    recall  f1-score   support\n",
      "\n",
      "           0       0.79      0.68      0.73      3850\n",
      "           1       0.67      0.71      0.69      3876\n",
      "           2       0.83      0.95      0.88      3888\n",
      "           3       0.92      0.87      0.90      3885\n",
      "           4       0.93      0.79      0.86      3855\n",
      "           5       0.88      0.98      0.93      3809\n",
      "\n",
      "    accuracy                           0.83     23163\n",
      "   macro avg       0.84      0.83      0.83     23163\n",
      "weighted avg       0.84      0.83      0.83     23163\n",
      "\n"
     ]
    }
   ],
   "source": [
    "print(\"Classification Report on Training Data:\\n\",classification_report(y_train, y_train_pred))"
   ]
  },
  {
   "cell_type": "code",
   "execution_count": 60,
   "id": "e2120bcc-42d1-449f-ab68-87fe2f0108a5",
   "metadata": {},
   "outputs": [
    {
     "name": "stdout",
     "output_type": "stream",
     "text": [
      "Classification Report with Best Estimator:\n",
      "               precision    recall  f1-score   support\n",
      "\n",
      "           0       0.77      0.65      0.71      1087\n",
      "           1       0.63      0.68      0.66      1078\n",
      "           2       0.80      0.95      0.87      1059\n",
      "           3       0.91      0.86      0.89      1057\n",
      "           4       0.92      0.75      0.83      1081\n",
      "           5       0.87      0.98      0.92      1073\n",
      "\n",
      "    accuracy                           0.81      6435\n",
      "   macro avg       0.82      0.81      0.81      6435\n",
      "weighted avg       0.82      0.81      0.81      6435\n",
      "\n"
     ]
    }
   ],
   "source": [
    "report_rf= classification_report(y_test, y_test_pred,output_dict=True)\n",
    "print(\"Classification Report with Best Estimator:\\n\",classification_report(y_test, y_test_pred))"
   ]
  },
  {
   "cell_type": "code",
   "execution_count": 61,
   "id": "51a0183f-edbe-4fa0-8a3c-e967a0ae1c2f",
   "metadata": {},
   "outputs": [
    {
     "name": "stdout",
     "output_type": "stream",
     "text": [
      "Classification Report on Training Data:\n",
      "               precision    recall  f1-score   support\n",
      "\n",
      "           0       0.77      0.64      0.70       425\n",
      "           1       0.63      0.68      0.65       408\n",
      "           2       0.78      0.95      0.86       415\n",
      "           3       0.91      0.85      0.88       420\n",
      "           4       0.93      0.77      0.84       426\n",
      "           5       0.89      0.98      0.94       480\n",
      "\n",
      "    accuracy                           0.82      2574\n",
      "   macro avg       0.82      0.81      0.81      2574\n",
      "weighted avg       0.82      0.82      0.81      2574\n",
      "\n"
     ]
    }
   ],
   "source": [
    "print(\"Classification Report on Training Data:\\n\",classification_report(y_val, y_val_pred))"
   ]
  },
  {
   "cell_type": "markdown",
   "id": "a0d7dba7-b925-4d55-b4a8-84849022d97a",
   "metadata": {},
   "source": [
    "### Logistic Regression"
   ]
  },
  {
   "cell_type": "code",
   "execution_count": 62,
   "id": "25af9485-5ab4-4e8d-b2e5-1793eb300904",
   "metadata": {},
   "outputs": [
    {
     "data": {
      "text/html": [
       "<style>#sk-container-id-3 {color: black;background-color: white;}#sk-container-id-3 pre{padding: 0;}#sk-container-id-3 div.sk-toggleable {background-color: white;}#sk-container-id-3 label.sk-toggleable__label {cursor: pointer;display: block;width: 100%;margin-bottom: 0;padding: 0.3em;box-sizing: border-box;text-align: center;}#sk-container-id-3 label.sk-toggleable__label-arrow:before {content: \"▸\";float: left;margin-right: 0.25em;color: #696969;}#sk-container-id-3 label.sk-toggleable__label-arrow:hover:before {color: black;}#sk-container-id-3 div.sk-estimator:hover label.sk-toggleable__label-arrow:before {color: black;}#sk-container-id-3 div.sk-toggleable__content {max-height: 0;max-width: 0;overflow: hidden;text-align: left;background-color: #f0f8ff;}#sk-container-id-3 div.sk-toggleable__content pre {margin: 0.2em;color: black;border-radius: 0.25em;background-color: #f0f8ff;}#sk-container-id-3 input.sk-toggleable__control:checked~div.sk-toggleable__content {max-height: 200px;max-width: 100%;overflow: auto;}#sk-container-id-3 input.sk-toggleable__control:checked~label.sk-toggleable__label-arrow:before {content: \"▾\";}#sk-container-id-3 div.sk-estimator input.sk-toggleable__control:checked~label.sk-toggleable__label {background-color: #d4ebff;}#sk-container-id-3 div.sk-label input.sk-toggleable__control:checked~label.sk-toggleable__label {background-color: #d4ebff;}#sk-container-id-3 input.sk-hidden--visually {border: 0;clip: rect(1px 1px 1px 1px);clip: rect(1px, 1px, 1px, 1px);height: 1px;margin: -1px;overflow: hidden;padding: 0;position: absolute;width: 1px;}#sk-container-id-3 div.sk-estimator {font-family: monospace;background-color: #f0f8ff;border: 1px dotted black;border-radius: 0.25em;box-sizing: border-box;margin-bottom: 0.5em;}#sk-container-id-3 div.sk-estimator:hover {background-color: #d4ebff;}#sk-container-id-3 div.sk-parallel-item::after {content: \"\";width: 100%;border-bottom: 1px solid gray;flex-grow: 1;}#sk-container-id-3 div.sk-label:hover label.sk-toggleable__label {background-color: #d4ebff;}#sk-container-id-3 div.sk-serial::before {content: \"\";position: absolute;border-left: 1px solid gray;box-sizing: border-box;top: 0;bottom: 0;left: 50%;z-index: 0;}#sk-container-id-3 div.sk-serial {display: flex;flex-direction: column;align-items: center;background-color: white;padding-right: 0.2em;padding-left: 0.2em;position: relative;}#sk-container-id-3 div.sk-item {position: relative;z-index: 1;}#sk-container-id-3 div.sk-parallel {display: flex;align-items: stretch;justify-content: center;background-color: white;position: relative;}#sk-container-id-3 div.sk-item::before, #sk-container-id-3 div.sk-parallel-item::before {content: \"\";position: absolute;border-left: 1px solid gray;box-sizing: border-box;top: 0;bottom: 0;left: 50%;z-index: -1;}#sk-container-id-3 div.sk-parallel-item {display: flex;flex-direction: column;z-index: 1;position: relative;background-color: white;}#sk-container-id-3 div.sk-parallel-item:first-child::after {align-self: flex-end;width: 50%;}#sk-container-id-3 div.sk-parallel-item:last-child::after {align-self: flex-start;width: 50%;}#sk-container-id-3 div.sk-parallel-item:only-child::after {width: 0;}#sk-container-id-3 div.sk-dashed-wrapped {border: 1px dashed gray;margin: 0 0.4em 0.5em 0.4em;box-sizing: border-box;padding-bottom: 0.4em;background-color: white;}#sk-container-id-3 div.sk-label label {font-family: monospace;font-weight: bold;display: inline-block;line-height: 1.2em;}#sk-container-id-3 div.sk-label-container {text-align: center;}#sk-container-id-3 div.sk-container {/* jupyter's `normalize.less` sets `[hidden] { display: none; }` but bootstrap.min.css set `[hidden] { display: none !important; }` so we also need the `!important` here to be able to override the default hidden behavior on the sphinx rendered scikit-learn.org. See: https://github.com/scikit-learn/scikit-learn/issues/21755 */display: inline-block !important;position: relative;}#sk-container-id-3 div.sk-text-repr-fallback {display: none;}</style><div id=\"sk-container-id-3\" class=\"sk-top-container\"><div class=\"sk-text-repr-fallback\"><pre>LogisticRegression(max_iter=200, multi_class=&#x27;multinomial&#x27;)</pre><b>In a Jupyter environment, please rerun this cell to show the HTML representation or trust the notebook. <br />On GitHub, the HTML representation is unable to render, please try loading this page with nbviewer.org.</b></div><div class=\"sk-container\" hidden><div class=\"sk-item\"><div class=\"sk-estimator sk-toggleable\"><input class=\"sk-toggleable__control sk-hidden--visually\" id=\"sk-estimator-id-5\" type=\"checkbox\" checked><label for=\"sk-estimator-id-5\" class=\"sk-toggleable__label sk-toggleable__label-arrow\">LogisticRegression</label><div class=\"sk-toggleable__content\"><pre>LogisticRegression(max_iter=200, multi_class=&#x27;multinomial&#x27;)</pre></div></div></div></div></div>"
      ],
      "text/plain": [
       "LogisticRegression(max_iter=200, multi_class='multinomial')"
      ]
     },
     "execution_count": 62,
     "metadata": {},
     "output_type": "execute_result"
    }
   ],
   "source": [
    "log_classifier = LogisticRegression(multi_class='multinomial', max_iter=200)\n",
    "log_classifier.fit(X_train, y_train)"
   ]
  },
  {
   "cell_type": "code",
   "execution_count": 63,
   "id": "5c2338e8-a086-4817-ac37-7886bfac3f95",
   "metadata": {},
   "outputs": [],
   "source": [
    "y_train_pred = log_classifier.predict(X_train)\n",
    "y_test_pred = log_classifier.predict(X_test)"
   ]
  },
  {
   "cell_type": "code",
   "execution_count": 64,
   "id": "88f74724-20e3-4d34-b917-fa0bcfcee5c0",
   "metadata": {},
   "outputs": [],
   "source": [
    "log_train_acc = accuracy_score(y_train, y_train_pred)\n",
    "log_test_acc = accuracy_score(y_test, y_test_pred)"
   ]
  },
  {
   "cell_type": "code",
   "execution_count": 65,
   "id": "0c40ce34-ee56-4bdb-9b2c-db82aa693c8f",
   "metadata": {},
   "outputs": [
    {
     "name": "stdout",
     "output_type": "stream",
     "text": [
      "Training Accuracy: 0.9576479730604844\n",
      "Testing Accuracy: 0.9283605283605284\n"
     ]
    }
   ],
   "source": [
    "print(\"Training Accuracy:\", log_train_acc)\n",
    "print(\"Testing Accuracy:\", log_test_acc)"
   ]
  },
  {
   "cell_type": "code",
   "execution_count": 66,
   "id": "9aa5fe4d-4611-4784-a33f-34868d239c53",
   "metadata": {},
   "outputs": [],
   "source": [
    "before_train.append(log_train_acc)\n",
    "before_test.append(log_test_acc)"
   ]
  },
  {
   "cell_type": "code",
   "execution_count": 67,
   "id": "95130e62-b3b0-401a-98b4-36b708188d5f",
   "metadata": {},
   "outputs": [
    {
     "name": "stdout",
     "output_type": "stream",
     "text": [
      "Confusion Matrix of Training Dataset\n",
      " [[3630   52   27   71   45   25]\n",
      " [  54 3538  181   37   26   40]\n",
      " [   7   66 3796   11    6    2]\n",
      " [  44   20    9 3781   26    5]\n",
      " [  26   19   12   38 3636  124]\n",
      " [   2    2    0    0    4 3801]]\n"
     ]
    }
   ],
   "source": [
    "cm = confusion_matrix(y_train, y_train_pred)\n",
    "print(\"Confusion Matrix of Training Dataset\\n\",cm)"
   ]
  },
  {
   "cell_type": "code",
   "execution_count": 68,
   "id": "9be47af9-c53f-428d-bcaf-ce0911b9940d",
   "metadata": {},
   "outputs": [
    {
     "name": "stdout",
     "output_type": "stream",
     "text": [
      "Confusion Matrix of Testing Dataset\n",
      " [[ 971   41   16   31   20    8]\n",
      " [  29  950   67    8    8   16]\n",
      " [   4   33 1015    5    1    1]\n",
      " [  24   20    3 1000    9    1]\n",
      " [  15   15    7   18  971   55]\n",
      " [   1    1    1    0    3 1067]]\n"
     ]
    }
   ],
   "source": [
    "test_cm = confusion_matrix(y_test, y_test_pred)\n",
    "print(\"Confusion Matrix of Testing Dataset\\n\",test_cm)"
   ]
  },
  {
   "cell_type": "code",
   "execution_count": 69,
   "id": "24292059-ac56-43ae-b16e-806c9e2eadf3",
   "metadata": {},
   "outputs": [
    {
     "name": "stdout",
     "output_type": "stream",
     "text": [
      "Classification Report on Training Data:\n",
      "               precision    recall  f1-score   support\n",
      "\n",
      "           0       0.96      0.94      0.95      3850\n",
      "           1       0.96      0.91      0.93      3876\n",
      "           2       0.94      0.98      0.96      3888\n",
      "           3       0.96      0.97      0.97      3885\n",
      "           4       0.97      0.94      0.96      3855\n",
      "           5       0.95      1.00      0.97      3809\n",
      "\n",
      "    accuracy                           0.96     23163\n",
      "   macro avg       0.96      0.96      0.96     23163\n",
      "weighted avg       0.96      0.96      0.96     23163\n",
      "\n"
     ]
    }
   ],
   "source": [
    "print(\"Classification Report on Training Data:\\n\",classification_report(y_train, y_train_pred))"
   ]
  },
  {
   "cell_type": "code",
   "execution_count": 70,
   "id": "9a1e1652-25d8-4952-b503-165ee069deb2",
   "metadata": {},
   "outputs": [
    {
     "name": "stdout",
     "output_type": "stream",
     "text": [
      "Classification Report on Testing Data:\n",
      "               precision    recall  f1-score   support\n",
      "\n",
      "           0       0.93      0.89      0.91      1087\n",
      "           1       0.90      0.88      0.89      1078\n",
      "           2       0.92      0.96      0.94      1059\n",
      "           3       0.94      0.95      0.94      1057\n",
      "           4       0.96      0.90      0.93      1081\n",
      "           5       0.93      0.99      0.96      1073\n",
      "\n",
      "    accuracy                           0.93      6435\n",
      "   macro avg       0.93      0.93      0.93      6435\n",
      "weighted avg       0.93      0.93      0.93      6435\n",
      "\n"
     ]
    }
   ],
   "source": [
    "print(\"Classification Report on Testing Data:\\n\", classification_report(y_test, y_test_pred))"
   ]
  },
  {
   "cell_type": "markdown",
   "id": "7f3a7146-2da3-48c0-9ea9-e7d82c6362d1",
   "metadata": {},
   "source": [
    "#### Hyeperparameter Tuning"
   ]
  },
  {
   "cell_type": "code",
   "execution_count": 71,
   "id": "6cab8798-0f58-45be-93df-2f40dfb4763e",
   "metadata": {},
   "outputs": [],
   "source": [
    "# Define a grid of hyperparameters to search over for Logistic Regression\n",
    "param_grid = {\n",
    "    'C': [0.01, 0.1, 1, 10, 100],                # Regularization parameter (smaller values specify stronger regularization)\n",
    "    'solver': ['newton-cg', 'lbfgs', 'liblinear', 'sag', 'saga']  # Optimization algorithm to use for the logistic regression model\n",
    "}"
   ]
  },
  {
   "cell_type": "code",
   "execution_count": 72,
   "id": "6a0bf420-2888-44a6-bbf1-763bed351c88",
   "metadata": {},
   "outputs": [],
   "source": [
    "log_reg = LogisticRegression(max_iter=1000)"
   ]
  },
  {
   "cell_type": "code",
   "execution_count": 73,
   "id": "5c518895-c229-4511-83a0-ff16280b4932",
   "metadata": {},
   "outputs": [],
   "source": [
    "# Create a GridSearchCV object for Logistic Regression\n",
    "log_grid = GridSearchCV(\n",
    "    estimator=log_reg,         # The logistic regression model\n",
    "    param_grid=param_grid,     # The grid of hyperparameters to search over\n",
    "    cv=5,                      # Cross-validation strategy (5-fold cross-validation)\n",
    "    n_jobs=-1,                 # Number of jobs to run in parallel (-1 uses all available CPU cores)\n",
    "    verbose=2                 # Controls the verbosity of the output (more details)\n",
    ")"
   ]
  },
  {
   "cell_type": "code",
   "execution_count": 74,
   "id": "ebc04176-4511-49e4-894f-06fac14cd6d9",
   "metadata": {},
   "outputs": [
    {
     "name": "stdout",
     "output_type": "stream",
     "text": [
      "Fitting 5 folds for each of 25 candidates, totalling 125 fits\n"
     ]
    },
    {
     "data": {
      "text/html": [
       "<style>#sk-container-id-4 {color: black;background-color: white;}#sk-container-id-4 pre{padding: 0;}#sk-container-id-4 div.sk-toggleable {background-color: white;}#sk-container-id-4 label.sk-toggleable__label {cursor: pointer;display: block;width: 100%;margin-bottom: 0;padding: 0.3em;box-sizing: border-box;text-align: center;}#sk-container-id-4 label.sk-toggleable__label-arrow:before {content: \"▸\";float: left;margin-right: 0.25em;color: #696969;}#sk-container-id-4 label.sk-toggleable__label-arrow:hover:before {color: black;}#sk-container-id-4 div.sk-estimator:hover label.sk-toggleable__label-arrow:before {color: black;}#sk-container-id-4 div.sk-toggleable__content {max-height: 0;max-width: 0;overflow: hidden;text-align: left;background-color: #f0f8ff;}#sk-container-id-4 div.sk-toggleable__content pre {margin: 0.2em;color: black;border-radius: 0.25em;background-color: #f0f8ff;}#sk-container-id-4 input.sk-toggleable__control:checked~div.sk-toggleable__content {max-height: 200px;max-width: 100%;overflow: auto;}#sk-container-id-4 input.sk-toggleable__control:checked~label.sk-toggleable__label-arrow:before {content: \"▾\";}#sk-container-id-4 div.sk-estimator input.sk-toggleable__control:checked~label.sk-toggleable__label {background-color: #d4ebff;}#sk-container-id-4 div.sk-label input.sk-toggleable__control:checked~label.sk-toggleable__label {background-color: #d4ebff;}#sk-container-id-4 input.sk-hidden--visually {border: 0;clip: rect(1px 1px 1px 1px);clip: rect(1px, 1px, 1px, 1px);height: 1px;margin: -1px;overflow: hidden;padding: 0;position: absolute;width: 1px;}#sk-container-id-4 div.sk-estimator {font-family: monospace;background-color: #f0f8ff;border: 1px dotted black;border-radius: 0.25em;box-sizing: border-box;margin-bottom: 0.5em;}#sk-container-id-4 div.sk-estimator:hover {background-color: #d4ebff;}#sk-container-id-4 div.sk-parallel-item::after {content: \"\";width: 100%;border-bottom: 1px solid gray;flex-grow: 1;}#sk-container-id-4 div.sk-label:hover label.sk-toggleable__label {background-color: #d4ebff;}#sk-container-id-4 div.sk-serial::before {content: \"\";position: absolute;border-left: 1px solid gray;box-sizing: border-box;top: 0;bottom: 0;left: 50%;z-index: 0;}#sk-container-id-4 div.sk-serial {display: flex;flex-direction: column;align-items: center;background-color: white;padding-right: 0.2em;padding-left: 0.2em;position: relative;}#sk-container-id-4 div.sk-item {position: relative;z-index: 1;}#sk-container-id-4 div.sk-parallel {display: flex;align-items: stretch;justify-content: center;background-color: white;position: relative;}#sk-container-id-4 div.sk-item::before, #sk-container-id-4 div.sk-parallel-item::before {content: \"\";position: absolute;border-left: 1px solid gray;box-sizing: border-box;top: 0;bottom: 0;left: 50%;z-index: -1;}#sk-container-id-4 div.sk-parallel-item {display: flex;flex-direction: column;z-index: 1;position: relative;background-color: white;}#sk-container-id-4 div.sk-parallel-item:first-child::after {align-self: flex-end;width: 50%;}#sk-container-id-4 div.sk-parallel-item:last-child::after {align-self: flex-start;width: 50%;}#sk-container-id-4 div.sk-parallel-item:only-child::after {width: 0;}#sk-container-id-4 div.sk-dashed-wrapped {border: 1px dashed gray;margin: 0 0.4em 0.5em 0.4em;box-sizing: border-box;padding-bottom: 0.4em;background-color: white;}#sk-container-id-4 div.sk-label label {font-family: monospace;font-weight: bold;display: inline-block;line-height: 1.2em;}#sk-container-id-4 div.sk-label-container {text-align: center;}#sk-container-id-4 div.sk-container {/* jupyter's `normalize.less` sets `[hidden] { display: none; }` but bootstrap.min.css set `[hidden] { display: none !important; }` so we also need the `!important` here to be able to override the default hidden behavior on the sphinx rendered scikit-learn.org. See: https://github.com/scikit-learn/scikit-learn/issues/21755 */display: inline-block !important;position: relative;}#sk-container-id-4 div.sk-text-repr-fallback {display: none;}</style><div id=\"sk-container-id-4\" class=\"sk-top-container\"><div class=\"sk-text-repr-fallback\"><pre>GridSearchCV(cv=5, estimator=LogisticRegression(max_iter=1000), n_jobs=-1,\n",
       "             param_grid={&#x27;C&#x27;: [0.01, 0.1, 1, 10, 100],\n",
       "                         &#x27;solver&#x27;: [&#x27;newton-cg&#x27;, &#x27;lbfgs&#x27;, &#x27;liblinear&#x27;, &#x27;sag&#x27;,\n",
       "                                    &#x27;saga&#x27;]},\n",
       "             verbose=2)</pre><b>In a Jupyter environment, please rerun this cell to show the HTML representation or trust the notebook. <br />On GitHub, the HTML representation is unable to render, please try loading this page with nbviewer.org.</b></div><div class=\"sk-container\" hidden><div class=\"sk-item sk-dashed-wrapped\"><div class=\"sk-label-container\"><div class=\"sk-label sk-toggleable\"><input class=\"sk-toggleable__control sk-hidden--visually\" id=\"sk-estimator-id-6\" type=\"checkbox\" ><label for=\"sk-estimator-id-6\" class=\"sk-toggleable__label sk-toggleable__label-arrow\">GridSearchCV</label><div class=\"sk-toggleable__content\"><pre>GridSearchCV(cv=5, estimator=LogisticRegression(max_iter=1000), n_jobs=-1,\n",
       "             param_grid={&#x27;C&#x27;: [0.01, 0.1, 1, 10, 100],\n",
       "                         &#x27;solver&#x27;: [&#x27;newton-cg&#x27;, &#x27;lbfgs&#x27;, &#x27;liblinear&#x27;, &#x27;sag&#x27;,\n",
       "                                    &#x27;saga&#x27;]},\n",
       "             verbose=2)</pre></div></div></div><div class=\"sk-parallel\"><div class=\"sk-parallel-item\"><div class=\"sk-item\"><div class=\"sk-label-container\"><div class=\"sk-label sk-toggleable\"><input class=\"sk-toggleable__control sk-hidden--visually\" id=\"sk-estimator-id-7\" type=\"checkbox\" ><label for=\"sk-estimator-id-7\" class=\"sk-toggleable__label sk-toggleable__label-arrow\">estimator: LogisticRegression</label><div class=\"sk-toggleable__content\"><pre>LogisticRegression(max_iter=1000)</pre></div></div></div><div class=\"sk-serial\"><div class=\"sk-item\"><div class=\"sk-estimator sk-toggleable\"><input class=\"sk-toggleable__control sk-hidden--visually\" id=\"sk-estimator-id-8\" type=\"checkbox\" ><label for=\"sk-estimator-id-8\" class=\"sk-toggleable__label sk-toggleable__label-arrow\">LogisticRegression</label><div class=\"sk-toggleable__content\"><pre>LogisticRegression(max_iter=1000)</pre></div></div></div></div></div></div></div></div></div></div>"
      ],
      "text/plain": [
       "GridSearchCV(cv=5, estimator=LogisticRegression(max_iter=1000), n_jobs=-1,\n",
       "             param_grid={'C': [0.01, 0.1, 1, 10, 100],\n",
       "                         'solver': ['newton-cg', 'lbfgs', 'liblinear', 'sag',\n",
       "                                    'saga']},\n",
       "             verbose=2)"
      ]
     },
     "execution_count": 74,
     "metadata": {},
     "output_type": "execute_result"
    }
   ],
   "source": [
    "# Fit the GridSearchCV object to the training data\n",
    "log_grid.fit(X_train, y_train)"
   ]
  },
  {
   "cell_type": "code",
   "execution_count": 75,
   "id": "e07d9261-9545-442b-8e3e-4dfa90ba8a15",
   "metadata": {},
   "outputs": [
    {
     "name": "stdout",
     "output_type": "stream",
     "text": [
      "Best Parameters: {'C': 10, 'solver': 'newton-cg'}\n"
     ]
    }
   ],
   "source": [
    "print(\"Best Parameters:\", log_grid.best_params_)\n",
    "param.append(log_grid.best_params_)"
   ]
  },
  {
   "cell_type": "code",
   "execution_count": 76,
   "id": "aeefd24c-7fc0-43cd-b033-6985d2001486",
   "metadata": {},
   "outputs": [],
   "source": [
    "best_log_reg = log_grid.best_estimator_"
   ]
  },
  {
   "cell_type": "code",
   "execution_count": 77,
   "id": "c4d56905-6ff0-449f-b887-8687fc06336e",
   "metadata": {},
   "outputs": [],
   "source": [
    "# Make predictions on the training data using the best Logistic Regression model\n",
    "y_train_pred = best_log_reg.predict(X_train)\n",
    "# Make predictions on the testing data using the best Logistic Regression model\n",
    "y_test_pred = best_log_reg.predict(X_test)\n",
    "# Make predictions on the validation data using the best Logistic Regression model\n",
    "y_val_pred = best_log_reg.predict(X_val)"
   ]
  },
  {
   "cell_type": "code",
   "execution_count": 78,
   "id": "b4337498-2da3-4424-88ba-44163a917673",
   "metadata": {},
   "outputs": [],
   "source": [
    "log_train_hpt = accuracy_score(y_train, y_train_pred)\n",
    "log_test_hpt = accuracy_score(y_test, y_test_pred)\n",
    "log_val_hpt = accuracy_score(y_val, y_val_pred)"
   ]
  },
  {
   "cell_type": "code",
   "execution_count": 79,
   "id": "b566303e-f53f-4480-8ab4-dba84bb274a6",
   "metadata": {},
   "outputs": [
    {
     "name": "stdout",
     "output_type": "stream",
     "text": [
      "Training Accuracy with Best Estimator: 0.9877822389155118\n",
      "Testing Accuracy with Best Estimator: 0.9415695415695415\n",
      "Validation Accuracy with Best Estimator: 0.947940947940948\n"
     ]
    }
   ],
   "source": [
    "print(\"Training Accuracy with Best Estimator:\", log_train_hpt)\n",
    "print(\"Testing Accuracy with Best Estimator:\", log_test_hpt)\n",
    "print(\"Validation Accuracy with Best Estimator:\", log_val_hpt)"
   ]
  },
  {
   "cell_type": "code",
   "execution_count": 80,
   "id": "b6b18df7-0941-4202-b47e-e04facfe612c",
   "metadata": {},
   "outputs": [],
   "source": [
    "after_train.append(log_train_hpt)\n",
    "after_test.append(log_test_hpt)\n",
    "val.append(log_val_hpt)"
   ]
  },
  {
   "cell_type": "code",
   "execution_count": 81,
   "id": "34209b47-b08b-4e79-b4da-f3e745b0eae3",
   "metadata": {},
   "outputs": [
    {
     "name": "stdout",
     "output_type": "stream",
     "text": [
      "Confusion Matrix of Training Dataset\n",
      " [[3787    9    3   32   17    2]\n",
      " [  19 3766   65    8    8   10]\n",
      " [   0   12 3875    1    0    0]\n",
      " [  10    1    1 3857   16    0]\n",
      " [   7    1    1   14 3789   43]\n",
      " [   0    1    0    0    2 3806]]\n"
     ]
    }
   ],
   "source": [
    "cm = confusion_matrix(y_train, y_train_pred)\n",
    "print(\"Confusion Matrix of Training Dataset\\n\",cm)"
   ]
  },
  {
   "cell_type": "code",
   "execution_count": 82,
   "id": "886d97ea-ff82-4776-905f-a6a2a3ddeb82",
   "metadata": {},
   "outputs": [
    {
     "data": {
      "image/png": "[encoded data removed]",
      "text/plain": [
       "<Figure size 640x480 with 2 Axes>"
      ]
     },
     "metadata": {},
     "output_type": "display_data"
    }
   ],
   "source": [
    "sns.heatmap(cm, annot=True,fmt='g', xticklabels=class_names.values(),yticklabels=class_names.values())\n",
    "plt.xlabel('Prediction',fontsize=13)\n",
    "plt.ylabel('Actual',fontsize=13)\n",
    "plt.title('Confusion Matrix of Training Dataset',fontsize=12)\n",
    "plt.show()"
   ]
  },
  {
   "cell_type": "code",
   "execution_count": 83,
   "id": "bcd1d24c-c755-4d05-8585-802829e0368f",
   "metadata": {},
   "outputs": [
    {
     "name": "stdout",
     "output_type": "stream",
     "text": [
      "Confusion Matrix of Testing Dataset\n",
      " [[ 987   39   15   30   13    3]\n",
      " [  30  960   61   10    7   10]\n",
      " [   2   25 1031    0    1    0]\n",
      " [  25   14    4 1006    8    0]\n",
      " [  13   12    4   15 1008   29]\n",
      " [   1    3    0    0    2 1067]]\n"
     ]
    }
   ],
   "source": [
    "test_cm = confusion_matrix(y_test, y_test_pred)\n",
    "print(\"Confusion Matrix of Testing Dataset\\n\",test_cm)"
   ]
  },
  {
   "cell_type": "code",
   "execution_count": 84,
   "id": "60b7d3b0-8089-4eeb-b6c4-7da6cb7de2ba",
   "metadata": {},
   "outputs": [
    {
     "data": {
      "image/png": "[encoded data removed]",
      "text/plain": [
       "<Figure size 640x480 with 2 Axes>"
      ]
     },
     "metadata": {},
     "output_type": "display_data"
    }
   ],
   "source": [
    "sns.heatmap(test_cm, annot=True,fmt='g', xticklabels=class_names.values(),yticklabels=class_names.values())\n",
    "plt.xlabel('Prediction',fontsize=13)\n",
    "plt.ylabel('Actual',fontsize=13)\n",
    "plt.title('Confusion Matrix of Testing Dataset',fontsize=12)\n",
    "plt.show()"
   ]
  },
  {
   "cell_type": "code",
   "execution_count": 85,
   "id": "ece13945-5e18-410b-ba10-e5d9dfb27e4a",
   "metadata": {},
   "outputs": [
    {
     "name": "stdout",
     "output_type": "stream",
     "text": [
      "Classification Report on Training Data:\n",
      "               precision    recall  f1-score   support\n",
      "\n",
      "           0       0.99      0.98      0.99      3850\n",
      "           1       0.99      0.97      0.98      3876\n",
      "           2       0.98      1.00      0.99      3888\n",
      "           3       0.99      0.99      0.99      3885\n",
      "           4       0.99      0.98      0.99      3855\n",
      "           5       0.99      1.00      0.99      3809\n",
      "\n",
      "    accuracy                           0.99     23163\n",
      "   macro avg       0.99      0.99      0.99     23163\n",
      "weighted avg       0.99      0.99      0.99     23163\n",
      "\n"
     ]
    }
   ],
   "source": [
    "print(\"Classification Report on Training Data:\\n\",classification_report(y_train, y_train_pred))"
   ]
  },
  {
   "cell_type": "code",
   "execution_count": 86,
   "id": "4c49de18-6d59-4b2e-8674-33f9636d81fc",
   "metadata": {},
   "outputs": [
    {
     "name": "stdout",
     "output_type": "stream",
     "text": [
      "Classification Report on Testing Data:\n",
      "               precision    recall  f1-score   support\n",
      "\n",
      "           0       0.93      0.91      0.92      1087\n",
      "           1       0.91      0.89      0.90      1078\n",
      "           2       0.92      0.97      0.95      1059\n",
      "           3       0.95      0.95      0.95      1057\n",
      "           4       0.97      0.93      0.95      1081\n",
      "           5       0.96      0.99      0.98      1073\n",
      "\n",
      "    accuracy                           0.94      6435\n",
      "   macro avg       0.94      0.94      0.94      6435\n",
      "weighted avg       0.94      0.94      0.94      6435\n",
      "\n"
     ]
    }
   ],
   "source": [
    "report_log=classification_report(y_test, y_test_pred,output_dict=True)\n",
    "print(\"Classification Report on Testing Data:\\n\",classification_report(y_test, y_test_pred))"
   ]
  },
  {
   "cell_type": "code",
   "execution_count": 87,
   "id": "8cd53570-5d3b-429d-be12-73e919caa3bd",
   "metadata": {},
   "outputs": [
    {
     "name": "stdout",
     "output_type": "stream",
     "text": [
      "Classification Report on Validation Data:\n",
      "               precision    recall  f1-score   support\n",
      "\n",
      "           0       0.96      0.88      0.92       425\n",
      "           1       0.91      0.90      0.90       408\n",
      "           2       0.91      0.98      0.94       415\n",
      "           3       0.96      0.96      0.96       420\n",
      "           4       0.98      0.96      0.97       426\n",
      "           5       0.98      1.00      0.99       480\n",
      "\n",
      "    accuracy                           0.95      2574\n",
      "   macro avg       0.95      0.95      0.95      2574\n",
      "weighted avg       0.95      0.95      0.95      2574\n",
      "\n"
     ]
    }
   ],
   "source": [
    "print(\"Classification Report on Validation Data:\\n\",classification_report(y_val, y_val_pred))"
   ]
  },
  {
   "cell_type": "markdown",
   "id": "d0bc4e18-e82f-4263-bd05-fef40fab552e",
   "metadata": {},
   "source": [
    "### Naive Bayes Classifier"
   ]
  },
  {
   "cell_type": "code",
   "execution_count": 88,
   "id": "ab034f74-c421-47aa-8ed6-f548dcd65147",
   "metadata": {},
   "outputs": [
    {
     "data": {
      "text/html": [
       "<style>#sk-container-id-5 {color: black;background-color: white;}#sk-container-id-5 pre{padding: 0;}#sk-container-id-5 div.sk-toggleable {background-color: white;}#sk-container-id-5 label.sk-toggleable__label {cursor: pointer;display: block;width: 100%;margin-bottom: 0;padding: 0.3em;box-sizing: border-box;text-align: center;}#sk-container-id-5 label.sk-toggleable__label-arrow:before {content: \"▸\";float: left;margin-right: 0.25em;color: #696969;}#sk-container-id-5 label.sk-toggleable__label-arrow:hover:before {color: black;}#sk-container-id-5 div.sk-estimator:hover label.sk-toggleable__label-arrow:before {color: black;}#sk-container-id-5 div.sk-toggleable__content {max-height: 0;max-width: 0;overflow: hidden;text-align: left;background-color: #f0f8ff;}#sk-container-id-5 div.sk-toggleable__content pre {margin: 0.2em;color: black;border-radius: 0.25em;background-color: #f0f8ff;}#sk-container-id-5 input.sk-toggleable__control:checked~div.sk-toggleable__content {max-height: 200px;max-width: 100%;overflow: auto;}#sk-container-id-5 input.sk-toggleable__control:checked~label.sk-toggleable__label-arrow:before {content: \"▾\";}#sk-container-id-5 div.sk-estimator input.sk-toggleable__control:checked~label.sk-toggleable__label {background-color: #d4ebff;}#sk-container-id-5 div.sk-label input.sk-toggleable__control:checked~label.sk-toggleable__label {background-color: #d4ebff;}#sk-container-id-5 input.sk-hidden--visually {border: 0;clip: rect(1px 1px 1px 1px);clip: rect(1px, 1px, 1px, 1px);height: 1px;margin: -1px;overflow: hidden;padding: 0;position: absolute;width: 1px;}#sk-container-id-5 div.sk-estimator {font-family: monospace;background-color: #f0f8ff;border: 1px dotted black;border-radius: 0.25em;box-sizing: border-box;margin-bottom: 0.5em;}#sk-container-id-5 div.sk-estimator:hover {background-color: #d4ebff;}#sk-container-id-5 div.sk-parallel-item::after {content: \"\";width: 100%;border-bottom: 1px solid gray;flex-grow: 1;}#sk-container-id-5 div.sk-label:hover label.sk-toggleable__label {background-color: #d4ebff;}#sk-container-id-5 div.sk-serial::before {content: \"\";position: absolute;border-left: 1px solid gray;box-sizing: border-box;top: 0;bottom: 0;left: 50%;z-index: 0;}#sk-container-id-5 div.sk-serial {display: flex;flex-direction: column;align-items: center;background-color: white;padding-right: 0.2em;padding-left: 0.2em;position: relative;}#sk-container-id-5 div.sk-item {position: relative;z-index: 1;}#sk-container-id-5 div.sk-parallel {display: flex;align-items: stretch;justify-content: center;background-color: white;position: relative;}#sk-container-id-5 div.sk-item::before, #sk-container-id-5 div.sk-parallel-item::before {content: \"\";position: absolute;border-left: 1px solid gray;box-sizing: border-box;top: 0;bottom: 0;left: 50%;z-index: -1;}#sk-container-id-5 div.sk-parallel-item {display: flex;flex-direction: column;z-index: 1;position: relative;background-color: white;}#sk-container-id-5 div.sk-parallel-item:first-child::after {align-self: flex-end;width: 50%;}#sk-container-id-5 div.sk-parallel-item:last-child::after {align-self: flex-start;width: 50%;}#sk-container-id-5 div.sk-parallel-item:only-child::after {width: 0;}#sk-container-id-5 div.sk-dashed-wrapped {border: 1px dashed gray;margin: 0 0.4em 0.5em 0.4em;box-sizing: border-box;padding-bottom: 0.4em;background-color: white;}#sk-container-id-5 div.sk-label label {font-family: monospace;font-weight: bold;display: inline-block;line-height: 1.2em;}#sk-container-id-5 div.sk-label-container {text-align: center;}#sk-container-id-5 div.sk-container {/* jupyter's `normalize.less` sets `[hidden] { display: none; }` but bootstrap.min.css set `[hidden] { display: none !important; }` so we also need the `!important` here to be able to override the default hidden behavior on the sphinx rendered scikit-learn.org. See: https://github.com/scikit-learn/scikit-learn/issues/21755 */display: inline-block !important;position: relative;}#sk-container-id-5 div.sk-text-repr-fallback {display: none;}</style><div id=\"sk-container-id-5\" class=\"sk-top-container\"><div class=\"sk-text-repr-fallback\"><pre>MultinomialNB()</pre><b>In a Jupyter environment, please rerun this cell to show the HTML representation or trust the notebook. <br />On GitHub, the HTML representation is unable to render, please try loading this page with nbviewer.org.</b></div><div class=\"sk-container\" hidden><div class=\"sk-item\"><div class=\"sk-estimator sk-toggleable\"><input class=\"sk-toggleable__control sk-hidden--visually\" id=\"sk-estimator-id-9\" type=\"checkbox\" checked><label for=\"sk-estimator-id-9\" class=\"sk-toggleable__label sk-toggleable__label-arrow\">MultinomialNB</label><div class=\"sk-toggleable__content\"><pre>MultinomialNB()</pre></div></div></div></div></div>"
      ],
      "text/plain": [
       "MultinomialNB()"
      ]
     },
     "execution_count": 88,
     "metadata": {},
     "output_type": "execute_result"
    }
   ],
   "source": [
    "nb_classifier = MultinomialNB()\n",
    "nb_classifier.fit(X_train, y_train)"
   ]
  },
  {
   "cell_type": "code",
   "execution_count": 89,
   "id": "af15b080-7b98-4318-a5ba-a8e6cbfd9d60",
   "metadata": {},
   "outputs": [],
   "source": [
    "y_train_pred = nb_classifier.predict(X_train)\n",
    "y_test_pred = nb_classifier.predict(X_test)"
   ]
  },
  {
   "cell_type": "code",
   "execution_count": 90,
   "id": "a36aea53-8da4-48d0-bc3b-147d298f0a99",
   "metadata": {},
   "outputs": [],
   "source": [
    "nb_train_acc = accuracy_score(y_train, y_train_pred)\n",
    "nb_test_acc = accuracy_score(y_test, y_test_pred)"
   ]
  },
  {
   "cell_type": "code",
   "execution_count": 91,
   "id": "a0cfc0fc-1f5b-4532-9fa2-f34b2d10f0ef",
   "metadata": {},
   "outputs": [
    {
     "name": "stdout",
     "output_type": "stream",
     "text": [
      "Training Accuracy: 0.9438760091525278\n",
      "Testing Accuracy: 0.9053613053613053\n"
     ]
    }
   ],
   "source": [
    "print(\"Training Accuracy:\", nb_train_acc)\n",
    "print(\"Testing Accuracy:\", nb_test_acc)"
   ]
  },
  {
   "cell_type": "code",
   "execution_count": 92,
   "id": "bdb583a8-c4dd-4b3a-8a79-449385f1fd9c",
   "metadata": {},
   "outputs": [],
   "source": [
    "before_train.append(nb_train_acc)\n",
    "before_test.append(nb_test_acc)"
   ]
  },
  {
   "cell_type": "code",
   "execution_count": 93,
   "id": "cb514549-cfcc-44eb-9833-aaf8124b4df2",
   "metadata": {},
   "outputs": [
    {
     "name": "stdout",
     "output_type": "stream",
     "text": [
      "Confusion Matrix of Training Dataset\n",
      " [[3595   55   31   68   55   46]\n",
      " [  87 3412  217   52   37   71]\n",
      " [  13   75 3770   13    5   12]\n",
      " [  52   26   23 3712   62   10]\n",
      " [  36   19    6   44 3574  176]\n",
      " [   2    4    0    0    3 3800]]\n"
     ]
    }
   ],
   "source": [
    "cm = confusion_matrix(y_train,y_train_pred)\n",
    "print(\"Confusion Matrix of Training Dataset\\n\",cm)"
   ]
  },
  {
   "cell_type": "code",
   "execution_count": 94,
   "id": "5d0d7bc7-2ff9-453d-b4e0-35143482fb54",
   "metadata": {},
   "outputs": [
    {
     "name": "stdout",
     "output_type": "stream",
     "text": [
      "Confusion Matrix of Testing Dataset\n",
      " [[ 934   46   25   43   26   13]\n",
      " [  46  863  100   17   23   29]\n",
      " [   8   29 1015    6    1    0]\n",
      " [  28   13   11  983   15    7]\n",
      " [  15    3    7   17  965   74]\n",
      " [   0    2    0    0    5 1066]]\n"
     ]
    }
   ],
   "source": [
    "test_cm = confusion_matrix(y_test, y_test_pred)\n",
    "print(\"Confusion Matrix of Testing Dataset\\n\",test_cm)"
   ]
  },
  {
   "cell_type": "code",
   "execution_count": 95,
   "id": "700cfd83-ec9b-4787-8a9b-cea638916f58",
   "metadata": {},
   "outputs": [
    {
     "name": "stdout",
     "output_type": "stream",
     "text": [
      "Classification Report on Training Data:\n",
      "               precision    recall  f1-score   support\n",
      "\n",
      "           0       0.95      0.93      0.94      3850\n",
      "           1       0.95      0.88      0.91      3876\n",
      "           2       0.93      0.97      0.95      3888\n",
      "           3       0.95      0.96      0.95      3885\n",
      "           4       0.96      0.93      0.94      3855\n",
      "           5       0.92      1.00      0.96      3809\n",
      "\n",
      "    accuracy                           0.94     23163\n",
      "   macro avg       0.94      0.94      0.94     23163\n",
      "weighted avg       0.94      0.94      0.94     23163\n",
      "\n"
     ]
    }
   ],
   "source": [
    "print(\"Classification Report on Training Data:\\n\",classification_report(y_train, y_train_pred))"
   ]
  },
  {
   "cell_type": "code",
   "execution_count": 96,
   "id": "9b6a5542-521f-44c5-a377-bcd368c86130",
   "metadata": {},
   "outputs": [
    {
     "name": "stdout",
     "output_type": "stream",
     "text": [
      "Classification Report on Testing Data:\n",
      "               precision    recall  f1-score   support\n",
      "\n",
      "           0       0.91      0.86      0.88      1087\n",
      "           1       0.90      0.80      0.85      1078\n",
      "           2       0.88      0.96      0.92      1059\n",
      "           3       0.92      0.93      0.93      1057\n",
      "           4       0.93      0.89      0.91      1081\n",
      "           5       0.90      0.99      0.94      1073\n",
      "\n",
      "    accuracy                           0.91      6435\n",
      "   macro avg       0.91      0.91      0.90      6435\n",
      "weighted avg       0.91      0.91      0.90      6435\n",
      "\n"
     ]
    }
   ],
   "source": [
    "print(\"Classification Report on Testing Data:\\n\", classification_report(y_test, y_test_pred))"
   ]
  },
  {
   "cell_type": "markdown",
   "id": "de20d18e-602e-46c2-abef-735b23acda42",
   "metadata": {},
   "source": [
    "#### Hyeperparameter Tuning"
   ]
  },
  {
   "cell_type": "code",
   "execution_count": 97,
   "id": "fb60bae5-b8d9-41be-805e-29b6d5634f9f",
   "metadata": {},
   "outputs": [],
   "source": [
    "# Define a grid of hyperparameters to search over for Naive Bayes\n",
    "param_grid = {\n",
    "    'alpha': [0.1, 0.5, 1.0, 2.0, 5.0]  # Additive smoothing parameter\n",
    "}"
   ]
  },
  {
   "cell_type": "code",
   "execution_count": 98,
   "id": "c01e7780-a703-4c57-b155-f7dffbc8e754",
   "metadata": {},
   "outputs": [],
   "source": [
    "nb = MultinomialNB()"
   ]
  },
  {
   "cell_type": "code",
   "execution_count": 99,
   "id": "c96e7cb1-1aa3-4e4f-9285-62e4933557e3",
   "metadata": {},
   "outputs": [],
   "source": [
    "# Create a GridSearchCV object for Naive Bayes\n",
    "nb_grid = GridSearchCV(\n",
    "    estimator=nb,               # The Naive Bayes model\n",
    "    param_grid=param_grid,     # The grid of hyperparameters to search over\n",
    "    cv=5,                      # Cross-validation strategy (5-fold cross-validation)\n",
    "    scoring='accuracy',        # Scoring metric to optimize (accuracy)\n",
    "    n_jobs=-1,                 # Number of jobs to run in parallel (-1 uses all available CPU cores)\n",
    "    verbose=2                  # Controls the verbosity of the output (more details)\n",
    ")"
   ]
  },
  {
   "cell_type": "code",
   "execution_count": 100,
   "id": "a7a731a5-1a25-4cc1-b34c-33793c1a63a5",
   "metadata": {},
   "outputs": [
    {
     "name": "stdout",
     "output_type": "stream",
     "text": [
      "Fitting 5 folds for each of 5 candidates, totalling 25 fits\n"
     ]
    },
    {
     "data": {
      "text/html": [
       "<style>#sk-container-id-6 {color: black;background-color: white;}#sk-container-id-6 pre{padding: 0;}#sk-container-id-6 div.sk-toggleable {background-color: white;}#sk-container-id-6 label.sk-toggleable__label {cursor: pointer;display: block;width: 100%;margin-bottom: 0;padding: 0.3em;box-sizing: border-box;text-align: center;}#sk-container-id-6 label.sk-toggleable__label-arrow:before {content: \"▸\";float: left;margin-right: 0.25em;color: #696969;}#sk-container-id-6 label.sk-toggleable__label-arrow:hover:before {color: black;}#sk-container-id-6 div.sk-estimator:hover label.sk-toggleable__label-arrow:before {color: black;}#sk-container-id-6 div.sk-toggleable__content {max-height: 0;max-width: 0;overflow: hidden;text-align: left;background-color: #f0f8ff;}#sk-container-id-6 div.sk-toggleable__content pre {margin: 0.2em;color: black;border-radius: 0.25em;background-color: #f0f8ff;}#sk-container-id-6 input.sk-toggleable__control:checked~div.sk-toggleable__content {max-height: 200px;max-width: 100%;overflow: auto;}#sk-container-id-6 input.sk-toggleable__control:checked~label.sk-toggleable__label-arrow:before {content: \"▾\";}#sk-container-id-6 div.sk-estimator input.sk-toggleable__control:checked~label.sk-toggleable__label {background-color: #d4ebff;}#sk-container-id-6 div.sk-label input.sk-toggleable__control:checked~label.sk-toggleable__label {background-color: #d4ebff;}#sk-container-id-6 input.sk-hidden--visually {border: 0;clip: rect(1px 1px 1px 1px);clip: rect(1px, 1px, 1px, 1px);height: 1px;margin: -1px;overflow: hidden;padding: 0;position: absolute;width: 1px;}#sk-container-id-6 div.sk-estimator {font-family: monospace;background-color: #f0f8ff;border: 1px dotted black;border-radius: 0.25em;box-sizing: border-box;margin-bottom: 0.5em;}#sk-container-id-6 div.sk-estimator:hover {background-color: #d4ebff;}#sk-container-id-6 div.sk-parallel-item::after {content: \"\";width: 100%;border-bottom: 1px solid gray;flex-grow: 1;}#sk-container-id-6 div.sk-label:hover label.sk-toggleable__label {background-color: #d4ebff;}#sk-container-id-6 div.sk-serial::before {content: \"\";position: absolute;border-left: 1px solid gray;box-sizing: border-box;top: 0;bottom: 0;left: 50%;z-index: 0;}#sk-container-id-6 div.sk-serial {display: flex;flex-direction: column;align-items: center;background-color: white;padding-right: 0.2em;padding-left: 0.2em;position: relative;}#sk-container-id-6 div.sk-item {position: relative;z-index: 1;}#sk-container-id-6 div.sk-parallel {display: flex;align-items: stretch;justify-content: center;background-color: white;position: relative;}#sk-container-id-6 div.sk-item::before, #sk-container-id-6 div.sk-parallel-item::before {content: \"\";position: absolute;border-left: 1px solid gray;box-sizing: border-box;top: 0;bottom: 0;left: 50%;z-index: -1;}#sk-container-id-6 div.sk-parallel-item {display: flex;flex-direction: column;z-index: 1;position: relative;background-color: white;}#sk-container-id-6 div.sk-parallel-item:first-child::after {align-self: flex-end;width: 50%;}#sk-container-id-6 div.sk-parallel-item:last-child::after {align-self: flex-start;width: 50%;}#sk-container-id-6 div.sk-parallel-item:only-child::after {width: 0;}#sk-container-id-6 div.sk-dashed-wrapped {border: 1px dashed gray;margin: 0 0.4em 0.5em 0.4em;box-sizing: border-box;padding-bottom: 0.4em;background-color: white;}#sk-container-id-6 div.sk-label label {font-family: monospace;font-weight: bold;display: inline-block;line-height: 1.2em;}#sk-container-id-6 div.sk-label-container {text-align: center;}#sk-container-id-6 div.sk-container {/* jupyter's `normalize.less` sets `[hidden] { display: none; }` but bootstrap.min.css set `[hidden] { display: none !important; }` so we also need the `!important` here to be able to override the default hidden behavior on the sphinx rendered scikit-learn.org. See: https://github.com/scikit-learn/scikit-learn/issues/21755 */display: inline-block !important;position: relative;}#sk-container-id-6 div.sk-text-repr-fallback {display: none;}</style><div id=\"sk-container-id-6\" class=\"sk-top-container\"><div class=\"sk-text-repr-fallback\"><pre>GridSearchCV(cv=5, estimator=MultinomialNB(), n_jobs=-1,\n",
       "             param_grid={&#x27;alpha&#x27;: [0.1, 0.5, 1.0, 2.0, 5.0]},\n",
       "             scoring=&#x27;accuracy&#x27;, verbose=2)</pre><b>In a Jupyter environment, please rerun this cell to show the HTML representation or trust the notebook. <br />On GitHub, the HTML representation is unable to render, please try loading this page with nbviewer.org.</b></div><div class=\"sk-container\" hidden><div class=\"sk-item sk-dashed-wrapped\"><div class=\"sk-label-container\"><div class=\"sk-label sk-toggleable\"><input class=\"sk-toggleable__control sk-hidden--visually\" id=\"sk-estimator-id-10\" type=\"checkbox\" ><label for=\"sk-estimator-id-10\" class=\"sk-toggleable__label sk-toggleable__label-arrow\">GridSearchCV</label><div class=\"sk-toggleable__content\"><pre>GridSearchCV(cv=5, estimator=MultinomialNB(), n_jobs=-1,\n",
       "             param_grid={&#x27;alpha&#x27;: [0.1, 0.5, 1.0, 2.0, 5.0]},\n",
       "             scoring=&#x27;accuracy&#x27;, verbose=2)</pre></div></div></div><div class=\"sk-parallel\"><div class=\"sk-parallel-item\"><div class=\"sk-item\"><div class=\"sk-label-container\"><div class=\"sk-label sk-toggleable\"><input class=\"sk-toggleable__control sk-hidden--visually\" id=\"sk-estimator-id-11\" type=\"checkbox\" ><label for=\"sk-estimator-id-11\" class=\"sk-toggleable__label sk-toggleable__label-arrow\">estimator: MultinomialNB</label><div class=\"sk-toggleable__content\"><pre>MultinomialNB()</pre></div></div></div><div class=\"sk-serial\"><div class=\"sk-item\"><div class=\"sk-estimator sk-toggleable\"><input class=\"sk-toggleable__control sk-hidden--visually\" id=\"sk-estimator-id-12\" type=\"checkbox\" ><label for=\"sk-estimator-id-12\" class=\"sk-toggleable__label sk-toggleable__label-arrow\">MultinomialNB</label><div class=\"sk-toggleable__content\"><pre>MultinomialNB()</pre></div></div></div></div></div></div></div></div></div></div>"
      ],
      "text/plain": [
       "GridSearchCV(cv=5, estimator=MultinomialNB(), n_jobs=-1,\n",
       "             param_grid={'alpha': [0.1, 0.5, 1.0, 2.0, 5.0]},\n",
       "             scoring='accuracy', verbose=2)"
      ]
     },
     "execution_count": 100,
     "metadata": {},
     "output_type": "execute_result"
    }
   ],
   "source": [
    "nb_grid.fit(X_train, y_train)"
   ]
  },
  {
   "cell_type": "code",
   "execution_count": 101,
   "id": "c293658f-9634-4077-9575-f00b30d5255a",
   "metadata": {},
   "outputs": [
    {
     "name": "stdout",
     "output_type": "stream",
     "text": [
      "Best Parameters: {'alpha': 0.5}\n"
     ]
    }
   ],
   "source": [
    "print(\"Best Parameters:\", nb_grid.best_params_)\n",
    "param.append(nb_grid.best_params_)"
   ]
  },
  {
   "cell_type": "code",
   "execution_count": 102,
   "id": "c686baed-5c67-4cf2-91d3-5ac361d7e2a3",
   "metadata": {},
   "outputs": [],
   "source": [
    "best_nb = nb_grid.best_estimator_"
   ]
  },
  {
   "cell_type": "code",
   "execution_count": 103,
   "id": "65b9b39b-2733-413b-9cb9-707ba5851aaf",
   "metadata": {},
   "outputs": [],
   "source": [
    "# Make predictions on the training data using the best Naive Bayes model\n",
    "y_train_pred = best_nb.predict(X_train)\n",
    "# Make predictions on the testing data using the best Naive Bayes model\n",
    "y_test_pred = best_nb.predict(X_test)\n",
    "# Make predictions on the validation data using the best Naive Bayes model\n",
    "y_val_pred = best_nb.predict(X_val)"
   ]
  },
  {
   "cell_type": "code",
   "execution_count": 104,
   "id": "68d50d11-4431-4056-92b3-c97db7dccb35",
   "metadata": {},
   "outputs": [],
   "source": [
    "# Calculate the accuracy score for the training predictions using the best Naive Bayes model\n",
    "nb_train_hpt = accuracy_score(y_train, y_train_pred)\n",
    "# Calculate the accuracy score for the testing predictions using the best Naive Bayes model\n",
    "nb_test_hpt = accuracy_score(y_test, y_test_pred)\n",
    "# Calculate the accuracy score for the validation predictions using the best Naive Bayes model\n",
    "nb_val_hpt = accuracy_score(y_val, y_val_pred)"
   ]
  },
  {
   "cell_type": "code",
   "execution_count": 105,
   "id": "ed5e3996-35c4-4ecb-8868-77eba8a899e0",
   "metadata": {},
   "outputs": [
    {
     "name": "stdout",
     "output_type": "stream",
     "text": [
      "Training Accuracy with Best Estimator: 0.9495747528385787\n",
      "Testing Accuracy with Best Estimator: 0.9042735042735043\n",
      "Testing Accuracy with Best Estimator: 0.9075369075369075\n"
     ]
    }
   ],
   "source": [
    "print(\"Training Accuracy with Best Estimator:\", nb_train_hpt)\n",
    "print(\"Testing Accuracy with Best Estimator:\", nb_test_hpt)\n",
    "print(\"Testing Accuracy with Best Estimator:\", nb_val_hpt)"
   ]
  },
  {
   "cell_type": "code",
   "execution_count": 106,
   "id": "d9bb6ca8-cd69-4acb-9053-ebc4c96cf98b",
   "metadata": {},
   "outputs": [],
   "source": [
    "after_train.append(nb_train_hpt)\n",
    "after_test.append(nb_test_hpt)\n",
    "val.append(nb_val_hpt)"
   ]
  },
  {
   "cell_type": "code",
   "execution_count": 107,
   "id": "f9c47403-6c49-423c-ac92-9799857ae5c1",
   "metadata": {},
   "outputs": [
    {
     "name": "stdout",
     "output_type": "stream",
     "text": [
      "Confusion Matrix of Training Dataset\n",
      " [[3632   48   26   59   49   36]\n",
      " [  80 3461  196   42   34   63]\n",
      " [  15   73 3776   12    4    8]\n",
      " [  49   20   19 3724   63   10]\n",
      " [  36   17    6   42 3603  151]\n",
      " [   2    5    0    0    3 3799]]\n"
     ]
    }
   ],
   "source": [
    "cm = confusion_matrix(y_train, y_train_pred)\n",
    "print(\"Confusion Matrix of Training Dataset\\n\",cm)"
   ]
  },
  {
   "cell_type": "code",
   "execution_count": 108,
   "id": "24817323-0bf2-4d9c-a45c-3e77cc82273f",
   "metadata": {},
   "outputs": [
    {
     "data": {
      "image/png": "[encoded data removed]",
      "text/plain": [
       "<Figure size 640x480 with 2 Axes>"
      ]
     },
     "metadata": {},
     "output_type": "display_data"
    }
   ],
   "source": [
    "sns.heatmap(cm, annot=True,fmt='g', xticklabels=class_names.values(),yticklabels=class_names.values())\n",
    "plt.xlabel('Prediction',fontsize=13)\n",
    "plt.ylabel('Actual',fontsize=13)\n",
    "plt.title('Confusion Matrix of Training Dataset',fontsize=12)\n",
    "plt.show()"
   ]
  },
  {
   "cell_type": "code",
   "execution_count": 109,
   "id": "8e9a7c64-f2c5-4e4f-abb8-173eb42f03dc",
   "metadata": {},
   "outputs": [
    {
     "name": "stdout",
     "output_type": "stream",
     "text": [
      "Confusion Matrix of Testing Dataset\n",
      " [[ 931   47   23   45   28   13]\n",
      " [  53  857   91   21   29   27]\n",
      " [   9   30 1011    7    2    0]\n",
      " [  26   19    9  979   16    8]\n",
      " [  13    6    9   16  975   62]\n",
      " [   0    2    0    0    5 1066]]\n"
     ]
    }
   ],
   "source": [
    "test_cm = confusion_matrix(y_test, y_test_pred)\n",
    "print(\"Confusion Matrix of Testing Dataset\\n\",test_cm)"
   ]
  },
  {
   "cell_type": "code",
   "execution_count": 110,
   "id": "d738b4e6-8522-4b77-9d88-2ac6d8f5002e",
   "metadata": {},
   "outputs": [
    {
     "data": {
      "image/png": "[encoded data removed]",
      "text/plain": [
       "<Figure size 640x480 with 2 Axes>"
      ]
     },
     "metadata": {},
     "output_type": "display_data"
    }
   ],
   "source": [
    "sns.heatmap(test_cm, annot=True,fmt='g', xticklabels=class_names.values(),yticklabels=class_names.values())\n",
    "plt.xlabel('Prediction',fontsize=13)\n",
    "plt.ylabel('Actual',fontsize=13)\n",
    "plt.title('Confusion Matrix of Testing Dataset',fontsize=12)\n",
    "plt.show()"
   ]
  },
  {
   "cell_type": "code",
   "execution_count": 111,
   "id": "7b384ae6-4850-4202-8af0-eed99c25e5fb",
   "metadata": {},
   "outputs": [
    {
     "name": "stdout",
     "output_type": "stream",
     "text": [
      "Classification Report on Training Data:\n",
      "               precision    recall  f1-score   support\n",
      "\n",
      "           0       0.95      0.94      0.95      3850\n",
      "           1       0.96      0.89      0.92      3876\n",
      "           2       0.94      0.97      0.95      3888\n",
      "           3       0.96      0.96      0.96      3885\n",
      "           4       0.96      0.93      0.95      3855\n",
      "           5       0.93      1.00      0.96      3809\n",
      "\n",
      "    accuracy                           0.95     23163\n",
      "   macro avg       0.95      0.95      0.95     23163\n",
      "weighted avg       0.95      0.95      0.95     23163\n",
      "\n"
     ]
    }
   ],
   "source": [
    "print(\"Classification Report on Training Data:\\n\",classification_report(y_train, y_train_pred))"
   ]
  },
  {
   "cell_type": "code",
   "execution_count": 112,
   "id": "e30e65bf-73da-416d-82ff-6eb74ff5e34c",
   "metadata": {},
   "outputs": [
    {
     "name": "stdout",
     "output_type": "stream",
     "text": [
      "Classification Report on Testing Data:\n",
      "               precision    recall  f1-score   support\n",
      "\n",
      "           0       0.90      0.86      0.88      1087\n",
      "           1       0.89      0.79      0.84      1078\n",
      "           2       0.88      0.95      0.92      1059\n",
      "           3       0.92      0.93      0.92      1057\n",
      "           4       0.92      0.90      0.91      1081\n",
      "           5       0.91      0.99      0.95      1073\n",
      "\n",
      "    accuracy                           0.90      6435\n",
      "   macro avg       0.90      0.90      0.90      6435\n",
      "weighted avg       0.90      0.90      0.90      6435\n",
      "\n"
     ]
    }
   ],
   "source": [
    "report_nb=classification_report(y_test, y_test_pred,output_dict=True)\n",
    "print(\"Classification Report on Testing Data:\\n\", classification_report(y_test, y_test_pred))"
   ]
  },
  {
   "cell_type": "code",
   "execution_count": 113,
   "id": "952618e3-8805-4a89-bbb3-7ae43913780d",
   "metadata": {},
   "outputs": [
    {
     "name": "stdout",
     "output_type": "stream",
     "text": [
      "Classification Report on Validation Data:\n",
      "               precision    recall  f1-score   support\n",
      "\n",
      "           0       0.92      0.83      0.87       425\n",
      "           1       0.86      0.81      0.84       408\n",
      "           2       0.87      0.95      0.91       415\n",
      "           3       0.91      0.95      0.93       420\n",
      "           4       0.93      0.90      0.92       426\n",
      "           5       0.94      0.99      0.96       480\n",
      "\n",
      "    accuracy                           0.91      2574\n",
      "   macro avg       0.91      0.91      0.90      2574\n",
      "weighted avg       0.91      0.91      0.91      2574\n",
      "\n"
     ]
    }
   ],
   "source": [
    "print(\"Classification Report on Validation Data:\\n\",classification_report(y_val, y_val_pred))"
   ]
  },
  {
   "cell_type": "markdown",
   "id": "f94a47e1-d37c-4c4a-a11e-a1cae1aa1977",
   "metadata": {},
   "source": [
    "### Linear Support Vector Machine"
   ]
  },
  {
   "cell_type": "code",
   "execution_count": 114,
   "id": "b28c4546-3589-485d-b5d2-709a07b6acd3",
   "metadata": {},
   "outputs": [
    {
     "data": {
      "text/html": [
       "<style>#sk-container-id-7 {color: black;background-color: white;}#sk-container-id-7 pre{padding: 0;}#sk-container-id-7 div.sk-toggleable {background-color: white;}#sk-container-id-7 label.sk-toggleable__label {cursor: pointer;display: block;width: 100%;margin-bottom: 0;padding: 0.3em;box-sizing: border-box;text-align: center;}#sk-container-id-7 label.sk-toggleable__label-arrow:before {content: \"▸\";float: left;margin-right: 0.25em;color: #696969;}#sk-container-id-7 label.sk-toggleable__label-arrow:hover:before {color: black;}#sk-container-id-7 div.sk-estimator:hover label.sk-toggleable__label-arrow:before {color: black;}#sk-container-id-7 div.sk-toggleable__content {max-height: 0;max-width: 0;overflow: hidden;text-align: left;background-color: #f0f8ff;}#sk-container-id-7 div.sk-toggleable__content pre {margin: 0.2em;color: black;border-radius: 0.25em;background-color: #f0f8ff;}#sk-container-id-7 input.sk-toggleable__control:checked~div.sk-toggleable__content {max-height: 200px;max-width: 100%;overflow: auto;}#sk-container-id-7 input.sk-toggleable__control:checked~label.sk-toggleable__label-arrow:before {content: \"▾\";}#sk-container-id-7 div.sk-estimator input.sk-toggleable__control:checked~label.sk-toggleable__label {background-color: #d4ebff;}#sk-container-id-7 div.sk-label input.sk-toggleable__control:checked~label.sk-toggleable__label {background-color: #d4ebff;}#sk-container-id-7 input.sk-hidden--visually {border: 0;clip: rect(1px 1px 1px 1px);clip: rect(1px, 1px, 1px, 1px);height: 1px;margin: -1px;overflow: hidden;padding: 0;position: absolute;width: 1px;}#sk-container-id-7 div.sk-estimator {font-family: monospace;background-color: #f0f8ff;border: 1px dotted black;border-radius: 0.25em;box-sizing: border-box;margin-bottom: 0.5em;}#sk-container-id-7 div.sk-estimator:hover {background-color: #d4ebff;}#sk-container-id-7 div.sk-parallel-item::after {content: \"\";width: 100%;border-bottom: 1px solid gray;flex-grow: 1;}#sk-container-id-7 div.sk-label:hover label.sk-toggleable__label {background-color: #d4ebff;}#sk-container-id-7 div.sk-serial::before {content: \"\";position: absolute;border-left: 1px solid gray;box-sizing: border-box;top: 0;bottom: 0;left: 50%;z-index: 0;}#sk-container-id-7 div.sk-serial {display: flex;flex-direction: column;align-items: center;background-color: white;padding-right: 0.2em;padding-left: 0.2em;position: relative;}#sk-container-id-7 div.sk-item {position: relative;z-index: 1;}#sk-container-id-7 div.sk-parallel {display: flex;align-items: stretch;justify-content: center;background-color: white;position: relative;}#sk-container-id-7 div.sk-item::before, #sk-container-id-7 div.sk-parallel-item::before {content: \"\";position: absolute;border-left: 1px solid gray;box-sizing: border-box;top: 0;bottom: 0;left: 50%;z-index: -1;}#sk-container-id-7 div.sk-parallel-item {display: flex;flex-direction: column;z-index: 1;position: relative;background-color: white;}#sk-container-id-7 div.sk-parallel-item:first-child::after {align-self: flex-end;width: 50%;}#sk-container-id-7 div.sk-parallel-item:last-child::after {align-self: flex-start;width: 50%;}#sk-container-id-7 div.sk-parallel-item:only-child::after {width: 0;}#sk-container-id-7 div.sk-dashed-wrapped {border: 1px dashed gray;margin: 0 0.4em 0.5em 0.4em;box-sizing: border-box;padding-bottom: 0.4em;background-color: white;}#sk-container-id-7 div.sk-label label {font-family: monospace;font-weight: bold;display: inline-block;line-height: 1.2em;}#sk-container-id-7 div.sk-label-container {text-align: center;}#sk-container-id-7 div.sk-container {/* jupyter's `normalize.less` sets `[hidden] { display: none; }` but bootstrap.min.css set `[hidden] { display: none !important; }` so we also need the `!important` here to be able to override the default hidden behavior on the sphinx rendered scikit-learn.org. See: https://github.com/scikit-learn/scikit-learn/issues/21755 */display: inline-block !important;position: relative;}#sk-container-id-7 div.sk-text-repr-fallback {display: none;}</style><div id=\"sk-container-id-7\" class=\"sk-top-container\"><div class=\"sk-text-repr-fallback\"><pre>SVC(kernel=&#x27;linear&#x27;)</pre><b>In a Jupyter environment, please rerun this cell to show the HTML representation or trust the notebook. <br />On GitHub, the HTML representation is unable to render, please try loading this page with nbviewer.org.</b></div><div class=\"sk-container\" hidden><div class=\"sk-item\"><div class=\"sk-estimator sk-toggleable\"><input class=\"sk-toggleable__control sk-hidden--visually\" id=\"sk-estimator-id-13\" type=\"checkbox\" checked><label for=\"sk-estimator-id-13\" class=\"sk-toggleable__label sk-toggleable__label-arrow\">SVC</label><div class=\"sk-toggleable__content\"><pre>SVC(kernel=&#x27;linear&#x27;)</pre></div></div></div></div></div>"
      ],
      "text/plain": [
       "SVC(kernel='linear')"
      ]
     },
     "execution_count": 114,
     "metadata": {},
     "output_type": "execute_result"
    }
   ],
   "source": [
    "svm_classifier = SVC(kernel='linear')\n",
    "svm_classifier.fit(X_train, y_train)"
   ]
  },
  {
   "cell_type": "code",
   "execution_count": 115,
   "id": "0e59ebc2-ce8a-4837-a383-6151cc04ddfb",
   "metadata": {},
   "outputs": [],
   "source": [
    "y_train_pred = svm_classifier.predict(X_train)\n",
    "y_test_pred = svm_classifier.predict(X_test)"
   ]
  },
  {
   "cell_type": "code",
   "execution_count": 116,
   "id": "c0adde1a-a3ce-4de5-bbd9-29192b7adbfc",
   "metadata": {},
   "outputs": [],
   "source": [
    "svm_train_acc = accuracy_score(y_train, y_train_pred)\n",
    "svm_test_acc = accuracy_score(y_test, y_test_pred)"
   ]
  },
  {
   "cell_type": "code",
   "execution_count": 117,
   "id": "8bfdf867-bdb4-4ba2-8863-81df30b2c81a",
   "metadata": {},
   "outputs": [
    {
     "name": "stdout",
     "output_type": "stream",
     "text": [
      "Training Accuracy: 0.9671458792039028\n",
      "Testing Accuracy: 0.9317793317793318\n"
     ]
    }
   ],
   "source": [
    "print(\"Training Accuracy:\", svm_train_acc)\n",
    "print(\"Testing Accuracy:\", svm_test_acc)"
   ]
  },
  {
   "cell_type": "code",
   "execution_count": 118,
   "id": "1bc06298-b8bf-4eb8-8d75-f6afe0ba4987",
   "metadata": {},
   "outputs": [],
   "source": [
    "before_train.append(svm_train_acc)\n",
    "before_test.append(svm_test_acc)"
   ]
  },
  {
   "cell_type": "code",
   "execution_count": 119,
   "id": "d6efbafc-761b-4465-a506-19f0f60ca02d",
   "metadata": {},
   "outputs": [
    {
     "name": "stdout",
     "output_type": "stream",
     "text": [
      "Confusion Matrix of Training Dataset\n",
      " [[3657   28   23   70   50   22]\n",
      " [  51 3566  159   41   26   33]\n",
      " [   2   28 3853    4    0    1]\n",
      " [  28    9    7 3816   24    1]\n",
      " [  13    5    6   28 3704   99]\n",
      " [   0    0    0    0    3 3806]]\n"
     ]
    }
   ],
   "source": [
    "cm = confusion_matrix(y_train,y_train_pred)\n",
    "print(\"Confusion Matrix of Training Dataset\\n\",cm)"
   ]
  },
  {
   "cell_type": "code",
   "execution_count": 120,
   "id": "9d6563b4-97b2-4e32-9f32-aaa7820b4621",
   "metadata": {},
   "outputs": [
    {
     "name": "stdout",
     "output_type": "stream",
     "text": [
      "Confusion Matrix of Testing Dataset\n",
      " [[ 966   33   18   37   25    8]\n",
      " [  33  922   79   13   14   17]\n",
      " [   3   27 1027    1    1    0]\n",
      " [  21   12    3 1010   11    0]\n",
      " [  10    8    2   17 1001   43]\n",
      " [   0    0    0    0    3 1070]]\n"
     ]
    }
   ],
   "source": [
    "test_cm = confusion_matrix(y_test, y_test_pred)\n",
    "print(\"Confusion Matrix of Testing Dataset\\n\",test_cm)"
   ]
  },
  {
   "cell_type": "code",
   "execution_count": 121,
   "id": "366333c1-9776-4c18-a567-fd23d4b7212b",
   "metadata": {},
   "outputs": [
    {
     "name": "stdout",
     "output_type": "stream",
     "text": [
      "Classification Report on Training Data:\n",
      "               precision    recall  f1-score   support\n",
      "\n",
      "           0       0.97      0.95      0.96      3850\n",
      "           1       0.98      0.92      0.95      3876\n",
      "           2       0.95      0.99      0.97      3888\n",
      "           3       0.96      0.98      0.97      3885\n",
      "           4       0.97      0.96      0.97      3855\n",
      "           5       0.96      1.00      0.98      3809\n",
      "\n",
      "    accuracy                           0.97     23163\n",
      "   macro avg       0.97      0.97      0.97     23163\n",
      "weighted avg       0.97      0.97      0.97     23163\n",
      "\n"
     ]
    }
   ],
   "source": [
    "print(\"Classification Report on Training Data:\\n\",classification_report(y_train, y_train_pred))"
   ]
  },
  {
   "cell_type": "code",
   "execution_count": 122,
   "id": "cf4652a6-d219-482e-95b9-9f0df20ccba3",
   "metadata": {},
   "outputs": [
    {
     "name": "stdout",
     "output_type": "stream",
     "text": [
      "Classification Report on Testing Data:\n",
      "               precision    recall  f1-score   support\n",
      "\n",
      "           0       0.94      0.89      0.91      1087\n",
      "           1       0.92      0.86      0.89      1078\n",
      "           2       0.91      0.97      0.94      1059\n",
      "           3       0.94      0.96      0.95      1057\n",
      "           4       0.95      0.93      0.94      1081\n",
      "           5       0.94      1.00      0.97      1073\n",
      "\n",
      "    accuracy                           0.93      6435\n",
      "   macro avg       0.93      0.93      0.93      6435\n",
      "weighted avg       0.93      0.93      0.93      6435\n",
      "\n"
     ]
    }
   ],
   "source": [
    "print(\"Classification Report on Testing Data:\\n\", classification_report(y_test, y_test_pred))"
   ]
  },
  {
   "cell_type": "markdown",
   "id": "3cac7204-7a77-479c-801d-edd214ae66f7",
   "metadata": {},
   "source": [
    "#### Hyeperparameter Tuning"
   ]
  },
  {
   "cell_type": "code",
   "execution_count": 123,
   "id": "bc7b3460-4e89-40ae-8e90-d0d8aedafe0f",
   "metadata": {},
   "outputs": [],
   "source": [
    "# Define a grid of hyperparameters to search over for Support Vector Machine (SVM)\n",
    "param_grid = {\n",
    "    'C': [0.01, 0.1, 1, 10]  # Regularization parameter\n",
    "}"
   ]
  },
  {
   "cell_type": "code",
   "execution_count": 124,
   "id": "1cd9dca0-7362-4e7e-93fe-cc2d3014e34a",
   "metadata": {},
   "outputs": [],
   "source": [
    "svm_classifier = SVC(kernel='linear')"
   ]
  },
  {
   "cell_type": "code",
   "execution_count": 125,
   "id": "f7881be8-100e-40b5-a1d7-6f0b7927f622",
   "metadata": {},
   "outputs": [],
   "source": [
    "# Create a GridSearchCV object for Support Vector Machine (SVM)\n",
    "svm_grid = GridSearchCV(\n",
    "    estimator=svm_classifier,   # The SVM classifier\n",
    "    param_grid=param_grid,      # The grid of hyperparameters to search over\n",
    "    cv=5,                       # Cross-validation strategy (5-fold cross-validation)\n",
    "    scoring='accuracy',         # Scoring metric to optimize (accuracy)\n",
    "    n_jobs=-1,                  # Number of jobs to run in parallel (-1 uses all available CPU cores)\n",
    "    verbose=2                   # Controls the verbosity of the output (more details)\n",
    ")"
   ]
  },
  {
   "cell_type": "code",
   "execution_count": 126,
   "id": "01934d7b-7184-4f5f-8fa6-72afb4e0703a",
   "metadata": {},
   "outputs": [
    {
     "name": "stdout",
     "output_type": "stream",
     "text": [
      "Fitting 5 folds for each of 4 candidates, totalling 20 fits\n"
     ]
    },
    {
     "data": {
      "text/html": [
       "<style>#sk-container-id-8 {color: black;background-color: white;}#sk-container-id-8 pre{padding: 0;}#sk-container-id-8 div.sk-toggleable {background-color: white;}#sk-container-id-8 label.sk-toggleable__label {cursor: pointer;display: block;width: 100%;margin-bottom: 0;padding: 0.3em;box-sizing: border-box;text-align: center;}#sk-container-id-8 label.sk-toggleable__label-arrow:before {content: \"▸\";float: left;margin-right: 0.25em;color: #696969;}#sk-container-id-8 label.sk-toggleable__label-arrow:hover:before {color: black;}#sk-container-id-8 div.sk-estimator:hover label.sk-toggleable__label-arrow:before {color: black;}#sk-container-id-8 div.sk-toggleable__content {max-height: 0;max-width: 0;overflow: hidden;text-align: left;background-color: #f0f8ff;}#sk-container-id-8 div.sk-toggleable__content pre {margin: 0.2em;color: black;border-radius: 0.25em;background-color: #f0f8ff;}#sk-container-id-8 input.sk-toggleable__control:checked~div.sk-toggleable__content {max-height: 200px;max-width: 100%;overflow: auto;}#sk-container-id-8 input.sk-toggleable__control:checked~label.sk-toggleable__label-arrow:before {content: \"▾\";}#sk-container-id-8 div.sk-estimator input.sk-toggleable__control:checked~label.sk-toggleable__label {background-color: #d4ebff;}#sk-container-id-8 div.sk-label input.sk-toggleable__control:checked~label.sk-toggleable__label {background-color: #d4ebff;}#sk-container-id-8 input.sk-hidden--visually {border: 0;clip: rect(1px 1px 1px 1px);clip: rect(1px, 1px, 1px, 1px);height: 1px;margin: -1px;overflow: hidden;padding: 0;position: absolute;width: 1px;}#sk-container-id-8 div.sk-estimator {font-family: monospace;background-color: #f0f8ff;border: 1px dotted black;border-radius: 0.25em;box-sizing: border-box;margin-bottom: 0.5em;}#sk-container-id-8 div.sk-estimator:hover {background-color: #d4ebff;}#sk-container-id-8 div.sk-parallel-item::after {content: \"\";width: 100%;border-bottom: 1px solid gray;flex-grow: 1;}#sk-container-id-8 div.sk-label:hover label.sk-toggleable__label {background-color: #d4ebff;}#sk-container-id-8 div.sk-serial::before {content: \"\";position: absolute;border-left: 1px solid gray;box-sizing: border-box;top: 0;bottom: 0;left: 50%;z-index: 0;}#sk-container-id-8 div.sk-serial {display: flex;flex-direction: column;align-items: center;background-color: white;padding-right: 0.2em;padding-left: 0.2em;position: relative;}#sk-container-id-8 div.sk-item {position: relative;z-index: 1;}#sk-container-id-8 div.sk-parallel {display: flex;align-items: stretch;justify-content: center;background-color: white;position: relative;}#sk-container-id-8 div.sk-item::before, #sk-container-id-8 div.sk-parallel-item::before {content: \"\";position: absolute;border-left: 1px solid gray;box-sizing: border-box;top: 0;bottom: 0;left: 50%;z-index: -1;}#sk-container-id-8 div.sk-parallel-item {display: flex;flex-direction: column;z-index: 1;position: relative;background-color: white;}#sk-container-id-8 div.sk-parallel-item:first-child::after {align-self: flex-end;width: 50%;}#sk-container-id-8 div.sk-parallel-item:last-child::after {align-self: flex-start;width: 50%;}#sk-container-id-8 div.sk-parallel-item:only-child::after {width: 0;}#sk-container-id-8 div.sk-dashed-wrapped {border: 1px dashed gray;margin: 0 0.4em 0.5em 0.4em;box-sizing: border-box;padding-bottom: 0.4em;background-color: white;}#sk-container-id-8 div.sk-label label {font-family: monospace;font-weight: bold;display: inline-block;line-height: 1.2em;}#sk-container-id-8 div.sk-label-container {text-align: center;}#sk-container-id-8 div.sk-container {/* jupyter's `normalize.less` sets `[hidden] { display: none; }` but bootstrap.min.css set `[hidden] { display: none !important; }` so we also need the `!important` here to be able to override the default hidden behavior on the sphinx rendered scikit-learn.org. See: https://github.com/scikit-learn/scikit-learn/issues/21755 */display: inline-block !important;position: relative;}#sk-container-id-8 div.sk-text-repr-fallback {display: none;}</style><div id=\"sk-container-id-8\" class=\"sk-top-container\"><div class=\"sk-text-repr-fallback\"><pre>GridSearchCV(cv=5, estimator=SVC(kernel=&#x27;linear&#x27;), n_jobs=-1,\n",
       "             param_grid={&#x27;C&#x27;: [0.01, 0.1, 1, 10]}, scoring=&#x27;accuracy&#x27;,\n",
       "             verbose=2)</pre><b>In a Jupyter environment, please rerun this cell to show the HTML representation or trust the notebook. <br />On GitHub, the HTML representation is unable to render, please try loading this page with nbviewer.org.</b></div><div class=\"sk-container\" hidden><div class=\"sk-item sk-dashed-wrapped\"><div class=\"sk-label-container\"><div class=\"sk-label sk-toggleable\"><input class=\"sk-toggleable__control sk-hidden--visually\" id=\"sk-estimator-id-14\" type=\"checkbox\" ><label for=\"sk-estimator-id-14\" class=\"sk-toggleable__label sk-toggleable__label-arrow\">GridSearchCV</label><div class=\"sk-toggleable__content\"><pre>GridSearchCV(cv=5, estimator=SVC(kernel=&#x27;linear&#x27;), n_jobs=-1,\n",
       "             param_grid={&#x27;C&#x27;: [0.01, 0.1, 1, 10]}, scoring=&#x27;accuracy&#x27;,\n",
       "             verbose=2)</pre></div></div></div><div class=\"sk-parallel\"><div class=\"sk-parallel-item\"><div class=\"sk-item\"><div class=\"sk-label-container\"><div class=\"sk-label sk-toggleable\"><input class=\"sk-toggleable__control sk-hidden--visually\" id=\"sk-estimator-id-15\" type=\"checkbox\" ><label for=\"sk-estimator-id-15\" class=\"sk-toggleable__label sk-toggleable__label-arrow\">estimator: SVC</label><div class=\"sk-toggleable__content\"><pre>SVC(kernel=&#x27;linear&#x27;)</pre></div></div></div><div class=\"sk-serial\"><div class=\"sk-item\"><div class=\"sk-estimator sk-toggleable\"><input class=\"sk-toggleable__control sk-hidden--visually\" id=\"sk-estimator-id-16\" type=\"checkbox\" ><label for=\"sk-estimator-id-16\" class=\"sk-toggleable__label sk-toggleable__label-arrow\">SVC</label><div class=\"sk-toggleable__content\"><pre>SVC(kernel=&#x27;linear&#x27;)</pre></div></div></div></div></div></div></div></div></div></div>"
      ],
      "text/plain": [
       "GridSearchCV(cv=5, estimator=SVC(kernel='linear'), n_jobs=-1,\n",
       "             param_grid={'C': [0.01, 0.1, 1, 10]}, scoring='accuracy',\n",
       "             verbose=2)"
      ]
     },
     "execution_count": 126,
     "metadata": {},
     "output_type": "execute_result"
    }
   ],
   "source": [
    "svm_grid.fit(X_train, y_train)"
   ]
  },
  {
   "cell_type": "code",
   "execution_count": 127,
   "id": "8cd69287-b34b-4870-8d34-877b9fb2fb05",
   "metadata": {},
   "outputs": [
    {
     "name": "stdout",
     "output_type": "stream",
     "text": [
      "Best Parameters: {'C': 10}\n"
     ]
    }
   ],
   "source": [
    "print(\"Best Parameters:\", svm_grid.best_params_)\n",
    "param.append(svm_grid.best_params_)"
   ]
  },
  {
   "cell_type": "code",
   "execution_count": 128,
   "id": "389185b8-f2a5-4315-af4b-2884373eebe4",
   "metadata": {},
   "outputs": [],
   "source": [
    "best_svm = svm_grid.best_estimator_"
   ]
  },
  {
   "cell_type": "code",
   "execution_count": 129,
   "id": "2db68c0c-16a9-4830-aba0-e5970a90632e",
   "metadata": {},
   "outputs": [],
   "source": [
    "y_train_pred = best_svm.predict(X_train)\n",
    "y_test_pred = best_svm.predict(X_test)\n",
    "y_val_pred = best_svm.predict(X_val)"
   ]
  },
  {
   "cell_type": "code",
   "execution_count": 130,
   "id": "1696498a-57e7-44e6-9638-b2ff7f515f39",
   "metadata": {},
   "outputs": [],
   "source": [
    "svm_train_hpt = accuracy_score(y_train, y_train_pred)\n",
    "svm_test_hpt = accuracy_score(y_test, y_test_pred)\n",
    "svm_val_hpt = accuracy_score(y_val, y_val_pred)"
   ]
  },
  {
   "cell_type": "code",
   "execution_count": 131,
   "id": "33c5df76-4afa-42df-80fa-f3691ee88021",
   "metadata": {},
   "outputs": [
    {
     "name": "stdout",
     "output_type": "stream",
     "text": [
      "Training Accuracy with Best Estimator: 0.9936536718041704\n",
      "Testing Accuracy with Best Estimator: 0.9358197358197358\n",
      "Validation Accuracy with Best Estimator: 0.9374514374514374\n"
     ]
    }
   ],
   "source": [
    "print(\"Training Accuracy with Best Estimator:\", svm_train_hpt)\n",
    "print(\"Testing Accuracy with Best Estimator:\", svm_test_hpt)\n",
    "print(\"Validation Accuracy with Best Estimator:\", svm_val_hpt)"
   ]
  },
  {
   "cell_type": "code",
   "execution_count": 132,
   "id": "f4279abc-4aa8-4b2c-85be-4640e13b6ff8",
   "metadata": {},
   "outputs": [],
   "source": [
    "after_train.append(svm_train_hpt)\n",
    "after_test.append(svm_test_hpt)\n",
    "val.append(svm_val_hpt)"
   ]
  },
  {
   "cell_type": "code",
   "execution_count": 133,
   "id": "76d13403-3695-4bf4-949f-909f13ec02d0",
   "metadata": {},
   "outputs": [
    {
     "name": "stdout",
     "output_type": "stream",
     "text": [
      "Confusion Matrix of Training Dataset\n",
      " [[3815    6    0   21    7    1]\n",
      " [   7 3823   37    2    3    4]\n",
      " [   0    1 3887    0    0    0]\n",
      " [   3    0    0 3870   12    0]\n",
      " [   1    0    0   12 3812   30]\n",
      " [   0    0    0    0    0 3809]]\n"
     ]
    }
   ],
   "source": [
    "cm = confusion_matrix(y_train, y_train_pred)\n",
    "print(\"Confusion Matrix of Training Dataset\\n\",cm)"
   ]
  },
  {
   "cell_type": "code",
   "execution_count": 134,
   "id": "b2576d2e-d2ff-4249-a7f2-7cbb8842ba11",
   "metadata": {},
   "outputs": [
    {
     "data": {
      "image/png": "[encoded data removed]",
      "text/plain": [
       "<Figure size 640x480 with 2 Axes>"
      ]
     },
     "metadata": {},
     "output_type": "display_data"
    }
   ],
   "source": [
    "sns.heatmap(cm, annot=True,fmt='g', xticklabels=class_names.values(),yticklabels=class_names.values())\n",
    "plt.xlabel('Prediction',fontsize=13)\n",
    "plt.ylabel('Actual',fontsize=13)\n",
    "plt.title('Confusion Matrix of Training Dataset',fontsize=12)\n",
    "plt.show()"
   ]
  },
  {
   "cell_type": "code",
   "execution_count": 135,
   "id": "0d51177e-efca-4c14-8dad-ff8d8a035cae",
   "metadata": {},
   "outputs": [
    {
     "name": "stdout",
     "output_type": "stream",
     "text": [
      "Confusion Matrix of Testing Dataset\n",
      " [[ 967   44   12   42   17    5]\n",
      " [  51  930   66   13    8   10]\n",
      " [   2   18 1037    1    1    0]\n",
      " [  30   19    3  997    8    0]\n",
      " [  15   10    4   11 1020   21]\n",
      " [   0    2    0    0    0 1071]]\n"
     ]
    }
   ],
   "source": [
    "test_cm = confusion_matrix(y_test, y_test_pred)\n",
    "print(\"Confusion Matrix of Testing Dataset\\n\",test_cm)"
   ]
  },
  {
   "cell_type": "code",
   "execution_count": 136,
   "id": "15eef977-d471-4698-b441-7e9199393b13",
   "metadata": {},
   "outputs": [
    {
     "data": {
      "image/png": "[encoded data removed]",
      "text/plain": [
       "<Figure size 640x480 with 2 Axes>"
      ]
     },
     "metadata": {},
     "output_type": "display_data"
    }
   ],
   "source": [
    "sns.heatmap(test_cm, annot=True,fmt='g', xticklabels=class_names.values(),yticklabels=class_names.values())\n",
    "plt.xlabel('Prediction',fontsize=13)\n",
    "plt.ylabel('Actual',fontsize=13)\n",
    "plt.title('Confusion Matrix of Testing Dataset',fontsize=12)\n",
    "plt.show()"
   ]
  },
  {
   "cell_type": "code",
   "execution_count": 137,
   "id": "bcb8ecb6-90c7-4cdb-865f-886fff551698",
   "metadata": {},
   "outputs": [
    {
     "name": "stdout",
     "output_type": "stream",
     "text": [
      "Classification Report on Training Data:\n",
      "               precision    recall  f1-score   support\n",
      "\n",
      "           0       1.00      0.99      0.99      3850\n",
      "           1       1.00      0.99      0.99      3876\n",
      "           2       0.99      1.00      1.00      3888\n",
      "           3       0.99      1.00      0.99      3885\n",
      "           4       0.99      0.99      0.99      3855\n",
      "           5       0.99      1.00      1.00      3809\n",
      "\n",
      "    accuracy                           0.99     23163\n",
      "   macro avg       0.99      0.99      0.99     23163\n",
      "weighted avg       0.99      0.99      0.99     23163\n",
      "\n"
     ]
    }
   ],
   "source": [
    "print(\"Classification Report on Training Data:\\n\",classification_report(y_train, y_train_pred))"
   ]
  },
  {
   "cell_type": "code",
   "execution_count": 138,
   "id": "c7fde1f0-2167-4783-b5ab-08e10ed9454b",
   "metadata": {},
   "outputs": [
    {
     "name": "stdout",
     "output_type": "stream",
     "text": [
      "Classification Report on Testing Data:\n",
      "               precision    recall  f1-score   support\n",
      "\n",
      "           0       0.91      0.89      0.90      1087\n",
      "           1       0.91      0.86      0.89      1078\n",
      "           2       0.92      0.98      0.95      1059\n",
      "           3       0.94      0.94      0.94      1057\n",
      "           4       0.97      0.94      0.96      1081\n",
      "           5       0.97      1.00      0.98      1073\n",
      "\n",
      "    accuracy                           0.94      6435\n",
      "   macro avg       0.94      0.94      0.94      6435\n",
      "weighted avg       0.94      0.94      0.94      6435\n",
      "\n"
     ]
    }
   ],
   "source": [
    "report_svm=classification_report(y_test, y_test_pred,output_dict=True)\n",
    "print(\"Classification Report on Testing Data:\\n\", classification_report(y_test, y_test_pred))"
   ]
  },
  {
   "cell_type": "code",
   "execution_count": 139,
   "id": "bcb85cae-0e8a-4650-bf07-6e507f8e6990",
   "metadata": {},
   "outputs": [
    {
     "name": "stdout",
     "output_type": "stream",
     "text": [
      "Classification Report on Validation Data:\n",
      "               precision    recall  f1-score   support\n",
      "\n",
      "           0       0.92      0.88      0.90       425\n",
      "           1       0.88      0.87      0.87       408\n",
      "           2       0.92      0.97      0.94       415\n",
      "           3       0.95      0.95      0.95       420\n",
      "           4       0.98      0.95      0.96       426\n",
      "           5       0.97      1.00      0.99       480\n",
      "\n",
      "    accuracy                           0.94      2574\n",
      "   macro avg       0.94      0.94      0.94      2574\n",
      "weighted avg       0.94      0.94      0.94      2574\n",
      "\n"
     ]
    }
   ],
   "source": [
    "print(\"Classification Report on Validation Data:\\n\",classification_report(y_val, y_val_pred))"
   ]
  },
  {
   "cell_type": "markdown",
   "id": "34c2fd09-cb2c-4e05-89c5-0f26c3ac7448",
   "metadata": {},
   "source": [
    "### XGBoost Algorithm"
   ]
  },
  {
   "cell_type": "code",
   "execution_count": 140,
   "id": "9eb281aa-1af4-41e7-8c93-22e67721f221",
   "metadata": {},
   "outputs": [],
   "source": [
    "xgb_classifier = XGBClassifier()"
   ]
  },
  {
   "cell_type": "code",
   "execution_count": 141,
   "id": "54d8d436-cfed-451f-8554-23b88b5658fd",
   "metadata": {},
   "outputs": [
    {
     "data": {
      "text/html": [
       "<style>#sk-container-id-9 {color: black;background-color: white;}#sk-container-id-9 pre{padding: 0;}#sk-container-id-9 div.sk-toggleable {background-color: white;}#sk-container-id-9 label.sk-toggleable__label {cursor: pointer;display: block;width: 100%;margin-bottom: 0;padding: 0.3em;box-sizing: border-box;text-align: center;}#sk-container-id-9 label.sk-toggleable__label-arrow:before {content: \"▸\";float: left;margin-right: 0.25em;color: #696969;}#sk-container-id-9 label.sk-toggleable__label-arrow:hover:before {color: black;}#sk-container-id-9 div.sk-estimator:hover label.sk-toggleable__label-arrow:before {color: black;}#sk-container-id-9 div.sk-toggleable__content {max-height: 0;max-width: 0;overflow: hidden;text-align: left;background-color: #f0f8ff;}#sk-container-id-9 div.sk-toggleable__content pre {margin: 0.2em;color: black;border-radius: 0.25em;background-color: #f0f8ff;}#sk-container-id-9 input.sk-toggleable__control:checked~div.sk-toggleable__content {max-height: 200px;max-width: 100%;overflow: auto;}#sk-container-id-9 input.sk-toggleable__control:checked~label.sk-toggleable__label-arrow:before {content: \"▾\";}#sk-container-id-9 div.sk-estimator input.sk-toggleable__control:checked~label.sk-toggleable__label {background-color: #d4ebff;}#sk-container-id-9 div.sk-label input.sk-toggleable__control:checked~label.sk-toggleable__label {background-color: #d4ebff;}#sk-container-id-9 input.sk-hidden--visually {border: 0;clip: rect(1px 1px 1px 1px);clip: rect(1px, 1px, 1px, 1px);height: 1px;margin: -1px;overflow: hidden;padding: 0;position: absolute;width: 1px;}#sk-container-id-9 div.sk-estimator {font-family: monospace;background-color: #f0f8ff;border: 1px dotted black;border-radius: 0.25em;box-sizing: border-box;margin-bottom: 0.5em;}#sk-container-id-9 div.sk-estimator:hover {background-color: #d4ebff;}#sk-container-id-9 div.sk-parallel-item::after {content: \"\";width: 100%;border-bottom: 1px solid gray;flex-grow: 1;}#sk-container-id-9 div.sk-label:hover label.sk-toggleable__label {background-color: #d4ebff;}#sk-container-id-9 div.sk-serial::before {content: \"\";position: absolute;border-left: 1px solid gray;box-sizing: border-box;top: 0;bottom: 0;left: 50%;z-index: 0;}#sk-container-id-9 div.sk-serial {display: flex;flex-direction: column;align-items: center;background-color: white;padding-right: 0.2em;padding-left: 0.2em;position: relative;}#sk-container-id-9 div.sk-item {position: relative;z-index: 1;}#sk-container-id-9 div.sk-parallel {display: flex;align-items: stretch;justify-content: center;background-color: white;position: relative;}#sk-container-id-9 div.sk-item::before, #sk-container-id-9 div.sk-parallel-item::before {content: \"\";position: absolute;border-left: 1px solid gray;box-sizing: border-box;top: 0;bottom: 0;left: 50%;z-index: -1;}#sk-container-id-9 div.sk-parallel-item {display: flex;flex-direction: column;z-index: 1;position: relative;background-color: white;}#sk-container-id-9 div.sk-parallel-item:first-child::after {align-self: flex-end;width: 50%;}#sk-container-id-9 div.sk-parallel-item:last-child::after {align-self: flex-start;width: 50%;}#sk-container-id-9 div.sk-parallel-item:only-child::after {width: 0;}#sk-container-id-9 div.sk-dashed-wrapped {border: 1px dashed gray;margin: 0 0.4em 0.5em 0.4em;box-sizing: border-box;padding-bottom: 0.4em;background-color: white;}#sk-container-id-9 div.sk-label label {font-family: monospace;font-weight: bold;display: inline-block;line-height: 1.2em;}#sk-container-id-9 div.sk-label-container {text-align: center;}#sk-container-id-9 div.sk-container {/* jupyter's `normalize.less` sets `[hidden] { display: none; }` but bootstrap.min.css set `[hidden] { display: none !important; }` so we also need the `!important` here to be able to override the default hidden behavior on the sphinx rendered scikit-learn.org. See: https://github.com/scikit-learn/scikit-learn/issues/21755 */display: inline-block !important;position: relative;}#sk-container-id-9 div.sk-text-repr-fallback {display: none;}</style><div id=\"sk-container-id-9\" class=\"sk-top-container\"><div class=\"sk-text-repr-fallback\"><pre>XGBClassifier(base_score=None, booster=None, callbacks=None,\n",
       "              colsample_bylevel=None, colsample_bynode=None,\n",
       "              colsample_bytree=None, device=None, early_stopping_rounds=None,\n",
       "              enable_categorical=False, eval_metric=None, feature_types=None,\n",
       "              gamma=None, grow_policy=None, importance_type=None,\n",
       "              interaction_constraints=None, learning_rate=None, max_bin=None,\n",
       "              max_cat_threshold=None, max_cat_to_onehot=None,\n",
       "              max_delta_step=None, max_depth=None, max_leaves=None,\n",
       "              min_child_weight=None, missing=nan, monotone_constraints=None,\n",
       "              multi_strategy=None, n_estimators=None, n_jobs=None,\n",
       "              num_parallel_tree=None, objective=&#x27;multi:softprob&#x27;, ...)</pre><b>In a Jupyter environment, please rerun this cell to show the HTML representation or trust the notebook. <br />On GitHub, the HTML representation is unable to render, please try loading this page with nbviewer.org.</b></div><div class=\"sk-container\" hidden><div class=\"sk-item\"><div class=\"sk-estimator sk-toggleable\"><input class=\"sk-toggleable__control sk-hidden--visually\" id=\"sk-estimator-id-17\" type=\"checkbox\" checked><label for=\"sk-estimator-id-17\" class=\"sk-toggleable__label sk-toggleable__label-arrow\">XGBClassifier</label><div class=\"sk-toggleable__content\"><pre>XGBClassifier(base_score=None, booster=None, callbacks=None,\n",
       "              colsample_bylevel=None, colsample_bynode=None,\n",
       "              colsample_bytree=None, device=None, early_stopping_rounds=None,\n",
       "              enable_categorical=False, eval_metric=None, feature_types=None,\n",
       "              gamma=None, grow_policy=None, importance_type=None,\n",
       "              interaction_constraints=None, learning_rate=None, max_bin=None,\n",
       "              max_cat_threshold=None, max_cat_to_onehot=None,\n",
       "              max_delta_step=None, max_depth=None, max_leaves=None,\n",
       "              min_child_weight=None, missing=nan, monotone_constraints=None,\n",
       "              multi_strategy=None, n_estimators=None, n_jobs=None,\n",
       "              num_parallel_tree=None, objective=&#x27;multi:softprob&#x27;, ...)</pre></div></div></div></div></div>"
      ],
      "text/plain": [
       "XGBClassifier(base_score=None, booster=None, callbacks=None,\n",
       "              colsample_bylevel=None, colsample_bynode=None,\n",
       "              colsample_bytree=None, device=None, early_stopping_rounds=None,\n",
       "              enable_categorical=False, eval_metric=None, feature_types=None,\n",
       "              gamma=None, grow_policy=None, importance_type=None,\n",
       "              interaction_constraints=None, learning_rate=None, max_bin=None,\n",
       "              max_cat_threshold=None, max_cat_to_onehot=None,\n",
       "              max_delta_step=None, max_depth=None, max_leaves=None,\n",
       "              min_child_weight=None, missing=nan, monotone_constraints=None,\n",
       "              multi_strategy=None, n_estimators=None, n_jobs=None,\n",
       "              num_parallel_tree=None, objective='multi:softprob', ...)"
      ]
     },
     "execution_count": 141,
     "metadata": {},
     "output_type": "execute_result"
    }
   ],
   "source": [
    "xgb_classifier.fit(X_train, y_train)"
   ]
  },
  {
   "cell_type": "code",
   "execution_count": 142,
   "id": "d66619ea-35e1-418a-b4e5-d94587852279",
   "metadata": {},
   "outputs": [],
   "source": [
    "y_train_pred = xgb_classifier.predict(X_train)\n",
    "y_test_pred = xgb_classifier.predict(X_test)"
   ]
  },
  {
   "cell_type": "code",
   "execution_count": 143,
   "id": "52492fb4-fada-41c9-ade1-2a9ed1914116",
   "metadata": {},
   "outputs": [],
   "source": [
    "xgb_train_acc = accuracy_score(y_train, y_train_pred)\n",
    "xgb_test_acc = accuracy_score(y_test, y_test_pred)"
   ]
  },
  {
   "cell_type": "code",
   "execution_count": 144,
   "id": "6c17eb35-86f9-4af3-a46a-ef4d1e80457b",
   "metadata": {},
   "outputs": [
    {
     "name": "stdout",
     "output_type": "stream",
     "text": [
      "Training Accuracy: 0.9632603721452316\n",
      "Testing Accuracy: 0.922921522921523\n"
     ]
    }
   ],
   "source": [
    "print(\"Training Accuracy:\", xgb_train_acc)\n",
    "print(\"Testing Accuracy:\", xgb_test_acc)"
   ]
  },
  {
   "cell_type": "code",
   "execution_count": 145,
   "id": "17f47fcf-fdb6-494c-948f-65582f8b38b2",
   "metadata": {},
   "outputs": [],
   "source": [
    "before_train.append(xgb_train_acc)\n",
    "before_test.append(xgb_test_acc)"
   ]
  },
  {
   "cell_type": "code",
   "execution_count": 146,
   "id": "58409d37-38d2-4e9f-a5a4-830cd4081d39",
   "metadata": {},
   "outputs": [
    {
     "name": "stdout",
     "output_type": "stream",
     "text": [
      "Confusion Matrix of Training Dataset\n",
      " [[3594   89   22   80   53   12]\n",
      " [  32 3580  182   22   26   34]\n",
      " [   6   55 3819    5    2    1]\n",
      " [  20   58    5 3781   17    4]\n",
      " [   9   25    0   37 3740   44]\n",
      " [   0    0    0    0   11 3798]]\n"
     ]
    }
   ],
   "source": [
    "cm = confusion_matrix(y_train,y_train_pred)\n",
    "print(\"Confusion Matrix of Training Dataset\\n\",cm)"
   ]
  },
  {
   "cell_type": "code",
   "execution_count": 147,
   "id": "b6839928-12d8-46be-a09c-e3cdaf12cebc",
   "metadata": {},
   "outputs": [
    {
     "name": "stdout",
     "output_type": "stream",
     "text": [
      "Confusion Matrix of Testing Dataset\n",
      " [[ 944   51   17   40   28    7]\n",
      " [  25  943   69   10   15   16]\n",
      " [   6   37 1014    1    0    1]\n",
      " [  18   21    2 1000   14    2]\n",
      " [   7   22    5   25  976   46]\n",
      " [   1    2    0    0    8 1062]]\n"
     ]
    }
   ],
   "source": [
    "test_cm = confusion_matrix(y_test, y_test_pred)\n",
    "print(\"Confusion Matrix of Testing Dataset\\n\",test_cm)"
   ]
  },
  {
   "cell_type": "code",
   "execution_count": 148,
   "id": "75d9d011-53bd-423e-a700-65d813af9d64",
   "metadata": {},
   "outputs": [
    {
     "name": "stdout",
     "output_type": "stream",
     "text": [
      "Classification Report on Training Data:\n",
      "               precision    recall  f1-score   support\n",
      "\n",
      "           0       0.98      0.93      0.96      3850\n",
      "           1       0.94      0.92      0.93      3876\n",
      "           2       0.95      0.98      0.96      3888\n",
      "           3       0.96      0.97      0.97      3885\n",
      "           4       0.97      0.97      0.97      3855\n",
      "           5       0.98      1.00      0.99      3809\n",
      "\n",
      "    accuracy                           0.96     23163\n",
      "   macro avg       0.96      0.96      0.96     23163\n",
      "weighted avg       0.96      0.96      0.96     23163\n",
      "\n"
     ]
    }
   ],
   "source": [
    "print(\"Classification Report on Training Data:\\n\",classification_report(y_train, y_train_pred))"
   ]
  },
  {
   "cell_type": "code",
   "execution_count": 149,
   "id": "e3dc6e91-344c-4ce6-aef0-713b124c1aaa",
   "metadata": {},
   "outputs": [
    {
     "name": "stdout",
     "output_type": "stream",
     "text": [
      "Classification Report on Testing Data:\n",
      "               precision    recall  f1-score   support\n",
      "\n",
      "           0       0.94      0.87      0.90      1087\n",
      "           1       0.88      0.87      0.88      1078\n",
      "           2       0.92      0.96      0.94      1059\n",
      "           3       0.93      0.95      0.94      1057\n",
      "           4       0.94      0.90      0.92      1081\n",
      "           5       0.94      0.99      0.96      1073\n",
      "\n",
      "    accuracy                           0.92      6435\n",
      "   macro avg       0.92      0.92      0.92      6435\n",
      "weighted avg       0.92      0.92      0.92      6435\n",
      "\n"
     ]
    }
   ],
   "source": [
    "print(\"Classification Report on Testing Data:\\n\", classification_report(y_test, y_test_pred))"
   ]
  },
  {
   "cell_type": "markdown",
   "id": "1c1f6117-b4b7-4f6d-9a1f-5fbb5a57aa6b",
   "metadata": {},
   "source": [
    "#### Hyeperparameter Tuning"
   ]
  },
  {
   "cell_type": "code",
   "execution_count": 150,
   "id": "88ad7c51-c966-4d77-88b1-2d5cc538bcec",
   "metadata": {},
   "outputs": [],
   "source": [
    "# Define a grid of hyperparameters to search over for XGBoost\n",
    "param_grid = {\n",
    "    'n_estimators': [100, 200],   # Number of boosting rounds (decision trees)\n",
    "    'subsample': [0.8, 1.0]        # Subsample ratio of the training instances\n",
    "}"
   ]
  },
  {
   "cell_type": "code",
   "execution_count": 151,
   "id": "d39687c2-048a-4fa7-80e4-aed18f341a1d",
   "metadata": {},
   "outputs": [],
   "source": [
    "xgb_classifier = XGBClassifier()"
   ]
  },
  {
   "cell_type": "code",
   "execution_count": 152,
   "id": "5c2013cc-b986-4c6c-96a4-5aceef44f54d",
   "metadata": {},
   "outputs": [],
   "source": [
    "# Create a GridSearchCV object for XGBoost\n",
    "xgb_grid = GridSearchCV(\n",
    "    estimator=xgb_classifier,   # The XGBoost classifier\n",
    "    param_grid=param_grid,      # The grid of hyperparameters to search over\n",
    "    cv=5,                       # Cross-validation strategy (5-fold cross-validation)\n",
    "    scoring='accuracy',         # Scoring metric to optimize (accuracy)\n",
    "    n_jobs=-1,                  # Number of jobs to run in parallel (-1 uses all available CPU cores)\n",
    "    verbose=2                   # Controls the verbosity of the output (more details)\n",
    ")"
   ]
  },
  {
   "cell_type": "code",
   "execution_count": 154,
   "id": "38a957b0-4f0d-42f6-a581-85cf7d7fe2a6",
   "metadata": {},
   "outputs": [
    {
     "name": "stdout",
     "output_type": "stream",
     "text": [
      "Fitting 5 folds for each of 4 candidates, totalling 20 fits\n"
     ]
    },
    {
     "data": {
      "text/html": [
       "<style>#sk-container-id-10 {color: black;background-color: white;}#sk-container-id-10 pre{padding: 0;}#sk-container-id-10 div.sk-toggleable {background-color: white;}#sk-container-id-10 label.sk-toggleable__label {cursor: pointer;display: block;width: 100%;margin-bottom: 0;padding: 0.3em;box-sizing: border-box;text-align: center;}#sk-container-id-10 label.sk-toggleable__label-arrow:before {content: \"▸\";float: left;margin-right: 0.25em;color: #696969;}#sk-container-id-10 label.sk-toggleable__label-arrow:hover:before {color: black;}#sk-container-id-10 div.sk-estimator:hover label.sk-toggleable__label-arrow:before {color: black;}#sk-container-id-10 div.sk-toggleable__content {max-height: 0;max-width: 0;overflow: hidden;text-align: left;background-color: #f0f8ff;}#sk-container-id-10 div.sk-toggleable__content pre {margin: 0.2em;color: black;border-radius: 0.25em;background-color: #f0f8ff;}#sk-container-id-10 input.sk-toggleable__control:checked~div.sk-toggleable__content {max-height: 200px;max-width: 100%;overflow: auto;}#sk-container-id-10 input.sk-toggleable__control:checked~label.sk-toggleable__label-arrow:before {content: \"▾\";}#sk-container-id-10 div.sk-estimator input.sk-toggleable__control:checked~label.sk-toggleable__label {background-color: #d4ebff;}#sk-container-id-10 div.sk-label input.sk-toggleable__control:checked~label.sk-toggleable__label {background-color: #d4ebff;}#sk-container-id-10 input.sk-hidden--visually {border: 0;clip: rect(1px 1px 1px 1px);clip: rect(1px, 1px, 1px, 1px);height: 1px;margin: -1px;overflow: hidden;padding: 0;position: absolute;width: 1px;}#sk-container-id-10 div.sk-estimator {font-family: monospace;background-color: #f0f8ff;border: 1px dotted black;border-radius: 0.25em;box-sizing: border-box;margin-bottom: 0.5em;}#sk-container-id-10 div.sk-estimator:hover {background-color: #d4ebff;}#sk-container-id-10 div.sk-parallel-item::after {content: \"\";width: 100%;border-bottom: 1px solid gray;flex-grow: 1;}#sk-container-id-10 div.sk-label:hover label.sk-toggleable__label {background-color: #d4ebff;}#sk-container-id-10 div.sk-serial::before {content: \"\";position: absolute;border-left: 1px solid gray;box-sizing: border-box;top: 0;bottom: 0;left: 50%;z-index: 0;}#sk-container-id-10 div.sk-serial {display: flex;flex-direction: column;align-items: center;background-color: white;padding-right: 0.2em;padding-left: 0.2em;position: relative;}#sk-container-id-10 div.sk-item {position: relative;z-index: 1;}#sk-container-id-10 div.sk-parallel {display: flex;align-items: stretch;justify-content: center;background-color: white;position: relative;}#sk-container-id-10 div.sk-item::before, #sk-container-id-10 div.sk-parallel-item::before {content: \"\";position: absolute;border-left: 1px solid gray;box-sizing: border-box;top: 0;bottom: 0;left: 50%;z-index: -1;}#sk-container-id-10 div.sk-parallel-item {display: flex;flex-direction: column;z-index: 1;position: relative;background-color: white;}#sk-container-id-10 div.sk-parallel-item:first-child::after {align-self: flex-end;width: 50%;}#sk-container-id-10 div.sk-parallel-item:last-child::after {align-self: flex-start;width: 50%;}#sk-container-id-10 div.sk-parallel-item:only-child::after {width: 0;}#sk-container-id-10 div.sk-dashed-wrapped {border: 1px dashed gray;margin: 0 0.4em 0.5em 0.4em;box-sizing: border-box;padding-bottom: 0.4em;background-color: white;}#sk-container-id-10 div.sk-label label {font-family: monospace;font-weight: bold;display: inline-block;line-height: 1.2em;}#sk-container-id-10 div.sk-label-container {text-align: center;}#sk-container-id-10 div.sk-container {/* jupyter's `normalize.less` sets `[hidden] { display: none; }` but bootstrap.min.css set `[hidden] { display: none !important; }` so we also need the `!important` here to be able to override the default hidden behavior on the sphinx rendered scikit-learn.org. See: https://github.com/scikit-learn/scikit-learn/issues/21755 */display: inline-block !important;position: relative;}#sk-container-id-10 div.sk-text-repr-fallback {display: none;}</style><div id=\"sk-container-id-10\" class=\"sk-top-container\"><div class=\"sk-text-repr-fallback\"><pre>GridSearchCV(cv=5,\n",
       "             estimator=XGBClassifier(base_score=None, booster=None,\n",
       "                                     callbacks=None, colsample_bylevel=None,\n",
       "                                     colsample_bynode=None,\n",
       "                                     colsample_bytree=None, device=None,\n",
       "                                     early_stopping_rounds=None,\n",
       "                                     enable_categorical=False, eval_metric=None,\n",
       "                                     feature_types=None, gamma=None,\n",
       "                                     grow_policy=None, importance_type=None,\n",
       "                                     interaction_constraints=None,\n",
       "                                     learning_rate=None,...\n",
       "                                     max_cat_threshold=None,\n",
       "                                     max_cat_to_onehot=None,\n",
       "                                     max_delta_step=None, max_depth=None,\n",
       "                                     max_leaves=None, min_child_weight=None,\n",
       "                                     missing=nan, monotone_constraints=None,\n",
       "                                     multi_strategy=None, n_estimators=None,\n",
       "                                     n_jobs=None, num_parallel_tree=None,\n",
       "                                     random_state=None, ...),\n",
       "             n_jobs=-1,\n",
       "             param_grid={&#x27;n_estimators&#x27;: [100, 200], &#x27;subsample&#x27;: [0.8, 1.0]},\n",
       "             scoring=&#x27;accuracy&#x27;, verbose=2)</pre><b>In a Jupyter environment, please rerun this cell to show the HTML representation or trust the notebook. <br />On GitHub, the HTML representation is unable to render, please try loading this page with nbviewer.org.</b></div><div class=\"sk-container\" hidden><div class=\"sk-item sk-dashed-wrapped\"><div class=\"sk-label-container\"><div class=\"sk-label sk-toggleable\"><input class=\"sk-toggleable__control sk-hidden--visually\" id=\"sk-estimator-id-18\" type=\"checkbox\" ><label for=\"sk-estimator-id-18\" class=\"sk-toggleable__label sk-toggleable__label-arrow\">GridSearchCV</label><div class=\"sk-toggleable__content\"><pre>GridSearchCV(cv=5,\n",
       "             estimator=XGBClassifier(base_score=None, booster=None,\n",
       "                                     callbacks=None, colsample_bylevel=None,\n",
       "                                     colsample_bynode=None,\n",
       "                                     colsample_bytree=None, device=None,\n",
       "                                     early_stopping_rounds=None,\n",
       "                                     enable_categorical=False, eval_metric=None,\n",
       "                                     feature_types=None, gamma=None,\n",
       "                                     grow_policy=None, importance_type=None,\n",
       "                                     interaction_constraints=None,\n",
       "                                     learning_rate=None,...\n",
       "                                     max_cat_threshold=None,\n",
       "                                     max_cat_to_onehot=None,\n",
       "                                     max_delta_step=None, max_depth=None,\n",
       "                                     max_leaves=None, min_child_weight=None,\n",
       "                                     missing=nan, monotone_constraints=None,\n",
       "                                     multi_strategy=None, n_estimators=None,\n",
       "                                     n_jobs=None, num_parallel_tree=None,\n",
       "                                     random_state=None, ...),\n",
       "             n_jobs=-1,\n",
       "             param_grid={&#x27;n_estimators&#x27;: [100, 200], &#x27;subsample&#x27;: [0.8, 1.0]},\n",
       "             scoring=&#x27;accuracy&#x27;, verbose=2)</pre></div></div></div><div class=\"sk-parallel\"><div class=\"sk-parallel-item\"><div class=\"sk-item\"><div class=\"sk-label-container\"><div class=\"sk-label sk-toggleable\"><input class=\"sk-toggleable__control sk-hidden--visually\" id=\"sk-estimator-id-19\" type=\"checkbox\" ><label for=\"sk-estimator-id-19\" class=\"sk-toggleable__label sk-toggleable__label-arrow\">estimator: XGBClassifier</label><div class=\"sk-toggleable__content\"><pre>XGBClassifier(base_score=None, booster=None, callbacks=None,\n",
       "              colsample_bylevel=None, colsample_bynode=None,\n",
       "              colsample_bytree=None, device=None, early_stopping_rounds=None,\n",
       "              enable_categorical=False, eval_metric=None, feature_types=None,\n",
       "              gamma=None, grow_policy=None, importance_type=None,\n",
       "              interaction_constraints=None, learning_rate=None, max_bin=None,\n",
       "              max_cat_threshold=None, max_cat_to_onehot=None,\n",
       "              max_delta_step=None, max_depth=None, max_leaves=None,\n",
       "              min_child_weight=None, missing=nan, monotone_constraints=None,\n",
       "              multi_strategy=None, n_estimators=None, n_jobs=None,\n",
       "              num_parallel_tree=None, random_state=None, ...)</pre></div></div></div><div class=\"sk-serial\"><div class=\"sk-item\"><div class=\"sk-estimator sk-toggleable\"><input class=\"sk-toggleable__control sk-hidden--visually\" id=\"sk-estimator-id-20\" type=\"checkbox\" ><label for=\"sk-estimator-id-20\" class=\"sk-toggleable__label sk-toggleable__label-arrow\">XGBClassifier</label><div class=\"sk-toggleable__content\"><pre>XGBClassifier(base_score=None, booster=None, callbacks=None,\n",
       "              colsample_bylevel=None, colsample_bynode=None,\n",
       "              colsample_bytree=None, device=None, early_stopping_rounds=None,\n",
       "              enable_categorical=False, eval_metric=None, feature_types=None,\n",
       "              gamma=None, grow_policy=None, importance_type=None,\n",
       "              interaction_constraints=None, learning_rate=None, max_bin=None,\n",
       "              max_cat_threshold=None, max_cat_to_onehot=None,\n",
       "              max_delta_step=None, max_depth=None, max_leaves=None,\n",
       "              min_child_weight=None, missing=nan, monotone_constraints=None,\n",
       "              multi_strategy=None, n_estimators=None, n_jobs=None,\n",
       "              num_parallel_tree=None, random_state=None, ...)</pre></div></div></div></div></div></div></div></div></div></div>"
      ],
      "text/plain": [
       "GridSearchCV(cv=5,\n",
       "             estimator=XGBClassifier(base_score=None, booster=None,\n",
       "                                     callbacks=None, colsample_bylevel=None,\n",
       "                                     colsample_bynode=None,\n",
       "                                     colsample_bytree=None, device=None,\n",
       "                                     early_stopping_rounds=None,\n",
       "                                     enable_categorical=False, eval_metric=None,\n",
       "                                     feature_types=None, gamma=None,\n",
       "                                     grow_policy=None, importance_type=None,\n",
       "                                     interaction_constraints=None,\n",
       "                                     learning_rate=None,...\n",
       "                                     max_cat_threshold=None,\n",
       "                                     max_cat_to_onehot=None,\n",
       "                                     max_delta_step=None, max_depth=None,\n",
       "                                     max_leaves=None, min_child_weight=None,\n",
       "                                     missing=nan, monotone_constraints=None,\n",
       "                                     multi_strategy=None, n_estimators=None,\n",
       "                                     n_jobs=None, num_parallel_tree=None,\n",
       "                                     random_state=None, ...),\n",
       "             n_jobs=-1,\n",
       "             param_grid={'n_estimators': [100, 200], 'subsample': [0.8, 1.0]},\n",
       "             scoring='accuracy', verbose=2)"
      ]
     },
     "execution_count": 154,
     "metadata": {},
     "output_type": "execute_result"
    }
   ],
   "source": [
    "xgb_grid.fit(X_train, y_train)"
   ]
  },
  {
   "cell_type": "code",
   "execution_count": 155,
   "id": "09aca2e0-571c-4077-9fbc-02a20a4253c6",
   "metadata": {},
   "outputs": [
    {
     "name": "stdout",
     "output_type": "stream",
     "text": [
      "Best Parameters: {'n_estimators': 200, 'subsample': 1.0}\n"
     ]
    }
   ],
   "source": [
    "print(\"Best Parameters:\", xgb_grid.best_params_)\n",
    "param.append(xgb_grid.best_params_)"
   ]
  },
  {
   "cell_type": "code",
   "execution_count": 156,
   "id": "7086d9c6-c7c1-4c12-96e2-107e6a0870ea",
   "metadata": {},
   "outputs": [],
   "source": [
    "best_xgb = xgb_grid.best_estimator_"
   ]
  },
  {
   "cell_type": "code",
   "execution_count": 157,
   "id": "afa93ce5-1c50-4028-8083-6f0013c45ae2",
   "metadata": {},
   "outputs": [],
   "source": [
    "y_train_pred = best_xgb.predict(X_train)\n",
    "y_test_pred = best_xgb.predict(X_test)\n",
    "y_val_pred = best_xgb.predict(X_val)"
   ]
  },
  {
   "cell_type": "code",
   "execution_count": 158,
   "id": "1e1651b8-1b85-4eb7-b0d9-001686215506",
   "metadata": {},
   "outputs": [],
   "source": [
    "xgb_train_hpt = accuracy_score(y_train, y_train_pred)\n",
    "xgb_test_hpt = accuracy_score(y_test, y_test_pred)\n",
    "xgb_val_hpt = accuracy_score(y_val, y_val_pred)"
   ]
  },
  {
   "cell_type": "code",
   "execution_count": 159,
   "id": "c11a5f24-3091-4aed-8991-02bb74f54466",
   "metadata": {},
   "outputs": [
    {
     "name": "stdout",
     "output_type": "stream",
     "text": [
      "Training Accuracy with Best Estimator: 0.982428873634676\n",
      "Testing Accuracy with Best Estimator: 0.9358197358197358\n",
      "Validation Accuracy with Best Estimator: 0.9378399378399378\n"
     ]
    }
   ],
   "source": [
    "print(\"Training Accuracy with Best Estimator:\", xgb_train_hpt)\n",
    "print(\"Testing Accuracy with Best Estimator:\", xgb_test_hpt)\n",
    "print(\"Validation Accuracy with Best Estimator:\", xgb_val_hpt)"
   ]
  },
  {
   "cell_type": "code",
   "execution_count": 160,
   "id": "e3814ad9-4f9d-47c8-82b6-b0574454c969",
   "metadata": {},
   "outputs": [],
   "source": [
    "after_train.append(xgb_train_hpt)\n",
    "after_test.append(xgb_test_hpt)\n",
    "val.append(xgb_val_hpt)"
   ]
  },
  {
   "cell_type": "code",
   "execution_count": 161,
   "id": "98a2914e-9671-44eb-9564-30add6ff43c5",
   "metadata": {},
   "outputs": [
    {
     "name": "stdout",
     "output_type": "stream",
     "text": [
      "Confusion Matrix of Training Dataset\n",
      " [[3723   22    3   61   40    1]\n",
      " [  11 3703  109   19   13   21]\n",
      " [   2   20 3864    1    1    0]\n",
      " [  12    7    0 3852   13    1]\n",
      " [   4    1    0   32 3811    7]\n",
      " [   0    0    0    0    6 3803]]\n"
     ]
    }
   ],
   "source": [
    "cm = confusion_matrix(y_train, y_train_pred)\n",
    "print(\"Confusion Matrix of Training Dataset\\n\",cm)"
   ]
  },
  {
   "cell_type": "code",
   "execution_count": 162,
   "id": "9be17aef-055b-4146-ab16-8f4bcd0e251c",
   "metadata": {},
   "outputs": [
    {
     "data": {
      "image/png": "[encoded data removed]",
      "text/plain": [
       "<Figure size 640x480 with 2 Axes>"
      ]
     },
     "metadata": {},
     "output_type": "display_data"
    }
   ],
   "source": [
    "sns.heatmap(cm, annot=True,fmt='g', xticklabels=class_names.values(),yticklabels=class_names.values())\n",
    "plt.xlabel('Prediction',fontsize=13)\n",
    "plt.ylabel('Actual',fontsize=13)\n",
    "plt.title('Confusion Matrix of Training Dataset',fontsize=12)\n",
    "plt.show()"
   ]
  },
  {
   "cell_type": "code",
   "execution_count": 163,
   "id": "b8f364d2-bea0-4905-bad8-d3ed2518123f",
   "metadata": {},
   "outputs": [
    {
     "name": "stdout",
     "output_type": "stream",
     "text": [
      "Confusion Matrix of Testing Dataset\n",
      " [[ 979   27   13   36   27    5]\n",
      " [  21  960   55   14   15   13]\n",
      " [   4   45 1009    0    1    0]\n",
      " [  18   11    0 1013   13    2]\n",
      " [   7    9    2   26 1001   36]\n",
      " [   1    2    0    0   10 1060]]\n"
     ]
    }
   ],
   "source": [
    "test_cm = confusion_matrix(y_test, y_test_pred)\n",
    "print(\"Confusion Matrix of Testing Dataset\\n\",test_cm)"
   ]
  },
  {
   "cell_type": "code",
   "execution_count": 164,
   "id": "e57ccf08-e7ad-43e6-9a1a-318e89dae2d0",
   "metadata": {},
   "outputs": [
    {
     "data": {
      "image/png": "[encoded data removed]",
      "text/plain": [
       "<Figure size 640x480 with 2 Axes>"
      ]
     },
     "metadata": {},
     "output_type": "display_data"
    }
   ],
   "source": [
    "sns.heatmap(test_cm, annot=True,fmt='g', xticklabels=class_names.values(),yticklabels=class_names.values())\n",
    "plt.xlabel('Prediction',fontsize=13)\n",
    "plt.ylabel('Actual',fontsize=13)\n",
    "plt.title('Confusion Matrix of Testing Dataset',fontsize=12)\n",
    "plt.show()"
   ]
  },
  {
   "cell_type": "code",
   "execution_count": 165,
   "id": "90c40df0-785c-4372-b7fd-a850bc4a9584",
   "metadata": {},
   "outputs": [
    {
     "name": "stdout",
     "output_type": "stream",
     "text": [
      "Classification Report on Training Data:\n",
      "               precision    recall  f1-score   support\n",
      "\n",
      "           0       0.99      0.97      0.98      3850\n",
      "           1       0.99      0.96      0.97      3876\n",
      "           2       0.97      0.99      0.98      3888\n",
      "           3       0.97      0.99      0.98      3885\n",
      "           4       0.98      0.99      0.98      3855\n",
      "           5       0.99      1.00      1.00      3809\n",
      "\n",
      "    accuracy                           0.98     23163\n",
      "   macro avg       0.98      0.98      0.98     23163\n",
      "weighted avg       0.98      0.98      0.98     23163\n",
      "\n"
     ]
    }
   ],
   "source": [
    "print(\"Classification Report on Training Data:\\n\",classification_report(y_train, y_train_pred))"
   ]
  },
  {
   "cell_type": "code",
   "execution_count": 166,
   "id": "c9e4fedc-977e-46e2-a7ce-a5fedb80d5bd",
   "metadata": {},
   "outputs": [
    {
     "name": "stdout",
     "output_type": "stream",
     "text": [
      "Classification Report on Testing Data:\n",
      "               precision    recall  f1-score   support\n",
      "\n",
      "           0       0.95      0.90      0.92      1087\n",
      "           1       0.91      0.89      0.90      1078\n",
      "           2       0.94      0.95      0.94      1059\n",
      "           3       0.93      0.96      0.94      1057\n",
      "           4       0.94      0.93      0.93      1081\n",
      "           5       0.95      0.99      0.97      1073\n",
      "\n",
      "    accuracy                           0.94      6435\n",
      "   macro avg       0.94      0.94      0.94      6435\n",
      "weighted avg       0.94      0.94      0.94      6435\n",
      "\n"
     ]
    }
   ],
   "source": [
    "report_xgb=classification_report(y_test, y_test_pred,output_dict=True)\n",
    "print(\"Classification Report on Testing Data:\\n\", classification_report(y_test, y_test_pred))"
   ]
  },
  {
   "cell_type": "code",
   "execution_count": 167,
   "id": "2c0a0548-a0b6-4dcb-a450-be2f69fde66d",
   "metadata": {},
   "outputs": [
    {
     "name": "stdout",
     "output_type": "stream",
     "text": [
      "Classification Report on Training Data:\n",
      "               precision    recall  f1-score   support\n",
      "\n",
      "           0       0.96      0.88      0.92       425\n",
      "           1       0.89      0.89      0.89       408\n",
      "           2       0.93      0.96      0.94       415\n",
      "           3       0.92      0.97      0.94       420\n",
      "           4       0.96      0.93      0.95       426\n",
      "           5       0.96      0.99      0.97       480\n",
      "\n",
      "    accuracy                           0.94      2574\n",
      "   macro avg       0.94      0.94      0.94      2574\n",
      "weighted avg       0.94      0.94      0.94      2574\n",
      "\n"
     ]
    }
   ],
   "source": [
    "print(\"Classification Report on Training Data:\\n\",classification_report(y_val, y_val_pred))"
   ]
  },
  {
   "cell_type": "markdown",
   "id": "01e1dce6-cc9e-4b7a-a11b-736333ba0392",
   "metadata": {},
   "source": [
    "### Evaluation"
   ]
  },
  {
   "cell_type": "code",
   "execution_count": 168,
   "id": "8625857b-943e-45a1-b999-aa853e0a7650",
   "metadata": {},
   "outputs": [],
   "source": [
    "# Evaluating based on accuracy score of training and testing before and after hyperparameter tuning"
   ]
  },
  {
   "cell_type": "code",
   "execution_count": 169,
   "id": "2fd23c19-fa51-405a-9da7-960e6646984d",
   "metadata": {},
   "outputs": [],
   "source": [
    "df1 = {\n",
    "    'Model': algorithm,\n",
    "    'Before_train': before_train,\n",
    "    'Before_test': before_test,\n",
    "    'After_train': after_train,\n",
    "    'After_test': after_test\n",
    "}"
   ]
  },
  {
   "cell_type": "code",
   "execution_count": 170,
   "id": "080c5484-e811-483f-acbb-a000ccfaf0c3",
   "metadata": {},
   "outputs": [],
   "source": [
    "df1_result = pd.DataFrame(df1)"
   ]
  },
  {
   "cell_type": "code",
   "execution_count": 171,
   "id": "17532cb5-f38e-4545-a0ca-b3c243bb9812",
   "metadata": {},
   "outputs": [
    {
     "name": "stdout",
     "output_type": "stream",
     "text": [
      "                 Model  Before_train  Before_test  After_train  After_test\n",
      "0        Random Forest      0.999266     0.928361     0.833010    0.810878\n",
      "1  Logistic Regression      0.957648     0.928361     0.987782    0.941570\n",
      "2          Naive Bayes      0.943876     0.905361     0.949575    0.904274\n",
      "3                  SVM      0.967146     0.931779     0.993654    0.935820\n",
      "4              XGBoost      0.963260     0.922922     0.982429    0.935820\n"
     ]
    }
   ],
   "source": [
    "print(df1_result)"
   ]
  },
  {
   "cell_type": "code",
   "execution_count": 172,
   "id": "11c912b4-3a67-43b0-9b4e-6c96b996ffd1",
   "metadata": {},
   "outputs": [],
   "source": [
    "# Evaluating based on precision, recall, F1-score and accuracy"
   ]
  },
  {
   "cell_type": "code",
   "execution_count": 173,
   "id": "af3f7a61-c11e-4224-ba3d-29db9b98f897",
   "metadata": {},
   "outputs": [],
   "source": [
    "df2 = {\n",
    "    \"Model\":algorithm,\n",
    "    \"Precision\": [report_rf['weighted avg']['precision'], report_log['weighted avg']['precision'], report_nb['weighted avg']['precision'], report_svm['weighted avg']['precision'], report_xgb['weighted avg']['precision']],\n",
    "    \"Recall\": [report_rf['weighted avg']['recall'], report_log['weighted avg']['recall'], report_nb['weighted avg']['recall'], report_svm['weighted avg']['recall'], report_xgb['weighted avg']['recall']],\n",
    "    \"F1-Score\": [report_rf['weighted avg']['f1-score'], report_log['weighted avg']['f1-score'], report_nb['weighted avg']['f1-score'], report_svm['weighted avg']['f1-score'], report_xgb['weighted avg']['f1-score']],\n",
    "    \"Accuracy\": after_test\n",
    "    \n",
    "}"
   ]
  },
  {
   "cell_type": "code",
   "execution_count": 174,
   "id": "2dfdf197-51c9-454d-b894-4db7c33afbfe",
   "metadata": {},
   "outputs": [],
   "source": [
    "df2_result= pd.DataFrame(df2)"
   ]
  },
  {
   "cell_type": "code",
   "execution_count": 175,
   "id": "6e339a09-d73c-4ab3-84fd-d3f308699972",
   "metadata": {},
   "outputs": [
    {
     "name": "stdout",
     "output_type": "stream",
     "text": [
      "                 Model  Precision    Recall  F1-Score  Accuracy\n",
      "0        Random Forest   0.815850  0.810878  0.809063  0.810878\n",
      "1  Logistic Regression   0.941629  0.941570  0.941339  0.941570\n",
      "2          Naive Bayes   0.904310  0.904274  0.903147  0.904274\n",
      "3                  SVM   0.935575  0.935820  0.935382  0.935820\n",
      "4              XGBoost   0.935798  0.935820  0.935559  0.935820\n"
     ]
    }
   ],
   "source": [
    "print(df2_result)"
   ]
  },
  {
   "cell_type": "code",
   "execution_count": 176,
   "id": "996c58be-fba3-41a9-be70-31f7676b849f",
   "metadata": {},
   "outputs": [],
   "source": [
    "# Evaluating based on accuracy score of validation dataset"
   ]
  },
  {
   "cell_type": "code",
   "execution_count": 177,
   "id": "ca3baab7-e7a9-4bc0-a6c0-728025f6afa6",
   "metadata": {},
   "outputs": [],
   "source": [
    "df3={\n",
    "    \"Model\":algorithm,\n",
    "    \"Validation Accuracy\":val\n",
    "}"
   ]
  },
  {
   "cell_type": "code",
   "execution_count": 178,
   "id": "5a8348b3-b4ce-43e9-9954-d13b4a263d83",
   "metadata": {},
   "outputs": [],
   "source": [
    "df3_result=pd.DataFrame(df3)"
   ]
  },
  {
   "cell_type": "code",
   "execution_count": 179,
   "id": "2d4fa85f-99ba-4696-aebc-6b3a5c665f33",
   "metadata": {},
   "outputs": [
    {
     "name": "stdout",
     "output_type": "stream",
     "text": [
      "                 Model  Validation Accuracy\n",
      "0        Random Forest             0.816628\n",
      "1  Logistic Regression             0.947941\n",
      "2          Naive Bayes             0.907537\n",
      "3                  SVM             0.937451\n",
      "4              XGBoost             0.937840\n"
     ]
    }
   ],
   "source": [
    "print(df3_result)"
   ]
  },
  {
   "cell_type": "code",
   "execution_count": 180,
   "id": "540ff755-06e0-4bcb-916c-7cc9b27d66da",
   "metadata": {},
   "outputs": [],
   "source": [
    "# Displaying best params of hyperparameter tuning"
   ]
  },
  {
   "cell_type": "code",
   "execution_count": 181,
   "id": "99520217-4d9b-46fa-a700-7f19df254e43",
   "metadata": {},
   "outputs": [],
   "source": [
    "df4={\n",
    "    \"Model\":algorithm,\n",
    "    \"Best Param\":param\n",
    "}"
   ]
  },
  {
   "cell_type": "code",
   "execution_count": 182,
   "id": "7cb27a0e-84c6-4894-b6e3-f3449d9616a8",
   "metadata": {},
   "outputs": [],
   "source": [
    "df4_result= pd.DataFrame(df4)"
   ]
  },
  {
   "cell_type": "code",
   "execution_count": 183,
   "id": "79291703-3c6f-408b-bd5a-f49c6e8923f3",
   "metadata": {},
   "outputs": [
    {
     "name": "stdout",
     "output_type": "stream",
     "text": [
      "                 Model                                         Best Param\n",
      "0        Random Forest  {'max_depth': 10, 'min_samples_leaf': 1, 'min_...\n",
      "1  Logistic Regression                   {'C': 10, 'solver': 'newton-cg'}\n",
      "2          Naive Bayes                                     {'alpha': 0.5}\n",
      "3                  SVM                                          {'C': 10}\n",
      "4              XGBoost            {'n_estimators': 200, 'subsample': 1.0}\n"
     ]
    }
   ],
   "source": [
    "print(df4_result)"
   ]
  },
  {
   "cell_type": "markdown",
   "id": "dbc4f5f7-9f24-4a06-aaf8-83cd5146190a",
   "metadata": {},
   "source": [
    "### Conclusion"
   ]
  },
  {
   "cell_type": "markdown",
   "id": "ad42b7e8-fb7b-45da-ae94-999324305f6c",
   "metadata": {},
   "source": [
    "Based on the provided metrics, **Logistic Regression** appears to be the best model overall. It has the highest accuracy after testing and the highest validation accuracy. It's also consistent across all metrics. Therefore, Logistic Regression may be the preferred choice for your classification task.\n"
   ]
  }
 ],
 "metadata": {
  "kernelspec": {
   "display_name": "Python 3 (ipykernel)",
   "language": "python",
   "name": "python3"
  },
  "language_info": {
   "codemirror_mode": {
    "name": "ipython",
    "version": 3
   },
   "file_extension": ".py",
   "mimetype": "text/x-python",
   "name": "python",
   "nbconvert_exporter": "python",
   "pygments_lexer": "ipython3",
   "version": "3.11.7"
  }
 },
 "nbformat": 4,
 "nbformat_minor": 5
}
