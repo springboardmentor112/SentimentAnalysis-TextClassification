{
 "cells": [
  {
   "cell_type": "code",
   "execution_count": 1,
   "id": "a24c6686",
   "metadata": {},
   "outputs": [],
   "source": [
    "import numpy as np\n",
    "import pandas as pd\n",
    "import re\n",
    "import matplotlib.pyplot as plt\n",
    "import seaborn as sns"
   ]
  },
  {
   "cell_type": "code",
   "execution_count": 2,
   "id": "e22f430c",
   "metadata": {},
   "outputs": [
    {
     "data": {
      "text/html": [
       "<div>\n",
       "<style scoped>\n",
       "    .dataframe tbody tr th:only-of-type {\n",
       "        vertical-align: middle;\n",
       "    }\n",
       "\n",
       "    .dataframe tbody tr th {\n",
       "        vertical-align: top;\n",
       "    }\n",
       "\n",
       "    .dataframe thead th {\n",
       "        text-align: right;\n",
       "    }\n",
       "</style>\n",
       "<table border=\"1\" class=\"dataframe\">\n",
       "  <thead>\n",
       "    <tr style=\"text-align: right;\">\n",
       "      <th></th>\n",
       "      <th>text</th>\n",
       "      <th>label</th>\n",
       "    </tr>\n",
       "  </thead>\n",
       "  <tbody>\n",
       "    <tr>\n",
       "      <th>0</th>\n",
       "      <td>i didnt feel humiliated</td>\n",
       "      <td>0</td>\n",
       "    </tr>\n",
       "    <tr>\n",
       "      <th>1</th>\n",
       "      <td>i can go from feeling so hopeless to so damned...</td>\n",
       "      <td>0</td>\n",
       "    </tr>\n",
       "    <tr>\n",
       "      <th>2</th>\n",
       "      <td>im grabbing a minute to post i feel greedy wrong</td>\n",
       "      <td>3</td>\n",
       "    </tr>\n",
       "    <tr>\n",
       "      <th>3</th>\n",
       "      <td>i am ever feeling nostalgic about the fireplac...</td>\n",
       "      <td>2</td>\n",
       "    </tr>\n",
       "    <tr>\n",
       "      <th>4</th>\n",
       "      <td>i am feeling grouchy</td>\n",
       "      <td>3</td>\n",
       "    </tr>\n",
       "    <tr>\n",
       "      <th>...</th>\n",
       "      <td>...</td>\n",
       "      <td>...</td>\n",
       "    </tr>\n",
       "    <tr>\n",
       "      <th>15995</th>\n",
       "      <td>i just had a very brief time in the beanbag an...</td>\n",
       "      <td>0</td>\n",
       "    </tr>\n",
       "    <tr>\n",
       "      <th>15996</th>\n",
       "      <td>i am now turning and i feel pathetic that i am...</td>\n",
       "      <td>0</td>\n",
       "    </tr>\n",
       "    <tr>\n",
       "      <th>15997</th>\n",
       "      <td>i feel strong and good overall</td>\n",
       "      <td>1</td>\n",
       "    </tr>\n",
       "    <tr>\n",
       "      <th>15998</th>\n",
       "      <td>i feel like this was such a rude comment and i...</td>\n",
       "      <td>3</td>\n",
       "    </tr>\n",
       "    <tr>\n",
       "      <th>15999</th>\n",
       "      <td>i know a lot but i feel so stupid because i ca...</td>\n",
       "      <td>0</td>\n",
       "    </tr>\n",
       "  </tbody>\n",
       "</table>\n",
       "<p>16000 rows × 2 columns</p>\n",
       "</div>"
      ],
      "text/plain": [
       "                                                    text  label\n",
       "0                                i didnt feel humiliated      0\n",
       "1      i can go from feeling so hopeless to so damned...      0\n",
       "2       im grabbing a minute to post i feel greedy wrong      3\n",
       "3      i am ever feeling nostalgic about the fireplac...      2\n",
       "4                                   i am feeling grouchy      3\n",
       "...                                                  ...    ...\n",
       "15995  i just had a very brief time in the beanbag an...      0\n",
       "15996  i am now turning and i feel pathetic that i am...      0\n",
       "15997                     i feel strong and good overall      1\n",
       "15998  i feel like this was such a rude comment and i...      3\n",
       "15999  i know a lot but i feel so stupid because i ca...      0\n",
       "\n",
       "[16000 rows x 2 columns]"
      ]
     },
     "execution_count": 2,
     "metadata": {},
     "output_type": "execute_result"
    }
   ],
   "source": [
    "df=pd.read_csv('Emotions_training.csv')\n",
    "df"
   ]
  },
  {
   "cell_type": "markdown",
   "id": "7160c7db",
   "metadata": {},
   "source": [
    "# lower case convertion"
   ]
  },
  {
   "cell_type": "markdown",
   "id": "25ec5557",
   "metadata": {},
   "source": [
    "use the string in built fucntion \"str.lower()\" for the text column"
   ]
  },
  {
   "cell_type": "code",
   "execution_count": 3,
   "id": "84eca250",
   "metadata": {},
   "outputs": [],
   "source": [
    "#converting to lowercase\n",
    "df['text']=df['text'].str.lower()"
   ]
  },
  {
   "cell_type": "markdown",
   "id": "eab9f0e8",
   "metadata": {},
   "source": [
    "# REMOVING THE LINK"
   ]
  },
  {
   "cell_type": "markdown",
   "id": "8b22c86e",
   "metadata": {},
   "source": [
    "removal of the link using the regular expression of the pattern or starts with http\\"
   ]
  },
  {
   "cell_type": "code",
   "execution_count": 4,
   "id": "c25bc40e",
   "metadata": {},
   "outputs": [],
   "source": [
    "#remove links\n",
    "import re\n",
    "\n",
    "text = df['text']\n",
    "\n",
    "def remove_links(text):\n",
    "    return re.sub(r'http\\S+', '', text)\n",
    "\n",
    "# Apply the function to remove links from each text in the 'text' column\n",
    "df['text'] = df['text'].apply(remove_links)"
   ]
  },
  {
   "cell_type": "markdown",
   "id": "7fe66df8",
   "metadata": {},
   "source": [
    "# Remove next lines (\\n)"
   ]
  },
  {
   "cell_type": "code",
   "execution_count": 5,
   "id": "e70eb6aa",
   "metadata": {},
   "outputs": [],
   "source": [
    "#\"\\n\" refers to the next line and by replacing the \"\\n\" with empty string \n",
    "df['text'] = df['text'].str.replace('\\n', '')"
   ]
  },
  {
   "cell_type": "markdown",
   "id": "8ee399a5",
   "metadata": {},
   "source": [
    "# Removal of Numbers"
   ]
  },
  {
   "cell_type": "code",
   "execution_count": 6,
   "id": "0716a804",
   "metadata": {},
   "outputs": [],
   "source": [
    "#remove words containing numbers\n",
    "text=df['text']\n",
    "def remove_words_with_numbers(text):\n",
    "    words = text.split() \n",
    "    clean_words = [] \n",
    "    for word in words:\n",
    "        has_digit = False\n",
    "        for char in word:\n",
    "            if char.isdigit():\n",
    "                has_digit = True\n",
    "                break\n",
    "        if not has_digit:\n",
    "            clean_words.append(word)  # If the word does not contain any digit, add it to the clean words list\n",
    "    return' '.join(clean_words)  # Join the clean words list back to string\n",
    "df['text'] = df['text'].apply(remove_words_with_numbers)\n"
   ]
  },
  {
   "cell_type": "markdown",
   "id": "1920d494",
   "metadata": {},
   "source": [
    "# REMOVE whitespaces"
   ]
  },
  {
   "cell_type": "code",
   "execution_count": 7,
   "id": "3c9a0b66",
   "metadata": {},
   "outputs": [],
   "source": [
    "#strip() function used to remove trailing whitespaces\n",
    "df['text'] = df['text'].str.strip()"
   ]
  },
  {
   "cell_type": "markdown",
   "id": "e4e76254",
   "metadata": {},
   "source": [
    "# REMOVE Special characters and EMOJIS "
   ]
  },
  {
   "cell_type": "code",
   "execution_count": 7,
   "id": "8ec6eb5e",
   "metadata": {},
   "outputs": [],
   "source": [
    "#remove special characters \n",
    "def remove_special_characters(text):\n",
    "    special_characters = \"!\\\"#$%&'()*+,-./:;<=>?@[\\]^_`{|}~\"\n",
    "    for char in special_characters:\n",
    "        text = text.replace(char, '')\n",
    "    return text\n",
    "\n",
    "df['text'] = df['text'].apply(remove_special_characters)"
   ]
  },
  {
   "cell_type": "code",
   "execution_count": 8,
   "id": "bcacd291",
   "metadata": {},
   "outputs": [],
   "source": [
    "#remove emojis\n",
    "import emoji\n",
    "import pandas as pd\n",
    "\n",
    "# Assuming 'df' is your DataFrame with a 'content' column containing text with emojis\n",
    "text = df['text']\n",
    "\n",
    "# Define a function to remove emojis\n",
    "def remove_emojis(text):\n",
    "    return emoji.demojize(text)\n",
    "\n",
    "# Applying remove_emojis() function to each element of the 'content' column\n",
    "text_without_emojis = text.apply(remove_emojis)\n",
    "\n"
   ]
  },
  {
   "cell_type": "markdown",
   "id": "31ec3454",
   "metadata": {},
   "source": [
    "# Removal of stop words using gensim library"
   ]
  },
  {
   "cell_type": "markdown",
   "id": "906780ed",
   "metadata": {},
   "source": [
    "**Gensim, a popular Python library for topic modeling and natural language processing, offers the remove_stopwords function to eliminate common stopwords from text data. By invoking this function, you can efficiently preprocess text by removing irrelevant words like \"the,\" \"is,\" and \"and,\" facilitating downstream analysis tasks such as text classification or topic modeling."
   ]
  },
  {
   "cell_type": "code",
   "execution_count": 30,
   "id": "efd374f4",
   "metadata": {},
   "outputs": [],
   "source": [
    "from gensim.parsing.preprocessing import preprocess_string\n",
    "df['text'] = [' '.join(preprocess_string(text)) for text in df['text']]\n"
   ]
  },
  {
   "cell_type": "markdown",
   "id": "1549caa9",
   "metadata": {},
   "source": [
    "# Stemming"
   ]
  },
  {
   "cell_type": "markdown",
   "id": "f87b9d06",
   "metadata": {},
   "source": [
    "**Stemming is a natural language processing technique used to reduce words to their root or base form, enabling normalization and simplification of text data. It helps in improving text analysis tasks such as information retrieval, sentiment analysis, and topic modeling by treating variations of words as a single entity. Popular stemming algorithms include Porter Stemmer, Snowball Stemmer, and Lancaster Stemmer."
   ]
  },
  {
   "cell_type": "code",
   "execution_count": 37,
   "id": "10d430c6",
   "metadata": {},
   "outputs": [],
   "source": [
    "import pandas as pd\n",
    "from nltk.stem import PorterStemmer\n",
    "from nltk.tokenize import word_tokenize\n",
    "\n",
    "\n",
    "#Tokenization is the process of breaking down a text or document into smaller units\n",
    "\n",
    "ps = PorterStemmer() #PorterStemmer is used for stemming, which is the process of reducing words to their base or root form\n",
    "\n",
    "\n",
    "def stem_sentence(sentence):\n",
    "    words = word_tokenize(sentence) \n",
    "    stemmed_words = [ps.stem(word) for word in words]\n",
    "    return ' '.join(stemmed_words)\n",
    "\n",
    "\n",
    "df['text'] = df['text'].apply(stem_sentence)\n",
    "\n"
   ]
  },
  {
   "cell_type": "markdown",
   "id": "b319bb8b",
   "metadata": {},
   "source": [
    "# difference between stemming and lemitizing\n",
    "**Stemming involves stripping affixes from words to get to the root form. It's done using simple and fast heuristic algorithms, which may result in the stem not being a valid word. For example, \"running\" would be stemmed to \"run\".\n",
    "\n",
    "**Lemmatization, on the other hand, considers the context and meaning of the word along with its morphology to reduce it to its base or dictionary form (lemma). It often requires more computational resources and linguistic knowledge but results in valid words."
   ]
  },
  {
   "cell_type": "markdown",
   "id": "6db39b9a",
   "metadata": {},
   "source": [
    "# LEMITIZING"
   ]
  },
  {
   "cell_type": "markdown",
   "id": "85801c65",
   "metadata": {},
   "source": [
    "Lemmatization is a linguistic process used to reduce words to their base or canonical form, known as the lemma, by considering the word's meaning and context. Unlike stemming, which simply removes suffixes or prefixes, lemmatization ensures that the resulting word is a valid one found in the language's dictionary."
   ]
  },
  {
   "cell_type": "code",
   "execution_count": 10,
   "id": "9b113c27",
   "metadata": {},
   "outputs": [
    {
     "name": "stderr",
     "output_type": "stream",
     "text": [
      "[nltk_data] Downloading package wordnet to\n",
      "[nltk_data]     /Users/yashas.m/nltk_data...\n",
      "[nltk_data]   Package wordnet is already up-to-date!\n",
      "[nltk_data] Downloading package omw-1.4 to\n",
      "[nltk_data]     /Users/yashas.m/nltk_data...\n",
      "[nltk_data]   Package omw-1.4 is already up-to-date!\n"
     ]
    },
    {
     "data": {
      "text/plain": [
       "True"
      ]
     },
     "execution_count": 10,
     "metadata": {},
     "output_type": "execute_result"
    }
   ],
   "source": [
    "#lemitizing \n",
    "import nltk\n",
    "nltk.download('wordnet')\n",
    "nltk.download('omw-1.4')\n",
    "\n"
   ]
  },
  {
   "cell_type": "code",
   "execution_count": 38,
   "id": "4de05481",
   "metadata": {},
   "outputs": [],
   "source": [
    "from nltk.stem import WordNetLemmatizer\n",
    "from nltk.tokenize import word_tokenize\n",
    "lemmatizer = WordNetLemmatizer()\n",
    "\n",
    "\n",
    "def lemmatize_text(text):\n",
    "    tokens = word_tokenize(text)\n",
    "    lemmatized_tokens = [lemmatizer.lemmatize(token) for token in tokens] #lemmatize each token in the list of tokens\n",
    "    return ' '.join(lemmatized_tokens)\n",
    "\n",
    "\n",
    "df['text'] = df['text'].apply(lemmatize_text)"
   ]
  },
  {
   "cell_type": "markdown",
   "id": "1308adea",
   "metadata": {},
   "source": [
    "**this below code helps in adding the different label classes into the respective arrays created for each labels \n",
    "and the displaying the count of each classes/label-0,1,2,3,4,5 that is sadness,joy,love,anger,fear and surprise"
   ]
  },
  {
   "cell_type": "code",
   "execution_count": 40,
   "id": "11c0eb15",
   "metadata": {},
   "outputs": [
    {
     "name": "stdout",
     "output_type": "stream",
     "text": [
      "the count of sadness is: 4666\n",
      "the count of joy is: 5362\n",
      "the count of love is: 1304\n",
      "the count of anger is: 2159\n",
      "the count of fear is: 1937\n",
      "the count of surprise is : 572\n"
     ]
    }
   ],
   "source": [
    "count = df['text'].count()# total count of the data/sample in the dataset\n",
    "label=df['label'] \n",
    "text=df['text']\n",
    "#creating the empty arrays \n",
    "label0 = []\n",
    "label1 = []\n",
    "label2 = []\n",
    "label3 = []\n",
    "label4 = []\n",
    "label5 = []\n",
    "#this for loop helps in appending the each sample/data into the respective labels array based on the if conditions\n",
    "for i in range(count):\n",
    "    if label[i] == 0:\n",
    "        label0.append(text[i])\n",
    "    elif label[i] == 1:\n",
    "        label1.append(text[i])\n",
    "    elif label[i] == 2:\n",
    "        label2.append(text[i])\n",
    "    elif label[i] == 3:\n",
    "        label3.append(text[i])\n",
    "    elif label[i] == 4:\n",
    "        label4.append(text[i])\n",
    "        \n",
    "    elif label[i]==5:\n",
    "        label5.append(text[i])\n",
    "    else:\n",
    "        pass\n",
    "#displaying the length of each labels \n",
    "print(\"the count of sadness is:\",len(label0))\n",
    "print(\"the count of joy is:\",len(label1))\n",
    "print(\"the count of love is:\",len(label2))\n",
    "print(\"the count of anger is:\",len(label3))\n",
    "print(\"the count of fear is:\",len(label4))\n",
    "print(\"the count of surprise is :\",len(label5))"
   ]
  },
  {
   "cell_type": "markdown",
   "id": "29541e4f",
   "metadata": {},
   "source": [
    "**percentage of each  label in the dataset "
   ]
  },
  {
   "cell_type": "code",
   "execution_count": 43,
   "id": "e98144f4",
   "metadata": {},
   "outputs": [
    {
     "name": "stdout",
     "output_type": "stream",
     "text": [
      "the perecentage of leabel\n",
      " 0=29.1625% \n",
      " 1=33.5125% \n",
      " 2=8.15% \n",
      " 3=13.493749999999999% \n",
      " 4=12.106250000000001% \n",
      " 5=3.5749999999999997%\n"
     ]
    }
   ],
   "source": [
    "#individual percentage\n",
    "l0=(len(label0)/count)*100\n",
    "l1=(len(label1)/count)*100\n",
    "l2=(len(label2)/count)*100\n",
    "l3=(len(label3)/count)*100\n",
    "l4=(len(label4)/count)*100\n",
    "l5=(len(label5)/count)*100\n",
    "print(f\"the perecentage of leabel\\n 0={l0}% \\n 1={l1}% \\n 2={l2}% \\n 3={l3}% \\n 4={l4}% \\n 5={l5}%\")"
   ]
  },
  {
   "cell_type": "markdown",
   "id": "0887f65b",
   "metadata": {},
   "source": [
    "# BAR graph representation"
   ]
  },
  {
   "cell_type": "markdown",
   "id": "dff0d1ce",
   "metadata": {},
   "source": [
    "**this helps to visualize the each label and helps in finding out whether the dataset is imbalanced!"
   ]
  },
  {
   "cell_type": "code",
   "execution_count": 14,
   "id": "70d22bdb",
   "metadata": {},
   "outputs": [
    {
     "data": {
      "image/png": "[encoded data removed]",
      "text/plain": [
       "<Figure size 576x432 with 1 Axes>"
      ]
     },
     "metadata": {
      "needs_background": "light"
     },
     "output_type": "display_data"
    }
   ],
   "source": [
    "import matplotlib.pyplot as plt\n",
    "import seaborn as sns\n",
    "\n",
    "labels = ['sadness', 'joy', 'love', 'anger','fear','surprise']\n",
    "counts = [len(label0), len(label1), len(label2), len(label3), len(label4),len(label5)]\n",
    "\n",
    "\n",
    "plt.figure(figsize=(8, 6))\n",
    "sns.barplot(x=labels, y=counts)\n",
    "plt.title('Count of each labels')\n",
    "plt.xlabel('labels')\n",
    "plt.ylabel('Count')\n",
    "plt.show()\n"
   ]
  },
  {
   "cell_type": "markdown",
   "id": "bd8144fb",
   "metadata": {},
   "source": [
    "**In the above bar graph it denotes that the text related to the joy-1 is maximum and text related to the surprise  label -5 is minimum "
   ]
  },
  {
   "cell_type": "markdown",
   "id": "aa950a80",
   "metadata": {},
   "source": [
    "# Balancing the dataset classes "
   ]
  },
  {
   "cell_type": "markdown",
   "id": "112a73d4",
   "metadata": {},
   "source": [
    "**oversampling is better than under_sampling bcoz there might be some important data misses in the undersample due to less data or reduction od data size in each class"
   ]
  },
  {
   "cell_type": "markdown",
   "id": "327e2c29",
   "metadata": {},
   "source": [
    "resample module from scikit-learn's utils subpackage provides functions for resampling data, particularly useful for addressing class imbalance in classification tasks. It allows you to randomly oversample minority classes or undersample majority classes to balance the dataset, improving the performance of machine learning models."
   ]
  },
  {
   "cell_type": "markdown",
   "id": "807bb998",
   "metadata": {},
   "source": [
    "label-1 had the maximum samples / text so we have upsampled / increased the all minority classes until it reaches the label-1 sample count"
   ]
  },
  {
   "cell_type": "code",
   "execution_count": 16,
   "id": "05a99db5",
   "metadata": {},
   "outputs": [
    {
     "name": "stdout",
     "output_type": "stream",
     "text": [
      "1    5362\n",
      "0    5362\n",
      "3    5362\n",
      "4    5362\n",
      "2    5362\n",
      "5    5362\n",
      "Name: label, dtype: int64\n"
     ]
    }
   ],
   "source": [
    "from sklearn.utils import resample\n",
    "\n",
    "\n",
    "# Count the number of samples in each class\n",
    "class_counts = df['label'].value_counts()\n",
    "\n",
    "# target count using maximum count among all the label \n",
    "target_count = class_counts.max()\n",
    "\n",
    "\n",
    "resampled_data = []\n",
    "\n",
    "# Loop through each class\n",
    "for label in class_counts.index:\n",
    "    # Extract data for the current class\n",
    "    class_data = df[df['label'] == label]\n",
    "    \n",
    "    # Upsample (oversample) the class to match the target count\n",
    "    sampled_data = resample(class_data, replace=True, n_samples=target_count, random_state=42)\n",
    "    \n",
    "    # Append the resampled data to the list\n",
    "    resampled_data.append(sampled_data)\n",
    "\n",
    "# Concatenate the resampled data for all classes\n",
    "balanced_df = pd.concat(resampled_data)\n",
    "\n",
    "# Displaying the count of samples in each class after balancing the dataset classes \n",
    "print(balanced_df['label'].value_counts())\n"
   ]
  },
  {
   "cell_type": "code",
   "execution_count": 23,
   "id": "e18215b5",
   "metadata": {},
   "outputs": [
    {
     "data": {
      "text/html": [
       "<div>\n",
       "<style scoped>\n",
       "    .dataframe tbody tr th:only-of-type {\n",
       "        vertical-align: middle;\n",
       "    }\n",
       "\n",
       "    .dataframe tbody tr th {\n",
       "        vertical-align: top;\n",
       "    }\n",
       "\n",
       "    .dataframe thead th {\n",
       "        text-align: right;\n",
       "    }\n",
       "</style>\n",
       "<table border=\"1\" class=\"dataframe\">\n",
       "  <thead>\n",
       "    <tr style=\"text-align: right;\">\n",
       "      <th></th>\n",
       "      <th>text</th>\n",
       "      <th>label</th>\n",
       "    </tr>\n",
       "  </thead>\n",
       "  <tbody>\n",
       "    <tr>\n",
       "      <th>2491</th>\n",
       "      <td>i feel glad that justice will be served west said</td>\n",
       "      <td>1</td>\n",
       "    </tr>\n",
       "    <tr>\n",
       "      <th>15585</th>\n",
       "      <td>i feel really valuable because of this knowing...</td>\n",
       "      <td>1</td>\n",
       "    </tr>\n",
       "    <tr>\n",
       "      <th>15488</th>\n",
       "      <td>i certainly have never felt it wa appropriate ...</td>\n",
       "      <td>1</td>\n",
       "    </tr>\n",
       "    <tr>\n",
       "      <th>11161</th>\n",
       "      <td>i feel assured that the future of online enter...</td>\n",
       "      <td>1</td>\n",
       "    </tr>\n",
       "    <tr>\n",
       "      <th>9145</th>\n",
       "      <td>i feel so thankful i have been able to figure ...</td>\n",
       "      <td>1</td>\n",
       "    </tr>\n",
       "    <tr>\n",
       "      <th>...</th>\n",
       "      <td>...</td>\n",
       "      <td>...</td>\n",
       "    </tr>\n",
       "    <tr>\n",
       "      <th>15825</th>\n",
       "      <td>i even feel it is a game that i am a part of s...</td>\n",
       "      <td>5</td>\n",
       "    </tr>\n",
       "    <tr>\n",
       "      <th>5319</th>\n",
       "      <td>i wa talking to my district leader elder hill ...</td>\n",
       "      <td>5</td>\n",
       "    </tr>\n",
       "    <tr>\n",
       "      <th>4775</th>\n",
       "      <td>i know this isnt real but it feel strange to m...</td>\n",
       "      <td>5</td>\n",
       "    </tr>\n",
       "    <tr>\n",
       "      <th>1756</th>\n",
       "      <td>i feel kinda strange too cause i didnt encount...</td>\n",
       "      <td>5</td>\n",
       "    </tr>\n",
       "    <tr>\n",
       "      <th>3361</th>\n",
       "      <td>i don t mean this to be a serious recollection...</td>\n",
       "      <td>5</td>\n",
       "    </tr>\n",
       "  </tbody>\n",
       "</table>\n",
       "<p>32172 rows × 2 columns</p>\n",
       "</div>"
      ],
      "text/plain": [
       "                                                    text  label\n",
       "2491   i feel glad that justice will be served west said      1\n",
       "15585  i feel really valuable because of this knowing...      1\n",
       "15488  i certainly have never felt it wa appropriate ...      1\n",
       "11161  i feel assured that the future of online enter...      1\n",
       "9145   i feel so thankful i have been able to figure ...      1\n",
       "...                                                  ...    ...\n",
       "15825  i even feel it is a game that i am a part of s...      5\n",
       "5319   i wa talking to my district leader elder hill ...      5\n",
       "4775   i know this isnt real but it feel strange to m...      5\n",
       "1756   i feel kinda strange too cause i didnt encount...      5\n",
       "3361   i don t mean this to be a serious recollection...      5\n",
       "\n",
       "[32172 rows x 2 columns]"
      ]
     },
     "execution_count": 23,
     "metadata": {},
     "output_type": "execute_result"
    }
   ],
   "source": [
    "balanced_df"
   ]
  },
  {
   "cell_type": "code",
   "execution_count": 29,
   "id": "113154c8",
   "metadata": {},
   "outputs": [
    {
     "data": {
      "image/png": "[encoded data removed]",
      "text/plain": [
       "<Figure size 576x432 with 1 Axes>"
      ]
     },
     "metadata": {
      "needs_background": "light"
     },
     "output_type": "display_data"
    }
   ],
   "source": [
    "# Plot the count of each label\n",
    "plt.figure(figsize=(8, 6))\n",
    "sns.countplot(x='label', data=balanced_df)\n",
    "plt.title('Count of each label')\n",
    "plt.xlabel('Label')\n",
    "plt.ylabel('Count')\n",
    "plt.show()"
   ]
  },
  {
   "cell_type": "markdown",
   "id": "28c2c580",
   "metadata": {},
   "source": [
    "**vectorization-\n",
    "Text vectorization converts text data into numerical vectors, representing features such as word frequencies or semantic meanings. This transformation allows machine learning algorithms to process and analyze text, enabling tasks like sentiment analysis"
   ]
  },
  {
   "cell_type": "code",
   "execution_count": 48,
   "id": "95b24828",
   "metadata": {},
   "outputs": [
    {
     "name": "stdout",
     "output_type": "stream",
     "text": [
      "  (0, 707)\t0.5175330609461364\n",
      "  (0, 70)\t0.3115233642712998\n",
      "  (0, 967)\t0.40345847565172266\n",
      "  (0, 842)\t0.22087325574417688\n",
      "  (0, 345)\t0.6370772623689983\n",
      "  (0, 292)\t0.13297198740709323\n",
      "  (1, 844)\t0.1349359557697261\n",
      "  (1, 984)\t0.4733761927248446\n",
      "  (1, 531)\t0.20505265060184572\n",
      "  (1, 384)\t0.29193035590498373\n",
      "  (1, 471)\t0.4347335223218672\n",
      "  (1, 855)\t0.20858530017343338\n",
      "  (1, 588)\t0.15768893943470058\n",
      "  (1, 73)\t0.24773074185366067\n",
      "  (1, 917)\t0.4845027963333699\n",
      "  (1, 680)\t0.2606637577070663\n",
      "  (1, 292)\t0.09492842877210439\n",
      "  (2, 555)\t0.13703738604232657\n",
      "  (2, 50)\t0.1411005321649605\n",
      "  (2, 850)\t0.1519360056957998\n",
      "  (2, 605)\t0.17479529779540656\n",
      "  (2, 745)\t0.2313732097152151\n",
      "  (2, 39)\t0.20903093961707547\n",
      "  (2, 603)\t0.2632889741122462\n",
      "  (2, 77)\t0.1927093807716289\n",
      "  :\t:\n",
      "  (32170, 872)\t0.2928237971984529\n",
      "  (32170, 969)\t0.19608885613837304\n",
      "  (32170, 292)\t0.0885348433383372\n",
      "  (32171, 331)\t0.4394914422563638\n",
      "  (32171, 9)\t0.30017930360968903\n",
      "  (32171, 79)\t0.2895993191825117\n",
      "  (32171, 795)\t0.25197084208418774\n",
      "  (32171, 487)\t0.2303129927074983\n",
      "  (32171, 774)\t0.2504671609772828\n",
      "  (32171, 68)\t0.19793915084608085\n",
      "  (32171, 223)\t0.1982050935837375\n",
      "  (32171, 599)\t0.20288439806688593\n",
      "  (32171, 532)\t0.24063230388465698\n",
      "  (32171, 293)\t0.08710829828228171\n",
      "  (32171, 959)\t0.22119441789096814\n",
      "  (32171, 583)\t0.13571778781684202\n",
      "  (32171, 338)\t0.17485236485601527\n",
      "  (32171, 943)\t0.18402484297107785\n",
      "  (32171, 762)\t0.12448048904282082\n",
      "  (32171, 436)\t0.11354088240480868\n",
      "  (32171, 866)\t0.16267305294744813\n",
      "  (32171, 844)\t0.0841146993240975\n",
      "  (32171, 855)\t0.13002531243382162\n",
      "  (32171, 588)\t0.19659634308176782\n",
      "  (32171, 70)\t0.13863438635681394\n"
     ]
    }
   ],
   "source": [
    "from sklearn.feature_extraction.text import TfidfVectorizer\n",
    "\n",
    "\n",
    "# Handle NaN values by replacing them with an empty string\n",
    "balanced_df['text'].fillna('', inplace=True)\n",
    "\n",
    "# Vectorize the text data using TF-IDF representation\n",
    "vectorizer = TfidfVectorizer(max_features=1000)\n",
    "X = vectorizer.fit_transform(balanced_df['text'])\n",
    "print(X)"
   ]
  },
  {
   "cell_type": "markdown",
   "id": "cd13a01f",
   "metadata": {},
   "source": [
    "## SPLITTING OF DATASET INTO TRAIN[70%],TEST[20%] AND VALIDATE [10%] DATASET"
   ]
  },
  {
   "cell_type": "code",
   "execution_count": 22,
   "id": "2954911d",
   "metadata": {},
   "outputs": [],
   "source": [
    "from sklearn.model_selection import train_test_split\n",
    "y=balanced_df['label']\n",
    "# First, split the dataset into Train (70%) and combined Test-Validation (30%)\n",
    "X_train, X_test_val, y_train, y_test_val = train_test_split(X, y, test_size=0.3, random_state=42)\n",
    "\n",
    "# Then, split the combined Test-Validation set into Test (20%) and Validation (10%)\n",
    "X_test, X_val, y_test, y_val = train_test_split(X_test_val, y_test_val, test_size=1/3, random_state=42)\n",
    "\n"
   ]
  },
  {
   "cell_type": "markdown",
   "id": "327430fb",
   "metadata": {},
   "source": [
    "# RANDOM FOREST (NOT FULLY DONE )"
   ]
  },
  {
   "cell_type": "markdown",
   "id": "aec2d094",
   "metadata": {},
   "source": [
    "**Random Forest is a popular ensemble learning algorithm that builds multiple decision trees during training and combines their predictions through voting or averaging. It's robust against overfitting, capable of handling large datasets with high dimensionality"
   ]
  },
  {
   "cell_type": "code",
   "execution_count": 23,
   "id": "e895819f",
   "metadata": {},
   "outputs": [
    {
     "name": "stdout",
     "output_type": "stream",
     "text": [
      "Accuracy: 0.9522847373329189\n"
     ]
    }
   ],
   "source": [
    "from sklearn.ensemble import RandomForestClassifier\n",
    "from sklearn.model_selection import train_test_split\n",
    "from sklearn.metrics import accuracy_score, classification_report\n",
    "\n",
    "# Initialize the Random Forest classifier\n",
    "rf_classifier = RandomForestClassifier(n_estimators=100, random_state=42)\n",
    "\n",
    "# Train the classifier on the training data\n",
    "rf_classifier.fit(X_train, y_train)\n",
    "\n",
    "# Predict on the test data\n",
    "y_pred = rf_classifier.predict(X_test)\n",
    "\n",
    "# Calculate accuracy\n",
    "accuracy = accuracy_score(y_test, y_pred)\n",
    "print(\"Accuracy:\", accuracy)\n",
    "\n",
    "\n"
   ]
  },
  {
   "cell_type": "markdown",
   "id": "985893a9",
   "metadata": {},
   "source": [
    "The classification report provides metrics such as precision, recall, and F1-score, which evaluate the performance of a classification model. Precision measures the accuracy of positive predictions, recall measures the proportion of true positives correctly identified, and the F1-score balances precision and recall. Support indicates the number of instances in each class. \n",
    "\n",
    "\n",
    "\n",
    "\n",
    "\n"
   ]
  },
  {
   "cell_type": "code",
   "execution_count": 24,
   "id": "6023ba99",
   "metadata": {},
   "outputs": [
    {
     "name": "stdout",
     "output_type": "stream",
     "text": [
      "Classification Report:\n",
      "              precision    recall  f1-score   support\n",
      "\n",
      "           0       0.95      0.88      0.91      1097\n",
      "           1       0.90      0.91      0.90      1104\n",
      "           2       0.96      1.00      0.98      1069\n",
      "           3       0.97      0.96      0.97      1053\n",
      "           4       0.96      0.97      0.97      1054\n",
      "           5       0.97      1.00      0.99      1057\n",
      "\n",
      "    accuracy                           0.95      6434\n",
      "   macro avg       0.95      0.95      0.95      6434\n",
      "weighted avg       0.95      0.95      0.95      6434\n",
      "\n"
     ]
    }
   ],
   "source": [
    "# classification report\n",
    "print(\"Classification Report:\")\n",
    "print(classification_report(y_test, y_pred))"
   ]
  },
  {
   "cell_type": "markdown",
   "id": "4a091ed2",
   "metadata": {},
   "source": [
    "https://www.datacamp.com/tutorial/random-forests-classifier-python\n",
    "\n",
    "https://towardsdatascience.com/random-forest-in-python-24d0893d51c0"
   ]
  },
  {
   "cell_type": "markdown",
   "id": "91afac8b",
   "metadata": {},
   "source": [
    "**I AM STILL WORKING OF RANDOM FOREST ALGORITHM"
   ]
  },
  {
   "cell_type": "markdown",
   "id": "0176c472",
   "metadata": {},
   "source": [
    "WORKS PENDING \n",
    "->CREATING 2 ADDITIONAL MODELS USING SVM AND DEEPLEARNING ALGORITHM\n",
    "->DATA VISUALIZATION\n",
    "-> COMPARISION BETWEEN DIFFERENT MODELS \n",
    "->SELECTING THE BEST MODEL\n",
    "AND VALIDATING THAT USING THE VALIDATE DATASET."
   ]
  }
 ],
 "metadata": {
  "kernelspec": {
   "display_name": "Python 3 (ipykernel)",
   "language": "python",
   "name": "python3"
  },
  "language_info": {
   "codemirror_mode": {
    "name": "ipython",
    "version": 3
   },
   "file_extension": ".py",
   "mimetype": "text/x-python",
   "name": "python",
   "nbconvert_exporter": "python",
   "pygments_lexer": "ipython3",
   "version": "3.9.12"
  }
 },
 "nbformat": 4,
 "nbformat_minor": 5
}
