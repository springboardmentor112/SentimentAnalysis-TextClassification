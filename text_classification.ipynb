{
 "cells": [
  {
   "cell_type": "code",
   "execution_count": 1,
   "id": "611acf79-be36-4ff0-8de0-71c62332e751",
   "metadata": {},
   "outputs": [
    {
     "name": "stderr",
     "output_type": "stream",
     "text": [
      "[nltk_data] Downloading package wordnet to\n",
      "[nltk_data]     C:\\Users\\AMBUJ\\AppData\\Roaming\\nltk_data...\n",
      "[nltk_data]   Package wordnet is already up-to-date!\n",
      "[nltk_data] Downloading package omw-1.4 to\n",
      "[nltk_data]     C:\\Users\\AMBUJ\\AppData\\Roaming\\nltk_data...\n",
      "[nltk_data]   Package omw-1.4 is already up-to-date!\n",
      "[nltk_data] Downloading package stopwords to\n",
      "[nltk_data]     C:\\Users\\AMBUJ\\AppData\\Roaming\\nltk_data...\n",
      "[nltk_data]   Package stopwords is already up-to-date!\n",
      "[nltk_data] Downloading package punkt to\n",
      "[nltk_data]     C:\\Users\\AMBUJ\\AppData\\Roaming\\nltk_data...\n",
      "[nltk_data]   Package punkt is already up-to-date!\n"
     ]
    }
   ],
   "source": [
    "import numpy as np\n",
    "import pandas as pd\n",
    "import re\n",
    "import nltk\n",
    "from nltk.corpus import stopwords\n",
    "from nltk.stem import PorterStemmer\n",
    "from nltk.tokenize import word_tokenize \n",
    "from nltk.stem import WordNetLemmatizer\n",
    "import matplotlib.pyplot as plt\n",
    "nltk.download('wordnet')\n",
    "nltk.download('omw-1.4')\n",
    "nltk.download('stopwords')\n",
    "nltk.download('punkt')\n",
    "import pandas as pd\n",
    "from sklearn.model_selection import train_test_split\n",
    "from sklearn.feature_extraction.text import CountVectorizer\n",
    "from sklearn.naive_bayes import MultinomialNB\n",
    "from sklearn.metrics import accuracy_score\n",
    "from sklearn.feature_extraction.text import TfidfVectorizer"
   ]
  },
  {
   "cell_type": "code",
   "execution_count": 31,
   "id": "ad1c784d-8d88-4899-bc13-33212613799b",
   "metadata": {},
   "outputs": [
    {
     "name": "stdout",
     "output_type": "stream",
     "text": [
      "                                                text  label\n",
      "0                            i didnt feel humiliated      0\n",
      "1  i can go from feeling so hopeless to so damned...      0\n",
      "2   im grabbing a minute to post i feel greedy wrong      3\n",
      "3  i am ever feeling nostalgic about the fireplac...      2\n",
      "4                               i am feeling grouchy      3\n"
     ]
    }
   ],
   "source": [
    "path='C:\\\\Users\\\\AMBUJ\\\\INFOSYS PROJECT\\\\Emotions_training.csv'\n",
    "data= pd.read_csv(path)\n",
    "print(data.head())              #import data\n"
   ]
  },
  {
   "cell_type": "markdown",
   "id": "9d3060e5-dcb4-4c9c-890c-242cc6d3319e",
   "metadata": {},
   "source": [
    "## Preprocessing"
   ]
  },
  {
   "cell_type": "code",
   "execution_count": 37,
   "id": "163e2a18-ecaa-42f0-bc1c-e1c5282dab6e",
   "metadata": {},
   "outputs": [
    {
     "name": "stdout",
     "output_type": "stream",
     "text": [
      "                                                    text  \\\n",
      "0                                i didnt feel humiliated   \n",
      "1      i can go from feeling so hopeless to so damned...   \n",
      "2       im grabbing a minute to post i feel greedy wrong   \n",
      "3      i am ever feeling nostalgic about the fireplac...   \n",
      "4                                   i am feeling grouchy   \n",
      "...                                                  ...   \n",
      "15995  i just had a very brief time in the beanbag an...   \n",
      "15996  i am now turning and i feel pathetic that i am...   \n",
      "15997                     i feel strong and good overall   \n",
      "15998  i feel like this was such a rude comment and i...   \n",
      "15999  i know a lot but i feel so stupid because i ca...   \n",
      "\n",
      "                                       preprocessed_text  \n",
      "0                                  didnt feel humiliated  \n",
      "1      go feeling hopeless damned hopeful around some...  \n",
      "2              im grabbing minute post feel greedy wrong  \n",
      "3      ever feeling nostalgic fireplace know still pr...  \n",
      "4                                        feeling grouchy  \n",
      "...                                                  ...  \n",
      "15995      brief time beanbag said anna feel like beaten  \n",
      "15996  turning feel pathetic still waiting table subb...  \n",
      "15997                           feel strong good overall  \n",
      "15998                     feel like rude comment im glad  \n",
      "15999                       know lot feel stupid portray  \n",
      "\n",
      "[16000 rows x 2 columns]\n",
      "Shape of feature vectors: (16000, 13456)\n"
     ]
    }
   ],
   "source": [
    "# Function to preprocess text\n",
    "def preprocess_text(text):\n",
    "    # Convert text to lowercase\n",
    "    text = text.lower()\n",
    "    # Remove special characters and numbers\n",
    "    text = re.sub(r'[^a-zA-Z\\s]', '', text)\n",
    "    # Tokenize the text\n",
    "    tokens = word_tokenize(text)\n",
    "    # Remove stopwords\n",
    "    stop_words = set(stopwords.words('english'))\n",
    "    tokens = [word for word in tokens if word not in stop_words]\n",
    "    # Lemmatization\n",
    "    lemmatizer = WordNetLemmatizer()\n",
    "    tokens = [lemmatizer.lemmatize(word) for word in tokens]\n",
    "    # Join tokens back into string\n",
    "    preprocessed_text = ' '.join(tokens)\n",
    "    return preprocessed_text\n",
    "\n",
    "# Apply preprocessing to the 'text' column\n",
    "data['preprocessed_text'] = data['text'].apply(preprocess_text)\n",
    "\n",
    "# Display the preprocessed data\n",
    "print(data[['text', 'preprocessed_text']])\n",
    "\n"
   ]
  },
  {
   "cell_type": "markdown",
   "id": "7274ea86-432f-487e-97c9-4cc973fa2a12",
   "metadata": {},
   "source": [
    "## TF-IDF vectorizer"
   ]
  },
  {
   "cell_type": "code",
   "execution_count": 44,
   "id": "75b3780b-4f4f-4862-8caa-ca91ce303029",
   "metadata": {},
   "outputs": [
    {
     "name": "stdout",
     "output_type": "stream",
     "text": [
      "Shape of feature vectors: (16000, 13456)\n"
     ]
    }
   ],
   "source": [
    "# Initialize TF-IDF vectorizer\n",
    "tfidf_vectorizer = TfidfVectorizer()\n",
    "\n",
    "# Fit and transform the preprocessed text data\n",
    "X_tfidf = tfidf_vectorizer.fit_transform(data['preprocessed_text'])\n",
    "\n",
    "\n",
    "print(\"Shape of feature vectors:\", X_tfidf.shape)\n"
   ]
  },
  {
   "cell_type": "code",
   "execution_count": 45,
   "id": "b8b82d99-13af-459f-b8fb-d7a311c2c9c9",
   "metadata": {},
   "outputs": [
    {
     "name": "stdout",
     "output_type": "stream",
     "text": [
      "Training set shape: (12800, 1) (12800,)\n",
      "Testing set shape: (3200, 1) (3200,)\n",
      "Emotion of first label in training set: joy\n"
     ]
    }
   ],
   "source": [
    "from sklearn.model_selection import train_test_split\n",
    "\n",
    "# Split the data into features (X) and labels (y)\n",
    "X = data[['preprocessed_text']]  # Assuming 'preprocessed_text' is the feature column\n",
    "y = data['label']  # Assuming 'label' is the target column\n",
    "\n",
    "# Split the data into training and testing sets (80% train, 20% test)\n",
    "X_train, X_test, y_train, y_test = train_test_split(X, y, test_size=0.2, random_state=42)\n",
    "\n",
    "# Display the shapes of the training and testing sets\n",
    "print(\"Training set shape:\", X_train.shape, y_train.shape)\n",
    "print(\"Testing set shape:\", X_test.shape, y_test.shape)\n",
    "\n",
    "# Emotions mapping\n",
    "emotions_mapping = {0:'sadness', 1:'joy', 2:'love', 3:'anger', 4:'fear', 5:'surprise'}\n",
    "print(\"Emotion of first label in training set:\", emotions_mapping[y_train.iloc[0]])\n"
   ]
  },
  {
   "cell_type": "markdown",
   "id": "c7a80094-112c-4f22-a59a-2a2a1f4aa328",
   "metadata": {},
   "source": [
    "## Plotting Distribution of Emotions\n"
   ]
  },
  {
   "cell_type": "code",
   "execution_count": 46,
   "id": "7bb5be1c-efef-4b3c-8ea0-7a03ba25cd13",
   "metadata": {},
   "outputs": [
    {
     "data": {
      "image/png": "[encoded data removed]",
      "text/plain": [
       "<Figure size 800x600 with 1 Axes>"
      ]
     },
     "metadata": {},
     "output_type": "display_data"
    }
   ],
   "source": [
    "import matplotlib.pyplot as plt\n",
    "\n",
    "# Count the occurrences of each emotion in the training set\n",
    "emotion_counts = y_train.value_counts()\n",
    "\n",
    "# Convert emotion labels to their corresponding names using the emotions_mapping dictionary\n",
    "emotion_names = [emotions_mapping[label] for label in emotion_counts.index]\n",
    "\n",
    "# Define colors for each emotion\n",
    "colors = ['skyblue', 'salmon', 'lightgreen', 'orange', 'lightpink', 'lightcoral']\n",
    "\n",
    "# Plot the bar plot with different colors for each emotion\n",
    "plt.figure(figsize=(8, 6))\n",
    "plt.bar(emotion_names, emotion_counts, color=colors)\n",
    "plt.title('Distribution of Emotions in Training Set')\n",
    "plt.xlabel('Emotion')\n",
    "plt.ylabel('Count')\n",
    "plt.xticks(rotation=45)\n",
    "plt.tight_layout()\n",
    "plt.show()\n"
   ]
  },
  {
   "cell_type": "markdown",
   "id": "77a77d99-a7b0-4133-984b-9f5811350ecd",
   "metadata": {},
   "source": [
    "## Model Training using Logistic Regression"
   ]
  },
  {
   "cell_type": "code",
   "execution_count": 50,
   "id": "4f482c51-4482-485f-b8ad-b582afd95a12",
   "metadata": {},
   "outputs": [
    {
     "name": "stdout",
     "output_type": "stream",
     "text": [
      "Coefficients: [[ 0.03718468  0.          0.07415853 ...  0.         -0.0800131\n",
      "   0.08129802]\n",
      " [-0.13025731  0.         -0.03316231 ...  0.          0.00531514\n",
      "  -0.06522909]\n",
      " [-0.01203141  0.         -0.00253317 ...  0.          0.08851189\n",
      "  -0.00622395]\n",
      " [ 0.06669515  0.         -0.01635605 ...  0.         -0.00821634\n",
      "  -0.00720602]\n",
      " [ 0.04695225  0.         -0.0183412  ...  0.         -0.00287623\n",
      "  -0.00221524]\n",
      " [-0.00854337  0.         -0.0037658  ...  0.         -0.00272136\n",
      "  -0.00042372]]\n",
      "Accuracy: 0.8834375\n"
     ]
    }
   ],
   "source": [
    "\n",
    "from sklearn.metrics import accuracy_score\n",
    "from sklearn.linear_model import LogisticRegression\n",
    "\n",
    "# Initialize the Logistic Regression model\n",
    "model = LogisticRegression(max_iter=1000)\n",
    "\n",
    "# Train the model on the training data\n",
    "model.fit(X_train, y_train)\n",
    "\n",
    "# Access the coefficients of the trained model\n",
    "coefficients = model.coef_\n",
    "\n",
    "\n",
    "print(\"Coefficients:\", coefficients)\n",
    "\n",
    "# Make predictions on the testing data\n",
    "y_pred = model.predict(X_test)\n",
    "\n",
    "# Calculate accuracy\n",
    "accuracy = accuracy_score(y_test, y_pred)\n",
    "print(\"Accuracy:\", accuracy)\n",
    "\n"
   ]
  },
  {
   "cell_type": "markdown",
   "id": "0a012b9a-829a-46ee-9d17-718e92472803",
   "metadata": {},
   "source": [
    "## Model Evaluation"
   ]
  },
  {
   "cell_type": "code",
   "execution_count": 51,
   "id": "ad61d340-5e12-48a4-a0f2-fed8671739ba",
   "metadata": {},
   "outputs": [
    {
     "name": "stdout",
     "output_type": "stream",
     "text": [
      "Accuracy: 0.8834375\n"
     ]
    }
   ],
   "source": [
    "\n",
    "\n",
    "# Make predictions on the testing data\n",
    "y_pred = model.predict(X_test)\n",
    "\n",
    "# Calculate accuracy\n",
    "accuracy = accuracy_score(y_test, y_pred)\n",
    "print(\"Accuracy:\", accuracy)\n"
   ]
  },
  {
   "cell_type": "markdown",
   "id": "20b71060-2482-45e5-a377-8d74a710c0e6",
   "metadata": {},
   "source": [
    "### The accuracy of 0.8834375 shows that the model effectively predicted the elegance of about 88.34% of the samples in the trying out statistics."
   ]
  },
  {
   "cell_type": "code",
   "execution_count": null,
   "id": "15b40c79-b11d-4737-8115-e89b7137b899",
   "metadata": {},
   "outputs": [],
   "source": []
  }
 ],
 "metadata": {
  "kernelspec": {
   "display_name": "Python 3 (ipykernel)",
   "language": "python",
   "name": "python3"
  },
  "language_info": {
   "codemirror_mode": {
    "name": "ipython",
    "version": 3
   },
   "file_extension": ".py",
   "mimetype": "text/x-python",
   "name": "python",
   "nbconvert_exporter": "python",
   "pygments_lexer": "ipython3",
   "version": "3.11.7"
  }
 },
 "nbformat": 4,
 "nbformat_minor": 5
}
