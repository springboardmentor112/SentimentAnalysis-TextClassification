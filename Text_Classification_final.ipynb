{
 "cells": [
  {
   "cell_type": "markdown",
   "id": "fa037718",
   "metadata": {},
   "source": [
    "# Text classification on Emotion Training "
   ]
  },
  {
   "cell_type": "markdown",
   "id": "c4c51a3b",
   "metadata": {},
   "source": [
    "Text classification is the process of categorizing text into organized groups. When focusing on emotion classification, the objective is to classify a given text into predefined emotional categories such as sadness, joy, love, anger, fear, and surprise. This task is a subset of sentiment analysis but focuses more on the nuanced emotional states expressed in the text."
   ]
  },
  {
   "cell_type": "markdown",
   "id": "fe658191",
   "metadata": {},
   "source": [
    "### Here's a structured approach to building and evaluating a text classification model for emotion detection:"
   ]
  },
  {
   "cell_type": "markdown",
   "id": "a755f79a",
   "metadata": {},
   "source": [
    "Step 1: Data Preparation\n",
    "\n",
    "Loading Data: Load the dataset containing text samples and their corresponding emotion labels.\n",
    "\n",
    "Preprocessing: Clean and preprocess the text data. Common steps include removing stop words, punctuation, and converting text to lowercase.\n",
    "\n",
    "Label Encoding: Convert categorical emotion labels to numerical format.\n",
    "\n",
    "Step 2: Splitting the Data\n",
    "Divide the dataset into training, validation, and test sets. A common split ratio is:\n",
    "\n",
    "Training set: 70%\n",
    "Test set: 20%\n",
    "Validation set: 10%\n",
    "\n",
    "Step 3: Balancing the Dataset\n",
    "Ensure the dataset is balanced so that each emotion category has an approximately equal number of samples. This can be achieved through techniques like undersampling, oversampling, or using synthetic data generation methods such as SMOTE.\n",
    "\n",
    "Step 4: Feature Extraction\n",
    "Transform the text data into numerical features using techniques like TF-IDF (Term Frequency-Inverse Document Frequency).\n",
    "\n",
    "Step 5: Model Training\n",
    "Train a classification model using machine learning algorithms such as Logistic Regression, Random Forest, Support Vector Machines.\n",
    "\n",
    "Step 6: Model Evaluation\n",
    "Evaluate the model using appropriate metrics such as accuracy, precision, recall, and F1-score. Confusion matrices are also useful for visualizing the performance of the model across different emotion categories.\n",
    "\n",
    "Step 7: Hyperparameter Tuning\n",
    "Optimize the model by tuning hyperparameters using techniques like grid search or randomized search.\n",
    "\n",
    "Step 8: Final Model Selection\n",
    "Compare the performance of different models and choose the one that performs best on the validation set."
   ]
  },
  {
   "cell_type": "markdown",
   "id": "627b53d4",
   "metadata": {},
   "source": [
    "# Importing Libraries"
   ]
  },
  {
   "cell_type": "code",
   "execution_count": 1,
   "id": "6ed02802",
   "metadata": {},
   "outputs": [],
   "source": [
    "import pandas as pd\n",
    "import matplotlib.pyplot as plt\n",
    "import seaborn as sns\n",
    "import warnings\n",
    "warnings.filterwarnings('ignore')\n",
    "\n",
    "#text preprocesing\n",
    "from nltk.stem import PorterStemmer\n",
    "from nltk.tokenize import word_tokenize\n",
    "from nltk.stem import WordNetLemmatizer\n",
    "from nltk.tokenize import word_tokenize\n",
    "\n",
    "\n",
    "from sklearn.model_selection import train_test_split\n",
    "from imblearn.over_sampling import SMOTE\n",
    "from sklearn.feature_extraction.text import TfidfVectorizer\n",
    "from sklearn.linear_model import LogisticRegression\n",
    "from sklearn.metrics import classification_report, accuracy_score, f1_score, confusion_matrix"
   ]
  },
  {
   "cell_type": "markdown",
   "id": "efbdd710",
   "metadata": {},
   "source": [
    "# Import the dataset"
   ]
  },
  {
   "cell_type": "code",
   "execution_count": 2,
   "id": "a62d13e6",
   "metadata": {},
   "outputs": [
    {
     "name": "stdout",
     "output_type": "stream",
     "text": [
      "First few rows of the dataset:\n",
      "                                                text  label\n",
      "0                            i didnt feel humiliated      0\n",
      "1  i can go from feeling so hopeless to so damned...      0\n",
      "2   im grabbing a minute to post i feel greedy wrong      3\n",
      "3  i am ever feeling nostalgic about the fireplac...      2\n",
      "4                               i am feeling grouchy      3\n"
     ]
    }
   ],
   "source": [
    "# Read the dataset\n",
    "data = pd.read_csv('Emotions_training.csv')\n",
    "\n",
    "# Display the first few rows of the dataset\n",
    "print(\"First few rows of the dataset:\")\n",
    "print(data.head())"
   ]
  },
  {
   "cell_type": "code",
   "execution_count": 3,
   "id": "1fd63daf",
   "metadata": {},
   "outputs": [
    {
     "name": "stdout",
     "output_type": "stream",
     "text": [
      "\n",
      "Dataset Shape: (16000, 2)\n"
     ]
    }
   ],
   "source": [
    "# Display the shape of the dataset\n",
    "print(\"\\nDataset Shape:\", data.shape)\n"
   ]
  },
  {
   "cell_type": "code",
   "execution_count": 4,
   "id": "86d8bcf0",
   "metadata": {},
   "outputs": [
    {
     "name": "stdout",
     "output_type": "stream",
     "text": [
      "\n",
      "Dataset Info:\n",
      "<class 'pandas.core.frame.DataFrame'>\n",
      "RangeIndex: 16000 entries, 0 to 15999\n",
      "Data columns (total 2 columns):\n",
      " #   Column  Non-Null Count  Dtype \n",
      "---  ------  --------------  ----- \n",
      " 0   text    16000 non-null  object\n",
      " 1   label   16000 non-null  int64 \n",
      "dtypes: int64(1), object(1)\n",
      "memory usage: 250.1+ KB\n",
      "None\n"
     ]
    }
   ],
   "source": [
    "# Display basic information about the dataset\n",
    "print(\"\\nDataset Info:\")\n",
    "print(data.info())"
   ]
  },
  {
   "cell_type": "code",
   "execution_count": 5,
   "id": "a508a791",
   "metadata": {},
   "outputs": [],
   "source": [
    "\n",
    "# Define emotion labels\n",
    "emotion_labels = {\n",
    "    0: \"sadness\",\n",
    "    1: \"joy\",\n",
    "    2: \"love\",\n",
    "    3: \"anger\",\n",
    "    4: \"fear\",\n",
    "    5: \"surprise\"\n",
    "}\n"
   ]
  },
  {
   "cell_type": "markdown",
   "id": "1ffa3b06",
   "metadata": {},
   "source": [
    "# Checking dataset is balanced or imbalanced"
   ]
  },
  {
   "cell_type": "code",
   "execution_count": 6,
   "id": "68a25458",
   "metadata": {},
   "outputs": [
    {
     "data": {
      "image/png": "[encoded data removed]",
      "text/plain": [
       "<Figure size 1000x600 with 1 Axes>"
      ]
     },
     "metadata": {},
     "output_type": "display_data"
    }
   ],
   "source": [
    "# Check the distribution of labels\n",
    "label_counts = data['label'].value_counts().sort_index()\n",
    "\n",
    "# Map labels to emotion names\n",
    "label_counts.index = label_counts.index.map(emotion_labels)\n",
    "\n",
    "# Plot the distribution\n",
    "plt.figure(figsize=(10, 6))\n",
    "sns.barplot(x=label_counts.index, y=label_counts.values, palette=\"viridis\")\n",
    "plt.title('Distribution of Emotion Labels')\n",
    "plt.xlabel('Emotion')\n",
    "plt.ylabel('Number of Instances')\n",
    "plt.xticks(rotation=45)\n",
    "plt.show()\n"
   ]
  },
  {
   "cell_type": "markdown",
   "id": "8506dc20",
   "metadata": {},
   "source": [
    "The dataset is imbalanced"
   ]
  },
  {
   "cell_type": "markdown",
   "id": "361998e7",
   "metadata": {},
   "source": [
    "# Converting into Lower case"
   ]
  },
  {
   "cell_type": "code",
   "execution_count": 7,
   "id": "33c9538b",
   "metadata": {},
   "outputs": [],
   "source": [
    "data['text'] = data['text'].str.lower()"
   ]
  },
  {
   "cell_type": "markdown",
   "id": "d8892079",
   "metadata": {},
   "source": [
    "# Removing the Links"
   ]
  },
  {
   "cell_type": "code",
   "execution_count": 8,
   "id": "896b1b75",
   "metadata": {},
   "outputs": [],
   "source": [
    "import re\n",
    "# Remove links\n",
    "data['text'] = data['text'].apply(lambda x: re.sub(r'http\\S+', '', x))"
   ]
  },
  {
   "cell_type": "markdown",
   "id": "7f996d8a",
   "metadata": {},
   "source": [
    "# Removing next lines"
   ]
  },
  {
   "cell_type": "code",
   "execution_count": 9,
   "id": "147b9bed",
   "metadata": {},
   "outputs": [],
   "source": [
    "# Remove newline characters\n",
    "data['text'] = data['text'].str.replace('\\n', '')"
   ]
  },
  {
   "cell_type": "markdown",
   "id": "345b83a5",
   "metadata": {},
   "source": [
    "# Removing words contains numbers"
   ]
  },
  {
   "cell_type": "code",
   "execution_count": 10,
   "id": "b3a8dfb6",
   "metadata": {},
   "outputs": [],
   "source": [
    "# Remove words containing numbers using regex\n",
    "data['text'] = data['text'].apply(lambda x: re.sub(r'\\b\\w*\\d\\w*\\b', '', x))"
   ]
  },
  {
   "cell_type": "markdown",
   "id": "f37d2969",
   "metadata": {},
   "source": [
    "# Removing extra spaces"
   ]
  },
  {
   "cell_type": "code",
   "execution_count": 11,
   "id": "372e38fa",
   "metadata": {},
   "outputs": [],
   "source": [
    "# Remove extra spaces\n",
    "data['text'] = data['text'].apply(lambda x: ' '.join(x.split()))"
   ]
  },
  {
   "cell_type": "markdown",
   "id": "ec049c8b",
   "metadata": {},
   "source": [
    "# Removing special characters"
   ]
  },
  {
   "cell_type": "code",
   "execution_count": 12,
   "id": "1822b305",
   "metadata": {},
   "outputs": [],
   "source": [
    "# Remove special characters\n",
    "data['text'] = data['text'].apply(lambda x: re.sub(r'[^A-Za-z0-9\\s]', '', x))"
   ]
  },
  {
   "cell_type": "markdown",
   "id": "0837be01",
   "metadata": {},
   "source": [
    "# Removal of Stop words"
   ]
  },
  {
   "cell_type": "code",
   "execution_count": 13,
   "id": "aeaf0ea3",
   "metadata": {},
   "outputs": [],
   "source": [
    "from gensim.parsing.preprocessing import remove_stopwords\n",
    "\n",
    "# Remove stop words using gensim\n",
    "data['text'] = data['text'].apply(remove_stopwords)"
   ]
  },
  {
   "cell_type": "markdown",
   "id": "12419b87",
   "metadata": {},
   "source": [
    "# Stemming"
   ]
  },
  {
   "cell_type": "code",
   "execution_count": 14,
   "id": "b8f720ea",
   "metadata": {},
   "outputs": [],
   "source": [
    "# Initialize the Porter Stemmer\n",
    "porter = PorterStemmer()\n",
    "\n",
    "# Define function to apply stemming using NLTK Porter Stemmer\n",
    "def apply_stemming(text):\n",
    "    tokens = word_tokenize(text)\n",
    "    stemmed_tokens = [porter.stem(token) for token in tokens]\n",
    "    return ' '.join(stemmed_tokens)\n",
    "\n",
    "# Apply stemming\n",
    "data['text'] = data['text'].apply(apply_stemming)"
   ]
  },
  {
   "cell_type": "markdown",
   "id": "e050c240",
   "metadata": {},
   "source": [
    "# Lemmatization"
   ]
  },
  {
   "cell_type": "code",
   "execution_count": 15,
   "id": "b5e20b8d",
   "metadata": {},
   "outputs": [],
   "source": [
    "# Initialize the WordNet Lemmatizer\n",
    "lemmatizer = WordNetLemmatizer()\n",
    "\n",
    "# Define function to apply lemmatization using NLTK WordNet Lemmatizer\n",
    "def apply_lemmatization(text):\n",
    "    tokens = word_tokenize(text)\n",
    "    lemmatized_tokens = [lemmatizer.lemmatize(token) for token in tokens]\n",
    "    return ' '.join(lemmatized_tokens)\n",
    "\n",
    "# Apply lemmatization\n",
    "data['text'] = data['text'].apply(apply_lemmatization)\n"
   ]
  },
  {
   "cell_type": "markdown",
   "id": "467f2978",
   "metadata": {},
   "source": [
    "# TF-IDF Vectorizer"
   ]
  },
  {
   "cell_type": "markdown",
   "id": "6f210cbb",
   "metadata": {},
   "source": [
    "TF-IDF Vectorizer: Converts text data into a numerical form that can be used by machine learning models. TF-IDF stands for Term Frequency-Inverse Document Frequency, which helps in reflecting the importance of a term in a document relative to the entire corpus."
   ]
  },
  {
   "cell_type": "code",
   "execution_count": 16,
   "id": "9638b9a6",
   "metadata": {},
   "outputs": [],
   "source": [
    "# Feature extraction using TF-IDF\n",
    "from sklearn.feature_extraction.text import TfidfVectorizer\n",
    "\n",
    "vectorizer = TfidfVectorizer(max_df=0.95, min_df=2)\n",
    "X = vectorizer.fit_transform(data['text'])\n",
    "y = data['label']"
   ]
  },
  {
   "cell_type": "markdown",
   "id": "d46c8f8a",
   "metadata": {},
   "source": [
    "# Split the dataset"
   ]
  },
  {
   "cell_type": "markdown",
   "id": "991cc5ea",
   "metadata": {},
   "source": [
    "Divide the dataset into training, validation, and test sets. A common split ratio is:\n",
    "\n",
    "Training set: 70%\n",
    "\n",
    "Test set: 20%\n",
    "\n",
    "Validation set: 10%"
   ]
  },
  {
   "cell_type": "code",
   "execution_count": 17,
   "id": "1a1a4cd2",
   "metadata": {},
   "outputs": [
    {
     "name": "stdout",
     "output_type": "stream",
     "text": [
      "Training set distribution:\n",
      " label\n",
      "1    3754\n",
      "0    3266\n",
      "3    1511\n",
      "4    1356\n",
      "2     913\n",
      "5     400\n",
      "Name: count, dtype: int64\n",
      "\n",
      "Validation set distribution:\n",
      " label\n",
      "1    536\n",
      "0    467\n",
      "3    216\n",
      "4    194\n",
      "2    130\n",
      "5     57\n",
      "Name: count, dtype: int64\n",
      "\n",
      "Test set distribution:\n",
      " label\n",
      "1    1072\n",
      "0     933\n",
      "3     432\n",
      "4     387\n",
      "2     261\n",
      "5     115\n",
      "Name: count, dtype: int64\n"
     ]
    }
   ],
   "source": [
    "# Split the data into train (70%) and temp (30%)\n",
    "X_train, X_temp, y_train, y_temp = train_test_split(X, y, test_size=0.3, random_state=42, stratify=y)\n",
    "\n",
    "# Further split the temp set into validation (10% of total) and test (20% of total)\n",
    "X_val, X_test, y_val, y_test = train_test_split(X_temp, y_temp, test_size=2/3, random_state=42, stratify=y_temp)\n",
    "\n",
    "# Check the distribution of the splits\n",
    "print(\"Training set distribution:\\n\", pd.Series(y_train).value_counts())\n",
    "print(\"\\nValidation set distribution:\\n\", pd.Series(y_val).value_counts())\n",
    "print(\"\\nTest set distribution:\\n\", pd.Series(y_test).value_counts())"
   ]
  },
  {
   "cell_type": "markdown",
   "id": "81109494",
   "metadata": {},
   "source": [
    "# Balancing the dataset"
   ]
  },
  {
   "cell_type": "markdown",
   "id": "de7db6fa",
   "metadata": {},
   "source": [
    "Ensure the dataset is balanced so that each emotion category has an approximately equal number of samples. This can be achieved through techniques like undersampling, oversampling, or using synthetic data generation methods such as SMOTE."
   ]
  },
  {
   "cell_type": "markdown",
   "id": "ef823607",
   "metadata": {},
   "source": [
    "SMOTE is a technique used to address class imbalance by generating synthetic samples for the minority class. "
   ]
  },
  {
   "cell_type": "code",
   "execution_count": 18,
   "id": "d834862a",
   "metadata": {},
   "outputs": [],
   "source": [
    "# Import necessary libraries\n",
    "from imblearn.over_sampling import SMOTE\n",
    "\n",
    "# Initialize SMOTE with a random state for reproducibility\n",
    "smote = SMOTE(random_state=42)\n",
    "\n",
    "# Fit and resample the training data to create a balanced dataset\n",
    "X_train_balanced, y_train_balanced = smote.fit_resample(X_train, y_train)\n"
   ]
  },
  {
   "cell_type": "code",
   "execution_count": 19,
   "id": "a544054e",
   "metadata": {},
   "outputs": [
    {
     "name": "stdout",
     "output_type": "stream",
     "text": [
      "\n",
      "Balanced training set distribution:\n",
      " label\n",
      "0    3754\n",
      "1    3754\n",
      "2    3754\n",
      "3    3754\n",
      "4    3754\n",
      "5    3754\n",
      "Name: count, dtype: int64\n"
     ]
    }
   ],
   "source": [
    "# Check the distribution after balancing\n",
    "balanced_label_counts = pd.Series(y_train_balanced).value_counts().sort_index()\n",
    "print(\"\\nBalanced training set distribution:\\n\", balanced_label_counts)"
   ]
  },
  {
   "cell_type": "code",
   "execution_count": 20,
   "id": "052c33db",
   "metadata": {},
   "outputs": [
    {
     "data": {
      "image/png": "[encoded data removed]",
      "text/plain": [
       "<Figure size 1000x600 with 1 Axes>"
      ]
     },
     "metadata": {},
     "output_type": "display_data"
    }
   ],
   "source": [
    "# Map labels to emotion names for plotting\n",
    "balanced_label_counts.index = balanced_label_counts.index.map(emotion_labels)\n",
    "\n",
    "# Plot the balanced distribution\n",
    "plt.figure(figsize=(10, 6))\n",
    "sns.barplot(x=balanced_label_counts.index, y=balanced_label_counts.values, palette=\"viridis\")\n",
    "plt.title('Balanced Distribution of Emotion Labels in Training Set')\n",
    "plt.xlabel('Emotion')\n",
    "plt.ylabel('Number of Instances')\n",
    "plt.xticks(rotation=45)\n",
    "plt.show()"
   ]
  },
  {
   "cell_type": "markdown",
   "id": "b969ad27",
   "metadata": {},
   "source": [
    "# Logistic Regression"
   ]
  },
  {
   "cell_type": "code",
   "execution_count": 21,
   "id": "b80fbd48",
   "metadata": {},
   "outputs": [
    {
     "name": "stdout",
     "output_type": "stream",
     "text": [
      "Classification Report - Training Set:\n",
      "              precision    recall  f1-score   support\n",
      "\n",
      "           0       0.94      0.94      0.94      3754\n",
      "           1       0.96      0.91      0.93      3754\n",
      "           2       0.95      0.98      0.97      3754\n",
      "           3       0.97      0.98      0.97      3754\n",
      "           4       0.97      0.93      0.95      3754\n",
      "           5       0.96      1.00      0.98      3754\n",
      "\n",
      "    accuracy                           0.96     22524\n",
      "   macro avg       0.96      0.96      0.96     22524\n",
      "weighted avg       0.96      0.96      0.96     22524\n",
      "\n",
      "\n",
      "Classification Report - Test Set:\n",
      "              precision    recall  f1-score   support\n",
      "\n",
      "           0       0.90      0.87      0.88       933\n",
      "           1       0.88      0.85      0.87      1072\n",
      "           2       0.64      0.75      0.69       261\n",
      "           3       0.84      0.84      0.84       432\n",
      "           4       0.81      0.84      0.82       387\n",
      "           5       0.73      0.78      0.75       115\n",
      "\n",
      "    accuracy                           0.84      3200\n",
      "   macro avg       0.80      0.82      0.81      3200\n",
      "weighted avg       0.85      0.84      0.85      3200\n",
      "\n"
     ]
    }
   ],
   "source": [
    "from sklearn.linear_model import LogisticRegression\n",
    "from sklearn.metrics import classification_report\n",
    "\n",
    "# Assuming you have already performed data splitting and have X_train_balanced, y_train_balanced, X_test, y_test\n",
    "\n",
    "# Build the model\n",
    "model = LogisticRegression(random_state=42)\n",
    "\n",
    "# Train the model on the balanced training data\n",
    "model.fit(X_train_balanced, y_train_balanced)\n",
    "\n",
    "# Make predictions on the training data\n",
    "y_pred_train = model.predict(X_train_balanced)\n",
    "\n",
    "# Generate classification report for the training data\n",
    "print(\"Classification Report - Training Set:\")\n",
    "print(classification_report(y_train_balanced, y_pred_train))\n",
    "\n",
    "# Make predictions on the test data\n",
    "y_pred_test = model.predict(X_test)\n",
    "\n",
    "# Generate classification report for the test data\n",
    "print(\"\\nClassification Report - Test Set:\")\n",
    "print(classification_report(y_test, y_pred_test))\n"
   ]
  },
  {
   "cell_type": "code",
   "execution_count": 22,
   "id": "76956a0c",
   "metadata": {},
   "outputs": [
    {
     "name": "stdout",
     "output_type": "stream",
     "text": [
      "\n",
      "Confusion Matrix - Training Set:\n",
      "[[3532   61   24   66   49   22]\n",
      " [  67 3425  164   32   31   35]\n",
      " [   7   42 3697    2    5    1]\n",
      " [  50   17    7 3671    6    3]\n",
      " [  95   26   13   32 3480  108]\n",
      " [   1    3    1    0    3 3746]]\n",
      "\n",
      "Confusion Matrix - Test Set:\n",
      "[[808  46   9  34  31   5]\n",
      " [ 38 913  84  14  13  10]\n",
      " [  6  45 197   5   8   0]\n",
      " [ 30  14   9 365  12   2]\n",
      " [ 14   9   7  14 326  17]\n",
      " [  1   6   2   2  14  90]]\n"
     ]
    }
   ],
   "source": [
    "# Confusion Matrices\n",
    "print(\"\\nConfusion Matrix - Training Set:\")\n",
    "cm_train = confusion_matrix(y_train_balanced, y_pred_train)\n",
    "print(cm_train)\n",
    "\n",
    "print(\"\\nConfusion Matrix - Test Set:\")\n",
    "cm_test = confusion_matrix(y_test, y_pred_test)\n",
    "print(cm_test)"
   ]
  },
  {
   "cell_type": "markdown",
   "id": "6eabcf03",
   "metadata": {},
   "source": [
    "# Hyperparameter Tuning for Logistic Regression"
   ]
  },
  {
   "cell_type": "code",
   "execution_count": 23,
   "id": "80183c9d",
   "metadata": {},
   "outputs": [],
   "source": [
    "from sklearn.model_selection import GridSearchCV\n",
    "from sklearn.linear_model import LogisticRegression\n",
    "from sklearn.metrics import classification_report\n",
    "\n",
    "# Assuming you have already performed data splitting and have X_train_balanced, y_train_balanced, X_test, y_test\n",
    "\n",
    "# Hyperparameter grid for Logistic Regression\n",
    "param_grid = {\n",
    "    'C': [ 0.1, 1, 10],  # Regularization parameter\n",
    "    'solver': ['liblinear', 'lbfgs']  # Solver options\n",
    "}"
   ]
  },
  {
   "cell_type": "code",
   "execution_count": 24,
   "id": "d798ebb2",
   "metadata": {},
   "outputs": [],
   "source": [
    "# Create the GridSearchCV object\n",
    "grid_search = GridSearchCV(LogisticRegression(random_state=42), param_grid, cv=5, scoring='f1_macro')"
   ]
  },
  {
   "cell_type": "code",
   "execution_count": 25,
   "id": "c0815e19",
   "metadata": {},
   "outputs": [
    {
     "data": {
      "text/html": [
       "<style>#sk-container-id-1 {color: black;background-color: white;}#sk-container-id-1 pre{padding: 0;}#sk-container-id-1 div.sk-toggleable {background-color: white;}#sk-container-id-1 label.sk-toggleable__label {cursor: pointer;display: block;width: 100%;margin-bottom: 0;padding: 0.3em;box-sizing: border-box;text-align: center;}#sk-container-id-1 label.sk-toggleable__label-arrow:before {content: \"▸\";float: left;margin-right: 0.25em;color: #696969;}#sk-container-id-1 label.sk-toggleable__label-arrow:hover:before {color: black;}#sk-container-id-1 div.sk-estimator:hover label.sk-toggleable__label-arrow:before {color: black;}#sk-container-id-1 div.sk-toggleable__content {max-height: 0;max-width: 0;overflow: hidden;text-align: left;background-color: #f0f8ff;}#sk-container-id-1 div.sk-toggleable__content pre {margin: 0.2em;color: black;border-radius: 0.25em;background-color: #f0f8ff;}#sk-container-id-1 input.sk-toggleable__control:checked~div.sk-toggleable__content {max-height: 200px;max-width: 100%;overflow: auto;}#sk-container-id-1 input.sk-toggleable__control:checked~label.sk-toggleable__label-arrow:before {content: \"▾\";}#sk-container-id-1 div.sk-estimator input.sk-toggleable__control:checked~label.sk-toggleable__label {background-color: #d4ebff;}#sk-container-id-1 div.sk-label input.sk-toggleable__control:checked~label.sk-toggleable__label {background-color: #d4ebff;}#sk-container-id-1 input.sk-hidden--visually {border: 0;clip: rect(1px 1px 1px 1px);clip: rect(1px, 1px, 1px, 1px);height: 1px;margin: -1px;overflow: hidden;padding: 0;position: absolute;width: 1px;}#sk-container-id-1 div.sk-estimator {font-family: monospace;background-color: #f0f8ff;border: 1px dotted black;border-radius: 0.25em;box-sizing: border-box;margin-bottom: 0.5em;}#sk-container-id-1 div.sk-estimator:hover {background-color: #d4ebff;}#sk-container-id-1 div.sk-parallel-item::after {content: \"\";width: 100%;border-bottom: 1px solid gray;flex-grow: 1;}#sk-container-id-1 div.sk-label:hover label.sk-toggleable__label {background-color: #d4ebff;}#sk-container-id-1 div.sk-serial::before {content: \"\";position: absolute;border-left: 1px solid gray;box-sizing: border-box;top: 0;bottom: 0;left: 50%;z-index: 0;}#sk-container-id-1 div.sk-serial {display: flex;flex-direction: column;align-items: center;background-color: white;padding-right: 0.2em;padding-left: 0.2em;position: relative;}#sk-container-id-1 div.sk-item {position: relative;z-index: 1;}#sk-container-id-1 div.sk-parallel {display: flex;align-items: stretch;justify-content: center;background-color: white;position: relative;}#sk-container-id-1 div.sk-item::before, #sk-container-id-1 div.sk-parallel-item::before {content: \"\";position: absolute;border-left: 1px solid gray;box-sizing: border-box;top: 0;bottom: 0;left: 50%;z-index: -1;}#sk-container-id-1 div.sk-parallel-item {display: flex;flex-direction: column;z-index: 1;position: relative;background-color: white;}#sk-container-id-1 div.sk-parallel-item:first-child::after {align-self: flex-end;width: 50%;}#sk-container-id-1 div.sk-parallel-item:last-child::after {align-self: flex-start;width: 50%;}#sk-container-id-1 div.sk-parallel-item:only-child::after {width: 0;}#sk-container-id-1 div.sk-dashed-wrapped {border: 1px dashed gray;margin: 0 0.4em 0.5em 0.4em;box-sizing: border-box;padding-bottom: 0.4em;background-color: white;}#sk-container-id-1 div.sk-label label {font-family: monospace;font-weight: bold;display: inline-block;line-height: 1.2em;}#sk-container-id-1 div.sk-label-container {text-align: center;}#sk-container-id-1 div.sk-container {/* jupyter's `normalize.less` sets `[hidden] { display: none; }` but bootstrap.min.css set `[hidden] { display: none !important; }` so we also need the `!important` here to be able to override the default hidden behavior on the sphinx rendered scikit-learn.org. See: https://github.com/scikit-learn/scikit-learn/issues/21755 */display: inline-block !important;position: relative;}#sk-container-id-1 div.sk-text-repr-fallback {display: none;}</style><div id=\"sk-container-id-1\" class=\"sk-top-container\"><div class=\"sk-text-repr-fallback\"><pre>GridSearchCV(cv=5, estimator=LogisticRegression(random_state=42),\n",
       "             param_grid={&#x27;C&#x27;: [0.1, 1, 10], &#x27;solver&#x27;: [&#x27;liblinear&#x27;, &#x27;lbfgs&#x27;]},\n",
       "             scoring=&#x27;f1_macro&#x27;)</pre><b>In a Jupyter environment, please rerun this cell to show the HTML representation or trust the notebook. <br />On GitHub, the HTML representation is unable to render, please try loading this page with nbviewer.org.</b></div><div class=\"sk-container\" hidden><div class=\"sk-item sk-dashed-wrapped\"><div class=\"sk-label-container\"><div class=\"sk-label sk-toggleable\"><input class=\"sk-toggleable__control sk-hidden--visually\" id=\"sk-estimator-id-1\" type=\"checkbox\" ><label for=\"sk-estimator-id-1\" class=\"sk-toggleable__label sk-toggleable__label-arrow\">GridSearchCV</label><div class=\"sk-toggleable__content\"><pre>GridSearchCV(cv=5, estimator=LogisticRegression(random_state=42),\n",
       "             param_grid={&#x27;C&#x27;: [0.1, 1, 10], &#x27;solver&#x27;: [&#x27;liblinear&#x27;, &#x27;lbfgs&#x27;]},\n",
       "             scoring=&#x27;f1_macro&#x27;)</pre></div></div></div><div class=\"sk-parallel\"><div class=\"sk-parallel-item\"><div class=\"sk-item\"><div class=\"sk-label-container\"><div class=\"sk-label sk-toggleable\"><input class=\"sk-toggleable__control sk-hidden--visually\" id=\"sk-estimator-id-2\" type=\"checkbox\" ><label for=\"sk-estimator-id-2\" class=\"sk-toggleable__label sk-toggleable__label-arrow\">estimator: LogisticRegression</label><div class=\"sk-toggleable__content\"><pre>LogisticRegression(random_state=42)</pre></div></div></div><div class=\"sk-serial\"><div class=\"sk-item\"><div class=\"sk-estimator sk-toggleable\"><input class=\"sk-toggleable__control sk-hidden--visually\" id=\"sk-estimator-id-3\" type=\"checkbox\" ><label for=\"sk-estimator-id-3\" class=\"sk-toggleable__label sk-toggleable__label-arrow\">LogisticRegression</label><div class=\"sk-toggleable__content\"><pre>LogisticRegression(random_state=42)</pre></div></div></div></div></div></div></div></div></div></div>"
      ],
      "text/plain": [
       "GridSearchCV(cv=5, estimator=LogisticRegression(random_state=42),\n",
       "             param_grid={'C': [0.1, 1, 10], 'solver': ['liblinear', 'lbfgs']},\n",
       "             scoring='f1_macro')"
      ]
     },
     "execution_count": 25,
     "metadata": {},
     "output_type": "execute_result"
    }
   ],
   "source": [
    "# Train the model with GridSearch\n",
    "grid_search.fit(X_train_balanced, y_train_balanced)"
   ]
  },
  {
   "cell_type": "code",
   "execution_count": 26,
   "id": "dc56c37f",
   "metadata": {},
   "outputs": [],
   "source": [
    "# Get the best model with tuned hyperparameters\n",
    "best_model = grid_search.best_estimator_"
   ]
  },
  {
   "cell_type": "code",
   "execution_count": 27,
   "id": "a5f91455",
   "metadata": {},
   "outputs": [],
   "source": [
    "# Make predictions on the training and test data using the best model\n",
    "y_pred_train = best_model.predict(X_train_balanced)\n",
    "y_pred_test = best_model.predict(X_test)"
   ]
  },
  {
   "cell_type": "code",
   "execution_count": 28,
   "id": "eff3f234",
   "metadata": {},
   "outputs": [
    {
     "name": "stdout",
     "output_type": "stream",
     "text": [
      "Classification Report - Training Set (Best Model):\n",
      "              precision    recall  f1-score   support\n",
      "\n",
      "           0       0.99      0.98      0.98      3754\n",
      "           1       0.99      0.97      0.98      3754\n",
      "           2       0.98      1.00      0.99      3754\n",
      "           3       0.99      0.99      0.99      3754\n",
      "           4       0.99      0.98      0.98      3754\n",
      "           5       0.98      1.00      0.99      3754\n",
      "\n",
      "    accuracy                           0.99     22524\n",
      "   macro avg       0.99      0.99      0.99     22524\n",
      "weighted avg       0.99      0.99      0.99     22524\n",
      "\n"
     ]
    }
   ],
   "source": [
    "# Generate classification reports\n",
    "print(\"Classification Report - Training Set (Best Model):\")\n",
    "print(classification_report(y_train_balanced, y_pred_train))"
   ]
  },
  {
   "cell_type": "code",
   "execution_count": 29,
   "id": "e75dc23f",
   "metadata": {},
   "outputs": [
    {
     "name": "stdout",
     "output_type": "stream",
     "text": [
      "\n",
      "Classification Report - Test Set (Best Model):\n",
      "              precision    recall  f1-score   support\n",
      "\n",
      "           0       0.88      0.86      0.87       933\n",
      "           1       0.86      0.85      0.86      1072\n",
      "           2       0.62      0.67      0.65       261\n",
      "           3       0.83      0.84      0.84       432\n",
      "           4       0.78      0.82      0.80       387\n",
      "           5       0.74      0.73      0.73       115\n",
      "\n",
      "    accuracy                           0.83      3200\n",
      "   macro avg       0.79      0.79      0.79      3200\n",
      "weighted avg       0.83      0.83      0.83      3200\n",
      "\n",
      "\n",
      "Best Hyperparameters: {'C': 10, 'solver': 'lbfgs'}\n"
     ]
    }
   ],
   "source": [
    "print(\"\\nClassification Report - Test Set (Best Model):\")\n",
    "print(classification_report(y_test, y_pred_test))\n",
    "\n",
    "# Print the best hyperparameters\n",
    "print(\"\\nBest Hyperparameters:\", grid_search.best_params_)"
   ]
  },
  {
   "cell_type": "code",
   "execution_count": 30,
   "id": "3c918690",
   "metadata": {},
   "outputs": [
    {
     "name": "stdout",
     "output_type": "stream",
     "text": [
      "\n",
      "Confusion Matrix - Training Set:\n",
      "[[3685   16    3   30   15    5]\n",
      " [  27 3626   68    7   12   14]\n",
      " [   1   16 3736    0    1    0]\n",
      " [  13    3    1 3733    4    0]\n",
      " [   9    2    2   17 3669   55]\n",
      " [   0    0    0    0    1 3753]]\n",
      "\n",
      "Confusion Matrix - Test Set:\n",
      "[[799  44  13  40  32   5]\n",
      " [ 44 914  79  11  16   8]\n",
      " [ 11  62 175   5   7   1]\n",
      " [ 33  13   7 362  17   0]\n",
      " [ 18  16   5  14 318  16]\n",
      " [  2   8   1   2  18  84]]\n"
     ]
    }
   ],
   "source": [
    "# Confusion Matrices\n",
    "print(\"\\nConfusion Matrix - Training Set:\")\n",
    "cm_train = confusion_matrix(y_train_balanced, y_pred_train)\n",
    "print(cm_train)\n",
    "\n",
    "print(\"\\nConfusion Matrix - Test Set:\")\n",
    "cm_test = confusion_matrix(y_test, y_pred_test)\n",
    "print(cm_test)"
   ]
  },
  {
   "cell_type": "markdown",
   "id": "dda8070b",
   "metadata": {},
   "source": [
    "# Random forest"
   ]
  },
  {
   "cell_type": "code",
   "execution_count": 31,
   "id": "a4f2b1ed",
   "metadata": {},
   "outputs": [
    {
     "name": "stdout",
     "output_type": "stream",
     "text": [
      "\n",
      "Classification Report - Training Set (Random Forest):\n",
      "              precision    recall  f1-score   support\n",
      "\n",
      "           0       1.00      1.00      1.00      3754\n",
      "           1       1.00      1.00      1.00      3754\n",
      "           2       1.00      1.00      1.00      3754\n",
      "           3       1.00      1.00      1.00      3754\n",
      "           4       1.00      1.00      1.00      3754\n",
      "           5       1.00      1.00      1.00      3754\n",
      "\n",
      "    accuracy                           1.00     22524\n",
      "   macro avg       1.00      1.00      1.00     22524\n",
      "weighted avg       1.00      1.00      1.00     22524\n",
      "\n",
      "\n",
      "Classification Report - Test Set (Random Forest):\n",
      "              precision    recall  f1-score   support\n",
      "\n",
      "           0       0.91      0.83      0.87       933\n",
      "           1       0.89      0.81      0.85      1072\n",
      "           2       0.60      0.78      0.68       261\n",
      "           3       0.82      0.86      0.84       432\n",
      "           4       0.78      0.87      0.83       387\n",
      "           5       0.67      0.83      0.74       115\n",
      "\n",
      "    accuracy                           0.83      3200\n",
      "   macro avg       0.78      0.83      0.80      3200\n",
      "weighted avg       0.84      0.83      0.83      3200\n",
      "\n"
     ]
    }
   ],
   "source": [
    "from sklearn.ensemble import RandomForestClassifier\n",
    "from sklearn.metrics import classification_report\n",
    "\n",
    "# Assuming you already have performed data splitting and have X_train_balanced, y_train_balanced, X_test, y_test\n",
    "\n",
    "# Build the Random Forest model\n",
    "model_rf = RandomForestClassifier(random_state=42)\n",
    "\n",
    "# Train the model on the balanced training data\n",
    "model_rf.fit(X_train_balanced, y_train_balanced)\n",
    "\n",
    "# Make predictions on the training data\n",
    "y_pred_train_rf = model_rf.predict(X_train_balanced)\n",
    "\n",
    "# Generate classification report for the training data (Random Forest)\n",
    "print(\"\\nClassification Report - Training Set (Random Forest):\")\n",
    "print(classification_report(y_train_balanced, y_pred_train_rf))\n",
    "\n",
    "# Make predictions on the test data\n",
    "y_pred_test_rf = model_rf.predict(X_test)\n",
    "\n",
    "# Generate classification report for the test data (Random Forest)\n",
    "print(\"\\nClassification Report - Test Set (Random Forest):\")\n",
    "print(classification_report(y_test, y_pred_test_rf))\n"
   ]
  },
  {
   "cell_type": "code",
   "execution_count": 32,
   "id": "7dece9f3",
   "metadata": {},
   "outputs": [
    {
     "name": "stdout",
     "output_type": "stream",
     "text": [
      "\n",
      "Confusion Matrix - Training Set (Random Forest):\n",
      "[[3745    0    0    8    1    0]\n",
      " [   2 3744    7    0    0    1]\n",
      " [   0    1 3753    0    0    0]\n",
      " [   1    0    0 3752    1    0]\n",
      " [   2    0    0    3 3740    9]\n",
      " [   0    0    0    0    0 3754]]\n",
      "\n",
      "Confusion Matrix - Test Set (Random Forest):\n",
      "[[777  50  25  40  34   7]\n",
      " [ 42 873  95  24  22  16]\n",
      " [  1  44 203   4   7   2]\n",
      " [ 23  10   9 373  14   3]\n",
      " [ 10   4   3  13 338  19]\n",
      " [  0   0   3   0  16  96]]\n"
     ]
    }
   ],
   "source": [
    "# Confusion Matrices\n",
    "print(\"\\nConfusion Matrix - Training Set (Random Forest):\")\n",
    "cm_train_rf = confusion_matrix(y_train_balanced, y_pred_train_rf)\n",
    "print(cm_train_rf)\n",
    "\n",
    "print(\"\\nConfusion Matrix - Test Set (Random Forest):\")\n",
    "cm_test_rf = confusion_matrix(y_test, y_pred_test_rf)\n",
    "print(cm_test_rf)"
   ]
  },
  {
   "cell_type": "markdown",
   "id": "1e7f4079",
   "metadata": {},
   "source": [
    "# Hyperparameter Tuning For Random Forest"
   ]
  },
  {
   "cell_type": "code",
   "execution_count": 33,
   "id": "9b7b9e89",
   "metadata": {},
   "outputs": [],
   "source": [
    "from sklearn.ensemble import RandomForestClassifier\n",
    "from sklearn.model_selection import GridSearchCV\n",
    "from sklearn.metrics import classification_report\n",
    "\n",
    "# Assuming you already performed data splitting and have X_train_balanced, y_train_balanced, X_test, y_test\n",
    "\n",
    "# Hyperparameter grid for Random Forest\n",
    "param_grid = {\n",
    "    'n_estimators': [10, 50, 100],  # Number of trees in the forest\n",
    "    'max_depth': [None, 10, 20, 30],       # Maximum depth of individual trees\n",
    "    'min_samples_split': [2, 5, 10]  # Minimum samples required to split a node\n",
    "}"
   ]
  },
  {
   "cell_type": "code",
   "execution_count": 34,
   "id": "1825102b",
   "metadata": {},
   "outputs": [],
   "source": [
    "# Create the GridSearchCV object\n",
    "grid_search = GridSearchCV(RandomForestClassifier(random_state=42), param_grid, cv=5, scoring='f1_macro')"
   ]
  },
  {
   "cell_type": "code",
   "execution_count": 35,
   "id": "742d5907",
   "metadata": {},
   "outputs": [
    {
     "data": {
      "text/html": [
       "<style>#sk-container-id-2 {color: black;background-color: white;}#sk-container-id-2 pre{padding: 0;}#sk-container-id-2 div.sk-toggleable {background-color: white;}#sk-container-id-2 label.sk-toggleable__label {cursor: pointer;display: block;width: 100%;margin-bottom: 0;padding: 0.3em;box-sizing: border-box;text-align: center;}#sk-container-id-2 label.sk-toggleable__label-arrow:before {content: \"▸\";float: left;margin-right: 0.25em;color: #696969;}#sk-container-id-2 label.sk-toggleable__label-arrow:hover:before {color: black;}#sk-container-id-2 div.sk-estimator:hover label.sk-toggleable__label-arrow:before {color: black;}#sk-container-id-2 div.sk-toggleable__content {max-height: 0;max-width: 0;overflow: hidden;text-align: left;background-color: #f0f8ff;}#sk-container-id-2 div.sk-toggleable__content pre {margin: 0.2em;color: black;border-radius: 0.25em;background-color: #f0f8ff;}#sk-container-id-2 input.sk-toggleable__control:checked~div.sk-toggleable__content {max-height: 200px;max-width: 100%;overflow: auto;}#sk-container-id-2 input.sk-toggleable__control:checked~label.sk-toggleable__label-arrow:before {content: \"▾\";}#sk-container-id-2 div.sk-estimator input.sk-toggleable__control:checked~label.sk-toggleable__label {background-color: #d4ebff;}#sk-container-id-2 div.sk-label input.sk-toggleable__control:checked~label.sk-toggleable__label {background-color: #d4ebff;}#sk-container-id-2 input.sk-hidden--visually {border: 0;clip: rect(1px 1px 1px 1px);clip: rect(1px, 1px, 1px, 1px);height: 1px;margin: -1px;overflow: hidden;padding: 0;position: absolute;width: 1px;}#sk-container-id-2 div.sk-estimator {font-family: monospace;background-color: #f0f8ff;border: 1px dotted black;border-radius: 0.25em;box-sizing: border-box;margin-bottom: 0.5em;}#sk-container-id-2 div.sk-estimator:hover {background-color: #d4ebff;}#sk-container-id-2 div.sk-parallel-item::after {content: \"\";width: 100%;border-bottom: 1px solid gray;flex-grow: 1;}#sk-container-id-2 div.sk-label:hover label.sk-toggleable__label {background-color: #d4ebff;}#sk-container-id-2 div.sk-serial::before {content: \"\";position: absolute;border-left: 1px solid gray;box-sizing: border-box;top: 0;bottom: 0;left: 50%;z-index: 0;}#sk-container-id-2 div.sk-serial {display: flex;flex-direction: column;align-items: center;background-color: white;padding-right: 0.2em;padding-left: 0.2em;position: relative;}#sk-container-id-2 div.sk-item {position: relative;z-index: 1;}#sk-container-id-2 div.sk-parallel {display: flex;align-items: stretch;justify-content: center;background-color: white;position: relative;}#sk-container-id-2 div.sk-item::before, #sk-container-id-2 div.sk-parallel-item::before {content: \"\";position: absolute;border-left: 1px solid gray;box-sizing: border-box;top: 0;bottom: 0;left: 50%;z-index: -1;}#sk-container-id-2 div.sk-parallel-item {display: flex;flex-direction: column;z-index: 1;position: relative;background-color: white;}#sk-container-id-2 div.sk-parallel-item:first-child::after {align-self: flex-end;width: 50%;}#sk-container-id-2 div.sk-parallel-item:last-child::after {align-self: flex-start;width: 50%;}#sk-container-id-2 div.sk-parallel-item:only-child::after {width: 0;}#sk-container-id-2 div.sk-dashed-wrapped {border: 1px dashed gray;margin: 0 0.4em 0.5em 0.4em;box-sizing: border-box;padding-bottom: 0.4em;background-color: white;}#sk-container-id-2 div.sk-label label {font-family: monospace;font-weight: bold;display: inline-block;line-height: 1.2em;}#sk-container-id-2 div.sk-label-container {text-align: center;}#sk-container-id-2 div.sk-container {/* jupyter's `normalize.less` sets `[hidden] { display: none; }` but bootstrap.min.css set `[hidden] { display: none !important; }` so we also need the `!important` here to be able to override the default hidden behavior on the sphinx rendered scikit-learn.org. See: https://github.com/scikit-learn/scikit-learn/issues/21755 */display: inline-block !important;position: relative;}#sk-container-id-2 div.sk-text-repr-fallback {display: none;}</style><div id=\"sk-container-id-2\" class=\"sk-top-container\"><div class=\"sk-text-repr-fallback\"><pre>GridSearchCV(cv=5, estimator=RandomForestClassifier(random_state=42),\n",
       "             param_grid={&#x27;max_depth&#x27;: [None, 10, 20, 30],\n",
       "                         &#x27;min_samples_split&#x27;: [2, 5, 10],\n",
       "                         &#x27;n_estimators&#x27;: [10, 50, 100]},\n",
       "             scoring=&#x27;f1_macro&#x27;)</pre><b>In a Jupyter environment, please rerun this cell to show the HTML representation or trust the notebook. <br />On GitHub, the HTML representation is unable to render, please try loading this page with nbviewer.org.</b></div><div class=\"sk-container\" hidden><div class=\"sk-item sk-dashed-wrapped\"><div class=\"sk-label-container\"><div class=\"sk-label sk-toggleable\"><input class=\"sk-toggleable__control sk-hidden--visually\" id=\"sk-estimator-id-4\" type=\"checkbox\" ><label for=\"sk-estimator-id-4\" class=\"sk-toggleable__label sk-toggleable__label-arrow\">GridSearchCV</label><div class=\"sk-toggleable__content\"><pre>GridSearchCV(cv=5, estimator=RandomForestClassifier(random_state=42),\n",
       "             param_grid={&#x27;max_depth&#x27;: [None, 10, 20, 30],\n",
       "                         &#x27;min_samples_split&#x27;: [2, 5, 10],\n",
       "                         &#x27;n_estimators&#x27;: [10, 50, 100]},\n",
       "             scoring=&#x27;f1_macro&#x27;)</pre></div></div></div><div class=\"sk-parallel\"><div class=\"sk-parallel-item\"><div class=\"sk-item\"><div class=\"sk-label-container\"><div class=\"sk-label sk-toggleable\"><input class=\"sk-toggleable__control sk-hidden--visually\" id=\"sk-estimator-id-5\" type=\"checkbox\" ><label for=\"sk-estimator-id-5\" class=\"sk-toggleable__label sk-toggleable__label-arrow\">estimator: RandomForestClassifier</label><div class=\"sk-toggleable__content\"><pre>RandomForestClassifier(random_state=42)</pre></div></div></div><div class=\"sk-serial\"><div class=\"sk-item\"><div class=\"sk-estimator sk-toggleable\"><input class=\"sk-toggleable__control sk-hidden--visually\" id=\"sk-estimator-id-6\" type=\"checkbox\" ><label for=\"sk-estimator-id-6\" class=\"sk-toggleable__label sk-toggleable__label-arrow\">RandomForestClassifier</label><div class=\"sk-toggleable__content\"><pre>RandomForestClassifier(random_state=42)</pre></div></div></div></div></div></div></div></div></div></div>"
      ],
      "text/plain": [
       "GridSearchCV(cv=5, estimator=RandomForestClassifier(random_state=42),\n",
       "             param_grid={'max_depth': [None, 10, 20, 30],\n",
       "                         'min_samples_split': [2, 5, 10],\n",
       "                         'n_estimators': [10, 50, 100]},\n",
       "             scoring='f1_macro')"
      ]
     },
     "execution_count": 35,
     "metadata": {},
     "output_type": "execute_result"
    }
   ],
   "source": [
    "# Train the model with GridSearch\n",
    "grid_search.fit(X_train_balanced, y_train_balanced)"
   ]
  },
  {
   "cell_type": "code",
   "execution_count": 36,
   "id": "4c3666c7",
   "metadata": {},
   "outputs": [],
   "source": [
    "# Get the best model with tuned hyperparameters\n",
    "best_model_rf = grid_search.best_estimator_"
   ]
  },
  {
   "cell_type": "code",
   "execution_count": 37,
   "id": "8d105030",
   "metadata": {},
   "outputs": [],
   "source": [
    "# Make predictions on the training and test data using the best model\n",
    "y_pred_train_rf = best_model_rf.predict(X_train_balanced)\n",
    "y_pred_test_rf = best_model_rf.predict(X_test)"
   ]
  },
  {
   "cell_type": "code",
   "execution_count": 38,
   "id": "7a795eb2",
   "metadata": {},
   "outputs": [
    {
     "name": "stdout",
     "output_type": "stream",
     "text": [
      "Classification Report - Training Set (Random Forest):\n",
      "              precision    recall  f1-score   support\n",
      "\n",
      "           0       1.00      1.00      1.00      3754\n",
      "           1       1.00      1.00      1.00      3754\n",
      "           2       1.00      1.00      1.00      3754\n",
      "           3       1.00      1.00      1.00      3754\n",
      "           4       1.00      1.00      1.00      3754\n",
      "           5       1.00      1.00      1.00      3754\n",
      "\n",
      "    accuracy                           1.00     22524\n",
      "   macro avg       1.00      1.00      1.00     22524\n",
      "weighted avg       1.00      1.00      1.00     22524\n",
      "\n"
     ]
    }
   ],
   "source": [
    "# Generate classification reports\n",
    "print(\"Classification Report - Training Set (Random Forest):\")\n",
    "print(classification_report(y_train_balanced, y_pred_train_rf))"
   ]
  },
  {
   "cell_type": "code",
   "execution_count": 39,
   "id": "acd5b1a4",
   "metadata": {},
   "outputs": [
    {
     "name": "stdout",
     "output_type": "stream",
     "text": [
      "\n",
      "Classification Report - Test Set (Random Forest):\n",
      "              precision    recall  f1-score   support\n",
      "\n",
      "           0       0.91      0.83      0.87       933\n",
      "           1       0.89      0.81      0.85      1072\n",
      "           2       0.60      0.78      0.68       261\n",
      "           3       0.82      0.86      0.84       432\n",
      "           4       0.78      0.87      0.83       387\n",
      "           5       0.67      0.83      0.74       115\n",
      "\n",
      "    accuracy                           0.83      3200\n",
      "   macro avg       0.78      0.83      0.80      3200\n",
      "weighted avg       0.84      0.83      0.83      3200\n",
      "\n",
      "\n",
      "Best Hyperparameters (Random Forest): {'max_depth': None, 'min_samples_split': 2, 'n_estimators': 100}\n"
     ]
    }
   ],
   "source": [
    "print(\"\\nClassification Report - Test Set (Random Forest):\")\n",
    "print(classification_report(y_test, y_pred_test_rf))\n",
    "\n",
    "# Print the best hyperparameters\n",
    "print(\"\\nBest Hyperparameters (Random Forest):\", grid_search.best_params_)"
   ]
  },
  {
   "cell_type": "code",
   "execution_count": 40,
   "id": "bc3203d1",
   "metadata": {},
   "outputs": [
    {
     "name": "stdout",
     "output_type": "stream",
     "text": [
      "\n",
      "Confusion Matrix - Training Set:\n",
      "[[3745    0    0    8    1    0]\n",
      " [   2 3744    7    0    0    1]\n",
      " [   0    1 3753    0    0    0]\n",
      " [   1    0    0 3752    1    0]\n",
      " [   2    0    0    3 3740    9]\n",
      " [   0    0    0    0    0 3754]]\n",
      "\n",
      "Confusion Matrix - Test Set:\n",
      "[[777  50  25  40  34   7]\n",
      " [ 42 873  95  24  22  16]\n",
      " [  1  44 203   4   7   2]\n",
      " [ 23  10   9 373  14   3]\n",
      " [ 10   4   3  13 338  19]\n",
      " [  0   0   3   0  16  96]]\n"
     ]
    }
   ],
   "source": [
    "# Confusion Matrices\n",
    "print(\"\\nConfusion Matrix - Training Set:\")\n",
    "cm_train = confusion_matrix(y_train_balanced, y_pred_train_rf)\n",
    "print(cm_train)\n",
    "\n",
    "print(\"\\nConfusion Matrix - Test Set:\")\n",
    "cm_test = confusion_matrix(y_test, y_pred_test_rf)\n",
    "print(cm_test)"
   ]
  },
  {
   "cell_type": "markdown",
   "id": "bd8bfe14",
   "metadata": {},
   "source": [
    "# Support Vector Machine"
   ]
  },
  {
   "cell_type": "code",
   "execution_count": 41,
   "id": "ee15a752",
   "metadata": {},
   "outputs": [
    {
     "name": "stdout",
     "output_type": "stream",
     "text": [
      "Classification Report (SVM) - Training Set:\n",
      "              precision    recall  f1-score   support\n",
      "\n",
      "           0       1.00      0.98      0.99      3754\n",
      "           1       1.00      0.99      0.99      3754\n",
      "           2       1.00      1.00      1.00      3754\n",
      "           3       0.99      1.00      1.00      3754\n",
      "           4       0.98      0.98      0.98      3754\n",
      "           5       0.98      1.00      0.99      3754\n",
      "\n",
      "    accuracy                           0.99     22524\n",
      "   macro avg       0.99      0.99      0.99     22524\n",
      "weighted avg       0.99      0.99      0.99     22524\n",
      "\n",
      "\n",
      "Classification Report (SVM) - Test Set:\n",
      "              precision    recall  f1-score   support\n",
      "\n",
      "           0       0.86      0.88      0.87       933\n",
      "           1       0.77      0.92      0.84      1072\n",
      "           2       0.77      0.49      0.59       261\n",
      "           3       0.87      0.77      0.82       432\n",
      "           4       0.82      0.75      0.78       387\n",
      "           5       0.80      0.49      0.61       115\n",
      "\n",
      "    accuracy                           0.82      3200\n",
      "   macro avg       0.82      0.72      0.75      3200\n",
      "weighted avg       0.82      0.82      0.81      3200\n",
      "\n",
      "\n",
      "Confusion Matrix (SVM) - Training Set:\n",
      "[[3661    4    1   18   69    1]\n",
      " [   5 3715   17    2    5   10]\n",
      " [   0    2 3752    0    0    0]\n",
      " [   5    1    0 3746    2    0]\n",
      " [   0    0    0    8 3690   56]\n",
      " [   0    0    0    0    0 3754]]\n",
      "\n",
      "Confusion Matrix (SVM) - Test Set:\n",
      "[[821  63   5  22  19   3]\n",
      " [ 35 984  28   9  10   6]\n",
      " [ 21 107 127   3   3   0]\n",
      " [ 41  45   3 334   9   0]\n",
      " [ 25  50   3  14 290   5]\n",
      " [  8  28   0   0  23  56]]\n"
     ]
    }
   ],
   "source": [
    "from sklearn.svm import SVC\n",
    "from sklearn.metrics import classification_report, confusion_matrix\n",
    "\n",
    "# Assuming you already performed data splitting and have X_train_balanced, y_train_balanced, X_test, y_test\n",
    "\n",
    "# Build SVM model\n",
    "model_svm = SVC(random_state=42)  # Set random state for reproducibility\n",
    "\n",
    "# Train the model on balanced training data\n",
    "model_svm.fit(X_train_balanced, y_train_balanced)\n",
    "\n",
    "# Make predictions on training and test data\n",
    "y_pred_train_svm = model_svm.predict(X_train_balanced)\n",
    "y_pred_test_svm = model_svm.predict(X_test)\n",
    "\n",
    "# Generate classification reports\n",
    "print(\"Classification Report (SVM) - Training Set:\")\n",
    "print(classification_report(y_train_balanced, y_pred_train_svm))\n",
    "\n",
    "print(\"\\nClassification Report (SVM) - Test Set:\")\n",
    "print(classification_report(y_test, y_pred_test_svm))\n",
    "\n",
    "# Calculate and print confusion matrices\n",
    "print(\"\\nConfusion Matrix (SVM) - Training Set:\")\n",
    "cm_train_svm = confusion_matrix(y_train_balanced, y_pred_train_svm)\n",
    "print(cm_train_svm)\n",
    "\n",
    "print(\"\\nConfusion Matrix (SVM) - Test Set:\")\n",
    "cm_test_svm = confusion_matrix(y_test, y_pred_test_svm)\n",
    "print(cm_test_svm)\n"
   ]
  },
  {
   "cell_type": "markdown",
   "id": "34a04d45",
   "metadata": {},
   "source": [
    "# Hyperparameter Tuning for Support Vector Machine"
   ]
  },
  {
   "cell_type": "code",
   "execution_count": 42,
   "id": "77421bc3",
   "metadata": {},
   "outputs": [],
   "source": [
    "from sklearn.svm import SVC\n",
    "# Assuming you already performed data splitting and have X_train_balanced, y_train_balanced, X_test, y_test\n",
    "\n",
    "# Hyperparameter grids for Logistic Regression and SVM\n",
    "# Use at least 2 values for each hyperparameter\n",
    "svm_param_grid = {\n",
    "    'C': [0.1, 1, 10],  # Regularization strength\n",
    "    'kernel': ['linear', 'rbf']  # Kernel types for SVM\n",
    "}\n"
   ]
  },
  {
   "cell_type": "code",
   "execution_count": 43,
   "id": "0ad436ee",
   "metadata": {},
   "outputs": [
    {
     "data": {
      "text/html": [
       "<style>#sk-container-id-3 {color: black;background-color: white;}#sk-container-id-3 pre{padding: 0;}#sk-container-id-3 div.sk-toggleable {background-color: white;}#sk-container-id-3 label.sk-toggleable__label {cursor: pointer;display: block;width: 100%;margin-bottom: 0;padding: 0.3em;box-sizing: border-box;text-align: center;}#sk-container-id-3 label.sk-toggleable__label-arrow:before {content: \"▸\";float: left;margin-right: 0.25em;color: #696969;}#sk-container-id-3 label.sk-toggleable__label-arrow:hover:before {color: black;}#sk-container-id-3 div.sk-estimator:hover label.sk-toggleable__label-arrow:before {color: black;}#sk-container-id-3 div.sk-toggleable__content {max-height: 0;max-width: 0;overflow: hidden;text-align: left;background-color: #f0f8ff;}#sk-container-id-3 div.sk-toggleable__content pre {margin: 0.2em;color: black;border-radius: 0.25em;background-color: #f0f8ff;}#sk-container-id-3 input.sk-toggleable__control:checked~div.sk-toggleable__content {max-height: 200px;max-width: 100%;overflow: auto;}#sk-container-id-3 input.sk-toggleable__control:checked~label.sk-toggleable__label-arrow:before {content: \"▾\";}#sk-container-id-3 div.sk-estimator input.sk-toggleable__control:checked~label.sk-toggleable__label {background-color: #d4ebff;}#sk-container-id-3 div.sk-label input.sk-toggleable__control:checked~label.sk-toggleable__label {background-color: #d4ebff;}#sk-container-id-3 input.sk-hidden--visually {border: 0;clip: rect(1px 1px 1px 1px);clip: rect(1px, 1px, 1px, 1px);height: 1px;margin: -1px;overflow: hidden;padding: 0;position: absolute;width: 1px;}#sk-container-id-3 div.sk-estimator {font-family: monospace;background-color: #f0f8ff;border: 1px dotted black;border-radius: 0.25em;box-sizing: border-box;margin-bottom: 0.5em;}#sk-container-id-3 div.sk-estimator:hover {background-color: #d4ebff;}#sk-container-id-3 div.sk-parallel-item::after {content: \"\";width: 100%;border-bottom: 1px solid gray;flex-grow: 1;}#sk-container-id-3 div.sk-label:hover label.sk-toggleable__label {background-color: #d4ebff;}#sk-container-id-3 div.sk-serial::before {content: \"\";position: absolute;border-left: 1px solid gray;box-sizing: border-box;top: 0;bottom: 0;left: 50%;z-index: 0;}#sk-container-id-3 div.sk-serial {display: flex;flex-direction: column;align-items: center;background-color: white;padding-right: 0.2em;padding-left: 0.2em;position: relative;}#sk-container-id-3 div.sk-item {position: relative;z-index: 1;}#sk-container-id-3 div.sk-parallel {display: flex;align-items: stretch;justify-content: center;background-color: white;position: relative;}#sk-container-id-3 div.sk-item::before, #sk-container-id-3 div.sk-parallel-item::before {content: \"\";position: absolute;border-left: 1px solid gray;box-sizing: border-box;top: 0;bottom: 0;left: 50%;z-index: -1;}#sk-container-id-3 div.sk-parallel-item {display: flex;flex-direction: column;z-index: 1;position: relative;background-color: white;}#sk-container-id-3 div.sk-parallel-item:first-child::after {align-self: flex-end;width: 50%;}#sk-container-id-3 div.sk-parallel-item:last-child::after {align-self: flex-start;width: 50%;}#sk-container-id-3 div.sk-parallel-item:only-child::after {width: 0;}#sk-container-id-3 div.sk-dashed-wrapped {border: 1px dashed gray;margin: 0 0.4em 0.5em 0.4em;box-sizing: border-box;padding-bottom: 0.4em;background-color: white;}#sk-container-id-3 div.sk-label label {font-family: monospace;font-weight: bold;display: inline-block;line-height: 1.2em;}#sk-container-id-3 div.sk-label-container {text-align: center;}#sk-container-id-3 div.sk-container {/* jupyter's `normalize.less` sets `[hidden] { display: none; }` but bootstrap.min.css set `[hidden] { display: none !important; }` so we also need the `!important` here to be able to override the default hidden behavior on the sphinx rendered scikit-learn.org. See: https://github.com/scikit-learn/scikit-learn/issues/21755 */display: inline-block !important;position: relative;}#sk-container-id-3 div.sk-text-repr-fallback {display: none;}</style><div id=\"sk-container-id-3\" class=\"sk-top-container\"><div class=\"sk-text-repr-fallback\"><pre>GridSearchCV(cv=5, estimator=SVC(random_state=42),\n",
       "             param_grid={&#x27;C&#x27;: [0.1, 1, 10], &#x27;kernel&#x27;: [&#x27;linear&#x27;, &#x27;rbf&#x27;]},\n",
       "             scoring=&#x27;f1_macro&#x27;)</pre><b>In a Jupyter environment, please rerun this cell to show the HTML representation or trust the notebook. <br />On GitHub, the HTML representation is unable to render, please try loading this page with nbviewer.org.</b></div><div class=\"sk-container\" hidden><div class=\"sk-item sk-dashed-wrapped\"><div class=\"sk-label-container\"><div class=\"sk-label sk-toggleable\"><input class=\"sk-toggleable__control sk-hidden--visually\" id=\"sk-estimator-id-7\" type=\"checkbox\" ><label for=\"sk-estimator-id-7\" class=\"sk-toggleable__label sk-toggleable__label-arrow\">GridSearchCV</label><div class=\"sk-toggleable__content\"><pre>GridSearchCV(cv=5, estimator=SVC(random_state=42),\n",
       "             param_grid={&#x27;C&#x27;: [0.1, 1, 10], &#x27;kernel&#x27;: [&#x27;linear&#x27;, &#x27;rbf&#x27;]},\n",
       "             scoring=&#x27;f1_macro&#x27;)</pre></div></div></div><div class=\"sk-parallel\"><div class=\"sk-parallel-item\"><div class=\"sk-item\"><div class=\"sk-label-container\"><div class=\"sk-label sk-toggleable\"><input class=\"sk-toggleable__control sk-hidden--visually\" id=\"sk-estimator-id-8\" type=\"checkbox\" ><label for=\"sk-estimator-id-8\" class=\"sk-toggleable__label sk-toggleable__label-arrow\">estimator: SVC</label><div class=\"sk-toggleable__content\"><pre>SVC(random_state=42)</pre></div></div></div><div class=\"sk-serial\"><div class=\"sk-item\"><div class=\"sk-estimator sk-toggleable\"><input class=\"sk-toggleable__control sk-hidden--visually\" id=\"sk-estimator-id-9\" type=\"checkbox\" ><label for=\"sk-estimator-id-9\" class=\"sk-toggleable__label sk-toggleable__label-arrow\">SVC</label><div class=\"sk-toggleable__content\"><pre>SVC(random_state=42)</pre></div></div></div></div></div></div></div></div></div></div>"
      ],
      "text/plain": [
       "GridSearchCV(cv=5, estimator=SVC(random_state=42),\n",
       "             param_grid={'C': [0.1, 1, 10], 'kernel': ['linear', 'rbf']},\n",
       "             scoring='f1_macro')"
      ]
     },
     "execution_count": 43,
     "metadata": {},
     "output_type": "execute_result"
    }
   ],
   "source": [
    "# SVM model with GridSearchCV\n",
    "model_svm = SVC(random_state=42)\n",
    "grid_svm = GridSearchCV(model_svm, svm_param_grid, cv=5, scoring='f1_macro')\n",
    "grid_svm.fit(X_train_balanced, y_train_balanced)\n"
   ]
  },
  {
   "cell_type": "code",
   "execution_count": 47,
   "id": "da1afc7a",
   "metadata": {},
   "outputs": [],
   "source": [
    "# Best parameters for SVM\n",
    "best_params_svm = grid_svm.best_params_"
   ]
  },
  {
   "cell_type": "code",
   "execution_count": 45,
   "id": "2fd080ab",
   "metadata": {},
   "outputs": [
    {
     "data": {
      "text/html": [
       "<style>#sk-container-id-4 {color: black;background-color: white;}#sk-container-id-4 pre{padding: 0;}#sk-container-id-4 div.sk-toggleable {background-color: white;}#sk-container-id-4 label.sk-toggleable__label {cursor: pointer;display: block;width: 100%;margin-bottom: 0;padding: 0.3em;box-sizing: border-box;text-align: center;}#sk-container-id-4 label.sk-toggleable__label-arrow:before {content: \"▸\";float: left;margin-right: 0.25em;color: #696969;}#sk-container-id-4 label.sk-toggleable__label-arrow:hover:before {color: black;}#sk-container-id-4 div.sk-estimator:hover label.sk-toggleable__label-arrow:before {color: black;}#sk-container-id-4 div.sk-toggleable__content {max-height: 0;max-width: 0;overflow: hidden;text-align: left;background-color: #f0f8ff;}#sk-container-id-4 div.sk-toggleable__content pre {margin: 0.2em;color: black;border-radius: 0.25em;background-color: #f0f8ff;}#sk-container-id-4 input.sk-toggleable__control:checked~div.sk-toggleable__content {max-height: 200px;max-width: 100%;overflow: auto;}#sk-container-id-4 input.sk-toggleable__control:checked~label.sk-toggleable__label-arrow:before {content: \"▾\";}#sk-container-id-4 div.sk-estimator input.sk-toggleable__control:checked~label.sk-toggleable__label {background-color: #d4ebff;}#sk-container-id-4 div.sk-label input.sk-toggleable__control:checked~label.sk-toggleable__label {background-color: #d4ebff;}#sk-container-id-4 input.sk-hidden--visually {border: 0;clip: rect(1px 1px 1px 1px);clip: rect(1px, 1px, 1px, 1px);height: 1px;margin: -1px;overflow: hidden;padding: 0;position: absolute;width: 1px;}#sk-container-id-4 div.sk-estimator {font-family: monospace;background-color: #f0f8ff;border: 1px dotted black;border-radius: 0.25em;box-sizing: border-box;margin-bottom: 0.5em;}#sk-container-id-4 div.sk-estimator:hover {background-color: #d4ebff;}#sk-container-id-4 div.sk-parallel-item::after {content: \"\";width: 100%;border-bottom: 1px solid gray;flex-grow: 1;}#sk-container-id-4 div.sk-label:hover label.sk-toggleable__label {background-color: #d4ebff;}#sk-container-id-4 div.sk-serial::before {content: \"\";position: absolute;border-left: 1px solid gray;box-sizing: border-box;top: 0;bottom: 0;left: 50%;z-index: 0;}#sk-container-id-4 div.sk-serial {display: flex;flex-direction: column;align-items: center;background-color: white;padding-right: 0.2em;padding-left: 0.2em;position: relative;}#sk-container-id-4 div.sk-item {position: relative;z-index: 1;}#sk-container-id-4 div.sk-parallel {display: flex;align-items: stretch;justify-content: center;background-color: white;position: relative;}#sk-container-id-4 div.sk-item::before, #sk-container-id-4 div.sk-parallel-item::before {content: \"\";position: absolute;border-left: 1px solid gray;box-sizing: border-box;top: 0;bottom: 0;left: 50%;z-index: -1;}#sk-container-id-4 div.sk-parallel-item {display: flex;flex-direction: column;z-index: 1;position: relative;background-color: white;}#sk-container-id-4 div.sk-parallel-item:first-child::after {align-self: flex-end;width: 50%;}#sk-container-id-4 div.sk-parallel-item:last-child::after {align-self: flex-start;width: 50%;}#sk-container-id-4 div.sk-parallel-item:only-child::after {width: 0;}#sk-container-id-4 div.sk-dashed-wrapped {border: 1px dashed gray;margin: 0 0.4em 0.5em 0.4em;box-sizing: border-box;padding-bottom: 0.4em;background-color: white;}#sk-container-id-4 div.sk-label label {font-family: monospace;font-weight: bold;display: inline-block;line-height: 1.2em;}#sk-container-id-4 div.sk-label-container {text-align: center;}#sk-container-id-4 div.sk-container {/* jupyter's `normalize.less` sets `[hidden] { display: none; }` but bootstrap.min.css set `[hidden] { display: none !important; }` so we also need the `!important` here to be able to override the default hidden behavior on the sphinx rendered scikit-learn.org. See: https://github.com/scikit-learn/scikit-learn/issues/21755 */display: inline-block !important;position: relative;}#sk-container-id-4 div.sk-text-repr-fallback {display: none;}</style><div id=\"sk-container-id-4\" class=\"sk-top-container\"><div class=\"sk-text-repr-fallback\"><pre>SVC(C=10, kernel=&#x27;linear&#x27;, random_state=42)</pre><b>In a Jupyter environment, please rerun this cell to show the HTML representation or trust the notebook. <br />On GitHub, the HTML representation is unable to render, please try loading this page with nbviewer.org.</b></div><div class=\"sk-container\" hidden><div class=\"sk-item\"><div class=\"sk-estimator sk-toggleable\"><input class=\"sk-toggleable__control sk-hidden--visually\" id=\"sk-estimator-id-10\" type=\"checkbox\" checked><label for=\"sk-estimator-id-10\" class=\"sk-toggleable__label sk-toggleable__label-arrow\">SVC</label><div class=\"sk-toggleable__content\"><pre>SVC(C=10, kernel=&#x27;linear&#x27;, random_state=42)</pre></div></div></div></div></div>"
      ],
      "text/plain": [
       "SVC(C=10, kernel='linear', random_state=42)"
      ]
     },
     "execution_count": 45,
     "metadata": {},
     "output_type": "execute_result"
    }
   ],
   "source": [
    "# Make predictions and evaluate using best parameters\n",
    "model_svm_tuned = SVC(random_state=42, **best_params_svm)\n",
    "model_svm_tuned.fit(X_train_balanced, y_train_balanced)"
   ]
  },
  {
   "cell_type": "code",
   "execution_count": 46,
   "id": "a1e7b3ab",
   "metadata": {},
   "outputs": [],
   "source": [
    "y_pred_train_svm = model_svm_tuned.predict(X_train_balanced)\n",
    "y_pred_test_svm = model_svm_tuned.predict(X_test)"
   ]
  },
  {
   "cell_type": "code",
   "execution_count": 48,
   "id": "9047296e",
   "metadata": {},
   "outputs": [
    {
     "name": "stdout",
     "output_type": "stream",
     "text": [
      "\n",
      "Support Vector Machine (GridSearchCV):\n",
      "Classification Report - Training Set:\n",
      "              precision    recall  f1-score   support\n",
      "\n",
      "           0       0.99      0.98      0.99      3754\n",
      "           1       1.00      0.99      0.99      3754\n",
      "           2       0.99      1.00      1.00      3754\n",
      "           3       0.99      1.00      0.99      3754\n",
      "           4       0.98      0.98      0.98      3754\n",
      "           5       0.98      1.00      0.99      3754\n",
      "\n",
      "    accuracy                           0.99     22524\n",
      "   macro avg       0.99      0.99      0.99     22524\n",
      "weighted avg       0.99      0.99      0.99     22524\n",
      "\n",
      "\n",
      "Classification Report - Test Set:\n",
      "              precision    recall  f1-score   support\n",
      "\n",
      "           0       0.79      0.85      0.82       933\n",
      "           1       0.82      0.83      0.82      1072\n",
      "           2       0.68      0.60      0.64       261\n",
      "           3       0.84      0.75      0.79       432\n",
      "           4       0.76      0.80      0.78       387\n",
      "           5       0.79      0.63      0.71       115\n",
      "\n",
      "    accuracy                           0.79      3200\n",
      "   macro avg       0.78      0.74      0.76      3200\n",
      "weighted avg       0.79      0.79      0.79      3200\n",
      "\n"
     ]
    }
   ],
   "source": [
    "# Classification report and confusion matrix for SVM\n",
    "print(\"\\nSupport Vector Machine (GridSearchCV):\")\n",
    "print(\"Classification Report - Training Set:\")\n",
    "print(classification_report(y_train_balanced, y_pred_train_svm))\n",
    "print(\"\\nClassification Report - Test Set:\")\n",
    "print(classification_report(y_test, y_pred_test_svm))"
   ]
  },
  {
   "cell_type": "code",
   "execution_count": 49,
   "id": "4666048a",
   "metadata": {},
   "outputs": [
    {
     "name": "stdout",
     "output_type": "stream",
     "text": [
      "\n",
      "Confusion Matrix - Training Set:\n",
      "[[3666   10    0   21   57    0]\n",
      " [  13 3699   29    2    5    6]\n",
      " [   0    3 3751    0    0    0]\n",
      " [   6    0    0 3746    2    0]\n",
      " [   3    0    0    9 3688   54]\n",
      " [   0    0    0    0    0 3754]]\n",
      "\n",
      "Confusion Matrix - Test Set:\n",
      "[[795  60   8  34  31   5]\n",
      " [ 91 886  56   9  26   4]\n",
      " [ 24  73 156   3   5   0]\n",
      " [ 60  26   6 324  16   0]\n",
      " [ 29  19   4  16 309  10]\n",
      " [ 12  12   0   1  17  73]]\n"
     ]
    }
   ],
   "source": [
    "print(\"\\nConfusion Matrix - Training Set:\")\n",
    "cm_train_svm = confusion_matrix(y_train_balanced, y_pred_train_svm)\n",
    "print(cm_train_svm)\n",
    "\n",
    "print(\"\\nConfusion Matrix - Test Set:\")\n",
    "cm_test_svm = confusion_matrix(y_test, y_pred_test_svm)\n",
    "print(cm_test_svm)"
   ]
  },
  {
   "cell_type": "code",
   "execution_count": 51,
   "id": "6dbeae24",
   "metadata": {},
   "outputs": [
    {
     "name": "stdout",
     "output_type": "stream",
     "text": [
      "Logistic Regression:\n",
      "Training Accuracy: 0.9857041378085598\n",
      "Testing Accuracy: 0.82875\n"
     ]
    }
   ],
   "source": [
    "from sklearn.metrics import accuracy_score\n",
    "\n",
    "# Calculate training accuracy for Logistic Regression\n",
    "train_accuracy_lr = accuracy_score(y_train_balanced, y_pred_train)\n",
    "\n",
    "# Calculate testing accuracy for Logistic Regression\n",
    "test_accuracy_lr = accuracy_score(y_test, y_pred_test)\n",
    "\n",
    "print(\"Logistic Regression:\")\n",
    "print(\"Training Accuracy:\", train_accuracy_lr)\n",
    "print(\"Testing Accuracy:\", test_accuracy_lr)\n"
   ]
  },
  {
   "cell_type": "code",
   "execution_count": 52,
   "id": "b3a38bad",
   "metadata": {},
   "outputs": [
    {
     "name": "stdout",
     "output_type": "stream",
     "text": [
      "Random Forest:\n",
      "Training Accuracy: 0.9984017048481619\n",
      "Testing Accuracy: 0.83125\n"
     ]
    }
   ],
   "source": [
    "# Calculate training accuracy for Random Forest\n",
    "train_accuracy_rf = accuracy_score(y_train_balanced, y_pred_train_rf)\n",
    "\n",
    "# Calculate testing accuracy for Random Forest\n",
    "test_accuracy_rf = accuracy_score(y_test, y_pred_test_rf)\n",
    "\n",
    "print(\"Random Forest:\")\n",
    "print(\"Training Accuracy:\", train_accuracy_rf)\n",
    "print(\"Testing Accuracy:\", test_accuracy_rf)\n"
   ]
  },
  {
   "cell_type": "code",
   "execution_count": 53,
   "id": "a1852142",
   "metadata": {},
   "outputs": [
    {
     "name": "stdout",
     "output_type": "stream",
     "text": [
      "Support Vector Machine (SVM):\n",
      "Training Accuracy: 0.9902326407387675\n",
      "Testing Accuracy: 0.7946875\n"
     ]
    }
   ],
   "source": [
    "# Calculate training accuracy for SVM\n",
    "train_accuracy_svm = accuracy_score(y_train_balanced, y_pred_train_svm)\n",
    "\n",
    "# Calculate testing accuracy for SVM\n",
    "test_accuracy_svm = accuracy_score(y_test, y_pred_test_svm)\n",
    "\n",
    "print(\"Support Vector Machine (SVM):\")\n",
    "print(\"Training Accuracy:\", train_accuracy_svm)\n",
    "print(\"Testing Accuracy:\", test_accuracy_svm)\n"
   ]
  },
  {
   "cell_type": "code",
   "execution_count": 54,
   "id": "42ac3694",
   "metadata": {},
   "outputs": [
    {
     "name": "stdout",
     "output_type": "stream",
     "text": [
      "Logistic Regression: Training Accuracy: 0.99, Testing Accuracy: 0.83\n",
      "Random Forest: Training Accuracy: 1.00, Testing Accuracy: 0.83\n",
      "Support Vector Machine (SVM): Training Accuracy: 0.99, Testing Accuracy: 0.79\n"
     ]
    }
   ],
   "source": [
    "print(f\"Logistic Regression: Training Accuracy: {train_accuracy_lr:.2f}, Testing Accuracy: {test_accuracy_lr:.2f}\")\n",
    "print(f\"Random Forest: Training Accuracy: {train_accuracy_rf:.2f}, Testing Accuracy: {test_accuracy_rf:.2f}\")\n",
    "print(f\"Support Vector Machine (SVM): Training Accuracy: {train_accuracy_svm:.2f}, Testing Accuracy: {test_accuracy_svm:.2f}\")\n"
   ]
  },
  {
   "cell_type": "code",
   "execution_count": 55,
   "id": "ba386870",
   "metadata": {},
   "outputs": [
    {
     "name": "stdout",
     "output_type": "stream",
     "text": [
      "Best Model: Random Forest\n",
      "Training Accuracy: 1.00\n",
      "Testing Accuracy: 0.83\n"
     ]
    }
   ],
   "source": [
    "# Create a dictionary to store accuracies for each model\n",
    "accuracy_dict = {\n",
    "    \"Logistic Regression\": (train_accuracy_lr, test_accuracy_lr),\n",
    "    \"Random Forest\": (train_accuracy_rf, test_accuracy_rf),\n",
    "    \"Support Vector Machine (SVM)\": (train_accuracy_svm, test_accuracy_svm)\n",
    "}\n",
    "\n",
    "# Find the model with the highest testing accuracy\n",
    "best_model_name = max(accuracy_dict, key=lambda x: accuracy_dict[x][1])\n",
    "best_model_train_accuracy, best_model_test_accuracy = accuracy_dict[best_model_name]\n",
    "\n",
    "print(f\"Best Model: {best_model_name}\")\n",
    "print(f\"Training Accuracy: {best_model_train_accuracy:.2f}\")\n",
    "print(f\"Testing Accuracy: {best_model_test_accuracy:.2f}\")\n"
   ]
  },
  {
   "cell_type": "code",
   "execution_count": 60,
   "id": "75d4e3b3",
   "metadata": {},
   "outputs": [
    {
     "name": "stdout",
     "output_type": "stream",
     "text": [
      "Random Forest Model\n",
      "Validation Accuracy: 0.83\n",
      "Test Accuracy: 0.83\n"
     ]
    }
   ],
   "source": [
    "# Evaluate the model on the validation set\n",
    "val_accuracy_rf = accuracy_score(y_val, grid_search.predict(X_val))\n",
    "\n",
    "# Evaluate the model on the test set\n",
    "test_accuracy = accuracy_score(y_test, grid_search.predict(X_test))\n",
    "\n",
    "print(\"Random Forest Model\")\n",
    "print(f\"Validation Accuracy: {val_accuracy_rf:.2f}\")\n",
    "print(f\"Test Accuracy: {test_accuracy:.2f}\")"
   ]
  },
  {
   "cell_type": "markdown",
   "id": "c4de4f9f",
   "metadata": {},
   "source": [
    "# Conclusion"
   ]
  },
  {
   "cell_type": "markdown",
   "id": "e90608f1",
   "metadata": {},
   "source": [
    "Based on the evaluation results, the Random Forest model shows promise as a reliable classifier for the given dataset."
   ]
  }
 ],
 "metadata": {
  "kernelspec": {
   "display_name": "Python 3 (ipykernel)",
   "language": "python",
   "name": "python3"
  },
  "language_info": {
   "codemirror_mode": {
    "name": "ipython",
    "version": 3
   },
   "file_extension": ".py",
   "mimetype": "text/x-python",
   "name": "python",
   "nbconvert_exporter": "python",
   "pygments_lexer": "ipython3",
   "version": "3.11.7"
  }
 },
 "nbformat": 4,
 "nbformat_minor": 5
}
