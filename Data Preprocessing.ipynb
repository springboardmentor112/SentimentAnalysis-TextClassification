{
 "cells": [
  {
   "cell_type": "markdown",
   "id": "f0d78104",
   "metadata": {},
   "source": [
    "## Name: Yash Bedagkar\n",
    "## gmail: yashb440@gmail.com"
   ]
  },
  {
   "cell_type": "code",
   "execution_count": 1,
   "id": "64ee48ca",
   "metadata": {},
   "outputs": [],
   "source": [
    "import pandas as pd"
   ]
  },
  {
   "cell_type": "code",
   "execution_count": 2,
   "id": "f5a5d601",
   "metadata": {},
   "outputs": [
    {
     "name": "stdout",
     "output_type": "stream",
     "text": [
      "                                   reviewId               userName  \\\n",
      "0      0197c118-5c6f-4a7b-894c-970023d1a350                Mar Zur   \n",
      "1      94868fb5-a21d-4ef9-ab85-81b2ed3d0785           Devin Rivera   \n",
      "2      825da34e-f65d-4ef3-991d-02d5291820d6          Heidi Kinsley   \n",
      "3      a49c2875-651a-4c33-b79c-5813780d659e          Daniel Keller   \n",
      "4      9482c75e-2e63-46ab-8c94-47273dd6a829          A Google user   \n",
      "...                                     ...                    ...   \n",
      "16782  e9cebff8-82ad-4191-b196-127a65e9036d  Alexandra Grafwallner   \n",
      "16783  ab74c21c-3587-4393-a53d-4cb55f3e3c9b          Ljubica Pejic   \n",
      "16784  0062b15d-6e4d-4f0a-9ea6-ef9b9420d923         Kamiyah Dorsey   \n",
      "16785  85318bf2-7ca0-4d5e-8cb2-f0f18c813e4d         Keturah Pender   \n",
      "16786  8e2deadd-1a6a-4817-89dc-4bd9a198332c    Bhagwan Singh Virik   \n",
      "\n",
      "                                               userImage  \\\n",
      "0      https://play-lh.googleusercontent.com/a/ACg8oc...   \n",
      "1      https://play-lh.googleusercontent.com/a-/ALV-U...   \n",
      "2      https://play-lh.googleusercontent.com/a/ACg8oc...   \n",
      "3      https://play-lh.googleusercontent.com/a/ACg8oc...   \n",
      "4      https://play-lh.googleusercontent.com/EGemoI2N...   \n",
      "...                                                  ...   \n",
      "16782  https://play-lh.googleusercontent.com/a-/ALV-U...   \n",
      "16783  https://play-lh.googleusercontent.com/a-/ALV-U...   \n",
      "16784  https://play-lh.googleusercontent.com/a/ACg8oc...   \n",
      "16785  https://play-lh.googleusercontent.com/a/ACg8oc...   \n",
      "16786  https://play-lh.googleusercontent.com/a-/ALV-U...   \n",
      "\n",
      "                                                 content  thumbsUpCount  \\\n",
      "0      I have the same recurring tasks to do every da...             11   \n",
      "1      Instead of shopping around, I downloaded Any.d...              8   \n",
      "2      Why does every once in a while... out of the b...              6   \n",
      "3      Terrible Update! This app used to be perfect f...              5   \n",
      "4      This app is deceivingly terrible. There are so...             20   \n",
      "...                                                  ...            ...   \n",
      "16782                                      Excellent app              0   \n",
      "16783  I love it. Easy to use. Make my life organize....              9   \n",
      "16784  I love how I could make plans and check the ap...              0   \n",
      "16785                           Exactly what I needed!!!              0   \n",
      "16786                                        Very good 👍              0   \n",
      "\n",
      "      reviewCreatedVersion                at  \\\n",
      "0                 4.16.6.2  22-07-2020 13:13   \n",
      "1                      NaN  08-12-2020 06:24   \n",
      "2                 5.11.1.2  09-07-2021 13:51   \n",
      "3                      NaN  16-11-2020 01:50   \n",
      "4                 4.14.0.4  31-01-2019 16:19   \n",
      "...                    ...               ...   \n",
      "16782                6.1.4  05-07-2023 02:08   \n",
      "16783                6.1.4  29-06-2023 15:27   \n",
      "16784                6.1.3  28-06-2023 01:04   \n",
      "16785                6.1.3  23-06-2023 13:14   \n",
      "16786                6.1.3  21-06-2023 03:16   \n",
      "\n",
      "                                            replyContent         repliedAt  \\\n",
      "0      Our team will be happy to look into it for you...  23-07-2020 16:32   \n",
      "1      We are not aware of any issues with randomized...  10-12-2020 09:38   \n",
      "2      Sorry to hear that! It sounds like you might h...  11-07-2021 11:16   \n",
      "3      Please note that the tasks in your tasks view ...  17-11-2020 09:31   \n",
      "4      Hi Ryan, it sounds like you are describing our...  05-02-2019 11:52   \n",
      "...                                                  ...               ...   \n",
      "16782                                                NaN               NaN   \n",
      "16783                                                NaN               NaN   \n",
      "16784                                                NaN               NaN   \n",
      "16785                                                NaN               NaN   \n",
      "16786                                                NaN               NaN   \n",
      "\n",
      "      appVersion      sortOrder              appId  \n",
      "0       4.16.6.2  most_relevant          com.anydo  \n",
      "1            NaN  most_relevant          com.anydo  \n",
      "2       5.11.1.2  most_relevant          com.anydo  \n",
      "3            NaN  most_relevant          com.anydo  \n",
      "4       4.14.0.4  most_relevant          com.anydo  \n",
      "...          ...            ...                ...  \n",
      "16782      6.1.4         newest  com.appxy.planner  \n",
      "16783      6.1.4         newest  com.appxy.planner  \n",
      "16784      6.1.3         newest  com.appxy.planner  \n",
      "16785      6.1.3         newest  com.appxy.planner  \n",
      "16786      6.1.3         newest  com.appxy.planner  \n",
      "\n",
      "[16787 rows x 12 columns]\n"
     ]
    }
   ],
   "source": [
    "# Specifying the file path\n",
    "file_path = \"reviews.csv\"\n",
    "\n",
    "# Loading the CSV file into a DataFrame\n",
    "df = pd.read_csv(file_path)\n",
    "\n",
    "# Displaying the DataFrame\n",
    "print(df)"
   ]
  },
  {
   "cell_type": "code",
   "execution_count": 3,
   "id": "d28e8c90",
   "metadata": {},
   "outputs": [],
   "source": [
    "# Storing the 'content' column in the 'content' variable\n",
    "\n",
    "content = df['content']"
   ]
  },
  {
   "cell_type": "code",
   "execution_count": 4,
   "id": "2edcdc56",
   "metadata": {
    "scrolled": true
   },
   "outputs": [
    {
     "data": {
      "text/plain": [
       "0        I have the same recurring tasks to do every da...\n",
       "1        Instead of shopping around, I downloaded Any.d...\n",
       "2        Why does every once in a while... out of the b...\n",
       "3        Terrible Update! This app used to be perfect f...\n",
       "4        This app is deceivingly terrible. There are so...\n",
       "                               ...                        \n",
       "16782                                        Excellent app\n",
       "16783    I love it. Easy to use. Make my life organize....\n",
       "16784    I love how I could make plans and check the ap...\n",
       "16785                             Exactly what I needed!!!\n",
       "16786                                          Very good 👍\n",
       "Name: content, Length: 16787, dtype: object"
      ]
     },
     "execution_count": 4,
     "metadata": {},
     "output_type": "execute_result"
    }
   ],
   "source": [
    "content"
   ]
  },
  {
   "cell_type": "markdown",
   "id": "c48c7141",
   "metadata": {},
   "source": [
    "## Converting to lowercase"
   ]
  },
  {
   "cell_type": "code",
   "execution_count": 5,
   "id": "ff7cccfe",
   "metadata": {
    "scrolled": true
   },
   "outputs": [
    {
     "name": "stdout",
     "output_type": "stream",
     "text": [
      "0        i have the same recurring tasks to do every da...\n",
      "1        instead of shopping around, i downloaded any.d...\n",
      "2        why does every once in a while... out of the b...\n",
      "3        terrible update! this app used to be perfect f...\n",
      "4        this app is deceivingly terrible. there are so...\n",
      "                               ...                        \n",
      "16782                                        excellent app\n",
      "16783    i love it. easy to use. make my life organize....\n",
      "16784    i love how i could make plans and check the ap...\n",
      "16785                             exactly what i needed!!!\n",
      "16786                                          very good 👍\n",
      "Name: content, Length: 16787, dtype: object\n"
     ]
    }
   ],
   "source": [
    "content = content.str.lower()\n",
    "\n",
    "\n",
    "print(content)                                          # Displaying the updated data after converting to lowercase"
   ]
  },
  {
   "cell_type": "markdown",
   "id": "bf56af9f",
   "metadata": {},
   "source": [
    "## Removing Links"
   ]
  },
  {
   "cell_type": "code",
   "execution_count": 6,
   "id": "bc28fc14",
   "metadata": {},
   "outputs": [
    {
     "name": "stdout",
     "output_type": "stream",
     "text": [
      "0        i have the same recurring tasks to do every da...\n",
      "1        instead of shopping around, i downloaded any.d...\n",
      "2        why does every once in a while... out of the b...\n",
      "3        terrible update! this app used to be perfect f...\n",
      "4        this app is deceivingly terrible. there are so...\n",
      "                               ...                        \n",
      "16782                                        excellent app\n",
      "16783    i love it. easy to use. make my life organize....\n",
      "16784    i love how i could make plans and check the ap...\n",
      "16785                             exactly what i needed!!!\n",
      "16786                                          very good 👍\n",
      "Name: content, Length: 16787, dtype: object\n"
     ]
    }
   ],
   "source": [
    "import re\n",
    "# Using re module\n",
    "# Defining a function to remove links \n",
    "def remove_links(text):\n",
    "    url_pattern = r'https?://\\S+|www\\.\\S+'              # Defining the regular expression pattern that matches with URLs\n",
    "    return re.sub(url_pattern, '', text)                # Substituting the URLs with an empty string\n",
    "\n",
    "\n",
    "content = content.apply(remove_links)                   # Applying the remove_links function to the 'content'\n",
    "\n",
    "\n",
    "print(content)                                          # Displaying the updated data with no links\n"
   ]
  },
  {
   "cell_type": "markdown",
   "id": "50b11f36",
   "metadata": {},
   "source": [
    "## Remove next lines"
   ]
  },
  {
   "cell_type": "code",
   "execution_count": 7,
   "id": "c3d26eef",
   "metadata": {},
   "outputs": [
    {
     "name": "stdout",
     "output_type": "stream",
     "text": [
      "0        i have the same recurring tasks to do every da...\n",
      "1        instead of shopping around, i downloaded any.d...\n",
      "2        why does every once in a while... out of the b...\n",
      "3        terrible update! this app used to be perfect f...\n",
      "4        this app is deceivingly terrible. there are so...\n",
      "                               ...                        \n",
      "16782                                        excellent app\n",
      "16783    i love it. easy to use. make my life organize....\n",
      "16784    i love how i could make plans and check the ap...\n",
      "16785                             exactly what i needed!!!\n",
      "16786                                          very good 👍\n",
      "Name: content, Length: 16787, dtype: object\n"
     ]
    }
   ],
   "source": [
    "content = content.str.replace('\\n', '')                 # Replacing newline characters with an empty string\n",
    "\n",
    "\n",
    "print(content)                                          # Displaying the updated data"
   ]
  },
  {
   "cell_type": "markdown",
   "id": "5b9a2196",
   "metadata": {},
   "source": [
    "## Removing words containing numbers"
   ]
  },
  {
   "cell_type": "code",
   "execution_count": 8,
   "id": "bf4639a9",
   "metadata": {
    "scrolled": true
   },
   "outputs": [
    {
     "name": "stdout",
     "output_type": "stream",
     "text": [
      "0        i have the same recurring tasks to do every da...\n",
      "1        instead of shopping around, i downloaded any.d...\n",
      "2        why does every once in a while... out of the b...\n",
      "3        terrible update! this app used to be perfect f...\n",
      "4        this app is deceivingly terrible. there are so...\n",
      "                               ...                        \n",
      "16782                                        excellent app\n",
      "16783    i love it. easy to use. make my life organize....\n",
      "16784    i love how i could make plans and check the ap...\n",
      "16785                             exactly what i needed!!!\n",
      "16786                                          very good 👍\n",
      "Name: content, Length: 16787, dtype: object\n"
     ]
    }
   ],
   "source": [
    "\n",
    "content = content.apply(lambda x: re.sub(r'\\b\\w*\\d\\w*\\b', '', x)) \n",
    "# The regular expression r'\\b\\w*\\d\\w*\\b' matches words that contain at least one digit within them.\n",
    "# These are replaced with an empty string\n",
    "\n",
    "print(content)                                          # Display the updated data\n"
   ]
  },
  {
   "cell_type": "markdown",
   "id": "c05e2162",
   "metadata": {},
   "source": [
    "## Removing extra spaces"
   ]
  },
  {
   "cell_type": "code",
   "execution_count": 9,
   "id": "07779daf",
   "metadata": {},
   "outputs": [
    {
     "name": "stdout",
     "output_type": "stream",
     "text": [
      "0        i have the same recurring tasks to do every da...\n",
      "1        instead of shopping around, i downloaded any.d...\n",
      "2        why does every once in a while... out of the b...\n",
      "3        terrible update! this app used to be perfect f...\n",
      "4        this app is deceivingly terrible. there are so...\n",
      "                               ...                        \n",
      "16782                                        excellent app\n",
      "16783    i love it. easy to use. make my life organize....\n",
      "16784    i love how i could make plans and check the ap...\n",
      "16785                             exactly what i needed!!!\n",
      "16786                                          very good 👍\n",
      "Name: content, Length: 16787, dtype: object\n"
     ]
    }
   ],
   "source": [
    "# Defining a function to remove extra spaces\n",
    "def remove_extra_spaces(text):\n",
    "    return re.sub(r'\\s+', ' ', text).strip() \n",
    "\n",
    "# The regular expression pattern r'\\s+' matches with whitespace characters\n",
    "# These are replaced with an empty string\n",
    "\n",
    "# Applying the remove_extra_spaces function to the content \n",
    "content = content.apply(remove_extra_spaces)\n",
    "\n",
    "\n",
    "print(content)                                          # Displaying the updated data\n"
   ]
  },
  {
   "cell_type": "markdown",
   "id": "075a831d",
   "metadata": {},
   "source": [
    "## Removing Special Characters"
   ]
  },
  {
   "cell_type": "code",
   "execution_count": 10,
   "id": "c399b1c6",
   "metadata": {},
   "outputs": [
    {
     "name": "stdout",
     "output_type": "stream",
     "text": [
      "0        i have the same recurring tasks to do every da...\n",
      "1        instead of shopping around i downloaded anydo ...\n",
      "2        why does every once in a while out of the blue...\n",
      "3        terrible update this app used to be perfect fo...\n",
      "4        this app is deceivingly terrible there are som...\n",
      "                               ...                        \n",
      "16782                                        excellent app\n",
      "16783    i love it easy to use make my life organize i ...\n",
      "16784    i love how i could make plans and check the ap...\n",
      "16785                                exactly what i needed\n",
      "16786                                           very good \n",
      "Name: content, Length: 16787, dtype: object\n"
     ]
    }
   ],
   "source": [
    "content= content.apply(lambda x: re.sub(r'[^a-zA-Z0-9\\s]', '', x))\n",
    "# The regular expression r'[^a-zA-Z0-9\\s]' matches any character that is not a letter \n",
    "# These are replaced with an empty string\n",
    "\n",
    "\n",
    "\n",
    "print(content)                                         # Displaying the updated data\n"
   ]
  },
  {
   "cell_type": "markdown",
   "id": "e2d9d5c1",
   "metadata": {},
   "source": [
    "## Removal of Stop words"
   ]
  },
  {
   "cell_type": "markdown",
   "id": "3b41d810",
   "metadata": {},
   "source": [
    "### 1.Using nltk"
   ]
  },
  {
   "cell_type": "code",
   "execution_count": 11,
   "id": "a36d5139",
   "metadata": {},
   "outputs": [
    {
     "name": "stdout",
     "output_type": "stream",
     "text": [
      "0        recurring tasks every day need todolist remind...\n",
      "1        instead shopping around downloaded anydo widel...\n",
      "2        every blue app asks update acct emails everyth...\n",
      "3        terrible update app used perfect planning cert...\n",
      "4        app deceivingly terrible really nice design fe...\n",
      "                               ...                        \n",
      "16782                                        excellent app\n",
      "16783    love easy use make life organize love way put ...\n",
      "16784    love could make plans check app almost everyda...\n",
      "16785                                       exactly needed\n",
      "16786                                                 good\n",
      "Name: content, Length: 16787, dtype: object\n"
     ]
    }
   ],
   "source": [
    "import nltk\n",
    "from nltk.corpus import stopwords\n",
    "\n",
    "\n",
    "# nltk.download('stopwords')                          # Downloading the stopwords corpus\n",
    "\n",
    "\n",
    "stop_words = set(stopwords.words('english'))\n",
    "content = content.apply(lambda x: ' '.join([word for word in x.split() if word.lower() not in stop_words]))\n",
    "# iterating over each word in the text (x.split())\n",
    "# keeping only those words that are not in the set of stop words (word.lower() not in stop_words)\n",
    "\n",
    "\n",
    "\n",
    "print(content)                                        # Displaying the updated data\n"
   ]
  },
  {
   "cell_type": "markdown",
   "id": "00ec9cba",
   "metadata": {},
   "source": [
    "### 2.Using gensim"
   ]
  },
  {
   "cell_type": "code",
   "execution_count": 12,
   "id": "9ae67eff",
   "metadata": {},
   "outputs": [
    {
     "name": "stdout",
     "output_type": "stream",
     "text": [
      "0        recurring tasks day need todolist reminder buz...\n",
      "1        instead shopping downloaded anydo widely setti...\n",
      "2        blue app asks update acct emails task list los...\n",
      "3        terrible update app perfect planning certain t...\n",
      "4        app deceivingly terrible nice design features ...\n",
      "                               ...                        \n",
      "16782                                        excellent app\n",
      "16783    love easy use life organize love way photos lo...\n",
      "16784                   love plans check app everyday love\n",
      "16785                                       exactly needed\n",
      "16786                                                 good\n",
      "Name: content, Length: 16787, dtype: object\n"
     ]
    }
   ],
   "source": [
    "from gensim.parsing.preprocessing import remove_stopwords\n",
    "\n",
    "# Removing stop words from the 'content'\n",
    "content = content.apply(lambda x: remove_stopwords(x))\n",
    "\n",
    "\n",
    "print(content)                                         # Displaying the updated data\n"
   ]
  },
  {
   "cell_type": "markdown",
   "id": "5217b4b1",
   "metadata": {},
   "source": [
    "## Stemming"
   ]
  },
  {
   "cell_type": "code",
   "execution_count": 13,
   "id": "534daadd",
   "metadata": {},
   "outputs": [
    {
     "name": "stdout",
     "output_type": "stream",
     "text": [
      "0        recur task day need todolist remind buzz time ...\n",
      "1        instead shop download anydo wide set day sched...\n",
      "2        blue app ask updat acct email task list lost t...\n",
      "3        terribl updat app perfect plan certain task co...\n",
      "4        app deceivingli terribl nice design featur lik...\n",
      "                               ...                        \n",
      "16782                                            excel app\n",
      "16783    love easi use life organ love way photo locat ...\n",
      "16784                    love plan check app everyday love\n",
      "16785                                         exactli need\n",
      "16786                                                 good\n",
      "Name: content, Length: 16787, dtype: object\n"
     ]
    }
   ],
   "source": [
    "from nltk.stem import PorterStemmer\n",
    "\n",
    "\n",
    "# nltk.download('punkt')                              # Downloading NLTK resources \n",
    "\n",
    "porter = PorterStemmer()                              # initializing a PorterStemmer object \n",
    "\n",
    "content = content.apply(lambda x: ' '.join([porter.stem(word) for word in x.split()]))\n",
    "# iterating over each word in the text (x.split()), applying stemming using porter.stem(word)\n",
    "\n",
    "\n",
    "\n",
    "print(content)                                        # Displaying the updated data\n"
   ]
  },
  {
   "cell_type": "markdown",
   "id": "c02a57d5",
   "metadata": {},
   "source": [
    "## Lemmatization"
   ]
  },
  {
   "cell_type": "code",
   "execution_count": 14,
   "id": "1f3558fe",
   "metadata": {
    "scrolled": false
   },
   "outputs": [
    {
     "name": "stdout",
     "output_type": "stream",
     "text": [
      "0        recur task day need todolist remind buzz time ...\n",
      "1        instead shop download anydo wide set day sched...\n",
      "2        blue app ask updat acct email task list lost t...\n",
      "3        terribl updat app perfect plan certain task co...\n",
      "4        app deceivingli terribl nice design featur lik...\n",
      "                               ...                        \n",
      "16782                                            excel app\n",
      "16783    love easi use life organ love way photo locat ...\n",
      "16784                    love plan check app everyday love\n",
      "16785                                         exactli need\n",
      "16786                                                 good\n",
      "Name: content, Length: 16787, dtype: object\n"
     ]
    }
   ],
   "source": [
    "from nltk.stem import WordNetLemmatizer\n",
    "\n",
    "\n",
    "# nltk.download('punkt')                                 # Downloading NLTK resources  \n",
    "# nltk.download('wordnet')\n",
    "# nltk.download('omw-1.4')\n",
    "\n",
    "\n",
    "lemmatizer = WordNetLemmatizer()                         # initializing a WordNetLemmatizer object\n",
    "\n",
    "content = content.apply(lambda x: ' '.join([lemmatizer.lemmatize(word) for word in nltk.word_tokenize(x)]))\n",
    "# iterating over each word in the text (x.split()), applying lemmatization using lemmatizer.lemmatize(word).\n",
    "\n",
    "\n",
    "\n",
    "print(content)                                           # Displaying the updated data\n"
   ]
  },
  {
   "cell_type": "markdown",
   "id": "ccaa2e55",
   "metadata": {},
   "source": [
    "## Data after preprocessing"
   ]
  },
  {
   "cell_type": "code",
   "execution_count": 15,
   "id": "6dd2add5",
   "metadata": {},
   "outputs": [
    {
     "data": {
      "text/plain": [
       "0        recur task day need todolist remind buzz time ...\n",
       "1        instead shop download anydo wide set day sched...\n",
       "2        blue app ask updat acct email task list lost t...\n",
       "3        terribl updat app perfect plan certain task co...\n",
       "4        app deceivingli terribl nice design featur lik...\n",
       "                               ...                        \n",
       "16782                                            excel app\n",
       "16783    love easi use life organ love way photo locat ...\n",
       "16784                    love plan check app everyday love\n",
       "16785                                         exactli need\n",
       "16786                                                 good\n",
       "Name: content, Length: 16787, dtype: object"
      ]
     },
     "execution_count": 15,
     "metadata": {},
     "output_type": "execute_result"
    }
   ],
   "source": [
    "content"
   ]
  },
  {
   "cell_type": "code",
   "execution_count": null,
   "id": "5f7a9b89",
   "metadata": {},
   "outputs": [],
   "source": []
  }
 ],
 "metadata": {
  "kernelspec": {
   "display_name": "Python 3 (ipykernel)",
   "language": "python",
   "name": "python3"
  },
  "language_info": {
   "codemirror_mode": {
    "name": "ipython",
    "version": 3
   },
   "file_extension": ".py",
   "mimetype": "text/x-python",
   "name": "python",
   "nbconvert_exporter": "python",
   "pygments_lexer": "ipython3",
   "version": "3.9.12"
  }
 },
 "nbformat": 4,
 "nbformat_minor": 5
}
