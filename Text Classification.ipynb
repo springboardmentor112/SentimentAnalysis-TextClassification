{
 "cells": [
  {
   "cell_type": "markdown",
   "id": "bae60a4b-beec-478d-a29a-da63515d4117",
   "metadata": {},
   "source": [
    "### Import Libraries"
   ]
  },
  {
   "cell_type": "code",
   "execution_count": 1,
   "id": "56e8de6d-a8f6-44b6-8a5a-5eefe9e1d288",
   "metadata": {},
   "outputs": [],
   "source": [
    "import pandas as pd\n",
    "import re\n",
    "import nltk\n",
    "from nltk.corpus import stopwords\n",
    "from nltk.stem import PorterStemmer\n",
    "from nltk.tokenize import word_tokenize\n",
    "import spacy\n",
    "import matplotlib.pyplot as plt\n",
    "import seaborn as sns\n",
    "from sklearn.model_selection import train_test_split \n",
    "from imblearn.over_sampling import SMOTE\n",
    "from collections import Counter\n",
    "from sklearn.pipeline import Pipeline\n",
    "from sklearn.feature_extraction.text import TfidfVectorizer\n",
    "from sklearn.linear_model import LogisticRegression\n",
    "from sklearn.svm import SVC\n",
    "from sklearn.naive_bayes import MultinomialNB\n",
    "from sklearn.ensemble import RandomForestClassifier\n",
    "from sklearn.metrics import accuracy_score, classification_report, confusion_matrix\n",
    "from sklearn.model_selection import GridSearchCV\n",
    "from sklearn.datasets import make_classification"
   ]
  },
  {
   "cell_type": "markdown",
   "id": "8f66899c-12bf-4a98-ad53-a7df58135d8e",
   "metadata": {},
   "source": [
    "### Data Collection & Preprocessing"
   ]
  },
  {
   "cell_type": "code",
   "execution_count": 2,
   "id": "262d41b6-f077-4394-9c7e-564ed634798c",
   "metadata": {},
   "outputs": [],
   "source": [
    "data=pd.read_csv('Emotions_training.csv')"
   ]
  },
  {
   "cell_type": "code",
   "execution_count": 3,
   "id": "18d75a0b-5814-48e8-a732-854d5dc01e6d",
   "metadata": {},
   "outputs": [],
   "source": [
    "# Filtering out rows where the 'text' column is not null\n",
    "data = data[pd.notnull(data['text'])]"
   ]
  },
  {
   "cell_type": "code",
   "execution_count": 4,
   "id": "044ebd1d-79b1-46e3-8d84-9e7456889e63",
   "metadata": {},
   "outputs": [],
   "source": [
    "# Calculating the total number of words in the 'text' column\n",
    "total_words = data['text'].str.split().str.len().sum()"
   ]
  },
  {
   "cell_type": "code",
   "execution_count": 5,
   "id": "6fde6142-8a01-42b2-9a93-96d0a7935ed2",
   "metadata": {},
   "outputs": [
    {
     "name": "stdout",
     "output_type": "stream",
     "text": [
      "306661\n"
     ]
    }
   ],
   "source": [
    "print(total_words)"
   ]
  },
  {
   "cell_type": "markdown",
   "id": "01600504-8f19-40fb-a2fd-13f39178e183",
   "metadata": {},
   "source": [
    "#### Lower Case"
   ]
  },
  {
   "cell_type": "code",
   "execution_count": 6,
   "id": "7f26a497-80ae-430e-96d7-defb96a00ed5",
   "metadata": {},
   "outputs": [],
   "source": [
    "data[\"text\"] = data[\"text\"].str.lower()"
   ]
  },
  {
   "cell_type": "markdown",
   "id": "524b2861-9ea6-4984-89b2-dd8aa3f2f5cc",
   "metadata": {},
   "source": [
    "#### Removing links"
   ]
  },
  {
   "cell_type": "code",
   "execution_count": 7,
   "id": "3db7d70d-0b78-447e-8b6a-d9cdb058d768",
   "metadata": {},
   "outputs": [],
   "source": [
    "data['text'] = data['text'].fillna('')"
   ]
  },
  {
   "cell_type": "code",
   "execution_count": 8,
   "id": "863b88da-3475-474b-a868-dbb8ebf257d3",
   "metadata": {},
   "outputs": [],
   "source": [
    "no_url=[]\n",
    "for sentence in data[\"text\"]:\n",
    "    no_url.append(re.sub(r\"http\\S+\", \"\", sentence))\n",
    "data[\"text\"]=no_url"
   ]
  },
  {
   "cell_type": "markdown",
   "id": "42089499-4b10-4e54-a224-074b25da4558",
   "metadata": {},
   "source": [
    "#### Remove next lines"
   ]
  },
  {
   "cell_type": "code",
   "execution_count": 9,
   "id": "efe2fa6e-694e-4af9-8a06-f982ff99f35f",
   "metadata": {},
   "outputs": [],
   "source": [
    "data['text'] = data['text'].str.replace('\\n', '')"
   ]
  },
  {
   "cell_type": "markdown",
   "id": "18b415a1-2325-4f40-afd7-08c9588623dd",
   "metadata": {},
   "source": [
    "#### Removing words containing numbers"
   ]
  },
  {
   "cell_type": "code",
   "execution_count": 10,
   "id": "25690b89-f96d-4ab1-a725-89b6798dc283",
   "metadata": {},
   "outputs": [],
   "source": [
    "pattern = r'\\b\\w*\\d\\w*\\b'\n",
    "def remove_words_with_numbers(text):\n",
    "    return re.sub(pattern, '', text)\n",
    "data['text'] = data['text'].apply(remove_words_with_numbers)"
   ]
  },
  {
   "cell_type": "markdown",
   "id": "50f18370-0e1e-4ee1-91a8-8bef857ac272",
   "metadata": {},
   "source": [
    "#### Removing extra spaces"
   ]
  },
  {
   "cell_type": "code",
   "execution_count": 11,
   "id": "2119a4eb-bf8c-4faa-a999-5f2343f3959c",
   "metadata": {},
   "outputs": [],
   "source": [
    "data['text'] = data['text'].apply(lambda x: ' '.join(x.split()))"
   ]
  },
  {
   "cell_type": "markdown",
   "id": "b04bbe12-05c5-4ff3-8cee-beb4f785de83",
   "metadata": {},
   "source": [
    "#### Removing special characters"
   ]
  },
  {
   "cell_type": "code",
   "execution_count": 12,
   "id": "7e9b5243-3262-4d94-8ba0-cd75c5564dc3",
   "metadata": {},
   "outputs": [],
   "source": [
    "no_special_char=[]\n",
    "for sentence in data.text:\n",
    "    no_special_char.append(re.sub('[^A-Za-z0-9]+', ' ', sentence))\n",
    "data[\"text\"]=no_special_char"
   ]
  },
  {
   "cell_type": "markdown",
   "id": "9e67b962-cea4-4c55-a998-03eb77f40665",
   "metadata": {},
   "source": [
    "#### Removal of stop words"
   ]
  },
  {
   "cell_type": "code",
   "execution_count": 13,
   "id": "576b59ac-dac5-46f8-b9d1-2eb89540990c",
   "metadata": {},
   "outputs": [],
   "source": [
    "stop_words = set(stopwords.words('english'))"
   ]
  },
  {
   "cell_type": "code",
   "execution_count": 14,
   "id": "d5d67a7a-5e5a-463f-a836-213708498862",
   "metadata": {},
   "outputs": [],
   "source": [
    "def remove_stopwords(text):\n",
    "    tokens = text.split()\n",
    "    filtered_text = [word for word in tokens if word.lower() not in stop_words]\n",
    "    return ' '.join(filtered_text)"
   ]
  },
  {
   "cell_type": "code",
   "execution_count": 15,
   "id": "2a685353-cde5-4de9-8ce3-a7b1c6576041",
   "metadata": {},
   "outputs": [],
   "source": [
    "data['text'] = data['text'].apply(remove_stopwords)"
   ]
  },
  {
   "cell_type": "markdown",
   "id": "e29ebdd3-f948-48ec-bfdd-81cd54bb13ed",
   "metadata": {},
   "source": [
    "#### Stemming"
   ]
  },
  {
   "cell_type": "code",
   "execution_count": 16,
   "id": "8cc47a65-8483-4b91-8f63-b7292470743a",
   "metadata": {},
   "outputs": [],
   "source": [
    "stemmer = PorterStemmer()"
   ]
  },
  {
   "cell_type": "code",
   "execution_count": 17,
   "id": "82c5a515-35a1-444d-b75e-ea56df57ad38",
   "metadata": {},
   "outputs": [],
   "source": [
    "def stem_text(text):\n",
    "    # Initialize Porter Stemmer\n",
    "    stemmer = PorterStemmer()\n",
    "    # Tokenize the text and apply stemming to each word\n",
    "    stemmed_words = [stemmer.stem(word) for word in word_tokenize(text)]\n",
    "    # Join the stemmed words back into a sentence\n",
    "    stemmed_text = ' '.join(stemmed_words)\n",
    "    return stemmed_text"
   ]
  },
  {
   "cell_type": "code",
   "execution_count": 18,
   "id": "5d90f4fb-3ade-4d4f-a319-c9ebdfd5c046",
   "metadata": {},
   "outputs": [],
   "source": [
    "data['text'] = data['text'].apply(stem_text)"
   ]
  },
  {
   "cell_type": "markdown",
   "id": "27006e82-7577-4ed5-a663-503e863a1023",
   "metadata": {},
   "source": [
    "#### Lemmatization"
   ]
  },
  {
   "cell_type": "code",
   "execution_count": 19,
   "id": "bd191259-24ba-45a9-a42b-7687369a325a",
   "metadata": {},
   "outputs": [],
   "source": [
    "nlp = spacy.load('en_core_web_sm')"
   ]
  },
  {
   "cell_type": "code",
   "execution_count": 20,
   "id": "a94102b4-f3e4-40b2-a0be-ab05023d85ad",
   "metadata": {},
   "outputs": [],
   "source": [
    "def lemmatize_text(text):\n",
    "    # Process the text with spaCy\n",
    "    doc = nlp(text)\n",
    "    # Extract lemmatized tokens\n",
    "    lemmatized_tokens = [token.lemma_ for token in doc]\n",
    "    # Join the lemmatized tokens into a sentence\n",
    "    lemmatized_text = ' '.join(lemmatized_tokens)\n",
    "    return lemmatized_text"
   ]
  },
  {
   "cell_type": "code",
   "execution_count": 21,
   "id": "92198e68-1da7-4eab-8ce1-c883c78e45d0",
   "metadata": {},
   "outputs": [],
   "source": [
    "data['text'] = data['text'].apply(lemmatize_text)"
   ]
  },
  {
   "cell_type": "code",
   "execution_count": 22,
   "id": "9bbad684-ba1c-47a3-973a-abba1f81da7a",
   "metadata": {},
   "outputs": [
    {
     "data": {
      "text/plain": [
       "0                                   do not feel humili\n",
       "1    go feel hopeless damn hope around someon care ...\n",
       "2                I m grab minut post feel greedi wrong\n",
       "3       ever feel nostalg fireplac know still properti\n",
       "4                                         feel grouchi\n",
       "Name: text, dtype: object"
      ]
     },
     "execution_count": 22,
     "metadata": {},
     "output_type": "execute_result"
    }
   ],
   "source": [
    "data['text'].head()"
   ]
  },
  {
   "cell_type": "code",
   "execution_count": 23,
   "id": "1f3c0d9f-1283-4aad-b82e-1d4425713aac",
   "metadata": {},
   "outputs": [],
   "source": [
    "# Calculating the total number of words in the 'text' column after text preprocessing\n",
    "total_words = data['text'].str.split().str.len().sum()"
   ]
  },
  {
   "cell_type": "code",
   "execution_count": 24,
   "id": "5d0b1812-97f8-4804-8538-779d36533004",
   "metadata": {},
   "outputs": [
    {
     "name": "stdout",
     "output_type": "stream",
     "text": [
      "154623\n"
     ]
    }
   ],
   "source": [
    "print(total_words)"
   ]
  },
  {
   "cell_type": "code",
   "execution_count": 25,
   "id": "c0732231-6fae-47c0-9e79-684e525b2f3d",
   "metadata": {},
   "outputs": [
    {
     "data": {
      "text/plain": [
       "label\n",
       "1    5362\n",
       "0    4666\n",
       "3    2159\n",
       "4    1937\n",
       "2    1304\n",
       "5     572\n",
       "Name: count, dtype: int64"
      ]
     },
     "execution_count": 25,
     "metadata": {},
     "output_type": "execute_result"
    }
   ],
   "source": [
    "#Class Distribution\n",
    "data['label'].value_counts()"
   ]
  },
  {
   "cell_type": "code",
   "execution_count": 26,
   "id": "cd69dafa-70df-4793-b7f0-26f7564ab5c1",
   "metadata": {},
   "outputs": [
    {
     "data": {
      "text/plain": [
       "<Axes: xlabel='label', ylabel='count'>"
      ]
     },
     "execution_count": 26,
     "metadata": {},
     "output_type": "execute_result"
    },
    {
     "data": {
      "image/png": "[encoded data removed]",
      "text/plain": [
       "<Figure size 640x480 with 1 Axes>"
      ]
     },
     "metadata": {},
     "output_type": "display_data"
    }
   ],
   "source": [
    "sns.countplot(x='label',data=data)"
   ]
  },
  {
   "cell_type": "markdown",
   "id": "8f63bfac-05ff-476c-9181-1638a7926efc",
   "metadata": {},
   "source": [
    "### Vectorization"
   ]
  },
  {
   "cell_type": "code",
   "execution_count": 27,
   "id": "fd28355b-93ff-4aae-8855-804d5d9e63cf",
   "metadata": {},
   "outputs": [],
   "source": [
    "vectorizer = TfidfVectorizer()\n",
    "X = vectorizer.fit_transform(data['text'])\n",
    "y = data['label']"
   ]
  },
  {
   "cell_type": "markdown",
   "id": "21c7ec46-4cd8-455b-8574-397f5d824341",
   "metadata": {},
   "source": [
    "### Split the data into test and train sets"
   ]
  },
  {
   "cell_type": "code",
   "execution_count": 28,
   "id": "a247e7e7-c6b2-471d-a056-f254002d8565",
   "metadata": {},
   "outputs": [],
   "source": [
    "X_train_temp, X_test, y_train_temp, y_test = train_test_split(X, y, test_size = 0.2, random_state = 42) "
   ]
  },
  {
   "cell_type": "code",
   "execution_count": 29,
   "id": "18e1557d-f019-46b5-bfb0-f4bdefadd6a0",
   "metadata": {},
   "outputs": [],
   "source": [
    "X_train,X_val,y_train,y_val=train_test_split(X_train_temp,y_train_temp,test_size=0.10,random_state=42)"
   ]
  },
  {
   "cell_type": "markdown",
   "id": "9507a7f3-5319-4f62-8395-740b4db930f9",
   "metadata": {},
   "source": [
    "### SMOTE Algorithm"
   ]
  },
  {
   "cell_type": "code",
   "execution_count": 30,
   "id": "525082c1-320a-4d2c-b893-2a0771c22e43",
   "metadata": {},
   "outputs": [
    {
     "name": "stdout",
     "output_type": "stream",
     "text": [
      "Befor: Counter({1: 3915, 0: 3347, 3: 1572, 4: 1382, 2: 896, 5: 408})\n"
     ]
    }
   ],
   "source": [
    "counter=Counter(y_train)\n",
    "print('Befor:',counter)"
   ]
  },
  {
   "cell_type": "code",
   "execution_count": 31,
   "id": "54f3f45a-292c-429d-bc3a-16af52b53772",
   "metadata": {},
   "outputs": [],
   "source": [
    "sm = SMOTE(random_state = 2) \n",
    "X_train_sm, y_train_sm = sm.fit_resample(X_train, y_train)"
   ]
  },
  {
   "cell_type": "code",
   "execution_count": 32,
   "id": "a54510e9-2311-43af-8daa-64f85e0b47c1",
   "metadata": {},
   "outputs": [],
   "source": [
    "counter=Counter(y_train_sm)"
   ]
  },
  {
   "cell_type": "code",
   "execution_count": 33,
   "id": "3c328ba9-c497-4050-a09a-42a3fa11c99a",
   "metadata": {},
   "outputs": [
    {
     "name": "stdout",
     "output_type": "stream",
     "text": [
      "After: Counter({0: 3915, 1: 3915, 3: 3915, 5: 3915, 4: 3915, 2: 3915})\n"
     ]
    }
   ],
   "source": [
    "print('After:',counter)"
   ]
  },
  {
   "cell_type": "code",
   "execution_count": 34,
   "id": "cbd2ea89-4abf-4744-870b-352157d79499",
   "metadata": {},
   "outputs": [],
   "source": [
    "class_names = {0:'Sadness', 1:'Joy', 2:'Love', 3:'Anger', 4:'Fear', 5:'Surprise'}"
   ]
  },
  {
   "cell_type": "markdown",
   "id": "570649c5-5f75-40ce-8b52-dbd0ff0e2032",
   "metadata": {},
   "source": [
    "### Random Forest"
   ]
  },
  {
   "cell_type": "code",
   "execution_count": 35,
   "id": "a08840e7-4091-40b4-9c4e-3c7a0ee028b0",
   "metadata": {},
   "outputs": [
    {
     "data": {
      "text/html": [
       "<style>#sk-container-id-1 {color: black;background-color: white;}#sk-container-id-1 pre{padding: 0;}#sk-container-id-1 div.sk-toggleable {background-color: white;}#sk-container-id-1 label.sk-toggleable__label {cursor: pointer;display: block;width: 100%;margin-bottom: 0;padding: 0.3em;box-sizing: border-box;text-align: center;}#sk-container-id-1 label.sk-toggleable__label-arrow:before {content: \"▸\";float: left;margin-right: 0.25em;color: #696969;}#sk-container-id-1 label.sk-toggleable__label-arrow:hover:before {color: black;}#sk-container-id-1 div.sk-estimator:hover label.sk-toggleable__label-arrow:before {color: black;}#sk-container-id-1 div.sk-toggleable__content {max-height: 0;max-width: 0;overflow: hidden;text-align: left;background-color: #f0f8ff;}#sk-container-id-1 div.sk-toggleable__content pre {margin: 0.2em;color: black;border-radius: 0.25em;background-color: #f0f8ff;}#sk-container-id-1 input.sk-toggleable__control:checked~div.sk-toggleable__content {max-height: 200px;max-width: 100%;overflow: auto;}#sk-container-id-1 input.sk-toggleable__control:checked~label.sk-toggleable__label-arrow:before {content: \"▾\";}#sk-container-id-1 div.sk-estimator input.sk-toggleable__control:checked~label.sk-toggleable__label {background-color: #d4ebff;}#sk-container-id-1 div.sk-label input.sk-toggleable__control:checked~label.sk-toggleable__label {background-color: #d4ebff;}#sk-container-id-1 input.sk-hidden--visually {border: 0;clip: rect(1px 1px 1px 1px);clip: rect(1px, 1px, 1px, 1px);height: 1px;margin: -1px;overflow: hidden;padding: 0;position: absolute;width: 1px;}#sk-container-id-1 div.sk-estimator {font-family: monospace;background-color: #f0f8ff;border: 1px dotted black;border-radius: 0.25em;box-sizing: border-box;margin-bottom: 0.5em;}#sk-container-id-1 div.sk-estimator:hover {background-color: #d4ebff;}#sk-container-id-1 div.sk-parallel-item::after {content: \"\";width: 100%;border-bottom: 1px solid gray;flex-grow: 1;}#sk-container-id-1 div.sk-label:hover label.sk-toggleable__label {background-color: #d4ebff;}#sk-container-id-1 div.sk-serial::before {content: \"\";position: absolute;border-left: 1px solid gray;box-sizing: border-box;top: 0;bottom: 0;left: 50%;z-index: 0;}#sk-container-id-1 div.sk-serial {display: flex;flex-direction: column;align-items: center;background-color: white;padding-right: 0.2em;padding-left: 0.2em;position: relative;}#sk-container-id-1 div.sk-item {position: relative;z-index: 1;}#sk-container-id-1 div.sk-parallel {display: flex;align-items: stretch;justify-content: center;background-color: white;position: relative;}#sk-container-id-1 div.sk-item::before, #sk-container-id-1 div.sk-parallel-item::before {content: \"\";position: absolute;border-left: 1px solid gray;box-sizing: border-box;top: 0;bottom: 0;left: 50%;z-index: -1;}#sk-container-id-1 div.sk-parallel-item {display: flex;flex-direction: column;z-index: 1;position: relative;background-color: white;}#sk-container-id-1 div.sk-parallel-item:first-child::after {align-self: flex-end;width: 50%;}#sk-container-id-1 div.sk-parallel-item:last-child::after {align-self: flex-start;width: 50%;}#sk-container-id-1 div.sk-parallel-item:only-child::after {width: 0;}#sk-container-id-1 div.sk-dashed-wrapped {border: 1px dashed gray;margin: 0 0.4em 0.5em 0.4em;box-sizing: border-box;padding-bottom: 0.4em;background-color: white;}#sk-container-id-1 div.sk-label label {font-family: monospace;font-weight: bold;display: inline-block;line-height: 1.2em;}#sk-container-id-1 div.sk-label-container {text-align: center;}#sk-container-id-1 div.sk-container {/* jupyter's `normalize.less` sets `[hidden] { display: none; }` but bootstrap.min.css set `[hidden] { display: none !important; }` so we also need the `!important` here to be able to override the default hidden behavior on the sphinx rendered scikit-learn.org. See: https://github.com/scikit-learn/scikit-learn/issues/21755 */display: inline-block !important;position: relative;}#sk-container-id-1 div.sk-text-repr-fallback {display: none;}</style><div id=\"sk-container-id-1\" class=\"sk-top-container\"><div class=\"sk-text-repr-fallback\"><pre>RandomForestClassifier(random_state=42)</pre><b>In a Jupyter environment, please rerun this cell to show the HTML representation or trust the notebook. <br />On GitHub, the HTML representation is unable to render, please try loading this page with nbviewer.org.</b></div><div class=\"sk-container\" hidden><div class=\"sk-item\"><div class=\"sk-estimator sk-toggleable\"><input class=\"sk-toggleable__control sk-hidden--visually\" id=\"sk-estimator-id-1\" type=\"checkbox\" checked><label for=\"sk-estimator-id-1\" class=\"sk-toggleable__label sk-toggleable__label-arrow\">RandomForestClassifier</label><div class=\"sk-toggleable__content\"><pre>RandomForestClassifier(random_state=42)</pre></div></div></div></div></div>"
      ],
      "text/plain": [
       "RandomForestClassifier(random_state=42)"
      ]
     },
     "execution_count": 35,
     "metadata": {},
     "output_type": "execute_result"
    }
   ],
   "source": [
    "rf_classifier = RandomForestClassifier(n_estimators=100, random_state=42)\n",
    "rf_classifier.fit(X_train, y_train)"
   ]
  },
  {
   "cell_type": "code",
   "execution_count": 36,
   "id": "18d1a814-04e2-4ca6-9f65-f0099df73e07",
   "metadata": {},
   "outputs": [],
   "source": [
    "train_rf=rf_classifier.predict(X_train)\n",
    "test_rf = rf_classifier.predict(X_test)"
   ]
  },
  {
   "cell_type": "code",
   "execution_count": 37,
   "id": "ea9c120c-4e71-4479-bc8b-eb7126862257",
   "metadata": {},
   "outputs": [
    {
     "name": "stdout",
     "output_type": "stream",
     "text": [
      "Confusion Matrix for Train Dataset:\n",
      " [[3344    0    0    3    0    0]\n",
      " [   0 3912    3    0    0    0]\n",
      " [   0    7  889    0    0    0]\n",
      " [   4    0    0 1568    0    0]\n",
      " [   0    0    0    1 1377    4]\n",
      " [   0    0    0    0    2  406]]\n"
     ]
    }
   ],
   "source": [
    "train_rf_con= confusion_matrix(y_train, train_rf)\n",
    "print(\"Confusion Matrix for Train Dataset:\\n\", train_rf_con)"
   ]
  },
  {
   "cell_type": "code",
   "execution_count": 38,
   "id": "deb5a7af-8937-4448-8949-0751d5ab1942",
   "metadata": {},
   "outputs": [
    {
     "data": {
      "image/png": "[encoded data removed]",
      "text/plain": [
       "<Figure size 800x600 with 2 Axes>"
      ]
     },
     "metadata": {},
     "output_type": "display_data"
    }
   ],
   "source": [
    "plt.figure(figsize=(8, 6))\n",
    "sns.heatmap(train_rf_con, annot=True, fmt='d', cmap='rocket_r',xticklabels=class_names.values(),yticklabels=class_names.values())\n",
    "plt.title('Confusion Matrix for Train Dataset - Random Forest')\n",
    "plt.xlabel('Predicted Label')\n",
    "plt.ylabel('True Label')\n",
    "plt.show()"
   ]
  },
  {
   "cell_type": "code",
   "execution_count": 39,
   "id": "3ed75ab0-6d7a-4a79-8b98-848552c5b84d",
   "metadata": {},
   "outputs": [
    {
     "name": "stdout",
     "output_type": "stream",
     "text": [
      "Classification Report for Training Dataset:\n",
      "              precision    recall  f1-score   support\n",
      "\n",
      "     Sadness       1.00      1.00      1.00      3347\n",
      "         Joy       1.00      1.00      1.00      3915\n",
      "        Love       1.00      0.99      0.99       896\n",
      "       Anger       1.00      1.00      1.00      1572\n",
      "        Fear       1.00      1.00      1.00      1382\n",
      "    Surprise       0.99      1.00      0.99       408\n",
      "\n",
      "    accuracy                           1.00     11520\n",
      "   macro avg       1.00      1.00      1.00     11520\n",
      "weighted avg       1.00      1.00      1.00     11520\n",
      "\n"
     ]
    }
   ],
   "source": [
    "print(\"Classification Report for Training Dataset:\")\n",
    "print(classification_report(y_train,train_rf,target_names=class_names.values()))"
   ]
  },
  {
   "cell_type": "code",
   "execution_count": 40,
   "id": "df07bbf4-5030-40b6-9b25-64f3d0c7088f",
   "metadata": {},
   "outputs": [
    {
     "name": "stdout",
     "output_type": "stream",
     "text": [
      "Confusion Matrix for Test Dataset:\n",
      " [[824  46   9  42  19   6]\n",
      " [ 31 922  28  19  12   9]\n",
      " [  5 102 174   7   7   1]\n",
      " [ 18  29   2 365  12   1]\n",
      " [ 16  25   0  25 315  16]\n",
      " [  4   9   0   2  20  78]]\n"
     ]
    }
   ],
   "source": [
    "test_rf_con= confusion_matrix(y_test, test_rf)\n",
    "print(\"Confusion Matrix for Test Dataset:\\n\", test_rf_con)"
   ]
  },
  {
   "cell_type": "code",
   "execution_count": 41,
   "id": "4213baea-c11d-4ddb-8228-98d270285bda",
   "metadata": {},
   "outputs": [
    {
     "data": {
      "image/png": "[encoded data removed]",
      "text/plain": [
       "<Figure size 800x600 with 2 Axes>"
      ]
     },
     "metadata": {},
     "output_type": "display_data"
    }
   ],
   "source": [
    "plt.figure(figsize=(8, 6))\n",
    "sns.heatmap(test_rf_con, annot=True, fmt='d', cmap='rocket_r',xticklabels=class_names.values(),yticklabels=class_names.values())\n",
    "plt.title('Confusion Matrix for Test Dataset - Random Forest')\n",
    "plt.xlabel('Predicted Label')\n",
    "plt.ylabel('True Label')\n",
    "plt.show()"
   ]
  },
  {
   "cell_type": "code",
   "execution_count": 42,
   "id": "a741059e-d363-4575-9a32-ab381238e0f9",
   "metadata": {},
   "outputs": [
    {
     "name": "stdout",
     "output_type": "stream",
     "text": [
      "Classification Report for Test Dataset:\n",
      "              precision    recall  f1-score   support\n",
      "\n",
      "     Sadness       0.92      0.87      0.89       946\n",
      "         Joy       0.81      0.90      0.86      1021\n",
      "        Love       0.82      0.59      0.68       296\n",
      "       Anger       0.79      0.85      0.82       427\n",
      "        Fear       0.82      0.79      0.81       397\n",
      "    Surprise       0.70      0.69      0.70       113\n",
      "\n",
      "    accuracy                           0.84      3200\n",
      "   macro avg       0.81      0.78      0.79      3200\n",
      "weighted avg       0.84      0.84      0.83      3200\n",
      "\n"
     ]
    }
   ],
   "source": [
    "print(\"Classification Report for Test Dataset:\")\n",
    "print(classification_report(y_test,test_rf,target_names=class_names.values()))"
   ]
  },
  {
   "cell_type": "markdown",
   "id": "f94bfd32-ed75-496c-9439-ed167fe8b461",
   "metadata": {},
   "source": [
    "### Hyeperparameter Tuning"
   ]
  },
  {
   "cell_type": "code",
   "execution_count": 43,
   "id": "ffa6cda7-c858-43c0-998d-571c9adbe9dd",
   "metadata": {},
   "outputs": [],
   "source": [
    "rfc = RandomForestClassifier()"
   ]
  },
  {
   "cell_type": "code",
   "execution_count": 44,
   "id": "04f0fadc-bc00-4664-925a-d0e5ec82d80e",
   "metadata": {},
   "outputs": [],
   "source": [
    "param_grid={'n_estimators': [50, 100, 200],\n",
    "    'max_depth': [None, 5, 10],\n",
    "    'min_samples_split': [2, 5, 10],\n",
    "    'min_samples_leaf': [1, 2, 4] }"
   ]
  },
  {
   "cell_type": "code",
   "execution_count": 45,
   "id": "64a5b348-b504-42d1-9eba-935f48ed3a24",
   "metadata": {},
   "outputs": [],
   "source": [
    "rf_grid=GridSearchCV(estimator=rfc,param_grid=param_grid,cv=5,verbose=2,n_jobs=-1)"
   ]
  },
  {
   "cell_type": "code",
   "execution_count": null,
   "id": "3892b75c-75e0-49de-9bba-b46e39c6c881",
   "metadata": {},
   "outputs": [
    {
     "name": "stdout",
     "output_type": "stream",
     "text": [
      "Fitting 5 folds for each of 81 candidates, totalling 405 fits\n"
     ]
    }
   ],
   "source": [
    "rf_grid.fit(X_train,y_train)"
   ]
  },
  {
   "cell_type": "code",
   "execution_count": null,
   "id": "89f06894-6df2-4d4c-baaa-703375332291",
   "metadata": {},
   "outputs": [],
   "source": [
    "rf_grid.best_params_"
   ]
  },
  {
   "cell_type": "code",
   "execution_count": null,
   "id": "7a5c84c2-6345-4886-ad37-49aea6ad538a",
   "metadata": {},
   "outputs": [],
   "source": [
    "rf_grid.best_score_"
   ]
  },
  {
   "cell_type": "code",
   "execution_count": null,
   "id": "df79890a-ba66-4a2c-9152-9ba379bf5347",
   "metadata": {},
   "outputs": [],
   "source": [
    "\n",
    "\n",
    "\n"
   ]
  }
 ],
 "metadata": {
  "kernelspec": {
   "display_name": "Python 3 (ipykernel)",
   "language": "python",
   "name": "python3"
  },
  "language_info": {
   "codemirror_mode": {
    "name": "ipython",
    "version": 3
   },
   "file_extension": ".py",
   "mimetype": "text/x-python",
   "name": "python",
   "nbconvert_exporter": "python",
   "pygments_lexer": "ipython3",
   "version": "3.11.7"
  }
 },
 "nbformat": 4,
 "nbformat_minor": 5
}
